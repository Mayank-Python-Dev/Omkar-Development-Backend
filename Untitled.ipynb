{
 "cells": [
  {
   "cell_type": "code",
   "execution_count": 1,
   "id": "6322640d",
   "metadata": {},
   "outputs": [
    {
     "name": "stdout",
     "output_type": "stream",
     "text": [
      "/home/python-25/Desktop/Omkar-Development/source\n",
      "/home/python-25/Desktop/Omkar-Development/source\n"
     ]
    }
   ],
   "source": [
    "import os\n",
    "import django\n",
    "os.environ.setdefault('DJANGO_SETTINGS_MODULE', 'omkar_proj.settings')\n",
    "os.environ[\"DJANGO_ALLOW_ASYNC_UNSAFE\"] = \"true\"\n",
    "django.setup()"
   ]
  },
  {
   "cell_type": "code",
   "execution_count": 2,
   "id": "c997311d",
   "metadata": {},
   "outputs": [],
   "source": [
    "from warehouse.models import (\n",
    "    Company,\n",
    "    Property,\n",
    "    Gala\n",
    ")\n",
    "from django.db.models import (\n",
    "    OuterRef,\n",
    "    Count,\n",
    "    Prefetch,\n",
    "    Q,\n",
    "    Sum,\n",
    "    ExpressionWrapper,\n",
    "    IntegerField,\n",
    "    functions,\n",
    "    Value,\n",
    "    F\n",
    ")\n",
    "from contract.models import (\n",
    "    Contract,\n",
    "    Investor as ContractInvestor,\n",
    "    Rental as ContractRental,\n",
    "    Farmer as ContractFarmer\n",
    ")\n",
    "from account.models import (\n",
    "    Investor,\n",
    "    Rental,\n",
    "    Farmer\n",
    ")\n",
    "from service.models import LeaveGalaRequest\n",
    "from django_pandas.io import read_frame"
   ]
  },
  {
   "cell_type": "code",
   "execution_count": 17,
   "id": "9d665d38",
   "metadata": {},
   "outputs": [],
   "source": [
    "gala = Gala.objects.filter(warehouse__company__name=\"Omkar\").values(\"gala_investor_contract_detail__owner\",\"gala_rental_contract_detail__owner__username\",\"gala_area_size\")"
   ]
  },
  {
   "cell_type": "code",
   "execution_count": 18,
   "id": "d17cce16",
   "metadata": {},
   "outputs": [],
   "source": [
    "df = read_frame(gala)"
   ]
  },
  {
   "cell_type": "code",
   "execution_count": 19,
   "id": "db6e89ba",
   "metadata": {},
   "outputs": [
    {
     "data": {
      "text/html": [
       "<div>\n",
       "<style scoped>\n",
       "    .dataframe tbody tr th:only-of-type {\n",
       "        vertical-align: middle;\n",
       "    }\n",
       "\n",
       "    .dataframe tbody tr th {\n",
       "        vertical-align: top;\n",
       "    }\n",
       "\n",
       "    .dataframe thead th {\n",
       "        text-align: right;\n",
       "    }\n",
       "</style>\n",
       "<table border=\"1\" class=\"dataframe\">\n",
       "  <thead>\n",
       "    <tr style=\"text-align: right;\">\n",
       "      <th></th>\n",
       "      <th>gala_investor_contract_detail__owner</th>\n",
       "      <th>gala_rental_contract_detail__owner__username</th>\n",
       "      <th>gala_area_size</th>\n",
       "    </tr>\n",
       "  </thead>\n",
       "  <tbody>\n",
       "    <tr>\n",
       "      <th>0</th>\n",
       "      <td>None</td>\n",
       "      <td>None</td>\n",
       "      <td>0.00</td>\n",
       "    </tr>\n",
       "    <tr>\n",
       "      <th>1</th>\n",
       "      <td>None</td>\n",
       "      <td>None</td>\n",
       "      <td>0.00</td>\n",
       "    </tr>\n",
       "    <tr>\n",
       "      <th>2</th>\n",
       "      <td>None</td>\n",
       "      <td>admin</td>\n",
       "      <td>0.00</td>\n",
       "    </tr>\n",
       "    <tr>\n",
       "      <th>3</th>\n",
       "      <td>None</td>\n",
       "      <td>Ayan Farmer</td>\n",
       "      <td>0.00</td>\n",
       "    </tr>\n",
       "    <tr>\n",
       "      <th>4</th>\n",
       "      <td>None</td>\n",
       "      <td>None</td>\n",
       "      <td>0.00</td>\n",
       "    </tr>\n",
       "    <tr>\n",
       "      <th>5</th>\n",
       "      <td>None</td>\n",
       "      <td>None</td>\n",
       "      <td>0.00</td>\n",
       "    </tr>\n",
       "    <tr>\n",
       "      <th>6</th>\n",
       "      <td>None</td>\n",
       "      <td>Ayan Farmer</td>\n",
       "      <td>0.00</td>\n",
       "    </tr>\n",
       "    <tr>\n",
       "      <th>7</th>\n",
       "      <td>None</td>\n",
       "      <td>Ayan Farmer</td>\n",
       "      <td>0.00</td>\n",
       "    </tr>\n",
       "  </tbody>\n",
       "</table>\n",
       "</div>"
      ],
      "text/plain": [
       "  gala_investor_contract_detail__owner  \\\n",
       "0                                 None   \n",
       "1                                 None   \n",
       "2                                 None   \n",
       "3                                 None   \n",
       "4                                 None   \n",
       "5                                 None   \n",
       "6                                 None   \n",
       "7                                 None   \n",
       "\n",
       "  gala_rental_contract_detail__owner__username gala_area_size  \n",
       "0                                         None           0.00  \n",
       "1                                         None           0.00  \n",
       "2                                        admin           0.00  \n",
       "3                                  Ayan Farmer           0.00  \n",
       "4                                         None           0.00  \n",
       "5                                         None           0.00  \n",
       "6                                  Ayan Farmer           0.00  \n",
       "7                                  Ayan Farmer           0.00  "
      ]
     },
     "execution_count": 19,
     "metadata": {},
     "output_type": "execute_result"
    }
   ],
   "source": [
    "df"
   ]
  },
  {
   "cell_type": "code",
   "execution_count": null,
   "id": "8a3fe7a0",
   "metadata": {},
   "outputs": [],
   "source": []
  },
  {
   "cell_type": "code",
   "execution_count": 100,
   "id": "a266aa89",
   "metadata": {},
   "outputs": [],
   "source": [
    "get_rental_gala = ContractRental.objects.filter(\n",
    "                user_id=5\n",
    "                ).prefetch_related(\n",
    "                    'gala__user_gala_leave_request'\n",
    "                    ).values(\"gala__uid\",\"gala__gala_number\").annotate(\n",
    "                        leave_request_status  = F(\"gala__user_gala_leave_request__status\")\n",
    "                    ).filter(Q(leave_request_status = None) | Q(leave_request_status = \"Reject\"))"
   ]
  },
  {
   "cell_type": "code",
   "execution_count": 101,
   "id": "7e00b815",
   "metadata": {},
   "outputs": [],
   "source": [
    "df = read_frame(get_rental_gala)"
   ]
  },
  {
   "cell_type": "code",
   "execution_count": 102,
   "id": "f19a8e23",
   "metadata": {},
   "outputs": [
    {
     "data": {
      "text/html": [
       "<div>\n",
       "<style scoped>\n",
       "    .dataframe tbody tr th:only-of-type {\n",
       "        vertical-align: middle;\n",
       "    }\n",
       "\n",
       "    .dataframe tbody tr th {\n",
       "        vertical-align: top;\n",
       "    }\n",
       "\n",
       "    .dataframe thead th {\n",
       "        text-align: right;\n",
       "    }\n",
       "</style>\n",
       "<table border=\"1\" class=\"dataframe\">\n",
       "  <thead>\n",
       "    <tr style=\"text-align: right;\">\n",
       "      <th></th>\n",
       "      <th>gala__uid</th>\n",
       "      <th>gala__gala_number</th>\n",
       "      <th>leave_request_status</th>\n",
       "    </tr>\n",
       "  </thead>\n",
       "  <tbody>\n",
       "    <tr>\n",
       "      <th>0</th>\n",
       "      <td>3a686b64-fccc-432f-a331-03221a7f98de</td>\n",
       "      <td>OM3/1</td>\n",
       "      <td>None</td>\n",
       "    </tr>\n",
       "    <tr>\n",
       "      <th>1</th>\n",
       "      <td>32e6167c-5fab-4268-a26f-1547b94ceba4</td>\n",
       "      <td>12</td>\n",
       "      <td>None</td>\n",
       "    </tr>\n",
       "    <tr>\n",
       "      <th>2</th>\n",
       "      <td>7f635838-6e08-4dce-89e8-572f1d723dac</td>\n",
       "      <td>2</td>\n",
       "      <td>None</td>\n",
       "    </tr>\n",
       "    <tr>\n",
       "      <th>3</th>\n",
       "      <td>16b2b643-811b-4828-9a84-d41e957fca3d</td>\n",
       "      <td>1</td>\n",
       "      <td>None</td>\n",
       "    </tr>\n",
       "  </tbody>\n",
       "</table>\n",
       "</div>"
      ],
      "text/plain": [
       "                              gala__uid gala__gala_number leave_request_status\n",
       "0  3a686b64-fccc-432f-a331-03221a7f98de             OM3/1                 None\n",
       "1  32e6167c-5fab-4268-a26f-1547b94ceba4                12                 None\n",
       "2  7f635838-6e08-4dce-89e8-572f1d723dac                 2                 None\n",
       "3  16b2b643-811b-4828-9a84-d41e957fca3d                 1                 None"
      ]
     },
     "execution_count": 102,
     "metadata": {},
     "output_type": "execute_result"
    }
   ],
   "source": [
    "df"
   ]
  },
  {
   "cell_type": "code",
   "execution_count": 103,
   "id": "8a0c7570",
   "metadata": {},
   "outputs": [
    {
     "data": {
      "text/plain": [
       "<QuerySet [<Gala: OM4/1>, <Gala: OM3/2>, <Gala: OM3/1>, <Gala: 12>, <Gala: 67>, <Gala: 346346346>, <Gala: 2>, <Gala: 1>]>"
      ]
     },
     "execution_count": 103,
     "metadata": {},
     "output_type": "execute_result"
    }
   ],
   "source": [
    "Gala.objects.all()"
   ]
  },
  {
   "cell_type": "code",
   "execution_count": null,
   "id": "90475912",
   "metadata": {},
   "outputs": [],
   "source": []
  },
  {
   "cell_type": "code",
   "execution_count": null,
   "id": "c835bb3f",
   "metadata": {},
   "outputs": [],
   "source": []
  },
  {
   "cell_type": "code",
   "execution_count": null,
   "id": "f19ff7e9",
   "metadata": {},
   "outputs": [],
   "source": []
  },
  {
   "cell_type": "code",
   "execution_count": null,
   "id": "f06928c8",
   "metadata": {},
   "outputs": [],
   "source": []
  },
  {
   "cell_type": "code",
   "execution_count": null,
   "id": "a16e84e7",
   "metadata": {},
   "outputs": [],
   "source": []
  },
  {
   "cell_type": "code",
   "execution_count": null,
   "id": "2a9cc6d6",
   "metadata": {},
   "outputs": [],
   "source": []
  },
  {
   "cell_type": "code",
   "execution_count": null,
   "id": "da2add22",
   "metadata": {},
   "outputs": [],
   "source": []
  },
  {
   "cell_type": "code",
   "execution_count": null,
   "id": "1297fd8d",
   "metadata": {},
   "outputs": [],
   "source": []
  },
  {
   "cell_type": "code",
   "execution_count": null,
   "id": "9ba755f6",
   "metadata": {},
   "outputs": [],
   "source": []
  },
  {
   "cell_type": "code",
   "execution_count": null,
   "id": "f58f5f07",
   "metadata": {},
   "outputs": [],
   "source": []
  },
  {
   "cell_type": "code",
   "execution_count": null,
   "id": "de539644",
   "metadata": {},
   "outputs": [],
   "source": []
  },
  {
   "cell_type": "code",
   "execution_count": 4,
   "id": "da908625",
   "metadata": {},
   "outputs": [
    {
     "data": {
      "text/plain": [
       "<PolymorphicQuerySet [{'gala__uid': UUID('32e6167c-5fab-4268-a26f-1547b94ceba4'), 'gala__gala_number': '12', 'total_leave_request': 0}, {'gala__uid': UUID('3a686b64-fccc-432f-a331-03221a7f98de'), 'gala__gala_number': 'OM3/1', 'total_leave_request': 0}, {'gala__uid': UUID('7f635838-6e08-4dce-89e8-572f1d723dac'), 'gala__gala_number': '2', 'total_leave_request': 0}]>"
      ]
     },
     "execution_count": 4,
     "metadata": {},
     "output_type": "execute_result"
    }
   ],
   "source": [
    "get_rental_gala"
   ]
  },
  {
   "cell_type": "code",
   "execution_count": null,
   "id": "fca5fa1f",
   "metadata": {},
   "outputs": [],
   "source": []
  },
  {
   "cell_type": "code",
   "execution_count": null,
   "id": "4676d1b6",
   "metadata": {},
   "outputs": [],
   "source": []
  },
  {
   "cell_type": "code",
   "execution_count": null,
   "id": "4b84e56c",
   "metadata": {},
   "outputs": [],
   "source": []
  },
  {
   "cell_type": "code",
   "execution_count": null,
   "id": "fe2978a7",
   "metadata": {},
   "outputs": [],
   "source": []
  },
  {
   "cell_type": "code",
   "execution_count": 4,
   "id": "b1b5f87d",
   "metadata": {},
   "outputs": [],
   "source": [
    " get_property = Property.objects.filter(\n",
    "            company__name__iexact = \"Omkar\",is_allotted_to_farmer=False\n",
    "            ).values(\"uid\",\"property_name\").annotate(\n",
    "                total_galas = Gala.objects.filter(\n",
    "                    Q(is_allotted = True)|Q(is_allotted_to_rental = True),\n",
    "                    warehouse__uid=OuterRef(\"uid\")).values(\"warehouse__uid\").annotate(\n",
    "                    total_galas=ExpressionWrapper(\n",
    "                            Count(\"id\"),\n",
    "                            output_field=IntegerField(),\n",
    "                        )\n",
    "            ).values(\"total_galas\"))"
   ]
  },
  {
   "cell_type": "code",
   "execution_count": null,
   "id": "ca5093b6",
   "metadata": {},
   "outputs": [],
   "source": []
  },
  {
   "cell_type": "code",
   "execution_count": null,
   "id": "522c10fd",
   "metadata": {},
   "outputs": [],
   "source": []
  },
  {
   "cell_type": "code",
   "execution_count": 5,
   "id": "820cf13d",
   "metadata": {},
   "outputs": [],
   "source": [
    "get_rental_gala = ContractRental.objects.filter(user_id=5).values(\"gala__warehouse__uid\",\"gala__uid\")"
   ]
  },
  {
   "cell_type": "code",
   "execution_count": 20,
   "id": "6b380eac",
   "metadata": {},
   "outputs": [
    {
     "data": {
      "text/plain": [
       "<PolymorphicQuerySet [{'gala__uid': UUID('32e6167c-5fab-4268-a26f-1547b94ceba4'), 'total_leave_request': 0}, {'gala__uid': UUID('3a686b64-fccc-432f-a331-03221a7f98de'), 'total_leave_request': 0}, {'gala__uid': UUID('7f635838-6e08-4dce-89e8-572f1d723dac'), 'total_leave_request': 0}]>"
      ]
     },
     "execution_count": 20,
     "metadata": {},
     "output_type": "execute_result"
    }
   ],
   "source": [
    "ContractRental.objects.filter(user_id=5).prefetch_related('gala__user_gala_leave_request').values(\"gala__uid\").annotate(total_leave_request = Count(\"gala__user_gala_leave_request\")).filter(total_leave_request = 0)"
   ]
  },
  {
   "cell_type": "code",
   "execution_count": 16,
   "id": "4d64fabd",
   "metadata": {},
   "outputs": [
    {
     "data": {
      "text/plain": [
       "<PolymorphicQuerySet [<Rental: Leave_and_License>, <Rental: Leave_and_License>, <Rental: Leave_and_License>, <Rental: Leave_and_License>]>"
      ]
     },
     "execution_count": 16,
     "metadata": {},
     "output_type": "execute_result"
    }
   ],
   "source": [
    "Contract.objects.filter(Rental___user_id=5)"
   ]
  },
  {
   "cell_type": "code",
   "execution_count": 7,
   "id": "8e92779b",
   "metadata": {},
   "outputs": [
    {
     "data": {
      "text/plain": [
       "<PolymorphicQuerySet [{'rental_count': 1}, {'rental_count': 1}, {'rental_count': 1}, {'rental_count': 1}, {'rental_count': 0}, {'rental_count': 0}]>"
      ]
     },
     "execution_count": 7,
     "metadata": {},
     "output_type": "execute_result"
    }
   ],
   "source": [
    "Contract.objects.all().annotate(rental_count=Count('rental')).values('rental_count')"
   ]
  },
  {
   "cell_type": "code",
   "execution_count": 32,
   "id": "94223e3a",
   "metadata": {},
   "outputs": [
    {
     "data": {
      "text/plain": [
       "<PolymorphicQuerySet [{'gala__warehouse__uid': UUID('1ce2e3e4-e0fe-4afa-89eb-ce7c9389c00b'), 'gala__uid': UUID('3a686b64-fccc-432f-a331-03221a7f98de')}, {'gala__warehouse__uid': UUID('89e8ebf7-9e21-4300-aa03-5a96f419e498'), 'gala__uid': UUID('32e6167c-5fab-4268-a26f-1547b94ceba4')}, {'gala__warehouse__uid': UUID('690385b0-0e94-445a-b448-a18781846984'), 'gala__uid': UUID('7f635838-6e08-4dce-89e8-572f1d723dac')}, {'gala__warehouse__uid': UUID('690385b0-0e94-445a-b448-a18781846984'), 'gala__uid': UUID('16b2b643-811b-4828-9a84-d41e957fca3d')}]>"
      ]
     },
     "execution_count": 32,
     "metadata": {},
     "output_type": "execute_result"
    }
   ],
   "source": [
    "get_rental_gala"
   ]
  },
  {
   "cell_type": "code",
   "execution_count": null,
   "id": "fa9d95ec",
   "metadata": {},
   "outputs": [],
   "source": []
  },
  {
   "cell_type": "code",
   "execution_count": null,
   "id": "85aa7aa7",
   "metadata": {},
   "outputs": [],
   "source": []
  },
  {
   "cell_type": "code",
   "execution_count": 87,
   "id": "54f0a663",
   "metadata": {},
   "outputs": [],
   "source": [
    "get_property = Property.objects.filter(\n",
    "    company__name__iexact = \"Omkar\",is_allotted_to_farmer=False\n",
    ").values(\"uid\",\"property_name\").annotate(\n",
    "    total_galas = Gala.objects.filter(\n",
    "        Q(is_allotted = True)|Q(is_allotted_to_rental = True),\n",
    "        warehouse__uid=OuterRef(\"uid\")).values(\"warehouse__uid\").annotate(\n",
    "        total_galas=ExpressionWrapper(\n",
    "                Count(\"id\"),\n",
    "                output_field=IntegerField()\n",
    "            )\n",
    ").values(\"total_galas\"))"
   ]
  },
  {
   "cell_type": "code",
   "execution_count": 58,
   "id": "6c1c4478",
   "metadata": {},
   "outputs": [
    {
     "data": {
      "text/plain": [
       "<QuerySet [{'uid': UUID('5da14365-5149-405b-bd13-409515e7670a'), 'property_name': 'Omkar Warehouse 4', 'total_galas': None}, {'uid': UUID('1ce2e3e4-e0fe-4afa-89eb-ce7c9389c00b'), 'property_name': 'Omkar Warehouse 3', 'total_galas': 1}]>"
      ]
     },
     "execution_count": 58,
     "metadata": {},
     "output_type": "execute_result"
    }
   ],
   "source": [
    "get_property"
   ]
  },
  {
   "cell_type": "code",
   "execution_count": 27,
   "id": "4f5753d7",
   "metadata": {},
   "outputs": [
    {
     "data": {
      "text/plain": [
       "<QuerySet [<Gala: OM3/1>, <Gala: 12>, <Gala: 2>, <Gala: 1>]>"
      ]
     },
     "execution_count": 27,
     "metadata": {},
     "output_type": "execute_result"
    }
   ],
   "source": [
    "Gala.objects.filter(Q(is_allotted = True)|Q(is_allotted_to_rental = True),warehouse__uid=OuterRef(\"uid\"))"
   ]
  },
  {
   "cell_type": "code",
   "execution_count": null,
   "id": "26e1c43e",
   "metadata": {},
   "outputs": [],
   "source": [
    ")"
   ]
  },
  {
   "cell_type": "code",
   "execution_count": null,
   "id": "6767cf56",
   "metadata": {},
   "outputs": [],
   "source": [
    "sdklthg"
   ]
  },
  {
   "cell_type": "code",
   "execution_count": 113,
   "id": "1d74f0b3",
   "metadata": {},
   "outputs": [],
   "source": [
    "get_property = Property.objects.filter(\n",
    "    company__name__iexact = \"Omkar\",is_allotted_to_farmer=False\n",
    ").values(\"uid\",\"property_name\").annotate(\n",
    "    total_galas = Gala.objects.filter(\n",
    "        Q(is_allotted = True)|Q(is_allotted_to_rental = True),\n",
    "        warehouse__uid=OuterRef(\"uid\")).values(\"warehouse__uid\").annotate(\n",
    "        total_galas=ExpressionWrapper(\n",
    "                functions.Coalesce(Count(\"id\"),0),\n",
    "                output_field=IntegerField(),\n",
    "            )\n",
    ").values(\"total_galas\")).annotate(\n",
    "    total_number_of_galas = Gala.objects.filter(\n",
    "        is_allotted = False,is_allotted_to_rental = False,\n",
    "        warehouse__uid=OuterRef(\"uid\")).values(\"warehouse__uid\").annotate(\n",
    "        total_number_of_galas=ExpressionWrapper(\n",
    "                functions.Coalesce(Count(\"id\"),0),\n",
    "                output_field=IntegerField(),\n",
    "            )\n",
    ").values(\"total_number_of_galas\")).filter(total_galas__isnull = True,total_number_of_galas__gte = 1)"
   ]
  },
  {
   "cell_type": "code",
   "execution_count": 114,
   "id": "173d409c",
   "metadata": {},
   "outputs": [
    {
     "data": {
      "text/plain": [
       "<QuerySet [{'uid': UUID('5da14365-5149-405b-bd13-409515e7670a'), 'property_name': 'Omkar Warehouse 4', 'total_galas': None, 'total_number_of_galas': 1}]>"
      ]
     },
     "execution_count": 114,
     "metadata": {},
     "output_type": "execute_result"
    }
   ],
   "source": [
    "get_property"
   ]
  },
  {
   "cell_type": "code",
   "execution_count": 3,
   "id": "6023875e",
   "metadata": {},
   "outputs": [],
   "source": [
    "get_company_instance = Company.objects.filter(\n",
    "            name = \"Omkar\"\n",
    "            ).values(\"uid\",\"name\").annotate(\n",
    "            total_warehouse_count = Property.objects.filter(\n",
    "                company__uid = OuterRef(\"uid\")\n",
    "                ).values(\"id\").annotate(total_warehouse_count = Count(\"id\")).values(\"total_warehouse_count\"),\n",
    "            total_gala_count = Gala.objects.filter(warehouse__company__uid = OuterRef(\"uid\")\n",
    "            ).values(\"warehouse__company__uid\").annotate(total_gala_count=Count(\"id\")).values(\"total_gala_count\"),\n",
    "            total_rental_count = Rental.objects.filter(belong_to__uid = OuterRef(\"uid\")\n",
    "            ).values(\"belong_to__uid\").annotate(total_rental_count=Count(\"id\")).values(\"total_rental_count\"),\n",
    "            total_investor_count = Investor.objects.filter(belong_to__uid = OuterRef(\"uid\")\n",
    "            ).values(\"belong_to__uid\").annotate(total_investor_count=Count(\"id\")).values(\"total_investor_count\"),\n",
    "            total_farmer_count = Farmer.objects.filter(belong_to__uid = OuterRef(\"uid\")\n",
    "            ).values(\"belong_to__uid\").annotate(total_farmer_count=Count(\"id\")).values(\"total_farmer_count\"),\n",
    "            total_remaining_gala_count = Gala.objects.filter(warehouse__company__uid=OuterRef(\"uid\"),\n",
    "          is_allotted_to_farmer=False,\n",
    "          is_allotted_to_rental=False,\n",
    "          is_allotted=False\n",
    "            ).values(\"warehouse__company__uid\"\n",
    "                ).annotate(total_remaining_gala_count=Count(\"id\")\n",
    "                                                ).values(\"total_remaining_gala_count\")\n",
    ")"
   ]
  },
  {
   "cell_type": "code",
   "execution_count": 86,
   "id": "176395d8",
   "metadata": {},
   "outputs": [
    {
     "data": {
      "text/plain": [
       "<QuerySet [{'uid': UUID('e39f63e5-950c-4144-9184-ca9ba40239cd'), 'name': 'Omkar', 'total_warehouse_count': 1, 'total_gala_count': 8, 'total_rental_count': 1, 'total_investor_count': 1, 'total_farmer_count': 1, 'total_remaining_gala_count': 2}]>"
      ]
     },
     "execution_count": 86,
     "metadata": {},
     "output_type": "execute_result"
    }
   ],
   "source": [
    "get_company_instance"
   ]
  },
  {
   "cell_type": "code",
   "execution_count": 87,
   "id": "0f21354c",
   "metadata": {},
   "outputs": [
    {
     "data": {
      "text/plain": [
       "<QuerySet [{'total_gala': 8}]>"
      ]
     },
     "execution_count": 87,
     "metadata": {},
     "output_type": "execute_result"
    }
   ],
   "source": [
    "Gala.objects.filter(warehouse__company__name=\"Omkar\").values(\"warehouse__company__uid\").annotate(total_gala=Count(\"id\")).values(\"total_gala\")"
   ]
  },
  {
   "cell_type": "code",
   "execution_count": 88,
   "id": "5bc7e4a1",
   "metadata": {},
   "outputs": [],
   "source": [
    "property_qs = Property.objects.filter(\n",
    "            company__name__iexact = \"Omkar\",\n",
    "            is_allotted_to_farmer=False,\n",
    ").values(\"uid\",\"property_name\",\"is_allotted_to_farmer\",\"get_gala__is_allotted\",\"get_gala__is_allotted_to_rental\",\"get_gala__is_allotted_to_farmer\")"
   ]
  },
  {
   "cell_type": "code",
   "execution_count": 89,
   "id": "f8053500",
   "metadata": {},
   "outputs": [
    {
     "data": {
      "text/plain": [
       "<QuerySet [{'uid': UUID('5da14365-5149-405b-bd13-409515e7670a'), 'property_name': 'Omkar Warehouse 4', 'is_allotted_to_farmer': False, 'get_gala__is_allotted': False, 'get_gala__is_allotted_to_rental': False, 'get_gala__is_allotted_to_farmer': False}, {'uid': UUID('1ce2e3e4-e0fe-4afa-89eb-ce7c9389c00b'), 'property_name': 'Omkar Warehouse 3', 'is_allotted_to_farmer': False, 'get_gala__is_allotted': False, 'get_gala__is_allotted_to_rental': True, 'get_gala__is_allotted_to_farmer': False}, {'uid': UUID('1ce2e3e4-e0fe-4afa-89eb-ce7c9389c00b'), 'property_name': 'Omkar Warehouse 3', 'is_allotted_to_farmer': False, 'get_gala__is_allotted': False, 'get_gala__is_allotted_to_rental': False, 'get_gala__is_allotted_to_farmer': False}]>"
      ]
     },
     "execution_count": 89,
     "metadata": {},
     "output_type": "execute_result"
    }
   ],
   "source": [
    "property_qs"
   ]
  },
  {
   "cell_type": "code",
   "execution_count": 113,
   "id": "29d10706",
   "metadata": {},
   "outputs": [],
   "source": [
    "from django_pandas.io import read_frame"
   ]
  },
  {
   "cell_type": "code",
   "execution_count": 114,
   "id": "577ad08b",
   "metadata": {},
   "outputs": [],
   "source": [
    "df = read_frame(property_qs)"
   ]
  },
  {
   "cell_type": "code",
   "execution_count": 115,
   "id": "499e0386",
   "metadata": {},
   "outputs": [
    {
     "data": {
      "text/html": [
       "<div>\n",
       "<style scoped>\n",
       "    .dataframe tbody tr th:only-of-type {\n",
       "        vertical-align: middle;\n",
       "    }\n",
       "\n",
       "    .dataframe tbody tr th {\n",
       "        vertical-align: top;\n",
       "    }\n",
       "\n",
       "    .dataframe thead th {\n",
       "        text-align: right;\n",
       "    }\n",
       "</style>\n",
       "<table border=\"1\" class=\"dataframe\">\n",
       "  <thead>\n",
       "    <tr style=\"text-align: right;\">\n",
       "      <th></th>\n",
       "      <th>uid</th>\n",
       "      <th>property_name</th>\n",
       "      <th>is_allotted_to_farmer</th>\n",
       "      <th>get_gala__is_allotted</th>\n",
       "      <th>get_gala__is_allotted_to_rental</th>\n",
       "      <th>get_gala__is_allotted_to_farmer</th>\n",
       "    </tr>\n",
       "  </thead>\n",
       "  <tbody>\n",
       "    <tr>\n",
       "      <th>0</th>\n",
       "      <td>5da14365-5149-405b-bd13-409515e7670a</td>\n",
       "      <td>Omkar Warehouse 4</td>\n",
       "      <td>False</td>\n",
       "      <td>False</td>\n",
       "      <td>False</td>\n",
       "      <td>False</td>\n",
       "    </tr>\n",
       "    <tr>\n",
       "      <th>1</th>\n",
       "      <td>1ce2e3e4-e0fe-4afa-89eb-ce7c9389c00b</td>\n",
       "      <td>Omkar Warehouse 3</td>\n",
       "      <td>False</td>\n",
       "      <td>False</td>\n",
       "      <td>True</td>\n",
       "      <td>False</td>\n",
       "    </tr>\n",
       "    <tr>\n",
       "      <th>2</th>\n",
       "      <td>1ce2e3e4-e0fe-4afa-89eb-ce7c9389c00b</td>\n",
       "      <td>Omkar Warehouse 3</td>\n",
       "      <td>False</td>\n",
       "      <td>False</td>\n",
       "      <td>False</td>\n",
       "      <td>False</td>\n",
       "    </tr>\n",
       "  </tbody>\n",
       "</table>\n",
       "</div>"
      ],
      "text/plain": [
       "                                    uid      property_name  \\\n",
       "0  5da14365-5149-405b-bd13-409515e7670a  Omkar Warehouse 4   \n",
       "1  1ce2e3e4-e0fe-4afa-89eb-ce7c9389c00b  Omkar Warehouse 3   \n",
       "2  1ce2e3e4-e0fe-4afa-89eb-ce7c9389c00b  Omkar Warehouse 3   \n",
       "\n",
       "   is_allotted_to_farmer  get_gala__is_allotted  \\\n",
       "0                  False                  False   \n",
       "1                  False                  False   \n",
       "2                  False                  False   \n",
       "\n",
       "   get_gala__is_allotted_to_rental  get_gala__is_allotted_to_farmer  \n",
       "0                            False                            False  \n",
       "1                             True                            False  \n",
       "2                            False                            False  "
      ]
     },
     "execution_count": 115,
     "metadata": {},
     "output_type": "execute_result"
    }
   ],
   "source": [
    "df"
   ]
  },
  {
   "cell_type": "code",
   "execution_count": 116,
   "id": "c9e6b1ac",
   "metadata": {},
   "outputs": [],
   "source": [
    "filt = (df['get_gala__is_allotted_to_rental'] == True) | (df['get_gala__is_allotted'] == True)"
   ]
  },
  {
   "cell_type": "code",
   "execution_count": 118,
   "id": "40a42f0f",
   "metadata": {},
   "outputs": [],
   "source": [
    "new_df = df.loc[filt]"
   ]
  },
  {
   "cell_type": "code",
   "execution_count": 120,
   "id": "591ff58a",
   "metadata": {},
   "outputs": [
    {
     "data": {
      "text/plain": [
       "array(['Omkar Warehouse 3'], dtype=object)"
      ]
     },
     "execution_count": 120,
     "metadata": {},
     "output_type": "execute_result"
    }
   ],
   "source": []
  },
  {
   "cell_type": "code",
   "execution_count": 125,
   "id": "28495b43",
   "metadata": {},
   "outputs": [],
   "source": [
    "f2=df[~df['property_name'].isin(new_df['property_name'].unique())]"
   ]
  },
  {
   "cell_type": "code",
   "execution_count": 126,
   "id": "4925fdd1",
   "metadata": {},
   "outputs": [
    {
     "data": {
      "text/html": [
       "<div>\n",
       "<style scoped>\n",
       "    .dataframe tbody tr th:only-of-type {\n",
       "        vertical-align: middle;\n",
       "    }\n",
       "\n",
       "    .dataframe tbody tr th {\n",
       "        vertical-align: top;\n",
       "    }\n",
       "\n",
       "    .dataframe thead th {\n",
       "        text-align: right;\n",
       "    }\n",
       "</style>\n",
       "<table border=\"1\" class=\"dataframe\">\n",
       "  <thead>\n",
       "    <tr style=\"text-align: right;\">\n",
       "      <th></th>\n",
       "      <th>uid</th>\n",
       "      <th>property_name</th>\n",
       "      <th>is_allotted_to_farmer</th>\n",
       "      <th>get_gala__is_allotted</th>\n",
       "      <th>get_gala__is_allotted_to_rental</th>\n",
       "      <th>get_gala__is_allotted_to_farmer</th>\n",
       "    </tr>\n",
       "  </thead>\n",
       "  <tbody>\n",
       "    <tr>\n",
       "      <th>0</th>\n",
       "      <td>5da14365-5149-405b-bd13-409515e7670a</td>\n",
       "      <td>Omkar Warehouse 4</td>\n",
       "      <td>False</td>\n",
       "      <td>False</td>\n",
       "      <td>False</td>\n",
       "      <td>False</td>\n",
       "    </tr>\n",
       "  </tbody>\n",
       "</table>\n",
       "</div>"
      ],
      "text/plain": [
       "                                    uid      property_name  \\\n",
       "0  5da14365-5149-405b-bd13-409515e7670a  Omkar Warehouse 4   \n",
       "\n",
       "   is_allotted_to_farmer  get_gala__is_allotted  \\\n",
       "0                  False                  False   \n",
       "\n",
       "   get_gala__is_allotted_to_rental  get_gala__is_allotted_to_farmer  \n",
       "0                            False                            False  "
      ]
     },
     "execution_count": 126,
     "metadata": {},
     "output_type": "execute_result"
    }
   ],
   "source": [
    "f2"
   ]
  },
  {
   "cell_type": "code",
   "execution_count": 131,
   "id": "7fcd78bf",
   "metadata": {},
   "outputs": [],
   "source": [
    "f2 = f2.iloc[:,:2]"
   ]
  },
  {
   "cell_type": "code",
   "execution_count": 132,
   "id": "22ce81d0",
   "metadata": {},
   "outputs": [
    {
     "data": {
      "text/html": [
       "<div>\n",
       "<style scoped>\n",
       "    .dataframe tbody tr th:only-of-type {\n",
       "        vertical-align: middle;\n",
       "    }\n",
       "\n",
       "    .dataframe tbody tr th {\n",
       "        vertical-align: top;\n",
       "    }\n",
       "\n",
       "    .dataframe thead th {\n",
       "        text-align: right;\n",
       "    }\n",
       "</style>\n",
       "<table border=\"1\" class=\"dataframe\">\n",
       "  <thead>\n",
       "    <tr style=\"text-align: right;\">\n",
       "      <th></th>\n",
       "      <th>uid</th>\n",
       "      <th>property_name</th>\n",
       "    </tr>\n",
       "  </thead>\n",
       "  <tbody>\n",
       "    <tr>\n",
       "      <th>0</th>\n",
       "      <td>5da14365-5149-405b-bd13-409515e7670a</td>\n",
       "      <td>Omkar Warehouse 4</td>\n",
       "    </tr>\n",
       "  </tbody>\n",
       "</table>\n",
       "</div>"
      ],
      "text/plain": [
       "                                    uid      property_name\n",
       "0  5da14365-5149-405b-bd13-409515e7670a  Omkar Warehouse 4"
      ]
     },
     "execution_count": 132,
     "metadata": {},
     "output_type": "execute_result"
    }
   ],
   "source": [
    "f2"
   ]
  },
  {
   "cell_type": "code",
   "execution_count": 138,
   "id": "dd40d2ac",
   "metadata": {},
   "outputs": [],
   "source": [
    "from django.urls import reverse\n",
    "import urllib\n",
    "def build_url(*args, **kwargs):\n",
    "    get = kwargs.pop('get', {})\n",
    "    url = reverse(*args, **kwargs)\n",
    "    if get:\n",
    "        url += '?' + urllib.parse.urlencode(get)\n",
    "    return url"
   ]
  },
  {
   "cell_type": "code",
   "execution_count": 139,
   "id": "b5716c6d",
   "metadata": {},
   "outputs": [
    {
     "name": "stderr",
     "output_type": "stream",
     "text": [
      "/tmp/ipykernel_16894/1465284221.py:1: SettingWithCopyWarning: \n",
      "A value is trying to be set on a copy of a slice from a DataFrame.\n",
      "Try using .loc[row_indexer,col_indexer] = value instead\n",
      "\n",
      "See the caveats in the documentation: https://pandas.pydata.org/pandas-docs/stable/user_guide/indexing.html#returning-a-view-versus-a-copy\n",
      "  f2[\"warehouse_gala\"] = f2['uid'].apply(lambda x : build_url(\"get-owner-warehouse-galas\",get={\"company_type\":\"Omkar\"},kwargs={\"uuid\":x}))\n"
     ]
    }
   ],
   "source": [
    "f2[\"warehouse_gala\"] = f2['uid'].apply(lambda x : build_url(\"get-owner-warehouse-galas\",get={\"company_type\":\"Omkar\"},kwargs={\"uuid\":x}))"
   ]
  },
  {
   "cell_type": "code",
   "execution_count": 142,
   "id": "2a708033",
   "metadata": {},
   "outputs": [
    {
     "data": {
      "text/plain": [
       "dict_values([{'uid': UUID('5da14365-5149-405b-bd13-409515e7670a'), 'property_name': 'Omkar Warehouse 4', 'warehouse_gala': '/admin-api/get-owner-warehouse-galas/5da14365-5149-405b-bd13-409515e7670a/?company_type=Omkar'}])"
      ]
     },
     "execution_count": 142,
     "metadata": {},
     "output_type": "execute_result"
    }
   ],
   "source": [
    "f2.to_dict(\"index\").values()"
   ]
  },
  {
   "cell_type": "code",
   "execution_count": null,
   "id": "f18e84a3",
   "metadata": {},
   "outputs": [],
   "source": []
  }
 ],
 "metadata": {
  "kernelspec": {
   "display_name": "Python 3 (ipykernel)",
   "language": "python",
   "name": "python3"
  },
  "language_info": {
   "codemirror_mode": {
    "name": "ipython",
    "version": 3
   },
   "file_extension": ".py",
   "mimetype": "text/x-python",
   "name": "python",
   "nbconvert_exporter": "python",
   "pygments_lexer": "ipython3",
   "version": "3.11.0rc1"
  }
 },
 "nbformat": 4,
 "nbformat_minor": 5
}
