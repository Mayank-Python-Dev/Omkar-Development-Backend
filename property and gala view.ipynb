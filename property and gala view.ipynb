{
 "cells": [
  {
   "cell_type": "code",
   "execution_count": 44,
   "id": "8b8748c2",
   "metadata": {},
   "outputs": [],
   "source": [
    "import os\n",
    "import django\n",
    "os.environ.setdefault('DJANGO_SETTINGS_MODULE', 'omkar_proj.settings')\n",
    "os.environ[\"DJANGO_ALLOW_ASYNC_UNSAFE\"] = \"true\"\n",
    "django.setup()"
   ]
  },
  {
   "cell_type": "code",
   "execution_count": 76,
   "id": "5c9d3648",
   "metadata": {},
   "outputs": [],
   "source": [
    "from account.models import (\n",
    "    Owner\n",
    ")\n",
    "from warehouse.models import (\n",
    "    Company,\n",
    "    Gala\n",
    ")\n",
    "from contract.models import (\n",
    "    Farmer as ContractFarmer\n",
    ")\n",
    "from django.db.models import Case, When, OuterRef,Count,Value,CharField"
   ]
  },
  {
   "cell_type": "code",
   "execution_count": 117,
   "id": "de64a0f0",
   "metadata": {},
   "outputs": [],
   "source": [
    "live_and_license_warehouse_qs = Company.objects.get(\n",
    "                name=\"Omkar\"\n",
    "            ).get_properties.all().values(\n",
    "                \"uid\", \"property_name\", \"city\",\"is_allotted_to_farmer\"\n",
    "            ).annotate(\n",
    "                total_gala_count = \n",
    "                Case(\n",
    "                    When(\n",
    "                        is_allotted_to_farmer = True,\n",
    "                        then=Gala.objects.filter(\n",
    "                            warehouse__uid=OuterRef(\"uid\"),is_allotted_to_farmer=True).values(\n",
    "                            \"warehouse__uid\"\n",
    "                    ).annotate(\n",
    "                        total_gala_count=Count(\"id\")).values(\n",
    "                            \"total_gala_count\"\n",
    "                    )),\n",
    "                    When(\n",
    "                        is_allotted_to_farmer = False,\n",
    "                        then=Gala.objects.filter(\n",
    "                            warehouse__uid=OuterRef(\"uid\")).values(\n",
    "                            \"warehouse__uid\"\n",
    "                    ).annotate(\n",
    "                        total_gala_count=Count(\"id\")).values(\n",
    "                            \"total_gala_count\"\n",
    "                    ))\n",
    "                ),\n",
    "                total_allotted_galas = Case(\n",
    "                    When(\n",
    "                        is_allotted_to_farmer = True,\n",
    "                        then=Gala.objects.filter(\n",
    "                            warehouse__uid=OuterRef(\"uid\"),is_allotted_to_farmer=True,is_allotted_to_rental=True).values(\n",
    "                            \"warehouse__uid\"\n",
    "                    ).annotate(\n",
    "                        total_gala_count=Count(\"id\")).values(\n",
    "                            \"total_gala_count\"\n",
    "                    )),\n",
    "                    When(\n",
    "                        is_allotted_to_farmer = False,\n",
    "                        then=Gala.objects.filter(\n",
    "                            warehouse__uid=OuterRef(\"uid\"),is_allotted_to_rental=True).values(\n",
    "                            \"warehouse__uid\"\n",
    "                    ).annotate(\n",
    "                        total_gala_count=Count(\"id\")).values(\n",
    "                            \"total_gala_count\"\n",
    "                    ))\n",
    "                ),\n",
    "                total_remaining_galas = Case(\n",
    "                    When(\n",
    "                        is_allotted_to_farmer = True,\n",
    "                        then=Gala.objects.filter(\n",
    "                            warehouse__uid=OuterRef(\"uid\"),is_allotted_to_farmer=True,is_allotted_to_rental=False).values(\n",
    "                            \"warehouse__uid\"\n",
    "                    ).annotate(\n",
    "                        total_gala_count=Count(\"id\")).values(\n",
    "                            \"total_gala_count\"\n",
    "                    )),\n",
    "                    When(\n",
    "                        is_allotted_to_farmer = False,\n",
    "                        then=Gala.objects.filter(\n",
    "                            warehouse__uid=OuterRef(\"uid\"),is_allotted_to_rental=False).values(\n",
    "                            \"warehouse__uid\"\n",
    "                    ).annotate(\n",
    "                        total_gala_count=Count(\"id\")).values(\n",
    "                            \"total_gala_count\"\n",
    "                    ))\n",
    "                ),\n",
    "                owner_type = Case(\n",
    "                    When(\n",
    "                        is_allotted_to_farmer = False,\n",
    "                        then=Value(Owner.objects.first().username)),\n",
    "                    When(\n",
    "                        is_allotted_to_farmer = True,\n",
    "                        then=ContractFarmer.objects.filter(warehouse__uid = OuterRef(\"uid\")).values(\"user__username\")),output_field = CharField()\n",
    "                    \n",
    "                ),\n",
    "                \n",
    "            )"
   ]
  },
  {
   "cell_type": "code",
   "execution_count": 119,
   "id": "2f6be545",
   "metadata": {},
   "outputs": [
    {
     "data": {
      "text/plain": [
       "<QuerySet [{'uid': UUID('e99c4212-8f6e-4bea-9efd-29518286c30e'), 'property_name': 'Omkar Warehouse 5', 'city': '...', 'is_allotted_to_farmer': False, 'total_gala_count': 2, 'total_allotted_galas': 1, 'total_remaining_galas': 1, 'owner_type': 'admin'}, {'uid': UUID('77d87c6a-afc4-4431-8930-cc92b360a975'), 'property_name': 'Omkar Warehouse 4', 'city': '...', 'is_allotted_to_farmer': False, 'total_gala_count': None, 'total_allotted_galas': None, 'total_remaining_galas': None, 'owner_type': 'admin'}, {'uid': UUID('e5abcbd1-1e6e-46d7-ab28-ea2bbf39e4bd'), 'property_name': 'Flip Kart', 'city': 'Indore', 'is_allotted_to_farmer': False, 'total_gala_count': 2, 'total_allotted_galas': 1, 'total_remaining_galas': 1, 'owner_type': 'admin'}, {'uid': UUID('0d3c64ce-79a8-4ed9-8634-c0e0a78a07cc'), 'property_name': 'Flip Kart', 'city': 'Indore', 'is_allotted_to_farmer': False, 'total_gala_count': None, 'total_allotted_galas': None, 'total_remaining_galas': None, 'owner_type': 'admin'}, {'uid': UUID('b33852ae-f34a-4bb1-982e-7083a23b376f'), 'property_name': 'Omkar Warehouse 1', 'city': '....', 'is_allotted_to_farmer': True, 'total_gala_count': 6, 'total_allotted_galas': 3, 'total_remaining_galas': 3, 'owner_type': 'Mayank12'}]>"
      ]
     },
     "execution_count": 119,
     "metadata": {},
     "output_type": "execute_result"
    }
   ],
   "source": [
    "live_and_license_warehouse_qs"
   ]
  },
  {
   "cell_type": "code",
   "execution_count": 102,
   "id": "50f856c8",
   "metadata": {},
   "outputs": [
    {
     "data": {
      "text/plain": [
       "'farmer'"
      ]
     },
     "execution_count": 102,
     "metadata": {},
     "output_type": "execute_result"
    }
   ],
   "source": [
    "ContractFarmer.objects.first().polymorphic_ctype.name"
   ]
  },
  {
   "cell_type": "code",
   "execution_count": null,
   "id": "d86d935f",
   "metadata": {},
   "outputs": [],
   "source": []
  }
 ],
 "metadata": {
  "kernelspec": {
   "display_name": "Python 3 (ipykernel)",
   "language": "python",
   "name": "python3"
  },
  "language_info": {
   "codemirror_mode": {
    "name": "ipython",
    "version": 3
   },
   "file_extension": ".py",
   "mimetype": "text/x-python",
   "name": "python",
   "nbconvert_exporter": "python",
   "pygments_lexer": "ipython3",
   "version": "3.10.6"
  },
  "vscode": {
   "interpreter": {
    "hash": "12dc728beadc8f22ac81ea6d70daf9d2316d74183c5fc9ac8a619a5f69454b2c"
   }
  }
 },
 "nbformat": 4,
 "nbformat_minor": 5
}
