{
 "cells": [
  {
   "cell_type": "code",
   "execution_count": 22,
   "id": "3cef4970",
   "metadata": {},
   "outputs": [],
   "source": [
    "import os\n",
    "import django\n",
    "os.environ.setdefault('DJANGO_SETTINGS_MODULE', 'omkar_proj.settings')\n",
    "os.environ[\"DJANGO_ALLOW_ASYNC_UNSAFE\"] = \"true\"\n",
    "django.setup()"
   ]
  },
  {
   "cell_type": "code",
   "execution_count": 36,
   "id": "cb8a31d0",
   "metadata": {},
   "outputs": [],
   "source": [
    "from contract.models import Rental as ContractRental,Investor as ContractInvestor\n",
    "from datetime import datetime,date,timedelta\n",
    "from dateutil.relativedelta import relativedelta\n",
    "from django.db.models.functions import ExtractMonth, ExtractYear,ExtractDay\n",
    "from django_pandas.io import read_frame\n",
    "import calendar\n",
    "import pandas as pd\n",
    "from django.db.models import Count,F,Q,Case,When,Value,OuterRef\n",
    "from django.db.models import IntegerField, ExpressionWrapper,DateField,DurationField,DateTimeField\n",
    "from django.utils import timezone\n",
    "from django.db.models.functions import Cast, ExtractDay, Trunc,Now,Extract\n",
    "from django_pandas.io import read_frame\n",
    "from warehouse.models import Company,Gala\n"
   ]
  },
  {
   "cell_type": "code",
   "execution_count": 37,
   "id": "e24566dc",
   "metadata": {},
   "outputs": [],
   "source": [
    "import calendar, pandas as pd\n",
    "from django.shortcuts import render\n",
    "from datetime import date\n",
    "from dateutil.relativedelta import relativedelta\n",
    "from django.db.models.functions import ExtractMonth, ExtractYear\n",
    "from django_pandas.io import read_frame\n",
    "from contract.models import Rental as ContractRental\n",
    "# from .utils import get_plot\n",
    "import matplotlib.pyplot as plt, base64\n",
    "from django.core.mail import EmailMessage\n",
    "from django.http import HttpResponse\n",
    "from django.core.mail import send_mail"
   ]
  },
  {
   "cell_type": "code",
   "execution_count": 60,
   "id": "ce1cc28e",
   "metadata": {},
   "outputs": [],
   "source": [
    "get_owner_warehouse_queryset = Company.objects.get(name=\"Omkar\").get_properties.filter(\n",
    "    Q(get_gala__gala_investor_contract_detail__owner__is_superuser=True) |\n",
    "    Q(get_gala__gala_rental_contract_detail__owner__is_superuser=True),\n",
    ").values(\"uid\", \"property_name\", \"property_type\", \"property_survey_number\",\n",
    "         \"address\", \"city\", \"state\", \"country\").distinct().annotate(\n",
    "\n",
    "    total_number_of_galas=Gala.objects.filter(\n",
    "                                    warehouse__uid=OuterRef(\"uid\"),\n",
    "                                    warehouse__company__name=\"Omkar\"\n",
    "                                              ).values('warehouse__uid'\n",
    "                                                       ).annotate(total_number_of_galas=Count(\"id\")).values(\"total_number_of_galas\"),\n",
    "\n",
    "    total_number_of_investors=ContractInvestor.objects.filter(\n",
    "                        gala__warehouse__uid=OuterRef(\"uid\"), \n",
    "                        owner__is_superuser=True,\n",
    "                        gala__warehouse__company__name__iexact=\"Omkar\"\n",
    "                                  ).values(\"gala__warehouse__uid\"\n",
    "                                           ).annotate(total_number_of_investors=Count(\"id\")).values(\"total_number_of_investors\"),\n",
    "\n",
    "    total_number_of_rentals=ContractRental.objects.filter(\n",
    "                                    Q(owner__is_superuser=True)|Q(owner__is_superuser=False),\n",
    "                                    gala__warehouse__uid=OuterRef(\"uid\"),\n",
    "                                    \n",
    "                                    gala__is_allotted_to_rental=True,\n",
    "                                    gala__warehouse__company__name__iexact=\"Omkar\"\n",
    "                                            ).values(\"gala__warehouse__uid\"\n",
    "                                                    ).annotate(total_number_of_rentals=Count(\"id\")).values(\"total_number_of_rentals\"),\n",
    "\n",
    "    total_number_of_remaining_galas=Gala.objects.filter(\n",
    "                                            warehouse__uid=OuterRef(\"uid\"),\n",
    "                                            is_allotted=False ,\n",
    "                                            is_allotted_to_rental=False,\n",
    "                                            is_allotted_to_farmer = False,\n",
    "                                            warehouse__company__name__iexact=\"Omkar\"\n",
    "                                                        ).values('warehouse__uid'\n",
    "                                                                 ).annotate(total_number_of_remaining_galas=Count(\"id\")).values(\"total_number_of_remaining_galas\"),\n",
    "\n",
    ")"
   ]
  },
  {
   "cell_type": "code",
   "execution_count": 61,
   "id": "84230112",
   "metadata": {},
   "outputs": [],
   "source": [
    "query_df = read_frame(get_owner_warehouse_queryset)"
   ]
  },
  {
   "cell_type": "code",
   "execution_count": 62,
   "id": "5211e206",
   "metadata": {},
   "outputs": [
    {
     "data": {
      "text/html": [
       "<div>\n",
       "<style scoped>\n",
       "    .dataframe tbody tr th:only-of-type {\n",
       "        vertical-align: middle;\n",
       "    }\n",
       "\n",
       "    .dataframe tbody tr th {\n",
       "        vertical-align: top;\n",
       "    }\n",
       "\n",
       "    .dataframe thead th {\n",
       "        text-align: right;\n",
       "    }\n",
       "</style>\n",
       "<table border=\"1\" class=\"dataframe\">\n",
       "  <thead>\n",
       "    <tr style=\"text-align: right;\">\n",
       "      <th></th>\n",
       "      <th>uid</th>\n",
       "      <th>property_name</th>\n",
       "      <th>property_type</th>\n",
       "      <th>property_survey_number</th>\n",
       "      <th>address</th>\n",
       "      <th>city</th>\n",
       "      <th>state</th>\n",
       "      <th>country</th>\n",
       "      <th>total_number_of_galas</th>\n",
       "      <th>total_number_of_investors</th>\n",
       "      <th>total_number_of_rentals</th>\n",
       "      <th>total_number_of_remaining_galas</th>\n",
       "    </tr>\n",
       "  </thead>\n",
       "  <tbody>\n",
       "    <tr>\n",
       "      <th>0</th>\n",
       "      <td>1ce2e3e4-e0fe-4afa-89eb-ce7c9389c00b</td>\n",
       "      <td>Omkar Warehouse 3</td>\n",
       "      <td>Cold Storage</td>\n",
       "      <td>3</td>\n",
       "      <td>..</td>\n",
       "      <td>..</td>\n",
       "      <td>..</td>\n",
       "      <td>..</td>\n",
       "      <td>2</td>\n",
       "      <td>1.0</td>\n",
       "      <td>1</td>\n",
       "      <td>1</td>\n",
       "    </tr>\n",
       "    <tr>\n",
       "      <th>1</th>\n",
       "      <td>690385b0-0e94-445a-b448-a18781846984</td>\n",
       "      <td>Omkar Warehouse 1</td>\n",
       "      <td>Peb</td>\n",
       "      <td>1</td>\n",
       "      <td>Atulya IT Park</td>\n",
       "      <td>Indore</td>\n",
       "      <td>Madha Pradesh</td>\n",
       "      <td>India</td>\n",
       "      <td>3</td>\n",
       "      <td>NaN</td>\n",
       "      <td>2</td>\n",
       "      <td>1</td>\n",
       "    </tr>\n",
       "  </tbody>\n",
       "</table>\n",
       "</div>"
      ],
      "text/plain": [
       "                                    uid      property_name property_type  \\\n",
       "0  1ce2e3e4-e0fe-4afa-89eb-ce7c9389c00b  Omkar Warehouse 3  Cold Storage   \n",
       "1  690385b0-0e94-445a-b448-a18781846984  Omkar Warehouse 1           Peb   \n",
       "\n",
       "  property_survey_number         address    city          state country  \\\n",
       "0                      3              ..      ..             ..      ..   \n",
       "1                      1  Atulya IT Park  Indore  Madha Pradesh   India   \n",
       "\n",
       "   total_number_of_galas  total_number_of_investors  total_number_of_rentals  \\\n",
       "0                      2                        1.0                        1   \n",
       "1                      3                        NaN                        2   \n",
       "\n",
       "   total_number_of_remaining_galas  \n",
       "0                                1  \n",
       "1                                1  "
      ]
     },
     "execution_count": 62,
     "metadata": {},
     "output_type": "execute_result"
    }
   ],
   "source": [
    "query_df"
   ]
  },
  {
   "cell_type": "code",
   "execution_count": null,
   "id": "b3269997",
   "metadata": {},
   "outputs": [],
   "source": []
  },
  {
   "cell_type": "code",
   "execution_count": null,
   "id": "20e794f4",
   "metadata": {},
   "outputs": [],
   "source": []
  },
  {
   "cell_type": "code",
   "execution_count": null,
   "id": "518038bb",
   "metadata": {},
   "outputs": [],
   "source": []
  },
  {
   "cell_type": "code",
   "execution_count": 4,
   "id": "4276a2ad",
   "metadata": {
    "scrolled": true
   },
   "outputs": [
    {
     "data": {
      "image/png": "[encoded data removed]",
      "text/plain": [
       "<Figure size 640x480 with 1 Axes>"
      ]
     },
     "metadata": {},
     "output_type": "display_data"
    },
    {
     "data": {
      "text/html": [
       "<div>\n",
       "<style scoped>\n",
       "    .dataframe tbody tr th:only-of-type {\n",
       "        vertical-align: middle;\n",
       "    }\n",
       "\n",
       "    .dataframe tbody tr th {\n",
       "        vertical-align: top;\n",
       "    }\n",
       "\n",
       "    .dataframe thead th {\n",
       "        text-align: right;\n",
       "    }\n",
       "</style>\n",
       "<table border=\"1\" class=\"dataframe\">\n",
       "  <thead>\n",
       "    <tr style=\"text-align: right;\">\n",
       "      <th></th>\n",
       "      <th>dates</th>\n",
       "      <th>month_name</th>\n",
       "      <th>month</th>\n",
       "      <th>month_year</th>\n",
       "    </tr>\n",
       "  </thead>\n",
       "  <tbody>\n",
       "    <tr>\n",
       "      <th>0</th>\n",
       "      <td>2023-04-30</td>\n",
       "      <td>Apr</td>\n",
       "      <td>4</td>\n",
       "      <td>2023</td>\n",
       "    </tr>\n",
       "    <tr>\n",
       "      <th>1</th>\n",
       "      <td>2023-05-31</td>\n",
       "      <td>May</td>\n",
       "      <td>5</td>\n",
       "      <td>2023</td>\n",
       "    </tr>\n",
       "    <tr>\n",
       "      <th>2</th>\n",
       "      <td>2023-06-30</td>\n",
       "      <td>Jun</td>\n",
       "      <td>6</td>\n",
       "      <td>2023</td>\n",
       "    </tr>\n",
       "    <tr>\n",
       "      <th>3</th>\n",
       "      <td>2023-07-31</td>\n",
       "      <td>Jul</td>\n",
       "      <td>7</td>\n",
       "      <td>2023</td>\n",
       "    </tr>\n",
       "    <tr>\n",
       "      <th>4</th>\n",
       "      <td>2023-08-31</td>\n",
       "      <td>Aug</td>\n",
       "      <td>8</td>\n",
       "      <td>2023</td>\n",
       "    </tr>\n",
       "    <tr>\n",
       "      <th>5</th>\n",
       "      <td>2023-09-30</td>\n",
       "      <td>Sep</td>\n",
       "      <td>9</td>\n",
       "      <td>2023</td>\n",
       "    </tr>\n",
       "    <tr>\n",
       "      <th>6</th>\n",
       "      <td>2023-10-31</td>\n",
       "      <td>Oct</td>\n",
       "      <td>10</td>\n",
       "      <td>2023</td>\n",
       "    </tr>\n",
       "    <tr>\n",
       "      <th>7</th>\n",
       "      <td>2023-11-30</td>\n",
       "      <td>Nov</td>\n",
       "      <td>11</td>\n",
       "      <td>2023</td>\n",
       "    </tr>\n",
       "    <tr>\n",
       "      <th>8</th>\n",
       "      <td>2023-12-31</td>\n",
       "      <td>Dec</td>\n",
       "      <td>12</td>\n",
       "      <td>2023</td>\n",
       "    </tr>\n",
       "    <tr>\n",
       "      <th>9</th>\n",
       "      <td>2024-01-31</td>\n",
       "      <td>Jan</td>\n",
       "      <td>1</td>\n",
       "      <td>2024</td>\n",
       "    </tr>\n",
       "    <tr>\n",
       "      <th>10</th>\n",
       "      <td>2024-02-29</td>\n",
       "      <td>Feb</td>\n",
       "      <td>2</td>\n",
       "      <td>2024</td>\n",
       "    </tr>\n",
       "    <tr>\n",
       "      <th>11</th>\n",
       "      <td>2024-03-31</td>\n",
       "      <td>Mar</td>\n",
       "      <td>3</td>\n",
       "      <td>2024</td>\n",
       "    </tr>\n",
       "  </tbody>\n",
       "</table>\n",
       "</div>"
      ],
      "text/plain": [
       "        dates month_name  month month_year\n",
       "0  2023-04-30        Apr      4       2023\n",
       "1  2023-05-31        May      5       2023\n",
       "2  2023-06-30        Jun      6       2023\n",
       "3  2023-07-31        Jul      7       2023\n",
       "4  2023-08-31        Aug      8       2023\n",
       "5  2023-09-30        Sep      9       2023\n",
       "6  2023-10-31        Oct     10       2023\n",
       "7  2023-11-30        Nov     11       2023\n",
       "8  2023-12-31        Dec     12       2023\n",
       "9  2024-01-31        Jan      1       2024\n",
       "10 2024-02-29        Feb      2       2024\n",
       "11 2024-03-31        Mar      3       2024"
      ]
     },
     "execution_count": 4,
     "metadata": {},
     "output_type": "execute_result"
    }
   ],
   "source": [
    "# def addlabels(x,y):\n",
    "#     for i in range(len(x)):\n",
    "#         plt.text(i, str(y[i]), str(y[i]), ha = 'center')\n",
    "\n",
    "get_today_date = date.today() + relativedelta(months=1,day=1)\n",
    "get_next_year_date = get_today_date + relativedelta(months=11,day=31)\n",
    "get_contracts = ContractRental.objects.filter(gala__warehouse__company__name=\"Omkar\",\n",
    "    agreement_valid_end_date__range=[get_today_date.replace(day=1),get_next_year_date]\n",
    ").annotate(\n",
    "    month = ExtractMonth('agreement_valid_end_date'),year = ExtractYear('agreement_valid_end_date')\n",
    ").values(\"month\",\"gala__gala_area_size\",\"gala__gala_number\")\n",
    "get_contracts_df = read_frame(get_contracts)\n",
    "dates = pd.date_range(str(get_today_date.replace(day=1)),str(get_next_year_date),freq='M')\n",
    "df = pd.DataFrame()\n",
    "df['dates'] = dates\n",
    "df['month_name'] = df['dates'].dt.strftime('%b')\n",
    "df['month'] = df['dates'].dt.strftime('%m')\n",
    "df['month_year'] = df['dates'].dt.strftime('%Y')\n",
    "df['month'] = df['month'].astype(int)\n",
    "new_df = pd.merge(df, get_contracts_df, on='month',how=\"left\")\n",
    "new_df = new_df.groupby(['month', 'month_year','month_name'], as_index=False).agg(free_gala_area_size=('gala__gala_area_size', 'sum'), gala_count=('gala__gala_number', 'count')).sort_values('month_year', ascending=True)\n",
    "new_df.fillna(0,inplace=True)\n",
    "new_df['month_year_name'] = new_df['month_name'] + \", \" + new_df['month_year']\n",
    "new_df['message'] = \"Count\" + \" : \" + new_df['gala_count'].astype(str)\n",
    "get_unique_year = new_df['month_year'].unique()\n",
    "if len(get_unique_year) == 2:\n",
    "    get_year = get_unique_year[0] + \" - \" +  get_unique_year[1]\n",
    "else:\n",
    "    get_year = get_unique_year[0]\n",
    "colors = [\"#ff638480\",\"#36a2eb80\",\"#ffce5680\",\"#4bc0c080\",\"#9966ff80\",\"#ff9f4080\",\"#98df58\",\"#f9dd51\",\"#ec6464\",\"#24dcd4\",\"#ec64a5\",\"#3090f0\"]\n",
    "years_list = new_df['month_year_name'].tolist()\n",
    "gala_free_area_list = new_df['free_gala_area_size'].tolist()\n",
    "fig = plt.figure()\n",
    "ax = fig.add_axes([0,0,1,1])\n",
    "c = [\"#ff638480\",\"#36a2eb80\",\"#ffce5680\",\"#4bc0c080\",\"#9966ff80\",\"#ff9f4080\",\"#98df58\",\"#f9dd51\",\"#ec6464\",\"#24dcd4\",\"#ec64a5\",\"#3090f0\"]\n",
    "ax.bar(years_list,gala_free_area_list,color = c)\n",
    "ax.set_title(f'Gala Free Area Size ({get_year})')\n",
    "# addlabels(years_list, new_df['message'].to_list())\n",
    "plt.xticks(rotation=75)\n",
    "ax.bar_label(ax.containers[0],label_type='center', color='black',rotation=90, fontsize=9, padding=1)\n",
    "# ax.bar_label(bar_container,labels=new_df['message'].tolist(), label_type='center', color='black',rotation=90, fontsize=9, padding=1)\n",
    "plt.grid(color='grey', linewidth=0.2, axis='both',linestyle='-',)\n",
    "plt.savefig('media/bar-chart/bar_chart.pdf', dpi=120, format='pdf', bbox_inches='tight')\n",
    "# plt.savefig('media/bar-chart/barchart.png',bbox_inches='tight',dpi=120,format='png')\n",
    "plt.show()\n",
    "\n",
    "# print(get_today_date,get_next_year_date)\n",
    "df"
   ]
  },
  {
   "cell_type": "code",
   "execution_count": 5,
   "id": "96afa4c7",
   "metadata": {},
   "outputs": [
    {
     "data": {
      "text/plain": [
       "'2024-03-31'"
      ]
     },
     "execution_count": 5,
     "metadata": {},
     "output_type": "execute_result"
    }
   ],
   "source": [
    "str(df.iloc[-1][0].date())"
   ]
  },
  {
   "cell_type": "code",
   "execution_count": 17,
   "id": "26573fa7",
   "metadata": {},
   "outputs": [
    {
     "data": {
      "text/plain": [
       "3     1\n",
       "4     0\n",
       "5     0\n",
       "6     0\n",
       "7     0\n",
       "8     0\n",
       "9     0\n",
       "10    0\n",
       "11    0\n",
       "0     0\n",
       "1     0\n",
       "2     0\n",
       "Name: gala_count, dtype: int64"
      ]
     },
     "execution_count": 17,
     "metadata": {},
     "output_type": "execute_result"
    }
   ],
   "source": [
    "new_df['gala_count']"
   ]
  },
  {
   "cell_type": "code",
   "execution_count": 21,
   "id": "9d86fd59",
   "metadata": {},
   "outputs": [
    {
     "data": {
      "text/plain": [
       "False"
      ]
     },
     "execution_count": 21,
     "metadata": {},
     "output_type": "execute_result"
    }
   ],
   "source": [
    "(new_df['gala_count'] != 0).all()"
   ]
  },
  {
   "cell_type": "code",
   "execution_count": 16,
   "id": "8af58319",
   "metadata": {},
   "outputs": [
    {
     "data": {
      "text/plain": [
       "3     1\n",
       "4     0\n",
       "5     0\n",
       "6     0\n",
       "7     0\n",
       "8     0\n",
       "9     0\n",
       "10    0\n",
       "11    0\n",
       "0     0\n",
       "1     0\n",
       "2     0\n",
       "Name: gala_count, dtype: int64"
      ]
     },
     "execution_count": 16,
     "metadata": {},
     "output_type": "execute_result"
    }
   ],
   "source": [
    "new_df['gala_count']"
   ]
  },
  {
   "cell_type": "code",
   "execution_count": null,
   "id": "71f7bde1",
   "metadata": {},
   "outputs": [],
   "source": []
  },
  {
   "cell_type": "code",
   "execution_count": 6,
   "id": "4413c043",
   "metadata": {},
   "outputs": [],
   "source": [
    "years_lists = new_df['month_year_name'].astype(str)"
   ]
  },
  {
   "cell_type": "code",
   "execution_count": 75,
   "id": "659190e0",
   "metadata": {},
   "outputs": [
    {
     "data": {
      "text/plain": [
       "['Mar, 2023',\n",
       " 'Apr, 2023',\n",
       " 'May, 2023',\n",
       " 'Jun, 2023',\n",
       " 'Jul, 2023',\n",
       " 'Aug, 2023',\n",
       " 'Sep, 2023',\n",
       " 'Oct, 2023',\n",
       " 'Nov, 2023',\n",
       " 'Dec, 2023',\n",
       " 'Jan, 2024',\n",
       " 'Feb, 2024']"
      ]
     },
     "execution_count": 75,
     "metadata": {},
     "output_type": "execute_result"
    }
   ],
   "source": [
    "years_lists.tolist()"
   ]
  },
  {
   "cell_type": "code",
   "execution_count": 10,
   "id": "2575751b",
   "metadata": {},
   "outputs": [
    {
     "data": {
      "text/plain": [
       "False"
      ]
     },
     "execution_count": 10,
     "metadata": {},
     "output_type": "execute_result"
    }
   ],
   "source": [
    "show_pie_chart = check_if_all_none(new_df['gala_count'].tolist())\n",
    "show_pie_chart"
   ]
  },
  {
   "cell_type": "code",
   "execution_count": 45,
   "id": "899d1185",
   "metadata": {},
   "outputs": [
    {
     "data": {
      "text/plain": [
       "[0, 1, 0, 0, 0, 0, 0, 0, 0, 0, 0, 0]"
      ]
     },
     "execution_count": 45,
     "metadata": {},
     "output_type": "execute_result"
    }
   ],
   "source": [
    "new_df['gala_count'].tolist()"
   ]
  },
  {
   "cell_type": "code",
   "execution_count": 26,
   "id": "d9d5ab3a",
   "metadata": {},
   "outputs": [],
   "source": [
    "new_df['message'] = \"Free Gala Area Size\" + \" : \" + new_df['free_gala_area_size'].astype(str) + \", \" + \"Count\" + \" : \" + new_df['gala_count'].astype(str)"
   ]
  },
  {
   "cell_type": "code",
   "execution_count": 27,
   "id": "69fc90df",
   "metadata": {},
   "outputs": [
    {
     "data": {
      "text/plain": [
       "['Free Gala Area Size : 0, Count : 0',\n",
       " 'Free Gala Area Size : 2000.00, Count : 1',\n",
       " 'Free Gala Area Size : 0, Count : 0',\n",
       " 'Free Gala Area Size : 0, Count : 0',\n",
       " 'Free Gala Area Size : 0, Count : 0',\n",
       " 'Free Gala Area Size : 0, Count : 0',\n",
       " 'Free Gala Area Size : 0, Count : 0',\n",
       " 'Free Gala Area Size : 0, Count : 0',\n",
       " 'Free Gala Area Size : 0, Count : 0',\n",
       " 'Free Gala Area Size : 0, Count : 0',\n",
       " 'Free Gala Area Size : 0, Count : 0',\n",
       " 'Free Gala Area Size : 0, Count : 0']"
      ]
     },
     "execution_count": 27,
     "metadata": {},
     "output_type": "execute_result"
    }
   ],
   "source": [
    "new_df['message'].tolist()"
   ]
  },
  {
   "cell_type": "code",
   "execution_count": 35,
   "id": "446b39bc",
   "metadata": {
    "scrolled": true
   },
   "outputs": [
    {
     "data": {
      "application/vnd.plotly.v1+json": {
       "config": {
        "plotlyServerURL": "https://plot.ly"
       },
       "data": [
        {
         "hoverinfo": "label+percent",
         "labels": [
          "Mar, 2023",
          "Apr, 2023",
          "May, 2023",
          "Jun, 2023",
          "Jul, 2023",
          "Aug, 2023",
          "Sep, 2023",
          "Oct, 2023",
          "Nov, 2023",
          "Dec, 2023",
          "Jan, 2024",
          "Feb, 2024"
         ],
         "marker": {
          "colors": [
           "gold",
           "mediumturquoise",
           "darkorange",
           "lightgreen"
          ],
          "line": {
           "color": "#000000",
           "width": 2
          }
         },
         "textfont": {
          "size": 20
         },
         "textinfo": "value",
         "type": "pie",
         "values": [
          0,
          1,
          0,
          0,
          0,
          0,
          0,
          0,
          0,
          0,
          0,
          0
         ]
        }
       ],
       "layout": {
        "template": {
         "data": {
          "bar": [
           {
            "error_x": {
             "color": "#2a3f5f"
            },
            "error_y": {
             "color": "#2a3f5f"
            },
            "marker": {
             "line": {
              "color": "#E5ECF6",
              "width": 0.5
             },
             "pattern": {
              "fillmode": "overlay",
              "size": 10,
              "solidity": 0.2
             }
            },
            "type": "bar"
           }
          ],
          "barpolar": [
           {
            "marker": {
             "line": {
              "color": "#E5ECF6",
              "width": 0.5
             },
             "pattern": {
              "fillmode": "overlay",
              "size": 10,
              "solidity": 0.2
             }
            },
            "type": "barpolar"
           }
          ],
          "carpet": [
           {
            "aaxis": {
             "endlinecolor": "#2a3f5f",
             "gridcolor": "white",
             "linecolor": "white",
             "minorgridcolor": "white",
             "startlinecolor": "#2a3f5f"
            },
            "baxis": {
             "endlinecolor": "#2a3f5f",
             "gridcolor": "white",
             "linecolor": "white",
             "minorgridcolor": "white",
             "startlinecolor": "#2a3f5f"
            },
            "type": "carpet"
           }
          ],
          "choropleth": [
           {
            "colorbar": {
             "outlinewidth": 0,
             "ticks": ""
            },
            "type": "choropleth"
           }
          ],
          "contour": [
           {
            "colorbar": {
             "outlinewidth": 0,
             "ticks": ""
            },
            "colorscale": [
             [
              0,
              "#0d0887"
             ],
             [
              0.1111111111111111,
              "#46039f"
             ],
             [
              0.2222222222222222,
              "#7201a8"
             ],
             [
              0.3333333333333333,
              "#9c179e"
             ],
             [
              0.4444444444444444,
              "#bd3786"
             ],
             [
              0.5555555555555556,
              "#d8576b"
             ],
             [
              0.6666666666666666,
              "#ed7953"
             ],
             [
              0.7777777777777778,
              "#fb9f3a"
             ],
             [
              0.8888888888888888,
              "#fdca26"
             ],
             [
              1,
              "#f0f921"
             ]
            ],
            "type": "contour"
           }
          ],
          "contourcarpet": [
           {
            "colorbar": {
             "outlinewidth": 0,
             "ticks": ""
            },
            "type": "contourcarpet"
           }
          ],
          "heatmap": [
           {
            "colorbar": {
             "outlinewidth": 0,
             "ticks": ""
            },
            "colorscale": [
             [
              0,
              "#0d0887"
             ],
             [
              0.1111111111111111,
              "#46039f"
             ],
             [
              0.2222222222222222,
              "#7201a8"
             ],
             [
              0.3333333333333333,
              "#9c179e"
             ],
             [
              0.4444444444444444,
              "#bd3786"
             ],
             [
              0.5555555555555556,
              "#d8576b"
             ],
             [
              0.6666666666666666,
              "#ed7953"
             ],
             [
              0.7777777777777778,
              "#fb9f3a"
             ],
             [
              0.8888888888888888,
              "#fdca26"
             ],
             [
              1,
              "#f0f921"
             ]
            ],
            "type": "heatmap"
           }
          ],
          "heatmapgl": [
           {
            "colorbar": {
             "outlinewidth": 0,
             "ticks": ""
            },
            "colorscale": [
             [
              0,
              "#0d0887"
             ],
             [
              0.1111111111111111,
              "#46039f"
             ],
             [
              0.2222222222222222,
              "#7201a8"
             ],
             [
              0.3333333333333333,
              "#9c179e"
             ],
             [
              0.4444444444444444,
              "#bd3786"
             ],
             [
              0.5555555555555556,
              "#d8576b"
             ],
             [
              0.6666666666666666,
              "#ed7953"
             ],
             [
              0.7777777777777778,
              "#fb9f3a"
             ],
             [
              0.8888888888888888,
              "#fdca26"
             ],
             [
              1,
              "#f0f921"
             ]
            ],
            "type": "heatmapgl"
           }
          ],
          "histogram": [
           {
            "marker": {
             "pattern": {
              "fillmode": "overlay",
              "size": 10,
              "solidity": 0.2
             }
            },
            "type": "histogram"
           }
          ],
          "histogram2d": [
           {
            "colorbar": {
             "outlinewidth": 0,
             "ticks": ""
            },
            "colorscale": [
             [
              0,
              "#0d0887"
             ],
             [
              0.1111111111111111,
              "#46039f"
             ],
             [
              0.2222222222222222,
              "#7201a8"
             ],
             [
              0.3333333333333333,
              "#9c179e"
             ],
             [
              0.4444444444444444,
              "#bd3786"
             ],
             [
              0.5555555555555556,
              "#d8576b"
             ],
             [
              0.6666666666666666,
              "#ed7953"
             ],
             [
              0.7777777777777778,
              "#fb9f3a"
             ],
             [
              0.8888888888888888,
              "#fdca26"
             ],
             [
              1,
              "#f0f921"
             ]
            ],
            "type": "histogram2d"
           }
          ],
          "histogram2dcontour": [
           {
            "colorbar": {
             "outlinewidth": 0,
             "ticks": ""
            },
            "colorscale": [
             [
              0,
              "#0d0887"
             ],
             [
              0.1111111111111111,
              "#46039f"
             ],
             [
              0.2222222222222222,
              "#7201a8"
             ],
             [
              0.3333333333333333,
              "#9c179e"
             ],
             [
              0.4444444444444444,
              "#bd3786"
             ],
             [
              0.5555555555555556,
              "#d8576b"
             ],
             [
              0.6666666666666666,
              "#ed7953"
             ],
             [
              0.7777777777777778,
              "#fb9f3a"
             ],
             [
              0.8888888888888888,
              "#fdca26"
             ],
             [
              1,
              "#f0f921"
             ]
            ],
            "type": "histogram2dcontour"
           }
          ],
          "mesh3d": [
           {
            "colorbar": {
             "outlinewidth": 0,
             "ticks": ""
            },
            "type": "mesh3d"
           }
          ],
          "parcoords": [
           {
            "line": {
             "colorbar": {
              "outlinewidth": 0,
              "ticks": ""
             }
            },
            "type": "parcoords"
           }
          ],
          "pie": [
           {
            "automargin": true,
            "type": "pie"
           }
          ],
          "scatter": [
           {
            "fillpattern": {
             "fillmode": "overlay",
             "size": 10,
             "solidity": 0.2
            },
            "type": "scatter"
           }
          ],
          "scatter3d": [
           {
            "line": {
             "colorbar": {
              "outlinewidth": 0,
              "ticks": ""
             }
            },
            "marker": {
             "colorbar": {
              "outlinewidth": 0,
              "ticks": ""
             }
            },
            "type": "scatter3d"
           }
          ],
          "scattercarpet": [
           {
            "marker": {
             "colorbar": {
              "outlinewidth": 0,
              "ticks": ""
             }
            },
            "type": "scattercarpet"
           }
          ],
          "scattergeo": [
           {
            "marker": {
             "colorbar": {
              "outlinewidth": 0,
              "ticks": ""
             }
            },
            "type": "scattergeo"
           }
          ],
          "scattergl": [
           {
            "marker": {
             "colorbar": {
              "outlinewidth": 0,
              "ticks": ""
             }
            },
            "type": "scattergl"
           }
          ],
          "scattermapbox": [
           {
            "marker": {
             "colorbar": {
              "outlinewidth": 0,
              "ticks": ""
             }
            },
            "type": "scattermapbox"
           }
          ],
          "scatterpolar": [
           {
            "marker": {
             "colorbar": {
              "outlinewidth": 0,
              "ticks": ""
             }
            },
            "type": "scatterpolar"
           }
          ],
          "scatterpolargl": [
           {
            "marker": {
             "colorbar": {
              "outlinewidth": 0,
              "ticks": ""
             }
            },
            "type": "scatterpolargl"
           }
          ],
          "scatterternary": [
           {
            "marker": {
             "colorbar": {
              "outlinewidth": 0,
              "ticks": ""
             }
            },
            "type": "scatterternary"
           }
          ],
          "surface": [
           {
            "colorbar": {
             "outlinewidth": 0,
             "ticks": ""
            },
            "colorscale": [
             [
              0,
              "#0d0887"
             ],
             [
              0.1111111111111111,
              "#46039f"
             ],
             [
              0.2222222222222222,
              "#7201a8"
             ],
             [
              0.3333333333333333,
              "#9c179e"
             ],
             [
              0.4444444444444444,
              "#bd3786"
             ],
             [
              0.5555555555555556,
              "#d8576b"
             ],
             [
              0.6666666666666666,
              "#ed7953"
             ],
             [
              0.7777777777777778,
              "#fb9f3a"
             ],
             [
              0.8888888888888888,
              "#fdca26"
             ],
             [
              1,
              "#f0f921"
             ]
            ],
            "type": "surface"
           }
          ],
          "table": [
           {
            "cells": {
             "fill": {
              "color": "#EBF0F8"
             },
             "line": {
              "color": "white"
             }
            },
            "header": {
             "fill": {
              "color": "#C8D4E3"
             },
             "line": {
              "color": "white"
             }
            },
            "type": "table"
           }
          ]
         },
         "layout": {
          "annotationdefaults": {
           "arrowcolor": "#2a3f5f",
           "arrowhead": 0,
           "arrowwidth": 1
          },
          "autotypenumbers": "strict",
          "coloraxis": {
           "colorbar": {
            "outlinewidth": 0,
            "ticks": ""
           }
          },
          "colorscale": {
           "diverging": [
            [
             0,
             "#8e0152"
            ],
            [
             0.1,
             "#c51b7d"
            ],
            [
             0.2,
             "#de77ae"
            ],
            [
             0.3,
             "#f1b6da"
            ],
            [
             0.4,
             "#fde0ef"
            ],
            [
             0.5,
             "#f7f7f7"
            ],
            [
             0.6,
             "#e6f5d0"
            ],
            [
             0.7,
             "#b8e186"
            ],
            [
             0.8,
             "#7fbc41"
            ],
            [
             0.9,
             "#4d9221"
            ],
            [
             1,
             "#276419"
            ]
           ],
           "sequential": [
            [
             0,
             "#0d0887"
            ],
            [
             0.1111111111111111,
             "#46039f"
            ],
            [
             0.2222222222222222,
             "#7201a8"
            ],
            [
             0.3333333333333333,
             "#9c179e"
            ],
            [
             0.4444444444444444,
             "#bd3786"
            ],
            [
             0.5555555555555556,
             "#d8576b"
            ],
            [
             0.6666666666666666,
             "#ed7953"
            ],
            [
             0.7777777777777778,
             "#fb9f3a"
            ],
            [
             0.8888888888888888,
             "#fdca26"
            ],
            [
             1,
             "#f0f921"
            ]
           ],
           "sequentialminus": [
            [
             0,
             "#0d0887"
            ],
            [
             0.1111111111111111,
             "#46039f"
            ],
            [
             0.2222222222222222,
             "#7201a8"
            ],
            [
             0.3333333333333333,
             "#9c179e"
            ],
            [
             0.4444444444444444,
             "#bd3786"
            ],
            [
             0.5555555555555556,
             "#d8576b"
            ],
            [
             0.6666666666666666,
             "#ed7953"
            ],
            [
             0.7777777777777778,
             "#fb9f3a"
            ],
            [
             0.8888888888888888,
             "#fdca26"
            ],
            [
             1,
             "#f0f921"
            ]
           ]
          },
          "colorway": [
           "#636efa",
           "#EF553B",
           "#00cc96",
           "#ab63fa",
           "#FFA15A",
           "#19d3f3",
           "#FF6692",
           "#B6E880",
           "#FF97FF",
           "#FECB52"
          ],
          "font": {
           "color": "#2a3f5f"
          },
          "geo": {
           "bgcolor": "white",
           "lakecolor": "white",
           "landcolor": "#E5ECF6",
           "showlakes": true,
           "showland": true,
           "subunitcolor": "white"
          },
          "hoverlabel": {
           "align": "left"
          },
          "hovermode": "closest",
          "mapbox": {
           "style": "light"
          },
          "paper_bgcolor": "white",
          "plot_bgcolor": "#E5ECF6",
          "polar": {
           "angularaxis": {
            "gridcolor": "white",
            "linecolor": "white",
            "ticks": ""
           },
           "bgcolor": "#E5ECF6",
           "radialaxis": {
            "gridcolor": "white",
            "linecolor": "white",
            "ticks": ""
           }
          },
          "scene": {
           "xaxis": {
            "backgroundcolor": "#E5ECF6",
            "gridcolor": "white",
            "gridwidth": 2,
            "linecolor": "white",
            "showbackground": true,
            "ticks": "",
            "zerolinecolor": "white"
           },
           "yaxis": {
            "backgroundcolor": "#E5ECF6",
            "gridcolor": "white",
            "gridwidth": 2,
            "linecolor": "white",
            "showbackground": true,
            "ticks": "",
            "zerolinecolor": "white"
           },
           "zaxis": {
            "backgroundcolor": "#E5ECF6",
            "gridcolor": "white",
            "gridwidth": 2,
            "linecolor": "white",
            "showbackground": true,
            "ticks": "",
            "zerolinecolor": "white"
           }
          },
          "shapedefaults": {
           "line": {
            "color": "#2a3f5f"
           }
          },
          "ternary": {
           "aaxis": {
            "gridcolor": "white",
            "linecolor": "white",
            "ticks": ""
           },
           "baxis": {
            "gridcolor": "white",
            "linecolor": "white",
            "ticks": ""
           },
           "bgcolor": "#E5ECF6",
           "caxis": {
            "gridcolor": "white",
            "linecolor": "white",
            "ticks": ""
           }
          },
          "title": {
           "x": 0.05
          },
          "xaxis": {
           "automargin": true,
           "gridcolor": "white",
           "linecolor": "white",
           "ticks": "",
           "title": {
            "standoff": 15
           },
           "zerolinecolor": "white",
           "zerolinewidth": 2
          },
          "yaxis": {
           "automargin": true,
           "gridcolor": "white",
           "linecolor": "white",
           "ticks": "",
           "title": {
            "standoff": 15
           },
           "zerolinecolor": "white",
           "zerolinewidth": 2
          }
         }
        }
       }
      },
      "text/html": [
       "<div>                            <div id=\"6f31e6a9-de7f-4752-bf06-ec92bf337121\" class=\"plotly-graph-div\" style=\"height:525px; width:100%;\"></div>            <script type=\"text/javascript\">                require([\"plotly\"], function(Plotly) {                    window.PLOTLYENV=window.PLOTLYENV || {};                                    if (document.getElementById(\"6f31e6a9-de7f-4752-bf06-ec92bf337121\")) {                    Plotly.newPlot(                        \"6f31e6a9-de7f-4752-bf06-ec92bf337121\",                        [{\"labels\":[\"Mar, 2023\",\"Apr, 2023\",\"May, 2023\",\"Jun, 2023\",\"Jul, 2023\",\"Aug, 2023\",\"Sep, 2023\",\"Oct, 2023\",\"Nov, 2023\",\"Dec, 2023\",\"Jan, 2024\",\"Feb, 2024\"],\"values\":[0,1,0,0,0,0,0,0,0,0,0,0],\"type\":\"pie\",\"textfont\":{\"size\":20},\"marker\":{\"line\":{\"color\":\"#000000\",\"width\":2},\"colors\":[\"gold\",\"mediumturquoise\",\"darkorange\",\"lightgreen\"]},\"hoverinfo\":\"label+percent\",\"textinfo\":\"value\"}],                        {\"template\":{\"data\":{\"histogram2dcontour\":[{\"type\":\"histogram2dcontour\",\"colorbar\":{\"outlinewidth\":0,\"ticks\":\"\"},\"colorscale\":[[0.0,\"#0d0887\"],[0.1111111111111111,\"#46039f\"],[0.2222222222222222,\"#7201a8\"],[0.3333333333333333,\"#9c179e\"],[0.4444444444444444,\"#bd3786\"],[0.5555555555555556,\"#d8576b\"],[0.6666666666666666,\"#ed7953\"],[0.7777777777777778,\"#fb9f3a\"],[0.8888888888888888,\"#fdca26\"],[1.0,\"#f0f921\"]]}],\"choropleth\":[{\"type\":\"choropleth\",\"colorbar\":{\"outlinewidth\":0,\"ticks\":\"\"}}],\"histogram2d\":[{\"type\":\"histogram2d\",\"colorbar\":{\"outlinewidth\":0,\"ticks\":\"\"},\"colorscale\":[[0.0,\"#0d0887\"],[0.1111111111111111,\"#46039f\"],[0.2222222222222222,\"#7201a8\"],[0.3333333333333333,\"#9c179e\"],[0.4444444444444444,\"#bd3786\"],[0.5555555555555556,\"#d8576b\"],[0.6666666666666666,\"#ed7953\"],[0.7777777777777778,\"#fb9f3a\"],[0.8888888888888888,\"#fdca26\"],[1.0,\"#f0f921\"]]}],\"heatmap\":[{\"type\":\"heatmap\",\"colorbar\":{\"outlinewidth\":0,\"ticks\":\"\"},\"colorscale\":[[0.0,\"#0d0887\"],[0.1111111111111111,\"#46039f\"],[0.2222222222222222,\"#7201a8\"],[0.3333333333333333,\"#9c179e\"],[0.4444444444444444,\"#bd3786\"],[0.5555555555555556,\"#d8576b\"],[0.6666666666666666,\"#ed7953\"],[0.7777777777777778,\"#fb9f3a\"],[0.8888888888888888,\"#fdca26\"],[1.0,\"#f0f921\"]]}],\"heatmapgl\":[{\"type\":\"heatmapgl\",\"colorbar\":{\"outlinewidth\":0,\"ticks\":\"\"},\"colorscale\":[[0.0,\"#0d0887\"],[0.1111111111111111,\"#46039f\"],[0.2222222222222222,\"#7201a8\"],[0.3333333333333333,\"#9c179e\"],[0.4444444444444444,\"#bd3786\"],[0.5555555555555556,\"#d8576b\"],[0.6666666666666666,\"#ed7953\"],[0.7777777777777778,\"#fb9f3a\"],[0.8888888888888888,\"#fdca26\"],[1.0,\"#f0f921\"]]}],\"contourcarpet\":[{\"type\":\"contourcarpet\",\"colorbar\":{\"outlinewidth\":0,\"ticks\":\"\"}}],\"contour\":[{\"type\":\"contour\",\"colorbar\":{\"outlinewidth\":0,\"ticks\":\"\"},\"colorscale\":[[0.0,\"#0d0887\"],[0.1111111111111111,\"#46039f\"],[0.2222222222222222,\"#7201a8\"],[0.3333333333333333,\"#9c179e\"],[0.4444444444444444,\"#bd3786\"],[0.5555555555555556,\"#d8576b\"],[0.6666666666666666,\"#ed7953\"],[0.7777777777777778,\"#fb9f3a\"],[0.8888888888888888,\"#fdca26\"],[1.0,\"#f0f921\"]]}],\"surface\":[{\"type\":\"surface\",\"colorbar\":{\"outlinewidth\":0,\"ticks\":\"\"},\"colorscale\":[[0.0,\"#0d0887\"],[0.1111111111111111,\"#46039f\"],[0.2222222222222222,\"#7201a8\"],[0.3333333333333333,\"#9c179e\"],[0.4444444444444444,\"#bd3786\"],[0.5555555555555556,\"#d8576b\"],[0.6666666666666666,\"#ed7953\"],[0.7777777777777778,\"#fb9f3a\"],[0.8888888888888888,\"#fdca26\"],[1.0,\"#f0f921\"]]}],\"mesh3d\":[{\"type\":\"mesh3d\",\"colorbar\":{\"outlinewidth\":0,\"ticks\":\"\"}}],\"scatter\":[{\"fillpattern\":{\"fillmode\":\"overlay\",\"size\":10,\"solidity\":0.2},\"type\":\"scatter\"}],\"parcoords\":[{\"type\":\"parcoords\",\"line\":{\"colorbar\":{\"outlinewidth\":0,\"ticks\":\"\"}}}],\"scatterpolargl\":[{\"type\":\"scatterpolargl\",\"marker\":{\"colorbar\":{\"outlinewidth\":0,\"ticks\":\"\"}}}],\"bar\":[{\"error_x\":{\"color\":\"#2a3f5f\"},\"error_y\":{\"color\":\"#2a3f5f\"},\"marker\":{\"line\":{\"color\":\"#E5ECF6\",\"width\":0.5},\"pattern\":{\"fillmode\":\"overlay\",\"size\":10,\"solidity\":0.2}},\"type\":\"bar\"}],\"scattergeo\":[{\"type\":\"scattergeo\",\"marker\":{\"colorbar\":{\"outlinewidth\":0,\"ticks\":\"\"}}}],\"scatterpolar\":[{\"type\":\"scatterpolar\",\"marker\":{\"colorbar\":{\"outlinewidth\":0,\"ticks\":\"\"}}}],\"histogram\":[{\"marker\":{\"pattern\":{\"fillmode\":\"overlay\",\"size\":10,\"solidity\":0.2}},\"type\":\"histogram\"}],\"scattergl\":[{\"type\":\"scattergl\",\"marker\":{\"colorbar\":{\"outlinewidth\":0,\"ticks\":\"\"}}}],\"scatter3d\":[{\"type\":\"scatter3d\",\"line\":{\"colorbar\":{\"outlinewidth\":0,\"ticks\":\"\"}},\"marker\":{\"colorbar\":{\"outlinewidth\":0,\"ticks\":\"\"}}}],\"scattermapbox\":[{\"type\":\"scattermapbox\",\"marker\":{\"colorbar\":{\"outlinewidth\":0,\"ticks\":\"\"}}}],\"scatterternary\":[{\"type\":\"scatterternary\",\"marker\":{\"colorbar\":{\"outlinewidth\":0,\"ticks\":\"\"}}}],\"scattercarpet\":[{\"type\":\"scattercarpet\",\"marker\":{\"colorbar\":{\"outlinewidth\":0,\"ticks\":\"\"}}}],\"carpet\":[{\"aaxis\":{\"endlinecolor\":\"#2a3f5f\",\"gridcolor\":\"white\",\"linecolor\":\"white\",\"minorgridcolor\":\"white\",\"startlinecolor\":\"#2a3f5f\"},\"baxis\":{\"endlinecolor\":\"#2a3f5f\",\"gridcolor\":\"white\",\"linecolor\":\"white\",\"minorgridcolor\":\"white\",\"startlinecolor\":\"#2a3f5f\"},\"type\":\"carpet\"}],\"table\":[{\"cells\":{\"fill\":{\"color\":\"#EBF0F8\"},\"line\":{\"color\":\"white\"}},\"header\":{\"fill\":{\"color\":\"#C8D4E3\"},\"line\":{\"color\":\"white\"}},\"type\":\"table\"}],\"barpolar\":[{\"marker\":{\"line\":{\"color\":\"#E5ECF6\",\"width\":0.5},\"pattern\":{\"fillmode\":\"overlay\",\"size\":10,\"solidity\":0.2}},\"type\":\"barpolar\"}],\"pie\":[{\"automargin\":true,\"type\":\"pie\"}]},\"layout\":{\"autotypenumbers\":\"strict\",\"colorway\":[\"#636efa\",\"#EF553B\",\"#00cc96\",\"#ab63fa\",\"#FFA15A\",\"#19d3f3\",\"#FF6692\",\"#B6E880\",\"#FF97FF\",\"#FECB52\"],\"font\":{\"color\":\"#2a3f5f\"},\"hovermode\":\"closest\",\"hoverlabel\":{\"align\":\"left\"},\"paper_bgcolor\":\"white\",\"plot_bgcolor\":\"#E5ECF6\",\"polar\":{\"bgcolor\":\"#E5ECF6\",\"angularaxis\":{\"gridcolor\":\"white\",\"linecolor\":\"white\",\"ticks\":\"\"},\"radialaxis\":{\"gridcolor\":\"white\",\"linecolor\":\"white\",\"ticks\":\"\"}},\"ternary\":{\"bgcolor\":\"#E5ECF6\",\"aaxis\":{\"gridcolor\":\"white\",\"linecolor\":\"white\",\"ticks\":\"\"},\"baxis\":{\"gridcolor\":\"white\",\"linecolor\":\"white\",\"ticks\":\"\"},\"caxis\":{\"gridcolor\":\"white\",\"linecolor\":\"white\",\"ticks\":\"\"}},\"coloraxis\":{\"colorbar\":{\"outlinewidth\":0,\"ticks\":\"\"}},\"colorscale\":{\"sequential\":[[0.0,\"#0d0887\"],[0.1111111111111111,\"#46039f\"],[0.2222222222222222,\"#7201a8\"],[0.3333333333333333,\"#9c179e\"],[0.4444444444444444,\"#bd3786\"],[0.5555555555555556,\"#d8576b\"],[0.6666666666666666,\"#ed7953\"],[0.7777777777777778,\"#fb9f3a\"],[0.8888888888888888,\"#fdca26\"],[1.0,\"#f0f921\"]],\"sequentialminus\":[[0.0,\"#0d0887\"],[0.1111111111111111,\"#46039f\"],[0.2222222222222222,\"#7201a8\"],[0.3333333333333333,\"#9c179e\"],[0.4444444444444444,\"#bd3786\"],[0.5555555555555556,\"#d8576b\"],[0.6666666666666666,\"#ed7953\"],[0.7777777777777778,\"#fb9f3a\"],[0.8888888888888888,\"#fdca26\"],[1.0,\"#f0f921\"]],\"diverging\":[[0,\"#8e0152\"],[0.1,\"#c51b7d\"],[0.2,\"#de77ae\"],[0.3,\"#f1b6da\"],[0.4,\"#fde0ef\"],[0.5,\"#f7f7f7\"],[0.6,\"#e6f5d0\"],[0.7,\"#b8e186\"],[0.8,\"#7fbc41\"],[0.9,\"#4d9221\"],[1,\"#276419\"]]},\"xaxis\":{\"gridcolor\":\"white\",\"linecolor\":\"white\",\"ticks\":\"\",\"title\":{\"standoff\":15},\"zerolinecolor\":\"white\",\"automargin\":true,\"zerolinewidth\":2},\"yaxis\":{\"gridcolor\":\"white\",\"linecolor\":\"white\",\"ticks\":\"\",\"title\":{\"standoff\":15},\"zerolinecolor\":\"white\",\"automargin\":true,\"zerolinewidth\":2},\"scene\":{\"xaxis\":{\"backgroundcolor\":\"#E5ECF6\",\"gridcolor\":\"white\",\"linecolor\":\"white\",\"showbackground\":true,\"ticks\":\"\",\"zerolinecolor\":\"white\",\"gridwidth\":2},\"yaxis\":{\"backgroundcolor\":\"#E5ECF6\",\"gridcolor\":\"white\",\"linecolor\":\"white\",\"showbackground\":true,\"ticks\":\"\",\"zerolinecolor\":\"white\",\"gridwidth\":2},\"zaxis\":{\"backgroundcolor\":\"#E5ECF6\",\"gridcolor\":\"white\",\"linecolor\":\"white\",\"showbackground\":true,\"ticks\":\"\",\"zerolinecolor\":\"white\",\"gridwidth\":2}},\"shapedefaults\":{\"line\":{\"color\":\"#2a3f5f\"}},\"annotationdefaults\":{\"arrowcolor\":\"#2a3f5f\",\"arrowhead\":0,\"arrowwidth\":1},\"geo\":{\"bgcolor\":\"white\",\"landcolor\":\"#E5ECF6\",\"subunitcolor\":\"white\",\"showland\":true,\"showlakes\":true,\"lakecolor\":\"white\"},\"title\":{\"x\":0.05},\"mapbox\":{\"style\":\"light\"}}}},                        {\"responsive\": true}                    ).then(function(){\n",
       "                            \n",
       "var gd = document.getElementById('6f31e6a9-de7f-4752-bf06-ec92bf337121');\n",
       "var x = new MutationObserver(function (mutations, observer) {{\n",
       "        var display = window.getComputedStyle(gd).display;\n",
       "        if (!display || display === 'none') {{\n",
       "            console.log([gd, 'removed!']);\n",
       "            Plotly.purge(gd);\n",
       "            observer.disconnect();\n",
       "        }}\n",
       "}});\n",
       "\n",
       "// Listen for the removal of the full notebook cells\n",
       "var notebookContainer = gd.closest('#notebook-container');\n",
       "if (notebookContainer) {{\n",
       "    x.observe(notebookContainer, {childList: true});\n",
       "}}\n",
       "\n",
       "// Listen for the clearing of the current output cell\n",
       "var outputEl = gd.closest('.output');\n",
       "if (outputEl) {{\n",
       "    x.observe(outputEl, {childList: true});\n",
       "}}\n",
       "\n",
       "                        })                };                });            </script>        </div>"
      ]
     },
     "metadata": {},
     "output_type": "display_data"
    }
   ],
   "source": [
    "import plotly.graph_objects as go\n",
    "colors = ['gold', 'mediumturquoise', 'darkorange', 'lightgreen']\n",
    "\n",
    "fig = go.Figure(data=[go.Pie(labels=years_list,\n",
    "                             values=new_df['gala_count'].tolist())])\n",
    "fig.update_traces(hoverinfo='label+percent', textinfo='value', textfont_size=20,\n",
    "                  marker=dict(colors=colors, line=dict(color='#000000', width=2)))\n",
    "fig.show()\n",
    "\n"
   ]
  },
  {
   "cell_type": "code",
   "execution_count": 36,
   "id": "d86e4223",
   "metadata": {},
   "outputs": [
    {
     "data": {
      "application/vnd.plotly.v1+json": {
       "config": {
        "plotlyServerURL": "https://plot.ly"
       },
       "data": [
        {
         "hole": 0.3,
         "labels": [
          "Mar, 2023",
          "Apr, 2023",
          "May, 2023",
          "Jun, 2023",
          "Jul, 2023",
          "Aug, 2023",
          "Sep, 2023",
          "Oct, 2023",
          "Nov, 2023",
          "Dec, 2023",
          "Jan, 2024",
          "Feb, 2024"
         ],
         "type": "pie",
         "values": [
          0,
          1,
          0,
          0,
          0,
          0,
          0,
          0,
          0,
          0,
          0,
          0
         ]
        }
       ],
       "layout": {
        "template": {
         "data": {
          "bar": [
           {
            "error_x": {
             "color": "#2a3f5f"
            },
            "error_y": {
             "color": "#2a3f5f"
            },
            "marker": {
             "line": {
              "color": "#E5ECF6",
              "width": 0.5
             },
             "pattern": {
              "fillmode": "overlay",
              "size": 10,
              "solidity": 0.2
             }
            },
            "type": "bar"
           }
          ],
          "barpolar": [
           {
            "marker": {
             "line": {
              "color": "#E5ECF6",
              "width": 0.5
             },
             "pattern": {
              "fillmode": "overlay",
              "size": 10,
              "solidity": 0.2
             }
            },
            "type": "barpolar"
           }
          ],
          "carpet": [
           {
            "aaxis": {
             "endlinecolor": "#2a3f5f",
             "gridcolor": "white",
             "linecolor": "white",
             "minorgridcolor": "white",
             "startlinecolor": "#2a3f5f"
            },
            "baxis": {
             "endlinecolor": "#2a3f5f",
             "gridcolor": "white",
             "linecolor": "white",
             "minorgridcolor": "white",
             "startlinecolor": "#2a3f5f"
            },
            "type": "carpet"
           }
          ],
          "choropleth": [
           {
            "colorbar": {
             "outlinewidth": 0,
             "ticks": ""
            },
            "type": "choropleth"
           }
          ],
          "contour": [
           {
            "colorbar": {
             "outlinewidth": 0,
             "ticks": ""
            },
            "colorscale": [
             [
              0,
              "#0d0887"
             ],
             [
              0.1111111111111111,
              "#46039f"
             ],
             [
              0.2222222222222222,
              "#7201a8"
             ],
             [
              0.3333333333333333,
              "#9c179e"
             ],
             [
              0.4444444444444444,
              "#bd3786"
             ],
             [
              0.5555555555555556,
              "#d8576b"
             ],
             [
              0.6666666666666666,
              "#ed7953"
             ],
             [
              0.7777777777777778,
              "#fb9f3a"
             ],
             [
              0.8888888888888888,
              "#fdca26"
             ],
             [
              1,
              "#f0f921"
             ]
            ],
            "type": "contour"
           }
          ],
          "contourcarpet": [
           {
            "colorbar": {
             "outlinewidth": 0,
             "ticks": ""
            },
            "type": "contourcarpet"
           }
          ],
          "heatmap": [
           {
            "colorbar": {
             "outlinewidth": 0,
             "ticks": ""
            },
            "colorscale": [
             [
              0,
              "#0d0887"
             ],
             [
              0.1111111111111111,
              "#46039f"
             ],
             [
              0.2222222222222222,
              "#7201a8"
             ],
             [
              0.3333333333333333,
              "#9c179e"
             ],
             [
              0.4444444444444444,
              "#bd3786"
             ],
             [
              0.5555555555555556,
              "#d8576b"
             ],
             [
              0.6666666666666666,
              "#ed7953"
             ],
             [
              0.7777777777777778,
              "#fb9f3a"
             ],
             [
              0.8888888888888888,
              "#fdca26"
             ],
             [
              1,
              "#f0f921"
             ]
            ],
            "type": "heatmap"
           }
          ],
          "heatmapgl": [
           {
            "colorbar": {
             "outlinewidth": 0,
             "ticks": ""
            },
            "colorscale": [
             [
              0,
              "#0d0887"
             ],
             [
              0.1111111111111111,
              "#46039f"
             ],
             [
              0.2222222222222222,
              "#7201a8"
             ],
             [
              0.3333333333333333,
              "#9c179e"
             ],
             [
              0.4444444444444444,
              "#bd3786"
             ],
             [
              0.5555555555555556,
              "#d8576b"
             ],
             [
              0.6666666666666666,
              "#ed7953"
             ],
             [
              0.7777777777777778,
              "#fb9f3a"
             ],
             [
              0.8888888888888888,
              "#fdca26"
             ],
             [
              1,
              "#f0f921"
             ]
            ],
            "type": "heatmapgl"
           }
          ],
          "histogram": [
           {
            "marker": {
             "pattern": {
              "fillmode": "overlay",
              "size": 10,
              "solidity": 0.2
             }
            },
            "type": "histogram"
           }
          ],
          "histogram2d": [
           {
            "colorbar": {
             "outlinewidth": 0,
             "ticks": ""
            },
            "colorscale": [
             [
              0,
              "#0d0887"
             ],
             [
              0.1111111111111111,
              "#46039f"
             ],
             [
              0.2222222222222222,
              "#7201a8"
             ],
             [
              0.3333333333333333,
              "#9c179e"
             ],
             [
              0.4444444444444444,
              "#bd3786"
             ],
             [
              0.5555555555555556,
              "#d8576b"
             ],
             [
              0.6666666666666666,
              "#ed7953"
             ],
             [
              0.7777777777777778,
              "#fb9f3a"
             ],
             [
              0.8888888888888888,
              "#fdca26"
             ],
             [
              1,
              "#f0f921"
             ]
            ],
            "type": "histogram2d"
           }
          ],
          "histogram2dcontour": [
           {
            "colorbar": {
             "outlinewidth": 0,
             "ticks": ""
            },
            "colorscale": [
             [
              0,
              "#0d0887"
             ],
             [
              0.1111111111111111,
              "#46039f"
             ],
             [
              0.2222222222222222,
              "#7201a8"
             ],
             [
              0.3333333333333333,
              "#9c179e"
             ],
             [
              0.4444444444444444,
              "#bd3786"
             ],
             [
              0.5555555555555556,
              "#d8576b"
             ],
             [
              0.6666666666666666,
              "#ed7953"
             ],
             [
              0.7777777777777778,
              "#fb9f3a"
             ],
             [
              0.8888888888888888,
              "#fdca26"
             ],
             [
              1,
              "#f0f921"
             ]
            ],
            "type": "histogram2dcontour"
           }
          ],
          "mesh3d": [
           {
            "colorbar": {
             "outlinewidth": 0,
             "ticks": ""
            },
            "type": "mesh3d"
           }
          ],
          "parcoords": [
           {
            "line": {
             "colorbar": {
              "outlinewidth": 0,
              "ticks": ""
             }
            },
            "type": "parcoords"
           }
          ],
          "pie": [
           {
            "automargin": true,
            "type": "pie"
           }
          ],
          "scatter": [
           {
            "fillpattern": {
             "fillmode": "overlay",
             "size": 10,
             "solidity": 0.2
            },
            "type": "scatter"
           }
          ],
          "scatter3d": [
           {
            "line": {
             "colorbar": {
              "outlinewidth": 0,
              "ticks": ""
             }
            },
            "marker": {
             "colorbar": {
              "outlinewidth": 0,
              "ticks": ""
             }
            },
            "type": "scatter3d"
           }
          ],
          "scattercarpet": [
           {
            "marker": {
             "colorbar": {
              "outlinewidth": 0,
              "ticks": ""
             }
            },
            "type": "scattercarpet"
           }
          ],
          "scattergeo": [
           {
            "marker": {
             "colorbar": {
              "outlinewidth": 0,
              "ticks": ""
             }
            },
            "type": "scattergeo"
           }
          ],
          "scattergl": [
           {
            "marker": {
             "colorbar": {
              "outlinewidth": 0,
              "ticks": ""
             }
            },
            "type": "scattergl"
           }
          ],
          "scattermapbox": [
           {
            "marker": {
             "colorbar": {
              "outlinewidth": 0,
              "ticks": ""
             }
            },
            "type": "scattermapbox"
           }
          ],
          "scatterpolar": [
           {
            "marker": {
             "colorbar": {
              "outlinewidth": 0,
              "ticks": ""
             }
            },
            "type": "scatterpolar"
           }
          ],
          "scatterpolargl": [
           {
            "marker": {
             "colorbar": {
              "outlinewidth": 0,
              "ticks": ""
             }
            },
            "type": "scatterpolargl"
           }
          ],
          "scatterternary": [
           {
            "marker": {
             "colorbar": {
              "outlinewidth": 0,
              "ticks": ""
             }
            },
            "type": "scatterternary"
           }
          ],
          "surface": [
           {
            "colorbar": {
             "outlinewidth": 0,
             "ticks": ""
            },
            "colorscale": [
             [
              0,
              "#0d0887"
             ],
             [
              0.1111111111111111,
              "#46039f"
             ],
             [
              0.2222222222222222,
              "#7201a8"
             ],
             [
              0.3333333333333333,
              "#9c179e"
             ],
             [
              0.4444444444444444,
              "#bd3786"
             ],
             [
              0.5555555555555556,
              "#d8576b"
             ],
             [
              0.6666666666666666,
              "#ed7953"
             ],
             [
              0.7777777777777778,
              "#fb9f3a"
             ],
             [
              0.8888888888888888,
              "#fdca26"
             ],
             [
              1,
              "#f0f921"
             ]
            ],
            "type": "surface"
           }
          ],
          "table": [
           {
            "cells": {
             "fill": {
              "color": "#EBF0F8"
             },
             "line": {
              "color": "white"
             }
            },
            "header": {
             "fill": {
              "color": "#C8D4E3"
             },
             "line": {
              "color": "white"
             }
            },
            "type": "table"
           }
          ]
         },
         "layout": {
          "annotationdefaults": {
           "arrowcolor": "#2a3f5f",
           "arrowhead": 0,
           "arrowwidth": 1
          },
          "autotypenumbers": "strict",
          "coloraxis": {
           "colorbar": {
            "outlinewidth": 0,
            "ticks": ""
           }
          },
          "colorscale": {
           "diverging": [
            [
             0,
             "#8e0152"
            ],
            [
             0.1,
             "#c51b7d"
            ],
            [
             0.2,
             "#de77ae"
            ],
            [
             0.3,
             "#f1b6da"
            ],
            [
             0.4,
             "#fde0ef"
            ],
            [
             0.5,
             "#f7f7f7"
            ],
            [
             0.6,
             "#e6f5d0"
            ],
            [
             0.7,
             "#b8e186"
            ],
            [
             0.8,
             "#7fbc41"
            ],
            [
             0.9,
             "#4d9221"
            ],
            [
             1,
             "#276419"
            ]
           ],
           "sequential": [
            [
             0,
             "#0d0887"
            ],
            [
             0.1111111111111111,
             "#46039f"
            ],
            [
             0.2222222222222222,
             "#7201a8"
            ],
            [
             0.3333333333333333,
             "#9c179e"
            ],
            [
             0.4444444444444444,
             "#bd3786"
            ],
            [
             0.5555555555555556,
             "#d8576b"
            ],
            [
             0.6666666666666666,
             "#ed7953"
            ],
            [
             0.7777777777777778,
             "#fb9f3a"
            ],
            [
             0.8888888888888888,
             "#fdca26"
            ],
            [
             1,
             "#f0f921"
            ]
           ],
           "sequentialminus": [
            [
             0,
             "#0d0887"
            ],
            [
             0.1111111111111111,
             "#46039f"
            ],
            [
             0.2222222222222222,
             "#7201a8"
            ],
            [
             0.3333333333333333,
             "#9c179e"
            ],
            [
             0.4444444444444444,
             "#bd3786"
            ],
            [
             0.5555555555555556,
             "#d8576b"
            ],
            [
             0.6666666666666666,
             "#ed7953"
            ],
            [
             0.7777777777777778,
             "#fb9f3a"
            ],
            [
             0.8888888888888888,
             "#fdca26"
            ],
            [
             1,
             "#f0f921"
            ]
           ]
          },
          "colorway": [
           "#636efa",
           "#EF553B",
           "#00cc96",
           "#ab63fa",
           "#FFA15A",
           "#19d3f3",
           "#FF6692",
           "#B6E880",
           "#FF97FF",
           "#FECB52"
          ],
          "font": {
           "color": "#2a3f5f"
          },
          "geo": {
           "bgcolor": "white",
           "lakecolor": "white",
           "landcolor": "#E5ECF6",
           "showlakes": true,
           "showland": true,
           "subunitcolor": "white"
          },
          "hoverlabel": {
           "align": "left"
          },
          "hovermode": "closest",
          "mapbox": {
           "style": "light"
          },
          "paper_bgcolor": "white",
          "plot_bgcolor": "#E5ECF6",
          "polar": {
           "angularaxis": {
            "gridcolor": "white",
            "linecolor": "white",
            "ticks": ""
           },
           "bgcolor": "#E5ECF6",
           "radialaxis": {
            "gridcolor": "white",
            "linecolor": "white",
            "ticks": ""
           }
          },
          "scene": {
           "xaxis": {
            "backgroundcolor": "#E5ECF6",
            "gridcolor": "white",
            "gridwidth": 2,
            "linecolor": "white",
            "showbackground": true,
            "ticks": "",
            "zerolinecolor": "white"
           },
           "yaxis": {
            "backgroundcolor": "#E5ECF6",
            "gridcolor": "white",
            "gridwidth": 2,
            "linecolor": "white",
            "showbackground": true,
            "ticks": "",
            "zerolinecolor": "white"
           },
           "zaxis": {
            "backgroundcolor": "#E5ECF6",
            "gridcolor": "white",
            "gridwidth": 2,
            "linecolor": "white",
            "showbackground": true,
            "ticks": "",
            "zerolinecolor": "white"
           }
          },
          "shapedefaults": {
           "line": {
            "color": "#2a3f5f"
           }
          },
          "ternary": {
           "aaxis": {
            "gridcolor": "white",
            "linecolor": "white",
            "ticks": ""
           },
           "baxis": {
            "gridcolor": "white",
            "linecolor": "white",
            "ticks": ""
           },
           "bgcolor": "#E5ECF6",
           "caxis": {
            "gridcolor": "white",
            "linecolor": "white",
            "ticks": ""
           }
          },
          "title": {
           "x": 0.05
          },
          "xaxis": {
           "automargin": true,
           "gridcolor": "white",
           "linecolor": "white",
           "ticks": "",
           "title": {
            "standoff": 15
           },
           "zerolinecolor": "white",
           "zerolinewidth": 2
          },
          "yaxis": {
           "automargin": true,
           "gridcolor": "white",
           "linecolor": "white",
           "ticks": "",
           "title": {
            "standoff": 15
           },
           "zerolinecolor": "white",
           "zerolinewidth": 2
          }
         }
        }
       }
      },
      "text/html": [
       "<div>                            <div id=\"7c75c1f3-627e-44de-9b1e-5f4394577408\" class=\"plotly-graph-div\" style=\"height:525px; width:100%;\"></div>            <script type=\"text/javascript\">                require([\"plotly\"], function(Plotly) {                    window.PLOTLYENV=window.PLOTLYENV || {};                                    if (document.getElementById(\"7c75c1f3-627e-44de-9b1e-5f4394577408\")) {                    Plotly.newPlot(                        \"7c75c1f3-627e-44de-9b1e-5f4394577408\",                        [{\"hole\":0.3,\"labels\":[\"Mar, 2023\",\"Apr, 2023\",\"May, 2023\",\"Jun, 2023\",\"Jul, 2023\",\"Aug, 2023\",\"Sep, 2023\",\"Oct, 2023\",\"Nov, 2023\",\"Dec, 2023\",\"Jan, 2024\",\"Feb, 2024\"],\"values\":[0,1,0,0,0,0,0,0,0,0,0,0],\"type\":\"pie\"}],                        {\"template\":{\"data\":{\"histogram2dcontour\":[{\"type\":\"histogram2dcontour\",\"colorbar\":{\"outlinewidth\":0,\"ticks\":\"\"},\"colorscale\":[[0.0,\"#0d0887\"],[0.1111111111111111,\"#46039f\"],[0.2222222222222222,\"#7201a8\"],[0.3333333333333333,\"#9c179e\"],[0.4444444444444444,\"#bd3786\"],[0.5555555555555556,\"#d8576b\"],[0.6666666666666666,\"#ed7953\"],[0.7777777777777778,\"#fb9f3a\"],[0.8888888888888888,\"#fdca26\"],[1.0,\"#f0f921\"]]}],\"choropleth\":[{\"type\":\"choropleth\",\"colorbar\":{\"outlinewidth\":0,\"ticks\":\"\"}}],\"histogram2d\":[{\"type\":\"histogram2d\",\"colorbar\":{\"outlinewidth\":0,\"ticks\":\"\"},\"colorscale\":[[0.0,\"#0d0887\"],[0.1111111111111111,\"#46039f\"],[0.2222222222222222,\"#7201a8\"],[0.3333333333333333,\"#9c179e\"],[0.4444444444444444,\"#bd3786\"],[0.5555555555555556,\"#d8576b\"],[0.6666666666666666,\"#ed7953\"],[0.7777777777777778,\"#fb9f3a\"],[0.8888888888888888,\"#fdca26\"],[1.0,\"#f0f921\"]]}],\"heatmap\":[{\"type\":\"heatmap\",\"colorbar\":{\"outlinewidth\":0,\"ticks\":\"\"},\"colorscale\":[[0.0,\"#0d0887\"],[0.1111111111111111,\"#46039f\"],[0.2222222222222222,\"#7201a8\"],[0.3333333333333333,\"#9c179e\"],[0.4444444444444444,\"#bd3786\"],[0.5555555555555556,\"#d8576b\"],[0.6666666666666666,\"#ed7953\"],[0.7777777777777778,\"#fb9f3a\"],[0.8888888888888888,\"#fdca26\"],[1.0,\"#f0f921\"]]}],\"heatmapgl\":[{\"type\":\"heatmapgl\",\"colorbar\":{\"outlinewidth\":0,\"ticks\":\"\"},\"colorscale\":[[0.0,\"#0d0887\"],[0.1111111111111111,\"#46039f\"],[0.2222222222222222,\"#7201a8\"],[0.3333333333333333,\"#9c179e\"],[0.4444444444444444,\"#bd3786\"],[0.5555555555555556,\"#d8576b\"],[0.6666666666666666,\"#ed7953\"],[0.7777777777777778,\"#fb9f3a\"],[0.8888888888888888,\"#fdca26\"],[1.0,\"#f0f921\"]]}],\"contourcarpet\":[{\"type\":\"contourcarpet\",\"colorbar\":{\"outlinewidth\":0,\"ticks\":\"\"}}],\"contour\":[{\"type\":\"contour\",\"colorbar\":{\"outlinewidth\":0,\"ticks\":\"\"},\"colorscale\":[[0.0,\"#0d0887\"],[0.1111111111111111,\"#46039f\"],[0.2222222222222222,\"#7201a8\"],[0.3333333333333333,\"#9c179e\"],[0.4444444444444444,\"#bd3786\"],[0.5555555555555556,\"#d8576b\"],[0.6666666666666666,\"#ed7953\"],[0.7777777777777778,\"#fb9f3a\"],[0.8888888888888888,\"#fdca26\"],[1.0,\"#f0f921\"]]}],\"surface\":[{\"type\":\"surface\",\"colorbar\":{\"outlinewidth\":0,\"ticks\":\"\"},\"colorscale\":[[0.0,\"#0d0887\"],[0.1111111111111111,\"#46039f\"],[0.2222222222222222,\"#7201a8\"],[0.3333333333333333,\"#9c179e\"],[0.4444444444444444,\"#bd3786\"],[0.5555555555555556,\"#d8576b\"],[0.6666666666666666,\"#ed7953\"],[0.7777777777777778,\"#fb9f3a\"],[0.8888888888888888,\"#fdca26\"],[1.0,\"#f0f921\"]]}],\"mesh3d\":[{\"type\":\"mesh3d\",\"colorbar\":{\"outlinewidth\":0,\"ticks\":\"\"}}],\"scatter\":[{\"fillpattern\":{\"fillmode\":\"overlay\",\"size\":10,\"solidity\":0.2},\"type\":\"scatter\"}],\"parcoords\":[{\"type\":\"parcoords\",\"line\":{\"colorbar\":{\"outlinewidth\":0,\"ticks\":\"\"}}}],\"scatterpolargl\":[{\"type\":\"scatterpolargl\",\"marker\":{\"colorbar\":{\"outlinewidth\":0,\"ticks\":\"\"}}}],\"bar\":[{\"error_x\":{\"color\":\"#2a3f5f\"},\"error_y\":{\"color\":\"#2a3f5f\"},\"marker\":{\"line\":{\"color\":\"#E5ECF6\",\"width\":0.5},\"pattern\":{\"fillmode\":\"overlay\",\"size\":10,\"solidity\":0.2}},\"type\":\"bar\"}],\"scattergeo\":[{\"type\":\"scattergeo\",\"marker\":{\"colorbar\":{\"outlinewidth\":0,\"ticks\":\"\"}}}],\"scatterpolar\":[{\"type\":\"scatterpolar\",\"marker\":{\"colorbar\":{\"outlinewidth\":0,\"ticks\":\"\"}}}],\"histogram\":[{\"marker\":{\"pattern\":{\"fillmode\":\"overlay\",\"size\":10,\"solidity\":0.2}},\"type\":\"histogram\"}],\"scattergl\":[{\"type\":\"scattergl\",\"marker\":{\"colorbar\":{\"outlinewidth\":0,\"ticks\":\"\"}}}],\"scatter3d\":[{\"type\":\"scatter3d\",\"line\":{\"colorbar\":{\"outlinewidth\":0,\"ticks\":\"\"}},\"marker\":{\"colorbar\":{\"outlinewidth\":0,\"ticks\":\"\"}}}],\"scattermapbox\":[{\"type\":\"scattermapbox\",\"marker\":{\"colorbar\":{\"outlinewidth\":0,\"ticks\":\"\"}}}],\"scatterternary\":[{\"type\":\"scatterternary\",\"marker\":{\"colorbar\":{\"outlinewidth\":0,\"ticks\":\"\"}}}],\"scattercarpet\":[{\"type\":\"scattercarpet\",\"marker\":{\"colorbar\":{\"outlinewidth\":0,\"ticks\":\"\"}}}],\"carpet\":[{\"aaxis\":{\"endlinecolor\":\"#2a3f5f\",\"gridcolor\":\"white\",\"linecolor\":\"white\",\"minorgridcolor\":\"white\",\"startlinecolor\":\"#2a3f5f\"},\"baxis\":{\"endlinecolor\":\"#2a3f5f\",\"gridcolor\":\"white\",\"linecolor\":\"white\",\"minorgridcolor\":\"white\",\"startlinecolor\":\"#2a3f5f\"},\"type\":\"carpet\"}],\"table\":[{\"cells\":{\"fill\":{\"color\":\"#EBF0F8\"},\"line\":{\"color\":\"white\"}},\"header\":{\"fill\":{\"color\":\"#C8D4E3\"},\"line\":{\"color\":\"white\"}},\"type\":\"table\"}],\"barpolar\":[{\"marker\":{\"line\":{\"color\":\"#E5ECF6\",\"width\":0.5},\"pattern\":{\"fillmode\":\"overlay\",\"size\":10,\"solidity\":0.2}},\"type\":\"barpolar\"}],\"pie\":[{\"automargin\":true,\"type\":\"pie\"}]},\"layout\":{\"autotypenumbers\":\"strict\",\"colorway\":[\"#636efa\",\"#EF553B\",\"#00cc96\",\"#ab63fa\",\"#FFA15A\",\"#19d3f3\",\"#FF6692\",\"#B6E880\",\"#FF97FF\",\"#FECB52\"],\"font\":{\"color\":\"#2a3f5f\"},\"hovermode\":\"closest\",\"hoverlabel\":{\"align\":\"left\"},\"paper_bgcolor\":\"white\",\"plot_bgcolor\":\"#E5ECF6\",\"polar\":{\"bgcolor\":\"#E5ECF6\",\"angularaxis\":{\"gridcolor\":\"white\",\"linecolor\":\"white\",\"ticks\":\"\"},\"radialaxis\":{\"gridcolor\":\"white\",\"linecolor\":\"white\",\"ticks\":\"\"}},\"ternary\":{\"bgcolor\":\"#E5ECF6\",\"aaxis\":{\"gridcolor\":\"white\",\"linecolor\":\"white\",\"ticks\":\"\"},\"baxis\":{\"gridcolor\":\"white\",\"linecolor\":\"white\",\"ticks\":\"\"},\"caxis\":{\"gridcolor\":\"white\",\"linecolor\":\"white\",\"ticks\":\"\"}},\"coloraxis\":{\"colorbar\":{\"outlinewidth\":0,\"ticks\":\"\"}},\"colorscale\":{\"sequential\":[[0.0,\"#0d0887\"],[0.1111111111111111,\"#46039f\"],[0.2222222222222222,\"#7201a8\"],[0.3333333333333333,\"#9c179e\"],[0.4444444444444444,\"#bd3786\"],[0.5555555555555556,\"#d8576b\"],[0.6666666666666666,\"#ed7953\"],[0.7777777777777778,\"#fb9f3a\"],[0.8888888888888888,\"#fdca26\"],[1.0,\"#f0f921\"]],\"sequentialminus\":[[0.0,\"#0d0887\"],[0.1111111111111111,\"#46039f\"],[0.2222222222222222,\"#7201a8\"],[0.3333333333333333,\"#9c179e\"],[0.4444444444444444,\"#bd3786\"],[0.5555555555555556,\"#d8576b\"],[0.6666666666666666,\"#ed7953\"],[0.7777777777777778,\"#fb9f3a\"],[0.8888888888888888,\"#fdca26\"],[1.0,\"#f0f921\"]],\"diverging\":[[0,\"#8e0152\"],[0.1,\"#c51b7d\"],[0.2,\"#de77ae\"],[0.3,\"#f1b6da\"],[0.4,\"#fde0ef\"],[0.5,\"#f7f7f7\"],[0.6,\"#e6f5d0\"],[0.7,\"#b8e186\"],[0.8,\"#7fbc41\"],[0.9,\"#4d9221\"],[1,\"#276419\"]]},\"xaxis\":{\"gridcolor\":\"white\",\"linecolor\":\"white\",\"ticks\":\"\",\"title\":{\"standoff\":15},\"zerolinecolor\":\"white\",\"automargin\":true,\"zerolinewidth\":2},\"yaxis\":{\"gridcolor\":\"white\",\"linecolor\":\"white\",\"ticks\":\"\",\"title\":{\"standoff\":15},\"zerolinecolor\":\"white\",\"automargin\":true,\"zerolinewidth\":2},\"scene\":{\"xaxis\":{\"backgroundcolor\":\"#E5ECF6\",\"gridcolor\":\"white\",\"linecolor\":\"white\",\"showbackground\":true,\"ticks\":\"\",\"zerolinecolor\":\"white\",\"gridwidth\":2},\"yaxis\":{\"backgroundcolor\":\"#E5ECF6\",\"gridcolor\":\"white\",\"linecolor\":\"white\",\"showbackground\":true,\"ticks\":\"\",\"zerolinecolor\":\"white\",\"gridwidth\":2},\"zaxis\":{\"backgroundcolor\":\"#E5ECF6\",\"gridcolor\":\"white\",\"linecolor\":\"white\",\"showbackground\":true,\"ticks\":\"\",\"zerolinecolor\":\"white\",\"gridwidth\":2}},\"shapedefaults\":{\"line\":{\"color\":\"#2a3f5f\"}},\"annotationdefaults\":{\"arrowcolor\":\"#2a3f5f\",\"arrowhead\":0,\"arrowwidth\":1},\"geo\":{\"bgcolor\":\"white\",\"landcolor\":\"#E5ECF6\",\"subunitcolor\":\"white\",\"showland\":true,\"showlakes\":true,\"lakecolor\":\"white\"},\"title\":{\"x\":0.05},\"mapbox\":{\"style\":\"light\"}}}},                        {\"responsive\": true}                    ).then(function(){\n",
       "                            \n",
       "var gd = document.getElementById('7c75c1f3-627e-44de-9b1e-5f4394577408');\n",
       "var x = new MutationObserver(function (mutations, observer) {{\n",
       "        var display = window.getComputedStyle(gd).display;\n",
       "        if (!display || display === 'none') {{\n",
       "            console.log([gd, 'removed!']);\n",
       "            Plotly.purge(gd);\n",
       "            observer.disconnect();\n",
       "        }}\n",
       "}});\n",
       "\n",
       "// Listen for the removal of the full notebook cells\n",
       "var notebookContainer = gd.closest('#notebook-container');\n",
       "if (notebookContainer) {{\n",
       "    x.observe(notebookContainer, {childList: true});\n",
       "}}\n",
       "\n",
       "// Listen for the clearing of the current output cell\n",
       "var outputEl = gd.closest('.output');\n",
       "if (outputEl) {{\n",
       "    x.observe(outputEl, {childList: true});\n",
       "}}\n",
       "\n",
       "                        })                };                });            </script>        </div>"
      ]
     },
     "metadata": {},
     "output_type": "display_data"
    }
   ],
   "source": [
    "import plotly.graph_objects as go\n",
    "\n",
    "labels = years_list\n",
    "values = new_df['gala_count'].tolist()\n",
    "\n",
    "# Use `hole` to create a donut-like pie chart\n",
    "fig = go.Figure(data=[go.Pie(labels=labels, values=values, hole=.3)])\n",
    "fig.show()"
   ]
  },
  {
   "cell_type": "code",
   "execution_count": 37,
   "id": "6ddb8458",
   "metadata": {},
   "outputs": [
    {
     "ename": "ModuleNotFoundError",
     "evalue": "No module named 'barchart3d'",
     "output_type": "error",
     "traceback": [
      "\u001b[0;31m---------------------------------------------------------------------------\u001b[0m",
      "\u001b[0;31mModuleNotFoundError\u001b[0m                       Traceback (most recent call last)",
      "Cell \u001b[0;32mIn[37], line 2\u001b[0m\n\u001b[1;32m      1\u001b[0m \u001b[38;5;28;01mimport\u001b[39;00m \u001b[38;5;21;01mplotly\u001b[39;00m\u001b[38;5;21;01m.\u001b[39;00m\u001b[38;5;21;01mdata\u001b[39;00m \u001b[38;5;28;01mas\u001b[39;00m \u001b[38;5;21;01mpdata\u001b[39;00m\n\u001b[0;32m----> 2\u001b[0m \u001b[38;5;28;01mfrom\u001b[39;00m \u001b[38;5;21;01mbarchart3d\u001b[39;00m \u001b[38;5;28;01mimport\u001b[39;00m barchart3d\n\u001b[1;32m      4\u001b[0m df \u001b[38;5;241m=\u001b[39m pdata\u001b[38;5;241m.\u001b[39mgapminder()\n\u001b[1;32m      5\u001b[0m df \u001b[38;5;241m=\u001b[39m df[df[\u001b[38;5;124m'\u001b[39m\u001b[38;5;124myear\u001b[39m\u001b[38;5;124m'\u001b[39m] \u001b[38;5;241m==\u001b[39m \u001b[38;5;241m2007\u001b[39m]\u001b[38;5;241m.\u001b[39msort_values(by\u001b[38;5;241m=\u001b[39m\u001b[38;5;124m'\u001b[39m\u001b[38;5;124mpop\u001b[39m\u001b[38;5;124m'\u001b[39m, ascending\u001b[38;5;241m=\u001b[39m\u001b[38;5;28;01mFalse\u001b[39;00m)\u001b[38;5;241m.\u001b[39mhead(\u001b[38;5;241m10\u001b[39m)\n",
      "\u001b[0;31mModuleNotFoundError\u001b[0m: No module named 'barchart3d'"
     ]
    }
   ],
   "source": [
    "import plotly.data as pdata\n",
    "from barchart3d import barchart3d\n",
    "\n",
    "df = pdata.gapminder()\n",
    "df = df[df['year'] == 2007].sort_values(by='pop', ascending=False).head(10)\n",
    "fig = barchart3d(\n",
    "    df['country'].to_list(), (df['pop']/1e06).round(1).to_list(),\n",
    "    'Top 10 most populous countries in 2007 [Gapminder]', 'Population, mln',\n",
    "    colorscale='Bluered', opacity=0.6, flatshading=True)\n",
    "fig.show()"
   ]
  },
  {
   "cell_type": "code",
   "execution_count": 39,
   "id": "878ff292",
   "metadata": {},
   "outputs": [
    {
     "name": "stdout",
     "output_type": "stream",
     "text": [
      "\u001b[31mERROR: Could not find a version that satisfies the requirement barchart3d (from versions: none)\u001b[0m\u001b[31m\r\n",
      "\u001b[0m\u001b[31mERROR: No matching distribution found for barchart3d\u001b[0m\u001b[31m\r\n",
      "\u001b[0m"
     ]
    }
   ],
   "source": []
  },
  {
   "cell_type": "code",
   "execution_count": 29,
   "id": "a2898256",
   "metadata": {},
   "outputs": [
    {
     "name": "stdout",
     "output_type": "stream",
     "text": [
      "Collecting plotly\n",
      "  Downloading plotly-5.13.1-py2.py3-none-any.whl (15.2 MB)\n",
      "\u001b[2K     \u001b[38;2;114;156;31m━━━━━━━━━━━━━━━━━━━━━━━━━━━━━━━━━━━━━━━━\u001b[0m \u001b[32m15.2/15.2 MB\u001b[0m \u001b[31m8.0 MB/s\u001b[0m eta \u001b[36m0:00:00\u001b[0mm eta \u001b[36m0:00:01\u001b[0m0:01\u001b[0m:01\u001b[0m\n",
      "\u001b[?25hCollecting tenacity>=6.2.0\n",
      "  Downloading tenacity-8.2.2-py3-none-any.whl (24 kB)\n",
      "Installing collected packages: tenacity, plotly\n",
      "Successfully installed plotly-5.13.1 tenacity-8.2.2\n"
     ]
    }
   ],
   "source": [
    "!pip install plotly"
   ]
  },
  {
   "cell_type": "code",
   "execution_count": 242,
   "id": "caf3f694",
   "metadata": {},
   "outputs": [],
   "source": [
    "get_rental = ContractRental.objects.filter(user_id=10).select_related(\"gala__warehouse__company\",\"owner\").annotate(\n",
    "    days=F('agreement_valid_end_date')-datetime.today().date(),\n",
    "    request_count = Count(\"gala__gala_renew_request\"),\n",
    "    renew_status = F(\"gala__gala_renew_request__renew_status\"),\n",
    "    leave_request_count = Count(\"gala__user_gala_leave_request\"),\n",
    "    leave_request_status = F(\"gala__user_gala_leave_request__status\")\n",
    ").annotate(\n",
    "    to_be_renewed = Case(\n",
    "    When(\n",
    "        Q(days__lte = timedelta(days=90)) & Q(days__gte = timedelta(days=0)) | Q(days__lte = timedelta(days=0)) & Q(days__gte = timedelta(days=-30)),\n",
    "        leave_request_status = None,\n",
    "        renew_status = None,    \n",
    "        then = Value(True)),\n",
    "    When(\n",
    "        Q(days__lte = timedelta(days=90)) & Q(days__gte = timedelta(days=0)) | Q(days__lte = timedelta(days=0)) & Q(days__gte = timedelta(days=-30)),\n",
    "        renew_status__in = ['Reject',None],\n",
    "        leave_request_status = \"Pending\",\n",
    "        then = Value(False)),\n",
    "    When(\n",
    "        Q(days__lte = timedelta(days=90)) & Q(days__gte = timedelta(days=0)) | Q(days__lte = timedelta(days=0)) & Q(days__gte = timedelta(days=-30)),\n",
    "        renew_status = None,\n",
    "        leave_request_status = \"Reject\",\n",
    "        then = Value(True)),\n",
    "    When(\n",
    "        Q(days__lte = timedelta(days=90)) & Q(days__gte = timedelta(days=0)) | Q(days__lte = timedelta(days=0)) & Q(days__gte = timedelta(days=-30)),\n",
    "        renew_status = \"Pending\",\n",
    "        leave_request_status = \"Reject\",\n",
    "        then = Value(False)),\n",
    "    When(\n",
    "        Q(days__lte = timedelta(days=90)) & Q(days__gte = timedelta(days=0)) | Q(days__lte = timedelta(days=0)) & Q(days__gte = timedelta(days=-30)),\n",
    "        renew_status = \"Reject\",\n",
    "        leave_request_status = \"Pending\",\n",
    "        then = Value(False)),\n",
    "    When(\n",
    "        Q(days__lte = timedelta(days=90)) & Q(days__gte = timedelta(days=0)) | Q(days__lte = timedelta(days=0)) & Q(days__gte = timedelta(days=-30)),\n",
    "        renew_status = \"Reject\",\n",
    "        leave_request_status = \"Reject\",\n",
    "        then = Value(True)),\n",
    "    When(\n",
    "        Q(days__lte = timedelta(days=90)) & Q(days__gte = timedelta(days=0)) | Q(days__lte = timedelta(days=0)) & Q(days__gte = timedelta(days=-30)),\n",
    "        renew_status = \"Reject\",\n",
    "        leave_request_status = None,\n",
    "        then = Value(True)),\n",
    "    default=False\n",
    "    )\n",
    "    \n",
    ")"
   ]
  },
  {
   "cell_type": "code",
   "execution_count": 243,
   "id": "25ec9431",
   "metadata": {},
   "outputs": [],
   "source": [
    "df = read_frame(get_rental)"
   ]
  },
  {
   "cell_type": "code",
   "execution_count": 244,
   "id": "0e62de3f",
   "metadata": {},
   "outputs": [
    {
     "data": {
      "text/html": [
       "<div>\n",
       "<style scoped>\n",
       "    .dataframe tbody tr th:only-of-type {\n",
       "        vertical-align: middle;\n",
       "    }\n",
       "\n",
       "    .dataframe tbody tr th {\n",
       "        vertical-align: top;\n",
       "    }\n",
       "\n",
       "    .dataframe thead th {\n",
       "        text-align: right;\n",
       "    }\n",
       "</style>\n",
       "<table border=\"1\" class=\"dataframe\">\n",
       "  <thead>\n",
       "    <tr style=\"text-align: right;\">\n",
       "      <th></th>\n",
       "      <th>id</th>\n",
       "      <th>polymorphic_ctype</th>\n",
       "      <th>uid</th>\n",
       "      <th>created_at</th>\n",
       "      <th>updated_at</th>\n",
       "      <th>contract_ptr</th>\n",
       "      <th>gala</th>\n",
       "      <th>owner</th>\n",
       "      <th>user</th>\n",
       "      <th>agreement_type</th>\n",
       "      <th>...</th>\n",
       "      <th>agreement_valid_doc</th>\n",
       "      <th>ghar_patti_doc</th>\n",
       "      <th>ghar_patti_start_date</th>\n",
       "      <th>ghar_patti_end_date</th>\n",
       "      <th>days</th>\n",
       "      <th>request_count</th>\n",
       "      <th>renew_status</th>\n",
       "      <th>leave_request_count</th>\n",
       "      <th>leave_request_status</th>\n",
       "      <th>to_be_renewed</th>\n",
       "    </tr>\n",
       "  </thead>\n",
       "  <tbody>\n",
       "    <tr>\n",
       "      <th>0</th>\n",
       "      <td>15</td>\n",
       "      <td>contract | rental</td>\n",
       "      <td>8b508695-6ce2-422d-a22c-81b2a1a05ff3</td>\n",
       "      <td>2023-03-20 08:47:06.789129+00:00</td>\n",
       "      <td>2023-03-20 12:01:54.607798+00:00</td>\n",
       "      <td>15</td>\n",
       "      <td>2</td>\n",
       "      <td>admin</td>\n",
       "      <td>mayank</td>\n",
       "      <td>Leave_and_License</td>\n",
       "      <td>...</td>\n",
       "      <td>Leave_and_License/Owner/admin - mayank (8b5086...</td>\n",
       "      <td>Leave_and_License/Owner/admin - mayank (8b5086...</td>\n",
       "      <td>2021-04-20</td>\n",
       "      <td>2022-04-20</td>\n",
       "      <td>1126 days</td>\n",
       "      <td>0</td>\n",
       "      <td>None</td>\n",
       "      <td>0</td>\n",
       "      <td>None</td>\n",
       "      <td>False</td>\n",
       "    </tr>\n",
       "    <tr>\n",
       "      <th>1</th>\n",
       "      <td>16</td>\n",
       "      <td>contract | rental</td>\n",
       "      <td>2ae3b813-37e5-4905-a6bb-8676fbfd6939</td>\n",
       "      <td>2023-03-20 09:29:29.531730+00:00</td>\n",
       "      <td>2023-03-20 09:29:48.673649+00:00</td>\n",
       "      <td>16</td>\n",
       "      <td>1</td>\n",
       "      <td>admin</td>\n",
       "      <td>mayank</td>\n",
       "      <td>Leave_and_License</td>\n",
       "      <td>...</td>\n",
       "      <td>Leave_and_License/Owner/admin - mayank (2ae3b8...</td>\n",
       "      <td>Leave_and_License/Owner/admin - mayank (2ae3b8...</td>\n",
       "      <td>2021-03-20</td>\n",
       "      <td>2022-03-20</td>\n",
       "      <td>1095 days</td>\n",
       "      <td>0</td>\n",
       "      <td>None</td>\n",
       "      <td>0</td>\n",
       "      <td>None</td>\n",
       "      <td>False</td>\n",
       "    </tr>\n",
       "    <tr>\n",
       "      <th>2</th>\n",
       "      <td>17</td>\n",
       "      <td>contract | rental</td>\n",
       "      <td>a9c8f203-8f65-4845-977b-520ed03aa036</td>\n",
       "      <td>2023-03-20 10:55:34.802663+00:00</td>\n",
       "      <td>2023-03-20 10:58:42.139226+00:00</td>\n",
       "      <td>17</td>\n",
       "      <td>7</td>\n",
       "      <td>admin</td>\n",
       "      <td>mayank</td>\n",
       "      <td>Leave_and_License</td>\n",
       "      <td>...</td>\n",
       "      <td>Leave_and_License/Owner/admin - mayank (a9c8f2...</td>\n",
       "      <td>Leave_and_License/Owner/admin - mayank (a9c8f2...</td>\n",
       "      <td>2018-03-20</td>\n",
       "      <td>2019-03-20</td>\n",
       "      <td>30 days</td>\n",
       "      <td>1</td>\n",
       "      <td>Reject</td>\n",
       "      <td>1</td>\n",
       "      <td>Pending</td>\n",
       "      <td>False</td>\n",
       "    </tr>\n",
       "  </tbody>\n",
       "</table>\n",
       "<p>3 rows × 23 columns</p>\n",
       "</div>"
      ],
      "text/plain": [
       "   id  polymorphic_ctype                                   uid  \\\n",
       "0  15  contract | rental  8b508695-6ce2-422d-a22c-81b2a1a05ff3   \n",
       "1  16  contract | rental  2ae3b813-37e5-4905-a6bb-8676fbfd6939   \n",
       "2  17  contract | rental  a9c8f203-8f65-4845-977b-520ed03aa036   \n",
       "\n",
       "                        created_at                       updated_at  \\\n",
       "0 2023-03-20 08:47:06.789129+00:00 2023-03-20 12:01:54.607798+00:00   \n",
       "1 2023-03-20 09:29:29.531730+00:00 2023-03-20 09:29:48.673649+00:00   \n",
       "2 2023-03-20 10:55:34.802663+00:00 2023-03-20 10:58:42.139226+00:00   \n",
       "\n",
       "   contract_ptr  gala  owner    user     agreement_type  ...  \\\n",
       "0            15     2  admin  mayank  Leave_and_License  ...   \n",
       "1            16     1  admin  mayank  Leave_and_License  ...   \n",
       "2            17     7  admin  mayank  Leave_and_License  ...   \n",
       "\n",
       "                                 agreement_valid_doc  \\\n",
       "0  Leave_and_License/Owner/admin - mayank (8b5086...   \n",
       "1  Leave_and_License/Owner/admin - mayank (2ae3b8...   \n",
       "2  Leave_and_License/Owner/admin - mayank (a9c8f2...   \n",
       "\n",
       "                                      ghar_patti_doc ghar_patti_start_date  \\\n",
       "0  Leave_and_License/Owner/admin - mayank (8b5086...            2021-04-20   \n",
       "1  Leave_and_License/Owner/admin - mayank (2ae3b8...            2021-03-20   \n",
       "2  Leave_and_License/Owner/admin - mayank (a9c8f2...            2018-03-20   \n",
       "\n",
       "  ghar_patti_end_date      days request_count renew_status  \\\n",
       "0          2022-04-20 1126 days             0         None   \n",
       "1          2022-03-20 1095 days             0         None   \n",
       "2          2019-03-20   30 days             1       Reject   \n",
       "\n",
       "  leave_request_count  leave_request_status to_be_renewed  \n",
       "0                   0                  None         False  \n",
       "1                   0                  None         False  \n",
       "2                   1               Pending         False  \n",
       "\n",
       "[3 rows x 23 columns]"
      ]
     },
     "execution_count": 244,
     "metadata": {},
     "output_type": "execute_result"
    }
   ],
   "source": [
    "df"
   ]
  },
  {
   "cell_type": "code",
   "execution_count": 217,
   "id": "d95bd3e5",
   "metadata": {},
   "outputs": [
    {
     "data": {
      "text/plain": [
       "<PolymorphicQuerySet [<Rental: Leave_and_License>, <Rental: Leave_and_License>, <Rental: Leave_and_License>]>"
      ]
     },
     "execution_count": 217,
     "metadata": {},
     "output_type": "execute_result"
    }
   ],
   "source": [
    "get_rental"
   ]
  },
  {
   "cell_type": "code",
   "execution_count": null,
   "id": "9b26f7d4",
   "metadata": {},
   "outputs": [],
   "source": [
    "# Case(\n",
    "#     When(\n",
    "#         status = \"B\",\n",
    "#         bet_on_team = winningTeam,\n",
    "#         winning_team = winningTeam,\n",
    "#         then = F('amount') * F(\"odds\") - F(\"amount\")),\n",
    "#     When(\n",
    "#         ~Q(bet_on_team = winningTeam),\n",
    "#         status = \"B\",\n",
    "#         winning_team = winningTeam,\n",
    "#         then = -F('amount')),\n",
    "#      When(\n",
    "#         status = \"L\",\n",
    "#         bet_on_team = winningTeam,\n",
    "#         winning_team = winningTeam,\n",
    "#         then = F('amount') * - F(\"odds\") + F(\"amount\")),\n",
    "#      When(\n",
    "#          ~Q(bet_on_team = winningTeam),\n",
    "#         status = \"L\",\n",
    "#         winning_team = winningTeam,\n",
    "#         then = F('amount')),\n",
    "#     default=F(\"loss_profit\")\n",
    "#     )"
   ]
  },
  {
   "cell_type": "code",
   "execution_count": null,
   "id": "28f7b8f1",
   "metadata": {},
   "outputs": [],
   "source": []
  },
  {
   "cell_type": "code",
   "execution_count": null,
   "id": "7a2e54fa",
   "metadata": {},
   "outputs": [],
   "source": []
  },
  {
   "cell_type": "code",
   "execution_count": null,
   "id": "abcbf6e3",
   "metadata": {},
   "outputs": [],
   "source": []
  },
  {
   "cell_type": "code",
   "execution_count": null,
   "id": "d0a49396",
   "metadata": {},
   "outputs": [],
   "source": []
  },
  {
   "cell_type": "code",
   "execution_count": 28,
   "id": "12fc30d9",
   "metadata": {},
   "outputs": [],
   "source": [
    "get_rental = ContractRental.objects.filter(user_id=10).select_related(\"gala__warehouse__company\",\"owner\")"
   ]
  },
  {
   "cell_type": "code",
   "execution_count": 16,
   "id": "dbcd86ea",
   "metadata": {},
   "outputs": [
    {
     "data": {
      "text/plain": [
       "<PolymorphicQuerySet [<Rental: Leave_and_License>, <Rental: Leave_and_License>, <Rental: Leave_and_License>]>"
      ]
     },
     "execution_count": 16,
     "metadata": {},
     "output_type": "execute_result"
    }
   ],
   "source": [
    "get_rental"
   ]
  },
  {
   "cell_type": "code",
   "execution_count": 11,
   "id": "020122bb",
   "metadata": {},
   "outputs": [
    {
     "data": {
      "text/plain": [
       "'2023-03-21'"
      ]
     },
     "execution_count": 11,
     "metadata": {},
     "output_type": "execute_result"
    }
   ],
   "source": [
    "str(datetime.today().date())"
   ]
  },
  {
   "cell_type": "code",
   "execution_count": null,
   "id": "cb62ff5c",
   "metadata": {},
   "outputs": [],
   "source": []
  },
  {
   "cell_type": "code",
   "execution_count": 57,
   "id": "18e44850",
   "metadata": {},
   "outputs": [],
   "source": [
    "get_rental_gala = ContractRental.objects.filter(\n",
    "                user_id=10,locking_period__lte=str(datetime.today().date())\n",
    "                ).prefetch_related(\n",
    "                    'gala__user_gala_leave_request'\n",
    "                    ).values(\"gala__uid\",\"gala__gala_number\").annotate(\n",
    "                        total_leave_request = Count(\"gala__user_gala_leave_request\"),\n",
    "                        leave_request_status  = F(\"gala__user_gala_leave_request__status\"),\n",
    "                        total_gala_renew_request = Count(\"gala__gala_renew_request\"),\n",
    "                        total_renew_request_status = F(\"gala__gala_renew_request__renew_status\"),\n",
    "                    ).filter(Q(leave_request_status = None) | Q(leave_request_status = \"Reject\")).values(\"gala__uid\",\"gala__gala_number\",\"total_gala_renew_request\",\"total_renew_request_status\").distinct().filter(Q(total_renew_request_status = None) | Q(total_renew_request_status = \"Reject\"))"
   ]
  },
  {
   "cell_type": "code",
   "execution_count": 58,
   "id": "5895211c",
   "metadata": {},
   "outputs": [
    {
     "data": {
      "text/plain": [
       "<PolymorphicQuerySet [{'gala__uid': UUID('16b2b643-811b-4828-9a84-d41e957fca3d'), 'gala__gala_number': '1', 'total_gala_renew_request': 0, 'total_renew_request_status': None}, {'gala__uid': UUID('3a686b64-fccc-432f-a331-03221a7f98de'), 'gala__gala_number': 'OM3/1', 'total_gala_renew_request': 1, 'total_renew_request_status': 'Reject'}]>"
      ]
     },
     "execution_count": 58,
     "metadata": {},
     "output_type": "execute_result"
    }
   ],
   "source": [
    "get_rental_gala"
   ]
  },
  {
   "cell_type": "code",
   "execution_count": 43,
   "id": "40324c27",
   "metadata": {},
   "outputs": [],
   "source": [
    "from django_pandas.io import read_frame"
   ]
  },
  {
   "cell_type": "code",
   "execution_count": 31,
   "id": "cbd77850",
   "metadata": {},
   "outputs": [],
   "source": [
    "df = read_frame(get_rental_gala)"
   ]
  },
  {
   "cell_type": "code",
   "execution_count": 32,
   "id": "e849996b",
   "metadata": {},
   "outputs": [
    {
     "data": {
      "text/html": [
       "<div>\n",
       "<style scoped>\n",
       "    .dataframe tbody tr th:only-of-type {\n",
       "        vertical-align: middle;\n",
       "    }\n",
       "\n",
       "    .dataframe tbody tr th {\n",
       "        vertical-align: top;\n",
       "    }\n",
       "\n",
       "    .dataframe thead th {\n",
       "        text-align: right;\n",
       "    }\n",
       "</style>\n",
       "<table border=\"1\" class=\"dataframe\">\n",
       "  <thead>\n",
       "    <tr style=\"text-align: right;\">\n",
       "      <th></th>\n",
       "      <th>gala__uid</th>\n",
       "      <th>gala__gala_number</th>\n",
       "      <th>total_gala_renew_request</th>\n",
       "      <th>gala_renew_request_status</th>\n",
       "    </tr>\n",
       "  </thead>\n",
       "  <tbody>\n",
       "    <tr>\n",
       "      <th>0</th>\n",
       "      <td>16b2b643-811b-4828-9a84-d41e957fca3d</td>\n",
       "      <td>1</td>\n",
       "      <td>0</td>\n",
       "      <td>None</td>\n",
       "    </tr>\n",
       "  </tbody>\n",
       "</table>\n",
       "</div>"
      ],
      "text/plain": [
       "                              gala__uid gala__gala_number  \\\n",
       "0  16b2b643-811b-4828-9a84-d41e957fca3d                 1   \n",
       "\n",
       "   total_gala_renew_request gala_renew_request_status  \n",
       "0                         0                      None  "
      ]
     },
     "execution_count": 32,
     "metadata": {},
     "output_type": "execute_result"
    }
   ],
   "source": [
    "df"
   ]
  },
  {
   "cell_type": "code",
   "execution_count": null,
   "id": "ea997cc2",
   "metadata": {},
   "outputs": [],
   "source": []
  },
  {
   "cell_type": "code",
   "execution_count": null,
   "id": "161c7897",
   "metadata": {},
   "outputs": [],
   "source": []
  },
  {
   "cell_type": "code",
   "execution_count": null,
   "id": "e769eeb1",
   "metadata": {},
   "outputs": [],
   "source": []
  },
  {
   "cell_type": "code",
   "execution_count": null,
   "id": "f6ad8595",
   "metadata": {},
   "outputs": [],
   "source": []
  },
  {
   "cell_type": "code",
   "execution_count": 3,
   "id": "0b3268b4",
   "metadata": {},
   "outputs": [],
   "source": [
    "get_contracts = ContractRental.objects.filter(gala__warehouse__company__name=\"Omkar\",\n",
    "    agreement_valid_end_date__month=\"3\", agreement_valid_end_date__year=\"2023\"\n",
    ")"
   ]
  },
  {
   "cell_type": "code",
   "execution_count": 4,
   "id": "e45b208b",
   "metadata": {},
   "outputs": [
    {
     "data": {
      "text/plain": [
       "<PolymorphicQuerySet []>"
      ]
     },
     "execution_count": 4,
     "metadata": {},
     "output_type": "execute_result"
    }
   ],
   "source": [
    "get_contracts"
   ]
  },
  {
   "cell_type": "code",
   "execution_count": null,
   "id": "cbbfb5b3",
   "metadata": {},
   "outputs": [],
   "source": []
  },
  {
   "cell_type": "code",
   "execution_count": 5,
   "id": "f0168f44",
   "metadata": {},
   "outputs": [],
   "source": [
    "get_today_date = date.today()"
   ]
  },
  {
   "cell_type": "code",
   "execution_count": 6,
   "id": "519845c8",
   "metadata": {},
   "outputs": [],
   "source": [
    "get_next_year_date = get_today_date + relativedelta(years=1)"
   ]
  },
  {
   "cell_type": "code",
   "execution_count": 7,
   "id": "479c967b",
   "metadata": {},
   "outputs": [
    {
     "data": {
      "text/plain": [
       "datetime.date(2023, 3, 18)"
      ]
     },
     "execution_count": 7,
     "metadata": {},
     "output_type": "execute_result"
    }
   ],
   "source": [
    "get_today_date"
   ]
  },
  {
   "cell_type": "code",
   "execution_count": 8,
   "id": "ddb9acd2",
   "metadata": {},
   "outputs": [
    {
     "data": {
      "text/plain": [
       "datetime.date(2024, 3, 18)"
      ]
     },
     "execution_count": 8,
     "metadata": {},
     "output_type": "execute_result"
    }
   ],
   "source": [
    "get_next_year_date"
   ]
  },
  {
   "cell_type": "code",
   "execution_count": 9,
   "id": "4b862ada",
   "metadata": {},
   "outputs": [],
   "source": [
    "get_contracts = ContractRental.objects.filter(gala__warehouse__company__name=\"Omkar\",\n",
    "    agreement_valid_end_date__range=[get_today_date,get_next_year_date]\n",
    ").annotate(\n",
    "    month = ExtractMonth('agreement_valid_end_date'),year = ExtractYear('agreement_valid_end_date')\n",
    ").values(\"month\",\"gala__gala_area_size\",\"gala__gala_number\")"
   ]
  },
  {
   "cell_type": "code",
   "execution_count": 10,
   "id": "1e9cc370",
   "metadata": {
    "scrolled": true
   },
   "outputs": [
    {
     "data": {
      "text/plain": [
       "<PolymorphicQuerySet [{'gala__gala_area_size': Decimal('2000.00'), 'gala__gala_number': 'OM3/1', 'month': 4}, {'gala__gala_area_size': Decimal('2500.00'), 'gala__gala_number': '12', 'month': 4}, {'gala__gala_area_size': Decimal('2000.00'), 'gala__gala_number': '1', 'month': 3}]>"
      ]
     },
     "execution_count": 10,
     "metadata": {},
     "output_type": "execute_result"
    }
   ],
   "source": [
    "get_contracts"
   ]
  },
  {
   "cell_type": "code",
   "execution_count": 11,
   "id": "d4198b0d",
   "metadata": {},
   "outputs": [],
   "source": [
    "get_contracts_df = read_frame(get_contracts)"
   ]
  },
  {
   "cell_type": "code",
   "execution_count": 12,
   "id": "94646056",
   "metadata": {},
   "outputs": [
    {
     "data": {
      "text/html": [
       "<div>\n",
       "<style scoped>\n",
       "    .dataframe tbody tr th:only-of-type {\n",
       "        vertical-align: middle;\n",
       "    }\n",
       "\n",
       "    .dataframe tbody tr th {\n",
       "        vertical-align: top;\n",
       "    }\n",
       "\n",
       "    .dataframe thead th {\n",
       "        text-align: right;\n",
       "    }\n",
       "</style>\n",
       "<table border=\"1\" class=\"dataframe\">\n",
       "  <thead>\n",
       "    <tr style=\"text-align: right;\">\n",
       "      <th></th>\n",
       "      <th>gala__gala_area_size</th>\n",
       "      <th>gala__gala_number</th>\n",
       "      <th>month</th>\n",
       "    </tr>\n",
       "  </thead>\n",
       "  <tbody>\n",
       "    <tr>\n",
       "      <th>0</th>\n",
       "      <td>2000.00</td>\n",
       "      <td>OM3/1</td>\n",
       "      <td>4</td>\n",
       "    </tr>\n",
       "    <tr>\n",
       "      <th>1</th>\n",
       "      <td>2500.00</td>\n",
       "      <td>12</td>\n",
       "      <td>4</td>\n",
       "    </tr>\n",
       "    <tr>\n",
       "      <th>2</th>\n",
       "      <td>2000.00</td>\n",
       "      <td>1</td>\n",
       "      <td>3</td>\n",
       "    </tr>\n",
       "  </tbody>\n",
       "</table>\n",
       "</div>"
      ],
      "text/plain": [
       "  gala__gala_area_size gala__gala_number  month\n",
       "0              2000.00             OM3/1      4\n",
       "1              2500.00                12      4\n",
       "2              2000.00                 1      3"
      ]
     },
     "execution_count": 12,
     "metadata": {},
     "output_type": "execute_result"
    }
   ],
   "source": [
    "get_contracts_df"
   ]
  },
  {
   "cell_type": "code",
   "execution_count": 13,
   "id": "c61915a0",
   "metadata": {},
   "outputs": [
    {
     "data": {
      "text/html": [
       "<div>\n",
       "<style scoped>\n",
       "    .dataframe tbody tr th:only-of-type {\n",
       "        vertical-align: middle;\n",
       "    }\n",
       "\n",
       "    .dataframe tbody tr th {\n",
       "        vertical-align: top;\n",
       "    }\n",
       "\n",
       "    .dataframe thead th {\n",
       "        text-align: right;\n",
       "    }\n",
       "</style>\n",
       "<table border=\"1\" class=\"dataframe\">\n",
       "  <thead>\n",
       "    <tr style=\"text-align: right;\">\n",
       "      <th></th>\n",
       "      <th>dates</th>\n",
       "      <th>month_name</th>\n",
       "      <th>month</th>\n",
       "      <th>month_year</th>\n",
       "    </tr>\n",
       "  </thead>\n",
       "  <tbody>\n",
       "    <tr>\n",
       "      <th>0</th>\n",
       "      <td>2023-03-31</td>\n",
       "      <td>Mar</td>\n",
       "      <td>3</td>\n",
       "      <td>2023</td>\n",
       "    </tr>\n",
       "    <tr>\n",
       "      <th>1</th>\n",
       "      <td>2023-04-30</td>\n",
       "      <td>Apr</td>\n",
       "      <td>4</td>\n",
       "      <td>2023</td>\n",
       "    </tr>\n",
       "    <tr>\n",
       "      <th>2</th>\n",
       "      <td>2023-05-31</td>\n",
       "      <td>May</td>\n",
       "      <td>5</td>\n",
       "      <td>2023</td>\n",
       "    </tr>\n",
       "    <tr>\n",
       "      <th>3</th>\n",
       "      <td>2023-06-30</td>\n",
       "      <td>Jun</td>\n",
       "      <td>6</td>\n",
       "      <td>2023</td>\n",
       "    </tr>\n",
       "    <tr>\n",
       "      <th>4</th>\n",
       "      <td>2023-07-31</td>\n",
       "      <td>Jul</td>\n",
       "      <td>7</td>\n",
       "      <td>2023</td>\n",
       "    </tr>\n",
       "    <tr>\n",
       "      <th>5</th>\n",
       "      <td>2023-08-31</td>\n",
       "      <td>Aug</td>\n",
       "      <td>8</td>\n",
       "      <td>2023</td>\n",
       "    </tr>\n",
       "    <tr>\n",
       "      <th>6</th>\n",
       "      <td>2023-09-30</td>\n",
       "      <td>Sep</td>\n",
       "      <td>9</td>\n",
       "      <td>2023</td>\n",
       "    </tr>\n",
       "    <tr>\n",
       "      <th>7</th>\n",
       "      <td>2023-10-31</td>\n",
       "      <td>Oct</td>\n",
       "      <td>10</td>\n",
       "      <td>2023</td>\n",
       "    </tr>\n",
       "    <tr>\n",
       "      <th>8</th>\n",
       "      <td>2023-11-30</td>\n",
       "      <td>Nov</td>\n",
       "      <td>11</td>\n",
       "      <td>2023</td>\n",
       "    </tr>\n",
       "    <tr>\n",
       "      <th>9</th>\n",
       "      <td>2023-12-31</td>\n",
       "      <td>Dec</td>\n",
       "      <td>12</td>\n",
       "      <td>2023</td>\n",
       "    </tr>\n",
       "    <tr>\n",
       "      <th>10</th>\n",
       "      <td>2024-01-31</td>\n",
       "      <td>Jan</td>\n",
       "      <td>1</td>\n",
       "      <td>2024</td>\n",
       "    </tr>\n",
       "    <tr>\n",
       "      <th>11</th>\n",
       "      <td>2024-02-29</td>\n",
       "      <td>Feb</td>\n",
       "      <td>2</td>\n",
       "      <td>2024</td>\n",
       "    </tr>\n",
       "  </tbody>\n",
       "</table>\n",
       "</div>"
      ],
      "text/plain": [
       "        dates month_name  month month_year\n",
       "0  2023-03-31        Mar      3       2023\n",
       "1  2023-04-30        Apr      4       2023\n",
       "2  2023-05-31        May      5       2023\n",
       "3  2023-06-30        Jun      6       2023\n",
       "4  2023-07-31        Jul      7       2023\n",
       "5  2023-08-31        Aug      8       2023\n",
       "6  2023-09-30        Sep      9       2023\n",
       "7  2023-10-31        Oct     10       2023\n",
       "8  2023-11-30        Nov     11       2023\n",
       "9  2023-12-31        Dec     12       2023\n",
       "10 2024-01-31        Jan      1       2024\n",
       "11 2024-02-29        Feb      2       2024"
      ]
     },
     "execution_count": 13,
     "metadata": {},
     "output_type": "execute_result"
    }
   ],
   "source": [
    "import pandas as pd \n",
    "\n",
    "dates = pd.date_range(str(get_today_date),str(get_next_year_date),freq='M')\n",
    "\n",
    "df = pd.DataFrame()\n",
    "df['dates'] = dates\n",
    "df['month_name'] = df['dates'].dt.strftime('%b')\n",
    "df['month'] = df['dates'].dt.strftime('%m')\n",
    "df['month_year'] = df['dates'].dt.strftime('%Y')\n",
    "df['month'] = df['month'].astype(int)\n",
    "df"
   ]
  },
  {
   "cell_type": "code",
   "execution_count": 14,
   "id": "98532d7d",
   "metadata": {},
   "outputs": [],
   "source": [
    "new_df = pd.merge(df, get_contracts_df, on='month',how=\"left\")"
   ]
  },
  {
   "cell_type": "code",
   "execution_count": null,
   "id": "3850ac16",
   "metadata": {},
   "outputs": [],
   "source": []
  },
  {
   "cell_type": "code",
   "execution_count": 15,
   "id": "06bf1aac",
   "metadata": {},
   "outputs": [
    {
     "data": {
      "text/html": [
       "<div>\n",
       "<style scoped>\n",
       "    .dataframe tbody tr th:only-of-type {\n",
       "        vertical-align: middle;\n",
       "    }\n",
       "\n",
       "    .dataframe tbody tr th {\n",
       "        vertical-align: top;\n",
       "    }\n",
       "\n",
       "    .dataframe thead th {\n",
       "        text-align: right;\n",
       "    }\n",
       "</style>\n",
       "<table border=\"1\" class=\"dataframe\">\n",
       "  <thead>\n",
       "    <tr style=\"text-align: right;\">\n",
       "      <th></th>\n",
       "      <th>dates</th>\n",
       "      <th>month_name</th>\n",
       "      <th>month</th>\n",
       "      <th>month_year</th>\n",
       "      <th>gala__gala_area_size</th>\n",
       "      <th>gala__gala_number</th>\n",
       "    </tr>\n",
       "  </thead>\n",
       "  <tbody>\n",
       "    <tr>\n",
       "      <th>0</th>\n",
       "      <td>2023-03-31</td>\n",
       "      <td>Mar</td>\n",
       "      <td>3</td>\n",
       "      <td>2023</td>\n",
       "      <td>2000.00</td>\n",
       "      <td>1</td>\n",
       "    </tr>\n",
       "    <tr>\n",
       "      <th>1</th>\n",
       "      <td>2023-04-30</td>\n",
       "      <td>Apr</td>\n",
       "      <td>4</td>\n",
       "      <td>2023</td>\n",
       "      <td>2000.00</td>\n",
       "      <td>OM3/1</td>\n",
       "    </tr>\n",
       "    <tr>\n",
       "      <th>2</th>\n",
       "      <td>2023-04-30</td>\n",
       "      <td>Apr</td>\n",
       "      <td>4</td>\n",
       "      <td>2023</td>\n",
       "      <td>2500.00</td>\n",
       "      <td>12</td>\n",
       "    </tr>\n",
       "    <tr>\n",
       "      <th>3</th>\n",
       "      <td>2023-05-31</td>\n",
       "      <td>May</td>\n",
       "      <td>5</td>\n",
       "      <td>2023</td>\n",
       "      <td>NaN</td>\n",
       "      <td>NaN</td>\n",
       "    </tr>\n",
       "    <tr>\n",
       "      <th>4</th>\n",
       "      <td>2023-06-30</td>\n",
       "      <td>Jun</td>\n",
       "      <td>6</td>\n",
       "      <td>2023</td>\n",
       "      <td>NaN</td>\n",
       "      <td>NaN</td>\n",
       "    </tr>\n",
       "    <tr>\n",
       "      <th>5</th>\n",
       "      <td>2023-07-31</td>\n",
       "      <td>Jul</td>\n",
       "      <td>7</td>\n",
       "      <td>2023</td>\n",
       "      <td>NaN</td>\n",
       "      <td>NaN</td>\n",
       "    </tr>\n",
       "    <tr>\n",
       "      <th>6</th>\n",
       "      <td>2023-08-31</td>\n",
       "      <td>Aug</td>\n",
       "      <td>8</td>\n",
       "      <td>2023</td>\n",
       "      <td>NaN</td>\n",
       "      <td>NaN</td>\n",
       "    </tr>\n",
       "    <tr>\n",
       "      <th>7</th>\n",
       "      <td>2023-09-30</td>\n",
       "      <td>Sep</td>\n",
       "      <td>9</td>\n",
       "      <td>2023</td>\n",
       "      <td>NaN</td>\n",
       "      <td>NaN</td>\n",
       "    </tr>\n",
       "    <tr>\n",
       "      <th>8</th>\n",
       "      <td>2023-10-31</td>\n",
       "      <td>Oct</td>\n",
       "      <td>10</td>\n",
       "      <td>2023</td>\n",
       "      <td>NaN</td>\n",
       "      <td>NaN</td>\n",
       "    </tr>\n",
       "    <tr>\n",
       "      <th>9</th>\n",
       "      <td>2023-11-30</td>\n",
       "      <td>Nov</td>\n",
       "      <td>11</td>\n",
       "      <td>2023</td>\n",
       "      <td>NaN</td>\n",
       "      <td>NaN</td>\n",
       "    </tr>\n",
       "    <tr>\n",
       "      <th>10</th>\n",
       "      <td>2023-12-31</td>\n",
       "      <td>Dec</td>\n",
       "      <td>12</td>\n",
       "      <td>2023</td>\n",
       "      <td>NaN</td>\n",
       "      <td>NaN</td>\n",
       "    </tr>\n",
       "    <tr>\n",
       "      <th>11</th>\n",
       "      <td>2024-01-31</td>\n",
       "      <td>Jan</td>\n",
       "      <td>1</td>\n",
       "      <td>2024</td>\n",
       "      <td>NaN</td>\n",
       "      <td>NaN</td>\n",
       "    </tr>\n",
       "    <tr>\n",
       "      <th>12</th>\n",
       "      <td>2024-02-29</td>\n",
       "      <td>Feb</td>\n",
       "      <td>2</td>\n",
       "      <td>2024</td>\n",
       "      <td>NaN</td>\n",
       "      <td>NaN</td>\n",
       "    </tr>\n",
       "  </tbody>\n",
       "</table>\n",
       "</div>"
      ],
      "text/plain": [
       "        dates month_name  month month_year gala__gala_area_size  \\\n",
       "0  2023-03-31        Mar      3       2023              2000.00   \n",
       "1  2023-04-30        Apr      4       2023              2000.00   \n",
       "2  2023-04-30        Apr      4       2023              2500.00   \n",
       "3  2023-05-31        May      5       2023                  NaN   \n",
       "4  2023-06-30        Jun      6       2023                  NaN   \n",
       "5  2023-07-31        Jul      7       2023                  NaN   \n",
       "6  2023-08-31        Aug      8       2023                  NaN   \n",
       "7  2023-09-30        Sep      9       2023                  NaN   \n",
       "8  2023-10-31        Oct     10       2023                  NaN   \n",
       "9  2023-11-30        Nov     11       2023                  NaN   \n",
       "10 2023-12-31        Dec     12       2023                  NaN   \n",
       "11 2024-01-31        Jan      1       2024                  NaN   \n",
       "12 2024-02-29        Feb      2       2024                  NaN   \n",
       "\n",
       "   gala__gala_number  \n",
       "0                  1  \n",
       "1              OM3/1  \n",
       "2                 12  \n",
       "3                NaN  \n",
       "4                NaN  \n",
       "5                NaN  \n",
       "6                NaN  \n",
       "7                NaN  \n",
       "8                NaN  \n",
       "9                NaN  \n",
       "10               NaN  \n",
       "11               NaN  \n",
       "12               NaN  "
      ]
     },
     "execution_count": 15,
     "metadata": {},
     "output_type": "execute_result"
    }
   ],
   "source": [
    "new_df"
   ]
  },
  {
   "cell_type": "code",
   "execution_count": 16,
   "id": "8124fd55",
   "metadata": {},
   "outputs": [],
   "source": [
    "new_df = new_df.groupby(['month', 'month_year','month_name'], as_index=False).agg(free_gala_area_size=('gala__gala_area_size', 'sum'), gala_count=('gala__gala_number', 'count')).sort_values('month_year', ascending=True)"
   ]
  },
  {
   "cell_type": "code",
   "execution_count": 17,
   "id": "a05d1493",
   "metadata": {},
   "outputs": [
    {
     "data": {
      "text/html": [
       "<div>\n",
       "<style scoped>\n",
       "    .dataframe tbody tr th:only-of-type {\n",
       "        vertical-align: middle;\n",
       "    }\n",
       "\n",
       "    .dataframe tbody tr th {\n",
       "        vertical-align: top;\n",
       "    }\n",
       "\n",
       "    .dataframe thead th {\n",
       "        text-align: right;\n",
       "    }\n",
       "</style>\n",
       "<table border=\"1\" class=\"dataframe\">\n",
       "  <thead>\n",
       "    <tr style=\"text-align: right;\">\n",
       "      <th></th>\n",
       "      <th>month</th>\n",
       "      <th>month_year</th>\n",
       "      <th>month_name</th>\n",
       "      <th>free_gala_area_size</th>\n",
       "      <th>gala_count</th>\n",
       "    </tr>\n",
       "  </thead>\n",
       "  <tbody>\n",
       "    <tr>\n",
       "      <th>2</th>\n",
       "      <td>3</td>\n",
       "      <td>2023</td>\n",
       "      <td>Mar</td>\n",
       "      <td>2000.00</td>\n",
       "      <td>1</td>\n",
       "    </tr>\n",
       "    <tr>\n",
       "      <th>3</th>\n",
       "      <td>4</td>\n",
       "      <td>2023</td>\n",
       "      <td>Apr</td>\n",
       "      <td>4500.00</td>\n",
       "      <td>2</td>\n",
       "    </tr>\n",
       "    <tr>\n",
       "      <th>4</th>\n",
       "      <td>5</td>\n",
       "      <td>2023</td>\n",
       "      <td>May</td>\n",
       "      <td>0</td>\n",
       "      <td>0</td>\n",
       "    </tr>\n",
       "    <tr>\n",
       "      <th>5</th>\n",
       "      <td>6</td>\n",
       "      <td>2023</td>\n",
       "      <td>Jun</td>\n",
       "      <td>0</td>\n",
       "      <td>0</td>\n",
       "    </tr>\n",
       "    <tr>\n",
       "      <th>6</th>\n",
       "      <td>7</td>\n",
       "      <td>2023</td>\n",
       "      <td>Jul</td>\n",
       "      <td>0</td>\n",
       "      <td>0</td>\n",
       "    </tr>\n",
       "    <tr>\n",
       "      <th>7</th>\n",
       "      <td>8</td>\n",
       "      <td>2023</td>\n",
       "      <td>Aug</td>\n",
       "      <td>0</td>\n",
       "      <td>0</td>\n",
       "    </tr>\n",
       "    <tr>\n",
       "      <th>8</th>\n",
       "      <td>9</td>\n",
       "      <td>2023</td>\n",
       "      <td>Sep</td>\n",
       "      <td>0</td>\n",
       "      <td>0</td>\n",
       "    </tr>\n",
       "    <tr>\n",
       "      <th>9</th>\n",
       "      <td>10</td>\n",
       "      <td>2023</td>\n",
       "      <td>Oct</td>\n",
       "      <td>0</td>\n",
       "      <td>0</td>\n",
       "    </tr>\n",
       "    <tr>\n",
       "      <th>10</th>\n",
       "      <td>11</td>\n",
       "      <td>2023</td>\n",
       "      <td>Nov</td>\n",
       "      <td>0</td>\n",
       "      <td>0</td>\n",
       "    </tr>\n",
       "    <tr>\n",
       "      <th>11</th>\n",
       "      <td>12</td>\n",
       "      <td>2023</td>\n",
       "      <td>Dec</td>\n",
       "      <td>0</td>\n",
       "      <td>0</td>\n",
       "    </tr>\n",
       "    <tr>\n",
       "      <th>0</th>\n",
       "      <td>1</td>\n",
       "      <td>2024</td>\n",
       "      <td>Jan</td>\n",
       "      <td>0</td>\n",
       "      <td>0</td>\n",
       "    </tr>\n",
       "    <tr>\n",
       "      <th>1</th>\n",
       "      <td>2</td>\n",
       "      <td>2024</td>\n",
       "      <td>Feb</td>\n",
       "      <td>0</td>\n",
       "      <td>0</td>\n",
       "    </tr>\n",
       "  </tbody>\n",
       "</table>\n",
       "</div>"
      ],
      "text/plain": [
       "    month month_year month_name free_gala_area_size  gala_count\n",
       "2       3       2023        Mar             2000.00           1\n",
       "3       4       2023        Apr             4500.00           2\n",
       "4       5       2023        May                   0           0\n",
       "5       6       2023        Jun                   0           0\n",
       "6       7       2023        Jul                   0           0\n",
       "7       8       2023        Aug                   0           0\n",
       "8       9       2023        Sep                   0           0\n",
       "9      10       2023        Oct                   0           0\n",
       "10     11       2023        Nov                   0           0\n",
       "11     12       2023        Dec                   0           0\n",
       "0       1       2024        Jan                   0           0\n",
       "1       2       2024        Feb                   0           0"
      ]
     },
     "execution_count": 17,
     "metadata": {},
     "output_type": "execute_result"
    }
   ],
   "source": [
    "# new_df.fillna(0,inplace=True)\n",
    "new_df"
   ]
  },
  {
   "cell_type": "code",
   "execution_count": 18,
   "id": "f9d88af1",
   "metadata": {},
   "outputs": [],
   "source": [
    "new_df['month_year_name'] = new_df['month_name'] + \", \" + new_df['month_year']"
   ]
  },
  {
   "cell_type": "code",
   "execution_count": 19,
   "id": "07ff4918",
   "metadata": {},
   "outputs": [
    {
     "data": {
      "text/plain": [
       "[Decimal('2000.00'), Decimal('4500.00'), 0, 0, 0, 0, 0, 0, 0, 0, 0, 0]"
      ]
     },
     "execution_count": 19,
     "metadata": {},
     "output_type": "execute_result"
    }
   ],
   "source": [
    "new_df['free_gala_area_size'].tolist()"
   ]
  },
  {
   "cell_type": "code",
   "execution_count": 20,
   "id": "6bc2d92c",
   "metadata": {},
   "outputs": [
    {
     "data": {
      "text/plain": [
       "['Mar, 2023',\n",
       " 'Apr, 2023',\n",
       " 'May, 2023',\n",
       " 'Jun, 2023',\n",
       " 'Jul, 2023',\n",
       " 'Aug, 2023',\n",
       " 'Sep, 2023',\n",
       " 'Oct, 2023',\n",
       " 'Nov, 2023',\n",
       " 'Dec, 2023',\n",
       " 'Jan, 2024',\n",
       " 'Feb, 2024']"
      ]
     },
     "execution_count": 20,
     "metadata": {},
     "output_type": "execute_result"
    }
   ],
   "source": [
    "new_df['month_year_name'].tolist()"
   ]
  },
  {
   "cell_type": "code",
   "execution_count": 21,
   "id": "0c48b2bf",
   "metadata": {},
   "outputs": [
    {
     "data": {
      "text/plain": [
       "[['Aerospace', 45.0],\n",
       " ['Medical', 26.8],\n",
       " ['Agriculture ', 12.8],\n",
       " ['Automotive', 8.5],\n",
       " ['Consumers', 6.2],\n",
       " ['Subsidies', 0.7]]"
      ]
     },
     "execution_count": 21,
     "metadata": {},
     "output_type": "execute_result"
    }
   ],
   "source": [
    "[[\"Aerospace\", 45.0], [\"Medical\", 26.8],\n",
    "[\"Agriculture \", 12.8], [\"Automotive\", 8.5],\n",
    "[\"Consumers\", 6.2], [\"Subsidies\", 0.7]]"
   ]
  },
  {
   "cell_type": "code",
   "execution_count": 22,
   "id": "1505be40",
   "metadata": {},
   "outputs": [
    {
     "data": {
      "text/plain": [
       "2"
      ]
     },
     "execution_count": 22,
     "metadata": {},
     "output_type": "execute_result"
    }
   ],
   "source": [
    "len(new_df['month_year'].unique())"
   ]
  },
  {
   "cell_type": "code",
   "execution_count": 23,
   "id": "8fe4ee36",
   "metadata": {},
   "outputs": [
    {
     "data": {
      "text/plain": [
       "dict_values([{'month_year_name': 'Mar, 2023', 'gala_count': 1}, {'month_year_name': 'Apr, 2023', 'gala_count': 2}, {'month_year_name': 'May, 2023', 'gala_count': 0}, {'month_year_name': 'Jun, 2023', 'gala_count': 0}, {'month_year_name': 'Jul, 2023', 'gala_count': 0}, {'month_year_name': 'Aug, 2023', 'gala_count': 0}, {'month_year_name': 'Sep, 2023', 'gala_count': 0}, {'month_year_name': 'Oct, 2023', 'gala_count': 0}, {'month_year_name': 'Nov, 2023', 'gala_count': 0}, {'month_year_name': 'Dec, 2023', 'gala_count': 0}, {'month_year_name': 'Jan, 2024', 'gala_count': 0}, {'month_year_name': 'Feb, 2024', 'gala_count': 0}])"
      ]
     },
     "execution_count": 23,
     "metadata": {},
     "output_type": "execute_result"
    }
   ],
   "source": [
    "new_df[['month_year_name','gala_count']].to_dict('index').values()"
   ]
  },
  {
   "cell_type": "code",
   "execution_count": 24,
   "id": "ccd1da37",
   "metadata": {},
   "outputs": [
    {
     "data": {
      "image/png": "[encoded data removed]",
      "text/plain": [
       "<Figure size 640x480 with 1 Axes>"
      ]
     },
     "metadata": {},
     "output_type": "display_data"
    }
   ],
   "source": [
    "import base64\n",
    "import matplotlib.pyplot as plt\n",
    "from matplotlib.backends.backend_pdf import PdfPages\n",
    "from io import BytesIO\n",
    "get_unique_year = new_df['month_year'].unique()\n",
    "if len(get_unique_year) == 2:\n",
    "    get_year = get_unique_year[0] + \" - \" +  get_unique_year[1]\n",
    "else:\n",
    "    get_year = get_unique_year[0]\n",
    "# with PdfPages(r'charts.pdf') as export_pdf:\n",
    "fig = plt.figure()\n",
    "ax = fig.add_axes([0,0,1,1])\n",
    "c = [\"#ff638480\",\"#36a2eb80\",\"#ffce5680\",\"#4bc0c080\",\"#9966ff80\",\"#ff9f4080\",\"#98df58\",\"#f9dd51\",\"#ec6464\",\"#24dcd4\",\"#ec64a5\",\"#3090f0\"]\n",
    "month = new_df['month_year_name'].tolist()\n",
    "free_gala_area_size = new_df['free_gala_area_size'].tolist()\n",
    "ax.bar(month,free_gala_area_size,color = c)\n",
    "ax.set_title(f'Gala Free Area Size ({get_year})')\n",
    "plt.xticks(rotation=75)\n",
    "# for rect, label in zip(rects, free_gala_area_size):\n",
    "#     height = rect.get_height()\n",
    "#     ax.text(\n",
    "#         rect.get_x() + rect.get_width() / 2, height + 5, label, ha=\"center\", va=\"top\",rotation=90\n",
    "#     )\n",
    "ax.bar_label(ax.containers[0], label_type='center', color='black',rotation=90, fontsize=9, padding=1)\n",
    "plt.grid(color='grey', linewidth=0.2, axis='both',linestyle='-',)\n",
    "#     buf = BytesIO()\n",
    "#     plt.savefig(buf, format='png', dpi=300)\n",
    "#     image_base64 = base64.b64encode(buf.getvalue()).decode('utf-8').replace('\\n', '')\n",
    "#     buf.close()\n",
    "plt.savefig('bar_chart.pdf', dpi=120, format='pdf', bbox_inches='tight')\n",
    "plt.show()"
   ]
  },
  {
   "cell_type": "code",
   "execution_count": null,
   "id": "5120dde0",
   "metadata": {},
   "outputs": [],
   "source": []
  },
  {
   "cell_type": "code",
   "execution_count": 25,
   "id": "a3031ea8",
   "metadata": {},
   "outputs": [],
   "source": [
    "# import numpy as np\n",
    "# import matplotlib.pyplot as plt\n",
    "\n",
    "# fig, ax = plt.subplots(figsize=(6, 3), subplot_kw=dict(aspect=\"equal\"))\n",
    "\n",
    "# recipe = new_df['month_year_name'].tolist()\n",
    "\n",
    "# data = new_df['gala_count'].tolist()\n",
    "\n",
    "# wedges, texts = ax.pie(data, wedgeprops=dict(width=0.5), startangle=-40)\n",
    "\n",
    "# bbox_props = dict(boxstyle=\"square,pad=0.3\", fc=\"w\", ec=\"k\", lw=0.72)\n",
    "# kw = dict(arrowprops=dict(arrowstyle=\"-\"),\n",
    "#           bbox=bbox_props, zorder=0, va=\"center\")\n",
    "\n",
    "# for i, p in enumerate(wedges):\n",
    "#     ang = (p.theta2 - p.theta1)/2. + p.theta1\n",
    "#     y = np.sin(np.deg2rad(ang))\n",
    "#     x = np.cos(np.deg2rad(ang))\n",
    "#     horizontalalignment = {-1: \"right\", 1: \"left\"}[int(np.sign(x))]\n",
    "#     connectionstyle = f\"angle,angleA=0,angleB={ang}\"\n",
    "#     kw[\"arrowprops\"].update({\"connectionstyle\": connectionstyle})\n",
    "#     ax.annotate(recipe[i], xy=(x, y), xytext=(1.35*np.sign(x), 1.4*y),\n",
    "#                 horizontalalignment=horizontalalignment, **kw)\n",
    "\n",
    "# ax.set_title(\"Matplotlib bakery: A donut\")\n",
    "\n",
    "# plt.show()"
   ]
  },
  {
   "cell_type": "code",
   "execution_count": 26,
   "id": "0ac47668",
   "metadata": {},
   "outputs": [],
   "source": [
    "# import matplotlib.pyplot as plt\n",
    "\n",
    "# # Pie chart, where the slices will be ordered and plotted counter-clockwise:\n",
    "# labels = 'Frogs', 'Hogs', 'Dogs', 'Logs'\n",
    "# sizes = [15, 30, 45, 10]\n",
    "# explode = (0, 0.1, 0, 0)  # only \"explode\" the 2nd slice (i.e. 'Hogs')\n",
    "\n",
    "# fig1, ax1 = plt.subplots()\n",
    "# ax1.pie(sizes, explode=explode, labels=labels, autopct='%1.1f%%',\n",
    "#         shadow=True, startangle=90)\n",
    "# ax1.axis('equal')  # Equal aspect ratio ensures that pie is drawn as a circle.\n",
    "\n",
    "# plt.show()"
   ]
  },
  {
   "cell_type": "code",
   "execution_count": 28,
   "id": "a6a16abc",
   "metadata": {},
   "outputs": [],
   "source": [
    "from datetime import datetime,timedelta,date\n",
    "\n",
    "def last_day_of_month(any_day):\n",
    "    # The day 28 exists in every month. 4 days later, it's always next month\n",
    "    next_month = any_day.replace(day=28) + timedelta(days=4)\n",
    "    # subtracting the number of the current day brings us back one month\n",
    "    return next_month - timedelta(days=next_month.day)"
   ]
  },
  {
   "cell_type": "code",
   "execution_count": 52,
   "id": "e20e4e4c",
   "metadata": {},
   "outputs": [
    {
     "data": {
      "text/plain": [
       "datetime.date(2023, 4, 1)"
      ]
     },
     "execution_count": 52,
     "metadata": {},
     "output_type": "execute_result"
    }
   ],
   "source": [
    "last_day_of_month(date(datetime.today().year, datetime.today().month, datetime.today().day)) + timedelta(days=1)"
   ]
  },
  {
   "cell_type": "code",
   "execution_count": null,
   "id": "11942a2e",
   "metadata": {},
   "outputs": [],
   "source": []
  }
 ],
 "metadata": {
  "kernelspec": {
   "display_name": "Python 3 (ipykernel)",
   "language": "python",
   "name": "python3"
  },
  "language_info": {
   "codemirror_mode": {
    "name": "ipython",
    "version": 3
   },
   "file_extension": ".py",
   "mimetype": "text/x-python",
   "name": "python",
   "nbconvert_exporter": "python",
   "pygments_lexer": "ipython3",
   "version": "3.11.0rc1"
  }
 },
 "nbformat": 4,
 "nbformat_minor": 5
}
