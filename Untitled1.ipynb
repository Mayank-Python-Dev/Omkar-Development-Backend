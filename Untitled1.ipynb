{
 "cells": [
  {
   "cell_type": "code",
<<<<<<< HEAD
   "execution_count": 7,
   "id": "5f766b29",
   "metadata": {},
   "outputs": [],
   "source": [
    "import requests\n",
    "\n",
    "url = \"https://crypto-news16.p.rapidapi.com/news/top/5\"\n",
    "\n",
    "headers = {\n",
    "\t\"X-RapidAPI-Key\": \"77d0ded97cmshb0554f9d7b91ec6p1e22efjsndaa3b68359a2\",\n",
    "\t\"X-RapidAPI-Host\": \"crypto-news16.p.rapidapi.com\"\n",
    "}\n",
    "\n",
    "response = requests.request(\"GET\", url, headers=headers)\n",
    "crypto_news = response.json()"
=======
   "execution_count": 1,
   "id": "4e88092d",
   "metadata": {},
   "outputs": [],
   "source": [
    "import os\n",
    "import django\n",
    "os.environ.setdefault('DJANGO_SETTINGS_MODULE', 'omkar_proj.settings')\n",
    "os.environ[\"DJANGO_ALLOW_ASYNC_UNSAFE\"] = \"true\"\n",
    "django.setup()\n",
    "from django_pandas.io import read_frame"
   ]
  },
  {
   "cell_type": "code",
   "execution_count": 2,
   "id": "aa948c4c",
   "metadata": {},
   "outputs": [],
   "source": [
    "from account.models import User,Rental,Investor\n",
    "from warehouse.models import Company,Property,Gala\n",
    "from contract.models import Rental as  ContractRental\n",
    "from contract.models import Investor as  ContractInvestor\n",
    "\n",
    "from django.db.models import Count,OuterRef,Value,Subquery"
   ]
  },
  {
   "cell_type": "code",
   "execution_count": 3,
   "id": "4453f30e",
   "metadata": {},
   "outputs": [
    {
     "data": {
      "text/plain": [
       "<PolymorphicQuerySet [{'user__username': 'snappy-cardinal-argentino', 'owner__username': 'shaggy-lemon-deer'}, {'user__username': 'snappy-cardinal-argentino', 'owner__username': 'stealthy-platinum-lion'}, {'user__username': 'snappy-cardinal-argentino', 'owner__username': 'admin'}, {'user__username': 'Mayank', 'owner__username': 'skinny-xanthic-tamarin'}, {'user__username': 'randy-crimson-caracal', 'owner__username': 'shaggy-lemon-deer'}]>"
      ]
     },
     "execution_count": 3,
     "metadata": {},
     "output_type": "execute_result"
    }
   ],
   "source": [
    "ContractRental.objects.all().values(\"user__username\",\"owner__username\")"
>>>>>>> 2db158631d52986a37b6d7faabdae8bd05953c1c
   ]
  },
  {
   "cell_type": "code",
   "execution_count": null,
<<<<<<< HEAD
   "id": "3ec80810",
   "metadata": {},
   "outputs": [],
   "source": [
    "[\n",
    "  {\n",
    "    \"title\": \"Genesis-DCG Loan Leads to Class Action Arbitration Case from Gemini Clients\",\n",
    "    \"description\": \"Claimants allege in a filing that Genesis breached its Master Agreement when it became insolvent in the summer of 2022, while hiding its insolvency from lenders like Gemini.\",\n",
    "    \"url\": \"https://www.coindesk.com/business/2023/01/03/genesis-dcg-loan-leads-to-class-action-arbitration-case-from-gemini-clients/?utm_medium=referral&utm_source=rss&utm_campaign=headlines\",\n",
    "    \"date\": \"Tue, 03 Jan 2023 04:17:07 +0000\"\n",
    "  },\n",
    "  {\n",
    "    \"title\": \"First Mover Asia: Bitcoin Celebrates the New Year With Old Pricing, Holds Steady at $16.7K\",\n",
    "    \"description\": \"ALSO: CoinDesk's Sam Reynolds explains why crypto exchange token prices continue to respond to news events and not what the SEC and other regulators might do.\",\n",
    "    \"url\": \"https://www.coindesk.com/markets/2023/01/02/first-mover-asia-bitcoin-celebrates-the-new-year-with-old-pricing-holds-steady-at-167k/?utm_medium=referral&utm_source=rss&utm_campaign=headlines\",\n",
    "    \"date\": \"Mon, 02 Jan 2023 23:45:39 +0000\"\n",
    "  },\n",
    "  {\n",
    "    \"title\": \"Gemini Co-Founder Accuses DCG’s Silbert of 'Bad Faith' Stalling in $900M Locked Funds Dispute\",\n",
    "    \"description\": \"\",\n",
    "    \"url\": \"https://www.coindesk.com/business/2023/01/02/gemini-co-founder-accuses-dcgs-silbert-of-bad-faith-stalling-in-900m-locked-funds-dispute/?utm_medium=referral&utm_source=rss&utm_campaign=headlines\",\n",
    "    \"date\": \"Mon, 02 Jan 2023 18:04:43 +0000\"\n",
    "  },\n",
    "  {\n",
    "    \"title\": \"What Will It Take for Bitcoin Mining Companies to Survive in 2023?\",\n",
    "    \"description\": \"Some miners have held onto the bitcoin they mined, opting instead to finance operations with debt and other capital, which works really well – until it doesn’t.\",\n",
    "    \"url\": \"https://www.coindesk.com/markets/2023/01/01/what-will-it-take-for-bitcoin-mining-companies-to-survive-in-2023/?utm_medium=referral&utm_source=rss&utm_campaign=headlines\",\n",
    "    \"date\": \"Sun, 01 Jan 2023 16:50:00 +0000\"\n",
    "  },\n",
    "  {\n",
    "    \"title\": \"UK Enforces Crypto Tax Break for Foreigners Using Local Brokers\",\n",
    "    \"description\": \"The measures now in effect are part of the government's plans to turn the country into a crypto hub.\",\n",
    "    \"url\": \"https://www.coindesk.com/policy/2023/01/01/uk-enforces-crypto-tax-break-for-foreigners-using-local-brokers/?utm_medium=referral&utm_source=rss&utm_campaign=headlines\",\n",
    "    \"date\": \"Sun, 01 Jan 2023 10:00:00 +0000\"\n",
    "  }\n",
    "]"
=======
   "id": "cb25bb88",
   "metadata": {},
   "outputs": [],
   "source": []
  },
  {
   "cell_type": "code",
   "execution_count": 4,
   "id": "b1ddc20e",
   "metadata": {},
   "outputs": [],
   "source": [
    " get_rental_qs = Rental.objects.filter(belong_to__name=\"Omkar\").values(\n",
    "                \"id\",\"user_uid\",\"username\"\n",
    "            ).annotate(\n",
    "                total_number_of_galas = ContractRental.objects.filter(\n",
    "                    user__user_uid = OuterRef(\"user_uid\")\n",
    "                ).values(\"user__user_uid\").annotate(\n",
    "                    total_number_of_galas = Count(\"user__user_uid\")\n",
    "                ).values(\"total_number_of_galas\")\n",
    "             )#.annotate(total_number_of_warehouses = ContractRental.objects.filter(user__user_uid=OuterRef(\"user_uid\")))\n",
    "            \n",
    "        \n",
    "# qs= read_frame(get_rental_qs)\n",
    "# qs"
>>>>>>> 2db158631d52986a37b6d7faabdae8bd05953c1c
   ]
  },
  {
   "cell_type": "code",
<<<<<<< HEAD
   "execution_count": 27,
   "id": "f261003a",
   "metadata": {},
   "outputs": [],
   "source": [
    "import pandas as pd"
=======
   "execution_count": 5,
   "id": "3ddecdf9",
   "metadata": {},
   "outputs": [],
   "source": [
    "# get_rental_qs\n",
    "from django.db.models import Value, Subquery"
>>>>>>> 2db158631d52986a37b6d7faabdae8bd05953c1c
   ]
  },
  {
   "cell_type": "code",
<<<<<<< HEAD
   "execution_count": 28,
   "id": "8af20557",
   "metadata": {},
   "outputs": [],
   "source": [
    "df = pd.DataFrame(crypto_news)"
=======
   "execution_count": 11,
   "id": "0598bf0a",
   "metadata": {},
   "outputs": [],
   "source": [
    "# get_rental_qs = Rental.objects.filter(belong_to__name=\"Omkar\").values(\n",
    "#                 \"user_uid\",\"username\"\n",
    "#             ).annotate(\n",
    "#                 total_number_of_galas = ContractRental.objects.filter(\n",
    "#                     user__user_uid = OuterRef(\"user_uid\")\n",
    "#                 ).values(\"user__user_uid\").annotate(\n",
    "#                     total_number_of_galas = Count(\"user__user_uid\")\n",
    "#                 ).values(\"total_number_of_galas\"),\n",
    "#             ).annotate(total_number_of_warehouse = Subquery(ContractRental.objects.filter(user__user_uid=OuterRef(\"user_uid\")).values(\"user__id\",\"gala__warehouse_id\").distinct().count()))"
>>>>>>> 2db158631d52986a37b6d7faabdae8bd05953c1c
   ]
  },
  {
   "cell_type": "code",
<<<<<<< HEAD
   "execution_count": 29,
   "id": "e6911173",
=======
   "execution_count": null,
   "id": "a6f6aafd",
   "metadata": {},
   "outputs": [],
   "source": [
    "get_rental_qs"
   ]
  },
  {
   "cell_type": "code",
   "execution_count": 19,
   "id": "7cc6c32d",
   "metadata": {},
   "outputs": [
    {
     "data": {
      "text/plain": [
       "2"
      ]
     },
     "execution_count": 19,
     "metadata": {},
     "output_type": "execute_result"
    }
   ],
   "source": [
    "ContractRental.objects.filter(user__id=5).values(\"user__id\",\"gala__warehouse_id\").distinct().count()"
   ]
  },
  {
   "cell_type": "code",
   "execution_count": null,
   "id": "3bb1418a",
   "metadata": {},
   "outputs": [],
   "source": [
    "get_rental_qs"
   ]
  },
  {
   "cell_type": "code",
   "execution_count": 10,
   "id": "7c80e6c8",
   "metadata": {},
   "outputs": [],
   "source": [
    "# ContractRental.objects.filter(user__user_uid=OuterRef(\"user_uid\")).values(\"user__id\",\"gala__warehouse_id\").distinct().count()"
   ]
  },
  {
   "cell_type": "code",
   "execution_count": null,
   "id": "28bd1ce7",
   "metadata": {},
   "outputs": [],
   "source": []
  },
  {
   "cell_type": "code",
   "execution_count": 6,
   "id": "45346502",
   "metadata": {},
   "outputs": [
    {
     "ename": "FieldError",
     "evalue": "Cannot resolve keyword 'total_warehouse' into field. Choices are: address, app_type, belong_to, birth_date, city, created_at, date_joined, email, farmer_contract, first_name, get_farmer_contract, get_investor_contract, get_owner_contract, groups, id, investor_contract, is_active, is_staff, is_superuser, last_login, last_name, logentry, password, phone, rental_contract, servicerequest, updated_at, user_permissions, user_uid, username, zip_code",
     "output_type": "error",
     "traceback": [
      "\u001b[1;31m---------------------------------------------------------------------------\u001b[0m",
      "\u001b[1;31mFieldError\u001b[0m                                Traceback (most recent call last)",
      "File \u001b[1;32mC:\\Omkar-Development\\virtualenv\\lib\\site-packages\\django\\db\\models\\sql\\query.py:2142\u001b[0m, in \u001b[0;36mQuery.add_fields\u001b[1;34m(self, field_names, allow_m2m)\u001b[0m\n\u001b[0;32m   2139\u001b[0m \u001b[38;5;28;01mfor\u001b[39;00m name \u001b[38;5;129;01min\u001b[39;00m field_names:\n\u001b[0;32m   2140\u001b[0m     \u001b[38;5;66;03m# Join promotion note - we must not remove any rows here, so\u001b[39;00m\n\u001b[0;32m   2141\u001b[0m     \u001b[38;5;66;03m# if there is no existing joins, use outer join.\u001b[39;00m\n\u001b[1;32m-> 2142\u001b[0m     join_info \u001b[38;5;241m=\u001b[39m \u001b[38;5;28;43mself\u001b[39;49m\u001b[38;5;241;43m.\u001b[39;49m\u001b[43msetup_joins\u001b[49m\u001b[43m(\u001b[49m\n\u001b[0;32m   2143\u001b[0m \u001b[43m        \u001b[49m\u001b[43mname\u001b[49m\u001b[38;5;241;43m.\u001b[39;49m\u001b[43msplit\u001b[49m\u001b[43m(\u001b[49m\u001b[43mLOOKUP_SEP\u001b[49m\u001b[43m)\u001b[49m\u001b[43m,\u001b[49m\u001b[43m \u001b[49m\u001b[43mopts\u001b[49m\u001b[43m,\u001b[49m\u001b[43m \u001b[49m\u001b[43malias\u001b[49m\u001b[43m,\u001b[49m\u001b[43m \u001b[49m\u001b[43mallow_many\u001b[49m\u001b[38;5;241;43m=\u001b[39;49m\u001b[43mallow_m2m\u001b[49m\n\u001b[0;32m   2144\u001b[0m \u001b[43m    \u001b[49m\u001b[43m)\u001b[49m\n\u001b[0;32m   2145\u001b[0m     targets, final_alias, joins \u001b[38;5;241m=\u001b[39m \u001b[38;5;28mself\u001b[39m\u001b[38;5;241m.\u001b[39mtrim_joins(\n\u001b[0;32m   2146\u001b[0m         join_info\u001b[38;5;241m.\u001b[39mtargets,\n\u001b[0;32m   2147\u001b[0m         join_info\u001b[38;5;241m.\u001b[39mjoins,\n\u001b[0;32m   2148\u001b[0m         join_info\u001b[38;5;241m.\u001b[39mpath,\n\u001b[0;32m   2149\u001b[0m     )\n",
      "File \u001b[1;32mC:\\Omkar-Development\\virtualenv\\lib\\site-packages\\django\\db\\models\\sql\\query.py:1808\u001b[0m, in \u001b[0;36mQuery.setup_joins\u001b[1;34m(self, names, opts, alias, can_reuse, allow_many, reuse_with_filtered_relation)\u001b[0m\n\u001b[0;32m   1807\u001b[0m \u001b[38;5;28;01mtry\u001b[39;00m:\n\u001b[1;32m-> 1808\u001b[0m     path, final_field, targets, rest \u001b[38;5;241m=\u001b[39m \u001b[38;5;28;43mself\u001b[39;49m\u001b[38;5;241;43m.\u001b[39;49m\u001b[43mnames_to_path\u001b[49m\u001b[43m(\u001b[49m\n\u001b[0;32m   1809\u001b[0m \u001b[43m        \u001b[49m\u001b[43mnames\u001b[49m\u001b[43m[\u001b[49m\u001b[43m:\u001b[49m\u001b[43mpivot\u001b[49m\u001b[43m]\u001b[49m\u001b[43m,\u001b[49m\n\u001b[0;32m   1810\u001b[0m \u001b[43m        \u001b[49m\u001b[43mopts\u001b[49m\u001b[43m,\u001b[49m\n\u001b[0;32m   1811\u001b[0m \u001b[43m        \u001b[49m\u001b[43mallow_many\u001b[49m\u001b[43m,\u001b[49m\n\u001b[0;32m   1812\u001b[0m \u001b[43m        \u001b[49m\u001b[43mfail_on_missing\u001b[49m\u001b[38;5;241;43m=\u001b[39;49m\u001b[38;5;28;43;01mTrue\u001b[39;49;00m\u001b[43m,\u001b[49m\n\u001b[0;32m   1813\u001b[0m \u001b[43m    \u001b[49m\u001b[43m)\u001b[49m\n\u001b[0;32m   1814\u001b[0m \u001b[38;5;28;01mexcept\u001b[39;00m FieldError \u001b[38;5;28;01mas\u001b[39;00m exc:\n",
      "File \u001b[1;32mC:\\Omkar-Development\\virtualenv\\lib\\site-packages\\django\\db\\models\\sql\\query.py:1709\u001b[0m, in \u001b[0;36mQuery.names_to_path\u001b[1;34m(self, names, opts, allow_many, fail_on_missing)\u001b[0m\n\u001b[0;32m   1702\u001b[0m     available \u001b[38;5;241m=\u001b[39m \u001b[38;5;28msorted\u001b[39m(\n\u001b[0;32m   1703\u001b[0m         [\n\u001b[0;32m   1704\u001b[0m             \u001b[38;5;241m*\u001b[39mget_field_names_from_opts(opts),\n\u001b[1;32m   (...)\u001b[0m\n\u001b[0;32m   1707\u001b[0m         ]\n\u001b[0;32m   1708\u001b[0m     )\n\u001b[1;32m-> 1709\u001b[0m     \u001b[38;5;28;01mraise\u001b[39;00m FieldError(\n\u001b[0;32m   1710\u001b[0m         \u001b[38;5;124m\"\u001b[39m\u001b[38;5;124mCannot resolve keyword \u001b[39m\u001b[38;5;124m'\u001b[39m\u001b[38;5;132;01m%s\u001b[39;00m\u001b[38;5;124m'\u001b[39m\u001b[38;5;124m into field. \u001b[39m\u001b[38;5;124m\"\u001b[39m\n\u001b[0;32m   1711\u001b[0m         \u001b[38;5;124m\"\u001b[39m\u001b[38;5;124mChoices are: \u001b[39m\u001b[38;5;132;01m%s\u001b[39;00m\u001b[38;5;124m\"\u001b[39m \u001b[38;5;241m%\u001b[39m (name, \u001b[38;5;124m\"\u001b[39m\u001b[38;5;124m, \u001b[39m\u001b[38;5;124m\"\u001b[39m\u001b[38;5;241m.\u001b[39mjoin(available))\n\u001b[0;32m   1712\u001b[0m     )\n\u001b[0;32m   1713\u001b[0m \u001b[38;5;28;01mbreak\u001b[39;00m\n",
      "\u001b[1;31mFieldError\u001b[0m: Cannot resolve keyword 'total_warehouse' into field. Choices are: address, app_type, belong_to, birth_date, city, created_at, date_joined, email, farmer_contract, first_name, get_farmer_contract, get_investor_contract, get_owner_contract, groups, id, investor_contract, is_active, is_staff, is_superuser, last_login, last_name, logentry, password, phone, rental_contract, servicerequest, updated_at, user_permissions, user_uid, username, zip_code",
      "\nDuring handling of the above exception, another exception occurred:\n",
      "\u001b[1;31mFieldError\u001b[0m                                Traceback (most recent call last)",
      "Cell \u001b[1;32mIn[6], line 1\u001b[0m\n\u001b[1;32m----> 1\u001b[0m get_rental_qs \u001b[38;5;241m=\u001b[39m \u001b[43mRental\u001b[49m\u001b[38;5;241;43m.\u001b[39;49m\u001b[43mobjects\u001b[49m\u001b[38;5;241;43m.\u001b[39;49m\u001b[43mfilter\u001b[49m\u001b[43m(\u001b[49m\u001b[43mbelong_to__name\u001b[49m\u001b[38;5;241;43m=\u001b[39;49m\u001b[38;5;124;43m\"\u001b[39;49m\u001b[38;5;124;43mOmkar\u001b[39;49m\u001b[38;5;124;43m\"\u001b[39;49m\u001b[43m)\u001b[49m\u001b[38;5;241;43m.\u001b[39;49m\u001b[43mvalues\u001b[49m\u001b[43m(\u001b[49m\n\u001b[0;32m      2\u001b[0m \u001b[43m                \u001b[49m\u001b[38;5;124;43m\"\u001b[39;49m\u001b[38;5;124;43mid\u001b[39;49m\u001b[38;5;124;43m\"\u001b[39;49m\u001b[43m,\u001b[49m\u001b[38;5;124;43m\"\u001b[39;49m\u001b[38;5;124;43muser_uid\u001b[39;49m\u001b[38;5;124;43m\"\u001b[39;49m\u001b[43m,\u001b[49m\u001b[38;5;124;43m\"\u001b[39;49m\u001b[38;5;124;43musername\u001b[39;49m\u001b[38;5;124;43m\"\u001b[39;49m\u001b[43m,\u001b[49m\u001b[38;5;124;43m\"\u001b[39;49m\u001b[38;5;124;43mtotal_warehouse\u001b[39;49m\u001b[38;5;124;43m\"\u001b[39;49m\u001b[43m,\u001b[49m\n\u001b[0;32m      3\u001b[0m \u001b[43m            \u001b[49m\u001b[43m)\u001b[49m\u001b[38;5;241m.\u001b[39mannotate(\n\u001b[0;32m      4\u001b[0m                 total_number_of_galas \u001b[38;5;241m=\u001b[39m ContractRental\u001b[38;5;241m.\u001b[39mobjects\u001b[38;5;241m.\u001b[39mfilter(\n\u001b[0;32m      5\u001b[0m                     user__user_uid \u001b[38;5;241m=\u001b[39m OuterRef(\u001b[38;5;124m\"\u001b[39m\u001b[38;5;124muser_uid\u001b[39m\u001b[38;5;124m\"\u001b[39m)\n\u001b[0;32m      6\u001b[0m                 )\u001b[38;5;241m.\u001b[39mvalues(\u001b[38;5;124m\"\u001b[39m\u001b[38;5;124mgala__warehouse__uid\u001b[39m\u001b[38;5;124m\"\u001b[39m)\u001b[38;5;241m.\u001b[39mannotate(\n\u001b[0;32m      7\u001b[0m                     total_number_of_galas \u001b[38;5;241m=\u001b[39m Count(\u001b[38;5;124m\"\u001b[39m\u001b[38;5;124mgala__warehouse__uid\u001b[39m\u001b[38;5;124m\"\u001b[39m)\n\u001b[0;32m      8\u001b[0m                 )\u001b[38;5;241m.\u001b[39mvalues(\u001b[38;5;124m\"\u001b[39m\u001b[38;5;124mtotal_number_of_galas\u001b[39m\u001b[38;5;124m\"\u001b[39m),\n\u001b[0;32m      9\u001b[0m             )\n",
      "File \u001b[1;32mC:\\Omkar-Development\\virtualenv\\lib\\site-packages\\django\\db\\models\\query.py:1298\u001b[0m, in \u001b[0;36mQuerySet.values\u001b[1;34m(self, *fields, **expressions)\u001b[0m\n\u001b[0;32m   1296\u001b[0m \u001b[38;5;28;01mdef\u001b[39;00m \u001b[38;5;21mvalues\u001b[39m(\u001b[38;5;28mself\u001b[39m, \u001b[38;5;241m*\u001b[39mfields, \u001b[38;5;241m*\u001b[39m\u001b[38;5;241m*\u001b[39mexpressions):\n\u001b[0;32m   1297\u001b[0m     fields \u001b[38;5;241m+\u001b[39m\u001b[38;5;241m=\u001b[39m \u001b[38;5;28mtuple\u001b[39m(expressions)\n\u001b[1;32m-> 1298\u001b[0m     clone \u001b[38;5;241m=\u001b[39m \u001b[38;5;28mself\u001b[39m\u001b[38;5;241m.\u001b[39m_values(\u001b[38;5;241m*\u001b[39mfields, \u001b[38;5;241m*\u001b[39m\u001b[38;5;241m*\u001b[39mexpressions)\n\u001b[0;32m   1299\u001b[0m     clone\u001b[38;5;241m.\u001b[39m_iterable_class \u001b[38;5;241m=\u001b[39m ValuesIterable\n\u001b[0;32m   1300\u001b[0m     \u001b[38;5;28;01mreturn\u001b[39;00m clone\n",
      "File \u001b[1;32mC:\\Omkar-Development\\virtualenv\\lib\\site-packages\\django\\db\\models\\query.py:1293\u001b[0m, in \u001b[0;36mQuerySet._values\u001b[1;34m(self, *fields, **expressions)\u001b[0m\n\u001b[0;32m   1291\u001b[0m     clone \u001b[38;5;241m=\u001b[39m clone\u001b[38;5;241m.\u001b[39mannotate(\u001b[38;5;241m*\u001b[39m\u001b[38;5;241m*\u001b[39mexpressions)\n\u001b[0;32m   1292\u001b[0m clone\u001b[38;5;241m.\u001b[39m_fields \u001b[38;5;241m=\u001b[39m fields\n\u001b[1;32m-> 1293\u001b[0m \u001b[43mclone\u001b[49m\u001b[38;5;241;43m.\u001b[39;49m\u001b[43mquery\u001b[49m\u001b[38;5;241;43m.\u001b[39;49m\u001b[43mset_values\u001b[49m\u001b[43m(\u001b[49m\u001b[43mfields\u001b[49m\u001b[43m)\u001b[49m\n\u001b[0;32m   1294\u001b[0m \u001b[38;5;28;01mreturn\u001b[39;00m clone\n",
      "File \u001b[1;32mC:\\Omkar-Development\\virtualenv\\lib\\site-packages\\django\\db\\models\\sql\\query.py:2437\u001b[0m, in \u001b[0;36mQuery.set_values\u001b[1;34m(self, fields)\u001b[0m\n\u001b[0;32m   2434\u001b[0m     \u001b[38;5;28mself\u001b[39m\u001b[38;5;241m.\u001b[39mgroup_by \u001b[38;5;241m=\u001b[39m \u001b[38;5;28mtuple\u001b[39m(group_by)\n\u001b[0;32m   2436\u001b[0m \u001b[38;5;28mself\u001b[39m\u001b[38;5;241m.\u001b[39mvalues_select \u001b[38;5;241m=\u001b[39m \u001b[38;5;28mtuple\u001b[39m(field_names)\n\u001b[1;32m-> 2437\u001b[0m \u001b[38;5;28;43mself\u001b[39;49m\u001b[38;5;241;43m.\u001b[39;49m\u001b[43madd_fields\u001b[49m\u001b[43m(\u001b[49m\u001b[43mfield_names\u001b[49m\u001b[43m,\u001b[49m\u001b[43m \u001b[49m\u001b[38;5;28;43;01mTrue\u001b[39;49;00m\u001b[43m)\u001b[49m\n",
      "File \u001b[1;32mC:\\Omkar-Development\\virtualenv\\lib\\site-packages\\django\\db\\models\\sql\\query.py:2175\u001b[0m, in \u001b[0;36mQuery.add_fields\u001b[1;34m(self, field_names, allow_m2m)\u001b[0m\n\u001b[0;32m   2166\u001b[0m \u001b[38;5;28;01melse\u001b[39;00m:\n\u001b[0;32m   2167\u001b[0m     names \u001b[38;5;241m=\u001b[39m \u001b[38;5;28msorted\u001b[39m(\n\u001b[0;32m   2168\u001b[0m         [\n\u001b[0;32m   2169\u001b[0m             \u001b[38;5;241m*\u001b[39mget_field_names_from_opts(opts),\n\u001b[1;32m   (...)\u001b[0m\n\u001b[0;32m   2173\u001b[0m         ]\n\u001b[0;32m   2174\u001b[0m     )\n\u001b[1;32m-> 2175\u001b[0m     \u001b[38;5;28;01mraise\u001b[39;00m FieldError(\n\u001b[0;32m   2176\u001b[0m         \u001b[38;5;124m\"\u001b[39m\u001b[38;5;124mCannot resolve keyword \u001b[39m\u001b[38;5;132;01m%r\u001b[39;00m\u001b[38;5;124m into field. \u001b[39m\u001b[38;5;124m\"\u001b[39m\n\u001b[0;32m   2177\u001b[0m         \u001b[38;5;124m\"\u001b[39m\u001b[38;5;124mChoices are: \u001b[39m\u001b[38;5;132;01m%s\u001b[39;00m\u001b[38;5;124m\"\u001b[39m \u001b[38;5;241m%\u001b[39m (name, \u001b[38;5;124m\"\u001b[39m\u001b[38;5;124m, \u001b[39m\u001b[38;5;124m\"\u001b[39m\u001b[38;5;241m.\u001b[39mjoin(names))\n\u001b[0;32m   2178\u001b[0m     )\n",
      "\u001b[1;31mFieldError\u001b[0m: Cannot resolve keyword 'total_warehouse' into field. Choices are: address, app_type, belong_to, birth_date, city, created_at, date_joined, email, farmer_contract, first_name, get_farmer_contract, get_investor_contract, get_owner_contract, groups, id, investor_contract, is_active, is_staff, is_superuser, last_login, last_name, logentry, password, phone, rental_contract, servicerequest, updated_at, user_permissions, user_uid, username, zip_code"
     ]
    }
   ],
   "source": [
    "get_rental_qs = Rental.objects.filter(belong_to__name=\"Omkar\").values(\n",
    "                \"id\",\"user_uid\",\"username\",\"total_warehouse\",\n",
    "            ).annotate(\n",
    "                total_number_of_galas = ContractRental.objects.filter(\n",
    "                    user__user_uid = OuterRef(\"user_uid\")\n",
    "                ).values(\"gala__warehouse__uid\").annotate(\n",
    "                    total_number_of_galas = Count(\"gala__warehouse__uid\")\n",
    "                ).values(\"total_number_of_galas\"),\n",
    "            )"
   ]
  },
  {
   "cell_type": "code",
   "execution_count": null,
   "id": "0844892c",
   "metadata": {},
   "outputs": [],
   "source": [
    "get_rental_qs"
   ]
  },
  {
   "cell_type": "code",
   "execution_count": null,
   "id": "da8c8a01",
   "metadata": {},
   "outputs": [],
   "source": []
  },
  {
   "cell_type": "code",
   "execution_count": null,
   "id": "a9c867bf",
   "metadata": {},
   "outputs": [],
   "source": []
  },
  {
   "cell_type": "code",
   "execution_count": 23,
   "id": "863f57e2",
   "metadata": {},
   "outputs": [
    {
     "data": {
      "text/plain": [
       "<QuerySet [<Rental: snappy-cardinal-argentino>, <Rental: snappy-cardinal-argentino>, <Rental: snappy-cardinal-argentino>]>"
      ]
     },
     "execution_count": 23,
     "metadata": {},
     "output_type": "execute_result"
    }
   ],
   "source": [
    "Rental.objects.filter(rental_contract__user__user_uid='51f9c7eb-8f1b-4fcc-9124-58831235d387').prefetch_related(\"rental_contract\")"
   ]
  },
  {
   "cell_type": "code",
   "execution_count": 52,
   "id": "2aa3f1fb",
   "metadata": {},
   "outputs": [],
   "source": [
    "from django.db.models import (\n",
    "    F,\n",
    "    Value,\n",
    "    Subquery\n",
    ")"
   ]
  },
  {
   "cell_type": "code",
   "execution_count": 302,
   "id": "d7fe229a",
   "metadata": {},
   "outputs": [],
   "source": [
    "get_rental_qs = Rental.objects.filter(belong_to__name=\"Omkar\").values(\n",
    "                \"id\",\"user_uid\",\"username\"\n",
    "            ).annotate(\n",
    "                total_number_of_galas = ContractRental.objects.filter(\n",
    "                    user__user_uid = OuterRef(\"user_uid\")\n",
    "                ).values(\"user__user_uid\").annotate(\n",
    "                    total_number_of_galas = Count(\"user__user_uid\")\n",
    "                ).values(\"total_number_of_galas\"),\n",
    "            ).annotate(total_number_of_warehouse = ContractRental.objects.filter(user__user_uid = OuterRef(\"user_uid\")).values(\"gala__warehouse_id\").annotate(Count('gala__warehouse_id',distinct=True)).annotate(total=ExpressionWrapper(\n",
    "        F('gala__warehouse_id__count') + F('gala__warehouse_id__count'), output_field=IntegerField())).values(\"total\")[:1])"
   ]
  },
  {
   "cell_type": "code",
   "execution_count": 303,
   "id": "5d5bf408",
   "metadata": {},
   "outputs": [
    {
     "data": {
      "text/plain": [
       "<QuerySet [{'id': 2, 'user_uid': UUID('dfef7ec8-d0fe-4e9f-abb1-16187c184320'), 'username': 'Mayank', 'total_number_of_galas': 1, 'total_number_of_warehouse': 2}, {'id': 5, 'user_uid': UUID('51f9c7eb-8f1b-4fcc-9124-58831235d387'), 'username': 'snappy-cardinal-argentino', 'total_number_of_galas': 3, 'total_number_of_warehouse': 2}, {'id': 14, 'user_uid': UUID('1df8502b-66a6-4486-ae21-7e19c3e7bd0a'), 'username': 'randy-crimson-caracal', 'total_number_of_galas': 1, 'total_number_of_warehouse': 2}, {'id': 15, 'user_uid': UUID('4acd799f-7f94-42de-9b6d-1e80b5c5e6b3'), 'username': 'cloudy-champagne-zebu', 'total_number_of_galas': None, 'total_number_of_warehouse': None}, {'id': 19, 'user_uid': UUID('21cc2354-694b-44fd-b9cb-659f1117ac55'), 'username': 'slimy-platinum-tapir', 'total_number_of_galas': None, 'total_number_of_warehouse': None}, {'id': 21, 'user_uid': UUID('0fccdc06-c2e6-45b2-9b91-0100b976e6d3'), 'username': 'squirrely-razzmatazz-moose', 'total_number_of_galas': None, 'total_number_of_warehouse': None}, {'id': 28, 'user_uid': UUID('e7b74f37-29df-4650-b622-7b56626bcdd8'), 'username': 'tasty-platinum-hyrax', 'total_number_of_galas': None, 'total_number_of_warehouse': None}, {'id': 37, 'user_uid': UUID('4e16d99b-f073-471e-b51d-cadedf7a2456'), 'username': 'nerdy-crimson-frise', 'total_number_of_galas': None, 'total_number_of_warehouse': None}, {'id': 50, 'user_uid': UUID('6c8ad82d-2efd-4340-8be4-1225a10aa1f0'), 'username': 'hasty-puce-oyster', 'total_number_of_galas': None, 'total_number_of_warehouse': None}, {'id': 51, 'user_uid': UUID('b749ae76-f68d-4a05-97c5-efa48d6c3be4'), 'username': 'jumpy-maroon-mist', 'total_number_of_galas': None, 'total_number_of_warehouse': None}, {'id': 54, 'user_uid': UUID('8fd78262-8698-4425-8c7f-bb177a4b74df'), 'username': 'freaky-crimson-dodo', 'total_number_of_galas': None, 'total_number_of_warehouse': None}, {'id': 56, 'user_uid': UUID('86f5dfae-cd58-4a64-a1fe-9348d621dd6e'), 'username': 'chummy-magnolia-quoll', 'total_number_of_galas': None, 'total_number_of_warehouse': None}, {'id': 59, 'user_uid': UUID('2d200190-5494-42a3-8c10-c1013079d8e5'), 'username': 'boozy-turquoise-antelope', 'total_number_of_galas': None, 'total_number_of_warehouse': None}, {'id': 60, 'user_uid': UUID('fa3c91d6-ea46-483a-9daa-6dcb1d86a085'), 'username': 'snippy-cinnamon-cheetah', 'total_number_of_galas': None, 'total_number_of_warehouse': None}, {'id': 62, 'user_uid': UUID('f55889f2-9759-496a-829a-5ae676cc67b0'), 'username': 'chewy-yellow-millipede', 'total_number_of_galas': None, 'total_number_of_warehouse': None}, {'id': 66, 'user_uid': UUID('1f38c84f-21b2-4d52-967f-b42c1a1f1966'), 'username': 'wimpy-pear-badger', 'total_number_of_galas': None, 'total_number_of_warehouse': None}, {'id': 67, 'user_uid': UUID('0898e1a1-96d6-4e93-be26-2eaf02177946'), 'username': 'nippy-flax-panda', 'total_number_of_galas': None, 'total_number_of_warehouse': None}, {'id': 68, 'user_uid': UUID('8489a286-72ee-4bb9-b9a1-9795f570d471'), 'username': 'snoopy-corn-mandrill', 'total_number_of_galas': None, 'total_number_of_warehouse': None}, {'id': 72, 'user_uid': UUID('76663926-eec2-496e-997a-fa056db8e69a'), 'username': 'skanky-rust-capuchin', 'total_number_of_galas': None, 'total_number_of_warehouse': None}, {'id': 82, 'user_uid': UUID('89d5a564-fcbd-4107-b835-0516666ff2e0'), 'username': 'lovely-burgundy-shrimp', 'total_number_of_galas': None, 'total_number_of_warehouse': None}, '...(remaining elements truncated)...']>"
      ]
     },
     "execution_count": 303,
     "metadata": {},
     "output_type": "execute_result"
    }
   ],
   "source": [
    "get_rental_qs"
   ]
  },
  {
   "cell_type": "code",
   "execution_count": 46,
   "id": "4bbcf010",
   "metadata": {},
   "outputs": [
    {
     "data": {
      "text/plain": [
       "2"
      ]
     },
     "execution_count": 46,
     "metadata": {},
     "output_type": "execute_result"
    }
   ],
   "source": [
    "ContractRental.objects.filter(user__user_uid = '51f9c7eb-8f1b-4fcc-9124-58831235d387').values(\n",
    "                \"gala__warehouse_id\").order_by(\"gala__warehouse_id\").distinct().__len__()"
   ]
  },
  {
   "cell_type": "code",
   "execution_count": 59,
   "id": "4b3de20e",
   "metadata": {},
   "outputs": [],
   "source": [
    "filters = ContractRental.objects.filter(\n",
    "    user__user_uid='51f9c7eb-8f1b-4fcc-9124-58831235d387'\n",
    ").order_by('id')\n",
    "\n",
    "products = ContractRental.objects.annotate(\n",
    "    number_of_warehouse=Subquery(filters.values('gala__warehouse_id'))\n",
    ")\n"
   ]
  },
  {
   "cell_type": "code",
   "execution_count": 60,
   "id": "c9c857ea",
   "metadata": {},
   "outputs": [
    {
     "data": {
      "text/plain": [
       "<PolymorphicQuerySet [<Rental: Leave_and_License>, <Rental: Leave_and_License>, <Rental: Leave_and_License>, <Rental: Leave_and_License>, <Rental: Leave_and_License>]>"
      ]
     },
     "execution_count": 60,
     "metadata": {},
     "output_type": "execute_result"
    }
   ],
   "source": [
    "products"
   ]
  },
  {
   "cell_type": "code",
   "execution_count": 65,
   "id": "7f24d9f1",
   "metadata": {},
   "outputs": [
    {
     "data": {
      "text/plain": [
       "<PolymorphicQuerySet [{'gala__warehouse_id': 8}, {'gala__warehouse_id': 9}]>"
      ]
     },
     "execution_count": 65,
     "metadata": {},
     "output_type": "execute_result"
    }
   ],
   "source": []
  },
  {
   "cell_type": "code",
   "execution_count": 196,
   "id": "f15439ed",
   "metadata": {},
   "outputs": [],
   "source": [
    "from django.db.models import Aggregate, CharField , IntegerField\n",
    "\n",
    "class GroupConcat(Aggregate):\n",
    "    function = 'GROUP_CONCAT'\n",
    "    template = '%(function)s(%(distinct)s%(expressions)s%(ordering)s%(separator)s)'\n",
    "\n",
    "    def __init__(self, expression, distinct=False, ordering=None, separator=',', **extra):\n",
    "        super(GroupConcat, self).__init__(\n",
    "            expression,\n",
    "            distinct='DISTINCT ' if distinct else '',\n",
    "            ordering=' ORDER BY %s' % ordering if ordering is not None else '',\n",
    "            separator=' SEPARATOR \"%s\"' % separator,\n",
    "            output_field=CharField(),\n",
    "            **extra\n",
    "        )"
   ]
  },
  {
   "cell_type": "code",
   "execution_count": 100,
   "id": "f8e0ec91",
   "metadata": {},
   "outputs": [
    {
     "data": {
      "text/plain": [
       "<PolymorphicQuerySet [{'gala__warehouse_id': 8, 'name': '8'}, {'gala__warehouse_id': 9, 'name': '9,9'}]>"
      ]
     },
     "execution_count": 100,
     "metadata": {},
     "output_type": "execute_result"
    }
   ],
   "source": [
    "ContractRental.objects.filter(user__user_uid = '51f9c7eb-8f1b-4fcc-9124-58831235d387').values(\n",
    "                \"gala__warehouse_id\").annotate(name = GroupConcat(\"gala__warehouse_id\"))"
   ]
  },
  {
   "cell_type": "code",
   "execution_count": null,
   "id": "2ed8517c",
   "metadata": {},
   "outputs": [],
   "source": [
    "f1 = Fruits.objects.values('type').annotate(count = Count('type'),namelist= GroupConcat('namelist')).distinct()"
   ]
  },
  {
   "cell_type": "code",
   "execution_count": 96,
   "id": "cd6fcc6e",
   "metadata": {},
   "outputs": [],
   "source": [
    "# take_list = []\n",
    "# get_total_number_of_warehouse = Rental.objects.filter(rental_contract__user__user_uid='51f9c7eb-8f1b-4fcc-9124-58831235d387')\n",
    "# if get_total_number_of_warehouse.rental_contract.gala.warehouse.id not in take_list:\n",
    "#     take_list.append(get_total_number_of_warehouse.rental_contract.gala.warehouse.id)"
   ]
  },
  {
   "cell_type": "code",
   "execution_count": 194,
   "id": "434a8422",
   "metadata": {},
   "outputs": [],
   "source": [
    "from django.db.models import Aggregate\n",
    "\n",
    "class GroupConcat(Aggregate):\n",
    "    function = 'GROUP_CONCAT'\n",
    "    template = '%(function)s(%(distinct)s%(expressions)s)'\n",
    "\n",
    "    def __init__(self, expression, distinct=False, **extra):\n",
    "        super(GroupConcat, self).__init__(\n",
    "            expression,\n",
    "            distinct='DISTINCT ' if distinct else '',\n",
    "            output_field=CharField(),\n",
    "            **extra)"
   ]
  },
  {
   "cell_type": "code",
   "execution_count": 99,
   "id": "34ac2495",
   "metadata": {},
   "outputs": [
    {
     "data": {
      "text/plain": [
       "<PolymorphicQuerySet [{'user__username': 'snappy-cardinal-argentino', 'dname': 'snappy-cardinal-argentino,snappy-cardinal-argentino,snappy-cardinal-argentino'}]>"
      ]
     },
     "execution_count": 99,
     "metadata": {},
     "output_type": "execute_result"
    }
   ],
   "source": [
    "ContractRental.objects.filter(user__user_uid = '51f9c7eb-8f1b-4fcc-9124-58831235d387').values('user__username').annotate(dname=GroupConcat('user__username')).order_by('user__username')"
   ]
  },
  {
   "cell_type": "code",
   "execution_count": 137,
   "id": "69a7519a",
   "metadata": {},
   "outputs": [
    {
     "data": {
      "text/plain": [
       "{8, 9}"
      ]
     },
     "execution_count": 137,
     "metadata": {},
     "output_type": "execute_result"
    }
   ],
   "source": [
    "ContractRental.objects.filter(user__user_uid = '51f9c7eb-8f1b-4fcc-9124-58831235d387').values_list(\"gala__warehouse_id\",flat=True)"
   ]
  },
  {
   "cell_type": "code",
   "execution_count": 291,
   "id": "76ffd8d6",
   "metadata": {},
   "outputs": [],
   "source": [
    "from django.db.models import Sum, ExpressionWrapper"
   ]
  },
  {
   "cell_type": "code",
   "execution_count": null,
   "id": "ae5c47a3",
   "metadata": {},
   "outputs": [],
   "source": []
  },
  {
   "cell_type": "code",
   "execution_count": null,
   "id": "41f53eb9",
   "metadata": {},
   "outputs": [],
   "source": [
    "dups = (\n",
    "    ContractRental.objects.values('name')\n",
    "    .annotate(count=Count('id'))\n",
    "    .values('name')\n",
    "    .order_by()\n",
    "    .filter(count__gt=1)\n",
    ")"
   ]
  },
  {
   "cell_type": "code",
   "execution_count": 331,
   "id": "7eb8c571",
   "metadata": {
    "scrolled": true
   },
   "outputs": [
    {
     "data": {
      "text/plain": [
       "<PolymorphicQuerySet [{'total_warehouse': 1}, {'total_warehouse': 2}]>"
      ]
     },
     "execution_count": 331,
     "metadata": {},
     "output_type": "execute_result"
    }
   ],
   "source": [
    "\n",
    "\n",
    "\n",
    "\n",
    "\n",
    "\n",
    "\n"
   ]
  },
  {
   "cell_type": "code",
   "execution_count": 298,
   "id": "415346d5",
   "metadata": {},
   "outputs": [
    {
     "ename": "SyntaxError",
     "evalue": "incomplete input (630129820.py, line 2)",
     "output_type": "error",
     "traceback": [
      "\u001b[1;36m  Cell \u001b[1;32mIn[298], line 2\u001b[1;36m\u001b[0m\n\u001b[1;33m    F('answerresponse__realcoef_sum') * F('answerresponse__answer__question__points'), output_field=IntegerField()\u001b[0m\n\u001b[1;37m                                                                                                                  ^\u001b[0m\n\u001b[1;31mSyntaxError\u001b[0m\u001b[1;31m:\u001b[0m incomplete input\n"
     ]
    }
   ],
   "source": [
    "# ExpressionWrapper(\n",
    "#         F('answerresponse__realcoef_sum') * F('answerresponse__answer__question__points'), output_field=IntegerField()"
   ]
  },
  {
   "cell_type": "code",
   "execution_count": null,
   "id": "6c2f2091",
   "metadata": {},
   "outputs": [],
   "source": [
    ".annotate(Count('gala__warehouse_id',distinct=True)).annotate(total=ExpressionWrapper(\n",
    "        aggregate(Count(F('gala__warehouse_id__count')), output_field=IntegerField())).values(\"total\"))"
   ]
  },
  {
   "cell_type": "code",
   "execution_count": null,
   "id": "1614d0fb",
   "metadata": {},
   "outputs": [],
   "source": []
  },
  {
   "cell_type": "code",
   "execution_count": null,
   "id": "e960024f",
   "metadata": {},
   "outputs": [],
   "source": []
  },
  {
   "cell_type": "code",
   "execution_count": 155,
   "id": "e3431c32",
   "metadata": {},
   "outputs": [],
   "source": [
    "# Company.objects.get(name = \"Omkar\").user_set.all()"
   ]
  },
  {
   "cell_type": "code",
   "execution_count": 183,
   "id": "faab24c2",
   "metadata": {},
   "outputs": [],
   "source": [
    "get_rental_qs = Rental.objects.filter(belong_to__name=\"Omkar\").values(\n",
    "    \"id\",\"user_uid\",\"username\"\n",
    ").annotate(\n",
    "    total_number_of_galas = ContractRental.objects.filter(\n",
    "        user__user_uid = OuterRef(\"user_uid\")\n",
    "    ).values(\"user__user_uid\").annotate(\n",
    "        total_number_of_galas = Count(\"user__user_uid\")\n",
    "    ).values(\"total_number_of_galas\"),\n",
    ")"
   ]
  },
  {
   "cell_type": "code",
   "execution_count": 184,
   "id": "e960cc30",
   "metadata": {},
   "outputs": [
    {
     "data": {
      "text/plain": [
       "<QuerySet [{'id': 2, 'user_uid': UUID('dfef7ec8-d0fe-4e9f-abb1-16187c184320'), 'username': 'Mayank', 'total_number_of_galas': 1}, {'id': 5, 'user_uid': UUID('51f9c7eb-8f1b-4fcc-9124-58831235d387'), 'username': 'snappy-cardinal-argentino', 'total_number_of_galas': 3}, {'id': 14, 'user_uid': UUID('1df8502b-66a6-4486-ae21-7e19c3e7bd0a'), 'username': 'randy-crimson-caracal', 'total_number_of_galas': 1}, {'id': 15, 'user_uid': UUID('4acd799f-7f94-42de-9b6d-1e80b5c5e6b3'), 'username': 'cloudy-champagne-zebu', 'total_number_of_galas': None}, {'id': 19, 'user_uid': UUID('21cc2354-694b-44fd-b9cb-659f1117ac55'), 'username': 'slimy-platinum-tapir', 'total_number_of_galas': None}, {'id': 21, 'user_uid': UUID('0fccdc06-c2e6-45b2-9b91-0100b976e6d3'), 'username': 'squirrely-razzmatazz-moose', 'total_number_of_galas': None}, {'id': 28, 'user_uid': UUID('e7b74f37-29df-4650-b622-7b56626bcdd8'), 'username': 'tasty-platinum-hyrax', 'total_number_of_galas': None}, {'id': 37, 'user_uid': UUID('4e16d99b-f073-471e-b51d-cadedf7a2456'), 'username': 'nerdy-crimson-frise', 'total_number_of_galas': None}, {'id': 50, 'user_uid': UUID('6c8ad82d-2efd-4340-8be4-1225a10aa1f0'), 'username': 'hasty-puce-oyster', 'total_number_of_galas': None}, {'id': 51, 'user_uid': UUID('b749ae76-f68d-4a05-97c5-efa48d6c3be4'), 'username': 'jumpy-maroon-mist', 'total_number_of_galas': None}, {'id': 54, 'user_uid': UUID('8fd78262-8698-4425-8c7f-bb177a4b74df'), 'username': 'freaky-crimson-dodo', 'total_number_of_galas': None}, {'id': 56, 'user_uid': UUID('86f5dfae-cd58-4a64-a1fe-9348d621dd6e'), 'username': 'chummy-magnolia-quoll', 'total_number_of_galas': None}, {'id': 59, 'user_uid': UUID('2d200190-5494-42a3-8c10-c1013079d8e5'), 'username': 'boozy-turquoise-antelope', 'total_number_of_galas': None}, {'id': 60, 'user_uid': UUID('fa3c91d6-ea46-483a-9daa-6dcb1d86a085'), 'username': 'snippy-cinnamon-cheetah', 'total_number_of_galas': None}, {'id': 62, 'user_uid': UUID('f55889f2-9759-496a-829a-5ae676cc67b0'), 'username': 'chewy-yellow-millipede', 'total_number_of_galas': None}, {'id': 66, 'user_uid': UUID('1f38c84f-21b2-4d52-967f-b42c1a1f1966'), 'username': 'wimpy-pear-badger', 'total_number_of_galas': None}, {'id': 67, 'user_uid': UUID('0898e1a1-96d6-4e93-be26-2eaf02177946'), 'username': 'nippy-flax-panda', 'total_number_of_galas': None}, {'id': 68, 'user_uid': UUID('8489a286-72ee-4bb9-b9a1-9795f570d471'), 'username': 'snoopy-corn-mandrill', 'total_number_of_galas': None}, {'id': 72, 'user_uid': UUID('76663926-eec2-496e-997a-fa056db8e69a'), 'username': 'skanky-rust-capuchin', 'total_number_of_galas': None}, {'id': 82, 'user_uid': UUID('89d5a564-fcbd-4107-b835-0516666ff2e0'), 'username': 'lovely-burgundy-shrimp', 'total_number_of_galas': None}, '...(remaining elements truncated)...']>"
      ]
     },
     "execution_count": 184,
     "metadata": {},
     "output_type": "execute_result"
    }
   ],
   "source": [
    "get_rental_qs"
   ]
  },
  {
   "cell_type": "code",
   "execution_count": 269,
   "id": "a2f8cb16",
   "metadata": {},
   "outputs": [],
   "source": [
    "get_rental_qs = Rental.objects.filter(belong_to__name=\"Omkar\").values(\n",
    "    \"id\",\"user_uid\",\"username\",\"rental_contract__gala__warehouse__id\"\n",
    ")"
   ]
  },
  {
   "cell_type": "code",
   "execution_count": 270,
   "id": "644dfe3c",
   "metadata": {},
   "outputs": [],
   "source": [
    "df = read_frame(get_rental_qs)"
   ]
  },
  {
   "cell_type": "code",
   "execution_count": 271,
   "id": "1cc76c74",
   "metadata": {},
   "outputs": [],
   "source": [
    "import numpy as np"
   ]
  },
  {
   "cell_type": "code",
   "execution_count": 272,
   "id": "d67d3356",
   "metadata": {},
   "outputs": [],
   "source": [
    "df.dropna(inplace=True)"
   ]
  },
  {
   "cell_type": "code",
   "execution_count": 273,
   "id": "656b0a6b",
>>>>>>> 2db158631d52986a37b6d7faabdae8bd05953c1c
   "metadata": {},
   "outputs": [
    {
     "data": {
      "text/html": [
       "<div>\n",
       "<style scoped>\n",
       "    .dataframe tbody tr th:only-of-type {\n",
       "        vertical-align: middle;\n",
       "    }\n",
       "\n",
       "    .dataframe tbody tr th {\n",
       "        vertical-align: top;\n",
       "    }\n",
       "\n",
       "    .dataframe thead th {\n",
       "        text-align: right;\n",
       "    }\n",
       "</style>\n",
       "<table border=\"1\" class=\"dataframe\">\n",
       "  <thead>\n",
       "    <tr style=\"text-align: right;\">\n",
       "      <th></th>\n",
<<<<<<< HEAD
       "      <th>title</th>\n",
       "      <th>description</th>\n",
       "      <th>url</th>\n",
       "      <th>date</th>\n",
=======
       "      <th>id</th>\n",
       "      <th>user_uid</th>\n",
       "      <th>username</th>\n",
       "      <th>rental_contract__gala__warehouse__id</th>\n",
>>>>>>> 2db158631d52986a37b6d7faabdae8bd05953c1c
       "    </tr>\n",
       "  </thead>\n",
       "  <tbody>\n",
       "    <tr>\n",
       "      <th>0</th>\n",
<<<<<<< HEAD
       "      <td>Genesis-DCG Loan Leads to Class Action Arbitra...</td>\n",
       "      <td>Claimants allege in a filing that Genesis brea...</td>\n",
       "      <td>https://www.coindesk.com/business/2023/01/03/g...</td>\n",
       "      <td>Tue, 03 Jan 2023 04:17:07 +0000</td>\n",
       "    </tr>\n",
       "    <tr>\n",
       "      <th>1</th>\n",
       "      <td>First Mover Asia: Bitcoin Celebrates the New Y...</td>\n",
       "      <td>ALSO: CoinDesk's Sam Reynolds explains why cry...</td>\n",
       "      <td>https://www.coindesk.com/markets/2023/01/02/fi...</td>\n",
       "      <td>Mon, 02 Jan 2023 23:45:39 +0000</td>\n",
       "    </tr>\n",
       "    <tr>\n",
       "      <th>2</th>\n",
       "      <td>Gemini Co-Founder Accuses DCG’s Silbert of 'Ba...</td>\n",
       "      <td></td>\n",
       "      <td>https://www.coindesk.com/business/2023/01/02/g...</td>\n",
       "      <td>Mon, 02 Jan 2023 18:04:43 +0000</td>\n",
       "    </tr>\n",
       "    <tr>\n",
       "      <th>3</th>\n",
       "      <td>What Will It Take for Bitcoin Mining Companies...</td>\n",
       "      <td>Some miners have held onto the bitcoin they mi...</td>\n",
       "      <td>https://www.coindesk.com/markets/2023/01/01/wh...</td>\n",
       "      <td>Sun, 01 Jan 2023 16:50:00 +0000</td>\n",
       "    </tr>\n",
       "    <tr>\n",
       "      <th>4</th>\n",
       "      <td>UK Enforces Crypto Tax Break for Foreigners Us...</td>\n",
       "      <td>The measures now in effect are part of the gov...</td>\n",
       "      <td>https://www.coindesk.com/policy/2023/01/01/uk-...</td>\n",
       "      <td>Sun, 01 Jan 2023 10:00:00 +0000</td>\n",
=======
       "      <td>2</td>\n",
       "      <td>dfef7ec8-d0fe-4e9f-abb1-16187c184320</td>\n",
       "      <td>Mayank</td>\n",
       "      <td>9.0</td>\n",
       "    </tr>\n",
       "    <tr>\n",
       "      <th>1</th>\n",
       "      <td>5</td>\n",
       "      <td>51f9c7eb-8f1b-4fcc-9124-58831235d387</td>\n",
       "      <td>snappy-cardinal-argentino</td>\n",
       "      <td>9.0</td>\n",
       "    </tr>\n",
       "    <tr>\n",
       "      <th>2</th>\n",
       "      <td>5</td>\n",
       "      <td>51f9c7eb-8f1b-4fcc-9124-58831235d387</td>\n",
       "      <td>snappy-cardinal-argentino</td>\n",
       "      <td>9.0</td>\n",
       "    </tr>\n",
       "    <tr>\n",
       "      <th>3</th>\n",
       "      <td>5</td>\n",
       "      <td>51f9c7eb-8f1b-4fcc-9124-58831235d387</td>\n",
       "      <td>snappy-cardinal-argentino</td>\n",
       "      <td>8.0</td>\n",
       "    </tr>\n",
       "    <tr>\n",
       "      <th>4</th>\n",
       "      <td>14</td>\n",
       "      <td>1df8502b-66a6-4486-ae21-7e19c3e7bd0a</td>\n",
       "      <td>randy-crimson-caracal</td>\n",
       "      <td>8.0</td>\n",
>>>>>>> 2db158631d52986a37b6d7faabdae8bd05953c1c
       "    </tr>\n",
       "  </tbody>\n",
       "</table>\n",
       "</div>"
      ],
      "text/plain": [
<<<<<<< HEAD
       "                                               title  \\\n",
       "0  Genesis-DCG Loan Leads to Class Action Arbitra...   \n",
       "1  First Mover Asia: Bitcoin Celebrates the New Y...   \n",
       "2  Gemini Co-Founder Accuses DCG’s Silbert of 'Ba...   \n",
       "3  What Will It Take for Bitcoin Mining Companies...   \n",
       "4  UK Enforces Crypto Tax Break for Foreigners Us...   \n",
       "\n",
       "                                         description  \\\n",
       "0  Claimants allege in a filing that Genesis brea...   \n",
       "1  ALSO: CoinDesk's Sam Reynolds explains why cry...   \n",
       "2                                                      \n",
       "3  Some miners have held onto the bitcoin they mi...   \n",
       "4  The measures now in effect are part of the gov...   \n",
       "\n",
       "                                                 url  \\\n",
       "0  https://www.coindesk.com/business/2023/01/03/g...   \n",
       "1  https://www.coindesk.com/markets/2023/01/02/fi...   \n",
       "2  https://www.coindesk.com/business/2023/01/02/g...   \n",
       "3  https://www.coindesk.com/markets/2023/01/01/wh...   \n",
       "4  https://www.coindesk.com/policy/2023/01/01/uk-...   \n",
       "\n",
       "                              date  \n",
       "0  Tue, 03 Jan 2023 04:17:07 +0000  \n",
       "1  Mon, 02 Jan 2023 23:45:39 +0000  \n",
       "2  Mon, 02 Jan 2023 18:04:43 +0000  \n",
       "3  Sun, 01 Jan 2023 16:50:00 +0000  \n",
       "4  Sun, 01 Jan 2023 10:00:00 +0000  "
      ]
     },
     "execution_count": 29,
=======
       "   id                              user_uid                   username  \\\n",
       "0   2  dfef7ec8-d0fe-4e9f-abb1-16187c184320                     Mayank   \n",
       "1   5  51f9c7eb-8f1b-4fcc-9124-58831235d387  snappy-cardinal-argentino   \n",
       "2   5  51f9c7eb-8f1b-4fcc-9124-58831235d387  snappy-cardinal-argentino   \n",
       "3   5  51f9c7eb-8f1b-4fcc-9124-58831235d387  snappy-cardinal-argentino   \n",
       "4  14  1df8502b-66a6-4486-ae21-7e19c3e7bd0a      randy-crimson-caracal   \n",
       "\n",
       "   rental_contract__gala__warehouse__id  \n",
       "0                                   9.0  \n",
       "1                                   9.0  \n",
       "2                                   9.0  \n",
       "3                                   8.0  \n",
       "4                                   8.0  "
      ]
     },
     "execution_count": 273,
>>>>>>> 2db158631d52986a37b6d7faabdae8bd05953c1c
     "metadata": {},
     "output_type": "execute_result"
    }
   ],
   "source": [
    "df"
   ]
  },
  {
   "cell_type": "code",
<<<<<<< HEAD
   "execution_count": 30,
   "id": "b42d74d3",
   "metadata": {},
   "outputs": [],
   "source": [
    "transpose_df = df.transpose()"
=======
   "execution_count": 274,
   "id": "37d3d0e1",
   "metadata": {},
   "outputs": [],
   "source": [
    "df['total_number_of_galas'] = df.groupby('user_uid')['rental_contract__gala__warehouse__id'].transform('size')"
>>>>>>> 2db158631d52986a37b6d7faabdae8bd05953c1c
   ]
  },
  {
   "cell_type": "code",
<<<<<<< HEAD
   "execution_count": 31,
   "id": "777fc2ed",
   "metadata": {},
   "outputs": [],
   "source": [
    "transpose_df_dict = transpose_df.to_dict()"
=======
   "execution_count": 275,
   "id": "7cdbe9e0",
   "metadata": {},
   "outputs": [],
   "source": [
    "df.drop_duplicates(subset=['username','rental_contract__gala__warehouse__id'],inplace=True)"
>>>>>>> 2db158631d52986a37b6d7faabdae8bd05953c1c
   ]
  },
  {
   "cell_type": "code",
<<<<<<< HEAD
   "execution_count": 32,
   "id": "b9ac7d2f",
=======
   "execution_count": 276,
   "id": "7095045f",
   "metadata": {},
   "outputs": [],
   "source": [
    "df['total_number_of_warehouse'] = df.groupby('user_uid')['rental_contract__gala__warehouse__id'].transform('size')"
   ]
  },
  {
   "cell_type": "code",
   "execution_count": 277,
   "id": "479e4ebe",
   "metadata": {},
   "outputs": [],
   "source": [
    "df.drop_duplicates(subset=['username'],inplace=True)"
   ]
  },
  {
   "cell_type": "code",
   "execution_count": 281,
   "id": "0f8c4193",
   "metadata": {
    "scrolled": true
   },
   "outputs": [],
   "source": [
    "import uuid, random, urllib\n",
    "from django.urls import reverse\n",
    "def build_url(*args, **kwargs):\n",
    "    get = kwargs.pop('get', {})\n",
    "    url = reverse(*args, **kwargs)\n",
    "    if get:\n",
    "        url += '?' + urllib.parse.urlencode(get)\n",
    "    return url"
   ]
  },
  {
   "cell_type": "code",
   "execution_count": 282,
   "id": "a592e5ff",
   "metadata": {},
   "outputs": [
    {
     "ename": "NameError",
     "evalue": "name 'get_company_type' is not defined",
     "output_type": "error",
     "traceback": [
      "\u001b[1;31m---------------------------------------------------------------------------\u001b[0m",
      "\u001b[1;31mNameError\u001b[0m                                 Traceback (most recent call last)",
      "Cell \u001b[1;32mIn[282], line 1\u001b[0m\n\u001b[1;32m----> 1\u001b[0m url \u001b[38;5;241m=\u001b[39m build_url(\u001b[38;5;124m'\u001b[39m\u001b[38;5;124mget-rental-warehouse-detail\u001b[39m\u001b[38;5;124m'\u001b[39m, get\u001b[38;5;241m=\u001b[39m{\u001b[38;5;124m'\u001b[39m\u001b[38;5;124mcompany_type\u001b[39m\u001b[38;5;124m'\u001b[39m: \u001b[43mget_company_type\u001b[49m},kwargs\u001b[38;5;241m=\u001b[39m{\u001b[38;5;124m\"\u001b[39m\u001b[38;5;124muuid\u001b[39m\u001b[38;5;124m\"\u001b[39m:instance[\u001b[38;5;124m'\u001b[39m\u001b[38;5;124muser_uid\u001b[39m\u001b[38;5;124m'\u001b[39m]})\n",
      "\u001b[1;31mNameError\u001b[0m: name 'get_company_type' is not defined"
     ]
    }
   ],
   "source": [
    "url = build_url('get-rental-warehouse-detail', get={'company_type': get_company_type},kwargs={\"uuid\":instance['user_uid']})"
   ]
  },
  {
   "cell_type": "code",
   "execution_count": 283,
   "id": "69e4d117",
   "metadata": {},
   "outputs": [],
   "source": [
    "df['url'] = df['user_uid'].apply(lambda x : build_url('get-rental-warehouse-detail', get={'company_type': 'Omkar'},kwargs={\"uuid\":x}))"
   ]
  },
  {
   "cell_type": "code",
   "execution_count": 286,
   "id": "b8d7eaa6",
>>>>>>> 2db158631d52986a37b6d7faabdae8bd05953c1c
   "metadata": {},
   "outputs": [
    {
     "data": {
      "text/plain": [
<<<<<<< HEAD
       "{0: {'title': 'Genesis-DCG Loan Leads to Class Action Arbitration Case From Gemini Clients',\n",
       "  'description': 'Claimants allege in a filing that Genesis breached its Master Agreement when it became insolvent in the summer of 2022, while hiding its insolvency from lenders like Gemini.',\n",
       "  'url': 'https://www.coindesk.com/business/2023/01/03/genesis-dcg-loan-leads-to-class-action-arbitration-case-from-gemini-clients/?utm_medium=referral&utm_source=rss&utm_campaign=headlines',\n",
       "  'date': 'Tue, 03 Jan 2023 04:17:07 +0000'},\n",
       " 1: {'title': 'First Mover Asia: Bitcoin Celebrates the New Year With Old Pricing, Holds Steady at $16.7K',\n",
       "  'description': \"ALSO: CoinDesk's Sam Reynolds explains why crypto exchange token prices continue to respond to news events and not what the SEC and other regulators might do.\",\n",
       "  'url': 'https://www.coindesk.com/markets/2023/01/02/first-mover-asia-bitcoin-celebrates-the-new-year-with-old-pricing-holds-steady-at-167k/?utm_medium=referral&utm_source=rss&utm_campaign=headlines',\n",
       "  'date': 'Mon, 02 Jan 2023 23:45:39 +0000'},\n",
       " 2: {'title': \"Gemini Co-Founder Accuses DCG’s Silbert of 'Bad Faith' Stalling in $900M Locked Funds Dispute\",\n",
       "  'description': '',\n",
       "  'url': 'https://www.coindesk.com/business/2023/01/02/gemini-co-founder-accuses-dcgs-silbert-of-bad-faith-stalling-in-900m-locked-funds-dispute/?utm_medium=referral&utm_source=rss&utm_campaign=headlines',\n",
       "  'date': 'Mon, 02 Jan 2023 18:04:43 +0000'},\n",
       " 3: {'title': 'What Will It Take for Bitcoin Mining Companies to Survive in 2023?',\n",
       "  'description': 'Some miners have held onto the bitcoin they mined, opting instead to finance operations with debt and other capital, which works really well – until it doesn’t.',\n",
       "  'url': 'https://www.coindesk.com/markets/2023/01/01/what-will-it-take-for-bitcoin-mining-companies-to-survive-in-2023/?utm_medium=referral&utm_source=rss&utm_campaign=headlines',\n",
       "  'date': 'Sun, 01 Jan 2023 16:50:00 +0000'},\n",
       " 4: {'title': 'UK Enforces Crypto Tax Break for Foreigners Using Local Brokers',\n",
       "  'description': \"The measures now in effect are part of the government's plans to turn the country into a crypto hub.\",\n",
       "  'url': 'https://www.coindesk.com/policy/2023/01/01/uk-enforces-crypto-tax-break-for-foreigners-using-local-brokers/?utm_medium=referral&utm_source=rss&utm_campaign=headlines',\n",
       "  'date': 'Sun, 01 Jan 2023 10:00:00 +0000'}}"
      ]
     },
     "execution_count": 32,
=======
       "'/admin-api/get-rental-warehouse-detail/dfef7ec8-d0fe-4e9f-abb1-16187c184320/?company_type=Omkar'"
      ]
     },
     "execution_count": 286,
>>>>>>> 2db158631d52986a37b6d7faabdae8bd05953c1c
     "metadata": {},
     "output_type": "execute_result"
    }
   ],
   "source": [
<<<<<<< HEAD
    "transpose_df_dict"
=======
    "df.iloc[0,-1]"
   ]
  },
  {
   "cell_type": "code",
   "execution_count": 287,
   "id": "158118e1",
   "metadata": {},
   "outputs": [
    {
     "data": {
      "text/html": [
       "<div>\n",
       "<style scoped>\n",
       "    .dataframe tbody tr th:only-of-type {\n",
       "        vertical-align: middle;\n",
       "    }\n",
       "\n",
       "    .dataframe tbody tr th {\n",
       "        vertical-align: top;\n",
       "    }\n",
       "\n",
       "    .dataframe thead th {\n",
       "        text-align: right;\n",
       "    }\n",
       "</style>\n",
       "<table border=\"1\" class=\"dataframe\">\n",
       "  <thead>\n",
       "    <tr style=\"text-align: right;\">\n",
       "      <th></th>\n",
       "      <th>id</th>\n",
       "      <th>user_uid</th>\n",
       "      <th>username</th>\n",
       "      <th>rental_contract__gala__warehouse__id</th>\n",
       "      <th>total_number_of_galas</th>\n",
       "      <th>total_number_of_warehouse</th>\n",
       "      <th>url</th>\n",
       "    </tr>\n",
       "  </thead>\n",
       "  <tbody>\n",
       "    <tr>\n",
       "      <th>0</th>\n",
       "      <td>2</td>\n",
       "      <td>dfef7ec8-d0fe-4e9f-abb1-16187c184320</td>\n",
       "      <td>Mayank</td>\n",
       "      <td>9.0</td>\n",
       "      <td>1</td>\n",
       "      <td>1</td>\n",
       "      <td>/admin-api/get-rental-warehouse-detail/dfef7ec...</td>\n",
       "    </tr>\n",
       "    <tr>\n",
       "      <th>1</th>\n",
       "      <td>5</td>\n",
       "      <td>51f9c7eb-8f1b-4fcc-9124-58831235d387</td>\n",
       "      <td>snappy-cardinal-argentino</td>\n",
       "      <td>9.0</td>\n",
       "      <td>3</td>\n",
       "      <td>2</td>\n",
       "      <td>/admin-api/get-rental-warehouse-detail/51f9c7e...</td>\n",
       "    </tr>\n",
       "    <tr>\n",
       "      <th>4</th>\n",
       "      <td>14</td>\n",
       "      <td>1df8502b-66a6-4486-ae21-7e19c3e7bd0a</td>\n",
       "      <td>randy-crimson-caracal</td>\n",
       "      <td>8.0</td>\n",
       "      <td>1</td>\n",
       "      <td>1</td>\n",
       "      <td>/admin-api/get-rental-warehouse-detail/1df8502...</td>\n",
       "    </tr>\n",
       "  </tbody>\n",
       "</table>\n",
       "</div>"
      ],
      "text/plain": [
       "   id                              user_uid                   username  \\\n",
       "0   2  dfef7ec8-d0fe-4e9f-abb1-16187c184320                     Mayank   \n",
       "1   5  51f9c7eb-8f1b-4fcc-9124-58831235d387  snappy-cardinal-argentino   \n",
       "4  14  1df8502b-66a6-4486-ae21-7e19c3e7bd0a      randy-crimson-caracal   \n",
       "\n",
       "   rental_contract__gala__warehouse__id  total_number_of_galas  \\\n",
       "0                                   9.0                      1   \n",
       "1                                   9.0                      3   \n",
       "4                                   8.0                      1   \n",
       "\n",
       "   total_number_of_warehouse  \\\n",
       "0                          1   \n",
       "1                          2   \n",
       "4                          1   \n",
       "\n",
       "                                                 url  \n",
       "0  /admin-api/get-rental-warehouse-detail/dfef7ec...  \n",
       "1  /admin-api/get-rental-warehouse-detail/51f9c7e...  \n",
       "4  /admin-api/get-rental-warehouse-detail/1df8502...  "
      ]
     },
     "execution_count": 287,
     "metadata": {},
     "output_type": "execute_result"
    }
   ],
   "source": [
    "df"
   ]
  },
  {
   "cell_type": "code",
   "execution_count": 268,
   "id": "a86c93e7",
   "metadata": {},
   "outputs": [
    {
     "data": {
      "text/plain": [
       "<PolymorphicQuerySet [{'gala__warehouse_id': 8, 'user__username': 'randy-crimson-caracal', 'user__user_uid': UUID('1df8502b-66a6-4486-ae21-7e19c3e7bd0a'), 'gala__warehouse_id__count': 1}, {'gala__warehouse_id': 8, 'user__username': 'snappy-cardinal-argentino', 'user__user_uid': UUID('51f9c7eb-8f1b-4fcc-9124-58831235d387'), 'gala__warehouse_id__count': 1}, {'gala__warehouse_id': 9, 'user__username': 'Mayank', 'user__user_uid': UUID('dfef7ec8-d0fe-4e9f-abb1-16187c184320'), 'gala__warehouse_id__count': 1}, {'gala__warehouse_id': 9, 'user__username': 'snappy-cardinal-argentino', 'user__user_uid': UUID('51f9c7eb-8f1b-4fcc-9124-58831235d387'), 'gala__warehouse_id__count': 2}]>"
      ]
     },
     "execution_count": 268,
     "metadata": {},
     "output_type": "execute_result"
    }
   ],
   "source": [
    "# ContractRental.objects.all().values(\"gala__warehouse_id\",\"user__username\",\"user__user_uid\").annotate(Count('gala__warehouse_id'))"
   ]
  },
  {
   "cell_type": "code",
   "execution_count": 358,
   "id": "2ffe0a75",
   "metadata": {},
   "outputs": [
    {
     "ename": "FieldError",
     "evalue": "Cannot compute Sum('warehouse'): 'warehouse' is an aggregate",
     "output_type": "error",
     "traceback": [
      "\u001b[1;31m---------------------------------------------------------------------------\u001b[0m",
      "\u001b[1;31mFieldError\u001b[0m                                Traceback (most recent call last)",
      "Cell \u001b[1;32mIn[358], line 3\u001b[0m\n\u001b[0;32m      1\u001b[0m \u001b[43mContractRental\u001b[49m\u001b[38;5;241;43m.\u001b[39;49m\u001b[43mobjects\u001b[49m\u001b[38;5;241;43m.\u001b[39;49m\u001b[43mfilter\u001b[49m\u001b[43m(\u001b[49m\u001b[43muser__user_uid\u001b[49m\u001b[43m \u001b[49m\u001b[38;5;241;43m=\u001b[39;49m\u001b[43m \u001b[49m\u001b[38;5;124;43m\"\u001b[39;49m\u001b[38;5;124;43m51f9c7eb-8f1b-4fcc-9124-58831235d387\u001b[39;49m\u001b[38;5;124;43m\"\u001b[39;49m\n\u001b[0;32m      2\u001b[0m \u001b[43m        \u001b[49m\u001b[43m)\u001b[49m\u001b[38;5;241;43m.\u001b[39;49m\u001b[43mvalues\u001b[49m\u001b[43m(\u001b[49m\u001b[38;5;124;43m\"\u001b[39;49m\u001b[38;5;124;43mgala__warehouse_id\u001b[39;49m\u001b[38;5;124;43m\"\u001b[39;49m\u001b[43m)\u001b[49m\u001b[38;5;241;43m.\u001b[39;49m\u001b[43mannotate\u001b[49m\u001b[43m(\u001b[49m\u001b[43mwarehouse\u001b[49m\u001b[43m \u001b[49m\u001b[38;5;241;43m=\u001b[39;49m\u001b[43m \u001b[49m\u001b[43mCount\u001b[49m\u001b[43m(\u001b[49m\u001b[38;5;124;43m\"\u001b[39;49m\u001b[38;5;124;43mgala__warehouse_id\u001b[39;49m\u001b[38;5;124;43m\"\u001b[39;49m\u001b[43m,\u001b[49m\u001b[43mdistinct\u001b[49m\u001b[43m \u001b[49m\u001b[38;5;241;43m=\u001b[39;49m\u001b[43m \u001b[49m\u001b[38;5;28;43;01mTrue\u001b[39;49;00m\u001b[43m)\u001b[49m\n\u001b[1;32m----> 3\u001b[0m \u001b[43m                \u001b[49m\u001b[43m)\u001b[49m\u001b[38;5;241;43m.\u001b[39;49m\u001b[43mvalues\u001b[49m\u001b[43m(\u001b[49m\u001b[38;5;124;43m\"\u001b[39;49m\u001b[38;5;124;43mwarehouse\u001b[39;49m\u001b[38;5;124;43m\"\u001b[39;49m\u001b[43m)\u001b[49m\u001b[38;5;241;43m.\u001b[39;49m\u001b[43mannotate\u001b[49m\u001b[43m(\u001b[49m\u001b[43mSum\u001b[49m\u001b[43m(\u001b[49m\u001b[38;5;124;43m\"\u001b[39;49m\u001b[38;5;124;43mwarehouse\u001b[39;49m\u001b[38;5;124;43m\"\u001b[39;49m\u001b[43m)\u001b[49m\u001b[43m)\u001b[49m\n",
      "File \u001b[1;32mC:\\Omkar-Development\\virtualenv\\lib\\site-packages\\polymorphic\\query.py:311\u001b[0m, in \u001b[0;36mPolymorphicQuerySet.annotate\u001b[1;34m(self, *args, **kwargs)\u001b[0m\n\u001b[0;32m    308\u001b[0m \u001b[38;5;124;03m\"\"\"translate the polymorphic field paths in the kwargs, then call vanilla annotate.\u001b[39;00m\n\u001b[0;32m    309\u001b[0m \u001b[38;5;124;03m_get_real_instances will do the rest of the job after executing the query.\"\"\"\u001b[39;00m\n\u001b[0;32m    310\u001b[0m \u001b[38;5;28mself\u001b[39m\u001b[38;5;241m.\u001b[39m_process_aggregate_args(args, kwargs)\n\u001b[1;32m--> 311\u001b[0m \u001b[38;5;28;01mreturn\u001b[39;00m \u001b[38;5;28msuper\u001b[39m()\u001b[38;5;241m.\u001b[39mannotate(\u001b[38;5;241m*\u001b[39margs, \u001b[38;5;241m*\u001b[39m\u001b[38;5;241m*\u001b[39mkwargs)\n",
      "File \u001b[1;32mC:\\Omkar-Development\\virtualenv\\lib\\site-packages\\django\\db\\models\\query.py:1575\u001b[0m, in \u001b[0;36mQuerySet.annotate\u001b[1;34m(self, *args, **kwargs)\u001b[0m\n\u001b[0;32m   1570\u001b[0m \u001b[38;5;124;03m\"\"\"\u001b[39;00m\n\u001b[0;32m   1571\u001b[0m \u001b[38;5;124;03mReturn a query set in which the returned objects have been annotated\u001b[39;00m\n\u001b[0;32m   1572\u001b[0m \u001b[38;5;124;03mwith extra data or aggregations.\u001b[39;00m\n\u001b[0;32m   1573\u001b[0m \u001b[38;5;124;03m\"\"\"\u001b[39;00m\n\u001b[0;32m   1574\u001b[0m \u001b[38;5;28mself\u001b[39m\u001b[38;5;241m.\u001b[39m_not_support_combined_queries(\u001b[38;5;124m\"\u001b[39m\u001b[38;5;124mannotate\u001b[39m\u001b[38;5;124m\"\u001b[39m)\n\u001b[1;32m-> 1575\u001b[0m \u001b[38;5;28;01mreturn\u001b[39;00m \u001b[38;5;28;43mself\u001b[39;49m\u001b[38;5;241;43m.\u001b[39;49m\u001b[43m_annotate\u001b[49m\u001b[43m(\u001b[49m\u001b[43margs\u001b[49m\u001b[43m,\u001b[49m\u001b[43m \u001b[49m\u001b[43mkwargs\u001b[49m\u001b[43m,\u001b[49m\u001b[43m \u001b[49m\u001b[43mselect\u001b[49m\u001b[38;5;241;43m=\u001b[39;49m\u001b[38;5;28;43;01mTrue\u001b[39;49;00m\u001b[43m)\u001b[49m\n",
      "File \u001b[1;32mC:\\Omkar-Development\\virtualenv\\lib\\site-packages\\django\\db\\models\\query.py:1623\u001b[0m, in \u001b[0;36mQuerySet._annotate\u001b[1;34m(self, args, kwargs, select)\u001b[0m\n\u001b[0;32m   1621\u001b[0m         clone\u001b[38;5;241m.\u001b[39mquery\u001b[38;5;241m.\u001b[39madd_filtered_relation(annotation, alias)\n\u001b[0;32m   1622\u001b[0m     \u001b[38;5;28;01melse\u001b[39;00m:\n\u001b[1;32m-> 1623\u001b[0m         \u001b[43mclone\u001b[49m\u001b[38;5;241;43m.\u001b[39;49m\u001b[43mquery\u001b[49m\u001b[38;5;241;43m.\u001b[39;49m\u001b[43madd_annotation\u001b[49m\u001b[43m(\u001b[49m\n\u001b[0;32m   1624\u001b[0m \u001b[43m            \u001b[49m\u001b[43mannotation\u001b[49m\u001b[43m,\u001b[49m\n\u001b[0;32m   1625\u001b[0m \u001b[43m            \u001b[49m\u001b[43malias\u001b[49m\u001b[43m,\u001b[49m\n\u001b[0;32m   1626\u001b[0m \u001b[43m            \u001b[49m\u001b[43mis_summary\u001b[49m\u001b[38;5;241;43m=\u001b[39;49m\u001b[38;5;28;43;01mFalse\u001b[39;49;00m\u001b[43m,\u001b[49m\n\u001b[0;32m   1627\u001b[0m \u001b[43m            \u001b[49m\u001b[43mselect\u001b[49m\u001b[38;5;241;43m=\u001b[39;49m\u001b[43mselect\u001b[49m\u001b[43m,\u001b[49m\n\u001b[0;32m   1628\u001b[0m \u001b[43m        \u001b[49m\u001b[43m)\u001b[49m\n\u001b[0;32m   1629\u001b[0m \u001b[38;5;28;01mfor\u001b[39;00m alias, annotation \u001b[38;5;129;01min\u001b[39;00m clone\u001b[38;5;241m.\u001b[39mquery\u001b[38;5;241m.\u001b[39mannotations\u001b[38;5;241m.\u001b[39mitems():\n\u001b[0;32m   1630\u001b[0m     \u001b[38;5;28;01mif\u001b[39;00m alias \u001b[38;5;129;01min\u001b[39;00m annotations \u001b[38;5;129;01mand\u001b[39;00m annotation\u001b[38;5;241m.\u001b[39mcontains_aggregate:\n",
      "File \u001b[1;32mC:\\Omkar-Development\\virtualenv\\lib\\site-packages\\django\\db\\models\\sql\\query.py:1119\u001b[0m, in \u001b[0;36mQuery.add_annotation\u001b[1;34m(self, annotation, alias, is_summary, select)\u001b[0m\n\u001b[0;32m   1117\u001b[0m \u001b[38;5;124;03m\"\"\"Add a single annotation expression to the Query.\"\"\"\u001b[39;00m\n\u001b[0;32m   1118\u001b[0m \u001b[38;5;28mself\u001b[39m\u001b[38;5;241m.\u001b[39mcheck_alias(alias)\n\u001b[1;32m-> 1119\u001b[0m annotation \u001b[38;5;241m=\u001b[39m \u001b[43mannotation\u001b[49m\u001b[38;5;241;43m.\u001b[39;49m\u001b[43mresolve_expression\u001b[49m\u001b[43m(\u001b[49m\n\u001b[0;32m   1120\u001b[0m \u001b[43m    \u001b[49m\u001b[38;5;28;43mself\u001b[39;49m\u001b[43m,\u001b[49m\u001b[43m \u001b[49m\u001b[43mallow_joins\u001b[49m\u001b[38;5;241;43m=\u001b[39;49m\u001b[38;5;28;43;01mTrue\u001b[39;49;00m\u001b[43m,\u001b[49m\u001b[43m \u001b[49m\u001b[43mreuse\u001b[49m\u001b[38;5;241;43m=\u001b[39;49m\u001b[38;5;28;43;01mNone\u001b[39;49;00m\u001b[43m,\u001b[49m\u001b[43m \u001b[49m\u001b[43msummarize\u001b[49m\u001b[38;5;241;43m=\u001b[39;49m\u001b[43mis_summary\u001b[49m\n\u001b[0;32m   1121\u001b[0m \u001b[43m\u001b[49m\u001b[43m)\u001b[49m\n\u001b[0;32m   1122\u001b[0m \u001b[38;5;28;01mif\u001b[39;00m select:\n\u001b[0;32m   1123\u001b[0m     \u001b[38;5;28mself\u001b[39m\u001b[38;5;241m.\u001b[39mappend_annotation_mask([alias])\n",
      "File \u001b[1;32mC:\\Omkar-Development\\virtualenv\\lib\\site-packages\\django\\db\\models\\aggregates.py:80\u001b[0m, in \u001b[0;36mAggregate.resolve_expression\u001b[1;34m(self, query, allow_joins, reuse, summarize, for_save)\u001b[0m\n\u001b[0;32m     74\u001b[0m             before_resolved \u001b[38;5;241m=\u001b[39m \u001b[38;5;28mself\u001b[39m\u001b[38;5;241m.\u001b[39mget_source_expressions()[index]\n\u001b[0;32m     75\u001b[0m             name \u001b[38;5;241m=\u001b[39m (\n\u001b[0;32m     76\u001b[0m                 before_resolved\u001b[38;5;241m.\u001b[39mname\n\u001b[0;32m     77\u001b[0m                 \u001b[38;5;28;01mif\u001b[39;00m \u001b[38;5;28mhasattr\u001b[39m(before_resolved, \u001b[38;5;124m\"\u001b[39m\u001b[38;5;124mname\u001b[39m\u001b[38;5;124m\"\u001b[39m)\n\u001b[0;32m     78\u001b[0m                 \u001b[38;5;28;01melse\u001b[39;00m \u001b[38;5;28mrepr\u001b[39m(before_resolved)\n\u001b[0;32m     79\u001b[0m             )\n\u001b[1;32m---> 80\u001b[0m             \u001b[38;5;28;01mraise\u001b[39;00m FieldError(\n\u001b[0;32m     81\u001b[0m                 \u001b[38;5;124m\"\u001b[39m\u001b[38;5;124mCannot compute \u001b[39m\u001b[38;5;132;01m%s\u001b[39;00m\u001b[38;5;124m(\u001b[39m\u001b[38;5;124m'\u001b[39m\u001b[38;5;132;01m%s\u001b[39;00m\u001b[38;5;124m'\u001b[39m\u001b[38;5;124m): \u001b[39m\u001b[38;5;124m'\u001b[39m\u001b[38;5;132;01m%s\u001b[39;00m\u001b[38;5;124m'\u001b[39m\u001b[38;5;124m is an aggregate\u001b[39m\u001b[38;5;124m\"\u001b[39m\n\u001b[0;32m     82\u001b[0m                 \u001b[38;5;241m%\u001b[39m (c\u001b[38;5;241m.\u001b[39mname, name, name)\n\u001b[0;32m     83\u001b[0m             )\n\u001b[0;32m     84\u001b[0m \u001b[38;5;28;01mif\u001b[39;00m (default \u001b[38;5;241m:=\u001b[39m c\u001b[38;5;241m.\u001b[39mdefault) \u001b[38;5;129;01mis\u001b[39;00m \u001b[38;5;28;01mNone\u001b[39;00m:\n\u001b[0;32m     85\u001b[0m     \u001b[38;5;28;01mreturn\u001b[39;00m c\n",
      "\u001b[1;31mFieldError\u001b[0m: Cannot compute Sum('warehouse'): 'warehouse' is an aggregate"
     ]
    }
   ],
   "source": [
    "ContractRental.objects.filter(user__user_uid = \"51f9c7eb-8f1b-4fcc-9124-58831235d387\"\n",
    "        ).values(\"gala__warehouse_id\").annotate(warehouse = Count(\"gala__warehouse_id\",distinct = True)\n",
    "                ).values(\"warehouse\").annotate(Sum(\"warehouse\"))\n",
    "\n",
    "\n",
    "\n",
    "\n"
>>>>>>> 2db158631d52986a37b6d7faabdae8bd05953c1c
   ]
  },
  {
   "cell_type": "code",
   "execution_count": null,
<<<<<<< HEAD
   "id": "cc97cc5f",
=======
   "id": "ab35f6fc",
   "metadata": {},
   "outputs": [],
   "source": []
  },
  {
   "cell_type": "code",
   "execution_count": 412,
   "id": "d225aa0e",
   "metadata": {},
   "outputs": [
    {
     "data": {
      "text/plain": [
       "<QuerySet [{'rental_contract__user__user_uid': UUID('1df8502b-66a6-4486-ae21-7e19c3e7bd0a'), 'total_warehouse': 1}, {'rental_contract__user__user_uid': None, 'total_warehouse': 1}, {'rental_contract__user__user_uid': None, 'total_warehouse': 1}, {'rental_contract__user__user_uid': None, 'total_warehouse': 1}, {'rental_contract__user__user_uid': None, 'total_warehouse': 1}, {'rental_contract__user__user_uid': None, 'total_warehouse': 1}, {'rental_contract__user__user_uid': None, 'total_warehouse': 1}, {'rental_contract__user__user_uid': None, 'total_warehouse': 1}, {'rental_contract__user__user_uid': None, 'total_warehouse': 1}, {'rental_contract__user__user_uid': None, 'total_warehouse': 1}, {'rental_contract__user__user_uid': None, 'total_warehouse': 1}, {'rental_contract__user__user_uid': None, 'total_warehouse': 1}, {'rental_contract__user__user_uid': None, 'total_warehouse': 1}, {'rental_contract__user__user_uid': None, 'total_warehouse': 1}, {'rental_contract__user__user_uid': None, 'total_warehouse': 1}, {'rental_contract__user__user_uid': None, 'total_warehouse': 1}, {'rental_contract__user__user_uid': None, 'total_warehouse': 1}, {'rental_contract__user__user_uid': None, 'total_warehouse': 1}, {'rental_contract__user__user_uid': UUID('dfef7ec8-d0fe-4e9f-abb1-16187c184320'), 'total_warehouse': 1}, {'rental_contract__user__user_uid': None, 'total_warehouse': 1}, '...(remaining elements truncated)...']>"
      ]
     },
     "execution_count": 412,
     "metadata": {},
     "output_type": "execute_result"
    }
   ],
   "source": [
    "get_qs = Company.objects.get(name = \"Omkar\").user_set.filter(groups__name = \"Rental\").values(\"rental_contract__user__user_uid\").annotate(\n",
    "total_warehouse = ContractRental.objects.filter(user__user_uid =\"51f9c7eb-8f1b-4fcc-9124-58831235d387\"\n",
    "                            ).values(\"gala__warehouse_id\").annotate(total_warehouse = Count(\"gala__warehouse_id\")).values(\"total_warehouse\"))\n",
    "\n",
    "\n",
    "\n",
    "\n",
    "\n",
    "get_qs"
   ]
  },
  {
   "cell_type": "code",
   "execution_count": 408,
   "id": "6d61e38a",
   "metadata": {},
   "outputs": [
    {
     "ename": "SyntaxError",
     "evalue": "invalid syntax (2530339464.py, line 1)",
     "output_type": "error",
     "traceback": [
      "\u001b[1;36m  Cell \u001b[1;32mIn[408], line 1\u001b[1;36m\u001b[0m\n\u001b[1;33m    .annotate(total_warehouse = ExpressionWrapper(\u001b[0m\n\u001b[1;37m    ^\u001b[0m\n\u001b[1;31mSyntaxError\u001b[0m\u001b[1;31m:\u001b[0m invalid syntax\n"
     ]
    }
   ],
   "source": [
    ".annotate(total_warehouse = ExpressionWrapper(\n",
    "        Count('gala__warehouse_id'), output_field=IntegerField())).values(\"total_warehouse\")"
   ]
  },
  {
   "cell_type": "code",
   "execution_count": 409,
   "id": "79cbd1b6",
   "metadata": {},
   "outputs": [
    {
     "ename": "SyntaxError",
     "evalue": "invalid syntax (1352396687.py, line 1)",
     "output_type": "error",
     "traceback": [
      "\u001b[1;36m  Cell \u001b[1;32mIn[409], line 1\u001b[1;36m\u001b[0m\n\u001b[1;33m    .order_by(\"gala__warehouse_id\").distinct().annotate(Count('gala__warehouse_id',distinct=True)).annotate(total_warehouse = ExpressionWrapper(\u001b[0m\n\u001b[1;37m    ^\u001b[0m\n\u001b[1;31mSyntaxError\u001b[0m\u001b[1;31m:\u001b[0m invalid syntax\n"
     ]
    }
   ],
   "source": [
    ".order_by(\"gala__warehouse_id\").distinct().annotate(Count('gala__warehouse_id',distinct=True)).annotate(total_warehouse = ExpressionWrapper(\n",
    "        Count('gala__warehouse_id__count'), output_field=IntegerField())).values(\"total_warehouse\")\n",
    "\n",
    "\n",
    "\n",
    "\n",
    "\n"
   ]
  },
  {
   "cell_type": "code",
   "execution_count": 413,
   "id": "6485b3df",
   "metadata": {},
   "outputs": [],
   "source": [
    " get_rental_qs = Rental.objects.filter(belong_to__name=\"Omkar\").values(\n",
    "                \"id\",\"user_uid\",\"username\"\n",
    "            ).annotate(\n",
    "                total_number_of_galas = ContractRental.objects.filter(\n",
    "                    user__user_uid = OuterRef(\"user_uid\")\n",
    "                ).values(\"user__user_uid\").annotate(\n",
    "                    total_number_of_galas = Count(\"user__user_uid\")\n",
    "                ).values(\"total_number_of_galas\"),\n",
    "            ).annotate(total_number_of_warehouse = ContractRental.objects.filter(user__user_uid = OuterRef(\"user_uid\")).values(\n",
    "                \"gala__warehouse_id\").annotate(total_number_of_warehouse = Count(F(\"gala__warehouse_id\"))).values(\"total_number_of_warehouse\"))"
   ]
  },
  {
   "cell_type": "code",
   "execution_count": 414,
   "id": "77cd9cbc",
   "metadata": {},
   "outputs": [
    {
     "data": {
      "text/plain": [
       "<QuerySet [{'id': 2, 'user_uid': UUID('dfef7ec8-d0fe-4e9f-abb1-16187c184320'), 'username': 'Mayank', 'total_number_of_galas': 1, 'total_number_of_warehouse': 1}, {'id': 5, 'user_uid': UUID('51f9c7eb-8f1b-4fcc-9124-58831235d387'), 'username': 'snappy-cardinal-argentino', 'total_number_of_galas': 3, 'total_number_of_warehouse': 1}, {'id': 14, 'user_uid': UUID('1df8502b-66a6-4486-ae21-7e19c3e7bd0a'), 'username': 'randy-crimson-caracal', 'total_number_of_galas': 1, 'total_number_of_warehouse': 1}, {'id': 15, 'user_uid': UUID('4acd799f-7f94-42de-9b6d-1e80b5c5e6b3'), 'username': 'cloudy-champagne-zebu', 'total_number_of_galas': None, 'total_number_of_warehouse': None}, {'id': 19, 'user_uid': UUID('21cc2354-694b-44fd-b9cb-659f1117ac55'), 'username': 'slimy-platinum-tapir', 'total_number_of_galas': None, 'total_number_of_warehouse': None}, {'id': 21, 'user_uid': UUID('0fccdc06-c2e6-45b2-9b91-0100b976e6d3'), 'username': 'squirrely-razzmatazz-moose', 'total_number_of_galas': None, 'total_number_of_warehouse': None}, {'id': 28, 'user_uid': UUID('e7b74f37-29df-4650-b622-7b56626bcdd8'), 'username': 'tasty-platinum-hyrax', 'total_number_of_galas': None, 'total_number_of_warehouse': None}, {'id': 37, 'user_uid': UUID('4e16d99b-f073-471e-b51d-cadedf7a2456'), 'username': 'nerdy-crimson-frise', 'total_number_of_galas': None, 'total_number_of_warehouse': None}, {'id': 50, 'user_uid': UUID('6c8ad82d-2efd-4340-8be4-1225a10aa1f0'), 'username': 'hasty-puce-oyster', 'total_number_of_galas': None, 'total_number_of_warehouse': None}, {'id': 51, 'user_uid': UUID('b749ae76-f68d-4a05-97c5-efa48d6c3be4'), 'username': 'jumpy-maroon-mist', 'total_number_of_galas': None, 'total_number_of_warehouse': None}, {'id': 54, 'user_uid': UUID('8fd78262-8698-4425-8c7f-bb177a4b74df'), 'username': 'freaky-crimson-dodo', 'total_number_of_galas': None, 'total_number_of_warehouse': None}, {'id': 56, 'user_uid': UUID('86f5dfae-cd58-4a64-a1fe-9348d621dd6e'), 'username': 'chummy-magnolia-quoll', 'total_number_of_galas': None, 'total_number_of_warehouse': None}, {'id': 59, 'user_uid': UUID('2d200190-5494-42a3-8c10-c1013079d8e5'), 'username': 'boozy-turquoise-antelope', 'total_number_of_galas': None, 'total_number_of_warehouse': None}, {'id': 60, 'user_uid': UUID('fa3c91d6-ea46-483a-9daa-6dcb1d86a085'), 'username': 'snippy-cinnamon-cheetah', 'total_number_of_galas': None, 'total_number_of_warehouse': None}, {'id': 62, 'user_uid': UUID('f55889f2-9759-496a-829a-5ae676cc67b0'), 'username': 'chewy-yellow-millipede', 'total_number_of_galas': None, 'total_number_of_warehouse': None}, {'id': 66, 'user_uid': UUID('1f38c84f-21b2-4d52-967f-b42c1a1f1966'), 'username': 'wimpy-pear-badger', 'total_number_of_galas': None, 'total_number_of_warehouse': None}, {'id': 67, 'user_uid': UUID('0898e1a1-96d6-4e93-be26-2eaf02177946'), 'username': 'nippy-flax-panda', 'total_number_of_galas': None, 'total_number_of_warehouse': None}, {'id': 68, 'user_uid': UUID('8489a286-72ee-4bb9-b9a1-9795f570d471'), 'username': 'snoopy-corn-mandrill', 'total_number_of_galas': None, 'total_number_of_warehouse': None}, {'id': 72, 'user_uid': UUID('76663926-eec2-496e-997a-fa056db8e69a'), 'username': 'skanky-rust-capuchin', 'total_number_of_galas': None, 'total_number_of_warehouse': None}, {'id': 82, 'user_uid': UUID('89d5a564-fcbd-4107-b835-0516666ff2e0'), 'username': 'lovely-burgundy-shrimp', 'total_number_of_galas': None, 'total_number_of_warehouse': None}, '...(remaining elements truncated)...']>"
      ]
     },
     "execution_count": 414,
     "metadata": {},
     "output_type": "execute_result"
    }
   ],
   "source": [
    "get_rental_qs"
   ]
  },
  {
   "cell_type": "code",
   "execution_count": null,
   "id": "aafdb23e",
>>>>>>> 2db158631d52986a37b6d7faabdae8bd05953c1c
   "metadata": {},
   "outputs": [],
   "source": []
  }
 ],
 "metadata": {
  "kernelspec": {
   "display_name": "Python 3 (ipykernel)",
   "language": "python",
   "name": "python3"
  },
  "language_info": {
   "codemirror_mode": {
    "name": "ipython",
    "version": 3
   },
   "file_extension": ".py",
   "mimetype": "text/x-python",
   "name": "python",
   "nbconvert_exporter": "python",
   "pygments_lexer": "ipython3",
<<<<<<< HEAD
   "version": "3.11.0rc1"
=======
   "version": "3.10.5"
>>>>>>> 2db158631d52986a37b6d7faabdae8bd05953c1c
  }
 },
 "nbformat": 4,
 "nbformat_minor": 5
}
