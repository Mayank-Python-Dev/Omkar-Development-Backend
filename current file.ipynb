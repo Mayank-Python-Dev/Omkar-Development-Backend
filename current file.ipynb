{
 "cells": [
  {
   "cell_type": "code",
   "execution_count": 51,
   "id": "e6ada5c3",
   "metadata": {},
   "outputs": [],
   "source": [
    "import os\n",
    "import django\n",
    "os.environ.setdefault('DJANGO_SETTINGS_MODULE', 'omkar_proj.settings')\n",
    "os.environ[\"DJANGO_ALLOW_ASYNC_UNSAFE\"] = \"true\"\n",
    "django.setup()\n",
    "\n",
    "from django_pandas.io import read_frame"
   ]
  },
  {
   "cell_type": "code",
   "execution_count": 82,
   "id": "7bf2bd2c",
   "metadata": {},
   "outputs": [],
   "source": [
    "from warehouse.models import (\n",
    "    Property,\n",
    "    Company,\n",
    "    Gala\n",
    ")\n",
    "from account.models import (\n",
    "    Farmer,\n",
    "    Rental,\n",
    "    Investor,\n",
    "    User\n",
    ")\n",
    "from contract.models import (\n",
    "    Rental as ContractRental,\n",
    "    Investor as ContractInvestor,\n",
    "    Farmer as ContractFarmer\n",
    "    \n",
    ")\n",
    "from django.db.models import (\n",
    "    Value,\n",
    "    OuterRef,\n",
    "    Count,\n",
    "    F,\n",
    "    ExpressionWrapper,\n",
    "    IntegerField,\n",
    "    CharField,\n",
    "    Q\n",
    "    \n",
    "    \n",
    ")\n",
    "from django.db.models.functions import Concat\n",
    "from django_pandas.io import read_frame\n",
    "from notification.models import (\n",
    "    RentalNotification\n",
    ")\n",
    "from superadmin.firebaseManager import (\n",
    "    sendPush\n",
    ")\n",
    "from service.models import (\n",
    "LeaveGalaRequest\n",
    ")"
   ]
  },
  {
   "cell_type": "code",
   "execution_count": 91,
   "id": "a7f471e0",
   "metadata": {},
   "outputs": [
    {
     "data": {
      "text/plain": [
       "<PolymorphicQuerySet [{'gala__uid': UUID('16b2b643-811b-4828-9a84-d41e957fca3d'), 'gala__gala_number': '1'}]>"
      ]
     },
     "execution_count": 91,
     "metadata": {},
     "output_type": "execute_result"
    }
   ],
   "source": [
    "ContractRental.objects.filter(\n",
    "                user_id=5\n",
    "                ).prefetch_related(\n",
    "                    'gala__user_gala_leave_request'\n",
    "                    ).values(\"gala__uid\",\"gala__gala_number\").annotate(\n",
    "                        total_leave_request = Count(\"gala__user_gala_leave_request\"),\n",
    "                        leave_request_status  = F(\"gala__user_gala_leave_request__status\")\n",
    "                    ).filter(Q(leave_request_status = \"Pending\")|Q(leave_request_status = \"Reject\")).values(\"gala__uid\",\"gala__gala_number\").distinct()"
   ]
  },
  {
   "cell_type": "code",
   "execution_count": 81,
   "id": "2633478c",
   "metadata": {},
   "outputs": [
    {
     "ename": "AttributeError",
     "evalue": "'QuerySet' object has no attribute 'name'",
     "output_type": "error",
     "traceback": [
      "\u001b[0;31m---------------------------------------------------------------------------\u001b[0m",
      "\u001b[0;31mAttributeError\u001b[0m                            Traceback (most recent call last)",
      "Cell \u001b[0;32mIn[81], line 3\u001b[0m\n\u001b[1;32m      1\u001b[0m \u001b[43mContractRental\u001b[49m\u001b[38;5;241;43m.\u001b[39;49m\u001b[43mobjects\u001b[49m\u001b[38;5;241;43m.\u001b[39;49m\u001b[43mfilter\u001b[49m\u001b[43m(\u001b[49m\u001b[43muser_id\u001b[49m\u001b[38;5;241;43m=\u001b[39;49m\u001b[38;5;241;43m5\u001b[39;49m\u001b[43m)\u001b[49m\u001b[38;5;241;43m.\u001b[39;49m\u001b[43mprefetch_related\u001b[49m\u001b[43m(\u001b[49m\n\u001b[1;32m      2\u001b[0m \u001b[43m    \u001b[49m\u001b[38;5;124;43m'\u001b[39;49m\u001b[38;5;124;43mgala__user_gala_leave_request\u001b[39;49m\u001b[38;5;124;43m'\u001b[39;49m\n\u001b[0;32m----> 3\u001b[0m \u001b[43m    \u001b[49m\u001b[43m)\u001b[49m\u001b[38;5;241;43m.\u001b[39;49m\u001b[43mvalues\u001b[49m\u001b[43m(\u001b[49m\u001b[38;5;124;43m\"\u001b[39;49m\u001b[38;5;124;43mgala__uid\u001b[39;49m\u001b[38;5;124;43m\"\u001b[39;49m\u001b[43m,\u001b[49m\u001b[38;5;124;43m\"\u001b[39;49m\u001b[38;5;124;43mgala__gala_number\u001b[39;49m\u001b[38;5;124;43m\"\u001b[39;49m\u001b[43m)\u001b[49m\u001b[38;5;241;43m.\u001b[39;49m\u001b[43mannotate\u001b[49m\u001b[43m(\u001b[49m\n\u001b[1;32m      4\u001b[0m \u001b[43m    \u001b[49m\u001b[43mtotal_leave_request\u001b[49m\u001b[43m \u001b[49m\u001b[38;5;241;43m=\u001b[39;49m\u001b[43m \u001b[49m\u001b[43mLeaveGalaRequest\u001b[49m\u001b[38;5;241;43m.\u001b[39;49m\u001b[43mobjects\u001b[49m\u001b[38;5;241;43m.\u001b[39;49m\u001b[43mfilter\u001b[49m\u001b[43m(\u001b[49m\u001b[43mgala__uid\u001b[49m\u001b[38;5;241;43m=\u001b[39;49m\u001b[43mOuterRef\u001b[49m\u001b[43m(\u001b[49m\u001b[38;5;124;43m\"\u001b[39;49m\u001b[38;5;124;43mgala__uid\u001b[39;49m\u001b[38;5;124;43m\"\u001b[39;49m\u001b[43m)\u001b[49m\u001b[43m)\u001b[49m\n\u001b[1;32m      5\u001b[0m \u001b[43m)\u001b[49m\n",
      "File \u001b[0;32m~/Desktop/Omkar-Development/venv/lib/python3.11/site-packages/polymorphic/query.py:310\u001b[0m, in \u001b[0;36mPolymorphicQuerySet.annotate\u001b[0;34m(self, *args, **kwargs)\u001b[0m\n\u001b[1;32m    307\u001b[0m \u001b[38;5;28;01mdef\u001b[39;00m \u001b[38;5;21mannotate\u001b[39m(\u001b[38;5;28mself\u001b[39m, \u001b[38;5;241m*\u001b[39margs, \u001b[38;5;241m*\u001b[39m\u001b[38;5;241m*\u001b[39mkwargs):\n\u001b[1;32m    308\u001b[0m     \u001b[38;5;124;03m\"\"\"translate the polymorphic field paths in the kwargs, then call vanilla annotate.\u001b[39;00m\n\u001b[1;32m    309\u001b[0m \u001b[38;5;124;03m    _get_real_instances will do the rest of the job after executing the query.\"\"\"\u001b[39;00m\n\u001b[0;32m--> 310\u001b[0m     \u001b[38;5;28;43mself\u001b[39;49m\u001b[38;5;241;43m.\u001b[39;49m\u001b[43m_process_aggregate_args\u001b[49m\u001b[43m(\u001b[49m\u001b[43margs\u001b[49m\u001b[43m,\u001b[49m\u001b[43m \u001b[49m\u001b[43mkwargs\u001b[49m\u001b[43m)\u001b[49m\n\u001b[1;32m    311\u001b[0m     \u001b[38;5;28;01mreturn\u001b[39;00m \u001b[38;5;28msuper\u001b[39m()\u001b[38;5;241m.\u001b[39mannotate(\u001b[38;5;241m*\u001b[39margs, \u001b[38;5;241m*\u001b[39m\u001b[38;5;241m*\u001b[39mkwargs)\n",
      "File \u001b[0;32m~/Desktop/Omkar-Development/venv/lib/python3.11/site-packages/polymorphic/query.py:305\u001b[0m, in \u001b[0;36mPolymorphicQuerySet._process_aggregate_args\u001b[0;34m(self, args, kwargs)\u001b[0m\n\u001b[1;32m    303\u001b[0m     test___lookup(a)\n\u001b[1;32m    304\u001b[0m \u001b[38;5;28;01mfor\u001b[39;00m a \u001b[38;5;129;01min\u001b[39;00m kwargs\u001b[38;5;241m.\u001b[39mvalues():\n\u001b[0;32m--> 305\u001b[0m     \u001b[43mpatch_lookup\u001b[49m\u001b[43m(\u001b[49m\u001b[43ma\u001b[49m\u001b[43m)\u001b[49m\n",
      "File \u001b[0;32m~/Desktop/Omkar-Development/venv/lib/python3.11/site-packages/polymorphic/query.py:276\u001b[0m, in \u001b[0;36mPolymorphicQuerySet._process_aggregate_args.<locals>.patch_lookup\u001b[0;34m(a)\u001b[0m\n\u001b[1;32m    274\u001b[0m             patch_lookup(source_expression)\n\u001b[1;32m    275\u001b[0m \u001b[38;5;28;01melse\u001b[39;00m:\n\u001b[0;32m--> 276\u001b[0m     a\u001b[38;5;241m.\u001b[39mname \u001b[38;5;241m=\u001b[39m translate_polymorphic_field_path(\u001b[38;5;28mself\u001b[39m\u001b[38;5;241m.\u001b[39mmodel, \u001b[43ma\u001b[49m\u001b[38;5;241;43m.\u001b[39;49m\u001b[43mname\u001b[49m)\n",
      "\u001b[0;31mAttributeError\u001b[0m: 'QuerySet' object has no attribute 'name'"
     ]
    }
   ],
   "source": [
    "ContractRental.objects.filter(user_id=5).prefetch_related(\n",
    "    'gala__user_gala_leave_request'\n",
    "    ).values(\"gala__uid\",\"gala__gala_number\").annotate(\n",
    "    total_leave_request = LeaveGalaRequest.objects.filter(gala__uid=OuterRef(\"gala__uid\"))\n",
    ")"
   ]
  },
  {
   "cell_type": "code",
   "execution_count": null,
   "id": "701127d5",
   "metadata": {},
   "outputs": [],
   "source": []
  },
  {
   "cell_type": "code",
   "execution_count": null,
   "id": "ce64aa83",
   "metadata": {},
   "outputs": [],
   "source": []
  },
  {
   "cell_type": "code",
   "execution_count": null,
   "id": "7f0dd599",
   "metadata": {},
   "outputs": [],
   "source": []
  },
  {
   "cell_type": "code",
   "execution_count": null,
   "id": "e5ab9be5",
   "metadata": {},
   "outputs": [],
   "source": []
  },
  {
   "cell_type": "code",
   "execution_count": null,
   "id": "e0540e52",
   "metadata": {},
   "outputs": [],
   "source": []
  },
  {
   "cell_type": "code",
   "execution_count": 39,
   "id": "4715db8d",
   "metadata": {},
   "outputs": [],
   "source": [
    "from datetime import date,datetime\n",
    "from dateutil.relativedelta import relativedelta"
   ]
  },
  {
   "cell_type": "code",
   "execution_count": 40,
   "id": "bfa9b915",
   "metadata": {},
   "outputs": [],
   "source": [
    "current_date = date.today()\n",
    "previous_date = date.today() + relativedelta(months=+3)"
   ]
  },
  {
   "cell_type": "code",
   "execution_count": 41,
   "id": "68555664",
   "metadata": {},
   "outputs": [
    {
     "data": {
      "text/plain": [
       "'2023-03-09'"
      ]
     },
     "execution_count": 41,
     "metadata": {},
     "output_type": "execute_result"
    }
   ],
   "source": [
    "str(current_date)"
   ]
  },
  {
   "cell_type": "code",
   "execution_count": 42,
   "id": "257a5911",
   "metadata": {},
   "outputs": [
    {
     "data": {
      "text/plain": [
       "'09 Mar,2023'"
      ]
     },
     "execution_count": 42,
     "metadata": {},
     "output_type": "execute_result"
    }
   ],
   "source": [
    "datetime.strptime(str(current_date),\"%Y-%m-%d\").strftime(\"%d %b,%Y\")"
   ]
  },
  {
   "cell_type": "code",
   "execution_count": 43,
   "id": "8acd20e8",
   "metadata": {},
   "outputs": [],
   "source": [
    "contract_rental = ContractRental.objects.filter(agreement_valid_end_date=previous_date).values(\"user_id\",\"gala_id\",\"gala__gala_number\",\"gala__warehouse__property_name\"\n",
    "        )"
   ]
  },
  {
   "cell_type": "code",
   "execution_count": 44,
   "id": "16318931",
   "metadata": {},
   "outputs": [
    {
     "data": {
      "text/plain": [
       "<PolymorphicQuerySet [{'user_id': 5, 'gala_id': 7, 'gala__gala_number': 'OM3/1', 'gala__warehouse__property_name': 'Omkar Warehouse 3'}]>"
      ]
     },
     "execution_count": 44,
     "metadata": {},
     "output_type": "execute_result"
    }
   ],
   "source": [
    "contract_rental"
   ]
  },
  {
   "cell_type": "code",
   "execution_count": 50,
   "id": "f35932cd",
   "metadata": {},
   "outputs": [],
   "source": [
    "current_date = date.today()\n",
    "current_date_with_formatter = datetime.strptime(str(current_date),\"%Y-%m-%d\").strftime(\"%d %b,%Y\")\n",
    "next_date = date.today() + relativedelta(months=+3)\n",
    "next_date_with_formatter = datetime.strptime(str(next_date),\"%Y-%m-%d\").strftime(\"%d %b,%Y\")\n",
    "\n",
    "contract_rental = ContractRental.objects.filter(agreement_valid_end_date=next_date).values(\n",
    "            \"user_id\",\"gala_id\",\"gala__gala_number\",\"gala__warehouse__property_name\"\n",
    "        )\n",
    "if contract_rental:\n",
    "    rental_instance = [RentalNotification(\n",
    "        rental_id = i['user_id'],\n",
    "        gala_id = i['gala_id'],\n",
    "        status = \"Renew_Gala\",\n",
    "        message = f\"Your gala {i['gala__gala_number']}({i['gala__warehouse__property_name']}) is about to expire on {next_date_with_formatter}! you can renew your contract by submitting a requesting for gala {i['gala__gala_number']}\"\n",
    "    ) for i in contract_rental]\n",
    "    RentalNotification.objects.bulk_update_or_create(rental_instance,['rental_id','gala_id','message'],match_field=['rental_id','gala_id','message'])\n",
    "    contract_instance = ContractRental.objects.filter(agreement_valid_end_date=next_date).values(\n",
    "        \"user_id\",\"gala_id\",\"gala__gala_number\",\"gala__warehouse__property_name\",\"user__fcmdevice__registration_id\"\n",
    "    )\n",
    "    for instance in contract_instance:\n",
    "        sendPush(\"Renew Contract\",f\"Your gala {instance['gala__gala_number']}({instance['gala__warehouse__property_name']}) is about to expire on {next_date_with_formatter}! you can renew your contract by submitting a requesting for gala {instance['gala__gala_number']}\",[\"cTSP-ZadSgqdRUJJycpyJz:APA91bFrWdkzkpkx6Qdk_PKeFzt3mM0OVfj1YPNWDmfj7eJag4b33ErFjVYFTH90BPsQjB7MKTPpx1vIEYdH_nciKANPyzQvlg0lo2DLqDxk0RR7DsLqa6rmfKESQyZKN_1RbbbmfmlY\"])"
   ]
  },
  {
   "cell_type": "code",
   "execution_count": 36,
   "id": "7aa7fedf",
   "metadata": {},
   "outputs": [
    {
     "data": {
      "text/plain": [
       "<PolymorphicQuerySet [{'user_id': 5, 'gala_id': 7, 'gala__gala_number': 'OM3/1', 'gala__warehouse__property_name': 'Omkar Warehouse 3'}]>"
      ]
     },
     "execution_count": 36,
     "metadata": {},
     "output_type": "execute_result"
    }
   ],
   "source": [
    "contract_rental"
   ]
  },
  {
   "cell_type": "code",
   "execution_count": 91,
   "id": "c352651a",
   "metadata": {},
   "outputs": [],
   "source": [
    "contract_rental = ContractRental.objects.all().values(\"user_id\",\"gala_id\",\"gala__gala_number\",\"gala__warehouse__property_name\",\"user__fcmdevice__registration_id\")"
   ]
  },
  {
   "cell_type": "code",
   "execution_count": 94,
   "id": "02642246",
   "metadata": {
    "scrolled": true
   },
   "outputs": [
    {
     "name": "stdout",
     "output_type": "stream",
     "text": [
      "{'user_id': 5, 'gala_id': 7, 'gala__gala_number': 'OM3/1', 'gala__warehouse__property_name': 'Omkar Warehouse 3', 'user__fcmdevice__registration_id': 'fi077xEaTxCrpq4a-d9WeM:APA91bEEAxO_AuUCdL8HO599CraEYq9LijpS3EbKBfW73jwhA0SApLgeMN8i_sI4ugAqSoph7ktL5LX4g3mZRiFIftURdCQFZtJFg9kH7u_S8kMCX7EiCJ0awG9zmDz1VNT89mQEM'}\n",
      "{'user_id': 5, 'gala_id': 6, 'gala__gala_number': '12', 'gala__warehouse__property_name': 'Omkar Warehouse 2', 'user__fcmdevice__registration_id': 'fi077xEaTxCrpq4a-d9WeM:APA91bEEAxO_AuUCdL8HO599CraEYq9LijpS3EbKBfW73jwhA0SApLgeMN8i_sI4ugAqSoph7ktL5LX4g3mZRiFIftURdCQFZtJFg9kH7u_S8kMCX7EiCJ0awG9zmDz1VNT89mQEM'}\n",
      "{'user_id': 5, 'gala_id': 2, 'gala__gala_number': '2', 'gala__warehouse__property_name': 'Omkar Warehouse 1', 'user__fcmdevice__registration_id': 'fi077xEaTxCrpq4a-d9WeM:APA91bEEAxO_AuUCdL8HO599CraEYq9LijpS3EbKBfW73jwhA0SApLgeMN8i_sI4ugAqSoph7ktL5LX4g3mZRiFIftURdCQFZtJFg9kH7u_S8kMCX7EiCJ0awG9zmDz1VNT89mQEM'}\n",
      "{'user_id': 5, 'gala_id': 1, 'gala__gala_number': '1', 'gala__warehouse__property_name': 'Omkar Warehouse 1', 'user__fcmdevice__registration_id': 'fi077xEaTxCrpq4a-d9WeM:APA91bEEAxO_AuUCdL8HO599CraEYq9LijpS3EbKBfW73jwhA0SApLgeMN8i_sI4ugAqSoph7ktL5LX4g3mZRiFIftURdCQFZtJFg9kH7u_S8kMCX7EiCJ0awG9zmDz1VNT89mQEM'}\n"
     ]
    }
   ],
   "source": [
    "for i in contract_rental:\n",
    "    print(i)"
   ]
  },
  {
   "cell_type": "code",
   "execution_count": 95,
   "id": "6f84b6fa",
   "metadata": {},
   "outputs": [],
   "source": [
    "notify = RentalNotification.objects.all()"
   ]
  },
  {
   "cell_type": "code",
   "execution_count": 102,
   "id": "893ccca4",
   "metadata": {},
   "outputs": [
    {
     "ename": "AttributeError",
     "evalue": "'Rental' object has no attribute 'fcmdevice'",
     "output_type": "error",
     "traceback": [
      "\u001b[0;31m---------------------------------------------------------------------------\u001b[0m",
      "\u001b[0;31mAttributeError\u001b[0m                            Traceback (most recent call last)",
      "Cell \u001b[0;32mIn[102], line 2\u001b[0m\n\u001b[1;32m      1\u001b[0m \u001b[38;5;28;01mfor\u001b[39;00m i \u001b[38;5;129;01min\u001b[39;00m notify:\n\u001b[0;32m----> 2\u001b[0m     \u001b[38;5;28mprint\u001b[39m(\u001b[43mi\u001b[49m\u001b[38;5;241;43m.\u001b[39;49m\u001b[43mrental\u001b[49m\u001b[38;5;241;43m.\u001b[39;49m\u001b[43mfcmdevice\u001b[49m)\n",
      "\u001b[0;31mAttributeError\u001b[0m: 'Rental' object has no attribute 'fcmdevice'"
     ]
    }
   ],
   "source": [
    "for i in notify:\n",
    "    print(i.rental.fcmdevice)"
   ]
  },
  {
   "cell_type": "code",
   "execution_count": 92,
   "id": "80a51f78",
   "metadata": {},
   "outputs": [],
   "source": [
    "df = read_frame(contract_rental)"
   ]
  },
  {
   "cell_type": "code",
   "execution_count": 93,
   "id": "47286a4f",
   "metadata": {},
   "outputs": [
    {
     "data": {
      "text/html": [
       "<div>\n",
       "<style scoped>\n",
       "    .dataframe tbody tr th:only-of-type {\n",
       "        vertical-align: middle;\n",
       "    }\n",
       "\n",
       "    .dataframe tbody tr th {\n",
       "        vertical-align: top;\n",
       "    }\n",
       "\n",
       "    .dataframe thead th {\n",
       "        text-align: right;\n",
       "    }\n",
       "</style>\n",
       "<table border=\"1\" class=\"dataframe\">\n",
       "  <thead>\n",
       "    <tr style=\"text-align: right;\">\n",
       "      <th></th>\n",
       "      <th>user_id</th>\n",
       "      <th>gala_id</th>\n",
       "      <th>gala__gala_number</th>\n",
       "      <th>gala__warehouse__property_name</th>\n",
       "      <th>user__fcmdevice__registration_id</th>\n",
       "    </tr>\n",
       "  </thead>\n",
       "  <tbody>\n",
       "    <tr>\n",
       "      <th>0</th>\n",
       "      <td>Ayan Rental</td>\n",
       "      <td>7</td>\n",
       "      <td>OM3/1</td>\n",
       "      <td>Omkar Warehouse 3</td>\n",
       "      <td>fi077xEaTxCrpq4a-d9WeM:APA91bEEAxO_AuUCdL8HO59...</td>\n",
       "    </tr>\n",
       "    <tr>\n",
       "      <th>1</th>\n",
       "      <td>Ayan Rental</td>\n",
       "      <td>6</td>\n",
       "      <td>12</td>\n",
       "      <td>Omkar Warehouse 2</td>\n",
       "      <td>fi077xEaTxCrpq4a-d9WeM:APA91bEEAxO_AuUCdL8HO59...</td>\n",
       "    </tr>\n",
       "    <tr>\n",
       "      <th>2</th>\n",
       "      <td>Ayan Rental</td>\n",
       "      <td>2</td>\n",
       "      <td>2</td>\n",
       "      <td>Omkar Warehouse 1</td>\n",
       "      <td>fi077xEaTxCrpq4a-d9WeM:APA91bEEAxO_AuUCdL8HO59...</td>\n",
       "    </tr>\n",
       "    <tr>\n",
       "      <th>3</th>\n",
       "      <td>Ayan Rental</td>\n",
       "      <td>1</td>\n",
       "      <td>1</td>\n",
       "      <td>Omkar Warehouse 1</td>\n",
       "      <td>fi077xEaTxCrpq4a-d9WeM:APA91bEEAxO_AuUCdL8HO59...</td>\n",
       "    </tr>\n",
       "  </tbody>\n",
       "</table>\n",
       "</div>"
      ],
      "text/plain": [
       "       user_id  gala_id gala__gala_number gala__warehouse__property_name  \\\n",
       "0  Ayan Rental        7             OM3/1              Omkar Warehouse 3   \n",
       "1  Ayan Rental        6                12              Omkar Warehouse 2   \n",
       "2  Ayan Rental        2                 2              Omkar Warehouse 1   \n",
       "3  Ayan Rental        1                 1              Omkar Warehouse 1   \n",
       "\n",
       "                    user__fcmdevice__registration_id  \n",
       "0  fi077xEaTxCrpq4a-d9WeM:APA91bEEAxO_AuUCdL8HO59...  \n",
       "1  fi077xEaTxCrpq4a-d9WeM:APA91bEEAxO_AuUCdL8HO59...  \n",
       "2  fi077xEaTxCrpq4a-d9WeM:APA91bEEAxO_AuUCdL8HO59...  \n",
       "3  fi077xEaTxCrpq4a-d9WeM:APA91bEEAxO_AuUCdL8HO59...  "
      ]
     },
     "execution_count": 93,
     "metadata": {},
     "output_type": "execute_result"
    }
   ],
   "source": [
    "df"
   ]
  },
  {
   "cell_type": "code",
   "execution_count": 37,
   "id": "dd1b00af",
   "metadata": {},
   "outputs": [],
   "source": [
    "contract_rental = ContractRental.objects.all()\n",
    "if contract_rental:\n",
    "    rental_instance = [RentalNotification(\n",
    "        rental_id = i.user.id ,\n",
    "        gala_id = i.gala.id,\n",
    "        message = f\"Your gala {i.gala.gala_number}({i.gala.warehouse.property_name}) is about to expire! you can renew your contract by submitting a requesting for gala {i.gala.gala_number}\"\n",
    "    ) for i in contract_rental]\n",
    "#     RentalNotification.objects.bulk_update_or_create(rental_instance,['rental_id','gala_id','message'],match_field=['rental_id','gala_id','message'])\n",
    "#     self.stdout.write(\"Rental Notification is updated!\")"
   ]
  },
  {
   "cell_type": "code",
   "execution_count": 48,
   "id": "039a736c",
   "metadata": {},
   "outputs": [
    {
     "name": "stdout",
     "output_type": "stream",
     "text": [
      "Ayan Sheikh\n",
      "Your gala OM3/1(Omkar Warehouse 3) is about to expire! you can renew your contract by submitting a requesting for gala OM3/1\n",
      "Ayan Sheikh\n",
      "Your gala 12(Omkar Warehouse 2) is about to expire! you can renew your contract by submitting a requesting for gala 12\n",
      "Ayan Sheikh\n",
      "Your gala 2(Omkar Warehouse 1) is about to expire! you can renew your contract by submitting a requesting for gala 2\n",
      "Ayan Sheikh\n",
      "Your gala 1(Omkar Warehouse 1) is about to expire! you can renew your contract by submitting a requesting for gala 1\n"
     ]
    }
   ],
   "source": [
    "for i in rental_instance:\n",
    "    print(i)\n",
    "    print(i.message)"
   ]
  },
  {
   "cell_type": "code",
   "execution_count": 46,
   "id": "203f38cb",
   "metadata": {},
   "outputs": [
    {
     "data": {
      "text/plain": [
       "[9, 8, 2, 1]"
      ]
     },
     "execution_count": 46,
     "metadata": {},
     "output_type": "execute_result"
    }
   ],
   "source": [
    "list(ContractRental.objects.all().values_list(\"id\",flat=True))"
   ]
  },
  {
   "cell_type": "code",
   "execution_count": null,
   "id": "7945fed2",
   "metadata": {},
   "outputs": [],
   "source": []
  },
  {
   "cell_type": "code",
   "execution_count": 3,
   "id": "55f17120",
   "metadata": {},
   "outputs": [],
   "source": [
    "get_farmer_warehouses = Company.objects.get(\n",
    "                name=\"Omkar\"\n",
    "            ).get_properties.filter(\n",
    "                farmer_warehouse_detail__user__groups__name=\"Farmer\"\n",
    "            ).values(\n",
    "                \"uid\", \"property_name\", \"property_type\", \"property_survey_number\", \"address\", \"city\", \"state\", \"country\"\n",
    "            ).annotate(\n",
    "                total_number_of_galas=Gala.objects.filter(\n",
    "                    warehouse__uid=OuterRef(\"uid\"), is_allotted_to_farmer=True, gala_rental_contract_detail__owner__groups__name=\"Farmer\"\n",
    "                ).values(\"warehouse__uid\").annotate(\n",
    "                    total_galas_allotted=Count(\"id\")).values(\"total_galas_allotted\"),\n",
    "                    total_number_of_rentals=ContractRental.objects.filter(\n",
    "                        gala__warehouse__uid=OuterRef(\"uid\"),\n",
    "                        owner__groups__name=\"Farmer\",\n",
    "                ).values(\"gala__warehouse__uid\").annotate(\n",
    "                    total_number_of_rentals=Count(\"id\")).values(\"total_number_of_rentals\"),\n",
    "                farmer_name=ContractFarmer.objects.filter(\n",
    "                    warehouse__uid=OuterRef(\"uid\")).values(\"user__username\"),\n",
    "                farmer_uid=ContractFarmer.objects.filter(\n",
    "                    warehouse__uid=OuterRef(\"uid\")).values(\"user__user_uid\")\n",
    "            )"
   ]
  },
  {
   "cell_type": "code",
   "execution_count": 4,
   "id": "524542ae",
   "metadata": {},
   "outputs": [
    {
     "data": {
      "text/plain": [
       "<QuerySet [{'uid': UUID('89e8ebf7-9e21-4300-aa03-5a96f419e498'), 'property_name': 'Omkar Warehouse 2', 'property_type': 'COLD_STORAGE', 'property_survey_number': '2', 'address': '...', 'city': '...', 'state': 'Madha Pradesh', 'country': 'India', 'total_number_of_galas': 1, 'total_number_of_rentals': 1, 'farmer_name': 'Ayan Farmer', 'farmer_uid': UUID('88928457-d428-480d-a7aa-a9b256043521')}, {'uid': UUID('690385b0-0e94-445a-b448-a18781846984'), 'property_name': 'Omkar Warehouse 1', 'property_type': 'PEB', 'property_survey_number': '1', 'address': 'Atulya IT Park', 'city': 'Indore', 'state': 'Madha Pradesh', 'country': 'India', 'total_number_of_galas': 2, 'total_number_of_rentals': 2, 'farmer_name': 'Ayan Farmer', 'farmer_uid': UUID('88928457-d428-480d-a7aa-a9b256043521')}]>"
      ]
     },
     "execution_count": 4,
     "metadata": {},
     "output_type": "execute_result"
    }
   ],
   "source": [
    "get_farmer_warehouses"
   ]
  },
  {
   "cell_type": "code",
   "execution_count": null,
   "id": "41d25939",
   "metadata": {},
   "outputs": [],
   "source": []
  },
  {
   "cell_type": "code",
   "execution_count": 5,
   "id": "d882fe28",
   "metadata": {},
   "outputs": [],
   "source": [
    "get_farmer_wh = Company.objects.get(name = \"Omkar\"\n",
    "                    ).get_properties.filter(farmer_warehouse_detail__user__groups__name=\"Farmer\"\n",
    "                        ).values(\"uid\",\"property_name\"\n",
    "        ).annotate(\n",
    "                total_gala_count = Gala.objects.filter(warehouse__uid=OuterRef(\"uid\"),is_allotted_to_farmer=True\n",
    "                        ).values(\"warehouse__uid\").annotate(total_gala_count =Count(\"id\")).values(\"total_gala_count\"),\n",
    "                total_number_of_rentals=ContractRental.objects.filter(\n",
    "                        gala__warehouse__uid=OuterRef(\"uid\"),\n",
    "                        owner__groups__name=\"Farmer\",\n",
    "                            ).values(\"gala__warehouse__uid\").annotate(\n",
    "                                    total_number_of_rentals= Count(\"id\")).values(\"total_number_of_rentals\"),\n",
    "                                    total_gala_allotted = Gala.objects.filter(warehouse__uid=OuterRef(\"uid\"),\n",
    "                                                            \n",
    "                                        is_allotted_to_farmer=True,gala_rental_contract_detail__owner__groups__name=\"Farmer\"\n",
    "                                                            \n",
    "                                                            \n",
    "                                            ).values(\"warehouse__uid\").annotate(total_gala_allotted=Count(\"id\")).values(\"total_gala_allotted\"),\n",
    "                                    farmer_name=ContractFarmer.objects.filter(\n",
    "                                                    warehouse__uid=OuterRef(\"uid\")).values(\"user__username\"),\n",
    "                                    farmer_uid=ContractFarmer.objects.filter(\n",
    "                                                    warehouse__uid=OuterRef(\"uid\")).values(\"user__user_uid\")\n",
    "                                                )\n",
    "                  \n",
    "\n",
    "\n",
    "\n",
    "\n",
    "\n",
    "\n",
    "\n",
    "\n",
    "\n",
    "\n",
    "\n",
    "\n"
   ]
  },
  {
   "cell_type": "code",
   "execution_count": 6,
   "id": "f3d894d0",
   "metadata": {},
   "outputs": [
    {
     "data": {
      "text/plain": [
       "<QuerySet [{'uid': UUID('d20e7390-a74b-4a83-b6be-2f8f88e42e02'), 'property_name': 'warehouse 1', 'total_gala_count': 2, 'total_number_of_rentals': None, 'total_gala_allotted': None, 'farmer_name': 'ayan', 'farmer_uid': UUID('5f82381f-d95b-4cff-b2b8-0077c6d1f104')}]>"
      ]
     },
     "execution_count": 6,
     "metadata": {},
     "output_type": "execute_result"
    }
   ],
   "source": [
    "get_farmer_wh"
   ]
  },
  {
   "cell_type": "code",
   "execution_count": 7,
   "id": "c99e37d5",
   "metadata": {},
   "outputs": [],
   "source": [
    "# farmer_gala_qs = Property.objects.filter(company__name=\"Omkar\",uid=\"d20e7390-a74b-4a83-b6be-2f8f88e42e02\").values(\"property_name\").get_gala.filter(is_allotted=False,is_allotted_to_farmer=True,is_allotted_to_rental=False)"
   ]
  },
  {
   "cell_type": "code",
   "execution_count": 8,
   "id": "5c0e1338",
   "metadata": {},
   "outputs": [],
   "source": [
    "# farmer_gala_qs"
   ]
  },
  {
   "cell_type": "code",
   "execution_count": null,
   "id": "82093984",
   "metadata": {},
   "outputs": [],
   "source": []
  },
  {
   "cell_type": "code",
   "execution_count": 9,
   "id": "46b3abc3",
   "metadata": {},
   "outputs": [],
   "source": [
    "# get_farmer_galas_qs = Company.objects.get(name=\"Omkar\").get_properties.get(uid= \"d20e7390-a74b-4a83-b6be-2f8f88e42e02\"\n",
    "#                     ).get_gala.filter(is_allotted=False,is_allotted_to_farmer=True,is_allotted_to_rental=False)"
   ]
  },
  {
   "cell_type": "code",
   "execution_count": 10,
   "id": "d4311d76",
   "metadata": {},
   "outputs": [],
   "source": [
    "# get_farmer_galas_qs"
   ]
  },
  {
   "cell_type": "code",
   "execution_count": null,
   "id": "82498ed9",
   "metadata": {},
   "outputs": [],
   "source": []
  },
  {
   "cell_type": "code",
   "execution_count": 11,
   "id": "5828b8ca",
   "metadata": {},
   "outputs": [],
   "source": [
    "farmer_qs = Company.objects.get(name=\"Omkar\").get_properties.all().values(\"property_name\"\n",
    "                ).annotate(total_warehouse = Property.objects.filter(uid= OuterRef(\"uid\"),is_allotted_to_farmer=True).values(\"uid\"\n",
    "                                ).annotate(total_warehouse = Count(\"id\")).values(\"total_warehouse\"),\n",
    "                           \n",
    "                        total_galas = Gala.objects.filter(warehouse__uid = OuterRef(\"uid\"),is_allotted_to_farmer = True).values(\"warehouse__uid\"\n",
    "                                            ).annotate(total_galas = Count(\"id\")).values(\"total_galas\")\n",
    "\n",
    ")"
   ]
  },
  {
   "cell_type": "code",
   "execution_count": 12,
   "id": "2aca316b",
   "metadata": {},
   "outputs": [
    {
     "data": {
      "text/plain": [
       "<QuerySet [{'property_name': 'warehouse 2', 'total_warehouse': None, 'total_galas': None}, {'property_name': 'warehouse 1', 'total_warehouse': 1, 'total_galas': 2}]>"
      ]
     },
     "execution_count": 12,
     "metadata": {},
     "output_type": "execute_result"
    }
   ],
   "source": [
    "farmer_qs"
   ]
  },
  {
   "cell_type": "code",
   "execution_count": null,
   "id": "94ee2996",
   "metadata": {},
   "outputs": [],
   "source": []
  },
  {
   "cell_type": "code",
   "execution_count": 13,
   "id": "e76e836a",
   "metadata": {},
   "outputs": [
    {
     "data": {
      "text/plain": [
       "<QuerySet [<Property: warehouse 1>]>"
      ]
     },
     "execution_count": 13,
     "metadata": {},
     "output_type": "execute_result"
    }
   ],
   "source": [
    "Farmer.objects.get(user_uid=\"5f82381f-d95b-4cff-b2b8-0077c6d1f104\").belong_to.get(name=\"Omkar\").get_properties.filter(is_allotted_to_farmer=True)"
   ]
  },
  {
   "cell_type": "code",
   "execution_count": null,
   "id": "517ab5c5",
   "metadata": {},
   "outputs": [],
   "source": []
  },
  {
   "cell_type": "code",
   "execution_count": 14,
   "id": "a063fee1",
   "metadata": {},
   "outputs": [
    {
     "data": {
      "text/plain": [
       "<QuerySet [{'email': 'ayansheikh@gmail.com', 'user_uid': UUID('5f82381f-d95b-4cff-b2b8-0077c6d1f104'), 'username': 'ayan', 'farmer_contract__user__username': 'ayan', 'farmer_contract__warehouse__property_name': 'warehouse 1'}, {'email': 'deepakverma@gmail.com', 'user_uid': UUID('e73afc9f-83cf-4fa3-a28f-2d68cb2745b0'), 'username': 'deepak', 'farmer_contract__user__username': None, 'farmer_contract__warehouse__property_name': None}]>"
      ]
     },
     "execution_count": 14,
     "metadata": {},
     "output_type": "execute_result"
    }
   ],
   "source": [
    "Farmer.objects.filter(belong_to__name = \"Omkar\").values(\"email\",\"user_uid\",\"username\",\"farmer_contract__user__username\",\"farmer_contract__warehouse__property_name\")"
   ]
  },
  {
   "cell_type": "code",
   "execution_count": 15,
   "id": "47e38713",
   "metadata": {},
   "outputs": [],
   "source": [
    "from django.db.models import Value\n",
    "from django.db.models.aggregates import Aggregate\n",
    "\n",
    "class GroupConcat(Aggregate):\n",
    "    function = 'GROUP_CONCAT'\n",
    "    template = '%(function)s(%(distinct)s %(expressions)s)'\n",
    "    allow_distinct = True\n",
    "\n",
    "    def __init__(self, expression, delimiter=None, **extra):\n",
    "        if delimiter is not None:\n",
    "            self.allow_distinct = False\n",
    "            delimiter_expr = Value(str(delimiter))\n",
    "            super().__init__(expression, delimiter_expr, **extra)        \n",
    "        else:\n",
    "            super().__init__(expression, **extra)        \n",
    "\n",
    "    def as_sqlite(self, compiler, connection, **extra_context):\n",
    "        return super().as_sql(\n",
    "            compiler, connection,\n",
    "            function=self.function,\n",
    "            template=self.template,\n",
    "            **extra_context\n",
    "        )"
   ]
  },
  {
   "cell_type": "code",
   "execution_count": 16,
   "id": "9d1c6ec4",
   "metadata": {},
   "outputs": [],
   "source": [
    "ayan = Farmer.objects.filter(belong_to__name = \"Omkar\").values(\"user_uid\",\"username\"\n",
    "                                                       \n",
    "    ).annotate(\n",
    "        warehouse_name = ContractFarmer.objects.filter(user__user_uid = OuterRef(\"user_uid\")).values(\"warehouse__property_name\"),\n",
    "        warehouseUID = ContractFarmer.objects.filter(user__user_uid = OuterRef(\"user_uid\")).values(\"warehouse__uid\")\n",
    "                \n",
    "    ).annotate(\n",
    "        gala_count = Gala.objects.filter(warehouse__uid = OuterRef(\"warehouseUID\"),is_allotted_to_farmer=True).values(\"warehouse__uid\"\n",
    "                                    ).annotate(gala_count=Count(\"id\")).values(\"gala_count\"),\n",
    "                  \n",
    "                  )\n",
    "\n",
    "\n",
    "\n",
    "\n",
    "\n",
    "\n",
    "\n"
   ]
  },
  {
   "cell_type": "code",
   "execution_count": 17,
   "id": "ed38e9be",
   "metadata": {},
   "outputs": [],
   "source": [
    "pd = read_frame(ayan)"
   ]
  },
  {
   "cell_type": "code",
   "execution_count": 18,
   "id": "2a27a322",
   "metadata": {},
   "outputs": [
    {
     "data": {
      "text/html": [
       "<div>\n",
       "<style scoped>\n",
       "    .dataframe tbody tr th:only-of-type {\n",
       "        vertical-align: middle;\n",
       "    }\n",
       "\n",
       "    .dataframe tbody tr th {\n",
       "        vertical-align: top;\n",
       "    }\n",
       "\n",
       "    .dataframe thead th {\n",
       "        text-align: right;\n",
       "    }\n",
       "</style>\n",
       "<table border=\"1\" class=\"dataframe\">\n",
       "  <thead>\n",
       "    <tr style=\"text-align: right;\">\n",
       "      <th></th>\n",
       "      <th>user_uid</th>\n",
       "      <th>username</th>\n",
       "      <th>warehouse_name</th>\n",
       "      <th>warehouseUID</th>\n",
       "      <th>gala_count</th>\n",
       "    </tr>\n",
       "  </thead>\n",
       "  <tbody>\n",
       "    <tr>\n",
       "      <th>0</th>\n",
       "      <td>5f82381f-d95b-4cff-b2b8-0077c6d1f104</td>\n",
       "      <td>ayan</td>\n",
       "      <td>warehouse 1</td>\n",
       "      <td>d20e7390-a74b-4a83-b6be-2f8f88e42e02</td>\n",
       "      <td>2.0</td>\n",
       "    </tr>\n",
       "    <tr>\n",
       "      <th>1</th>\n",
       "      <td>e73afc9f-83cf-4fa3-a28f-2d68cb2745b0</td>\n",
       "      <td>deepak</td>\n",
       "      <td>None</td>\n",
       "      <td>None</td>\n",
       "      <td>NaN</td>\n",
       "    </tr>\n",
       "  </tbody>\n",
       "</table>\n",
       "</div>"
      ],
      "text/plain": [
       "                               user_uid username warehouse_name  \\\n",
       "0  5f82381f-d95b-4cff-b2b8-0077c6d1f104     ayan    warehouse 1   \n",
       "1  e73afc9f-83cf-4fa3-a28f-2d68cb2745b0   deepak           None   \n",
       "\n",
       "                           warehouseUID  gala_count  \n",
       "0  d20e7390-a74b-4a83-b6be-2f8f88e42e02         2.0  \n",
       "1                                  None         NaN  "
      ]
     },
     "execution_count": 18,
     "metadata": {},
     "output_type": "execute_result"
    }
   ],
   "source": [
    "pd"
   ]
  },
  {
   "cell_type": "code",
   "execution_count": null,
   "id": "cbdf5763",
   "metadata": {},
   "outputs": [],
   "source": []
  },
  {
   "cell_type": "code",
   "execution_count": null,
   "id": "a2eef047",
   "metadata": {},
   "outputs": [],
   "source": []
  },
  {
   "cell_type": "code",
   "execution_count": 19,
   "id": "8dab6a48",
   "metadata": {},
   "outputs": [],
   "source": [
    "get_investor_qs = ContractInvestor.objects.filter(user__user_uid = \"15262d8a-d00b-44b5-bbca-ca6a16633b40\"\n",
    "                            ).values(\"gala__gala_number\",'owner__username','user__username')"
   ]
  },
  {
   "cell_type": "code",
   "execution_count": 20,
   "id": "9f1cf59d",
   "metadata": {},
   "outputs": [
    {
     "data": {
      "text/plain": [
       "<PolymorphicQuerySet [{'gala__gala_number': '4', 'owner__username': 'admin', 'user__username': 'mayank'}, {'gala__gala_number': '3', 'owner__username': 'admin', 'user__username': 'mayank'}]>"
      ]
     },
     "execution_count": 20,
     "metadata": {},
     "output_type": "execute_result"
    }
   ],
   "source": [
    "get_investor_qs"
   ]
  },
  {
   "cell_type": "code",
   "execution_count": null,
   "id": "51ca744e",
   "metadata": {},
   "outputs": [],
   "source": []
  },
  {
   "cell_type": "code",
   "execution_count": 46,
   "id": "4bc7eccc",
   "metadata": {},
   "outputs": [],
   "source": [
    "farmer_qs = Farmer.objects.filter(belong_to__name = \"Omkar\").annotate(\n",
    "                        warehouse_name = ContractFarmer.objects.filter(user__user_uid = OuterRef(\"user_uid\")).values(\"warehouse__property_name\"),\n",
    "                        warehouseUID = ContractFarmer.objects.filter(user__user_uid = OuterRef(\"user_uid\")).values(\"warehouse__uid\")\n",
    "                    ).annotate(\n",
    "                        gala_count = Gala.objects.filter(warehouse__uid = OuterRef(\"warehouseUID\"),is_allotted_to_farmer=True).values(\"warehouse__uid\"\n",
    "                                                    ).annotate(gala_count=Count(\"id\")).values(\"gala_count\"),\n",
    "                        remaining_gala_count = Gala.objects.filter(warehouse__uid=OuterRef(\"warehouseUID\"),\n",
    "                                                                   is_allotted_to_farmer=True,\n",
    "                                                                   is_allotted=False,\n",
    "                                                                   is_allotted_to_rental=False\n",
    "                                                                  ).values(\"warehouse__uid\").annotate(remaining_gala_count=Count(\"id\")).values(\"remaining_gala_count\"),\n",
    "                        allotted_gala_count = Gala.objects.filter(warehouse__uid=OuterRef(\"warehouseUID\"),\n",
    "                                                                  is_allotted_to_farmer=True,\n",
    "                                                                  is_allotted_to_rental=True,\n",
    "                                                                  is_allotted=False\n",
    "                                                                 ).values(\"warehouse__uid\"\n",
    "                                                                         ).annotate(allotted_gala_count=Count(\"id\")).values(\"allotted_gala_count\")\n",
    "    \n",
    "    \n",
    "                                )"
   ]
  },
  {
   "cell_type": "code",
   "execution_count": 47,
   "id": "7617ab7d",
   "metadata": {},
   "outputs": [],
   "source": [
    "pd = read_frame(farmer_qs)"
   ]
  },
  {
   "cell_type": "code",
   "execution_count": 48,
   "id": "e79c3e72",
   "metadata": {},
   "outputs": [
    {
     "data": {
      "text/html": [
       "<div>\n",
       "<style scoped>\n",
       "    .dataframe tbody tr th:only-of-type {\n",
       "        vertical-align: middle;\n",
       "    }\n",
       "\n",
       "    .dataframe tbody tr th {\n",
       "        vertical-align: top;\n",
       "    }\n",
       "\n",
       "    .dataframe thead th {\n",
       "        text-align: right;\n",
       "    }\n",
       "</style>\n",
       "<table border=\"1\" class=\"dataframe\">\n",
       "  <thead>\n",
       "    <tr style=\"text-align: right;\">\n",
       "      <th></th>\n",
       "      <th>id</th>\n",
       "      <th>password</th>\n",
       "      <th>last_login</th>\n",
       "      <th>is_superuser</th>\n",
       "      <th>is_staff</th>\n",
       "      <th>is_active</th>\n",
       "      <th>date_joined</th>\n",
       "      <th>username</th>\n",
       "      <th>user_uid</th>\n",
       "      <th>email</th>\n",
       "      <th>...</th>\n",
       "      <th>zip_code</th>\n",
       "      <th>birth_date</th>\n",
       "      <th>app_type</th>\n",
       "      <th>created_at</th>\n",
       "      <th>updated_at</th>\n",
       "      <th>warehouse_name</th>\n",
       "      <th>warehouseUID</th>\n",
       "      <th>gala_count</th>\n",
       "      <th>remaining_gala_count</th>\n",
       "      <th>allotted_gala_count</th>\n",
       "    </tr>\n",
       "  </thead>\n",
       "  <tbody>\n",
       "    <tr>\n",
       "      <th>0</th>\n",
       "      <td>5</td>\n",
       "      <td>pbkdf2_sha256$390000$9gl5aL3lTtN4z4Fi9kFaFP$3R...</td>\n",
       "      <td>None</td>\n",
       "      <td>False</td>\n",
       "      <td>False</td>\n",
       "      <td>True</td>\n",
       "      <td>2023-01-30 07:31:37.672776+00:00</td>\n",
       "      <td>ayan</td>\n",
       "      <td>5f82381f-d95b-4cff-b2b8-0077c6d1f104</td>\n",
       "      <td>ayansheikh@gmail.com</td>\n",
       "      <td>...</td>\n",
       "      <td></td>\n",
       "      <td>1995-12-14</td>\n",
       "      <td>android</td>\n",
       "      <td>2023-01-30 07:31:37.672776+00:00</td>\n",
       "      <td>2023-01-30 07:31:37.929777+00:00</td>\n",
       "      <td>warehouse 1</td>\n",
       "      <td>d20e7390-a74b-4a83-b6be-2f8f88e42e02</td>\n",
       "      <td>2.0</td>\n",
       "      <td>1.0</td>\n",
       "      <td>1.0</td>\n",
       "    </tr>\n",
       "    <tr>\n",
       "      <th>1</th>\n",
       "      <td>7</td>\n",
       "      <td>pbkdf2_sha256$390000$WSCn2hwdfEuP9TzhrFZnME$9T...</td>\n",
       "      <td>None</td>\n",
       "      <td>False</td>\n",
       "      <td>False</td>\n",
       "      <td>True</td>\n",
       "      <td>2023-01-30 09:29:49.614637+00:00</td>\n",
       "      <td>deepak</td>\n",
       "      <td>e73afc9f-83cf-4fa3-a28f-2d68cb2745b0</td>\n",
       "      <td>deepakverma@gmail.com</td>\n",
       "      <td>...</td>\n",
       "      <td></td>\n",
       "      <td>1995-12-14</td>\n",
       "      <td>android</td>\n",
       "      <td>2023-01-30 09:29:49.614637+00:00</td>\n",
       "      <td>2023-01-30 09:29:49.885475+00:00</td>\n",
       "      <td>None</td>\n",
       "      <td>None</td>\n",
       "      <td>NaN</td>\n",
       "      <td>NaN</td>\n",
       "      <td>NaN</td>\n",
       "    </tr>\n",
       "  </tbody>\n",
       "</table>\n",
       "<p>2 rows × 25 columns</p>\n",
       "</div>"
      ],
      "text/plain": [
       "   id                                           password last_login  \\\n",
       "0   5  pbkdf2_sha256$390000$9gl5aL3lTtN4z4Fi9kFaFP$3R...       None   \n",
       "1   7  pbkdf2_sha256$390000$WSCn2hwdfEuP9TzhrFZnME$9T...       None   \n",
       "\n",
       "   is_superuser  is_staff  is_active                      date_joined  \\\n",
       "0         False     False       True 2023-01-30 07:31:37.672776+00:00   \n",
       "1         False     False       True 2023-01-30 09:29:49.614637+00:00   \n",
       "\n",
       "  username                              user_uid                  email  ...  \\\n",
       "0     ayan  5f82381f-d95b-4cff-b2b8-0077c6d1f104   ayansheikh@gmail.com  ...   \n",
       "1   deepak  e73afc9f-83cf-4fa3-a28f-2d68cb2745b0  deepakverma@gmail.com  ...   \n",
       "\n",
       "  zip_code  birth_date app_type                       created_at  \\\n",
       "0           1995-12-14  android 2023-01-30 07:31:37.672776+00:00   \n",
       "1           1995-12-14  android 2023-01-30 09:29:49.614637+00:00   \n",
       "\n",
       "                        updated_at warehouse_name  \\\n",
       "0 2023-01-30 07:31:37.929777+00:00    warehouse 1   \n",
       "1 2023-01-30 09:29:49.885475+00:00           None   \n",
       "\n",
       "                           warehouseUID gala_count remaining_gala_count  \\\n",
       "0  d20e7390-a74b-4a83-b6be-2f8f88e42e02        2.0                  1.0   \n",
       "1                                  None        NaN                  NaN   \n",
       "\n",
       "  allotted_gala_count  \n",
       "0                 1.0  \n",
       "1                 NaN  \n",
       "\n",
       "[2 rows x 25 columns]"
      ]
     },
     "execution_count": 48,
     "metadata": {},
     "output_type": "execute_result"
    }
   ],
   "source": [
    "pd"
   ]
  },
  {
   "cell_type": "code",
   "execution_count": null,
   "id": "94c3b896",
   "metadata": {},
   "outputs": [],
   "source": []
  },
  {
   "cell_type": "code",
   "execution_count": 68,
   "id": "4a447266",
   "metadata": {},
   "outputs": [],
   "source": [
    "farmer_property_qs = ContractFarmer.objects.filter(user__user_uid = \"5f82381f-d95b-4cff-b2b8-0077c6d1f104\"\n",
    "                                    ).values(\"warehouse__uid\")\n",
    "\n"
   ]
  },
  {
   "cell_type": "code",
   "execution_count": 69,
   "id": "73b835fb",
   "metadata": {},
   "outputs": [
    {
     "data": {
      "text/plain": [
       "<PolymorphicQuerySet [{'warehouse__uid': UUID('71e0ac22-d002-4e35-a10a-bdd176531348')}, {'warehouse__uid': UUID('d20e7390-a74b-4a83-b6be-2f8f88e42e02')}]>"
      ]
     },
     "execution_count": 69,
     "metadata": {},
     "output_type": "execute_result"
    }
   ],
   "source": [
    "farmer_property_qs"
   ]
  },
  {
   "cell_type": "code",
   "execution_count": null,
   "id": "c28dfed5",
   "metadata": {},
   "outputs": [],
   "source": []
  },
  {
   "cell_type": "code",
   "execution_count": null,
   "id": "f7c124bf",
   "metadata": {},
   "outputs": [],
   "source": []
  },
  {
   "cell_type": "code",
   "execution_count": null,
   "id": "817649fc",
   "metadata": {},
   "outputs": [],
   "source": []
  },
  {
   "cell_type": "code",
   "execution_count": null,
   "id": "c55cab4d",
   "metadata": {},
   "outputs": [],
   "source": []
  }
 ],
 "metadata": {
  "kernelspec": {
   "display_name": "Python 3 (ipykernel)",
   "language": "python",
   "name": "python3"
  },
  "language_info": {
   "codemirror_mode": {
    "name": "ipython",
    "version": 3
   },
   "file_extension": ".py",
   "mimetype": "text/x-python",
   "name": "python",
   "nbconvert_exporter": "python",
   "pygments_lexer": "ipython3",
   "version": "3.11.0rc1"
  }
 },
 "nbformat": 4,
 "nbformat_minor": 5
}
