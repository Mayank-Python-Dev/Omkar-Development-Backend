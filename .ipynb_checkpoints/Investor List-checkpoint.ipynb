{
 "cells": [
  {
   "cell_type": "code",
   "execution_count": 1,
   "id": "5f870cf0",
   "metadata": {},
   "outputs": [],
   "source": [
    "import os\n",
    "import django\n",
    "os.environ.setdefault('DJANGO_SETTINGS_MODULE', 'omkar_proj.settings')\n",
    "os.environ[\"DJANGO_ALLOW_ASYNC_UNSAFE\"] = \"true\"\n",
    "django.setup()"
   ]
  },
  {
   "cell_type": "code",
   "execution_count": 34,
   "id": "7ca61f82",
   "metadata": {},
   "outputs": [],
   "source": [
    "from account.models import (\n",
    "    Investor\n",
    ")\n",
    "from contract.models import (\n",
    "    Investor  as ContractInvestor,\n",
    "    Rental as ContractRental\n",
    ")\n",
    "from django.db.models import (\n",
    "    OuterRef,\n",
    "    Count,\n",
    "    ExpressionWrapper,\n",
    "    IntegerField\n",
    ")"
   ]
  },
  {
   "cell_type": "code",
   "execution_count": 41,
   "id": "82083077",
   "metadata": {},
   "outputs": [],
   "source": [
    "get_investor_instance = Investor.objects.filter(belong_to__name = \"Omkar\").values(\n",
    "    \"user_uid\",\"username\",\"first_name\",\"last_name\",\"address\",\"phone\",\"address\",\n",
    "    \"city\",\"zip_code\",\"birth_date\",\"belong_to__name\"\n",
    ").annotate(\n",
    "    total_galas = ContractInvestor.objects.filter(\n",
    "        user__user_uid = OuterRef(\"user_uid\")).values(\n",
    "            \"id\"\n",
    "        ).annotate(total_galas=Count(\"id\")).values(\"total_galas\"),\n",
    "    total_rentals = ContractRental.objects.filter(\n",
    "        user__user_uid = OuterRef(\"user_uid\")).values(\n",
    "            \"id\"\n",
    "        ).annotate(total_galas=Count(\"id\")).values(\"total_galas\")\n",
    "    )"
   ]
  },
  {
   "cell_type": "code",
   "execution_count": 42,
   "id": "783397e9",
   "metadata": {},
   "outputs": [
    {
     "data": {
      "text/plain": [
       "<QuerySet [{'user_uid': UUID('0591cd66-fd57-4b10-b372-5c21735bdb90'), 'username': 'mayank', 'first_name': 'Mayank', 'last_name': 'Motiyani', 'address': 'Rajendra Nagar', 'phone': '8560025508', 'city': 'Indore', 'zip_code': '312001', 'birth_date': datetime.date(1995, 12, 14), 'belong_to__name': 'Omkar', 'total_galas': 1, 'total_rentals': None}]>"
      ]
     },
     "execution_count": 42,
     "metadata": {},
     "output_type": "execute_result"
    }
   ],
   "source": [
    "get_investor_instance"
   ]
  },
  {
   "cell_type": "code",
   "execution_count": null,
   "id": "1488d963",
   "metadata": {},
   "outputs": [],
   "source": []
  }
 ],
 "metadata": {
  "kernelspec": {
   "display_name": "Python 3 (ipykernel)",
   "language": "python",
   "name": "python3"
  },
  "language_info": {
   "codemirror_mode": {
    "name": "ipython",
    "version": 3
   },
   "file_extension": ".py",
   "mimetype": "text/x-python",
   "name": "python",
   "nbconvert_exporter": "python",
   "pygments_lexer": "ipython3",
   "version": "3.11.0rc1"
  }
 },
 "nbformat": 4,
 "nbformat_minor": 5
}
