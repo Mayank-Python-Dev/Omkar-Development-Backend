{
 "cells": [
  {
   "cell_type": "code",
   "execution_count": 1,
   "id": "f293cd58",
   "metadata": {},
   "outputs": [],
   "source": [
    "import os\n",
    "import django\n",
    "os.environ.setdefault('DJANGO_SETTINGS_MODULE', 'omkar_proj.settings')\n",
    "os.environ[\"DJANGO_ALLOW_ASYNC_UNSAFE\"] = \"true\"\n",
    "django.setup()"
   ]
  },
  {
   "cell_type": "code",
   "execution_count": 26,
   "id": "be978624",
   "metadata": {},
   "outputs": [],
   "source": [
    "from warehouse.models import (\n",
    "    Company,\n",
    "    Property,\n",
    "    Gala\n",
    ")\n",
    "from django.db.models import (\n",
    "    OuterRef,\n",
    "    Count,\n",
    "    Prefetch,\n",
    "    Q\n",
    ")\n",
    "from contract.models import (\n",
    "    Contract,\n",
    "    Investor as ContractInvestor,\n",
    "    Rental as ContractRental,\n",
    "    Farmer as ContractFarmer\n",
    ")\n",
    "from account.models import (\n",
    "    Investor\n",
    ")"
   ]
  },
  {
   "cell_type": "code",
   "execution_count": 3,
   "id": "ec2cdb16",
   "metadata": {},
   "outputs": [
    {
     "data": {
      "text/plain": [
       "<QuerySet [<Investor: skinny-xanthic-tamarin>, <Investor: stealthy-platinum-lion>, <Investor: cranky-khaki-budgerigar>, <Investor: foggy-purple-koala>, <Investor: lanky-lavender-leopard>, <Investor: snoopy-ivory-frigatebird>, <Investor: woolly-peach-kangaroo>, <Investor: breezy-amethyst-harrier>, <Investor: snippy-apricot-bombay>, <Investor: surly-taupe-dingo>, <Investor: gamy-wisteria-eel>, <Investor: nippy-fuchsia-cockroach>, <Investor: dorky-pink-greyhound>, <Investor: trippy-khaki-guppy>, <Investor: cloudy-beige-hyrax>, <Investor: whiny-red-duck>, <Investor: gimpy-silver-dolphin>]>"
      ]
     },
     "execution_count": 3,
     "metadata": {},
     "output_type": "execute_result"
    }
   ],
   "source": [
    "Investor.objects.filter(belong_to__name = \"Omkar\")"
   ]
  },
  {
   "cell_type": "code",
   "execution_count": 4,
   "id": "e592d8b3",
   "metadata": {},
   "outputs": [
    {
     "data": {
      "text/plain": [
       "<PolymorphicQuerySet []>"
      ]
     },
     "execution_count": 4,
     "metadata": {},
     "output_type": "execute_result"
    }
   ],
   "source": [
    "ContractInvestor.objects.filter(gala__warehouse__property_name = \"Omkar Warehouse 1\",owner__is_superuser=False)"
   ]
  },
  {
   "cell_type": "code",
   "execution_count": 5,
   "id": "db8c73b3",
   "metadata": {},
   "outputs": [],
   "source": [
    "# get_gala_detail = Gala.objects.filter(is_allotted=True,get_gala_detail__owner__is_superuser=False)"
   ]
  },
  {
   "cell_type": "code",
   "execution_count": 6,
   "id": "d2767298",
   "metadata": {},
   "outputs": [],
   "source": [
    "# get_gala_detail"
   ]
  },
  {
   "cell_type": "code",
   "execution_count": 7,
   "id": "9b8cad81",
   "metadata": {},
   "outputs": [
    {
     "data": {
      "text/plain": [
       "<PolymorphicQuerySet [<Rental: Leave_and_License>, <Rental: Leave_and_License>]>"
      ]
     },
     "execution_count": 7,
     "metadata": {},
     "output_type": "execute_result"
    }
   ],
   "source": [
    "ContractRental.objects.all()"
   ]
  },
  {
   "cell_type": "code",
   "execution_count": null,
   "id": "9407e956",
   "metadata": {},
   "outputs": [],
   "source": []
  },
  {
   "cell_type": "code",
   "execution_count": 8,
   "id": "c47296ca",
   "metadata": {},
   "outputs": [],
   "source": [
    "# Company.objects.get(name=\"Omkar\").get_properties.get(id=1).get_gala.filter(gala_rental_detail__gala_id=4).select_related(\"gala_rental_detail\")"
   ]
  },
  {
   "cell_type": "code",
   "execution_count": 9,
   "id": "78cd9790",
   "metadata": {},
   "outputs": [],
   "source": [
    "# ContractRental.objects.filter(gala__warehouse__uid = \"9bbc8a5f-e1a3-434f-b1a7-6e7b820492c2\",gala__warehouse__company__name )"
   ]
  },
  {
   "cell_type": "code",
   "execution_count": 10,
   "id": "ccebd24f",
   "metadata": {},
   "outputs": [],
   "source": [
    "# Company.objects.get(name=\"Omkar\").get_properties.get(id=1).get_gala.filter(gala_rental_detail__owner__is_superuser=False)"
   ]
  },
  {
   "cell_type": "code",
   "execution_count": 11,
   "id": "57b85129",
   "metadata": {},
   "outputs": [],
   "source": [
    "get_warehouse_qs = Company.objects.get(\n",
    "                name=\"Omkar\"\n",
    "            ).get_properties.filter().values(\n",
    "                \"uid\",\"property_name\",\"property_type\",\"property_survey_number\",\"address\",\"city\",\"state\",\"country\"\n",
    "                ).annotate(\n",
    "                total_number_of_galas = Gala.objects.filter(warehouse__uid = OuterRef(\"uid\"),is_allotted=True).values(\"warehouse__uid\").annotate(total_galas_allotted = Count(\"id\")).values(\"total_galas_allotted\"),\n",
    "                total_number_of_farmers = ContractRental.objects.filter(gala__warehouse__uid = OuterRef(\"uid\")).values(\"gala__warehouse__uid\").annotate(total_number_of_farmers = Count(\"id\")).values(\"total_number_of_farmers\")\n",
    "            )"
   ]
  },
  {
   "cell_type": "code",
   "execution_count": 12,
   "id": "97212c70",
   "metadata": {},
   "outputs": [
    {
     "data": {
      "text/plain": [
       "<QuerySet [{'uid': UUID('5ec6fd54-9257-487c-8e01-8d171b3c74a5'), 'property_name': 'Omkar Warehouse 2', 'property_type': 'OTHER', 'property_survey_number': '1891a3de-7256-4edf-9b0c-df1e063f824c', 'address': '...', 'city': 'Indore', 'state': 'Madha Pradesh', 'country': 'India', 'total_number_of_galas': None, 'total_number_of_farmers': None}, {'uid': UUID('9bbc8a5f-e1a3-434f-b1a7-6e7b820492c2'), 'property_name': 'Omkar Warehouse 1', 'property_type': 'PEB', 'property_survey_number': '8b8165c8-5004-40cb-82f3-f206364f6f5d', 'address': 'Atulya IT Park', 'city': 'Indore', 'state': 'Madha Pradesh', 'country': 'India', 'total_number_of_galas': 4, 'total_number_of_farmers': 2}]>"
      ]
     },
     "execution_count": 12,
     "metadata": {},
     "output_type": "execute_result"
    }
   ],
   "source": [
    "get_warehouse_qs"
   ]
  },
  {
   "cell_type": "code",
   "execution_count": 13,
   "id": "ef2f19a4",
   "metadata": {},
   "outputs": [],
   "source": [
    "get_farmer_warehouses = Company.objects.get(name=\"Omkar\").get_properties.filter(farmer_warehouse_detail__user_id=3)"
   ]
  },
  {
   "cell_type": "code",
   "execution_count": null,
   "id": "971fc9f6",
   "metadata": {},
   "outputs": [],
   "source": []
  },
  {
   "cell_type": "code",
   "execution_count": 14,
   "id": "98dcc3b9",
   "metadata": {},
   "outputs": [
    {
     "data": {
      "text/plain": [
       "<QuerySet [<Property: Omkar Warehouse 2>]>"
      ]
     },
     "execution_count": 14,
     "metadata": {},
     "output_type": "execute_result"
    }
   ],
   "source": [
    "get_farmer_warehouses"
   ]
  },
  {
   "cell_type": "code",
   "execution_count": 15,
   "id": "c287f099",
   "metadata": {},
   "outputs": [
    {
     "data": {
      "text/plain": [
       "<QuerySet [{'uid': UUID('5ec6fd54-9257-487c-8e01-8d171b3c74a5'), 'property_name': 'Omkar Warehouse 2', 'property_type': 'OTHER', 'property_survey_number': '1891a3de-7256-4edf-9b0c-df1e063f824c', 'address': '...', 'city': 'Indore', 'state': 'Madha Pradesh', 'country': 'India', 'total_number_of_galas': None, 'total_number_of_investors': None}, {'uid': UUID('9bbc8a5f-e1a3-434f-b1a7-6e7b820492c2'), 'property_name': 'Omkar Warehouse 1', 'property_type': 'PEB', 'property_survey_number': '8b8165c8-5004-40cb-82f3-f206364f6f5d', 'address': 'Atulya IT Park', 'city': 'Indore', 'state': 'Madha Pradesh', 'country': 'India', 'total_number_of_galas': 4, 'total_number_of_investors': 2}]>"
      ]
     },
     "execution_count": 15,
     "metadata": {},
     "output_type": "execute_result"
    }
   ],
   "source": [
    "get_warehouse_qs = Company.objects.get(\n",
    "                name=\"Omkar\"\n",
    "            ).get_properties.all().values(\n",
    "                \"uid\",\"property_name\",\"property_type\",\"property_survey_number\",\"address\",\"city\",\"state\",\"country\"\n",
    "                ).annotate(\n",
    "                total_number_of_galas = Gala.objects.filter(warehouse__uid = OuterRef(\"uid\"),is_allotted=True).values(\"warehouse__uid\").annotate(total_galas_allotted = Count(\"id\")).values(\"total_galas_allotted\"),\n",
    "                total_number_of_investors = ContractInvestor.objects.filter(gala__warehouse__uid = OuterRef(\"uid\")).values(\"gala__warehouse__uid\").annotate(total_number_of_investors = Count(\"id\")).values(\"total_number_of_investors\")\n",
    "            )\n",
    "get_warehouse_qs\n"
   ]
  },
  {
   "cell_type": "code",
   "execution_count": null,
   "id": "2b456245",
   "metadata": {},
   "outputs": [],
   "source": []
  },
  {
   "cell_type": "code",
   "execution_count": 24,
   "id": "93f0a449",
   "metadata": {},
   "outputs": [
    {
     "ename": "AttributeError",
     "evalue": "Cannot find 'get_properties' on Property object, 'get_properties' is an invalid parameter to prefetch_related()",
     "output_type": "error",
     "traceback": [
      "\u001b[1;31m---------------------------------------------------------------------------\u001b[0m",
      "\u001b[1;31mAttributeError\u001b[0m                            Traceback (most recent call last)",
      "File \u001b[1;32mC:\\Omkar-Development\\virtualenv\\lib\\site-packages\\IPython\\core\\formatters.py:706\u001b[0m, in \u001b[0;36mPlainTextFormatter.__call__\u001b[1;34m(self, obj)\u001b[0m\n\u001b[0;32m    699\u001b[0m stream \u001b[38;5;241m=\u001b[39m StringIO()\n\u001b[0;32m    700\u001b[0m printer \u001b[38;5;241m=\u001b[39m pretty\u001b[38;5;241m.\u001b[39mRepresentationPrinter(stream, \u001b[38;5;28mself\u001b[39m\u001b[38;5;241m.\u001b[39mverbose,\n\u001b[0;32m    701\u001b[0m     \u001b[38;5;28mself\u001b[39m\u001b[38;5;241m.\u001b[39mmax_width, \u001b[38;5;28mself\u001b[39m\u001b[38;5;241m.\u001b[39mnewline,\n\u001b[0;32m    702\u001b[0m     max_seq_length\u001b[38;5;241m=\u001b[39m\u001b[38;5;28mself\u001b[39m\u001b[38;5;241m.\u001b[39mmax_seq_length,\n\u001b[0;32m    703\u001b[0m     singleton_pprinters\u001b[38;5;241m=\u001b[39m\u001b[38;5;28mself\u001b[39m\u001b[38;5;241m.\u001b[39msingleton_printers,\n\u001b[0;32m    704\u001b[0m     type_pprinters\u001b[38;5;241m=\u001b[39m\u001b[38;5;28mself\u001b[39m\u001b[38;5;241m.\u001b[39mtype_printers,\n\u001b[0;32m    705\u001b[0m     deferred_pprinters\u001b[38;5;241m=\u001b[39m\u001b[38;5;28mself\u001b[39m\u001b[38;5;241m.\u001b[39mdeferred_printers)\n\u001b[1;32m--> 706\u001b[0m \u001b[43mprinter\u001b[49m\u001b[38;5;241;43m.\u001b[39;49m\u001b[43mpretty\u001b[49m\u001b[43m(\u001b[49m\u001b[43mobj\u001b[49m\u001b[43m)\u001b[49m\n\u001b[0;32m    707\u001b[0m printer\u001b[38;5;241m.\u001b[39mflush()\n\u001b[0;32m    708\u001b[0m \u001b[38;5;28;01mreturn\u001b[39;00m stream\u001b[38;5;241m.\u001b[39mgetvalue()\n",
      "File \u001b[1;32mC:\\Omkar-Development\\virtualenv\\lib\\site-packages\\IPython\\lib\\pretty.py:410\u001b[0m, in \u001b[0;36mRepresentationPrinter.pretty\u001b[1;34m(self, obj)\u001b[0m\n\u001b[0;32m    407\u001b[0m                         \u001b[38;5;28;01mreturn\u001b[39;00m meth(obj, \u001b[38;5;28mself\u001b[39m, cycle)\n\u001b[0;32m    408\u001b[0m                 \u001b[38;5;28;01mif\u001b[39;00m \u001b[38;5;28mcls\u001b[39m \u001b[38;5;129;01mis\u001b[39;00m \u001b[38;5;129;01mnot\u001b[39;00m \u001b[38;5;28mobject\u001b[39m \\\n\u001b[0;32m    409\u001b[0m                         \u001b[38;5;129;01mand\u001b[39;00m callable(\u001b[38;5;28mcls\u001b[39m\u001b[38;5;241m.\u001b[39m\u001b[38;5;18m__dict__\u001b[39m\u001b[38;5;241m.\u001b[39mget(\u001b[38;5;124m'\u001b[39m\u001b[38;5;124m__repr__\u001b[39m\u001b[38;5;124m'\u001b[39m)):\n\u001b[1;32m--> 410\u001b[0m                     \u001b[38;5;28;01mreturn\u001b[39;00m \u001b[43m_repr_pprint\u001b[49m\u001b[43m(\u001b[49m\u001b[43mobj\u001b[49m\u001b[43m,\u001b[49m\u001b[43m \u001b[49m\u001b[38;5;28;43mself\u001b[39;49m\u001b[43m,\u001b[49m\u001b[43m \u001b[49m\u001b[43mcycle\u001b[49m\u001b[43m)\u001b[49m\n\u001b[0;32m    412\u001b[0m     \u001b[38;5;28;01mreturn\u001b[39;00m _default_pprint(obj, \u001b[38;5;28mself\u001b[39m, cycle)\n\u001b[0;32m    413\u001b[0m \u001b[38;5;28;01mfinally\u001b[39;00m:\n",
      "File \u001b[1;32mC:\\Omkar-Development\\virtualenv\\lib\\site-packages\\IPython\\lib\\pretty.py:778\u001b[0m, in \u001b[0;36m_repr_pprint\u001b[1;34m(obj, p, cycle)\u001b[0m\n\u001b[0;32m    776\u001b[0m \u001b[38;5;124;03m\"\"\"A pprint that just redirects to the normal repr function.\"\"\"\u001b[39;00m\n\u001b[0;32m    777\u001b[0m \u001b[38;5;66;03m# Find newlines and replace them with p.break_()\u001b[39;00m\n\u001b[1;32m--> 778\u001b[0m output \u001b[38;5;241m=\u001b[39m \u001b[38;5;28;43mrepr\u001b[39;49m\u001b[43m(\u001b[49m\u001b[43mobj\u001b[49m\u001b[43m)\u001b[49m\n\u001b[0;32m    779\u001b[0m lines \u001b[38;5;241m=\u001b[39m output\u001b[38;5;241m.\u001b[39msplitlines()\n\u001b[0;32m    780\u001b[0m \u001b[38;5;28;01mwith\u001b[39;00m p\u001b[38;5;241m.\u001b[39mgroup():\n",
      "File \u001b[1;32mC:\\Omkar-Development\\virtualenv\\lib\\site-packages\\django\\db\\models\\query.py:370\u001b[0m, in \u001b[0;36mQuerySet.__repr__\u001b[1;34m(self)\u001b[0m\n\u001b[0;32m    369\u001b[0m \u001b[38;5;28;01mdef\u001b[39;00m \u001b[38;5;21m__repr__\u001b[39m(\u001b[38;5;28mself\u001b[39m):\n\u001b[1;32m--> 370\u001b[0m     data \u001b[38;5;241m=\u001b[39m \u001b[38;5;28;43mlist\u001b[39;49m\u001b[43m(\u001b[49m\u001b[38;5;28;43mself\u001b[39;49m\u001b[43m[\u001b[49m\u001b[43m:\u001b[49m\u001b[43m \u001b[49m\u001b[43mREPR_OUTPUT_SIZE\u001b[49m\u001b[43m \u001b[49m\u001b[38;5;241;43m+\u001b[39;49m\u001b[43m \u001b[49m\u001b[38;5;241;43m1\u001b[39;49m\u001b[43m]\u001b[49m\u001b[43m)\u001b[49m\n\u001b[0;32m    371\u001b[0m     \u001b[38;5;28;01mif\u001b[39;00m \u001b[38;5;28mlen\u001b[39m(data) \u001b[38;5;241m>\u001b[39m REPR_OUTPUT_SIZE:\n\u001b[0;32m    372\u001b[0m         data[\u001b[38;5;241m-\u001b[39m\u001b[38;5;241m1\u001b[39m] \u001b[38;5;241m=\u001b[39m \u001b[38;5;124m\"\u001b[39m\u001b[38;5;124m...(remaining elements truncated)...\u001b[39m\u001b[38;5;124m\"\u001b[39m\n",
      "File \u001b[1;32mC:\\Omkar-Development\\virtualenv\\lib\\site-packages\\django\\db\\models\\query.py:394\u001b[0m, in \u001b[0;36mQuerySet.__iter__\u001b[1;34m(self)\u001b[0m\n\u001b[0;32m    379\u001b[0m \u001b[38;5;28;01mdef\u001b[39;00m \u001b[38;5;21m__iter__\u001b[39m(\u001b[38;5;28mself\u001b[39m):\n\u001b[0;32m    380\u001b[0m     \u001b[38;5;124;03m\"\"\"\u001b[39;00m\n\u001b[0;32m    381\u001b[0m \u001b[38;5;124;03m    The queryset iterator protocol uses three nested iterators in the\u001b[39;00m\n\u001b[0;32m    382\u001b[0m \u001b[38;5;124;03m    default case:\u001b[39;00m\n\u001b[1;32m   (...)\u001b[0m\n\u001b[0;32m    392\u001b[0m \u001b[38;5;124;03m           - Responsible for turning the rows into model objects.\u001b[39;00m\n\u001b[0;32m    393\u001b[0m \u001b[38;5;124;03m    \"\"\"\u001b[39;00m\n\u001b[1;32m--> 394\u001b[0m     \u001b[38;5;28;43mself\u001b[39;49m\u001b[38;5;241;43m.\u001b[39;49m\u001b[43m_fetch_all\u001b[49m\u001b[43m(\u001b[49m\u001b[43m)\u001b[49m\n\u001b[0;32m    395\u001b[0m     \u001b[38;5;28;01mreturn\u001b[39;00m \u001b[38;5;28miter\u001b[39m(\u001b[38;5;28mself\u001b[39m\u001b[38;5;241m.\u001b[39m_result_cache)\n",
      "File \u001b[1;32mC:\\Omkar-Development\\virtualenv\\lib\\site-packages\\django\\db\\models\\query.py:1869\u001b[0m, in \u001b[0;36mQuerySet._fetch_all\u001b[1;34m(self)\u001b[0m\n\u001b[0;32m   1867\u001b[0m     \u001b[38;5;28mself\u001b[39m\u001b[38;5;241m.\u001b[39m_result_cache \u001b[38;5;241m=\u001b[39m \u001b[38;5;28mlist\u001b[39m(\u001b[38;5;28mself\u001b[39m\u001b[38;5;241m.\u001b[39m_iterable_class(\u001b[38;5;28mself\u001b[39m))\n\u001b[0;32m   1868\u001b[0m \u001b[38;5;28;01mif\u001b[39;00m \u001b[38;5;28mself\u001b[39m\u001b[38;5;241m.\u001b[39m_prefetch_related_lookups \u001b[38;5;129;01mand\u001b[39;00m \u001b[38;5;129;01mnot\u001b[39;00m \u001b[38;5;28mself\u001b[39m\u001b[38;5;241m.\u001b[39m_prefetch_done:\n\u001b[1;32m-> 1869\u001b[0m     \u001b[38;5;28;43mself\u001b[39;49m\u001b[38;5;241;43m.\u001b[39;49m\u001b[43m_prefetch_related_objects\u001b[49m\u001b[43m(\u001b[49m\u001b[43m)\u001b[49m\n",
      "File \u001b[1;32mC:\\Omkar-Development\\virtualenv\\lib\\site-packages\\django\\db\\models\\query.py:1258\u001b[0m, in \u001b[0;36mQuerySet._prefetch_related_objects\u001b[1;34m(self)\u001b[0m\n\u001b[0;32m   1256\u001b[0m \u001b[38;5;28;01mdef\u001b[39;00m \u001b[38;5;21m_prefetch_related_objects\u001b[39m(\u001b[38;5;28mself\u001b[39m):\n\u001b[0;32m   1257\u001b[0m     \u001b[38;5;66;03m# This method can only be called once the result cache has been filled.\u001b[39;00m\n\u001b[1;32m-> 1258\u001b[0m     \u001b[43mprefetch_related_objects\u001b[49m\u001b[43m(\u001b[49m\u001b[38;5;28;43mself\u001b[39;49m\u001b[38;5;241;43m.\u001b[39;49m\u001b[43m_result_cache\u001b[49m\u001b[43m,\u001b[49m\u001b[43m \u001b[49m\u001b[38;5;241;43m*\u001b[39;49m\u001b[38;5;28;43mself\u001b[39;49m\u001b[38;5;241;43m.\u001b[39;49m\u001b[43m_prefetch_related_lookups\u001b[49m\u001b[43m)\u001b[49m\n\u001b[0;32m   1259\u001b[0m     \u001b[38;5;28mself\u001b[39m\u001b[38;5;241m.\u001b[39m_prefetch_done \u001b[38;5;241m=\u001b[39m \u001b[38;5;28;01mTrue\u001b[39;00m\n",
      "File \u001b[1;32mC:\\Omkar-Development\\virtualenv\\lib\\site-packages\\django\\db\\models\\query.py:2273\u001b[0m, in \u001b[0;36mprefetch_related_objects\u001b[1;34m(model_instances, *related_lookups)\u001b[0m\n\u001b[0;32m   2268\u001b[0m prefetcher, descriptor, attr_found, is_fetched \u001b[38;5;241m=\u001b[39m get_prefetcher(\n\u001b[0;32m   2269\u001b[0m     first_obj, through_attr, to_attr\n\u001b[0;32m   2270\u001b[0m )\n\u001b[0;32m   2272\u001b[0m \u001b[38;5;28;01mif\u001b[39;00m \u001b[38;5;129;01mnot\u001b[39;00m attr_found:\n\u001b[1;32m-> 2273\u001b[0m     \u001b[38;5;28;01mraise\u001b[39;00m \u001b[38;5;167;01mAttributeError\u001b[39;00m(\n\u001b[0;32m   2274\u001b[0m         \u001b[38;5;124m\"\u001b[39m\u001b[38;5;124mCannot find \u001b[39m\u001b[38;5;124m'\u001b[39m\u001b[38;5;132;01m%s\u001b[39;00m\u001b[38;5;124m'\u001b[39m\u001b[38;5;124m on \u001b[39m\u001b[38;5;132;01m%s\u001b[39;00m\u001b[38;5;124m object, \u001b[39m\u001b[38;5;124m'\u001b[39m\u001b[38;5;132;01m%s\u001b[39;00m\u001b[38;5;124m'\u001b[39m\u001b[38;5;124m is an invalid \u001b[39m\u001b[38;5;124m\"\u001b[39m\n\u001b[0;32m   2275\u001b[0m         \u001b[38;5;124m\"\u001b[39m\u001b[38;5;124mparameter to prefetch_related()\u001b[39m\u001b[38;5;124m\"\u001b[39m\n\u001b[0;32m   2276\u001b[0m         \u001b[38;5;241m%\u001b[39m (\n\u001b[0;32m   2277\u001b[0m             through_attr,\n\u001b[0;32m   2278\u001b[0m             first_obj\u001b[38;5;241m.\u001b[39m\u001b[38;5;18m__class__\u001b[39m\u001b[38;5;241m.\u001b[39m\u001b[38;5;18m__name__\u001b[39m,\n\u001b[0;32m   2279\u001b[0m             lookup\u001b[38;5;241m.\u001b[39mprefetch_through,\n\u001b[0;32m   2280\u001b[0m         )\n\u001b[0;32m   2281\u001b[0m     )\n\u001b[0;32m   2283\u001b[0m \u001b[38;5;28;01mif\u001b[39;00m level \u001b[38;5;241m==\u001b[39m \u001b[38;5;28mlen\u001b[39m(through_attrs) \u001b[38;5;241m-\u001b[39m \u001b[38;5;241m1\u001b[39m \u001b[38;5;129;01mand\u001b[39;00m prefetcher \u001b[38;5;129;01mis\u001b[39;00m \u001b[38;5;28;01mNone\u001b[39;00m:\n\u001b[0;32m   2284\u001b[0m     \u001b[38;5;66;03m# Last one, this *must* resolve to something that supports\u001b[39;00m\n\u001b[0;32m   2285\u001b[0m     \u001b[38;5;66;03m# prefetching, otherwise there is no point adding it and the\u001b[39;00m\n\u001b[0;32m   2286\u001b[0m     \u001b[38;5;66;03m# developer asking for it has made a mistake.\u001b[39;00m\n\u001b[0;32m   2287\u001b[0m     \u001b[38;5;28;01mraise\u001b[39;00m \u001b[38;5;167;01mValueError\u001b[39;00m(\n\u001b[0;32m   2288\u001b[0m         \u001b[38;5;124m\"\u001b[39m\u001b[38;5;124m'\u001b[39m\u001b[38;5;132;01m%s\u001b[39;00m\u001b[38;5;124m'\u001b[39m\u001b[38;5;124m does not resolve to an item that supports \u001b[39m\u001b[38;5;124m\"\u001b[39m\n\u001b[0;32m   2289\u001b[0m         \u001b[38;5;124m\"\u001b[39m\u001b[38;5;124mprefetching - this is an invalid parameter to \u001b[39m\u001b[38;5;124m\"\u001b[39m\n\u001b[0;32m   2290\u001b[0m         \u001b[38;5;124m\"\u001b[39m\u001b[38;5;124mprefetch_related().\u001b[39m\u001b[38;5;124m\"\u001b[39m \u001b[38;5;241m%\u001b[39m lookup\u001b[38;5;241m.\u001b[39mprefetch_through\n\u001b[0;32m   2291\u001b[0m     )\n",
      "\u001b[1;31mAttributeError\u001b[0m: Cannot find 'get_properties' on Property object, 'get_properties' is an invalid parameter to prefetch_related()"
     ]
    }
   ],
   "source": [
    "from account.models import User\n",
    "\n",
    "get_development_warehouses = Company.objects.get(name=\"Omkar\").get_properties.all().prefetch_related()\n",
    "get_development_warehouses"
   ]
  },
  {
   "cell_type": "code",
   "execution_count": 34,
   "id": "3ff25788",
   "metadata": {},
   "outputs": [
    {
     "data": {
      "text/plain": [
       "<QuerySet [{'uid': UUID('9bbc8a5f-e1a3-434f-b1a7-6e7b820492c2'), 'property_name': 'Omkar Warehouse 1', 'property_type': 'PEB', 'property_survey_number': '8b8165c8-5004-40cb-82f3-f206364f6f5d', 'address': 'Atulya IT Park', 'city': 'Indore', 'state': 'Madha Pradesh', 'country': 'India', 'total_number_of_galas': 4, 'total_number_of_investors': 2, 'total_number_of_rentals': 1, 'total_number_of_remaining_galas': 1}]>"
      ]
     },
     "execution_count": 34,
     "metadata": {},
     "output_type": "execute_result"
    }
   ],
   "source": [
    " get_owner_warehouse_queryset = Company.objects.get(name=\"Omkar\").get_properties.filter(\n",
    "                    Q(get_gala__gala_investor_contract_detail__owner__is_superuser = True)|\n",
    "                    Q(get_gala__gala_rental_contract_detail__owner__is_superuser = True)\n",
    "                ).values(\"uid\",\"property_name\",\"property_type\",\"property_survey_number\",\n",
    "                        \"address\",\"city\",\"state\",\"country\").distinct().annotate(\n",
    "     \n",
    "                            total_number_of_galas = Gala.objects.filter(warehouse__uid=OuterRef(\"uid\")\n",
    "                                ).values('warehouse__uid'\n",
    "                                    ).annotate(total_number_of_galas = Count(\"id\")).values(\"total_number_of_galas\"),\n",
    "     \n",
    "                            total_number_of_investors = ContractInvestor.objects.filter(gala__warehouse__uid=OuterRef(\"uid\"),owner__is_superuser=True\n",
    "                                ).values(\"gala__warehouse__uid\"\n",
    "                                    ).annotate(total_number_of_investors = Count(\"id\")).values(\"total_number_of_investors\"),\n",
    "     \n",
    "                            total_number_of_rentals = ContractRental.objects.filter(gala__warehouse__uid = OuterRef(\"uid\"),owner__is_superuser=True\n",
    "                                ).values(\"gala__warehouse__uid\"\n",
    "                                    ).annotate(total_number_of_rentals = Count(\"id\")).values(\"total_number_of_rentals\"),\n",
    "     \n",
    "                            total_number_of_remaining_galas = Gala.objects.filter(warehouse__uid=OuterRef(\"uid\"),is_allotted=False\n",
    "                                ).values('warehouse__uid'\n",
    "                                    ).annotate(total_number_of_remaining_galas = Count(\"id\")).values(\"total_number_of_remaining_galas\"),\n",
    "\n",
    "                    )\n",
    "get_owner_warehouse_queryset"
   ]
  },
  {
   "cell_type": "code",
   "execution_count": null,
   "id": "84a088e9",
   "metadata": {},
   "outputs": [],
   "source": []
  }
 ],
 "metadata": {
  "kernelspec": {
   "display_name": "virtualenv",
   "language": "python",
   "name": "python3"
  },
  "language_info": {
   "codemirror_mode": {
    "name": "ipython",
    "version": 3
   },
   "file_extension": ".py",
   "mimetype": "text/x-python",
   "name": "python",
   "nbconvert_exporter": "python",
   "pygments_lexer": "ipython3",
   "version": "3.10.5 (tags/v3.10.5:f377153, Jun  6 2022, 16:14:13) [MSC v.1929 64 bit (AMD64)]"
  },
  "vscode": {
   "interpreter": {
    "hash": "efae977790f9001b2e464a060429438749b291a91d18a15ecf1d35e8a7412c46"
   }
  }
 },
 "nbformat": 4,
 "nbformat_minor": 5
}
