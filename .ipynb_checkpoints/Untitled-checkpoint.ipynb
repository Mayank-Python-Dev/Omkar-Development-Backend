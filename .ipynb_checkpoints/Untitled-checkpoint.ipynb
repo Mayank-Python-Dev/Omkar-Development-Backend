{
 "cells": [
  {
   "cell_type": "code",
   "execution_count": 2,
   "id": "6322640d",
   "metadata": {},
   "outputs": [
    {
     "name": "stdout",
     "output_type": "stream",
     "text": [
      "/home/python-25/Desktop/Omkar-Development/source\n",
      "/home/python-25/Desktop/Omkar-Development/source\n"
     ]
    }
   ],
   "source": [
    "import os\n",
    "import django\n",
    "os.environ.setdefault('DJANGO_SETTINGS_MODULE', 'omkar_proj.settings')\n",
    "os.environ[\"DJANGO_ALLOW_ASYNC_UNSAFE\"] = \"true\"\n",
    "django.setup()"
   ]
  },
  {
   "cell_type": "code",
   "execution_count": 3,
   "id": "c997311d",
   "metadata": {},
   "outputs": [],
   "source": [
    "from warehouse.models import (\n",
    "    Company,\n",
    "    Property,\n",
    "    Gala\n",
    ")\n",
    "from django.db.models import (\n",
    "    OuterRef,\n",
    "    Count,\n",
    "    Prefetch,\n",
    "    Q,\n",
    "    Sum,\n",
    "    ExpressionWrapper,\n",
    "    IntegerField,\n",
    "    functions\n",
    ")\n",
    "from contract.models import (\n",
    "    Contract,\n",
    "    Investor as ContractInvestor,\n",
    "    Rental as ContractRental,\n",
    "    Farmer as ContractFarmer\n",
    ")\n",
    "from account.models import (\n",
    "    Investor,\n",
    "    Rental,\n",
    "    Farmer\n",
    ")\n",
    "from service.models import LeaveGalaRequest"
   ]
  },
  {
   "cell_type": "code",
   "execution_count": 4,
   "id": "b1b5f87d",
   "metadata": {},
   "outputs": [],
   "source": [
    " get_property = Property.objects.filter(\n",
    "            company__name__iexact = \"Omkar\",is_allotted_to_farmer=False\n",
    "            ).values(\"uid\",\"property_name\").annotate(\n",
    "                total_galas = Gala.objects.filter(\n",
    "                    Q(is_allotted = True)|Q(is_allotted_to_rental = True),\n",
    "                    warehouse__uid=OuterRef(\"uid\")).values(\"warehouse__uid\").annotate(\n",
    "                    total_galas=ExpressionWrapper(\n",
    "                            Count(\"id\"),\n",
    "                            output_field=IntegerField(),\n",
    "                        )\n",
    "            ).values(\"total_galas\"))"
   ]
  },
  {
   "cell_type": "code",
   "execution_count": null,
   "id": "ca5093b6",
   "metadata": {},
   "outputs": [],
   "source": []
  },
  {
   "cell_type": "code",
   "execution_count": null,
   "id": "522c10fd",
   "metadata": {},
   "outputs": [],
   "source": []
  },
  {
   "cell_type": "code",
   "execution_count": 5,
   "id": "820cf13d",
   "metadata": {},
   "outputs": [],
   "source": [
    "get_rental_gala = ContractRental.objects.filter(user_id=5).values(\"gala__warehouse__uid\",\"gala__uid\")"
   ]
  },
  {
   "cell_type": "code",
   "execution_count": null,
   "id": "6b380eac",
   "metadata": {},
   "outputs": [],
   "source": [
    "ContractRental.objects.filter(user_id=5).annotate(gala__)"
   ]
  },
  {
   "cell_type": "code",
   "execution_count": 6,
   "id": "4d64fabd",
   "metadata": {},
   "outputs": [
    {
     "ename": "AttributeError",
     "evalue": "'QuerySet' object has no attribute 'name'",
     "output_type": "error",
     "traceback": [
      "\u001b[0;31m---------------------------------------------------------------------------\u001b[0m",
      "\u001b[0;31mAttributeError\u001b[0m                            Traceback (most recent call last)",
      "Cell \u001b[0;32mIn[6], line 1\u001b[0m\n\u001b[0;32m----> 1\u001b[0m \u001b[43mContract\u001b[49m\u001b[38;5;241;43m.\u001b[39;49m\u001b[43mobjects\u001b[49m\u001b[38;5;241;43m.\u001b[39;49m\u001b[43mfilter\u001b[49m\u001b[43m(\u001b[49m\u001b[43mRental___user_id\u001b[49m\u001b[38;5;241;43m=\u001b[39;49m\u001b[38;5;241;43m5\u001b[39;49m\u001b[43m)\u001b[49m\u001b[38;5;241;43m.\u001b[39;49m\u001b[43mvalues\u001b[49m\u001b[43m(\u001b[49m\u001b[38;5;124;43m\"\u001b[39;49m\u001b[38;5;124;43mrental__gala__uid\u001b[39;49m\u001b[38;5;124;43m\"\u001b[39;49m\u001b[43m,\u001b[49m\u001b[38;5;124;43m\"\u001b[39;49m\u001b[38;5;124;43mrental__gala__warehouse__uid\u001b[39;49m\u001b[38;5;124;43m\"\u001b[39;49m\u001b[43m)\u001b[49m\u001b[38;5;241;43m.\u001b[39;49m\u001b[43mannotate\u001b[49m\u001b[43m(\u001b[49m\n\u001b[1;32m      2\u001b[0m \u001b[43m    \u001b[49m\u001b[43mtotal_leave_request\u001b[49m\u001b[43m \u001b[49m\u001b[38;5;241;43m=\u001b[39;49m\u001b[43m \u001b[49m\u001b[43mLeaveGalaRequest\u001b[49m\u001b[38;5;241;43m.\u001b[39;49m\u001b[43mobjects\u001b[49m\u001b[38;5;241;43m.\u001b[39;49m\u001b[43mall\u001b[49m\u001b[43m(\u001b[49m\u001b[43m)\u001b[49m\u001b[38;5;241;43m.\u001b[39;49m\u001b[43mvalues\u001b[49m\u001b[43m(\u001b[49m\u001b[38;5;124;43m\"\u001b[39;49m\u001b[38;5;124;43muser_id\u001b[39;49m\u001b[38;5;124;43m\"\u001b[39;49m\u001b[43m)\u001b[49m\u001b[38;5;241;43m.\u001b[39;49m\u001b[43mannotate\u001b[49m\u001b[43m(\u001b[49m\n\u001b[1;32m      3\u001b[0m \u001b[43m    \u001b[49m\u001b[43mtotal_leave_request\u001b[49m\u001b[43m \u001b[49m\u001b[38;5;241;43m=\u001b[39;49m\u001b[43m \u001b[49m\u001b[43mCount\u001b[49m\u001b[43m(\u001b[49m\u001b[38;5;124;43m\"\u001b[39;49m\u001b[38;5;124;43mid\u001b[39;49m\u001b[38;5;124;43m\"\u001b[39;49m\u001b[43m)\u001b[49m\n\u001b[1;32m      4\u001b[0m \u001b[43m    \u001b[49m\u001b[43m)\u001b[49m\n\u001b[1;32m      5\u001b[0m \u001b[43m)\u001b[49m\n",
      "File \u001b[0;32m~/Desktop/Omkar-Development/venv/lib/python3.11/site-packages/polymorphic/query.py:310\u001b[0m, in \u001b[0;36mPolymorphicQuerySet.annotate\u001b[0;34m(self, *args, **kwargs)\u001b[0m\n\u001b[1;32m    307\u001b[0m \u001b[38;5;28;01mdef\u001b[39;00m \u001b[38;5;21mannotate\u001b[39m(\u001b[38;5;28mself\u001b[39m, \u001b[38;5;241m*\u001b[39margs, \u001b[38;5;241m*\u001b[39m\u001b[38;5;241m*\u001b[39mkwargs):\n\u001b[1;32m    308\u001b[0m     \u001b[38;5;124;03m\"\"\"translate the polymorphic field paths in the kwargs, then call vanilla annotate.\u001b[39;00m\n\u001b[1;32m    309\u001b[0m \u001b[38;5;124;03m    _get_real_instances will do the rest of the job after executing the query.\"\"\"\u001b[39;00m\n\u001b[0;32m--> 310\u001b[0m     \u001b[38;5;28;43mself\u001b[39;49m\u001b[38;5;241;43m.\u001b[39;49m\u001b[43m_process_aggregate_args\u001b[49m\u001b[43m(\u001b[49m\u001b[43margs\u001b[49m\u001b[43m,\u001b[49m\u001b[43m \u001b[49m\u001b[43mkwargs\u001b[49m\u001b[43m)\u001b[49m\n\u001b[1;32m    311\u001b[0m     \u001b[38;5;28;01mreturn\u001b[39;00m \u001b[38;5;28msuper\u001b[39m()\u001b[38;5;241m.\u001b[39mannotate(\u001b[38;5;241m*\u001b[39margs, \u001b[38;5;241m*\u001b[39m\u001b[38;5;241m*\u001b[39mkwargs)\n",
      "File \u001b[0;32m~/Desktop/Omkar-Development/venv/lib/python3.11/site-packages/polymorphic/query.py:305\u001b[0m, in \u001b[0;36mPolymorphicQuerySet._process_aggregate_args\u001b[0;34m(self, args, kwargs)\u001b[0m\n\u001b[1;32m    303\u001b[0m     test___lookup(a)\n\u001b[1;32m    304\u001b[0m \u001b[38;5;28;01mfor\u001b[39;00m a \u001b[38;5;129;01min\u001b[39;00m kwargs\u001b[38;5;241m.\u001b[39mvalues():\n\u001b[0;32m--> 305\u001b[0m     \u001b[43mpatch_lookup\u001b[49m\u001b[43m(\u001b[49m\u001b[43ma\u001b[49m\u001b[43m)\u001b[49m\n",
      "File \u001b[0;32m~/Desktop/Omkar-Development/venv/lib/python3.11/site-packages/polymorphic/query.py:276\u001b[0m, in \u001b[0;36mPolymorphicQuerySet._process_aggregate_args.<locals>.patch_lookup\u001b[0;34m(a)\u001b[0m\n\u001b[1;32m    274\u001b[0m             patch_lookup(source_expression)\n\u001b[1;32m    275\u001b[0m \u001b[38;5;28;01melse\u001b[39;00m:\n\u001b[0;32m--> 276\u001b[0m     a\u001b[38;5;241m.\u001b[39mname \u001b[38;5;241m=\u001b[39m translate_polymorphic_field_path(\u001b[38;5;28mself\u001b[39m\u001b[38;5;241m.\u001b[39mmodel, \u001b[43ma\u001b[49m\u001b[38;5;241;43m.\u001b[39;49m\u001b[43mname\u001b[49m)\n",
      "\u001b[0;31mAttributeError\u001b[0m: 'QuerySet' object has no attribute 'name'"
     ]
    }
   ],
   "source": [
    "Contract.objects.filter(Rental___user_id=5)"
   ]
  },
  {
   "cell_type": "code",
   "execution_count": 7,
   "id": "8e92779b",
   "metadata": {},
   "outputs": [
    {
     "data": {
      "text/plain": [
       "<PolymorphicQuerySet [{'rental_count': 1}, {'rental_count': 1}, {'rental_count': 1}, {'rental_count': 1}, {'rental_count': 0}, {'rental_count': 0}]>"
      ]
     },
     "execution_count": 7,
     "metadata": {},
     "output_type": "execute_result"
    }
   ],
   "source": [
    "Contract.objects.all().annotate(rental_count=Count('rental')).values('rental_count')"
   ]
  },
  {
   "cell_type": "code",
   "execution_count": 32,
   "id": "94223e3a",
   "metadata": {},
   "outputs": [
    {
     "data": {
      "text/plain": [
       "<PolymorphicQuerySet [{'gala__warehouse__uid': UUID('1ce2e3e4-e0fe-4afa-89eb-ce7c9389c00b'), 'gala__uid': UUID('3a686b64-fccc-432f-a331-03221a7f98de')}, {'gala__warehouse__uid': UUID('89e8ebf7-9e21-4300-aa03-5a96f419e498'), 'gala__uid': UUID('32e6167c-5fab-4268-a26f-1547b94ceba4')}, {'gala__warehouse__uid': UUID('690385b0-0e94-445a-b448-a18781846984'), 'gala__uid': UUID('7f635838-6e08-4dce-89e8-572f1d723dac')}, {'gala__warehouse__uid': UUID('690385b0-0e94-445a-b448-a18781846984'), 'gala__uid': UUID('16b2b643-811b-4828-9a84-d41e957fca3d')}]>"
      ]
     },
     "execution_count": 32,
     "metadata": {},
     "output_type": "execute_result"
    }
   ],
   "source": [
    "get_rental_gala"
   ]
  },
  {
   "cell_type": "code",
   "execution_count": null,
   "id": "fa9d95ec",
   "metadata": {},
   "outputs": [],
   "source": []
  },
  {
   "cell_type": "code",
   "execution_count": null,
   "id": "85aa7aa7",
   "metadata": {},
   "outputs": [],
   "source": []
  },
  {
   "cell_type": "code",
   "execution_count": 87,
   "id": "54f0a663",
   "metadata": {},
   "outputs": [],
   "source": [
    "get_property = Property.objects.filter(\n",
    "    company__name__iexact = \"Omkar\",is_allotted_to_farmer=False\n",
    ").values(\"uid\",\"property_name\").annotate(\n",
    "    total_galas = Gala.objects.filter(\n",
    "        Q(is_allotted = True)|Q(is_allotted_to_rental = True),\n",
    "        warehouse__uid=OuterRef(\"uid\")).values(\"warehouse__uid\").annotate(\n",
    "        total_galas=ExpressionWrapper(\n",
    "                Count(\"id\"),\n",
    "                output_field=IntegerField()\n",
    "            )\n",
    ").values(\"total_galas\"))"
   ]
  },
  {
   "cell_type": "code",
   "execution_count": 58,
   "id": "6c1c4478",
   "metadata": {},
   "outputs": [
    {
     "data": {
      "text/plain": [
       "<QuerySet [{'uid': UUID('5da14365-5149-405b-bd13-409515e7670a'), 'property_name': 'Omkar Warehouse 4', 'total_galas': None}, {'uid': UUID('1ce2e3e4-e0fe-4afa-89eb-ce7c9389c00b'), 'property_name': 'Omkar Warehouse 3', 'total_galas': 1}]>"
      ]
     },
     "execution_count": 58,
     "metadata": {},
     "output_type": "execute_result"
    }
   ],
   "source": [
    "get_property"
   ]
  },
  {
   "cell_type": "code",
   "execution_count": 27,
   "id": "4f5753d7",
   "metadata": {},
   "outputs": [
    {
     "data": {
      "text/plain": [
       "<QuerySet [<Gala: OM3/1>, <Gala: 12>, <Gala: 2>, <Gala: 1>]>"
      ]
     },
     "execution_count": 27,
     "metadata": {},
     "output_type": "execute_result"
    }
   ],
   "source": [
    "Gala.objects.filter(Q(is_allotted = True)|Q(is_allotted_to_rental = True),warehouse__uid=OuterRef(\"uid\"))"
   ]
  },
  {
   "cell_type": "code",
   "execution_count": null,
   "id": "26e1c43e",
   "metadata": {},
   "outputs": [],
   "source": [
    ")"
   ]
  },
  {
   "cell_type": "code",
   "execution_count": null,
   "id": "6767cf56",
   "metadata": {},
   "outputs": [],
   "source": [
    "sdklthg"
   ]
  },
  {
   "cell_type": "code",
   "execution_count": 113,
   "id": "1d74f0b3",
   "metadata": {},
   "outputs": [],
   "source": [
    "get_property = Property.objects.filter(\n",
    "    company__name__iexact = \"Omkar\",is_allotted_to_farmer=False\n",
    ").values(\"uid\",\"property_name\").annotate(\n",
    "    total_galas = Gala.objects.filter(\n",
    "        Q(is_allotted = True)|Q(is_allotted_to_rental = True),\n",
    "        warehouse__uid=OuterRef(\"uid\")).values(\"warehouse__uid\").annotate(\n",
    "        total_galas=ExpressionWrapper(\n",
    "                functions.Coalesce(Count(\"id\"),0),\n",
    "                output_field=IntegerField(),\n",
    "            )\n",
    ").values(\"total_galas\")).annotate(\n",
    "    total_number_of_galas = Gala.objects.filter(\n",
    "        is_allotted = False,is_allotted_to_rental = False,\n",
    "        warehouse__uid=OuterRef(\"uid\")).values(\"warehouse__uid\").annotate(\n",
    "        total_number_of_galas=ExpressionWrapper(\n",
    "                functions.Coalesce(Count(\"id\"),0),\n",
    "                output_field=IntegerField(),\n",
    "            )\n",
    ").values(\"total_number_of_galas\")).filter(total_galas__isnull = True,total_number_of_galas__gte = 1)"
   ]
  },
  {
   "cell_type": "code",
   "execution_count": 114,
   "id": "173d409c",
   "metadata": {},
   "outputs": [
    {
     "data": {
      "text/plain": [
       "<QuerySet [{'uid': UUID('5da14365-5149-405b-bd13-409515e7670a'), 'property_name': 'Omkar Warehouse 4', 'total_galas': None, 'total_number_of_galas': 1}]>"
      ]
     },
     "execution_count": 114,
     "metadata": {},
     "output_type": "execute_result"
    }
   ],
   "source": [
    "get_property"
   ]
  },
  {
   "cell_type": "code",
   "execution_count": 3,
   "id": "6023875e",
   "metadata": {},
   "outputs": [],
   "source": [
    "get_company_instance = Company.objects.filter(\n",
    "            name = \"Omkar\"\n",
    "            ).values(\"uid\",\"name\").annotate(\n",
    "            total_warehouse_count = Property.objects.filter(\n",
    "                company__uid = OuterRef(\"uid\")\n",
    "                ).values(\"id\").annotate(total_warehouse_count = Count(\"id\")).values(\"total_warehouse_count\"),\n",
    "            total_gala_count = Gala.objects.filter(warehouse__company__uid = OuterRef(\"uid\")\n",
    "            ).values(\"warehouse__company__uid\").annotate(total_gala_count=Count(\"id\")).values(\"total_gala_count\"),\n",
    "            total_rental_count = Rental.objects.filter(belong_to__uid = OuterRef(\"uid\")\n",
    "            ).values(\"belong_to__uid\").annotate(total_rental_count=Count(\"id\")).values(\"total_rental_count\"),\n",
    "            total_investor_count = Investor.objects.filter(belong_to__uid = OuterRef(\"uid\")\n",
    "            ).values(\"belong_to__uid\").annotate(total_investor_count=Count(\"id\")).values(\"total_investor_count\"),\n",
    "            total_farmer_count = Farmer.objects.filter(belong_to__uid = OuterRef(\"uid\")\n",
    "            ).values(\"belong_to__uid\").annotate(total_farmer_count=Count(\"id\")).values(\"total_farmer_count\"),\n",
    "            total_remaining_gala_count = Gala.objects.filter(warehouse__company__uid=OuterRef(\"uid\"),\n",
    "          is_allotted_to_farmer=False,\n",
    "          is_allotted_to_rental=False,\n",
    "          is_allotted=False\n",
    "            ).values(\"warehouse__company__uid\"\n",
    "                ).annotate(total_remaining_gala_count=Count(\"id\")\n",
    "                                                ).values(\"total_remaining_gala_count\")\n",
    ")"
   ]
  },
  {
   "cell_type": "code",
   "execution_count": 86,
   "id": "176395d8",
   "metadata": {},
   "outputs": [
    {
     "data": {
      "text/plain": [
       "<QuerySet [{'uid': UUID('e39f63e5-950c-4144-9184-ca9ba40239cd'), 'name': 'Omkar', 'total_warehouse_count': 1, 'total_gala_count': 8, 'total_rental_count': 1, 'total_investor_count': 1, 'total_farmer_count': 1, 'total_remaining_gala_count': 2}]>"
      ]
     },
     "execution_count": 86,
     "metadata": {},
     "output_type": "execute_result"
    }
   ],
   "source": [
    "get_company_instance"
   ]
  },
  {
   "cell_type": "code",
   "execution_count": 87,
   "id": "0f21354c",
   "metadata": {},
   "outputs": [
    {
     "data": {
      "text/plain": [
       "<QuerySet [{'total_gala': 8}]>"
      ]
     },
     "execution_count": 87,
     "metadata": {},
     "output_type": "execute_result"
    }
   ],
   "source": [
    "Gala.objects.filter(warehouse__company__name=\"Omkar\").values(\"warehouse__company__uid\").annotate(total_gala=Count(\"id\")).values(\"total_gala\")"
   ]
  },
  {
   "cell_type": "code",
   "execution_count": 88,
   "id": "5bc7e4a1",
   "metadata": {},
   "outputs": [],
   "source": [
    "property_qs = Property.objects.filter(\n",
    "            company__name__iexact = \"Omkar\",\n",
    "            is_allotted_to_farmer=False,\n",
    ").values(\"uid\",\"property_name\",\"is_allotted_to_farmer\",\"get_gala__is_allotted\",\"get_gala__is_allotted_to_rental\",\"get_gala__is_allotted_to_farmer\")"
   ]
  },
  {
   "cell_type": "code",
   "execution_count": 89,
   "id": "f8053500",
   "metadata": {},
   "outputs": [
    {
     "data": {
      "text/plain": [
       "<QuerySet [{'uid': UUID('5da14365-5149-405b-bd13-409515e7670a'), 'property_name': 'Omkar Warehouse 4', 'is_allotted_to_farmer': False, 'get_gala__is_allotted': False, 'get_gala__is_allotted_to_rental': False, 'get_gala__is_allotted_to_farmer': False}, {'uid': UUID('1ce2e3e4-e0fe-4afa-89eb-ce7c9389c00b'), 'property_name': 'Omkar Warehouse 3', 'is_allotted_to_farmer': False, 'get_gala__is_allotted': False, 'get_gala__is_allotted_to_rental': True, 'get_gala__is_allotted_to_farmer': False}, {'uid': UUID('1ce2e3e4-e0fe-4afa-89eb-ce7c9389c00b'), 'property_name': 'Omkar Warehouse 3', 'is_allotted_to_farmer': False, 'get_gala__is_allotted': False, 'get_gala__is_allotted_to_rental': False, 'get_gala__is_allotted_to_farmer': False}]>"
      ]
     },
     "execution_count": 89,
     "metadata": {},
     "output_type": "execute_result"
    }
   ],
   "source": [
    "property_qs"
   ]
  },
  {
   "cell_type": "code",
   "execution_count": 113,
   "id": "29d10706",
   "metadata": {},
   "outputs": [],
   "source": [
    "from django_pandas.io import read_frame"
   ]
  },
  {
   "cell_type": "code",
   "execution_count": 114,
   "id": "577ad08b",
   "metadata": {},
   "outputs": [],
   "source": [
    "df = read_frame(property_qs)"
   ]
  },
  {
   "cell_type": "code",
   "execution_count": 115,
   "id": "499e0386",
   "metadata": {},
   "outputs": [
    {
     "data": {
      "text/html": [
       "<div>\n",
       "<style scoped>\n",
       "    .dataframe tbody tr th:only-of-type {\n",
       "        vertical-align: middle;\n",
       "    }\n",
       "\n",
       "    .dataframe tbody tr th {\n",
       "        vertical-align: top;\n",
       "    }\n",
       "\n",
       "    .dataframe thead th {\n",
       "        text-align: right;\n",
       "    }\n",
       "</style>\n",
       "<table border=\"1\" class=\"dataframe\">\n",
       "  <thead>\n",
       "    <tr style=\"text-align: right;\">\n",
       "      <th></th>\n",
       "      <th>uid</th>\n",
       "      <th>property_name</th>\n",
       "      <th>is_allotted_to_farmer</th>\n",
       "      <th>get_gala__is_allotted</th>\n",
       "      <th>get_gala__is_allotted_to_rental</th>\n",
       "      <th>get_gala__is_allotted_to_farmer</th>\n",
       "    </tr>\n",
       "  </thead>\n",
       "  <tbody>\n",
       "    <tr>\n",
       "      <th>0</th>\n",
       "      <td>5da14365-5149-405b-bd13-409515e7670a</td>\n",
       "      <td>Omkar Warehouse 4</td>\n",
       "      <td>False</td>\n",
       "      <td>False</td>\n",
       "      <td>False</td>\n",
       "      <td>False</td>\n",
       "    </tr>\n",
       "    <tr>\n",
       "      <th>1</th>\n",
       "      <td>1ce2e3e4-e0fe-4afa-89eb-ce7c9389c00b</td>\n",
       "      <td>Omkar Warehouse 3</td>\n",
       "      <td>False</td>\n",
       "      <td>False</td>\n",
       "      <td>True</td>\n",
       "      <td>False</td>\n",
       "    </tr>\n",
       "    <tr>\n",
       "      <th>2</th>\n",
       "      <td>1ce2e3e4-e0fe-4afa-89eb-ce7c9389c00b</td>\n",
       "      <td>Omkar Warehouse 3</td>\n",
       "      <td>False</td>\n",
       "      <td>False</td>\n",
       "      <td>False</td>\n",
       "      <td>False</td>\n",
       "    </tr>\n",
       "  </tbody>\n",
       "</table>\n",
       "</div>"
      ],
      "text/plain": [
       "                                    uid      property_name  \\\n",
       "0  5da14365-5149-405b-bd13-409515e7670a  Omkar Warehouse 4   \n",
       "1  1ce2e3e4-e0fe-4afa-89eb-ce7c9389c00b  Omkar Warehouse 3   \n",
       "2  1ce2e3e4-e0fe-4afa-89eb-ce7c9389c00b  Omkar Warehouse 3   \n",
       "\n",
       "   is_allotted_to_farmer  get_gala__is_allotted  \\\n",
       "0                  False                  False   \n",
       "1                  False                  False   \n",
       "2                  False                  False   \n",
       "\n",
       "   get_gala__is_allotted_to_rental  get_gala__is_allotted_to_farmer  \n",
       "0                            False                            False  \n",
       "1                             True                            False  \n",
       "2                            False                            False  "
      ]
     },
     "execution_count": 115,
     "metadata": {},
     "output_type": "execute_result"
    }
   ],
   "source": [
    "df"
   ]
  },
  {
   "cell_type": "code",
   "execution_count": 116,
   "id": "c9e6b1ac",
   "metadata": {},
   "outputs": [],
   "source": [
    "filt = (df['get_gala__is_allotted_to_rental'] == True) | (df['get_gala__is_allotted'] == True)"
   ]
  },
  {
   "cell_type": "code",
   "execution_count": 118,
   "id": "40a42f0f",
   "metadata": {},
   "outputs": [],
   "source": [
    "new_df = df.loc[filt]"
   ]
  },
  {
   "cell_type": "code",
   "execution_count": 120,
   "id": "591ff58a",
   "metadata": {},
   "outputs": [
    {
     "data": {
      "text/plain": [
       "array(['Omkar Warehouse 3'], dtype=object)"
      ]
     },
     "execution_count": 120,
     "metadata": {},
     "output_type": "execute_result"
    }
   ],
   "source": []
  },
  {
   "cell_type": "code",
   "execution_count": 125,
   "id": "28495b43",
   "metadata": {},
   "outputs": [],
   "source": [
    "f2=df[~df['property_name'].isin(new_df['property_name'].unique())]"
   ]
  },
  {
   "cell_type": "code",
   "execution_count": 126,
   "id": "4925fdd1",
   "metadata": {},
   "outputs": [
    {
     "data": {
      "text/html": [
       "<div>\n",
       "<style scoped>\n",
       "    .dataframe tbody tr th:only-of-type {\n",
       "        vertical-align: middle;\n",
       "    }\n",
       "\n",
       "    .dataframe tbody tr th {\n",
       "        vertical-align: top;\n",
       "    }\n",
       "\n",
       "    .dataframe thead th {\n",
       "        text-align: right;\n",
       "    }\n",
       "</style>\n",
       "<table border=\"1\" class=\"dataframe\">\n",
       "  <thead>\n",
       "    <tr style=\"text-align: right;\">\n",
       "      <th></th>\n",
       "      <th>uid</th>\n",
       "      <th>property_name</th>\n",
       "      <th>is_allotted_to_farmer</th>\n",
       "      <th>get_gala__is_allotted</th>\n",
       "      <th>get_gala__is_allotted_to_rental</th>\n",
       "      <th>get_gala__is_allotted_to_farmer</th>\n",
       "    </tr>\n",
       "  </thead>\n",
       "  <tbody>\n",
       "    <tr>\n",
       "      <th>0</th>\n",
       "      <td>5da14365-5149-405b-bd13-409515e7670a</td>\n",
       "      <td>Omkar Warehouse 4</td>\n",
       "      <td>False</td>\n",
       "      <td>False</td>\n",
       "      <td>False</td>\n",
       "      <td>False</td>\n",
       "    </tr>\n",
       "  </tbody>\n",
       "</table>\n",
       "</div>"
      ],
      "text/plain": [
       "                                    uid      property_name  \\\n",
       "0  5da14365-5149-405b-bd13-409515e7670a  Omkar Warehouse 4   \n",
       "\n",
       "   is_allotted_to_farmer  get_gala__is_allotted  \\\n",
       "0                  False                  False   \n",
       "\n",
       "   get_gala__is_allotted_to_rental  get_gala__is_allotted_to_farmer  \n",
       "0                            False                            False  "
      ]
     },
     "execution_count": 126,
     "metadata": {},
     "output_type": "execute_result"
    }
   ],
   "source": [
    "f2"
   ]
  },
  {
   "cell_type": "code",
   "execution_count": 131,
   "id": "7fcd78bf",
   "metadata": {},
   "outputs": [],
   "source": [
    "f2 = f2.iloc[:,:2]"
   ]
  },
  {
   "cell_type": "code",
   "execution_count": 132,
   "id": "22ce81d0",
   "metadata": {},
   "outputs": [
    {
     "data": {
      "text/html": [
       "<div>\n",
       "<style scoped>\n",
       "    .dataframe tbody tr th:only-of-type {\n",
       "        vertical-align: middle;\n",
       "    }\n",
       "\n",
       "    .dataframe tbody tr th {\n",
       "        vertical-align: top;\n",
       "    }\n",
       "\n",
       "    .dataframe thead th {\n",
       "        text-align: right;\n",
       "    }\n",
       "</style>\n",
       "<table border=\"1\" class=\"dataframe\">\n",
       "  <thead>\n",
       "    <tr style=\"text-align: right;\">\n",
       "      <th></th>\n",
       "      <th>uid</th>\n",
       "      <th>property_name</th>\n",
       "    </tr>\n",
       "  </thead>\n",
       "  <tbody>\n",
       "    <tr>\n",
       "      <th>0</th>\n",
       "      <td>5da14365-5149-405b-bd13-409515e7670a</td>\n",
       "      <td>Omkar Warehouse 4</td>\n",
       "    </tr>\n",
       "  </tbody>\n",
       "</table>\n",
       "</div>"
      ],
      "text/plain": [
       "                                    uid      property_name\n",
       "0  5da14365-5149-405b-bd13-409515e7670a  Omkar Warehouse 4"
      ]
     },
     "execution_count": 132,
     "metadata": {},
     "output_type": "execute_result"
    }
   ],
   "source": [
    "f2"
   ]
  },
  {
   "cell_type": "code",
   "execution_count": 138,
   "id": "dd40d2ac",
   "metadata": {},
   "outputs": [],
   "source": [
    "from django.urls import reverse\n",
    "import urllib\n",
    "def build_url(*args, **kwargs):\n",
    "    get = kwargs.pop('get', {})\n",
    "    url = reverse(*args, **kwargs)\n",
    "    if get:\n",
    "        url += '?' + urllib.parse.urlencode(get)\n",
    "    return url"
   ]
  },
  {
   "cell_type": "code",
   "execution_count": 139,
   "id": "b5716c6d",
   "metadata": {},
   "outputs": [
    {
     "name": "stderr",
     "output_type": "stream",
     "text": [
      "/tmp/ipykernel_16894/1465284221.py:1: SettingWithCopyWarning: \n",
      "A value is trying to be set on a copy of a slice from a DataFrame.\n",
      "Try using .loc[row_indexer,col_indexer] = value instead\n",
      "\n",
      "See the caveats in the documentation: https://pandas.pydata.org/pandas-docs/stable/user_guide/indexing.html#returning-a-view-versus-a-copy\n",
      "  f2[\"warehouse_gala\"] = f2['uid'].apply(lambda x : build_url(\"get-owner-warehouse-galas\",get={\"company_type\":\"Omkar\"},kwargs={\"uuid\":x}))\n"
     ]
    }
   ],
   "source": [
    "f2[\"warehouse_gala\"] = f2['uid'].apply(lambda x : build_url(\"get-owner-warehouse-galas\",get={\"company_type\":\"Omkar\"},kwargs={\"uuid\":x}))"
   ]
  },
  {
   "cell_type": "code",
   "execution_count": 142,
   "id": "2a708033",
   "metadata": {},
   "outputs": [
    {
     "data": {
      "text/plain": [
       "dict_values([{'uid': UUID('5da14365-5149-405b-bd13-409515e7670a'), 'property_name': 'Omkar Warehouse 4', 'warehouse_gala': '/admin-api/get-owner-warehouse-galas/5da14365-5149-405b-bd13-409515e7670a/?company_type=Omkar'}])"
      ]
     },
     "execution_count": 142,
     "metadata": {},
     "output_type": "execute_result"
    }
   ],
   "source": [
    "f2.to_dict(\"index\").values()"
   ]
  },
  {
   "cell_type": "code",
   "execution_count": null,
   "id": "f18e84a3",
   "metadata": {},
   "outputs": [],
   "source": []
  }
 ],
 "metadata": {
  "kernelspec": {
   "display_name": "Python 3 (ipykernel)",
   "language": "python",
   "name": "python3"
  },
  "language_info": {
   "codemirror_mode": {
    "name": "ipython",
    "version": 3
   },
   "file_extension": ".py",
   "mimetype": "text/x-python",
   "name": "python",
   "nbconvert_exporter": "python",
   "pygments_lexer": "ipython3",
   "version": "3.11.0rc1"
  }
 },
 "nbformat": 4,
 "nbformat_minor": 5
}
