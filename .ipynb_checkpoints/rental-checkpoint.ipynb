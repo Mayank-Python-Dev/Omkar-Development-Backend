{
 "cells": [
  {
   "cell_type": "code",
   "execution_count": 3,
   "id": "d8f3678d",
   "metadata": {},
   "outputs": [],
   "source": [
    "import os\n",
    "import django\n",
    "os.environ.setdefault('DJANGO_SETTINGS_MODULE', 'omkar_proj.settings')\n",
    "os.environ[\"DJANGO_ALLOW_ASYNC_UNSAFE\"] = \"true\"\n",
    "django.setup()"
   ]
  },
  {
   "cell_type": "code",
   "execution_count": 4,
   "id": "039e5d7d",
   "metadata": {},
   "outputs": [],
   "source": [
    "from contract.models import (\n",
    "    Rental as ContractRental\n",
    ")\n",
    "from account.models import (\n",
    "    Rental\n",
    ")\n",
    "from warehouse.models import (\n",
    "    Gala,\n",
    "    Property\n",
    ")\n",
    "# from django_pandas.io import read_frame"
   ]
  },
  {
   "cell_type": "code",
   "execution_count": null,
   "id": "e7a9ea5b",
   "metadata": {
    "scrolled": true
   },
   "outputs": [],
   "source": []
  },
  {
   "cell_type": "code",
   "execution_count": 3,
   "id": "0271ea65",
   "metadata": {},
   "outputs": [],
   "source": [
    "# Rental.objects.get(id=5).user"
   ]
  },
  {
   "cell_type": "code",
   "execution_count": 4,
   "id": "c5db0a8d",
   "metadata": {},
   "outputs": [],
   "source": [
    "from django.db.models import Count, OuterRef,Sum,Value,IntegerField"
   ]
  },
  {
   "cell_type": "code",
   "execution_count": null,
   "id": "d9928315",
   "metadata": {},
   "outputs": [],
   "source": []
  },
  {
   "cell_type": "code",
   "execution_count": 5,
   "id": "f6448b01",
   "metadata": {},
   "outputs": [],
   "source": [
    "# ContractRental.objects.filter(user_id=5).values(\"id\").annotate(number_of_gala = )"
   ]
  },
  {
   "cell_type": "code",
   "execution_count": 6,
   "id": "513aec0d",
   "metadata": {},
   "outputs": [],
   "source": [
    "# total_number_of_galas=Gala.objects.filter(\n",
    "#     warehouse__uid=OuterRef(\"uid\")\n",
    "# ).values('warehouse__uid').annotate(\n",
    "#     total_number_of_galas=Count(\"id\")\n",
    "# ).values(\"total_number_of_galas\")"
   ]
  },
  {
   "cell_type": "code",
   "execution_count": 7,
   "id": "453be961",
   "metadata": {},
   "outputs": [],
   "source": [
    "# ContractRental.objects.filter(user_id = 5).values(\"id\").annotate(number_of_galas)"
   ]
  },
  {
   "cell_type": "code",
   "execution_count": 8,
   "id": "adf7eada",
   "metadata": {},
   "outputs": [
    {
     "data": {
      "text/plain": [
       "<PolymorphicQuerySet [{'total_number_of_galas': 4}]>"
      ]
     },
     "execution_count": 8,
     "metadata": {},
     "output_type": "execute_result"
    }
   ],
   "source": [
    "ContractRental.objects.filter(user_id = 5).values(\"user__user_uid\").annotate(total_number_of_galas = Count(\"user__user_uid\")).values(\"total_number_of_galas\")"
   ]
  },
  {
   "cell_type": "code",
   "execution_count": 9,
   "id": "7ae529f0",
   "metadata": {},
   "outputs": [
    {
     "data": {
      "text/plain": [
       "<QuerySet [{'user_uid': UUID('dfef7ec8-d0fe-4e9f-abb1-16187c184320'), 'username': 'Mayank', 'total_number_of_galas': 1}, {'user_uid': UUID('51f9c7eb-8f1b-4fcc-9124-58831235d387'), 'username': 'snappy-cardinal-argentino', 'total_number_of_galas': 4}, {'user_uid': UUID('1df8502b-66a6-4486-ae21-7e19c3e7bd0a'), 'username': 'randy-crimson-caracal', 'total_number_of_galas': 1}, {'user_uid': UUID('4acd799f-7f94-42de-9b6d-1e80b5c5e6b3'), 'username': 'cloudy-champagne-zebu', 'total_number_of_galas': None}, {'user_uid': UUID('21cc2354-694b-44fd-b9cb-659f1117ac55'), 'username': 'slimy-platinum-tapir', 'total_number_of_galas': None}, {'user_uid': UUID('0fccdc06-c2e6-45b2-9b91-0100b976e6d3'), 'username': 'squirrely-razzmatazz-moose', 'total_number_of_galas': None}, {'user_uid': UUID('e7b74f37-29df-4650-b622-7b56626bcdd8'), 'username': 'tasty-platinum-hyrax', 'total_number_of_galas': None}, {'user_uid': UUID('4e16d99b-f073-471e-b51d-cadedf7a2456'), 'username': 'nerdy-crimson-frise', 'total_number_of_galas': None}, {'user_uid': UUID('6c8ad82d-2efd-4340-8be4-1225a10aa1f0'), 'username': 'hasty-puce-oyster', 'total_number_of_galas': None}, {'user_uid': UUID('b749ae76-f68d-4a05-97c5-efa48d6c3be4'), 'username': 'jumpy-maroon-mist', 'total_number_of_galas': None}, {'user_uid': UUID('8fd78262-8698-4425-8c7f-bb177a4b74df'), 'username': 'freaky-crimson-dodo', 'total_number_of_galas': None}, {'user_uid': UUID('86f5dfae-cd58-4a64-a1fe-9348d621dd6e'), 'username': 'chummy-magnolia-quoll', 'total_number_of_galas': None}, {'user_uid': UUID('2d200190-5494-42a3-8c10-c1013079d8e5'), 'username': 'boozy-turquoise-antelope', 'total_number_of_galas': None}, {'user_uid': UUID('fa3c91d6-ea46-483a-9daa-6dcb1d86a085'), 'username': 'snippy-cinnamon-cheetah', 'total_number_of_galas': None}, {'user_uid': UUID('f55889f2-9759-496a-829a-5ae676cc67b0'), 'username': 'chewy-yellow-millipede', 'total_number_of_galas': None}, {'user_uid': UUID('1f38c84f-21b2-4d52-967f-b42c1a1f1966'), 'username': 'wimpy-pear-badger', 'total_number_of_galas': None}, {'user_uid': UUID('0898e1a1-96d6-4e93-be26-2eaf02177946'), 'username': 'nippy-flax-panda', 'total_number_of_galas': None}, {'user_uid': UUID('8489a286-72ee-4bb9-b9a1-9795f570d471'), 'username': 'snoopy-corn-mandrill', 'total_number_of_galas': None}, {'user_uid': UUID('76663926-eec2-496e-997a-fa056db8e69a'), 'username': 'skanky-rust-capuchin', 'total_number_of_galas': None}, {'user_uid': UUID('89d5a564-fcbd-4107-b835-0516666ff2e0'), 'username': 'lovely-burgundy-shrimp', 'total_number_of_galas': None}, '...(remaining elements truncated)...']>"
      ]
     },
     "execution_count": 9,
     "metadata": {},
     "output_type": "execute_result"
    }
   ],
   "source": [
    "Rental.objects.filter(belong_to__name=\"Omkar\").values(\n",
    "    \"user_uid\",\"username\"\n",
    ").annotate(\n",
    "    total_number_of_galas = ContractRental.objects.filter(\n",
    "        user__user_uid = OuterRef(\"user_uid\")\n",
    "    ).values(\"user__user_uid\").annotate(\n",
    "        total_number_of_galas = Count(\"user__user_uid\")\n",
    "    ).values(\"total_number_of_galas\"),\n",
    ")"
   ]
  },
  {
   "cell_type": "code",
   "execution_count": 10,
   "id": "7b274b95",
   "metadata": {},
   "outputs": [],
   "source": [
    "# rental = Rental.objects.get(id=5)"
   ]
  },
  {
   "cell_type": "code",
   "execution_count": 11,
   "id": "cb497ffd",
   "metadata": {},
   "outputs": [],
   "source": [
    "# rental.belong_to.set([1])"
   ]
  },
  {
   "cell_type": "code",
   "execution_count": 12,
   "id": "b52ca7fd",
   "metadata": {},
   "outputs": [],
   "source": [
    "# rental.save()"
   ]
  },
  {
   "cell_type": "code",
   "execution_count": 13,
   "id": "73c3f504",
   "metadata": {},
   "outputs": [
    {
     "data": {
      "text/plain": [
       "<PolymorphicQuerySet [{'count': 1}, {'count': 1}]>"
      ]
     },
     "execution_count": 13,
     "metadata": {},
     "output_type": "execute_result"
    }
   ],
   "source": [
    "ContractRental.objects.filter(\n",
    "            user_id=5).values('gala__warehouse__uid').annotate(count=Count('gala__warehouse__uid', distinct=True)).values('count')"
   ]
  },
  {
   "cell_type": "code",
   "execution_count": 14,
   "id": "6729f1f4",
   "metadata": {},
   "outputs": [
    {
     "data": {
      "text/plain": [
       "2"
      ]
     },
     "execution_count": 14,
     "metadata": {},
     "output_type": "execute_result"
    }
   ],
   "source": [
    "ContractRental.objects.filter(\n",
    "        user_id = 5\n",
    "    ).values(\n",
    "    \"gala__warehouse__id\",\n",
    "    \"gala__warehouse__property_name\"\n",
    ").order_by(\n",
    "    \"gala__warehouse__id\"\n",
    ").distinct().count()"
   ]
  },
  {
   "cell_type": "code",
   "execution_count": 15,
   "id": "4ac05443",
   "metadata": {},
   "outputs": [
    {
     "data": {
      "text/plain": [
       "<QuerySet [{'user_uid': UUID('dfef7ec8-d0fe-4e9f-abb1-16187c184320'), 'username': 'Mayank', 'total_number_of_galas': 1}, {'user_uid': UUID('51f9c7eb-8f1b-4fcc-9124-58831235d387'), 'username': 'snappy-cardinal-argentino', 'total_number_of_galas': 4}, {'user_uid': UUID('1df8502b-66a6-4486-ae21-7e19c3e7bd0a'), 'username': 'randy-crimson-caracal', 'total_number_of_galas': 1}, {'user_uid': UUID('4acd799f-7f94-42de-9b6d-1e80b5c5e6b3'), 'username': 'cloudy-champagne-zebu', 'total_number_of_galas': None}, {'user_uid': UUID('21cc2354-694b-44fd-b9cb-659f1117ac55'), 'username': 'slimy-platinum-tapir', 'total_number_of_galas': None}, {'user_uid': UUID('0fccdc06-c2e6-45b2-9b91-0100b976e6d3'), 'username': 'squirrely-razzmatazz-moose', 'total_number_of_galas': None}, {'user_uid': UUID('e7b74f37-29df-4650-b622-7b56626bcdd8'), 'username': 'tasty-platinum-hyrax', 'total_number_of_galas': None}, {'user_uid': UUID('4e16d99b-f073-471e-b51d-cadedf7a2456'), 'username': 'nerdy-crimson-frise', 'total_number_of_galas': None}, {'user_uid': UUID('6c8ad82d-2efd-4340-8be4-1225a10aa1f0'), 'username': 'hasty-puce-oyster', 'total_number_of_galas': None}, {'user_uid': UUID('b749ae76-f68d-4a05-97c5-efa48d6c3be4'), 'username': 'jumpy-maroon-mist', 'total_number_of_galas': None}, {'user_uid': UUID('8fd78262-8698-4425-8c7f-bb177a4b74df'), 'username': 'freaky-crimson-dodo', 'total_number_of_galas': None}, {'user_uid': UUID('86f5dfae-cd58-4a64-a1fe-9348d621dd6e'), 'username': 'chummy-magnolia-quoll', 'total_number_of_galas': None}, {'user_uid': UUID('2d200190-5494-42a3-8c10-c1013079d8e5'), 'username': 'boozy-turquoise-antelope', 'total_number_of_galas': None}, {'user_uid': UUID('fa3c91d6-ea46-483a-9daa-6dcb1d86a085'), 'username': 'snippy-cinnamon-cheetah', 'total_number_of_galas': None}, {'user_uid': UUID('f55889f2-9759-496a-829a-5ae676cc67b0'), 'username': 'chewy-yellow-millipede', 'total_number_of_galas': None}, {'user_uid': UUID('1f38c84f-21b2-4d52-967f-b42c1a1f1966'), 'username': 'wimpy-pear-badger', 'total_number_of_galas': None}, {'user_uid': UUID('0898e1a1-96d6-4e93-be26-2eaf02177946'), 'username': 'nippy-flax-panda', 'total_number_of_galas': None}, {'user_uid': UUID('8489a286-72ee-4bb9-b9a1-9795f570d471'), 'username': 'snoopy-corn-mandrill', 'total_number_of_galas': None}, {'user_uid': UUID('76663926-eec2-496e-997a-fa056db8e69a'), 'username': 'skanky-rust-capuchin', 'total_number_of_galas': None}, {'user_uid': UUID('89d5a564-fcbd-4107-b835-0516666ff2e0'), 'username': 'lovely-burgundy-shrimp', 'total_number_of_galas': None}, '...(remaining elements truncated)...']>"
      ]
     },
     "execution_count": 15,
     "metadata": {},
     "output_type": "execute_result"
    }
   ],
   "source": [
    "Rental.objects.filter(belong_to__name=\"Omkar\").values(\"user_uid\",\"username\"\n",
    ").annotate(\n",
    "    total_number_of_galas = ContractRental.objects.filter(\n",
    "        user__user_uid = OuterRef(\"user_uid\")\n",
    "    ).values(\"user__user_uid\").annotate(\n",
    "        total_number_of_galas = Count(\"user__user_uid\")\n",
    "    ).values(\"total_number_of_galas\"),\n",
    "    \n",
    ")"
   ]
  },
  {
   "cell_type": "code",
   "execution_count": 16,
   "id": "b5a1e65c",
   "metadata": {},
   "outputs": [],
   "source": [
    "# get_rental_qs"
   ]
  },
  {
   "cell_type": "code",
   "execution_count": 17,
   "id": "676d8523",
   "metadata": {},
   "outputs": [],
   "source": [
    "# total_number_of_warehouse = "
   ]
  },
  {
   "cell_type": "code",
   "execution_count": 18,
   "id": "637904bd",
   "metadata": {},
   "outputs": [],
   "source": [
    "# total_number_of_warehouse"
   ]
  },
  {
   "cell_type": "code",
   "execution_count": 19,
   "id": "b7a1d8ad",
   "metadata": {},
   "outputs": [],
   "source": [
    "total_number_of_warehouse = ContractRental.objects.filter(\n",
    "                    user_id = 2\n",
    "                ).values(\n",
    "                \"gala__warehouse_id\"\n",
    "                ).order_by(\"gala__warehouse_id\").distinct().annotate(count=Count(\"gala__warehouse_id\"))"
   ]
  },
  {
   "cell_type": "code",
   "execution_count": 20,
   "id": "fd5c068c",
   "metadata": {},
   "outputs": [
    {
     "data": {
      "text/plain": [
       "<PolymorphicQuerySet [{'gala__warehouse_id': 9, 'count': 1}]>"
      ]
     },
     "execution_count": 20,
     "metadata": {},
     "output_type": "execute_result"
    }
   ],
   "source": [
    "total_number_of_warehouse"
   ]
  },
  {
   "cell_type": "code",
   "execution_count": 21,
   "id": "500b5b44",
   "metadata": {},
   "outputs": [],
   "source": [
    "# get_rental_qs = Rental.objects.filter(belong_to__name=\"Omkar\").values(\n",
    "#                 \"id\",\"user_uid\",\"username\"\n",
    "#             ).annotate(\n",
    "#                 total_number_of_galas = ContractRental.objects.filter(\n",
    "#                     user__user_uid = OuterRef(\"user_uid\")\n",
    "#                 ).values(\"user__user_uid\").annotate(\n",
    "#                     total_number_of_galas = Count(\"user__user_uid\")\n",
    "#                 ).values(\"total_number_of_galas\"),\n",
    "#                 total_number_of_warehouse = Value(Property.objects.filter(get_gala__gala_rental_contract_detail__user__user_uid=OuterRef(\"user_uid\")).values(\"property_name\").annotate(count=Count(\"property_name\")).annotate(number_of_warehouse = Case(\n",
    "#                 When(count__gte=1, then=1),\n",
    "#                     output_field=IntegerField(),default=0)).values(\"number_of_warehouse\").aggregate(total_number_of_warehouse = Sum(\"number_of_warehouse\"))['total_number_of_warehouse']\n",
    "#                         ))\n"
   ]
  },
  {
   "cell_type": "code",
   "execution_count": 22,
   "id": "91cbe52d",
   "metadata": {
    "scrolled": true
   },
   "outputs": [],
   "source": [
    "# get_rental_qs"
   ]
  },
  {
   "cell_type": "code",
   "execution_count": 23,
   "id": "53da8e6c",
   "metadata": {},
   "outputs": [],
   "source": [
    "from warehouse.models import (\n",
    "    Property,\n",
    "    Company\n",
    ")\n",
    "from django.db.models import (\n",
    "    Case,\n",
    "    When,\n",
    "    F,\n",
    "    Subquery,\n",
    "    \n",
    ")"
   ]
  },
  {
   "cell_type": "code",
   "execution_count": 24,
   "id": "ad70377d",
   "metadata": {},
   "outputs": [
    {
     "data": {
      "text/plain": [
       "<QuerySet [{'id': 9, 'company__name': 'Omkar', 'count': 2, 'number_of_warehouse': 1}, {'id': 8, 'company__name': 'Omkar', 'count': 2, 'number_of_warehouse': 1}]>"
      ]
     },
     "execution_count": 24,
     "metadata": {},
     "output_type": "execute_result"
    }
   ],
   "source": [
    "Property.objects.filter(get_gala__gala_rental_contract_detail__user_id=5).values(\"id\",\"company__name\").order_by(\"-id\").annotate(count=Count(\"property_name\")).annotate(number_of_warehouse = Case(\n",
    "    When(count__gte=1, then=1),\n",
    "        output_field=IntegerField(),default=0))"
   ]
  },
  {
   "cell_type": "code",
   "execution_count": 25,
   "id": "b3222804",
   "metadata": {},
   "outputs": [],
   "source": [
    "# Property.objects.filter(get_gala__gala_rental_contract_detail__user_id=5).values(\"id\",\"company__name\").distinct().annotate(Count(\"company__name\"))"
   ]
  },
  {
   "cell_type": "code",
   "execution_count": 26,
   "id": "3b7a7fc0",
   "metadata": {},
   "outputs": [],
   "source": [
    "dp = read_frame(ContractRental.objects.filter(user__id = 5).values(\"user__id\",\"user__username\",\"gala__warehouse_id\"))"
   ]
  },
  {
   "cell_type": "code",
   "execution_count": 27,
   "id": "50496fee",
   "metadata": {},
   "outputs": [
    {
     "data": {
      "text/html": [
       "<div>\n",
       "<style scoped>\n",
       "    .dataframe tbody tr th:only-of-type {\n",
       "        vertical-align: middle;\n",
       "    }\n",
       "\n",
       "    .dataframe tbody tr th {\n",
       "        vertical-align: top;\n",
       "    }\n",
       "\n",
       "    .dataframe thead th {\n",
       "        text-align: right;\n",
       "    }\n",
       "</style>\n",
       "<table border=\"1\" class=\"dataframe\">\n",
       "  <thead>\n",
       "    <tr style=\"text-align: right;\">\n",
       "      <th></th>\n",
       "      <th>user__id</th>\n",
       "      <th>user__username</th>\n",
       "      <th>gala__warehouse_id</th>\n",
       "    </tr>\n",
       "  </thead>\n",
       "  <tbody>\n",
       "    <tr>\n",
       "      <th>0</th>\n",
       "      <td>5</td>\n",
       "      <td>snappy-cardinal-argentino</td>\n",
       "      <td>8</td>\n",
       "    </tr>\n",
       "    <tr>\n",
       "      <th>1</th>\n",
       "      <td>5</td>\n",
       "      <td>snappy-cardinal-argentino</td>\n",
       "      <td>8</td>\n",
       "    </tr>\n",
       "    <tr>\n",
       "      <th>2</th>\n",
       "      <td>5</td>\n",
       "      <td>snappy-cardinal-argentino</td>\n",
       "      <td>9</td>\n",
       "    </tr>\n",
       "    <tr>\n",
       "      <th>3</th>\n",
       "      <td>5</td>\n",
       "      <td>snappy-cardinal-argentino</td>\n",
       "      <td>9</td>\n",
       "    </tr>\n",
       "  </tbody>\n",
       "</table>\n",
       "</div>"
      ],
      "text/plain": [
       "   user__id             user__username  gala__warehouse_id\n",
       "0         5  snappy-cardinal-argentino                   8\n",
       "1         5  snappy-cardinal-argentino                   8\n",
       "2         5  snappy-cardinal-argentino                   9\n",
       "3         5  snappy-cardinal-argentino                   9"
      ]
     },
     "execution_count": 27,
     "metadata": {},
     "output_type": "execute_result"
    }
   ],
   "source": [
    "dp"
   ]
  },
  {
   "cell_type": "code",
   "execution_count": 28,
   "id": "5a308bda",
   "metadata": {},
   "outputs": [],
   "source": [
    "pd = ContractRental.objects.filter(user_id = 5\n",
    ").values(\"gala__warehouse_id\").distinct().aggregate(Count(\"gala__warehouse_id\"))"
   ]
  },
  {
   "cell_type": "code",
   "execution_count": null,
   "id": "cf1e6b27",
   "metadata": {},
   "outputs": [],
   "source": []
  },
  {
   "cell_type": "code",
   "execution_count": null,
   "id": "c98464d3",
   "metadata": {},
   "outputs": [],
   "source": []
  },
  {
   "cell_type": "code",
   "execution_count": 29,
   "id": "237ae4fa",
   "metadata": {},
   "outputs": [],
   "source": [
    "# ad = Rental.objects.filter(belong_to__name = \"Omkar\").values(\n",
    "#     \"user_uid\",\"username\").annotate(\n",
    "#     total_number_of_warehouse = Value(ContractRental.objects.filter(user__user_uid = OuterRef(\"user_uid\")).values(\"user__user_uid\").count())\n",
    "#     )\n",
    "\n",
    "\n",
    "\n",
    "# get_ad = read_frame(ad)\n",
    "# get_ad"
   ]
  },
  {
   "cell_type": "code",
   "execution_count": null,
   "id": "23e995b3",
   "metadata": {},
   "outputs": [],
   "source": []
  },
  {
   "cell_type": "code",
   "execution_count": 30,
   "id": "c25208af",
   "metadata": {},
   "outputs": [],
   "source": [
    "# ContractRental.objects.filter(user__belong_to___name = \"Omkar\").values(\n",
    "#     \"user__user_uid\",\"gala__warehouse_id\")\n",
    "\n"
   ]
  },
  {
   "cell_type": "code",
   "execution_count": 31,
   "id": "b2349775",
   "metadata": {},
   "outputs": [
    {
     "data": {
      "text/plain": [
       "<PolymorphicQuerySet [{'user__user_uid': UUID('51f9c7eb-8f1b-4fcc-9124-58831235d387')}, {'user__user_uid': UUID('51f9c7eb-8f1b-4fcc-9124-58831235d387')}, {'user__user_uid': UUID('51f9c7eb-8f1b-4fcc-9124-58831235d387')}, {'user__user_uid': UUID('51f9c7eb-8f1b-4fcc-9124-58831235d387')}, {'user__user_uid': UUID('dfef7ec8-d0fe-4e9f-abb1-16187c184320')}, {'user__user_uid': UUID('1df8502b-66a6-4486-ae21-7e19c3e7bd0a')}]>"
      ]
     },
     "execution_count": 31,
     "metadata": {},
     "output_type": "execute_result"
    }
   ],
   "source": [
    "ContractRental.objects.filter(user__belong_to__name = \"Omkar\").values(\"user__user_uid\")"
   ]
  },
  {
   "cell_type": "code",
   "execution_count": null,
   "id": "9df6cc1c",
   "metadata": {},
   "outputs": [],
   "source": []
  },
  {
   "cell_type": "code",
   "execution_count": 32,
   "id": "bd54989b",
   "metadata": {},
   "outputs": [
    {
     "ename": "SyntaxError",
     "evalue": "invalid syntax (328454236.py, line 1)",
     "output_type": "error",
     "traceback": [
      "\u001b[1;36m  Cell \u001b[1;32mIn[32], line 1\u001b[1;36m\u001b[0m\n\u001b[1;33m    Rental.objects.annotate(total_warehouse_count=)\u001b[0m\n\u001b[1;37m                                                  ^\u001b[0m\n\u001b[1;31mSyntaxError\u001b[0m\u001b[1;31m:\u001b[0m invalid syntax\n"
     ]
    }
   ],
   "source": [
    "Rental.objects.annotate(total_warehouse_count=)"
   ]
  },
  {
   "cell_type": "code",
   "execution_count": null,
   "id": "dade698f",
   "metadata": {},
   "outputs": [],
   "source": [
    "Company.objects.get(name = \"Omkar\").user_set.filter(id=5).prefetch_related(\"rental_contract\").values(\n",
    "    \n",
    "    \"rental_contract__user__username\",\"user_uid\").distinct().annotate(\n",
    "    \n",
    "    total_number_of_warehouse = ContractRental.objects.filter(user__user_uid='51f9c7eb-8f1b-4fcc-9124-58831235d387').values(\"gala__warehouse_id\"\n",
    "                    ).annotate(total_number_of_warehouse = Count(\"gala__warehouse_id\")).values(\"total_number_of_warehouse\"))\n",
    "\n"
   ]
  },
  {
   "cell_type": "code",
   "execution_count": null,
   "id": "12169cca",
   "metadata": {},
   "outputs": [],
   "source": []
  },
  {
   "cell_type": "code",
   "execution_count": null,
   "id": "3bec457b",
   "metadata": {},
   "outputs": [],
   "source": [
    "# .rental_contract.all().values(\"user__username\").count()"
   ]
  },
  {
   "cell_type": "code",
   "execution_count": null,
   "id": "a3841fdc",
   "metadata": {},
   "outputs": [],
   "source": []
  },
  {
   "cell_type": "code",
   "execution_count": null,
   "id": "a5410dd2",
   "metadata": {
    "scrolled": true
   },
   "outputs": [],
   "source": [
    "rental_user = Rental.objects.filter(belong_to__name = \"Omkar\" ).order_by().values(\"user_uid\",\"username\")\n",
    "total_number_of_warehouse = rental_user.annotate(\n",
    "    total_number_of_warehouse = ContractRental.objects.filter(user__user_uid = OuterRef(\"user_uid\")).values(\n",
    "        \"gala__warehouse_id\").annotate(\n",
    "                    total_number_of_warehouse = Count(\"gala__warehouse_id\")).values(\"total_number_of_warehouse\"))\n",
    "total_number_of_warehouse "
   ]
  },
  {
   "cell_type": "code",
<<<<<<< HEAD
   "execution_count": 197,
=======
   "execution_count": null,
>>>>>>> c59c3c9ca1ee91f2ccbe13dfbebd23aeabd48fd2
   "id": "1cb4a965",
   "metadata": {},
   "outputs": [],
   "source": [
    "from django.db.models import Value,Subquery"
   ]
  },
  {
   "cell_type": "code",
<<<<<<< HEAD
   "execution_count": 292,
=======
   "execution_count": null,
>>>>>>> c59c3c9ca1ee91f2ccbe13dfbebd23aeabd48fd2
   "id": "4df21d4b",
   "metadata": {},
   "outputs": [],
   "source": [
    "get_rental_qs = Rental.objects.filter(belong_to__name=\"Omkar\").values(\n",
    "                \"id\",\"user_uid\",\"username\",\"rental_contract__gala__warehouse_id\"\n",
    "            ).annotate(\n",
    "                total_number_of_galas = ContractRental.objects.filter(\n",
    "                    user__user_uid = OuterRef(\"user_uid\")\n",
    "                ).values(\"user__user_uid\").annotate(\n",
    "                    total_number_of_galas = Count(\"user__user_uid\")\n",
    "                ).values(\"total_number_of_galas\"),\n",
    "            ).annotate(total_number_of_warehouse = ContractRental.objects.filter(user__user_uid = OuterRef(\"user_uid\")).values(\n",
    "                \"gala__warehouse_id\").annotate(total_number_of_warehouse = Count(\"gala__warehouse_id\")).values(\"total_number_of_warehouse\").distinct())"
   ]
  },
  {
   "cell_type": "code",
<<<<<<< HEAD
   "execution_count": 293,
=======
   "execution_count": 33,
>>>>>>> c59c3c9ca1ee91f2ccbe13dfbebd23aeabd48fd2
   "id": "acb00865",
   "metadata": {},
   "outputs": [],
   "source": [
    "df = read_frame(get_rental_qs)"
   ]
  },
  {
   "cell_type": "code",
   "execution_count": 294,
   "id": "bef5f988",
   "metadata": {},
   "outputs": [
    {
     "ename": "NameError",
     "evalue": "name 'get_rental_qs' is not defined",
     "output_type": "error",
     "traceback": [
      "\u001b[1;31m---------------------------------------------------------------------------\u001b[0m",
      "\u001b[1;31mNameError\u001b[0m                                 Traceback (most recent call last)",
      "Cell \u001b[1;32mIn[33], line 1\u001b[0m\n\u001b[1;32m----> 1\u001b[0m df \u001b[38;5;241m=\u001b[39m read_frame(\u001b[43mget_rental_qs\u001b[49m)\n",
      "\u001b[1;31mNameError\u001b[0m: name 'get_rental_qs' is not defined"
     ]
    }
   ],
   "source": [
    "df = read_frame(get_rental_qs)"
   ]
  },
  {
   "cell_type": "code",
   "execution_count": 34,
   "id": "bef5f988",
   "metadata": {},
   "outputs": [
    {
     "ename": "NameError",
     "evalue": "name 'df' is not defined",
     "output_type": "error",
     "traceback": [
      "\u001b[1;31m---------------------------------------------------------------------------\u001b[0m",
      "\u001b[1;31mNameError\u001b[0m                                 Traceback (most recent call last)",
      "Cell \u001b[1;32mIn[34], line 1\u001b[0m\n\u001b[1;32m----> 1\u001b[0m \u001b[43mdf\u001b[49m\n",
      "\u001b[1;31mNameError\u001b[0m: name 'df' is not defined"
     ]
    }
   ],
   "source": [
    "df"
   ]
  },
  {
   "cell_type": "code",
   "execution_count": 35,
   "id": "e92ed13c",
   "metadata": {},
   "outputs": [
    {
     "ename": "NameError",
     "evalue": "name 'df' is not defined",
     "output_type": "error",
     "traceback": [
      "\u001b[1;31m---------------------------------------------------------------------------\u001b[0m",
      "\u001b[1;31mNameError\u001b[0m                                 Traceback (most recent call last)",
      "Cell \u001b[1;32mIn[35], line 1\u001b[0m\n\u001b[1;32m----> 1\u001b[0m df \u001b[38;5;241m=\u001b[39m \u001b[43mdf\u001b[49m\u001b[38;5;241m.\u001b[39mdrop_duplicates(subset\u001b[38;5;241m=\u001b[39m[\u001b[38;5;124m'\u001b[39m\u001b[38;5;124musername\u001b[39m\u001b[38;5;124m'\u001b[39m,\u001b[38;5;124m'\u001b[39m\u001b[38;5;124mrental_contract__gala__warehouse_id\u001b[39m\u001b[38;5;124m'\u001b[39m])\n",
      "\u001b[1;31mNameError\u001b[0m: name 'df' is not defined"
     ]
    }
   ],
   "source": [
    "df = df.drop_duplicates(subset=['username','rental_contract__gala__warehouse_id'])"
   ]
  },
  {
   "cell_type": "code",
   "execution_count": 36,
   "id": "8603f89a",
   "metadata": {},
   "outputs": [
    {
     "ename": "NameError",
     "evalue": "name 'df' is not defined",
     "output_type": "error",
     "traceback": [
      "\u001b[1;31m---------------------------------------------------------------------------\u001b[0m",
      "\u001b[1;31mNameError\u001b[0m                                 Traceback (most recent call last)",
      "Cell \u001b[1;32mIn[36], line 1\u001b[0m\n\u001b[1;32m----> 1\u001b[0m df \u001b[38;5;241m=\u001b[39m \u001b[43mdf\u001b[49m\u001b[38;5;241m.\u001b[39miloc[:\u001b[38;5;241m21\u001b[39m,:]\n",
      "\u001b[1;31mNameError\u001b[0m: name 'df' is not defined"
     ]
    }
   ],
   "source": [
    "df = df.iloc[:21,:]"
   ]
  },
  {
   "cell_type": "code",
   "execution_count": 37,
   "id": "90c1ac43",
   "metadata": {
    "scrolled": true
   },
   "outputs": [],
   "source": [
    "# df.dropna(inplace=True)"
   ]
  },
  {
   "cell_type": "code",
   "execution_count": 38,
   "id": "df8f02b6",
   "metadata": {
    "scrolled": false
   },
   "outputs": [
    {
     "ename": "NameError",
     "evalue": "name 'df' is not defined",
     "output_type": "error",
     "traceback": [
      "\u001b[1;31m---------------------------------------------------------------------------\u001b[0m",
      "\u001b[1;31mNameError\u001b[0m                                 Traceback (most recent call last)",
      "Cell \u001b[1;32mIn[38], line 1\u001b[0m\n\u001b[1;32m----> 1\u001b[0m df[\u001b[38;5;124m'\u001b[39m\u001b[38;5;124mwarehouse\u001b[39m\u001b[38;5;124m'\u001b[39m] \u001b[38;5;241m=\u001b[39m \u001b[43mdf\u001b[49m[\u001b[38;5;124m'\u001b[39m\u001b[38;5;124musername\u001b[39m\u001b[38;5;124m'\u001b[39m]\u001b[38;5;241m.\u001b[39mapply(\u001b[38;5;28;01mlambda\u001b[39;00m x: df[(df[\u001b[38;5;124m'\u001b[39m\u001b[38;5;124musername\u001b[39m\u001b[38;5;124m'\u001b[39m] \u001b[38;5;241m==\u001b[39m x)]\u001b[38;5;241m.\u001b[39mcount()[\u001b[38;5;124m'\u001b[39m\u001b[38;5;124mrental_contract__gala__warehouse_id\u001b[39m\u001b[38;5;124m'\u001b[39m])\n",
      "\u001b[1;31mNameError\u001b[0m: name 'df' is not defined"
     ]
    }
   ],
   "source": [
    "df['warehouse'] = df['username'].apply(lambda x: df[(df['username'] == x)].count()['rental_contract__gala__warehouse_id'])"
   ]
  },
  {
   "cell_type": "code",
   "execution_count": 39,
   "id": "62379d30",
   "metadata": {},
   "outputs": [
    {
     "ename": "NameError",
     "evalue": "name 'df' is not defined",
     "output_type": "error",
     "traceback": [
      "\u001b[1;31m---------------------------------------------------------------------------\u001b[0m",
      "\u001b[1;31mNameError\u001b[0m                                 Traceback (most recent call last)",
      "Cell \u001b[1;32mIn[39], line 1\u001b[0m\n\u001b[1;32m----> 1\u001b[0m \u001b[43mdf\u001b[49m\u001b[38;5;241m.\u001b[39mdrop_duplicates(subset\u001b[38;5;241m=\u001b[39m[\u001b[38;5;124m'\u001b[39m\u001b[38;5;124mwarehouse\u001b[39m\u001b[38;5;124m'\u001b[39m])\n",
      "\u001b[1;31mNameError\u001b[0m: name 'df' is not defined"
     ]
    }
   ],
   "source": [
    "df.drop_duplicates(subset=['warehouse'])"
   ]
  },
  {
   "cell_type": "code",
   "execution_count": 40,
   "id": "18037043",
   "metadata": {},
   "outputs": [
    {
     "ename": "NameError",
     "evalue": "name 'df' is not defined",
     "output_type": "error",
     "traceback": [
      "\u001b[1;31m---------------------------------------------------------------------------\u001b[0m",
      "\u001b[1;31mNameError\u001b[0m                                 Traceback (most recent call last)",
      "Cell \u001b[1;32mIn[40], line 1\u001b[0m\n\u001b[1;32m----> 1\u001b[0m \u001b[43mdf\u001b[49m\u001b[38;5;241m.\u001b[39mfillna(\u001b[38;5;241m0\u001b[39m,inplace\u001b[38;5;241m=\u001b[39m\u001b[38;5;28;01mTrue\u001b[39;00m)\n",
      "\u001b[1;31mNameError\u001b[0m: name 'df' is not defined"
     ]
    }
   ],
   "source": [
    "df.fillna(0,inplace=True)"
   ]
  },
  {
   "cell_type": "code",
   "execution_count": 41,
   "id": "45d68331",
   "metadata": {},
   "outputs": [
    {
     "ename": "NameError",
     "evalue": "name 'df' is not defined",
     "output_type": "error",
     "traceback": [
      "\u001b[1;31m---------------------------------------------------------------------------\u001b[0m",
      "\u001b[1;31mNameError\u001b[0m                                 Traceback (most recent call last)",
      "Cell \u001b[1;32mIn[41], line 1\u001b[0m\n\u001b[1;32m----> 1\u001b[0m \u001b[43mdf\u001b[49m\u001b[38;5;241m.\u001b[39mto_dict(\u001b[38;5;124m'\u001b[39m\u001b[38;5;124mindex\u001b[39m\u001b[38;5;124m'\u001b[39m)\u001b[38;5;241m.\u001b[39mvalues()\n",
      "\u001b[1;31mNameError\u001b[0m: name 'df' is not defined"
     ]
    }
   ],
   "source": [
    "df.to_dict('index').values()"
   ]
  },
  {
   "cell_type": "code",
   "execution_count": 42,
   "id": "c2e34b59",
   "metadata": {},
   "outputs": [
    {
     "data": {
      "text/html": [
       "<div>\n",
       "<style scoped>\n",
       "    .dataframe tbody tr th:only-of-type {\n",
       "        vertical-align: middle;\n",
       "    }\n",
       "\n",
       "    .dataframe tbody tr th {\n",
       "        vertical-align: top;\n",
       "    }\n",
       "\n",
       "    .dataframe thead th {\n",
       "        text-align: right;\n",
       "    }\n",
       "</style>\n",
       "<table border=\"1\" class=\"dataframe\">\n",
       "  <thead>\n",
       "    <tr style=\"text-align: right;\">\n",
       "      <th></th>\n",
       "      <th>id</th>\n",
       "      <th>user_uid</th>\n",
       "      <th>username</th>\n",
       "      <th>rental_contract__gala__warehouse_id</th>\n",
       "      <th>total_number_of_galas</th>\n",
       "      <th>total_number_of_warehouse</th>\n",
       "    </tr>\n",
       "  </thead>\n",
       "  <tbody>\n",
       "    <tr>\n",
       "      <th>0</th>\n",
       "      <td>2</td>\n",
       "      <td>dfef7ec8-d0fe-4e9f-abb1-16187c184320</td>\n",
       "      <td>Mayank</td>\n",
       "      <td>9.0</td>\n",
       "      <td>1.0</td>\n",
       "      <td>1.0</td>\n",
       "    </tr>\n",
       "    <tr>\n",
       "      <th>1</th>\n",
       "      <td>5</td>\n",
       "      <td>51f9c7eb-8f1b-4fcc-9124-58831235d387</td>\n",
       "      <td>snappy-cardinal-argentino</td>\n",
       "      <td>9.0</td>\n",
       "      <td>3.0</td>\n",
       "      <td>1.0</td>\n",
       "    </tr>\n",
       "    <tr>\n",
       "      <th>2</th>\n",
       "      <td>5</td>\n",
       "      <td>51f9c7eb-8f1b-4fcc-9124-58831235d387</td>\n",
       "      <td>snappy-cardinal-argentino</td>\n",
       "      <td>9.0</td>\n",
       "      <td>3.0</td>\n",
       "      <td>1.0</td>\n",
       "    </tr>\n",
       "    <tr>\n",
       "      <th>3</th>\n",
       "      <td>5</td>\n",
       "      <td>51f9c7eb-8f1b-4fcc-9124-58831235d387</td>\n",
       "      <td>snappy-cardinal-argentino</td>\n",
       "      <td>8.0</td>\n",
       "      <td>3.0</td>\n",
       "      <td>1.0</td>\n",
       "    </tr>\n",
       "    <tr>\n",
       "      <th>4</th>\n",
       "      <td>14</td>\n",
       "      <td>1df8502b-66a6-4486-ae21-7e19c3e7bd0a</td>\n",
       "      <td>randy-crimson-caracal</td>\n",
       "      <td>8.0</td>\n",
       "      <td>1.0</td>\n",
       "      <td>1.0</td>\n",
       "    </tr>\n",
       "    <tr>\n",
       "      <th>5</th>\n",
       "      <td>15</td>\n",
       "      <td>4acd799f-7f94-42de-9b6d-1e80b5c5e6b3</td>\n",
       "      <td>cloudy-champagne-zebu</td>\n",
       "      <td>NaN</td>\n",
       "      <td>NaN</td>\n",
       "      <td>NaN</td>\n",
       "    </tr>\n",
       "    <tr>\n",
       "      <th>6</th>\n",
       "      <td>19</td>\n",
       "      <td>21cc2354-694b-44fd-b9cb-659f1117ac55</td>\n",
       "      <td>slimy-platinum-tapir</td>\n",
       "      <td>NaN</td>\n",
       "      <td>NaN</td>\n",
       "      <td>NaN</td>\n",
       "    </tr>\n",
       "    <tr>\n",
       "      <th>7</th>\n",
       "      <td>21</td>\n",
       "      <td>0fccdc06-c2e6-45b2-9b91-0100b976e6d3</td>\n",
       "      <td>squirrely-razzmatazz-moose</td>\n",
       "      <td>NaN</td>\n",
       "      <td>NaN</td>\n",
       "      <td>NaN</td>\n",
       "    </tr>\n",
       "    <tr>\n",
       "      <th>8</th>\n",
       "      <td>28</td>\n",
       "      <td>e7b74f37-29df-4650-b622-7b56626bcdd8</td>\n",
       "      <td>tasty-platinum-hyrax</td>\n",
       "      <td>NaN</td>\n",
       "      <td>NaN</td>\n",
       "      <td>NaN</td>\n",
       "    </tr>\n",
       "    <tr>\n",
       "      <th>9</th>\n",
       "      <td>37</td>\n",
       "      <td>4e16d99b-f073-471e-b51d-cadedf7a2456</td>\n",
       "      <td>nerdy-crimson-frise</td>\n",
       "      <td>NaN</td>\n",
       "      <td>NaN</td>\n",
       "      <td>NaN</td>\n",
       "    </tr>\n",
       "    <tr>\n",
       "      <th>10</th>\n",
       "      <td>50</td>\n",
       "      <td>6c8ad82d-2efd-4340-8be4-1225a10aa1f0</td>\n",
       "      <td>hasty-puce-oyster</td>\n",
       "      <td>NaN</td>\n",
       "      <td>NaN</td>\n",
       "      <td>NaN</td>\n",
       "    </tr>\n",
       "    <tr>\n",
       "      <th>11</th>\n",
       "      <td>51</td>\n",
       "      <td>b749ae76-f68d-4a05-97c5-efa48d6c3be4</td>\n",
       "      <td>jumpy-maroon-mist</td>\n",
       "      <td>NaN</td>\n",
       "      <td>NaN</td>\n",
       "      <td>NaN</td>\n",
       "    </tr>\n",
       "    <tr>\n",
       "      <th>12</th>\n",
       "      <td>54</td>\n",
       "      <td>8fd78262-8698-4425-8c7f-bb177a4b74df</td>\n",
       "      <td>freaky-crimson-dodo</td>\n",
       "      <td>NaN</td>\n",
       "      <td>NaN</td>\n",
       "      <td>NaN</td>\n",
       "    </tr>\n",
       "    <tr>\n",
       "      <th>13</th>\n",
       "      <td>56</td>\n",
       "      <td>86f5dfae-cd58-4a64-a1fe-9348d621dd6e</td>\n",
       "      <td>chummy-magnolia-quoll</td>\n",
       "      <td>NaN</td>\n",
       "      <td>NaN</td>\n",
       "      <td>NaN</td>\n",
       "    </tr>\n",
       "    <tr>\n",
       "      <th>14</th>\n",
       "      <td>59</td>\n",
       "      <td>2d200190-5494-42a3-8c10-c1013079d8e5</td>\n",
       "      <td>boozy-turquoise-antelope</td>\n",
       "      <td>NaN</td>\n",
       "      <td>NaN</td>\n",
       "      <td>NaN</td>\n",
       "    </tr>\n",
       "    <tr>\n",
       "      <th>15</th>\n",
       "      <td>60</td>\n",
       "      <td>fa3c91d6-ea46-483a-9daa-6dcb1d86a085</td>\n",
       "      <td>snippy-cinnamon-cheetah</td>\n",
       "      <td>NaN</td>\n",
       "      <td>NaN</td>\n",
       "      <td>NaN</td>\n",
       "    </tr>\n",
       "    <tr>\n",
       "      <th>16</th>\n",
       "      <td>62</td>\n",
       "      <td>f55889f2-9759-496a-829a-5ae676cc67b0</td>\n",
       "      <td>chewy-yellow-millipede</td>\n",
       "      <td>NaN</td>\n",
       "      <td>NaN</td>\n",
       "      <td>NaN</td>\n",
       "    </tr>\n",
       "    <tr>\n",
       "      <th>17</th>\n",
       "      <td>66</td>\n",
       "      <td>1f38c84f-21b2-4d52-967f-b42c1a1f1966</td>\n",
       "      <td>wimpy-pear-badger</td>\n",
       "      <td>NaN</td>\n",
       "      <td>NaN</td>\n",
       "      <td>NaN</td>\n",
       "    </tr>\n",
       "    <tr>\n",
       "      <th>18</th>\n",
       "      <td>67</td>\n",
       "      <td>0898e1a1-96d6-4e93-be26-2eaf02177946</td>\n",
       "      <td>nippy-flax-panda</td>\n",
       "      <td>NaN</td>\n",
       "      <td>NaN</td>\n",
       "      <td>NaN</td>\n",
       "    </tr>\n",
       "    <tr>\n",
       "      <th>19</th>\n",
       "      <td>68</td>\n",
       "      <td>8489a286-72ee-4bb9-b9a1-9795f570d471</td>\n",
       "      <td>snoopy-corn-mandrill</td>\n",
       "      <td>NaN</td>\n",
       "      <td>NaN</td>\n",
       "      <td>NaN</td>\n",
       "    </tr>\n",
       "    <tr>\n",
       "      <th>20</th>\n",
       "      <td>72</td>\n",
       "      <td>76663926-eec2-496e-997a-fa056db8e69a</td>\n",
       "      <td>skanky-rust-capuchin</td>\n",
       "      <td>NaN</td>\n",
       "      <td>NaN</td>\n",
       "      <td>NaN</td>\n",
       "    </tr>\n",
       "    <tr>\n",
       "      <th>21</th>\n",
       "      <td>82</td>\n",
       "      <td>89d5a564-fcbd-4107-b835-0516666ff2e0</td>\n",
       "      <td>lovely-burgundy-shrimp</td>\n",
       "      <td>NaN</td>\n",
       "      <td>NaN</td>\n",
       "      <td>NaN</td>\n",
       "    </tr>\n",
       "    <tr>\n",
       "      <th>22</th>\n",
       "      <td>83</td>\n",
       "      <td>c47b8152-8e39-4109-b365-16bad310e013</td>\n",
       "      <td>Mayank</td>\n",
       "      <td>NaN</td>\n",
       "      <td>NaN</td>\n",
       "      <td>NaN</td>\n",
       "    </tr>\n",
       "  </tbody>\n",
       "</table>\n",
       "</div>"
      ],
      "text/plain": [
<<<<<<< HEAD
       "    id                              user_uid                    username  \\\n",
       "0    2  dfef7ec8-d0fe-4e9f-abb1-16187c184320                      Mayank   \n",
       "1    5  51f9c7eb-8f1b-4fcc-9124-58831235d387   snappy-cardinal-argentino   \n",
       "2    5  51f9c7eb-8f1b-4fcc-9124-58831235d387   snappy-cardinal-argentino   \n",
       "3    5  51f9c7eb-8f1b-4fcc-9124-58831235d387   snappy-cardinal-argentino   \n",
       "4   14  1df8502b-66a6-4486-ae21-7e19c3e7bd0a       randy-crimson-caracal   \n",
       "5   15  4acd799f-7f94-42de-9b6d-1e80b5c5e6b3       cloudy-champagne-zebu   \n",
       "6   19  21cc2354-694b-44fd-b9cb-659f1117ac55        slimy-platinum-tapir   \n",
       "7   21  0fccdc06-c2e6-45b2-9b91-0100b976e6d3  squirrely-razzmatazz-moose   \n",
       "8   28  e7b74f37-29df-4650-b622-7b56626bcdd8        tasty-platinum-hyrax   \n",
       "9   37  4e16d99b-f073-471e-b51d-cadedf7a2456         nerdy-crimson-frise   \n",
       "10  50  6c8ad82d-2efd-4340-8be4-1225a10aa1f0           hasty-puce-oyster   \n",
       "11  51  b749ae76-f68d-4a05-97c5-efa48d6c3be4           jumpy-maroon-mist   \n",
       "12  54  8fd78262-8698-4425-8c7f-bb177a4b74df         freaky-crimson-dodo   \n",
       "13  56  86f5dfae-cd58-4a64-a1fe-9348d621dd6e       chummy-magnolia-quoll   \n",
       "14  59  2d200190-5494-42a3-8c10-c1013079d8e5    boozy-turquoise-antelope   \n",
       "15  60  fa3c91d6-ea46-483a-9daa-6dcb1d86a085     snippy-cinnamon-cheetah   \n",
       "16  62  f55889f2-9759-496a-829a-5ae676cc67b0      chewy-yellow-millipede   \n",
       "17  66  1f38c84f-21b2-4d52-967f-b42c1a1f1966           wimpy-pear-badger   \n",
       "18  67  0898e1a1-96d6-4e93-be26-2eaf02177946            nippy-flax-panda   \n",
       "19  68  8489a286-72ee-4bb9-b9a1-9795f570d471        snoopy-corn-mandrill   \n",
       "20  72  76663926-eec2-496e-997a-fa056db8e69a        skanky-rust-capuchin   \n",
       "21  82  89d5a564-fcbd-4107-b835-0516666ff2e0      lovely-burgundy-shrimp   \n",
       "22  83  c47b8152-8e39-4109-b365-16bad310e013                      Mayank   \n",
       "\n",
       "    rental_contract__gala__warehouse_id  total_number_of_galas  \\\n",
       "0                                   9.0                    1.0   \n",
       "1                                   9.0                    3.0   \n",
       "2                                   9.0                    3.0   \n",
       "3                                   8.0                    3.0   \n",
       "4                                   8.0                    1.0   \n",
       "5                                   NaN                    NaN   \n",
       "6                                   NaN                    NaN   \n",
       "7                                   NaN                    NaN   \n",
       "8                                   NaN                    NaN   \n",
       "9                                   NaN                    NaN   \n",
       "10                                  NaN                    NaN   \n",
       "11                                  NaN                    NaN   \n",
       "12                                  NaN                    NaN   \n",
       "13                                  NaN                    NaN   \n",
       "14                                  NaN                    NaN   \n",
       "15                                  NaN                    NaN   \n",
       "16                                  NaN                    NaN   \n",
       "17                                  NaN                    NaN   \n",
       "18                                  NaN                    NaN   \n",
       "19                                  NaN                    NaN   \n",
       "20                                  NaN                    NaN   \n",
       "21                                  NaN                    NaN   \n",
       "22                                  NaN                    NaN   \n",
       "\n",
       "    total_number_of_warehouse  \n",
       "0                         1.0  \n",
       "1                         1.0  \n",
       "2                         1.0  \n",
       "3                         1.0  \n",
       "4                         1.0  \n",
       "5                         NaN  \n",
       "6                         NaN  \n",
       "7                         NaN  \n",
       "8                         NaN  \n",
       "9                         NaN  \n",
       "10                        NaN  \n",
       "11                        NaN  \n",
       "12                        NaN  \n",
       "13                        NaN  \n",
       "14                        NaN  \n",
       "15                        NaN  \n",
       "16                        NaN  \n",
       "17                        NaN  \n",
       "18                        NaN  \n",
       "19                        NaN  \n",
       "20                        NaN  \n",
       "21                        NaN  \n",
       "22                        NaN  "
      ]
     },
     "execution_count": 294,
=======
       "'51f9c7eb-8f1b-4fcc-9124-58831235d387'"
      ]
     },
     "execution_count": 42,
>>>>>>> c59c3c9ca1ee91f2ccbe13dfbebd23aeabd48fd2
     "metadata": {},
     "output_type": "execute_result"
    }
   ],
   "source": [
<<<<<<< HEAD
    "df"
   ]
  },
  {
   "cell_type": "code",
   "execution_count": 295,
   "id": "e92ed13c",
   "metadata": {},
   "outputs": [],
   "source": [
    "df = df.drop_duplicates(subset=['username','rental_contract__gala__warehouse_id'])"
   ]
  },
  {
   "cell_type": "code",
   "execution_count": 296,
   "id": "8603f89a",
   "metadata": {},
   "outputs": [],
   "source": [
    "df = df.iloc[:21,:]"
   ]
  },
  {
   "cell_type": "code",
   "execution_count": 297,
   "id": "90c1ac43",
   "metadata": {
    "scrolled": true
   },
   "outputs": [],
   "source": [
    "# df.dropna(inplace=True)"
   ]
  },
  {
   "cell_type": "code",
   "execution_count": 298,
   "id": "df8f02b6",
   "metadata": {
    "scrolled": false
   },
   "outputs": [],
   "source": [
    "df['warehouse'] = df['username'].apply(lambda x: df[(df['username'] == x)].count()['rental_contract__gala__warehouse_id'])"
   ]
  },
  {
   "cell_type": "code",
   "execution_count": 299,
   "id": "62379d30",
   "metadata": {},
   "outputs": [
    {
     "data": {
      "text/html": [
       "<div>\n",
       "<style scoped>\n",
       "    .dataframe tbody tr th:only-of-type {\n",
       "        vertical-align: middle;\n",
       "    }\n",
       "\n",
       "    .dataframe tbody tr th {\n",
       "        vertical-align: top;\n",
       "    }\n",
       "\n",
       "    .dataframe thead th {\n",
       "        text-align: right;\n",
       "    }\n",
       "</style>\n",
       "<table border=\"1\" class=\"dataframe\">\n",
       "  <thead>\n",
       "    <tr style=\"text-align: right;\">\n",
       "      <th></th>\n",
       "      <th>id</th>\n",
       "      <th>user_uid</th>\n",
       "      <th>username</th>\n",
       "      <th>rental_contract__gala__warehouse_id</th>\n",
       "      <th>total_number_of_galas</th>\n",
       "      <th>total_number_of_warehouse</th>\n",
       "      <th>warehouse</th>\n",
       "    </tr>\n",
       "  </thead>\n",
       "  <tbody>\n",
       "    <tr>\n",
       "      <th>0</th>\n",
       "      <td>2</td>\n",
       "      <td>dfef7ec8-d0fe-4e9f-abb1-16187c184320</td>\n",
       "      <td>Mayank</td>\n",
       "      <td>9.0</td>\n",
       "      <td>1.0</td>\n",
       "      <td>1.0</td>\n",
       "      <td>1</td>\n",
       "    </tr>\n",
       "    <tr>\n",
       "      <th>1</th>\n",
       "      <td>5</td>\n",
       "      <td>51f9c7eb-8f1b-4fcc-9124-58831235d387</td>\n",
       "      <td>snappy-cardinal-argentino</td>\n",
       "      <td>9.0</td>\n",
       "      <td>3.0</td>\n",
       "      <td>1.0</td>\n",
       "      <td>2</td>\n",
       "    </tr>\n",
       "    <tr>\n",
       "      <th>5</th>\n",
       "      <td>15</td>\n",
       "      <td>4acd799f-7f94-42de-9b6d-1e80b5c5e6b3</td>\n",
       "      <td>cloudy-champagne-zebu</td>\n",
       "      <td>NaN</td>\n",
       "      <td>NaN</td>\n",
       "      <td>NaN</td>\n",
       "      <td>0</td>\n",
       "    </tr>\n",
       "  </tbody>\n",
       "</table>\n",
       "</div>"
      ],
      "text/plain": [
       "   id                              user_uid                   username  \\\n",
       "0   2  dfef7ec8-d0fe-4e9f-abb1-16187c184320                     Mayank   \n",
       "1   5  51f9c7eb-8f1b-4fcc-9124-58831235d387  snappy-cardinal-argentino   \n",
       "5  15  4acd799f-7f94-42de-9b6d-1e80b5c5e6b3      cloudy-champagne-zebu   \n",
       "\n",
       "   rental_contract__gala__warehouse_id  total_number_of_galas  \\\n",
       "0                                  9.0                    1.0   \n",
       "1                                  9.0                    3.0   \n",
       "5                                  NaN                    NaN   \n",
       "\n",
       "   total_number_of_warehouse  warehouse  \n",
       "0                        1.0          1  \n",
       "1                        1.0          2  \n",
       "5                        NaN          0  "
      ]
     },
     "execution_count": 299,
     "metadata": {},
     "output_type": "execute_result"
    }
   ],
   "source": [
    "df.drop_duplicates(subset=['warehouse'])"
   ]
  },
  {
   "cell_type": "code",
   "execution_count": 302,
   "id": "18037043",
   "metadata": {},
   "outputs": [],
   "source": [
    "df.fillna(0,inplace=True)"
   ]
  },
  {
   "cell_type": "code",
   "execution_count": 307,
   "id": "45d68331",
   "metadata": {},
   "outputs": [
    {
     "data": {
      "text/plain": [
       "dict_values([{'id': 2, 'user_uid': UUID('dfef7ec8-d0fe-4e9f-abb1-16187c184320'), 'username': 'Mayank', 'rental_contract__gala__warehouse_id': 9.0, 'total_number_of_galas': 1.0, 'total_number_of_warehouse': 1.0, 'warehouse': 1}, {'id': 5, 'user_uid': UUID('51f9c7eb-8f1b-4fcc-9124-58831235d387'), 'username': 'snappy-cardinal-argentino', 'rental_contract__gala__warehouse_id': 9.0, 'total_number_of_galas': 3.0, 'total_number_of_warehouse': 1.0, 'warehouse': 2}, {'id': 5, 'user_uid': UUID('51f9c7eb-8f1b-4fcc-9124-58831235d387'), 'username': 'snappy-cardinal-argentino', 'rental_contract__gala__warehouse_id': 8.0, 'total_number_of_galas': 3.0, 'total_number_of_warehouse': 1.0, 'warehouse': 2}, {'id': 14, 'user_uid': UUID('1df8502b-66a6-4486-ae21-7e19c3e7bd0a'), 'username': 'randy-crimson-caracal', 'rental_contract__gala__warehouse_id': 8.0, 'total_number_of_galas': 1.0, 'total_number_of_warehouse': 1.0, 'warehouse': 1}, {'id': 15, 'user_uid': UUID('4acd799f-7f94-42de-9b6d-1e80b5c5e6b3'), 'username': 'cloudy-champagne-zebu', 'rental_contract__gala__warehouse_id': 0.0, 'total_number_of_galas': 0.0, 'total_number_of_warehouse': 0.0, 'warehouse': 0}, {'id': 19, 'user_uid': UUID('21cc2354-694b-44fd-b9cb-659f1117ac55'), 'username': 'slimy-platinum-tapir', 'rental_contract__gala__warehouse_id': 0.0, 'total_number_of_galas': 0.0, 'total_number_of_warehouse': 0.0, 'warehouse': 0}, {'id': 21, 'user_uid': UUID('0fccdc06-c2e6-45b2-9b91-0100b976e6d3'), 'username': 'squirrely-razzmatazz-moose', 'rental_contract__gala__warehouse_id': 0.0, 'total_number_of_galas': 0.0, 'total_number_of_warehouse': 0.0, 'warehouse': 0}, {'id': 28, 'user_uid': UUID('e7b74f37-29df-4650-b622-7b56626bcdd8'), 'username': 'tasty-platinum-hyrax', 'rental_contract__gala__warehouse_id': 0.0, 'total_number_of_galas': 0.0, 'total_number_of_warehouse': 0.0, 'warehouse': 0}, {'id': 37, 'user_uid': UUID('4e16d99b-f073-471e-b51d-cadedf7a2456'), 'username': 'nerdy-crimson-frise', 'rental_contract__gala__warehouse_id': 0.0, 'total_number_of_galas': 0.0, 'total_number_of_warehouse': 0.0, 'warehouse': 0}, {'id': 50, 'user_uid': UUID('6c8ad82d-2efd-4340-8be4-1225a10aa1f0'), 'username': 'hasty-puce-oyster', 'rental_contract__gala__warehouse_id': 0.0, 'total_number_of_galas': 0.0, 'total_number_of_warehouse': 0.0, 'warehouse': 0}, {'id': 51, 'user_uid': UUID('b749ae76-f68d-4a05-97c5-efa48d6c3be4'), 'username': 'jumpy-maroon-mist', 'rental_contract__gala__warehouse_id': 0.0, 'total_number_of_galas': 0.0, 'total_number_of_warehouse': 0.0, 'warehouse': 0}, {'id': 54, 'user_uid': UUID('8fd78262-8698-4425-8c7f-bb177a4b74df'), 'username': 'freaky-crimson-dodo', 'rental_contract__gala__warehouse_id': 0.0, 'total_number_of_galas': 0.0, 'total_number_of_warehouse': 0.0, 'warehouse': 0}, {'id': 56, 'user_uid': UUID('86f5dfae-cd58-4a64-a1fe-9348d621dd6e'), 'username': 'chummy-magnolia-quoll', 'rental_contract__gala__warehouse_id': 0.0, 'total_number_of_galas': 0.0, 'total_number_of_warehouse': 0.0, 'warehouse': 0}, {'id': 59, 'user_uid': UUID('2d200190-5494-42a3-8c10-c1013079d8e5'), 'username': 'boozy-turquoise-antelope', 'rental_contract__gala__warehouse_id': 0.0, 'total_number_of_galas': 0.0, 'total_number_of_warehouse': 0.0, 'warehouse': 0}, {'id': 60, 'user_uid': UUID('fa3c91d6-ea46-483a-9daa-6dcb1d86a085'), 'username': 'snippy-cinnamon-cheetah', 'rental_contract__gala__warehouse_id': 0.0, 'total_number_of_galas': 0.0, 'total_number_of_warehouse': 0.0, 'warehouse': 0}, {'id': 62, 'user_uid': UUID('f55889f2-9759-496a-829a-5ae676cc67b0'), 'username': 'chewy-yellow-millipede', 'rental_contract__gala__warehouse_id': 0.0, 'total_number_of_galas': 0.0, 'total_number_of_warehouse': 0.0, 'warehouse': 0}, {'id': 66, 'user_uid': UUID('1f38c84f-21b2-4d52-967f-b42c1a1f1966'), 'username': 'wimpy-pear-badger', 'rental_contract__gala__warehouse_id': 0.0, 'total_number_of_galas': 0.0, 'total_number_of_warehouse': 0.0, 'warehouse': 0}, {'id': 67, 'user_uid': UUID('0898e1a1-96d6-4e93-be26-2eaf02177946'), 'username': 'nippy-flax-panda', 'rental_contract__gala__warehouse_id': 0.0, 'total_number_of_galas': 0.0, 'total_number_of_warehouse': 0.0, 'warehouse': 0}, {'id': 68, 'user_uid': UUID('8489a286-72ee-4bb9-b9a1-9795f570d471'), 'username': 'snoopy-corn-mandrill', 'rental_contract__gala__warehouse_id': 0.0, 'total_number_of_galas': 0.0, 'total_number_of_warehouse': 0.0, 'warehouse': 0}, {'id': 72, 'user_uid': UUID('76663926-eec2-496e-997a-fa056db8e69a'), 'username': 'skanky-rust-capuchin', 'rental_contract__gala__warehouse_id': 0.0, 'total_number_of_galas': 0.0, 'total_number_of_warehouse': 0.0, 'warehouse': 0}, {'id': 82, 'user_uid': UUID('89d5a564-fcbd-4107-b835-0516666ff2e0'), 'username': 'lovely-burgundy-shrimp', 'rental_contract__gala__warehouse_id': 0.0, 'total_number_of_galas': 0.0, 'total_number_of_warehouse': 0.0, 'warehouse': 0}])"
      ]
     },
     "execution_count": 307,
     "metadata": {},
     "output_type": "execute_result"
    }
   ],
   "source": [
    "df.to_dict('index').values()"
   ]
  },
  {
   "cell_type": "code",
   "execution_count": 301,
   "id": "c2e34b59",
   "metadata": {},
   "outputs": [
    {
     "data": {
      "text/plain": [
       "'51f9c7eb-8f1b-4fcc-9124-58831235d387'"
      ]
     },
     "execution_count": 301,
     "metadata": {},
     "output_type": "execute_result"
    }
   ],
   "source": [
=======
>>>>>>> c59c3c9ca1ee91f2ccbe13dfbebd23aeabd48fd2
    "'51f9c7eb-8f1b-4fcc-9124-58831235d387'"
   ]
  },
  {
   "cell_type": "code",
<<<<<<< HEAD
   "execution_count": 208,
=======
   "execution_count": 43,
>>>>>>> c59c3c9ca1ee91f2ccbe13dfbebd23aeabd48fd2
   "id": "523834ea",
   "metadata": {},
   "outputs": [
    {
     "data": {
      "text/plain": [
       "Value(1)"
      ]
     },
<<<<<<< HEAD
     "execution_count": 208,
=======
     "execution_count": 43,
>>>>>>> c59c3c9ca1ee91f2ccbe13dfbebd23aeabd48fd2
     "metadata": {},
     "output_type": "execute_result"
    }
   ],
   "source": [
    "Value(ContractRental.objects.filter(user__user_uid = '51f9c7eb-8f1b-4fcc-9124-58831235d387').values(\"gala__warehouse_id\").distinct().order_by(\"gala__warehouse_id\").annotate(total_number_of_warehouse = Count(\"gala__warehouse_id\")).values(\"total_number_of_warehouse\").count())"
   ]
  },
  {
   "cell_type": "code",
   "execution_count": null,
   "id": "58a6eb3c",
<<<<<<< HEAD
=======
   "metadata": {},
   "outputs": [],
   "source": []
  },
  {
   "cell_type": "code",
   "execution_count": 44,
   "id": "642c1803",
   "metadata": {},
   "outputs": [],
   "source": [
    "get_rental_qs = Rental.objects.filter(belong_to__name=\"Omkar\").values(\n",
    "                \"id\",\"user_uid\",\"username\",\"rental_contract__gala__warehouse_id\"\n",
    "            ).distinct().annotate(\n",
    "                total_number_of_galas = ContractRental.objects.filter(\n",
    "                    user__user_uid = OuterRef(\"user_uid\")\n",
    "                ).values(\"user__user_uid\").annotate(\n",
    "                    total_number_of_galas = Count(\"user__user_uid\")\n",
    "                ).values(\"total_number_of_galas\"),\n",
    "            ).annotate(total_number_of_warehouse = ContractRental.objects.filter(user__user_uid = OuterRef(\"user_uid\")).values(\n",
    "                \"gala__warehouse_id\").annotate(total_number_of_warehouse = Count(\"gala__warehouse_id\")).values(\"total_number_of_warehouse\"))"
   ]
  },
  {
   "cell_type": "code",
   "execution_count": 45,
   "id": "7dd4ee9c",
   "metadata": {},
   "outputs": [],
   "source": [
    "# read_frame(get_rental_qs)"
   ]
  },
  {
   "cell_type": "code",
   "execution_count": null,
   "id": "6d0afa3f",
   "metadata": {},
   "outputs": [],
   "source": []
  },
  {
   "cell_type": "code",
   "execution_count": 61,
   "id": "16fa67b9",
   "metadata": {},
   "outputs": [
    {
     "data": {
      "text/plain": [
       "<QuerySet [{'uid': UUID('15441325-c876-4901-9fe9-ae563116400c'), 'property_name': 'Omkar Warehouse 3'}, {'uid': UUID('745d5452-6e7a-4d73-99cf-731fe92aaeef'), 'property_name': 'Omkar Warehouse 2'}]>"
      ]
     },
     "execution_count": 61,
     "metadata": {},
     "output_type": "execute_result"
    }
   ],
   "source": [
    "Property.objects.filter(company__name = \"Omkar\",is_allotted_to_farmer = False).values(\"uid\",\"property_name\")"
   ]
  },
  {
   "cell_type": "code",
   "execution_count": 62,
   "id": "f081a41d",
   "metadata": {},
   "outputs": [
    {
     "data": {
      "text/plain": [
       "'15441325-c876-4901-9fe9-ae563116400c'"
      ]
     },
     "execution_count": 62,
     "metadata": {},
     "output_type": "execute_result"
    }
   ],
   "source": [
    "'15441325-c876-4901-9fe9-ae563116400c'"
   ]
  },
  {
   "cell_type": "code",
   "execution_count": 71,
   "id": "8457122e",
   "metadata": {},
   "outputs": [
    {
     "data": {
      "text/plain": [
       "<QuerySet [{'uid': UUID('15441325-c876-4901-9fe9-ae563116400c'), 'galas': 'da530027-a33a-41bf-9af7-949b2e454b37'}]>"
      ]
     },
     "execution_count": 71,
     "metadata": {},
     "output_type": "execute_result"
    }
   ],
   "source": [
    "Property.objects.filter(company__name = \"Omkar\",uid = '15441325-c876-4901-9fe9-ae563116400c',is_allotted_to_farmer = False\n",
    "        ).values(\"uid\"\n",
    "            ).annotate(galas = Gala.objects.filter(warehouse__uid=OuterRef(\"uid\"),\n",
    "                                                   is_allotted=False,\n",
    "                                                   is_allotted_to_rental= False,\n",
    "                                                   is_allotted_to_farmer=False\n",
    "                                                          ).values(\"gala_number\"))\n",
    "\n",
    "\n",
    "\n",
    "\n",
    "\n"
   ]
  },
  {
   "cell_type": "code",
   "execution_count": null,
   "id": "8b89167e",
>>>>>>> c59c3c9ca1ee91f2ccbe13dfbebd23aeabd48fd2
   "metadata": {},
   "outputs": [],
   "source": []
  },
  {
   "cell_type": "code",
<<<<<<< HEAD
   "execution_count": 342,
   "id": "642c1803",
   "metadata": {},
   "outputs": [
    {
     "ename": "TypeError",
     "evalue": "QuerySet.annotate() received non-expression(s): <coroutine object QuerySet.aaggregate at 0x0000019848ECD5B0>.",
     "output_type": "error",
     "traceback": [
      "\u001b[1;31m---------------------------------------------------------------------------\u001b[0m",
      "\u001b[1;31mTypeError\u001b[0m                                 Traceback (most recent call last)",
      "Cell \u001b[1;32mIn[342], line 1\u001b[0m\n\u001b[1;32m----> 1\u001b[0m get_rental_qs \u001b[38;5;241m=\u001b[39m \u001b[43mRental\u001b[49m\u001b[38;5;241;43m.\u001b[39;49m\u001b[43mobjects\u001b[49m\u001b[38;5;241;43m.\u001b[39;49m\u001b[43mfilter\u001b[49m\u001b[43m(\u001b[49m\u001b[43mbelong_to__name\u001b[49m\u001b[38;5;241;43m=\u001b[39;49m\u001b[38;5;124;43m\"\u001b[39;49m\u001b[38;5;124;43mOmkar\u001b[39;49m\u001b[38;5;124;43m\"\u001b[39;49m\u001b[43m)\u001b[49m\u001b[38;5;241;43m.\u001b[39;49m\u001b[43mvalues\u001b[49m\u001b[43m(\u001b[49m\n\u001b[0;32m      2\u001b[0m \u001b[43m                \u001b[49m\u001b[38;5;124;43m\"\u001b[39;49m\u001b[38;5;124;43mid\u001b[39;49m\u001b[38;5;124;43m\"\u001b[39;49m\u001b[43m,\u001b[49m\u001b[38;5;124;43m\"\u001b[39;49m\u001b[38;5;124;43muser_uid\u001b[39;49m\u001b[38;5;124;43m\"\u001b[39;49m\u001b[43m,\u001b[49m\u001b[38;5;124;43m\"\u001b[39;49m\u001b[38;5;124;43musername\u001b[39;49m\u001b[38;5;124;43m\"\u001b[39;49m\u001b[43m,\u001b[49m\u001b[38;5;124;43m\"\u001b[39;49m\u001b[38;5;124;43mrental_contract__gala__warehouse_id\u001b[39;49m\u001b[38;5;124;43m\"\u001b[39;49m\n\u001b[0;32m      3\u001b[0m \u001b[43m            \u001b[49m\u001b[43m)\u001b[49m\u001b[38;5;241;43m.\u001b[39;49m\u001b[43mdistinct\u001b[49m\u001b[43m(\u001b[49m\u001b[43m)\u001b[49m\u001b[38;5;241;43m.\u001b[39;49m\u001b[43mannotate\u001b[49m\u001b[43m(\u001b[49m\n\u001b[0;32m      4\u001b[0m \u001b[43m                \u001b[49m\u001b[43mtotal_number_of_galas\u001b[49m\u001b[43m \u001b[49m\u001b[38;5;241;43m=\u001b[39;49m\u001b[43m \u001b[49m\u001b[43mContractRental\u001b[49m\u001b[38;5;241;43m.\u001b[39;49m\u001b[43mobjects\u001b[49m\u001b[38;5;241;43m.\u001b[39;49m\u001b[43mfilter\u001b[49m\u001b[43m(\u001b[49m\n\u001b[0;32m      5\u001b[0m \u001b[43m                    \u001b[49m\u001b[43muser__user_uid\u001b[49m\u001b[43m \u001b[49m\u001b[38;5;241;43m=\u001b[39;49m\u001b[43m \u001b[49m\u001b[43mOuterRef\u001b[49m\u001b[43m(\u001b[49m\u001b[38;5;124;43m\"\u001b[39;49m\u001b[38;5;124;43muser_uid\u001b[39;49m\u001b[38;5;124;43m\"\u001b[39;49m\u001b[43m)\u001b[49m\n\u001b[0;32m      6\u001b[0m \u001b[43m                \u001b[49m\u001b[43m)\u001b[49m\u001b[38;5;241;43m.\u001b[39;49m\u001b[43mvalues\u001b[49m\u001b[43m(\u001b[49m\u001b[38;5;124;43m\"\u001b[39;49m\u001b[38;5;124;43muser__user_uid\u001b[39;49m\u001b[38;5;124;43m\"\u001b[39;49m\u001b[43m)\u001b[49m\u001b[38;5;241;43m.\u001b[39;49m\u001b[43mannotate\u001b[49m\u001b[43m(\u001b[49m\n\u001b[0;32m      7\u001b[0m \u001b[43m                    \u001b[49m\u001b[43mtotal_number_of_galas\u001b[49m\u001b[43m \u001b[49m\u001b[38;5;241;43m=\u001b[39;49m\u001b[43m \u001b[49m\u001b[43mCount\u001b[49m\u001b[43m(\u001b[49m\u001b[38;5;124;43m\"\u001b[39;49m\u001b[38;5;124;43muser__user_uid\u001b[39;49m\u001b[38;5;124;43m\"\u001b[39;49m\u001b[43m)\u001b[49m\n\u001b[0;32m      8\u001b[0m \u001b[43m                \u001b[49m\u001b[43m)\u001b[49m\u001b[38;5;241;43m.\u001b[39;49m\u001b[43mvalues\u001b[49m\u001b[43m(\u001b[49m\u001b[38;5;124;43m\"\u001b[39;49m\u001b[38;5;124;43mtotal_number_of_galas\u001b[39;49m\u001b[38;5;124;43m\"\u001b[39;49m\u001b[43m)\u001b[49m\u001b[43m,\u001b[49m\n\u001b[0;32m      9\u001b[0m \u001b[43m            \u001b[49m\u001b[43m)\u001b[49m\u001b[38;5;241;43m.\u001b[39;49m\u001b[43mannotate\u001b[49m\u001b[43m(\u001b[49m\u001b[43mtotal_number_of_warehouse\u001b[49m\u001b[43m \u001b[49m\u001b[38;5;241;43m=\u001b[39;49m\u001b[43m \u001b[49m\u001b[43mContractRental\u001b[49m\u001b[38;5;241;43m.\u001b[39;49m\u001b[43mobjects\u001b[49m\u001b[38;5;241;43m.\u001b[39;49m\u001b[43mfilter\u001b[49m\u001b[43m(\u001b[49m\u001b[43muser__user_uid\u001b[49m\u001b[43m \u001b[49m\u001b[38;5;241;43m=\u001b[39;49m\u001b[43m \u001b[49m\u001b[43mOuterRef\u001b[49m\u001b[43m(\u001b[49m\u001b[38;5;124;43m\"\u001b[39;49m\u001b[38;5;124;43muser_uid\u001b[39;49m\u001b[38;5;124;43m\"\u001b[39;49m\u001b[43m)\u001b[49m\u001b[43m)\u001b[49m\u001b[38;5;241;43m.\u001b[39;49m\u001b[43mvalues\u001b[49m\u001b[43m(\u001b[49m\n\u001b[0;32m     10\u001b[0m \u001b[43m                \u001b[49m\u001b[38;5;124;43m\"\u001b[39;49m\u001b[38;5;124;43mgala__warehouse_id\u001b[39;49m\u001b[38;5;124;43m\"\u001b[39;49m\u001b[43m)\u001b[49m\u001b[38;5;241;43m.\u001b[39;49m\u001b[43mannotate\u001b[49m\u001b[43m(\u001b[49m\u001b[43mtotal_number_of_warehouse\u001b[49m\u001b[43m \u001b[49m\u001b[38;5;241;43m=\u001b[39;49m\u001b[43m \u001b[49m\u001b[43mCount\u001b[49m\u001b[43m(\u001b[49m\u001b[38;5;124;43m\"\u001b[39;49m\u001b[38;5;124;43mgala__warehouse_id\u001b[39;49m\u001b[38;5;124;43m\"\u001b[39;49m\u001b[43m)\u001b[49m\u001b[43m)\u001b[49m\u001b[38;5;241;43m.\u001b[39;49m\u001b[43mvalues\u001b[49m\u001b[43m(\u001b[49m\u001b[38;5;124;43m\"\u001b[39;49m\u001b[38;5;124;43mtotal_number_of_warehouse\u001b[39;49m\u001b[38;5;124;43m\"\u001b[39;49m\u001b[43m)\u001b[49m\u001b[38;5;241;43m.\u001b[39;49m\u001b[43maaggregate\u001b[49m\u001b[43m(\u001b[49m\u001b[43m)\u001b[49m\u001b[43m)\u001b[49m\n",
      "File \u001b[1;32mC:\\Omkar-Development\\virtualenv\\lib\\site-packages\\django\\db\\models\\query.py:1575\u001b[0m, in \u001b[0;36mQuerySet.annotate\u001b[1;34m(self, *args, **kwargs)\u001b[0m\n\u001b[0;32m   1570\u001b[0m \u001b[38;5;124;03m\"\"\"\u001b[39;00m\n\u001b[0;32m   1571\u001b[0m \u001b[38;5;124;03mReturn a query set in which the returned objects have been annotated\u001b[39;00m\n\u001b[0;32m   1572\u001b[0m \u001b[38;5;124;03mwith extra data or aggregations.\u001b[39;00m\n\u001b[0;32m   1573\u001b[0m \u001b[38;5;124;03m\"\"\"\u001b[39;00m\n\u001b[0;32m   1574\u001b[0m \u001b[38;5;28mself\u001b[39m\u001b[38;5;241m.\u001b[39m_not_support_combined_queries(\u001b[38;5;124m\"\u001b[39m\u001b[38;5;124mannotate\u001b[39m\u001b[38;5;124m\"\u001b[39m)\n\u001b[1;32m-> 1575\u001b[0m \u001b[38;5;28;01mreturn\u001b[39;00m \u001b[38;5;28;43mself\u001b[39;49m\u001b[38;5;241;43m.\u001b[39;49m\u001b[43m_annotate\u001b[49m\u001b[43m(\u001b[49m\u001b[43margs\u001b[49m\u001b[43m,\u001b[49m\u001b[43m \u001b[49m\u001b[43mkwargs\u001b[49m\u001b[43m,\u001b[49m\u001b[43m \u001b[49m\u001b[43mselect\u001b[49m\u001b[38;5;241;43m=\u001b[39;49m\u001b[38;5;28;43;01mTrue\u001b[39;49;00m\u001b[43m)\u001b[49m\n",
      "File \u001b[1;32mC:\\Omkar-Development\\virtualenv\\lib\\site-packages\\django\\db\\models\\query.py:1585\u001b[0m, in \u001b[0;36mQuerySet._annotate\u001b[1;34m(self, args, kwargs, select)\u001b[0m\n\u001b[0;32m   1584\u001b[0m \u001b[38;5;28;01mdef\u001b[39;00m \u001b[38;5;21m_annotate\u001b[39m(\u001b[38;5;28mself\u001b[39m, args, kwargs, select\u001b[38;5;241m=\u001b[39m\u001b[38;5;28;01mTrue\u001b[39;00m):\n\u001b[1;32m-> 1585\u001b[0m     \u001b[38;5;28;43mself\u001b[39;49m\u001b[38;5;241;43m.\u001b[39;49m\u001b[43m_validate_values_are_expressions\u001b[49m\u001b[43m(\u001b[49m\n\u001b[0;32m   1586\u001b[0m \u001b[43m        \u001b[49m\u001b[43margs\u001b[49m\u001b[43m \u001b[49m\u001b[38;5;241;43m+\u001b[39;49m\u001b[43m \u001b[49m\u001b[38;5;28;43mtuple\u001b[39;49m\u001b[43m(\u001b[49m\u001b[43mkwargs\u001b[49m\u001b[38;5;241;43m.\u001b[39;49m\u001b[43mvalues\u001b[49m\u001b[43m(\u001b[49m\u001b[43m)\u001b[49m\u001b[43m)\u001b[49m\u001b[43m,\u001b[49m\u001b[43m \u001b[49m\u001b[43mmethod_name\u001b[49m\u001b[38;5;241;43m=\u001b[39;49m\u001b[38;5;124;43m\"\u001b[39;49m\u001b[38;5;124;43mannotate\u001b[39;49m\u001b[38;5;124;43m\"\u001b[39;49m\n\u001b[0;32m   1587\u001b[0m \u001b[43m    \u001b[49m\u001b[43m)\u001b[49m\n\u001b[0;32m   1588\u001b[0m     annotations \u001b[38;5;241m=\u001b[39m {}\n\u001b[0;32m   1589\u001b[0m     \u001b[38;5;28;01mfor\u001b[39;00m arg \u001b[38;5;129;01min\u001b[39;00m args:\n\u001b[0;32m   1590\u001b[0m         \u001b[38;5;66;03m# The default_alias property may raise a TypeError.\u001b[39;00m\n",
      "File \u001b[1;32mC:\\Omkar-Development\\virtualenv\\lib\\site-packages\\django\\db\\models\\query.py:1936\u001b[0m, in \u001b[0;36mQuerySet._validate_values_are_expressions\u001b[1;34m(values, method_name)\u001b[0m\n\u001b[0;32m   1932\u001b[0m invalid_args \u001b[38;5;241m=\u001b[39m \u001b[38;5;28msorted\u001b[39m(\n\u001b[0;32m   1933\u001b[0m     \u001b[38;5;28mstr\u001b[39m(arg) \u001b[38;5;28;01mfor\u001b[39;00m arg \u001b[38;5;129;01min\u001b[39;00m values \u001b[38;5;28;01mif\u001b[39;00m \u001b[38;5;129;01mnot\u001b[39;00m \u001b[38;5;28mhasattr\u001b[39m(arg, \u001b[38;5;124m\"\u001b[39m\u001b[38;5;124mresolve_expression\u001b[39m\u001b[38;5;124m\"\u001b[39m)\n\u001b[0;32m   1934\u001b[0m )\n\u001b[0;32m   1935\u001b[0m \u001b[38;5;28;01mif\u001b[39;00m invalid_args:\n\u001b[1;32m-> 1936\u001b[0m     \u001b[38;5;28;01mraise\u001b[39;00m \u001b[38;5;167;01mTypeError\u001b[39;00m(\n\u001b[0;32m   1937\u001b[0m         \u001b[38;5;124m\"\u001b[39m\u001b[38;5;124mQuerySet.\u001b[39m\u001b[38;5;132;01m%s\u001b[39;00m\u001b[38;5;124m() received non-expression(s): \u001b[39m\u001b[38;5;132;01m%s\u001b[39;00m\u001b[38;5;124m.\u001b[39m\u001b[38;5;124m\"\u001b[39m\n\u001b[0;32m   1938\u001b[0m         \u001b[38;5;241m%\u001b[39m (\n\u001b[0;32m   1939\u001b[0m             method_name,\n\u001b[0;32m   1940\u001b[0m             \u001b[38;5;124m\"\u001b[39m\u001b[38;5;124m, \u001b[39m\u001b[38;5;124m\"\u001b[39m\u001b[38;5;241m.\u001b[39mjoin(invalid_args),\n\u001b[0;32m   1941\u001b[0m         )\n\u001b[0;32m   1942\u001b[0m     )\n",
      "\u001b[1;31mTypeError\u001b[0m: QuerySet.annotate() received non-expression(s): <coroutine object QuerySet.aaggregate at 0x0000019848ECD5B0>."
     ]
    }
   ],
   "source": [
    "get_rental_qs = Rental.objects.filter(belong_to__name=\"Omkar\").values(\n",
    "                \"id\",\"user_uid\",\"username\",\"rental_contract__gala__warehouse_id\"\n",
    "            ).distinct().annotate(\n",
    "                total_number_of_galas = ContractRental.objects.filter(\n",
    "                    user__user_uid = OuterRef(\"user_uid\")\n",
    "                ).values(\"user__user_uid\").annotate(\n",
    "                    total_number_of_galas = Count(\"user__user_uid\")\n",
    "                ).values(\"total_number_of_galas\"),\n",
    "            ).annotate(total_number_of_warehouse = ContractRental.objects.filter(user__user_uid = OuterRef(\"user_uid\")).values(\n",
    "                \"gala__warehouse_id\").annotate(total_number_of_warehouse = Count(\"gala__warehouse_id\")).values(\"total_number_of_warehouse\").aaggregate())"
   ]
  },
  {
   "cell_type": "code",
   "execution_count": 343,
   "id": "7dd4ee9c",
   "metadata": {},
   "outputs": [
    {
     "ename": "AttributeError",
     "evalue": "'list' object has no attribute '_iterable_class'",
     "output_type": "error",
     "traceback": [
      "\u001b[1;31m---------------------------------------------------------------------------\u001b[0m",
      "\u001b[1;31mAttributeError\u001b[0m                            Traceback (most recent call last)",
      "Cell \u001b[1;32mIn[343], line 1\u001b[0m\n\u001b[1;32m----> 1\u001b[0m \u001b[43mread_frame\u001b[49m\u001b[43m(\u001b[49m\u001b[43mget_rental_qs\u001b[49m\u001b[43m)\u001b[49m\n",
      "File \u001b[1;32mC:\\Omkar-Development\\virtualenv\\lib\\site-packages\\django_pandas\\io.py:91\u001b[0m, in \u001b[0;36mread_frame\u001b[1;34m(qs, fieldnames, index_col, coerce_float, verbose, datetime_index, column_names)\u001b[0m\n\u001b[0;32m     89\u001b[0m             column_names \u001b[38;5;241m=\u001b[39m \u001b[38;5;28mtuple\u001b[39m(column_names) \u001b[38;5;241m+\u001b[39m (index_col,)\n\u001b[0;32m     90\u001b[0m     fields \u001b[38;5;241m=\u001b[39m to_fields(qs, fieldnames)\n\u001b[1;32m---> 91\u001b[0m \u001b[38;5;28;01melif\u001b[39;00m \u001b[43mis_values_queryset\u001b[49m\u001b[43m(\u001b[49m\u001b[43mqs\u001b[49m\u001b[43m)\u001b[49m:\n\u001b[0;32m     92\u001b[0m     \u001b[38;5;28;01mif\u001b[39;00m django\u001b[38;5;241m.\u001b[39mVERSION \u001b[38;5;241m<\u001b[39m (\u001b[38;5;241m1\u001b[39m, \u001b[38;5;241m9\u001b[39m):  \u001b[38;5;66;03m# pragma: no cover\u001b[39;00m\n\u001b[0;32m     93\u001b[0m         annotation_field_names \u001b[38;5;241m=\u001b[39m \u001b[38;5;28mlist\u001b[39m(qs\u001b[38;5;241m.\u001b[39mquery\u001b[38;5;241m.\u001b[39mannotation_select)\n",
      "File \u001b[1;32mC:\\Omkar-Development\\virtualenv\\lib\\site-packages\\django_pandas\\io.py:39\u001b[0m, in \u001b[0;36mis_values_queryset\u001b[1;34m(qs)\u001b[0m\n\u001b[0;32m     37\u001b[0m     \u001b[38;5;28;01mreturn\u001b[39;00m \u001b[38;5;28misinstance\u001b[39m(qs, django\u001b[38;5;241m.\u001b[39mdb\u001b[38;5;241m.\u001b[39mmodels\u001b[38;5;241m.\u001b[39mquery\u001b[38;5;241m.\u001b[39mValuesQuerySet)\n\u001b[0;32m     38\u001b[0m \u001b[38;5;28;01melse\u001b[39;00m:\n\u001b[1;32m---> 39\u001b[0m     \u001b[38;5;28;01mreturn\u001b[39;00m \u001b[43mqs\u001b[49m\u001b[38;5;241;43m.\u001b[39;49m\u001b[43m_iterable_class\u001b[49m \u001b[38;5;241m==\u001b[39m django\u001b[38;5;241m.\u001b[39mdb\u001b[38;5;241m.\u001b[39mmodels\u001b[38;5;241m.\u001b[39mquery\u001b[38;5;241m.\u001b[39mValuesIterable\n",
      "\u001b[1;31mAttributeError\u001b[0m: 'list' object has no attribute '_iterable_class'"
     ]
    }
   ],
   "source": [
    "read_frame(get_rental_qs)"
   ]
  },
  {
   "cell_type": "code",
   "execution_count": 20,
   "id": "6d0afa3f",
   "metadata": {},
   "outputs": [],
   "source": [
    "from django.db.models import F,CharField,Value\n",
    "from django.db.models.functions import Concat"
   ]
  },
  {
   "cell_type": "code",
   "execution_count": 31,
   "id": "16fa67b9",
   "metadata": {},
   "outputs": [],
   "source": [
    "queryset = Gala.objects.filter(warehouse_id__in = [17]).values(\"uid\",\"warehouse__property_name\").annotate(gala__uid=Concat(F('uid'), Value(f' -- '), F('warehouse__property_name'), output_field=CharField())).values(\"uid\",\"gala__uid\")"
   ]
  },
  {
   "cell_type": "code",
   "execution_count": 32,
   "id": "f081a41d",
   "metadata": {},
   "outputs": [
    {
     "data": {
      "text/plain": [
       "<QuerySet [{'gala__uid': '569ec804ade7404798a06ee06a78fdab -- Omkar Warehouse 3'}, {'gala__uid': '766035a97f0b46d483814b02196f2c46 -- Omkar Warehouse 3'}, {'gala__uid': 'fe484d5bb0754d2594e38655e589019e -- Omkar Warehouse 3'}, {'gala__uid': '0c0a0e3388e943b89f274d1cb27244e1 -- Omkar Warehouse 3'}, {'gala__uid': '3c3ceb2103514e9db4de5bdc274b2a3f -- Omkar Warehouse 3'}, {'gala__uid': '1075efc169ec40d0ac14ef9631a26340 -- Omkar Warehouse 3'}, {'gala__uid': '05d5e54c3afe411cb9fb91a4bfce2d8f -- Omkar Warehouse 3'}, {'gala__uid': '2358fef4900a4379819ce68ff9178f8e -- Omkar Warehouse 3'}, {'gala__uid': '90035859bf194aecb09aaa5b0d1bd70d -- Omkar Warehouse 3'}]>"
      ]
     },
     "execution_count": 32,
     "metadata": {},
     "output_type": "execute_result"
    }
   ],
   "source": [
    "queryset"
   ]
  },
  {
   "cell_type": "code",
   "execution_count": null,
   "id": "6f280b5d",
   "metadata": {},
   "outputs": [],
   "source": [
    "AnyModel.objects.filter(**kwargs).annotate(full_name=Concat(F('model__user_first_name'), Value(' '), F('model__user_last_name'), output_field=CharField()))"
   ]
=======
   "execution_count": null,
   "id": "3876ecb7",
   "metadata": {},
   "outputs": [],
   "source": []
>>>>>>> c59c3c9ca1ee91f2ccbe13dfbebd23aeabd48fd2
  }
 ],
 "metadata": {
  "kernelspec": {
   "display_name": "Python 3 (ipykernel)",
   "language": "python",
   "name": "python3"
  },
  "language_info": {
   "codemirror_mode": {
    "name": "ipython",
    "version": 3
   },
   "file_extension": ".py",
   "mimetype": "text/x-python",
   "name": "python",
   "nbconvert_exporter": "python",
   "pygments_lexer": "ipython3",
   "version": "3.11.0rc1"
  }
 },
 "nbformat": 4,
 "nbformat_minor": 5
}
