{
<<<<<<< HEAD
 "cells": [],
 "metadata": {},
=======
 "cells": [
  {
   "cell_type": "code",
   "execution_count": 1,
   "id": "4e88092d",
   "metadata": {},
   "outputs": [],
   "source": [
    "import os\n",
    "import django\n",
    "os.environ.setdefault('DJANGO_SETTINGS_MODULE', 'omkar_proj.settings')\n",
    "os.environ[\"DJANGO_ALLOW_ASYNC_UNSAFE\"] = \"true\"\n",
    "django.setup()\n",
    "from django_pandas.io import read_frame"
   ]
  },
  {
   "cell_type": "code",
   "execution_count": 2,
   "id": "aa948c4c",
   "metadata": {},
   "outputs": [],
   "source": [
    "from account.models import User,Rental,Investor\n",
    "from warehouse.models import Company,Property,Gala\n",
    "from contract.models import Rental as  ContractRental\n",
    "from contract.models import Investor as  ContractInvestor\n",
    "\n",
    "from django.db.models import Count,OuterRef,Value,Subquery"
   ]
  },
  {
   "cell_type": "code",
   "execution_count": 3,
   "id": "4453f30e",
   "metadata": {},
   "outputs": [
    {
     "data": {
      "text/plain": [
       "<PolymorphicQuerySet [{'user__username': 'snappy-cardinal-argentino', 'owner__username': 'shaggy-lemon-deer'}, {'user__username': 'snappy-cardinal-argentino', 'owner__username': 'stealthy-platinum-lion'}, {'user__username': 'snappy-cardinal-argentino', 'owner__username': 'admin'}, {'user__username': 'Mayank', 'owner__username': 'skinny-xanthic-tamarin'}, {'user__username': 'randy-crimson-caracal', 'owner__username': 'shaggy-lemon-deer'}]>"
      ]
     },
     "execution_count": 3,
     "metadata": {},
     "output_type": "execute_result"
    }
   ],
   "source": [
    "ContractRental.objects.all().values(\"user__username\",\"owner__username\")"
   ]
  },
  {
   "cell_type": "code",
   "execution_count": null,
   "id": "cb25bb88",
   "metadata": {},
   "outputs": [],
   "source": []
  },
  {
   "cell_type": "code",
   "execution_count": 4,
   "id": "b1ddc20e",
   "metadata": {},
   "outputs": [],
   "source": [
    " get_rental_qs = Rental.objects.filter(belong_to__name=\"Omkar\").values(\n",
    "                \"id\",\"user_uid\",\"username\"\n",
    "            ).annotate(\n",
    "                total_number_of_galas = ContractRental.objects.filter(\n",
    "                    user__user_uid = OuterRef(\"user_uid\")\n",
    "                ).values(\"user__user_uid\").annotate(\n",
    "                    total_number_of_galas = Count(\"user__user_uid\")\n",
    "                ).values(\"total_number_of_galas\")\n",
    "             )#.annotate(total_number_of_warehouses = ContractRental.objects.filter(user__user_uid=OuterRef(\"user_uid\")))\n",
    "            \n",
    "        \n",
    "# qs= read_frame(get_rental_qs)\n",
    "# qs"
   ]
  },
  {
   "cell_type": "code",
   "execution_count": 5,
   "id": "3ddecdf9",
   "metadata": {},
   "outputs": [],
   "source": [
    "# get_rental_qs\n",
    "from django.db.models import Value, Subquery"
   ]
  },
  {
   "cell_type": "code",
   "execution_count": 11,
   "id": "0598bf0a",
   "metadata": {},
   "outputs": [],
   "source": [
    "# get_rental_qs = Rental.objects.filter(belong_to__name=\"Omkar\").values(\n",
    "#                 \"user_uid\",\"username\"\n",
    "#             ).annotate(\n",
    "#                 total_number_of_galas = ContractRental.objects.filter(\n",
    "#                     user__user_uid = OuterRef(\"user_uid\")\n",
    "#                 ).values(\"user__user_uid\").annotate(\n",
    "#                     total_number_of_galas = Count(\"user__user_uid\")\n",
    "#                 ).values(\"total_number_of_galas\"),\n",
    "#             ).annotate(total_number_of_warehouse = Subquery(ContractRental.objects.filter(user__user_uid=OuterRef(\"user_uid\")).values(\"user__id\",\"gala__warehouse_id\").distinct().count()))"
   ]
  },
  {
   "cell_type": "code",
   "execution_count": null,
   "id": "a6f6aafd",
   "metadata": {},
   "outputs": [],
   "source": [
    "get_rental_qs"
   ]
  },
  {
   "cell_type": "code",
   "execution_count": 19,
   "id": "7cc6c32d",
   "metadata": {},
   "outputs": [
    {
     "data": {
      "text/plain": [
       "2"
      ]
     },
     "execution_count": 19,
     "metadata": {},
     "output_type": "execute_result"
    }
   ],
   "source": [
    "ContractRental.objects.filter(user__id=5).values(\"user__id\",\"gala__warehouse_id\").distinct().count()"
   ]
  },
  {
   "cell_type": "code",
   "execution_count": null,
   "id": "3bb1418a",
   "metadata": {},
   "outputs": [],
   "source": [
    "get_rental_qs"
   ]
  },
  {
   "cell_type": "code",
   "execution_count": 10,
   "id": "7c80e6c8",
   "metadata": {},
   "outputs": [],
   "source": [
    "# ContractRental.objects.filter(user__user_uid=OuterRef(\"user_uid\")).values(\"user__id\",\"gala__warehouse_id\").distinct().count()"
   ]
  },
  {
   "cell_type": "code",
   "execution_count": null,
   "id": "28bd1ce7",
   "metadata": {},
   "outputs": [],
   "source": []
  },
  {
   "cell_type": "code",
   "execution_count": 6,
   "id": "45346502",
   "metadata": {},
   "outputs": [
    {
     "ename": "FieldError",
     "evalue": "Cannot resolve keyword 'total_warehouse' into field. Choices are: address, app_type, belong_to, birth_date, city, created_at, date_joined, email, farmer_contract, first_name, get_farmer_contract, get_investor_contract, get_owner_contract, groups, id, investor_contract, is_active, is_staff, is_superuser, last_login, last_name, logentry, password, phone, rental_contract, servicerequest, updated_at, user_permissions, user_uid, username, zip_code",
     "output_type": "error",
     "traceback": [
      "\u001b[1;31m---------------------------------------------------------------------------\u001b[0m",
      "\u001b[1;31mFieldError\u001b[0m                                Traceback (most recent call last)",
      "File \u001b[1;32mC:\\Omkar-Development\\virtualenv\\lib\\site-packages\\django\\db\\models\\sql\\query.py:2142\u001b[0m, in \u001b[0;36mQuery.add_fields\u001b[1;34m(self, field_names, allow_m2m)\u001b[0m\n\u001b[0;32m   2139\u001b[0m \u001b[38;5;28;01mfor\u001b[39;00m name \u001b[38;5;129;01min\u001b[39;00m field_names:\n\u001b[0;32m   2140\u001b[0m     \u001b[38;5;66;03m# Join promotion note - we must not remove any rows here, so\u001b[39;00m\n\u001b[0;32m   2141\u001b[0m     \u001b[38;5;66;03m# if there is no existing joins, use outer join.\u001b[39;00m\n\u001b[1;32m-> 2142\u001b[0m     join_info \u001b[38;5;241m=\u001b[39m \u001b[38;5;28;43mself\u001b[39;49m\u001b[38;5;241;43m.\u001b[39;49m\u001b[43msetup_joins\u001b[49m\u001b[43m(\u001b[49m\n\u001b[0;32m   2143\u001b[0m \u001b[43m        \u001b[49m\u001b[43mname\u001b[49m\u001b[38;5;241;43m.\u001b[39;49m\u001b[43msplit\u001b[49m\u001b[43m(\u001b[49m\u001b[43mLOOKUP_SEP\u001b[49m\u001b[43m)\u001b[49m\u001b[43m,\u001b[49m\u001b[43m \u001b[49m\u001b[43mopts\u001b[49m\u001b[43m,\u001b[49m\u001b[43m \u001b[49m\u001b[43malias\u001b[49m\u001b[43m,\u001b[49m\u001b[43m \u001b[49m\u001b[43mallow_many\u001b[49m\u001b[38;5;241;43m=\u001b[39;49m\u001b[43mallow_m2m\u001b[49m\n\u001b[0;32m   2144\u001b[0m \u001b[43m    \u001b[49m\u001b[43m)\u001b[49m\n\u001b[0;32m   2145\u001b[0m     targets, final_alias, joins \u001b[38;5;241m=\u001b[39m \u001b[38;5;28mself\u001b[39m\u001b[38;5;241m.\u001b[39mtrim_joins(\n\u001b[0;32m   2146\u001b[0m         join_info\u001b[38;5;241m.\u001b[39mtargets,\n\u001b[0;32m   2147\u001b[0m         join_info\u001b[38;5;241m.\u001b[39mjoins,\n\u001b[0;32m   2148\u001b[0m         join_info\u001b[38;5;241m.\u001b[39mpath,\n\u001b[0;32m   2149\u001b[0m     )\n",
      "File \u001b[1;32mC:\\Omkar-Development\\virtualenv\\lib\\site-packages\\django\\db\\models\\sql\\query.py:1808\u001b[0m, in \u001b[0;36mQuery.setup_joins\u001b[1;34m(self, names, opts, alias, can_reuse, allow_many, reuse_with_filtered_relation)\u001b[0m\n\u001b[0;32m   1807\u001b[0m \u001b[38;5;28;01mtry\u001b[39;00m:\n\u001b[1;32m-> 1808\u001b[0m     path, final_field, targets, rest \u001b[38;5;241m=\u001b[39m \u001b[38;5;28;43mself\u001b[39;49m\u001b[38;5;241;43m.\u001b[39;49m\u001b[43mnames_to_path\u001b[49m\u001b[43m(\u001b[49m\n\u001b[0;32m   1809\u001b[0m \u001b[43m        \u001b[49m\u001b[43mnames\u001b[49m\u001b[43m[\u001b[49m\u001b[43m:\u001b[49m\u001b[43mpivot\u001b[49m\u001b[43m]\u001b[49m\u001b[43m,\u001b[49m\n\u001b[0;32m   1810\u001b[0m \u001b[43m        \u001b[49m\u001b[43mopts\u001b[49m\u001b[43m,\u001b[49m\n\u001b[0;32m   1811\u001b[0m \u001b[43m        \u001b[49m\u001b[43mallow_many\u001b[49m\u001b[43m,\u001b[49m\n\u001b[0;32m   1812\u001b[0m \u001b[43m        \u001b[49m\u001b[43mfail_on_missing\u001b[49m\u001b[38;5;241;43m=\u001b[39;49m\u001b[38;5;28;43;01mTrue\u001b[39;49;00m\u001b[43m,\u001b[49m\n\u001b[0;32m   1813\u001b[0m \u001b[43m    \u001b[49m\u001b[43m)\u001b[49m\n\u001b[0;32m   1814\u001b[0m \u001b[38;5;28;01mexcept\u001b[39;00m FieldError \u001b[38;5;28;01mas\u001b[39;00m exc:\n",
      "File \u001b[1;32mC:\\Omkar-Development\\virtualenv\\lib\\site-packages\\django\\db\\models\\sql\\query.py:1709\u001b[0m, in \u001b[0;36mQuery.names_to_path\u001b[1;34m(self, names, opts, allow_many, fail_on_missing)\u001b[0m\n\u001b[0;32m   1702\u001b[0m     available \u001b[38;5;241m=\u001b[39m \u001b[38;5;28msorted\u001b[39m(\n\u001b[0;32m   1703\u001b[0m         [\n\u001b[0;32m   1704\u001b[0m             \u001b[38;5;241m*\u001b[39mget_field_names_from_opts(opts),\n\u001b[1;32m   (...)\u001b[0m\n\u001b[0;32m   1707\u001b[0m         ]\n\u001b[0;32m   1708\u001b[0m     )\n\u001b[1;32m-> 1709\u001b[0m     \u001b[38;5;28;01mraise\u001b[39;00m FieldError(\n\u001b[0;32m   1710\u001b[0m         \u001b[38;5;124m\"\u001b[39m\u001b[38;5;124mCannot resolve keyword \u001b[39m\u001b[38;5;124m'\u001b[39m\u001b[38;5;132;01m%s\u001b[39;00m\u001b[38;5;124m'\u001b[39m\u001b[38;5;124m into field. \u001b[39m\u001b[38;5;124m\"\u001b[39m\n\u001b[0;32m   1711\u001b[0m         \u001b[38;5;124m\"\u001b[39m\u001b[38;5;124mChoices are: \u001b[39m\u001b[38;5;132;01m%s\u001b[39;00m\u001b[38;5;124m\"\u001b[39m \u001b[38;5;241m%\u001b[39m (name, \u001b[38;5;124m\"\u001b[39m\u001b[38;5;124m, \u001b[39m\u001b[38;5;124m\"\u001b[39m\u001b[38;5;241m.\u001b[39mjoin(available))\n\u001b[0;32m   1712\u001b[0m     )\n\u001b[0;32m   1713\u001b[0m \u001b[38;5;28;01mbreak\u001b[39;00m\n",
      "\u001b[1;31mFieldError\u001b[0m: Cannot resolve keyword 'total_warehouse' into field. Choices are: address, app_type, belong_to, birth_date, city, created_at, date_joined, email, farmer_contract, first_name, get_farmer_contract, get_investor_contract, get_owner_contract, groups, id, investor_contract, is_active, is_staff, is_superuser, last_login, last_name, logentry, password, phone, rental_contract, servicerequest, updated_at, user_permissions, user_uid, username, zip_code",
      "\nDuring handling of the above exception, another exception occurred:\n",
      "\u001b[1;31mFieldError\u001b[0m                                Traceback (most recent call last)",
      "Cell \u001b[1;32mIn[6], line 1\u001b[0m\n\u001b[1;32m----> 1\u001b[0m get_rental_qs \u001b[38;5;241m=\u001b[39m \u001b[43mRental\u001b[49m\u001b[38;5;241;43m.\u001b[39;49m\u001b[43mobjects\u001b[49m\u001b[38;5;241;43m.\u001b[39;49m\u001b[43mfilter\u001b[49m\u001b[43m(\u001b[49m\u001b[43mbelong_to__name\u001b[49m\u001b[38;5;241;43m=\u001b[39;49m\u001b[38;5;124;43m\"\u001b[39;49m\u001b[38;5;124;43mOmkar\u001b[39;49m\u001b[38;5;124;43m\"\u001b[39;49m\u001b[43m)\u001b[49m\u001b[38;5;241;43m.\u001b[39;49m\u001b[43mvalues\u001b[49m\u001b[43m(\u001b[49m\n\u001b[0;32m      2\u001b[0m \u001b[43m                \u001b[49m\u001b[38;5;124;43m\"\u001b[39;49m\u001b[38;5;124;43mid\u001b[39;49m\u001b[38;5;124;43m\"\u001b[39;49m\u001b[43m,\u001b[49m\u001b[38;5;124;43m\"\u001b[39;49m\u001b[38;5;124;43muser_uid\u001b[39;49m\u001b[38;5;124;43m\"\u001b[39;49m\u001b[43m,\u001b[49m\u001b[38;5;124;43m\"\u001b[39;49m\u001b[38;5;124;43musername\u001b[39;49m\u001b[38;5;124;43m\"\u001b[39;49m\u001b[43m,\u001b[49m\u001b[38;5;124;43m\"\u001b[39;49m\u001b[38;5;124;43mtotal_warehouse\u001b[39;49m\u001b[38;5;124;43m\"\u001b[39;49m\u001b[43m,\u001b[49m\n\u001b[0;32m      3\u001b[0m \u001b[43m            \u001b[49m\u001b[43m)\u001b[49m\u001b[38;5;241m.\u001b[39mannotate(\n\u001b[0;32m      4\u001b[0m                 total_number_of_galas \u001b[38;5;241m=\u001b[39m ContractRental\u001b[38;5;241m.\u001b[39mobjects\u001b[38;5;241m.\u001b[39mfilter(\n\u001b[0;32m      5\u001b[0m                     user__user_uid \u001b[38;5;241m=\u001b[39m OuterRef(\u001b[38;5;124m\"\u001b[39m\u001b[38;5;124muser_uid\u001b[39m\u001b[38;5;124m\"\u001b[39m)\n\u001b[0;32m      6\u001b[0m                 )\u001b[38;5;241m.\u001b[39mvalues(\u001b[38;5;124m\"\u001b[39m\u001b[38;5;124mgala__warehouse__uid\u001b[39m\u001b[38;5;124m\"\u001b[39m)\u001b[38;5;241m.\u001b[39mannotate(\n\u001b[0;32m      7\u001b[0m                     total_number_of_galas \u001b[38;5;241m=\u001b[39m Count(\u001b[38;5;124m\"\u001b[39m\u001b[38;5;124mgala__warehouse__uid\u001b[39m\u001b[38;5;124m\"\u001b[39m)\n\u001b[0;32m      8\u001b[0m                 )\u001b[38;5;241m.\u001b[39mvalues(\u001b[38;5;124m\"\u001b[39m\u001b[38;5;124mtotal_number_of_galas\u001b[39m\u001b[38;5;124m\"\u001b[39m),\n\u001b[0;32m      9\u001b[0m             )\n",
      "File \u001b[1;32mC:\\Omkar-Development\\virtualenv\\lib\\site-packages\\django\\db\\models\\query.py:1298\u001b[0m, in \u001b[0;36mQuerySet.values\u001b[1;34m(self, *fields, **expressions)\u001b[0m\n\u001b[0;32m   1296\u001b[0m \u001b[38;5;28;01mdef\u001b[39;00m \u001b[38;5;21mvalues\u001b[39m(\u001b[38;5;28mself\u001b[39m, \u001b[38;5;241m*\u001b[39mfields, \u001b[38;5;241m*\u001b[39m\u001b[38;5;241m*\u001b[39mexpressions):\n\u001b[0;32m   1297\u001b[0m     fields \u001b[38;5;241m+\u001b[39m\u001b[38;5;241m=\u001b[39m \u001b[38;5;28mtuple\u001b[39m(expressions)\n\u001b[1;32m-> 1298\u001b[0m     clone \u001b[38;5;241m=\u001b[39m \u001b[38;5;28mself\u001b[39m\u001b[38;5;241m.\u001b[39m_values(\u001b[38;5;241m*\u001b[39mfields, \u001b[38;5;241m*\u001b[39m\u001b[38;5;241m*\u001b[39mexpressions)\n\u001b[0;32m   1299\u001b[0m     clone\u001b[38;5;241m.\u001b[39m_iterable_class \u001b[38;5;241m=\u001b[39m ValuesIterable\n\u001b[0;32m   1300\u001b[0m     \u001b[38;5;28;01mreturn\u001b[39;00m clone\n",
      "File \u001b[1;32mC:\\Omkar-Development\\virtualenv\\lib\\site-packages\\django\\db\\models\\query.py:1293\u001b[0m, in \u001b[0;36mQuerySet._values\u001b[1;34m(self, *fields, **expressions)\u001b[0m\n\u001b[0;32m   1291\u001b[0m     clone \u001b[38;5;241m=\u001b[39m clone\u001b[38;5;241m.\u001b[39mannotate(\u001b[38;5;241m*\u001b[39m\u001b[38;5;241m*\u001b[39mexpressions)\n\u001b[0;32m   1292\u001b[0m clone\u001b[38;5;241m.\u001b[39m_fields \u001b[38;5;241m=\u001b[39m fields\n\u001b[1;32m-> 1293\u001b[0m \u001b[43mclone\u001b[49m\u001b[38;5;241;43m.\u001b[39;49m\u001b[43mquery\u001b[49m\u001b[38;5;241;43m.\u001b[39;49m\u001b[43mset_values\u001b[49m\u001b[43m(\u001b[49m\u001b[43mfields\u001b[49m\u001b[43m)\u001b[49m\n\u001b[0;32m   1294\u001b[0m \u001b[38;5;28;01mreturn\u001b[39;00m clone\n",
      "File \u001b[1;32mC:\\Omkar-Development\\virtualenv\\lib\\site-packages\\django\\db\\models\\sql\\query.py:2437\u001b[0m, in \u001b[0;36mQuery.set_values\u001b[1;34m(self, fields)\u001b[0m\n\u001b[0;32m   2434\u001b[0m     \u001b[38;5;28mself\u001b[39m\u001b[38;5;241m.\u001b[39mgroup_by \u001b[38;5;241m=\u001b[39m \u001b[38;5;28mtuple\u001b[39m(group_by)\n\u001b[0;32m   2436\u001b[0m \u001b[38;5;28mself\u001b[39m\u001b[38;5;241m.\u001b[39mvalues_select \u001b[38;5;241m=\u001b[39m \u001b[38;5;28mtuple\u001b[39m(field_names)\n\u001b[1;32m-> 2437\u001b[0m \u001b[38;5;28;43mself\u001b[39;49m\u001b[38;5;241;43m.\u001b[39;49m\u001b[43madd_fields\u001b[49m\u001b[43m(\u001b[49m\u001b[43mfield_names\u001b[49m\u001b[43m,\u001b[49m\u001b[43m \u001b[49m\u001b[38;5;28;43;01mTrue\u001b[39;49;00m\u001b[43m)\u001b[49m\n",
      "File \u001b[1;32mC:\\Omkar-Development\\virtualenv\\lib\\site-packages\\django\\db\\models\\sql\\query.py:2175\u001b[0m, in \u001b[0;36mQuery.add_fields\u001b[1;34m(self, field_names, allow_m2m)\u001b[0m\n\u001b[0;32m   2166\u001b[0m \u001b[38;5;28;01melse\u001b[39;00m:\n\u001b[0;32m   2167\u001b[0m     names \u001b[38;5;241m=\u001b[39m \u001b[38;5;28msorted\u001b[39m(\n\u001b[0;32m   2168\u001b[0m         [\n\u001b[0;32m   2169\u001b[0m             \u001b[38;5;241m*\u001b[39mget_field_names_from_opts(opts),\n\u001b[1;32m   (...)\u001b[0m\n\u001b[0;32m   2173\u001b[0m         ]\n\u001b[0;32m   2174\u001b[0m     )\n\u001b[1;32m-> 2175\u001b[0m     \u001b[38;5;28;01mraise\u001b[39;00m FieldError(\n\u001b[0;32m   2176\u001b[0m         \u001b[38;5;124m\"\u001b[39m\u001b[38;5;124mCannot resolve keyword \u001b[39m\u001b[38;5;132;01m%r\u001b[39;00m\u001b[38;5;124m into field. \u001b[39m\u001b[38;5;124m\"\u001b[39m\n\u001b[0;32m   2177\u001b[0m         \u001b[38;5;124m\"\u001b[39m\u001b[38;5;124mChoices are: \u001b[39m\u001b[38;5;132;01m%s\u001b[39;00m\u001b[38;5;124m\"\u001b[39m \u001b[38;5;241m%\u001b[39m (name, \u001b[38;5;124m\"\u001b[39m\u001b[38;5;124m, \u001b[39m\u001b[38;5;124m\"\u001b[39m\u001b[38;5;241m.\u001b[39mjoin(names))\n\u001b[0;32m   2178\u001b[0m     )\n",
      "\u001b[1;31mFieldError\u001b[0m: Cannot resolve keyword 'total_warehouse' into field. Choices are: address, app_type, belong_to, birth_date, city, created_at, date_joined, email, farmer_contract, first_name, get_farmer_contract, get_investor_contract, get_owner_contract, groups, id, investor_contract, is_active, is_staff, is_superuser, last_login, last_name, logentry, password, phone, rental_contract, servicerequest, updated_at, user_permissions, user_uid, username, zip_code"
     ]
    }
   ],
   "source": [
    "get_rental_qs = Rental.objects.filter(belong_to__name=\"Omkar\").values(\n",
    "                \"id\",\"user_uid\",\"username\",\"total_warehouse\",\n",
    "            ).annotate(\n",
    "                total_number_of_galas = ContractRental.objects.filter(\n",
    "                    user__user_uid = OuterRef(\"user_uid\")\n",
    "                ).values(\"gala__warehouse__uid\").annotate(\n",
    "                    total_number_of_galas = Count(\"gala__warehouse__uid\")\n",
    "                ).values(\"total_number_of_galas\"),\n",
    "            )"
   ]
  },
  {
   "cell_type": "code",
   "execution_count": null,
   "id": "0844892c",
   "metadata": {},
   "outputs": [],
   "source": [
    "get_rental_qs"
   ]
  },
  {
   "cell_type": "code",
   "execution_count": null,
   "id": "da8c8a01",
   "metadata": {},
   "outputs": [],
   "source": []
  },
  {
   "cell_type": "code",
   "execution_count": null,
   "id": "a9c867bf",
   "metadata": {},
   "outputs": [],
   "source": []
  },
  {
   "cell_type": "code",
   "execution_count": 23,
   "id": "863f57e2",
   "metadata": {},
   "outputs": [
    {
     "data": {
      "text/plain": [
       "<QuerySet [<Rental: snappy-cardinal-argentino>, <Rental: snappy-cardinal-argentino>, <Rental: snappy-cardinal-argentino>]>"
      ]
     },
     "execution_count": 23,
     "metadata": {},
     "output_type": "execute_result"
    }
   ],
   "source": [
    "Rental.objects.filter(rental_contract__user__user_uid='51f9c7eb-8f1b-4fcc-9124-58831235d387').prefetch_related(\"rental_contract\")"
   ]
  },
  {
   "cell_type": "code",
   "execution_count": 52,
   "id": "814ed1fe",
   "metadata": {},
   "outputs": [],
   "source": [
    "from django.db.models import (\n",
    "    F,\n",
    "    Value,\n",
    "    Subquery\n",
    ")"
   ]
  },
  {
   "cell_type": "code",
   "execution_count": 302,
   "id": "d7fe229a",
   "metadata": {},
   "outputs": [],
   "source": [
    "get_rental_qs = Rental.objects.filter(belong_to__name=\"Omkar\").values(\n",
    "                \"id\",\"user_uid\",\"username\"\n",
    "            ).annotate(\n",
    "                total_number_of_galas = ContractRental.objects.filter(\n",
    "                    user__user_uid = OuterRef(\"user_uid\")\n",
    "                ).values(\"user__user_uid\").annotate(\n",
    "                    total_number_of_galas = Count(\"user__user_uid\")\n",
    "                ).values(\"total_number_of_galas\"),\n",
    "            ).annotate(total_number_of_warehouse = ContractRental.objects.filter(user__user_uid = OuterRef(\"user_uid\")).values(\"gala__warehouse_id\").annotate(Count('gala__warehouse_id',distinct=True)).annotate(total=ExpressionWrapper(\n",
    "        F('gala__warehouse_id__count') + F('gala__warehouse_id__count'), output_field=IntegerField())).values(\"total\")[:1])"
   ]
  },
  {
   "cell_type": "code",
   "execution_count": 303,
   "id": "5d5bf408",
   "metadata": {},
   "outputs": [
    {
     "data": {
      "text/plain": [
       "<QuerySet [{'id': 2, 'user_uid': UUID('dfef7ec8-d0fe-4e9f-abb1-16187c184320'), 'username': 'Mayank', 'total_number_of_galas': 1, 'total_number_of_warehouse': 2}, {'id': 5, 'user_uid': UUID('51f9c7eb-8f1b-4fcc-9124-58831235d387'), 'username': 'snappy-cardinal-argentino', 'total_number_of_galas': 3, 'total_number_of_warehouse': 2}, {'id': 14, 'user_uid': UUID('1df8502b-66a6-4486-ae21-7e19c3e7bd0a'), 'username': 'randy-crimson-caracal', 'total_number_of_galas': 1, 'total_number_of_warehouse': 2}, {'id': 15, 'user_uid': UUID('4acd799f-7f94-42de-9b6d-1e80b5c5e6b3'), 'username': 'cloudy-champagne-zebu', 'total_number_of_galas': None, 'total_number_of_warehouse': None}, {'id': 19, 'user_uid': UUID('21cc2354-694b-44fd-b9cb-659f1117ac55'), 'username': 'slimy-platinum-tapir', 'total_number_of_galas': None, 'total_number_of_warehouse': None}, {'id': 21, 'user_uid': UUID('0fccdc06-c2e6-45b2-9b91-0100b976e6d3'), 'username': 'squirrely-razzmatazz-moose', 'total_number_of_galas': None, 'total_number_of_warehouse': None}, {'id': 28, 'user_uid': UUID('e7b74f37-29df-4650-b622-7b56626bcdd8'), 'username': 'tasty-platinum-hyrax', 'total_number_of_galas': None, 'total_number_of_warehouse': None}, {'id': 37, 'user_uid': UUID('4e16d99b-f073-471e-b51d-cadedf7a2456'), 'username': 'nerdy-crimson-frise', 'total_number_of_galas': None, 'total_number_of_warehouse': None}, {'id': 50, 'user_uid': UUID('6c8ad82d-2efd-4340-8be4-1225a10aa1f0'), 'username': 'hasty-puce-oyster', 'total_number_of_galas': None, 'total_number_of_warehouse': None}, {'id': 51, 'user_uid': UUID('b749ae76-f68d-4a05-97c5-efa48d6c3be4'), 'username': 'jumpy-maroon-mist', 'total_number_of_galas': None, 'total_number_of_warehouse': None}, {'id': 54, 'user_uid': UUID('8fd78262-8698-4425-8c7f-bb177a4b74df'), 'username': 'freaky-crimson-dodo', 'total_number_of_galas': None, 'total_number_of_warehouse': None}, {'id': 56, 'user_uid': UUID('86f5dfae-cd58-4a64-a1fe-9348d621dd6e'), 'username': 'chummy-magnolia-quoll', 'total_number_of_galas': None, 'total_number_of_warehouse': None}, {'id': 59, 'user_uid': UUID('2d200190-5494-42a3-8c10-c1013079d8e5'), 'username': 'boozy-turquoise-antelope', 'total_number_of_galas': None, 'total_number_of_warehouse': None}, {'id': 60, 'user_uid': UUID('fa3c91d6-ea46-483a-9daa-6dcb1d86a085'), 'username': 'snippy-cinnamon-cheetah', 'total_number_of_galas': None, 'total_number_of_warehouse': None}, {'id': 62, 'user_uid': UUID('f55889f2-9759-496a-829a-5ae676cc67b0'), 'username': 'chewy-yellow-millipede', 'total_number_of_galas': None, 'total_number_of_warehouse': None}, {'id': 66, 'user_uid': UUID('1f38c84f-21b2-4d52-967f-b42c1a1f1966'), 'username': 'wimpy-pear-badger', 'total_number_of_galas': None, 'total_number_of_warehouse': None}, {'id': 67, 'user_uid': UUID('0898e1a1-96d6-4e93-be26-2eaf02177946'), 'username': 'nippy-flax-panda', 'total_number_of_galas': None, 'total_number_of_warehouse': None}, {'id': 68, 'user_uid': UUID('8489a286-72ee-4bb9-b9a1-9795f570d471'), 'username': 'snoopy-corn-mandrill', 'total_number_of_galas': None, 'total_number_of_warehouse': None}, {'id': 72, 'user_uid': UUID('76663926-eec2-496e-997a-fa056db8e69a'), 'username': 'skanky-rust-capuchin', 'total_number_of_galas': None, 'total_number_of_warehouse': None}, {'id': 82, 'user_uid': UUID('89d5a564-fcbd-4107-b835-0516666ff2e0'), 'username': 'lovely-burgundy-shrimp', 'total_number_of_galas': None, 'total_number_of_warehouse': None}, '...(remaining elements truncated)...']>"
      ]
     },
     "execution_count": 303,
     "metadata": {},
     "output_type": "execute_result"
    }
   ],
   "source": [
    "get_rental_qs"
   ]
  },
  {
   "cell_type": "code",
   "execution_count": 46,
   "id": "4bbcf010",
   "metadata": {},
   "outputs": [
    {
     "data": {
      "text/plain": [
       "2"
      ]
     },
     "execution_count": 46,
     "metadata": {},
     "output_type": "execute_result"
    }
   ],
   "source": [
    "ContractRental.objects.filter(user__user_uid = '51f9c7eb-8f1b-4fcc-9124-58831235d387').values(\n",
    "                \"gala__warehouse_id\").order_by(\"gala__warehouse_id\").distinct().__len__()"
   ]
  },
  {
   "cell_type": "code",
   "execution_count": 59,
   "id": "4b3de20e",
   "metadata": {},
   "outputs": [],
   "source": [
    "filters = ContractRental.objects.filter(\n",
    "    user__user_uid='51f9c7eb-8f1b-4fcc-9124-58831235d387'\n",
    ").order_by('id')\n",
    "\n",
    "products = ContractRental.objects.annotate(\n",
    "    number_of_warehouse=Subquery(filters.values('gala__warehouse_id'))\n",
    ")\n"
   ]
  },
  {
   "cell_type": "code",
   "execution_count": 60,
   "id": "c9c857ea",
   "metadata": {},
   "outputs": [
    {
     "data": {
      "text/plain": [
       "<PolymorphicQuerySet [<Rental: Leave_and_License>, <Rental: Leave_and_License>, <Rental: Leave_and_License>, <Rental: Leave_and_License>, <Rental: Leave_and_License>]>"
      ]
     },
     "execution_count": 60,
     "metadata": {},
     "output_type": "execute_result"
    }
   ],
   "source": [
    "products"
   ]
  },
  {
   "cell_type": "code",
   "execution_count": 65,
   "id": "7f24d9f1",
   "metadata": {},
   "outputs": [
    {
     "data": {
      "text/plain": [
       "<PolymorphicQuerySet [{'gala__warehouse_id': 8}, {'gala__warehouse_id': 9}]>"
      ]
     },
     "execution_count": 65,
     "metadata": {},
     "output_type": "execute_result"
    }
   ],
   "source": []
  },
  {
   "cell_type": "code",
   "execution_count": 196,
   "id": "db6b8435",
   "metadata": {},
   "outputs": [],
   "source": [
    "from django.db.models import Aggregate, CharField , IntegerField\n",
    "\n",
    "class GroupConcat(Aggregate):\n",
    "    function = 'GROUP_CONCAT'\n",
    "    template = '%(function)s(%(distinct)s%(expressions)s%(ordering)s%(separator)s)'\n",
    "\n",
    "    def __init__(self, expression, distinct=False, ordering=None, separator=',', **extra):\n",
    "        super(GroupConcat, self).__init__(\n",
    "            expression,\n",
    "            distinct='DISTINCT ' if distinct else '',\n",
    "            ordering=' ORDER BY %s' % ordering if ordering is not None else '',\n",
    "            separator=' SEPARATOR \"%s\"' % separator,\n",
    "            output_field=CharField(),\n",
    "            **extra\n",
    "        )"
   ]
  },
  {
   "cell_type": "code",
   "execution_count": 100,
   "id": "ea3931ab",
   "metadata": {},
   "outputs": [
    {
     "data": {
      "text/plain": [
       "<PolymorphicQuerySet [{'gala__warehouse_id': 8, 'name': '8'}, {'gala__warehouse_id': 9, 'name': '9,9'}]>"
      ]
     },
     "execution_count": 100,
     "metadata": {},
     "output_type": "execute_result"
    }
   ],
   "source": [
    "ContractRental.objects.filter(user__user_uid = '51f9c7eb-8f1b-4fcc-9124-58831235d387').values(\n",
    "                \"gala__warehouse_id\").annotate(name = GroupConcat(\"gala__warehouse_id\"))"
   ]
  },
  {
   "cell_type": "code",
   "execution_count": null,
   "id": "95c2cb0d",
   "metadata": {},
   "outputs": [],
   "source": [
    "f1 = Fruits.objects.values('type').annotate(count = Count('type'),namelist= GroupConcat('namelist')).distinct()"
   ]
  },
  {
   "cell_type": "code",
   "execution_count": 96,
   "id": "cf44f122",
   "metadata": {},
   "outputs": [],
   "source": [
    "# take_list = []\n",
    "# get_total_number_of_warehouse = Rental.objects.filter(rental_contract__user__user_uid='51f9c7eb-8f1b-4fcc-9124-58831235d387')\n",
    "# if get_total_number_of_warehouse.rental_contract.gala.warehouse.id not in take_list:\n",
    "#     take_list.append(get_total_number_of_warehouse.rental_contract.gala.warehouse.id)"
   ]
  },
  {
   "cell_type": "code",
   "execution_count": 194,
   "id": "ab0b89cb",
   "metadata": {},
   "outputs": [],
   "source": [
    "from django.db.models import Aggregate\n",
    "\n",
    "class GroupConcat(Aggregate):\n",
    "    function = 'GROUP_CONCAT'\n",
    "    template = '%(function)s(%(distinct)s%(expressions)s)'\n",
    "\n",
    "    def __init__(self, expression, distinct=False, **extra):\n",
    "        super(GroupConcat, self).__init__(\n",
    "            expression,\n",
    "            distinct='DISTINCT ' if distinct else '',\n",
    "            output_field=CharField(),\n",
    "            **extra)"
   ]
  },
  {
   "cell_type": "code",
   "execution_count": 99,
   "id": "d22c2312",
   "metadata": {},
   "outputs": [
    {
     "data": {
      "text/plain": [
       "<PolymorphicQuerySet [{'user__username': 'snappy-cardinal-argentino', 'dname': 'snappy-cardinal-argentino,snappy-cardinal-argentino,snappy-cardinal-argentino'}]>"
      ]
     },
     "execution_count": 99,
     "metadata": {},
     "output_type": "execute_result"
    }
   ],
   "source": [
    "ContractRental.objects.filter(user__user_uid = '51f9c7eb-8f1b-4fcc-9124-58831235d387').values('user__username').annotate(dname=GroupConcat('user__username')).order_by('user__username')"
   ]
  },
  {
   "cell_type": "code",
   "execution_count": 137,
   "id": "d4803afd",
   "metadata": {},
   "outputs": [
    {
     "data": {
      "text/plain": [
       "{8, 9}"
      ]
     },
     "execution_count": 137,
     "metadata": {},
     "output_type": "execute_result"
    }
   ],
   "source": [
    "ContractRental.objects.filter(user__user_uid = '51f9c7eb-8f1b-4fcc-9124-58831235d387').values_list(\"gala__warehouse_id\",flat=True)"
   ]
  },
  {
   "cell_type": "code",
   "execution_count": 291,
   "id": "45204f93",
   "metadata": {},
   "outputs": [],
   "source": [
    "from django.db.models import Sum, ExpressionWrapper"
   ]
  },
  {
   "cell_type": "code",
   "execution_count": null,
   "id": "ee4b72b2",
   "metadata": {},
   "outputs": [],
   "source": []
  },
  {
   "cell_type": "code",
   "execution_count": null,
   "id": "c5c4c96b",
   "metadata": {},
   "outputs": [],
   "source": [
    "dups = (\n",
    "    ContractRental.objects.values('name')\n",
    "    .annotate(count=Count('id'))\n",
    "    .values('name')\n",
    "    .order_by()\n",
    "    .filter(count__gt=1)\n",
    ")"
   ]
  },
  {
   "cell_type": "code",
   "execution_count": 331,
   "id": "c78f986e",
   "metadata": {
    "scrolled": true
   },
   "outputs": [
    {
     "data": {
      "text/plain": [
       "<PolymorphicQuerySet [{'total_warehouse': 1}, {'total_warehouse': 2}]>"
      ]
     },
     "execution_count": 331,
     "metadata": {},
     "output_type": "execute_result"
    }
   ],
   "source": [
    "\n",
    "\n",
    "\n",
    "\n",
    "\n",
    "\n",
    "\n"
   ]
  },
  {
   "cell_type": "code",
   "execution_count": 298,
   "id": "6dc22d76",
   "metadata": {},
   "outputs": [
    {
     "ename": "SyntaxError",
     "evalue": "incomplete input (630129820.py, line 2)",
     "output_type": "error",
     "traceback": [
      "\u001b[1;36m  Cell \u001b[1;32mIn[298], line 2\u001b[1;36m\u001b[0m\n\u001b[1;33m    F('answerresponse__realcoef_sum') * F('answerresponse__answer__question__points'), output_field=IntegerField()\u001b[0m\n\u001b[1;37m                                                                                                                  ^\u001b[0m\n\u001b[1;31mSyntaxError\u001b[0m\u001b[1;31m:\u001b[0m incomplete input\n"
     ]
    }
   ],
   "source": [
    "# ExpressionWrapper(\n",
    "#         F('answerresponse__realcoef_sum') * F('answerresponse__answer__question__points'), output_field=IntegerField()"
   ]
  },
  {
   "cell_type": "code",
   "execution_count": null,
   "id": "0c20aa15",
   "metadata": {},
   "outputs": [],
   "source": [
    ".annotate(Count('gala__warehouse_id',distinct=True)).annotate(total=ExpressionWrapper(\n",
    "        aggregate(Count(F('gala__warehouse_id__count')), output_field=IntegerField())).values(\"total\"))"
   ]
  },
  {
   "cell_type": "code",
   "execution_count": null,
   "id": "98457495",
   "metadata": {},
   "outputs": [],
   "source": []
  },
  {
   "cell_type": "code",
   "execution_count": null,
   "id": "35cea5e6",
   "metadata": {},
   "outputs": [],
   "source": []
  },
  {
   "cell_type": "code",
   "execution_count": 155,
   "id": "24f4a376",
   "metadata": {},
   "outputs": [],
   "source": [
    "# Company.objects.get(name = \"Omkar\").user_set.all()"
   ]
  },
  {
   "cell_type": "code",
   "execution_count": 183,
   "id": "a5c410b9",
   "metadata": {},
   "outputs": [],
   "source": [
    "get_rental_qs = Rental.objects.filter(belong_to__name=\"Omkar\").values(\n",
    "    \"id\",\"user_uid\",\"username\"\n",
    ").annotate(\n",
    "    total_number_of_galas = ContractRental.objects.filter(\n",
    "        user__user_uid = OuterRef(\"user_uid\")\n",
    "    ).values(\"user__user_uid\").annotate(\n",
    "        total_number_of_galas = Count(\"user__user_uid\")\n",
    "    ).values(\"total_number_of_galas\"),\n",
    ")"
   ]
  },
  {
   "cell_type": "code",
   "execution_count": 184,
   "id": "a7fff680",
   "metadata": {},
   "outputs": [
    {
     "data": {
      "text/plain": [
       "<QuerySet [{'id': 2, 'user_uid': UUID('dfef7ec8-d0fe-4e9f-abb1-16187c184320'), 'username': 'Mayank', 'total_number_of_galas': 1}, {'id': 5, 'user_uid': UUID('51f9c7eb-8f1b-4fcc-9124-58831235d387'), 'username': 'snappy-cardinal-argentino', 'total_number_of_galas': 3}, {'id': 14, 'user_uid': UUID('1df8502b-66a6-4486-ae21-7e19c3e7bd0a'), 'username': 'randy-crimson-caracal', 'total_number_of_galas': 1}, {'id': 15, 'user_uid': UUID('4acd799f-7f94-42de-9b6d-1e80b5c5e6b3'), 'username': 'cloudy-champagne-zebu', 'total_number_of_galas': None}, {'id': 19, 'user_uid': UUID('21cc2354-694b-44fd-b9cb-659f1117ac55'), 'username': 'slimy-platinum-tapir', 'total_number_of_galas': None}, {'id': 21, 'user_uid': UUID('0fccdc06-c2e6-45b2-9b91-0100b976e6d3'), 'username': 'squirrely-razzmatazz-moose', 'total_number_of_galas': None}, {'id': 28, 'user_uid': UUID('e7b74f37-29df-4650-b622-7b56626bcdd8'), 'username': 'tasty-platinum-hyrax', 'total_number_of_galas': None}, {'id': 37, 'user_uid': UUID('4e16d99b-f073-471e-b51d-cadedf7a2456'), 'username': 'nerdy-crimson-frise', 'total_number_of_galas': None}, {'id': 50, 'user_uid': UUID('6c8ad82d-2efd-4340-8be4-1225a10aa1f0'), 'username': 'hasty-puce-oyster', 'total_number_of_galas': None}, {'id': 51, 'user_uid': UUID('b749ae76-f68d-4a05-97c5-efa48d6c3be4'), 'username': 'jumpy-maroon-mist', 'total_number_of_galas': None}, {'id': 54, 'user_uid': UUID('8fd78262-8698-4425-8c7f-bb177a4b74df'), 'username': 'freaky-crimson-dodo', 'total_number_of_galas': None}, {'id': 56, 'user_uid': UUID('86f5dfae-cd58-4a64-a1fe-9348d621dd6e'), 'username': 'chummy-magnolia-quoll', 'total_number_of_galas': None}, {'id': 59, 'user_uid': UUID('2d200190-5494-42a3-8c10-c1013079d8e5'), 'username': 'boozy-turquoise-antelope', 'total_number_of_galas': None}, {'id': 60, 'user_uid': UUID('fa3c91d6-ea46-483a-9daa-6dcb1d86a085'), 'username': 'snippy-cinnamon-cheetah', 'total_number_of_galas': None}, {'id': 62, 'user_uid': UUID('f55889f2-9759-496a-829a-5ae676cc67b0'), 'username': 'chewy-yellow-millipede', 'total_number_of_galas': None}, {'id': 66, 'user_uid': UUID('1f38c84f-21b2-4d52-967f-b42c1a1f1966'), 'username': 'wimpy-pear-badger', 'total_number_of_galas': None}, {'id': 67, 'user_uid': UUID('0898e1a1-96d6-4e93-be26-2eaf02177946'), 'username': 'nippy-flax-panda', 'total_number_of_galas': None}, {'id': 68, 'user_uid': UUID('8489a286-72ee-4bb9-b9a1-9795f570d471'), 'username': 'snoopy-corn-mandrill', 'total_number_of_galas': None}, {'id': 72, 'user_uid': UUID('76663926-eec2-496e-997a-fa056db8e69a'), 'username': 'skanky-rust-capuchin', 'total_number_of_galas': None}, {'id': 82, 'user_uid': UUID('89d5a564-fcbd-4107-b835-0516666ff2e0'), 'username': 'lovely-burgundy-shrimp', 'total_number_of_galas': None}, '...(remaining elements truncated)...']>"
      ]
     },
     "execution_count": 184,
     "metadata": {},
     "output_type": "execute_result"
    }
   ],
   "source": [
    "get_rental_qs"
   ]
  },
  {
   "cell_type": "code",
   "execution_count": 269,
   "id": "0f0e7cd0",
   "metadata": {},
   "outputs": [],
   "source": [
    "get_rental_qs = Rental.objects.filter(belong_to__name=\"Omkar\").values(\n",
    "    \"id\",\"user_uid\",\"username\",\"rental_contract__gala__warehouse__id\"\n",
    ")"
   ]
  },
  {
   "cell_type": "code",
   "execution_count": 270,
   "id": "174e39ac",
   "metadata": {},
   "outputs": [],
   "source": [
    "df = read_frame(get_rental_qs)"
   ]
  },
  {
   "cell_type": "code",
   "execution_count": 271,
   "id": "546b1787",
   "metadata": {},
   "outputs": [],
   "source": [
    "import numpy as np"
   ]
  },
  {
   "cell_type": "code",
   "execution_count": 272,
   "id": "0341fff7",
   "metadata": {},
   "outputs": [],
   "source": [
    "df.dropna(inplace=True)"
   ]
  },
  {
   "cell_type": "code",
   "execution_count": 273,
   "id": "316f16b3",
   "metadata": {},
   "outputs": [
    {
     "data": {
      "text/html": [
       "<div>\n",
       "<style scoped>\n",
       "    .dataframe tbody tr th:only-of-type {\n",
       "        vertical-align: middle;\n",
       "    }\n",
       "\n",
       "    .dataframe tbody tr th {\n",
       "        vertical-align: top;\n",
       "    }\n",
       "\n",
       "    .dataframe thead th {\n",
       "        text-align: right;\n",
       "    }\n",
       "</style>\n",
       "<table border=\"1\" class=\"dataframe\">\n",
       "  <thead>\n",
       "    <tr style=\"text-align: right;\">\n",
       "      <th></th>\n",
       "      <th>id</th>\n",
       "      <th>user_uid</th>\n",
       "      <th>username</th>\n",
       "      <th>rental_contract__gala__warehouse__id</th>\n",
       "    </tr>\n",
       "  </thead>\n",
       "  <tbody>\n",
       "    <tr>\n",
       "      <th>0</th>\n",
       "      <td>2</td>\n",
       "      <td>dfef7ec8-d0fe-4e9f-abb1-16187c184320</td>\n",
       "      <td>Mayank</td>\n",
       "      <td>9.0</td>\n",
       "    </tr>\n",
       "    <tr>\n",
       "      <th>1</th>\n",
       "      <td>5</td>\n",
       "      <td>51f9c7eb-8f1b-4fcc-9124-58831235d387</td>\n",
       "      <td>snappy-cardinal-argentino</td>\n",
       "      <td>9.0</td>\n",
       "    </tr>\n",
       "    <tr>\n",
       "      <th>2</th>\n",
       "      <td>5</td>\n",
       "      <td>51f9c7eb-8f1b-4fcc-9124-58831235d387</td>\n",
       "      <td>snappy-cardinal-argentino</td>\n",
       "      <td>9.0</td>\n",
       "    </tr>\n",
       "    <tr>\n",
       "      <th>3</th>\n",
       "      <td>5</td>\n",
       "      <td>51f9c7eb-8f1b-4fcc-9124-58831235d387</td>\n",
       "      <td>snappy-cardinal-argentino</td>\n",
       "      <td>8.0</td>\n",
       "    </tr>\n",
       "    <tr>\n",
       "      <th>4</th>\n",
       "      <td>14</td>\n",
       "      <td>1df8502b-66a6-4486-ae21-7e19c3e7bd0a</td>\n",
       "      <td>randy-crimson-caracal</td>\n",
       "      <td>8.0</td>\n",
       "    </tr>\n",
       "  </tbody>\n",
       "</table>\n",
       "</div>"
      ],
      "text/plain": [
       "   id                              user_uid                   username  \\\n",
       "0   2  dfef7ec8-d0fe-4e9f-abb1-16187c184320                     Mayank   \n",
       "1   5  51f9c7eb-8f1b-4fcc-9124-58831235d387  snappy-cardinal-argentino   \n",
       "2   5  51f9c7eb-8f1b-4fcc-9124-58831235d387  snappy-cardinal-argentino   \n",
       "3   5  51f9c7eb-8f1b-4fcc-9124-58831235d387  snappy-cardinal-argentino   \n",
       "4  14  1df8502b-66a6-4486-ae21-7e19c3e7bd0a      randy-crimson-caracal   \n",
       "\n",
       "   rental_contract__gala__warehouse__id  \n",
       "0                                   9.0  \n",
       "1                                   9.0  \n",
       "2                                   9.0  \n",
       "3                                   8.0  \n",
       "4                                   8.0  "
      ]
     },
     "execution_count": 273,
     "metadata": {},
     "output_type": "execute_result"
    }
   ],
   "source": [
    "df"
   ]
  },
  {
   "cell_type": "code",
   "execution_count": 274,
   "id": "3d08117b",
   "metadata": {},
   "outputs": [],
   "source": [
    "df['total_number_of_galas'] = df.groupby('user_uid')['rental_contract__gala__warehouse__id'].transform('size')"
   ]
  },
  {
   "cell_type": "code",
   "execution_count": 275,
   "id": "cc03eb7a",
   "metadata": {},
   "outputs": [],
   "source": [
    "df.drop_duplicates(subset=['username','rental_contract__gala__warehouse__id'],inplace=True)"
   ]
  },
  {
   "cell_type": "code",
   "execution_count": 276,
   "id": "b328f12d",
   "metadata": {},
   "outputs": [],
   "source": [
    "df['total_number_of_warehouse'] = df.groupby('user_uid')['rental_contract__gala__warehouse__id'].transform('size')"
   ]
  },
  {
   "cell_type": "code",
   "execution_count": 277,
   "id": "743a1c54",
   "metadata": {},
   "outputs": [],
   "source": [
    "df.drop_duplicates(subset=['username'],inplace=True)"
   ]
  },
  {
   "cell_type": "code",
   "execution_count": 281,
   "id": "b99b5203",
   "metadata": {
    "scrolled": true
   },
   "outputs": [],
   "source": [
    "import uuid, random, urllib\n",
    "from django.urls import reverse\n",
    "def build_url(*args, **kwargs):\n",
    "    get = kwargs.pop('get', {})\n",
    "    url = reverse(*args, **kwargs)\n",
    "    if get:\n",
    "        url += '?' + urllib.parse.urlencode(get)\n",
    "    return url"
   ]
  },
  {
   "cell_type": "code",
   "execution_count": 282,
   "id": "6d4f9879",
   "metadata": {},
   "outputs": [
    {
     "ename": "NameError",
     "evalue": "name 'get_company_type' is not defined",
     "output_type": "error",
     "traceback": [
      "\u001b[1;31m---------------------------------------------------------------------------\u001b[0m",
      "\u001b[1;31mNameError\u001b[0m                                 Traceback (most recent call last)",
      "Cell \u001b[1;32mIn[282], line 1\u001b[0m\n\u001b[1;32m----> 1\u001b[0m url \u001b[38;5;241m=\u001b[39m build_url(\u001b[38;5;124m'\u001b[39m\u001b[38;5;124mget-rental-warehouse-detail\u001b[39m\u001b[38;5;124m'\u001b[39m, get\u001b[38;5;241m=\u001b[39m{\u001b[38;5;124m'\u001b[39m\u001b[38;5;124mcompany_type\u001b[39m\u001b[38;5;124m'\u001b[39m: \u001b[43mget_company_type\u001b[49m},kwargs\u001b[38;5;241m=\u001b[39m{\u001b[38;5;124m\"\u001b[39m\u001b[38;5;124muuid\u001b[39m\u001b[38;5;124m\"\u001b[39m:instance[\u001b[38;5;124m'\u001b[39m\u001b[38;5;124muser_uid\u001b[39m\u001b[38;5;124m'\u001b[39m]})\n",
      "\u001b[1;31mNameError\u001b[0m: name 'get_company_type' is not defined"
     ]
    }
   ],
   "source": [
    "url = build_url('get-rental-warehouse-detail', get={'company_type': get_company_type},kwargs={\"uuid\":instance['user_uid']})"
   ]
  },
  {
   "cell_type": "code",
   "execution_count": 283,
   "id": "e2d1b805",
   "metadata": {},
   "outputs": [],
   "source": [
    "df['url'] = df['user_uid'].apply(lambda x : build_url('get-rental-warehouse-detail', get={'company_type': 'Omkar'},kwargs={\"uuid\":x}))"
   ]
  },
  {
   "cell_type": "code",
   "execution_count": 286,
   "id": "22d48195",
   "metadata": {},
   "outputs": [
    {
     "data": {
      "text/plain": [
       "'/admin-api/get-rental-warehouse-detail/dfef7ec8-d0fe-4e9f-abb1-16187c184320/?company_type=Omkar'"
      ]
     },
     "execution_count": 286,
     "metadata": {},
     "output_type": "execute_result"
    }
   ],
   "source": [
    "df.iloc[0,-1]"
   ]
  },
  {
   "cell_type": "code",
   "execution_count": 287,
   "id": "5163e8d6",
   "metadata": {},
   "outputs": [
    {
     "data": {
      "text/html": [
       "<div>\n",
       "<style scoped>\n",
       "    .dataframe tbody tr th:only-of-type {\n",
       "        vertical-align: middle;\n",
       "    }\n",
       "\n",
       "    .dataframe tbody tr th {\n",
       "        vertical-align: top;\n",
       "    }\n",
       "\n",
       "    .dataframe thead th {\n",
       "        text-align: right;\n",
       "    }\n",
       "</style>\n",
       "<table border=\"1\" class=\"dataframe\">\n",
       "  <thead>\n",
       "    <tr style=\"text-align: right;\">\n",
       "      <th></th>\n",
       "      <th>id</th>\n",
       "      <th>user_uid</th>\n",
       "      <th>username</th>\n",
       "      <th>rental_contract__gala__warehouse__id</th>\n",
       "      <th>total_number_of_galas</th>\n",
       "      <th>total_number_of_warehouse</th>\n",
       "      <th>url</th>\n",
       "    </tr>\n",
       "  </thead>\n",
       "  <tbody>\n",
       "    <tr>\n",
       "      <th>0</th>\n",
       "      <td>2</td>\n",
       "      <td>dfef7ec8-d0fe-4e9f-abb1-16187c184320</td>\n",
       "      <td>Mayank</td>\n",
       "      <td>9.0</td>\n",
       "      <td>1</td>\n",
       "      <td>1</td>\n",
       "      <td>/admin-api/get-rental-warehouse-detail/dfef7ec...</td>\n",
       "    </tr>\n",
       "    <tr>\n",
       "      <th>1</th>\n",
       "      <td>5</td>\n",
       "      <td>51f9c7eb-8f1b-4fcc-9124-58831235d387</td>\n",
       "      <td>snappy-cardinal-argentino</td>\n",
       "      <td>9.0</td>\n",
       "      <td>3</td>\n",
       "      <td>2</td>\n",
       "      <td>/admin-api/get-rental-warehouse-detail/51f9c7e...</td>\n",
       "    </tr>\n",
       "    <tr>\n",
       "      <th>4</th>\n",
       "      <td>14</td>\n",
       "      <td>1df8502b-66a6-4486-ae21-7e19c3e7bd0a</td>\n",
       "      <td>randy-crimson-caracal</td>\n",
       "      <td>8.0</td>\n",
       "      <td>1</td>\n",
       "      <td>1</td>\n",
       "      <td>/admin-api/get-rental-warehouse-detail/1df8502...</td>\n",
       "    </tr>\n",
       "  </tbody>\n",
       "</table>\n",
       "</div>"
      ],
      "text/plain": [
       "   id                              user_uid                   username  \\\n",
       "0   2  dfef7ec8-d0fe-4e9f-abb1-16187c184320                     Mayank   \n",
       "1   5  51f9c7eb-8f1b-4fcc-9124-58831235d387  snappy-cardinal-argentino   \n",
       "4  14  1df8502b-66a6-4486-ae21-7e19c3e7bd0a      randy-crimson-caracal   \n",
       "\n",
       "   rental_contract__gala__warehouse__id  total_number_of_galas  \\\n",
       "0                                   9.0                      1   \n",
       "1                                   9.0                      3   \n",
       "4                                   8.0                      1   \n",
       "\n",
       "   total_number_of_warehouse  \\\n",
       "0                          1   \n",
       "1                          2   \n",
       "4                          1   \n",
       "\n",
       "                                                 url  \n",
       "0  /admin-api/get-rental-warehouse-detail/dfef7ec...  \n",
       "1  /admin-api/get-rental-warehouse-detail/51f9c7e...  \n",
       "4  /admin-api/get-rental-warehouse-detail/1df8502...  "
      ]
     },
     "execution_count": 287,
     "metadata": {},
     "output_type": "execute_result"
    }
   ],
   "source": [
    "df"
   ]
  },
  {
   "cell_type": "code",
   "execution_count": 268,
   "id": "9e2154a0",
   "metadata": {},
   "outputs": [
    {
     "data": {
      "text/plain": [
       "<PolymorphicQuerySet [{'gala__warehouse_id': 8, 'user__username': 'randy-crimson-caracal', 'user__user_uid': UUID('1df8502b-66a6-4486-ae21-7e19c3e7bd0a'), 'gala__warehouse_id__count': 1}, {'gala__warehouse_id': 8, 'user__username': 'snappy-cardinal-argentino', 'user__user_uid': UUID('51f9c7eb-8f1b-4fcc-9124-58831235d387'), 'gala__warehouse_id__count': 1}, {'gala__warehouse_id': 9, 'user__username': 'Mayank', 'user__user_uid': UUID('dfef7ec8-d0fe-4e9f-abb1-16187c184320'), 'gala__warehouse_id__count': 1}, {'gala__warehouse_id': 9, 'user__username': 'snappy-cardinal-argentino', 'user__user_uid': UUID('51f9c7eb-8f1b-4fcc-9124-58831235d387'), 'gala__warehouse_id__count': 2}]>"
      ]
     },
     "execution_count": 268,
     "metadata": {},
     "output_type": "execute_result"
    }
   ],
   "source": [
    "# ContractRental.objects.all().values(\"gala__warehouse_id\",\"user__username\",\"user__user_uid\").annotate(Count('gala__warehouse_id'))"
   ]
  },
  {
   "cell_type": "code",
   "execution_count": 358,
   "id": "cd97c201",
   "metadata": {},
   "outputs": [
    {
     "ename": "FieldError",
     "evalue": "Cannot compute Sum('warehouse'): 'warehouse' is an aggregate",
     "output_type": "error",
     "traceback": [
      "\u001b[1;31m---------------------------------------------------------------------------\u001b[0m",
      "\u001b[1;31mFieldError\u001b[0m                                Traceback (most recent call last)",
      "Cell \u001b[1;32mIn[358], line 3\u001b[0m\n\u001b[0;32m      1\u001b[0m \u001b[43mContractRental\u001b[49m\u001b[38;5;241;43m.\u001b[39;49m\u001b[43mobjects\u001b[49m\u001b[38;5;241;43m.\u001b[39;49m\u001b[43mfilter\u001b[49m\u001b[43m(\u001b[49m\u001b[43muser__user_uid\u001b[49m\u001b[43m \u001b[49m\u001b[38;5;241;43m=\u001b[39;49m\u001b[43m \u001b[49m\u001b[38;5;124;43m\"\u001b[39;49m\u001b[38;5;124;43m51f9c7eb-8f1b-4fcc-9124-58831235d387\u001b[39;49m\u001b[38;5;124;43m\"\u001b[39;49m\n\u001b[0;32m      2\u001b[0m \u001b[43m        \u001b[49m\u001b[43m)\u001b[49m\u001b[38;5;241;43m.\u001b[39;49m\u001b[43mvalues\u001b[49m\u001b[43m(\u001b[49m\u001b[38;5;124;43m\"\u001b[39;49m\u001b[38;5;124;43mgala__warehouse_id\u001b[39;49m\u001b[38;5;124;43m\"\u001b[39;49m\u001b[43m)\u001b[49m\u001b[38;5;241;43m.\u001b[39;49m\u001b[43mannotate\u001b[49m\u001b[43m(\u001b[49m\u001b[43mwarehouse\u001b[49m\u001b[43m \u001b[49m\u001b[38;5;241;43m=\u001b[39;49m\u001b[43m \u001b[49m\u001b[43mCount\u001b[49m\u001b[43m(\u001b[49m\u001b[38;5;124;43m\"\u001b[39;49m\u001b[38;5;124;43mgala__warehouse_id\u001b[39;49m\u001b[38;5;124;43m\"\u001b[39;49m\u001b[43m,\u001b[49m\u001b[43mdistinct\u001b[49m\u001b[43m \u001b[49m\u001b[38;5;241;43m=\u001b[39;49m\u001b[43m \u001b[49m\u001b[38;5;28;43;01mTrue\u001b[39;49;00m\u001b[43m)\u001b[49m\n\u001b[1;32m----> 3\u001b[0m \u001b[43m                \u001b[49m\u001b[43m)\u001b[49m\u001b[38;5;241;43m.\u001b[39;49m\u001b[43mvalues\u001b[49m\u001b[43m(\u001b[49m\u001b[38;5;124;43m\"\u001b[39;49m\u001b[38;5;124;43mwarehouse\u001b[39;49m\u001b[38;5;124;43m\"\u001b[39;49m\u001b[43m)\u001b[49m\u001b[38;5;241;43m.\u001b[39;49m\u001b[43mannotate\u001b[49m\u001b[43m(\u001b[49m\u001b[43mSum\u001b[49m\u001b[43m(\u001b[49m\u001b[38;5;124;43m\"\u001b[39;49m\u001b[38;5;124;43mwarehouse\u001b[39;49m\u001b[38;5;124;43m\"\u001b[39;49m\u001b[43m)\u001b[49m\u001b[43m)\u001b[49m\n",
      "File \u001b[1;32mC:\\Omkar-Development\\virtualenv\\lib\\site-packages\\polymorphic\\query.py:311\u001b[0m, in \u001b[0;36mPolymorphicQuerySet.annotate\u001b[1;34m(self, *args, **kwargs)\u001b[0m\n\u001b[0;32m    308\u001b[0m \u001b[38;5;124;03m\"\"\"translate the polymorphic field paths in the kwargs, then call vanilla annotate.\u001b[39;00m\n\u001b[0;32m    309\u001b[0m \u001b[38;5;124;03m_get_real_instances will do the rest of the job after executing the query.\"\"\"\u001b[39;00m\n\u001b[0;32m    310\u001b[0m \u001b[38;5;28mself\u001b[39m\u001b[38;5;241m.\u001b[39m_process_aggregate_args(args, kwargs)\n\u001b[1;32m--> 311\u001b[0m \u001b[38;5;28;01mreturn\u001b[39;00m \u001b[38;5;28msuper\u001b[39m()\u001b[38;5;241m.\u001b[39mannotate(\u001b[38;5;241m*\u001b[39margs, \u001b[38;5;241m*\u001b[39m\u001b[38;5;241m*\u001b[39mkwargs)\n",
      "File \u001b[1;32mC:\\Omkar-Development\\virtualenv\\lib\\site-packages\\django\\db\\models\\query.py:1575\u001b[0m, in \u001b[0;36mQuerySet.annotate\u001b[1;34m(self, *args, **kwargs)\u001b[0m\n\u001b[0;32m   1570\u001b[0m \u001b[38;5;124;03m\"\"\"\u001b[39;00m\n\u001b[0;32m   1571\u001b[0m \u001b[38;5;124;03mReturn a query set in which the returned objects have been annotated\u001b[39;00m\n\u001b[0;32m   1572\u001b[0m \u001b[38;5;124;03mwith extra data or aggregations.\u001b[39;00m\n\u001b[0;32m   1573\u001b[0m \u001b[38;5;124;03m\"\"\"\u001b[39;00m\n\u001b[0;32m   1574\u001b[0m \u001b[38;5;28mself\u001b[39m\u001b[38;5;241m.\u001b[39m_not_support_combined_queries(\u001b[38;5;124m\"\u001b[39m\u001b[38;5;124mannotate\u001b[39m\u001b[38;5;124m\"\u001b[39m)\n\u001b[1;32m-> 1575\u001b[0m \u001b[38;5;28;01mreturn\u001b[39;00m \u001b[38;5;28;43mself\u001b[39;49m\u001b[38;5;241;43m.\u001b[39;49m\u001b[43m_annotate\u001b[49m\u001b[43m(\u001b[49m\u001b[43margs\u001b[49m\u001b[43m,\u001b[49m\u001b[43m \u001b[49m\u001b[43mkwargs\u001b[49m\u001b[43m,\u001b[49m\u001b[43m \u001b[49m\u001b[43mselect\u001b[49m\u001b[38;5;241;43m=\u001b[39;49m\u001b[38;5;28;43;01mTrue\u001b[39;49;00m\u001b[43m)\u001b[49m\n",
      "File \u001b[1;32mC:\\Omkar-Development\\virtualenv\\lib\\site-packages\\django\\db\\models\\query.py:1623\u001b[0m, in \u001b[0;36mQuerySet._annotate\u001b[1;34m(self, args, kwargs, select)\u001b[0m\n\u001b[0;32m   1621\u001b[0m         clone\u001b[38;5;241m.\u001b[39mquery\u001b[38;5;241m.\u001b[39madd_filtered_relation(annotation, alias)\n\u001b[0;32m   1622\u001b[0m     \u001b[38;5;28;01melse\u001b[39;00m:\n\u001b[1;32m-> 1623\u001b[0m         \u001b[43mclone\u001b[49m\u001b[38;5;241;43m.\u001b[39;49m\u001b[43mquery\u001b[49m\u001b[38;5;241;43m.\u001b[39;49m\u001b[43madd_annotation\u001b[49m\u001b[43m(\u001b[49m\n\u001b[0;32m   1624\u001b[0m \u001b[43m            \u001b[49m\u001b[43mannotation\u001b[49m\u001b[43m,\u001b[49m\n\u001b[0;32m   1625\u001b[0m \u001b[43m            \u001b[49m\u001b[43malias\u001b[49m\u001b[43m,\u001b[49m\n\u001b[0;32m   1626\u001b[0m \u001b[43m            \u001b[49m\u001b[43mis_summary\u001b[49m\u001b[38;5;241;43m=\u001b[39;49m\u001b[38;5;28;43;01mFalse\u001b[39;49;00m\u001b[43m,\u001b[49m\n\u001b[0;32m   1627\u001b[0m \u001b[43m            \u001b[49m\u001b[43mselect\u001b[49m\u001b[38;5;241;43m=\u001b[39;49m\u001b[43mselect\u001b[49m\u001b[43m,\u001b[49m\n\u001b[0;32m   1628\u001b[0m \u001b[43m        \u001b[49m\u001b[43m)\u001b[49m\n\u001b[0;32m   1629\u001b[0m \u001b[38;5;28;01mfor\u001b[39;00m alias, annotation \u001b[38;5;129;01min\u001b[39;00m clone\u001b[38;5;241m.\u001b[39mquery\u001b[38;5;241m.\u001b[39mannotations\u001b[38;5;241m.\u001b[39mitems():\n\u001b[0;32m   1630\u001b[0m     \u001b[38;5;28;01mif\u001b[39;00m alias \u001b[38;5;129;01min\u001b[39;00m annotations \u001b[38;5;129;01mand\u001b[39;00m annotation\u001b[38;5;241m.\u001b[39mcontains_aggregate:\n",
      "File \u001b[1;32mC:\\Omkar-Development\\virtualenv\\lib\\site-packages\\django\\db\\models\\sql\\query.py:1119\u001b[0m, in \u001b[0;36mQuery.add_annotation\u001b[1;34m(self, annotation, alias, is_summary, select)\u001b[0m\n\u001b[0;32m   1117\u001b[0m \u001b[38;5;124;03m\"\"\"Add a single annotation expression to the Query.\"\"\"\u001b[39;00m\n\u001b[0;32m   1118\u001b[0m \u001b[38;5;28mself\u001b[39m\u001b[38;5;241m.\u001b[39mcheck_alias(alias)\n\u001b[1;32m-> 1119\u001b[0m annotation \u001b[38;5;241m=\u001b[39m \u001b[43mannotation\u001b[49m\u001b[38;5;241;43m.\u001b[39;49m\u001b[43mresolve_expression\u001b[49m\u001b[43m(\u001b[49m\n\u001b[0;32m   1120\u001b[0m \u001b[43m    \u001b[49m\u001b[38;5;28;43mself\u001b[39;49m\u001b[43m,\u001b[49m\u001b[43m \u001b[49m\u001b[43mallow_joins\u001b[49m\u001b[38;5;241;43m=\u001b[39;49m\u001b[38;5;28;43;01mTrue\u001b[39;49;00m\u001b[43m,\u001b[49m\u001b[43m \u001b[49m\u001b[43mreuse\u001b[49m\u001b[38;5;241;43m=\u001b[39;49m\u001b[38;5;28;43;01mNone\u001b[39;49;00m\u001b[43m,\u001b[49m\u001b[43m \u001b[49m\u001b[43msummarize\u001b[49m\u001b[38;5;241;43m=\u001b[39;49m\u001b[43mis_summary\u001b[49m\n\u001b[0;32m   1121\u001b[0m \u001b[43m\u001b[49m\u001b[43m)\u001b[49m\n\u001b[0;32m   1122\u001b[0m \u001b[38;5;28;01mif\u001b[39;00m select:\n\u001b[0;32m   1123\u001b[0m     \u001b[38;5;28mself\u001b[39m\u001b[38;5;241m.\u001b[39mappend_annotation_mask([alias])\n",
      "File \u001b[1;32mC:\\Omkar-Development\\virtualenv\\lib\\site-packages\\django\\db\\models\\aggregates.py:80\u001b[0m, in \u001b[0;36mAggregate.resolve_expression\u001b[1;34m(self, query, allow_joins, reuse, summarize, for_save)\u001b[0m\n\u001b[0;32m     74\u001b[0m             before_resolved \u001b[38;5;241m=\u001b[39m \u001b[38;5;28mself\u001b[39m\u001b[38;5;241m.\u001b[39mget_source_expressions()[index]\n\u001b[0;32m     75\u001b[0m             name \u001b[38;5;241m=\u001b[39m (\n\u001b[0;32m     76\u001b[0m                 before_resolved\u001b[38;5;241m.\u001b[39mname\n\u001b[0;32m     77\u001b[0m                 \u001b[38;5;28;01mif\u001b[39;00m \u001b[38;5;28mhasattr\u001b[39m(before_resolved, \u001b[38;5;124m\"\u001b[39m\u001b[38;5;124mname\u001b[39m\u001b[38;5;124m\"\u001b[39m)\n\u001b[0;32m     78\u001b[0m                 \u001b[38;5;28;01melse\u001b[39;00m \u001b[38;5;28mrepr\u001b[39m(before_resolved)\n\u001b[0;32m     79\u001b[0m             )\n\u001b[1;32m---> 80\u001b[0m             \u001b[38;5;28;01mraise\u001b[39;00m FieldError(\n\u001b[0;32m     81\u001b[0m                 \u001b[38;5;124m\"\u001b[39m\u001b[38;5;124mCannot compute \u001b[39m\u001b[38;5;132;01m%s\u001b[39;00m\u001b[38;5;124m(\u001b[39m\u001b[38;5;124m'\u001b[39m\u001b[38;5;132;01m%s\u001b[39;00m\u001b[38;5;124m'\u001b[39m\u001b[38;5;124m): \u001b[39m\u001b[38;5;124m'\u001b[39m\u001b[38;5;132;01m%s\u001b[39;00m\u001b[38;5;124m'\u001b[39m\u001b[38;5;124m is an aggregate\u001b[39m\u001b[38;5;124m\"\u001b[39m\n\u001b[0;32m     82\u001b[0m                 \u001b[38;5;241m%\u001b[39m (c\u001b[38;5;241m.\u001b[39mname, name, name)\n\u001b[0;32m     83\u001b[0m             )\n\u001b[0;32m     84\u001b[0m \u001b[38;5;28;01mif\u001b[39;00m (default \u001b[38;5;241m:=\u001b[39m c\u001b[38;5;241m.\u001b[39mdefault) \u001b[38;5;129;01mis\u001b[39;00m \u001b[38;5;28;01mNone\u001b[39;00m:\n\u001b[0;32m     85\u001b[0m     \u001b[38;5;28;01mreturn\u001b[39;00m c\n",
      "\u001b[1;31mFieldError\u001b[0m: Cannot compute Sum('warehouse'): 'warehouse' is an aggregate"
     ]
    }
   ],
   "source": [
    "ContractRental.objects.filter(user__user_uid = \"51f9c7eb-8f1b-4fcc-9124-58831235d387\"\n",
    "        ).values(\"gala__warehouse_id\").annotate(warehouse = Count(\"gala__warehouse_id\",distinct = True)\n",
    "                ).values(\"warehouse\").annotate(Sum(\"warehouse\"))\n",
    "\n",
    "\n",
    "\n",
    "\n"
   ]
  },
  {
   "cell_type": "code",
   "execution_count": null,
   "id": "09cb8775",
   "metadata": {},
   "outputs": [],
   "source": []
  },
  {
   "cell_type": "code",
   "execution_count": 381,
   "id": "9c215a10",
   "metadata": {},
   "outputs": [
    {
     "data": {
      "text/plain": [
       "<QuerySet [{'rental_contract__user__user_uid': None, 'total_warehouse': None}, {'rental_contract__user__user_uid': UUID('1df8502b-66a6-4486-ae21-7e19c3e7bd0a'), 'total_warehouse': 1}, {'rental_contract__user__user_uid': UUID('dfef7ec8-d0fe-4e9f-abb1-16187c184320'), 'total_warehouse': 1}, {'rental_contract__user__user_uid': UUID('51f9c7eb-8f1b-4fcc-9124-58831235d387'), 'total_warehouse': 3}]>"
      ]
     },
     "execution_count": 381,
     "metadata": {},
     "output_type": "execute_result"
    }
   ],
   "source": [
    "Company.objects.get(name = \"Omkar\").user_set.all().values(\n",
    "    \"rental_contract__user__user_uid\").distinct().annotate(\n",
    "total_warehouse = ContractRental.objects.filter(user__user_uid =OuterRef(\"rental_contract__user__user_uid\") \n",
    "                            ).values(\"gala__warehouse_id\").annotate(total_warehouse = Count(\"gala__warehouse_id\")).values(\"total_warehouse\"))\n",
    "\n",
    "\n",
    "\n",
    "\n"
   ]
  },
  {
   "cell_type": "code",
   "execution_count": null,
   "id": "6e7be90a",
   "metadata": {},
   "outputs": [],
   "source": [
    ".annotate(total_warehouse = ExpressionWrapper(\n",
    "        Count('gala__warehouse_id'), output_field=IntegerField())).values(\"total_warehouse\")"
   ]
  },
  {
   "cell_type": "code",
   "execution_count": 359,
   "id": "eda19088",
   "metadata": {},
   "outputs": [
    {
     "ename": "SyntaxError",
     "evalue": "invalid syntax (3556107907.py, line 1)",
     "output_type": "error",
     "traceback": [
      "\u001b[1;36m  Cell \u001b[1;32mIn[359], line 1\u001b[1;36m\u001b[0m\n\u001b[1;33m    .order_by(\"gala__warehouse_id\").distinct().annotate(Count('gala__warehouse_id',distinct=True)).annotate(total_warehouse = ExpressionWrapper(\u001b[0m\n\u001b[1;37m    ^\u001b[0m\n\u001b[1;31mSyntaxError\u001b[0m\u001b[1;31m:\u001b[0m invalid syntax\n"
     ]
    }
   ],
   "source": [
    ".order_by(\"gala__warehouse_id\").distinct().annotate(Count('gala__warehouse_id',distinct=True)).annotate(total_warehouse = ExpressionWrapper(\n",
    "        Count('gala__warehouse_id__count'), output_field=IntegerField())).values(\"total_warehouse\")\n"
   ]
  },
  {
   "cell_type": "code",
   "execution_count": 384,
   "id": "58bfc771",
   "metadata": {},
   "outputs": [],
   "source": [
    "# from django.db.models import Subquery, OuterRef\n",
    "\n",
    "# annotation = {\n",
    "#     'AcSum': Sum('rental_contract__gala__warehouse_id')\n",
    "# }\n",
    "# # The basic query is on Relation grouped by A and Category, annotated\n",
    "# # with the Sum of intensity\n",
    "# query = Rental.objects.filter(belong_to__name = \"Omkar\").values(\"user_uid\").annotate(**annotation)\n",
    "\n",
    "# # The subquery is joined to the outerquery on the Category\n",
    "# # sub_filter = Q(b__category=OuterRef('b__category'))\n",
    "# # The subquery is grouped by A and Category and annotated with the Sum\n",
    "# # of intensity, which is then ordered descending so that when a LIMIT 1\n",
    "# # is applied, you get the Max.\n",
    "# subquery = ContractRental.objects.filter(query).values(\n",
    "#     \"gala__warehouse_id\").annotate(**annotation).order_by(\n",
    "#     '-AcSum').values('AcSum')[:1]\n",
    "\n",
    "# query = query.annotate(max_intensity=Subquery(subquery))"
   ]
  },
  {
   "cell_type": "code",
   "execution_count": null,
   "id": "f476989b",
   "metadata": {},
   "outputs": [],
   "source": []
  }
 ],
 "metadata": {
  "kernelspec": {
   "display_name": "Python 3 (ipykernel)",
   "language": "python",
   "name": "python3"
  },
  "language_info": {
   "codemirror_mode": {
    "name": "ipython",
    "version": 3
   },
   "file_extension": ".py",
   "mimetype": "text/x-python",
   "name": "python",
   "nbconvert_exporter": "python",
   "pygments_lexer": "ipython3",
   "version": "3.10.5"
  }
 },
>>>>>>> 2db158631d52986a37b6d7faabdae8bd05953c1c
 "nbformat": 4,
 "nbformat_minor": 5
}
