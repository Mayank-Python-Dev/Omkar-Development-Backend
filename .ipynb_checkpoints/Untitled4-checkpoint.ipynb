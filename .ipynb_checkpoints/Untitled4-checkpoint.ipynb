{
 "cells": [
  {
   "cell_type": "code",
   "execution_count": 1,
   "id": "d0b0d8d4",
   "metadata": {},
   "outputs": [
    {
     "name": "stdout",
     "output_type": "stream",
     "text": [
      "/home/python-25/Desktop/Omkar-Development 5 July 2023/source\n",
      "/home/python-25/Desktop/Omkar-Development 5 July 2023/source\n"
     ]
    }
   ],
   "source": [
    "import os\n",
    "import django\n",
    "os.environ.setdefault('DJANGO_SETTINGS_MODULE', 'omkar_proj.settings')\n",
    "os.environ[\"DJANGO_ALLOW_ASYNC_UNSAFE\"] = \"true\"\n",
    "django.setup()"
   ]
  },
  {
   "cell_type": "code",
   "execution_count": 13,
   "id": "cda7d7ae",
   "metadata": {},
   "outputs": [],
   "source": [
    "from datetime import date\n",
    "from dateutil.relativedelta import relativedelta\n",
    "from contract.models import (\n",
    "    Contract,\n",
    "    Rental as ContractRental,\n",
    "    Investor as ContractInvestor,\n",
    "    Farmer as ContractFarmer\n",
    ")\n",
    "from django.db.models.functions import ExtractMonth, ExtractYear\n",
    "from django_pandas.io import read_frame\n",
    "import pandas as pd"
   ]
  },
  {
   "cell_type": "code",
   "execution_count": 14,
   "id": "94cdabd6",
   "metadata": {},
   "outputs": [],
   "source": [
    "get_company_type = 'Omkar'\n",
    "get_today_date = date.today()\n",
    "get_next_year_date = get_today_date + relativedelta(years=1)\n",
    "get_contracts = ContractRental.objects.filter(\n",
    "    gala__warehouse__company__name__iexact = get_company_type,\n",
    "    agreement_valid_end_date__range=[get_today_date,get_next_year_date]\n",
    ").annotate(\n",
    "    month = ExtractMonth('agreement_valid_end_date'),year = ExtractYear('agreement_valid_end_date')\n",
    ").values(\"month\",\"gala__gala_area_size\",\"gala__gala_number\")\n",
    "get_contracts_df = read_frame(get_contracts)\n",
    "dates = pd.date_range(str(get_today_date),str(get_next_year_date),freq='M')\n",
    "df = pd.DataFrame()\n",
    "df['dates'] = dates\n",
    "df['month_name'] = df['dates'].dt.strftime('%b')\n",
    "df['month'] = df['dates'].dt.strftime('%m')\n",
    "df['month_year'] = df['dates'].dt.strftime('%Y')\n",
    "df['month'] = df['month'].astype(int)\n",
    "new_df = pd.merge(df, get_contracts_df, on='month',how=\"left\")\n",
    "new_df = new_df.groupby(['month', 'month_year','month_name'], as_index=False).agg(free_gala_area_size=('gala__gala_area_size', 'sum'), gala_count=('gala__gala_number', 'count')).sort_values('month_year', ascending=True)\n",
    "new_df['month_year_name'] = new_df['month_name'] + \", \" + new_df['month_year']\n",
    "new_df.fillna(0,inplace=True)"
   ]
  },
  {
   "cell_type": "code",
   "execution_count": 19,
   "id": "7dcc0889",
   "metadata": {},
   "outputs": [
    {
     "data": {
      "text/plain": [
       "dict_values([{'gala_count': 0, 'month_year_name': 'Jul, 2023'}, {'gala_count': 0, 'month_year_name': 'Aug, 2023'}, {'gala_count': 0, 'month_year_name': 'Sep, 2023'}, {'gala_count': 1, 'month_year_name': 'Oct, 2023'}, {'gala_count': 1, 'month_year_name': 'Nov, 2023'}, {'gala_count': 0, 'month_year_name': 'Dec, 2023'}, {'gala_count': 0, 'month_year_name': 'Jan, 2024'}, {'gala_count': 0, 'month_year_name': 'Feb, 2024'}, {'gala_count': 1, 'month_year_name': 'Mar, 2024'}, {'gala_count': 0, 'month_year_name': 'Apr, 2024'}, {'gala_count': 0, 'month_year_name': 'May, 2024'}, {'gala_count': 0, 'month_year_name': 'Jun, 2024'}])"
      ]
     },
     "execution_count": 19,
     "metadata": {},
     "output_type": "execute_result"
    }
   ],
   "source": [
    "new_df[['gala_count','month_year_name']].to_dict('index').values()"
   ]
  },
  {
   "cell_type": "code",
   "execution_count": null,
   "id": "42e5b13a",
   "metadata": {},
   "outputs": [],
   "source": []
  }
 ],
 "metadata": {
  "kernelspec": {
   "display_name": "Python 3 (ipykernel)",
   "language": "python",
   "name": "python3"
  },
  "language_info": {
   "codemirror_mode": {
    "name": "ipython",
    "version": 3
   },
   "file_extension": ".py",
   "mimetype": "text/x-python",
   "name": "python",
   "nbconvert_exporter": "python",
   "pygments_lexer": "ipython3",
   "version": "3.10.6"
  }
 },
 "nbformat": 4,
 "nbformat_minor": 5
}
