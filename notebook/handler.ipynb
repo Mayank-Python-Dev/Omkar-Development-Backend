{
 "cells": [
  {
   "cell_type": "code",
   "execution_count": 19,
   "id": "13c7a5f8",
   "metadata": {},
   "outputs": [],
   "source": [
    "import os\n",
    "import django\n",
    "os.environ.setdefault('DJANGO_SETTINGS_MODULE', 'omkar_proj.settings')\n",
    "os.environ[\"DJANGO_ALLOW_ASYNC_UNSAFE\"] = \"true\"\n",
    "django.setup()"
   ]
  },
  {
   "cell_type": "code",
   "execution_count": 20,
   "id": "903e3119",
   "metadata": {},
   "outputs": [],
   "source": [
    "from account.models import (\n",
    "    User\n",
    ")\n",
    "from django_pandas.io import read_frame"
   ]
  },
  {
   "cell_type": "code",
   "execution_count": 21,
   "id": "4d124d75",
   "metadata": {},
   "outputs": [],
   "source": [
    "get_user  = User.objects.filter(id=2)"
   ]
  },
  {
   "cell_type": "code",
   "execution_count": null,
   "id": "851fc73f",
   "metadata": {},
   "outputs": [],
   "source": []
  },
  {
   "cell_type": "code",
   "execution_count": 22,
   "id": "9c104e34",
   "metadata": {},
   "outputs": [],
   "source": [
    "df = read_frame(get_user.prefetch_related(\"investor_contract\"))"
   ]
  },
  {
   "cell_type": "code",
   "execution_count": 23,
   "id": "6c586733",
   "metadata": {},
   "outputs": [
    {
     "data": {
      "text/html": [
       "<div>\n",
       "<style scoped>\n",
       "    .dataframe tbody tr th:only-of-type {\n",
       "        vertical-align: middle;\n",
       "    }\n",
       "\n",
       "    .dataframe tbody tr th {\n",
       "        vertical-align: top;\n",
       "    }\n",
       "\n",
       "    .dataframe thead th {\n",
       "        text-align: right;\n",
       "    }\n",
       "</style>\n",
       "<table border=\"1\" class=\"dataframe\">\n",
       "  <thead>\n",
       "    <tr style=\"text-align: right;\">\n",
       "      <th></th>\n",
       "      <th>id</th>\n",
       "      <th>password</th>\n",
       "      <th>last_login</th>\n",
       "      <th>is_superuser</th>\n",
       "      <th>is_staff</th>\n",
       "      <th>is_active</th>\n",
       "      <th>date_joined</th>\n",
       "      <th>username</th>\n",
       "      <th>user_uid</th>\n",
       "      <th>email</th>\n",
       "      <th>first_name</th>\n",
       "      <th>last_name</th>\n",
       "      <th>phone</th>\n",
       "      <th>address</th>\n",
       "      <th>city</th>\n",
       "      <th>zip_code</th>\n",
       "      <th>birth_date</th>\n",
       "      <th>app_type</th>\n",
       "      <th>created_at</th>\n",
       "      <th>updated_at</th>\n",
       "    </tr>\n",
       "  </thead>\n",
       "  <tbody>\n",
       "    <tr>\n",
       "      <th>0</th>\n",
       "      <td>2</td>\n",
       "      <td>pbkdf2_sha256$320000$sZAQS2ogNIonqwYARhnWij$vp...</td>\n",
       "      <td>None</td>\n",
       "      <td>False</td>\n",
       "      <td>False</td>\n",
       "      <td>True</td>\n",
       "      <td>2022-12-09 06:46:53+00:00</td>\n",
       "      <td>goopy-thistle-malamute</td>\n",
       "      <td>997f8db5-5ff2-4e09-8119-8ef5143e4c9f</td>\n",
       "      <td>goopy-thistle-malamute@gmail.com</td>\n",
       "      <td>None</td>\n",
       "      <td>None</td>\n",
       "      <td>None</td>\n",
       "      <td></td>\n",
       "      <td>None</td>\n",
       "      <td>None</td>\n",
       "      <td>None</td>\n",
       "      <td>android</td>\n",
       "      <td>2022-12-09 06:46:54.307861+00:00</td>\n",
       "      <td>2022-12-09 06:50:16.832620+00:00</td>\n",
       "    </tr>\n",
       "  </tbody>\n",
       "</table>\n",
       "</div>"
      ],
      "text/plain": [
       "   id                                           password last_login  \\\n",
       "0   2  pbkdf2_sha256$320000$sZAQS2ogNIonqwYARhnWij$vp...       None   \n",
       "\n",
       "   is_superuser  is_staff  is_active               date_joined  \\\n",
       "0         False     False       True 2022-12-09 06:46:53+00:00   \n",
       "\n",
       "                 username                              user_uid  \\\n",
       "0  goopy-thistle-malamute  997f8db5-5ff2-4e09-8119-8ef5143e4c9f   \n",
       "\n",
       "                              email first_name last_name phone address  city  \\\n",
       "0  goopy-thistle-malamute@gmail.com       None      None  None          None   \n",
       "\n",
       "  zip_code birth_date app_type                       created_at  \\\n",
       "0     None       None  android 2022-12-09 06:46:54.307861+00:00   \n",
       "\n",
       "                        updated_at  \n",
       "0 2022-12-09 06:50:16.832620+00:00  "
      ]
     },
     "execution_count": 23,
     "metadata": {},
     "output_type": "execute_result"
    }
   ],
   "source": [
    "df"
   ]
  },
  {
   "cell_type": "code",
   "execution_count": 24,
   "id": "3bd7e03f",
   "metadata": {},
   "outputs": [],
   "source": [
    "from warehouse.models import (\n",
    "    Company,\n",
    "    Property,\n",
    "    Gala\n",
    ")"
   ]
  },
  {
   "cell_type": "code",
   "execution_count": 25,
   "id": "1b101a7b",
   "metadata": {},
   "outputs": [],
   "source": [
    "company = Company.objects.first()"
   ]
  },
  {
   "cell_type": "code",
<<<<<<< HEAD
   "execution_count": 26,
=======
<<<<<<< HEAD
   "execution_count": 3,
   "id": "4d124d75",
=======
   "execution_count": 9,
>>>>>>> 6ae24a271d152a64343db518532f34e240f6232b
   "id": "46e18ca6",
>>>>>>> 1a5059d5b3f51cd8ad4c47d846841f9838a6cc52
   "metadata": {},
   "outputs": [
    {
     "data": {
      "text/plain": [
<<<<<<< HEAD
       "'/admin-api/get-investor-users/?company_type=Richland'"
      ]
     },
     "execution_count": 26,
=======
<<<<<<< HEAD
       "'313b0ff376'"
=======
       "'/admin-api/get-companies/?company_type=Richland'"
>>>>>>> 1a5059d5b3f51cd8ad4c47d846841f9838a6cc52
      ]
     },
     "execution_count": 3,
>>>>>>> 6ae24a271d152a64343db518532f34e240f6232b
     "metadata": {},
     "output_type": "execute_result"
    }
   ],
   "source": [
    "company.get_tenant_url()"
   ]
  },
  {
   "cell_type": "code",
   "execution_count": 27,
   "id": "c6447083",
   "metadata": {},
   "outputs": [],
   "source": [
    "get_user_contract = User.objects.filter(user_uid=\"fc445e2b-5bf0-4c6c-8b84-b4cc9127bdcb\").prefetch_related('investor_contract')"
   ]
  },
  {
   "cell_type": "code",
   "execution_count": 28,
   "id": "09c5f574",
   "metadata": {},
   "outputs": [],
   "source": [
    "new_df = read_frame(get_user_contract)"
   ]
  },
  {
   "cell_type": "code",
   "execution_count": 29,
   "id": "3d571cbd",
   "metadata": {},
   "outputs": [
    {
     "data": {
      "text/html": [
       "<div>\n",
       "<style scoped>\n",
       "    .dataframe tbody tr th:only-of-type {\n",
       "        vertical-align: middle;\n",
       "    }\n",
       "\n",
       "    .dataframe tbody tr th {\n",
       "        vertical-align: top;\n",
       "    }\n",
       "\n",
       "    .dataframe thead th {\n",
       "        text-align: right;\n",
       "    }\n",
       "</style>\n",
       "<table border=\"1\" class=\"dataframe\">\n",
       "  <thead>\n",
       "    <tr style=\"text-align: right;\">\n",
       "      <th></th>\n",
       "      <th>id</th>\n",
       "      <th>password</th>\n",
       "      <th>last_login</th>\n",
       "      <th>is_superuser</th>\n",
       "      <th>is_staff</th>\n",
       "      <th>is_active</th>\n",
       "      <th>date_joined</th>\n",
       "      <th>username</th>\n",
       "      <th>user_uid</th>\n",
       "      <th>email</th>\n",
       "      <th>first_name</th>\n",
       "      <th>last_name</th>\n",
       "      <th>phone</th>\n",
       "      <th>address</th>\n",
       "      <th>city</th>\n",
       "      <th>zip_code</th>\n",
       "      <th>birth_date</th>\n",
       "      <th>app_type</th>\n",
       "      <th>created_at</th>\n",
       "      <th>updated_at</th>\n",
       "    </tr>\n",
       "  </thead>\n",
       "  <tbody>\n",
       "    <tr>\n",
       "      <th>0</th>\n",
       "      <td>3</td>\n",
       "      <td>pbkdf2_sha256$320000$S2MFHEM5MPTMajqn31c8JT$mv...</td>\n",
       "      <td>None</td>\n",
       "      <td>False</td>\n",
       "      <td>False</td>\n",
       "      <td>True</td>\n",
       "      <td>2022-12-09 06:46:54+00:00</td>\n",
       "      <td>cozy-saffron-dragonfly</td>\n",
       "      <td>fc445e2b-5bf0-4c6c-8b84-b4cc9127bdcb</td>\n",
       "      <td>cozy-saffron-dragonfly@gmail.com</td>\n",
       "      <td>None</td>\n",
       "      <td>None</td>\n",
       "      <td>None</td>\n",
       "      <td></td>\n",
       "      <td>None</td>\n",
       "      <td>None</td>\n",
       "      <td>None</td>\n",
       "      <td>android</td>\n",
       "      <td>2022-12-09 06:46:55.195504+00:00</td>\n",
       "      <td>2022-12-09 06:50:10.776206+00:00</td>\n",
       "    </tr>\n",
       "  </tbody>\n",
       "</table>\n",
       "</div>"
      ],
      "text/plain": [
       "   id                                           password last_login  \\\n",
       "0   3  pbkdf2_sha256$320000$S2MFHEM5MPTMajqn31c8JT$mv...       None   \n",
       "\n",
       "   is_superuser  is_staff  is_active               date_joined  \\\n",
       "0         False     False       True 2022-12-09 06:46:54+00:00   \n",
       "\n",
       "                 username                              user_uid  \\\n",
       "0  cozy-saffron-dragonfly  fc445e2b-5bf0-4c6c-8b84-b4cc9127bdcb   \n",
       "\n",
       "                              email first_name last_name phone address  city  \\\n",
       "0  cozy-saffron-dragonfly@gmail.com       None      None  None          None   \n",
       "\n",
       "  zip_code birth_date app_type                       created_at  \\\n",
       "0     None       None  android 2022-12-09 06:46:55.195504+00:00   \n",
       "\n",
       "                        updated_at  \n",
       "0 2022-12-09 06:50:10.776206+00:00  "
      ]
     },
     "execution_count": 29,
     "metadata": {},
     "output_type": "execute_result"
    }
   ],
   "source": [
    "new_df"
   ]
  },
  {
   "cell_type": "code",
   "execution_count": null,
   "id": "2e25443c",
   "metadata": {},
   "outputs": [],
   "source": []
  },
  {
   "cell_type": "code",
   "execution_count": 41,
   "id": "a716743f",
   "metadata": {},
   "outputs": [],
   "source": [
    "get_company = Property.objects.all().values(\"id\")"
   ]
  },
  {
   "cell_type": "code",
   "execution_count": 42,
   "id": "27e81f00",
   "metadata": {},
   "outputs": [
    {
     "data": {
      "text/plain": [
       "<QuerySet [{'id': 5}, {'id': 4}]>"
      ]
     },
     "execution_count": 42,
     "metadata": {},
     "output_type": "execute_result"
    }
   ],
   "source": [
    "get_company"
   ]
  },
  {
   "cell_type": "code",
   "execution_count": 32,
   "id": "189ac401",
   "metadata": {},
   "outputs": [],
   "source": [
    "get_gala = Gala.objects.filter()"
   ]
  },
  {
   "cell_type": "code",
   "execution_count": 33,
   "id": "567def5b",
   "metadata": {},
   "outputs": [
    {
     "data": {
      "text/plain": [
       "<QuerySet [<Property: Warehouse 2>, <Property: Warehouse 1>]>"
      ]
     },
     "execution_count": 33,
     "metadata": {},
     "output_type": "execute_result"
    }
   ],
   "source": [
    "Company.objects.get(name=\"Omkar\").get_properties.all()"
   ]
  },
  {
   "cell_type": "code",
   "execution_count": 34,
   "id": "7f696672",
   "metadata": {},
   "outputs": [],
   "source": [
    "from django.db.models import OuterRef,Count,Sum"
   ]
  },
  {
   "cell_type": "code",
   "execution_count": 74,
   "id": "68ea16e7",
   "metadata": {},
   "outputs": [],
   "source": [
    "from warehouse.warehouse_api.serializers import (\n",
    "    PropertyDetailSerializer\n",
    ")\n",
    "from django.db.models.functions import Coalesce\n",
    "from django.db.models import Value,Subquery\n",
    "\n",
    "# from django.db.models import Value\n",
    "# class Coalesce(Coalesce):\n",
    "#     \"\"\"Return, from left to right, the first non-null expression.\"\"\"\n",
    "#     function = 'COALESCE'\n",
    "\n",
    "#     def __init__(self, *expressions, **extra):\n",
    "#         if len(expressions) < 2:\n",
    "#             raise ValueError('Coalesce must take at least two expressions')\n",
    "#         super().__init__(*expressions, **extra)"
   ]
  },
  {
   "cell_type": "code",
   "execution_count": 83,
   "id": "3ab289c0",
   "metadata": {},
   "outputs": [],
   "source": [
    "get_company = Company.objects.get(\n",
    "    name=\"Omkar\"\n",
    ").get_properties.all().values(\n",
    "    \"uid\",\"company__name\",\"property_name\"\n",
    ").annotate(\n",
    "    total_number_of_galas = Gala.objects.filter(warehouse__uid = OuterRef(\"uid\")).values(\"warehouse__uid\").annotate(total_galas_allotted = Count(\"id\")).values(\"total_galas_allotted\"),\n",
    "    number_of_galas_is_allotted = Gala.objects.filter(warehouse__uid = OuterRef(\"uid\"),is_allotted=True).values(\"warehouse__uid\").annotate(total_galas_allotted = Count(\"id\")).values(\"total_galas_allotted\"),\n",
    "    remaining_number_of_galas = Gala.objects.filter(warehouse__uid = OuterRef(\"uid\"),is_allotted=False).values(\"warehouse__uid\").annotate(total_galas_allotted = Count(\"id\")).values(\"total_galas_allotted\"),\n",
    ")"
   ]
  },
  {
   "cell_type": "code",
   "execution_count": 89,
   "id": "88ffa229",
   "metadata": {},
   "outputs": [
    {
     "data": {
      "text/plain": [
       "<QuerySet [{'uid': UUID('74f1648c-a740-41c1-a4db-554b5047babd'), 'company__name': 'Omkar', 'property_name': 'Warehouse 2', 'total_number_of_galas': 1, 'number_of_galas_is_allotted': 1, 'remaining_number_of_galas': None}, {'uid': UUID('f602409d-f16f-443a-b5d3-0343ae120ad7'), 'company__name': 'Omkar', 'property_name': 'Warehouse 1', 'total_number_of_galas': 5, 'number_of_galas_is_allotted': 4, 'remaining_number_of_galas': 1}]>"
      ]
     },
     "execution_count": 89,
     "metadata": {},
     "output_type": "execute_result"
    }
   ],
   "source": [
    "get_company"
   ]
  },
  {
   "cell_type": "code",
   "execution_count": 77,
   "id": "f61c5ddd",
   "metadata": {},
   "outputs": [
    {
     "data": {
      "text/plain": [
       "'/admin-api/get-leave-and_license-detail/f602409d-f16f-443a-b5d3-0343ae120ad7/'"
      ]
     },
     "execution_count": 77,
     "metadata": {},
     "output_type": "execute_result"
    }
   ],
   "source": [
    "Property.objects.get(id = 4).get_absolute_url()"
   ]
  },
  {
   "cell_type": "code",
   "execution_count": 68,
   "id": "c04c4a9b",
   "metadata": {},
   "outputs": [],
   "source": [
    "serializer = PropertyDetailSerializer(get_company,many=True)"
   ]
  },
  {
   "cell_type": "code",
   "execution_count": 52,
   "id": "9defd65e",
   "metadata": {},
   "outputs": [
    {
     "data": {
      "text/plain": [
       "PropertyDetailSerializer(<QuerySet [{'uid': UUID('74f1648c-a740-41c1-a4db-554b5047babd'), 'company__name': 'Omkar', 'property_name': 'Warehouse 2', 'total_number_of_galas': 1, 'number_of_galas_is_allotted': 1, 'remaining_number_of_galas': None}, {'uid': UUID('f602409d-f16f-443a-b5d3-0343ae120ad7'), 'company__name': 'Omkar', 'property_name': 'Warehouse 1', 'total_number_of_galas': 5, 'number_of_galas_is_allotted': 4, 'remaining_number_of_galas': 1}]>, many=True):\n",
       "    uid = UUIDField(read_only=True)\n",
       "    property_name = CharField(max_length=256, required=False)\n",
       "    total_number_of_galas = IntegerField()\n",
       "    number_of_galas_is_allotted = IntegerField()\n",
       "    remaining_number_of_galas = IntegerField()"
      ]
     },
     "execution_count": 52,
     "metadata": {},
     "output_type": "execute_result"
    }
   ],
   "source": [
    "serializer"
   ]
  },
  {
   "cell_type": "code",
   "execution_count": null,
   "id": "272bb1f5",
   "metadata": {},
   "outputs": [],
   "source": []
  },
  {
   "cell_type": "code",
   "execution_count": 22,
   "id": "bae2c45d",
   "metadata": {},
   "outputs": [
    {
     "data": {
      "text/plain": [
       "<QuerySet [{'total_galas_allotted': 4}]>"
      ]
     },
     "execution_count": 22,
     "metadata": {},
     "output_type": "execute_result"
    }
   ],
   "source": [
    "Gala.objects.filter(warehouse__uid = \"f602409d-f16f-443a-b5d3-0343ae120ad7\",is_allotted=True).values(\"warehouse__uid\").annotate(total_galas_allotted = Count(\"id\")).values(\"total_galas_allotted\")"
   ]
  },
  {
   "cell_type": "code",
   "execution_count": null,
   "id": "d88b9092",
   "metadata": {},
   "outputs": [],
   "source": [
    "# leave and license api"
   ]
  },
  {
   "cell_type": "code",
   "execution_count": 99,
   "id": "3b87c5d7",
   "metadata": {},
   "outputs": [],
   "source": [
    "from contract.models import (\n",
    "    Contract,\n",
    "    Rental\n",
    ")"
   ]
  },
  {
   "cell_type": "code",
   "execution_count": 124,
   "id": "ddbbf0dc",
   "metadata": {},
   "outputs": [],
   "source": [
    "get_warehouse_detail = Property.objects.get(\n",
    "    id=4\n",
    ").get_gala.select_related(\"get_gala_detail\")"
   ]
  },
  {
   "cell_type": "code",
   "execution_count": 125,
   "id": "c6cd5cb5",
   "metadata": {},
   "outputs": [
    {
     "data": {
      "text/plain": [
       "<QuerySet [<Gala: fd89adf3-d44e-4f02-a4fe-434847d202b7>, <Gala: 45890f9a-2edc-4b36-b0b5-709e7d65c342>, <Gala: 577e564e-ee1e-49bb-8168-a1ac4489dc7a>, <Gala: 168af493-80ba-45a8-887a-846b89f36528>, <Gala: 5ef9811f-639d-413f-9307-0c6a6cdda65e>]>"
      ]
     },
     "execution_count": 125,
     "metadata": {},
     "output_type": "execute_result"
    }
   ],
   "source": [
    "get_warehouse_detail"
   ]
  },
  {
   "cell_type": "code",
   "execution_count": 126,
   "id": "68ee39b0",
   "metadata": {},
   "outputs": [],
   "source": [
    "from django_pandas.io import read_frame"
   ]
  },
  {
   "cell_type": "code",
   "execution_count": 127,
   "id": "e541ca0a",
   "metadata": {},
   "outputs": [],
   "source": [
    "df = read_frame(get_warehouse_detail)"
   ]
  },
  {
   "cell_type": "code",
   "execution_count": 128,
   "id": "d363bae6",
   "metadata": {},
   "outputs": [
    {
     "data": {
      "text/html": [
       "<div>\n",
       "<style scoped>\n",
       "    .dataframe tbody tr th:only-of-type {\n",
       "        vertical-align: middle;\n",
       "    }\n",
       "\n",
       "    .dataframe tbody tr th {\n",
       "        vertical-align: top;\n",
       "    }\n",
       "\n",
       "    .dataframe thead th {\n",
       "        text-align: right;\n",
       "    }\n",
       "</style>\n",
       "<table border=\"1\" class=\"dataframe\">\n",
       "  <thead>\n",
       "    <tr style=\"text-align: right;\">\n",
       "      <th></th>\n",
       "      <th>id</th>\n",
       "      <th>uid</th>\n",
       "      <th>created_at</th>\n",
       "      <th>updated_at</th>\n",
       "      <th>warehouse</th>\n",
       "      <th>gala_number</th>\n",
       "      <th>is_allotted</th>\n",
       "    </tr>\n",
       "  </thead>\n",
       "  <tbody>\n",
       "    <tr>\n",
       "      <th>0</th>\n",
       "      <td>6</td>\n",
       "      <td>ca398b26-0f10-4f44-a463-80ff585c417e</td>\n",
       "      <td>2022-12-15 06:15:36.367741+00:00</td>\n",
       "      <td>2022-12-15 11:22:02.033051+00:00</td>\n",
       "      <td>Warehouse 1</td>\n",
       "      <td>fd89adf3-d44e-4f02-a4fe-434847d202b7</td>\n",
       "      <td>True</td>\n",
       "    </tr>\n",
       "    <tr>\n",
       "      <th>1</th>\n",
       "      <td>5</td>\n",
       "      <td>eb3a93fc-bf14-4c36-8147-15f20d021b30</td>\n",
       "      <td>2022-12-14 13:46:39.030608+00:00</td>\n",
       "      <td>2022-12-14 13:47:02.457415+00:00</td>\n",
       "      <td>Warehouse 1</td>\n",
       "      <td>45890f9a-2edc-4b36-b0b5-709e7d65c342</td>\n",
       "      <td>True</td>\n",
       "    </tr>\n",
       "    <tr>\n",
       "      <th>2</th>\n",
       "      <td>4</td>\n",
       "      <td>cea00b35-d85d-429c-930c-11a26981c063</td>\n",
       "      <td>2022-12-14 05:49:49.316077+00:00</td>\n",
       "      <td>2022-12-14 05:50:09.860671+00:00</td>\n",
       "      <td>Warehouse 1</td>\n",
       "      <td>577e564e-ee1e-49bb-8168-a1ac4489dc7a</td>\n",
       "      <td>True</td>\n",
       "    </tr>\n",
       "    <tr>\n",
       "      <th>3</th>\n",
       "      <td>3</td>\n",
       "      <td>46f65a23-58c3-4c11-b5aa-04281f510f17</td>\n",
       "      <td>2022-12-12 07:09:34.956232+00:00</td>\n",
       "      <td>2022-12-14 05:45:07.501372+00:00</td>\n",
       "      <td>Warehouse 1</td>\n",
       "      <td>168af493-80ba-45a8-887a-846b89f36528</td>\n",
       "      <td>True</td>\n",
       "    </tr>\n",
       "    <tr>\n",
       "      <th>4</th>\n",
       "      <td>2</td>\n",
       "      <td>ad78cc68-044e-4676-b43b-690a225d6450</td>\n",
       "      <td>2022-12-12 06:59:51.653369+00:00</td>\n",
       "      <td>2022-12-14 05:45:21.749833+00:00</td>\n",
       "      <td>Warehouse 1</td>\n",
       "      <td>5ef9811f-639d-413f-9307-0c6a6cdda65e</td>\n",
       "      <td>True</td>\n",
       "    </tr>\n",
       "  </tbody>\n",
       "</table>\n",
       "</div>"
      ],
      "text/plain": [
       "   id                                   uid                       created_at  \\\n",
       "0   6  ca398b26-0f10-4f44-a463-80ff585c417e 2022-12-15 06:15:36.367741+00:00   \n",
       "1   5  eb3a93fc-bf14-4c36-8147-15f20d021b30 2022-12-14 13:46:39.030608+00:00   \n",
       "2   4  cea00b35-d85d-429c-930c-11a26981c063 2022-12-14 05:49:49.316077+00:00   \n",
       "3   3  46f65a23-58c3-4c11-b5aa-04281f510f17 2022-12-12 07:09:34.956232+00:00   \n",
       "4   2  ad78cc68-044e-4676-b43b-690a225d6450 2022-12-12 06:59:51.653369+00:00   \n",
       "\n",
       "                        updated_at    warehouse  \\\n",
       "0 2022-12-15 11:22:02.033051+00:00  Warehouse 1   \n",
       "1 2022-12-14 13:47:02.457415+00:00  Warehouse 1   \n",
       "2 2022-12-14 05:50:09.860671+00:00  Warehouse 1   \n",
       "3 2022-12-14 05:45:07.501372+00:00  Warehouse 1   \n",
       "4 2022-12-14 05:45:21.749833+00:00  Warehouse 1   \n",
       "\n",
       "                            gala_number  is_allotted  \n",
       "0  fd89adf3-d44e-4f02-a4fe-434847d202b7         True  \n",
       "1  45890f9a-2edc-4b36-b0b5-709e7d65c342         True  \n",
       "2  577e564e-ee1e-49bb-8168-a1ac4489dc7a         True  \n",
       "3  168af493-80ba-45a8-887a-846b89f36528         True  \n",
       "4  5ef9811f-639d-413f-9307-0c6a6cdda65e         True  "
      ]
     },
     "execution_count": 128,
     "metadata": {},
     "output_type": "execute_result"
    }
   ],
   "source": [
    "df"
   ]
  },
  {
   "cell_type": "code",
   "execution_count": null,
   "id": "902e66ee",
   "metadata": {},
   "outputs": [],
   "source": []
  },
  {
   "cell_type": "code",
   "execution_count": null,
   "id": "48d014be",
   "metadata": {},
   "outputs": [],
   "source": []
  }
 ],
 "metadata": {
  "kernelspec": {
   "display_name": "Python 3 (ipykernel)",
   "language": "python",
   "name": "python3"
  },
  "language_info": {
   "codemirror_mode": {
    "name": "ipython",
    "version": 3
   },
   "file_extension": ".py",
   "mimetype": "text/x-python",
   "name": "python",
   "nbconvert_exporter": "python",
   "pygments_lexer": "ipython3",
   "version": "3.10.5"
  }
 },
 "nbformat": 4,
 "nbformat_minor": 5
}
