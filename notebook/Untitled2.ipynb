{
 "cells": [
  {
   "cell_type": "code",
<<<<<<< HEAD
   "execution_count": 4,
   "id": "58ce7789",
   "metadata": {},
   "outputs": [
    {
     "name": "stdout",
     "output_type": "stream",
     "text": [
      "Collecting PDFNetPython3\n",
      "  Downloading PDFNetPython3-9.4.2-cp310-cp310-win_amd64.whl (22.3 MB)\n",
      "     ---------------------------------------- 22.3/22.3 MB 7.0 MB/s eta 0:00:00\n",
      "Installing collected packages: PDFNetPython3\n",
      "Successfully installed PDFNetPython3-9.4.2\n",
      "Note: you may need to restart the kernel to use updated packages.\n"
     ]
    }
   ],
   "source": [
    "pip install PDFNetPython3"
   ]
  },
  {
   "cell_type": "code",
   "execution_count": 5,
   "id": "d004e217",
=======
   "execution_count": 3,
   "id": "494bd424",
>>>>>>> 54cd8686f07b3fe8f763c0bee83fe06a899c8bfd
   "metadata": {},
   "outputs": [],
   "source": [
    "import os\n",
<<<<<<< HEAD
    "import sys\n",
    "from PDFNetPython3.PDFNetPython import PDFDoc, Optimizer, SDFDoc, PDFNet"
=======
    "import django\n",
    "os.environ.setdefault('DJANGO_SETTINGS_MODULE', 'omkar_proj.settings')\n",
    "os.environ[\"DJANGO_ALLOW_ASYNC_UNSAFE\"] = \"true\"\n",
    "django.setup()"
>>>>>>> 54cd8686f07b3fe8f763c0bee83fe06a899c8bfd
   ]
  },
  {
   "cell_type": "code",
<<<<<<< HEAD
   "execution_count": 14,
   "id": "1884a369",
   "metadata": {},
   "outputs": [
    {
     "name": "stdout",
     "output_type": "stream",
     "text": [
      "1224.27YB\n",
      "1.20YB\n"
     ]
    },
    {
     "data": {
      "text/plain": [
       "'1.20MB'"
      ]
     },
     "execution_count": 14,
     "metadata": {},
     "output_type": "execute_result"
    }
   ],
   "source": [
    "def get_size_format(b, factor=1024, suffix=\"B\"):\n",
    "    \"\"\"\n",
    "    Scale bytes to its proper byte format\n",
    "    e.g:\n",
    "        1253656 => '1.20MB'\n",
    "        1253656678 => '1.17GB'\n",
    "    \"\"\"\n",
    "    for unit in [\"\", \"K\", \"M\", \"G\", \"T\", \"P\", \"E\", \"Z\"]:\n",
    "        if b < factor:\n",
    "            return f\"{b:.2f}{unit}{suffix}\"\n",
    "        b /= factor\n",
    "        print(f\"{b:.2f}Y{suffix}\")\n",
    "        \n",
    "get_size_format(1253656)"
=======
   "execution_count": 59,
   "id": "ee95b0db",
   "metadata": {},
   "outputs": [],
   "source": [
    "from warehouse.models import Company,Gala\n",
    "from django.db.models import OuterRef,Count,Case,When,IntegerField,Value,ExpressionWrapper\n",
    "from django_pandas.io import read_frame"
   ]
  },
  {
   "cell_type": "code",
   "execution_count": 60,
   "id": "dab785cd",
   "metadata": {},
   "outputs": [],
   "source": [
    "# !pip install django_pandas"
>>>>>>> 54cd8686f07b3fe8f763c0bee83fe06a899c8bfd
   ]
  },
  {
   "cell_type": "code",
   "execution_count": null,
<<<<<<< HEAD
   "id": "7deb525b",
   "metadata": {},
   "outputs": [],
   "source": []
=======
   "id": "da0e64f5",
   "metadata": {},
   "outputs": [],
   "source": []
  },
  {
   "cell_type": "code",
   "execution_count": 26,
   "id": "7251e3df",
   "metadata": {},
   "outputs": [
    {
     "data": {
      "text/plain": [
       "<QuerySet [{'uid': UUID('e5abcbd1-1e6e-46d7-ab28-ea2bbf39e4bd'), 'property_name': 'Flip Kart', 'city': 'Indore', 'is_allotted_to_farmer': False, 'total_gala_count': None, 'total_allotted_galas': None, 'total_remaining_galas': None}, {'uid': UUID('0d3c64ce-79a8-4ed9-8634-c0e0a78a07cc'), 'property_name': 'Flip Kart', 'city': 'Indore', 'is_allotted_to_farmer': False, 'total_gala_count': None, 'total_allotted_galas': None, 'total_remaining_galas': None}, {'uid': UUID('b33852ae-f34a-4bb1-982e-7083a23b376f'), 'property_name': 'Omkar Warehouse 1', 'city': '....', 'is_allotted_to_farmer': True, 'total_gala_count': 6, 'total_allotted_galas': None, 'total_remaining_galas': None}]>"
      ]
     },
     "execution_count": 26,
     "metadata": {},
     "output_type": "execute_result"
    }
   ],
   "source": [
    "live_and_license_warehouse_qs"
   ]
  },
  {
   "cell_type": "code",
   "execution_count": 15,
   "id": "fc65d2b9",
   "metadata": {},
   "outputs": [],
   "source": [
    "df = read_frame(live_and_license_warehouse_qs)"
   ]
  },
  {
   "cell_type": "code",
   "execution_count": 9,
   "id": "6a396807",
   "metadata": {},
   "outputs": [
    {
     "data": {
      "text/html": [
       "<div>\n",
       "<style scoped>\n",
       "    .dataframe tbody tr th:only-of-type {\n",
       "        vertical-align: middle;\n",
       "    }\n",
       "\n",
       "    .dataframe tbody tr th {\n",
       "        vertical-align: top;\n",
       "    }\n",
       "\n",
       "    .dataframe thead th {\n",
       "        text-align: right;\n",
       "    }\n",
       "</style>\n",
       "<table border=\"1\" class=\"dataframe\">\n",
       "  <thead>\n",
       "    <tr style=\"text-align: right;\">\n",
       "      <th></th>\n",
       "      <th>uid</th>\n",
       "      <th>property_name</th>\n",
       "      <th>city</th>\n",
       "      <th>is_allotted_to_farmer</th>\n",
       "      <th>total_gala_count</th>\n",
       "      <th>total_allotted_galas</th>\n",
       "      <th>total_remaining_galas</th>\n",
       "    </tr>\n",
       "  </thead>\n",
       "  <tbody>\n",
       "    <tr>\n",
       "      <th>0</th>\n",
       "      <td>e5abcbd1-1e6e-46d7-ab28-ea2bbf39e4bd</td>\n",
       "      <td>Flip Kart</td>\n",
       "      <td>Indore</td>\n",
       "      <td>False</td>\n",
       "      <td>NaN</td>\n",
       "      <td>None</td>\n",
       "      <td>None</td>\n",
       "    </tr>\n",
       "    <tr>\n",
       "      <th>1</th>\n",
       "      <td>0d3c64ce-79a8-4ed9-8634-c0e0a78a07cc</td>\n",
       "      <td>Flip Kart</td>\n",
       "      <td>Indore</td>\n",
       "      <td>False</td>\n",
       "      <td>NaN</td>\n",
       "      <td>None</td>\n",
       "      <td>None</td>\n",
       "    </tr>\n",
       "    <tr>\n",
       "      <th>2</th>\n",
       "      <td>b33852ae-f34a-4bb1-982e-7083a23b376f</td>\n",
       "      <td>Omkar Warehouse 1</td>\n",
       "      <td>....</td>\n",
       "      <td>True</td>\n",
       "      <td>6.0</td>\n",
       "      <td>None</td>\n",
       "      <td>None</td>\n",
       "    </tr>\n",
       "  </tbody>\n",
       "</table>\n",
       "</div>"
      ],
      "text/plain": [
       "                                    uid      property_name    city  \\\n",
       "0  e5abcbd1-1e6e-46d7-ab28-ea2bbf39e4bd          Flip Kart  Indore   \n",
       "1  0d3c64ce-79a8-4ed9-8634-c0e0a78a07cc          Flip Kart  Indore   \n",
       "2  b33852ae-f34a-4bb1-982e-7083a23b376f  Omkar Warehouse 1    ....   \n",
       "\n",
       "   is_allotted_to_farmer  total_gala_count total_allotted_galas  \\\n",
       "0                  False               NaN                 None   \n",
       "1                  False               NaN                 None   \n",
       "2                   True               6.0                 None   \n",
       "\n",
       "  total_remaining_galas  \n",
       "0                  None  \n",
       "1                  None  \n",
       "2                  None  "
      ]
     },
     "execution_count": 9,
     "metadata": {},
     "output_type": "execute_result"
    }
   ],
   "source": [
    "df"
   ]
  },
  {
   "cell_type": "code",
   "execution_count": 73,
   "id": "b687af94",
   "metadata": {},
   "outputs": [
    {
     "data": {
      "text/plain": [
       "<QuerySet [{'uid': UUID('e5abcbd1-1e6e-46d7-ab28-ea2bbf39e4bd'), 'property_name': 'Flip Kart', 'city': 'Indore', 'is_allotted_to_farmer': False, 'total_gala_count': 1, 'total_allotted_galas': None, 'total_remaining_galas': 1}, {'uid': UUID('0d3c64ce-79a8-4ed9-8634-c0e0a78a07cc'), 'property_name': 'Flip Kart', 'city': 'Indore', 'is_allotted_to_farmer': False, 'total_gala_count': None, 'total_allotted_galas': None, 'total_remaining_galas': None}, {'uid': UUID('b33852ae-f34a-4bb1-982e-7083a23b376f'), 'property_name': 'Omkar Warehouse 1', 'city': '....', 'is_allotted_to_farmer': True, 'total_gala_count': 6, 'total_allotted_galas': 1, 'total_remaining_galas': 5}]>"
      ]
     },
     "execution_count": 73,
     "metadata": {},
     "output_type": "execute_result"
    }
   ],
   "source": [
    "Company.objects.get(\n",
    "    name=\"Omkar\"\n",
    ").get_properties.all().values(\n",
    "    \"uid\", \"property_name\", \"city\",\"is_allotted_to_farmer\"\n",
    ").annotate(\n",
    "    total_gala_count = \n",
    "    Case(\n",
    "        When(\n",
    "            is_allotted_to_farmer = True,\n",
    "            then=Gala.objects.filter(\n",
    "                warehouse__uid=OuterRef(\"uid\"),is_allotted_to_farmer=True).values(\n",
    "                \"warehouse__uid\"\n",
    "        ).annotate(\n",
    "            total_gala_count=Count(\"id\")).values(\n",
    "                \"total_gala_count\"\n",
    "        )),\n",
    "        When(\n",
    "            is_allotted_to_farmer = False,\n",
    "            then=Gala.objects.filter(\n",
    "                warehouse__uid=OuterRef(\"uid\")).values(\n",
    "                \"warehouse__uid\"\n",
    "        ).annotate(\n",
    "            total_gala_count=Count(\"id\")).values(\n",
    "                \"total_gala_count\"\n",
    "        ))\n",
    "    ),\n",
    "    total_allotted_galas = Case(\n",
    "        When(\n",
    "            is_allotted_to_farmer = True,\n",
    "            then=Gala.objects.filter(\n",
    "                warehouse__uid=OuterRef(\"uid\"),is_allotted_to_farmer=True,is_allotted_to_rental=True).values(\n",
    "                \"warehouse__uid\"\n",
    "        ).annotate(\n",
    "            total_gala_count=Count(\"id\")).values(\n",
    "                \"total_gala_count\"\n",
    "        )),\n",
    "        When(\n",
    "            is_allotted_to_farmer = False,\n",
    "            then=Gala.objects.filter(\n",
    "                warehouse__uid=OuterRef(\"uid\"),is_allotted_to_rental=True).values(\n",
    "                \"warehouse__uid\"\n",
    "        ).annotate(\n",
    "            total_gala_count=Count(\"id\")).values(\n",
    "                \"total_gala_count\"\n",
    "        ))\n",
    "    ),\n",
    "    total_remaining_galas = Case(\n",
    "        When(\n",
    "            is_allotted_to_farmer = True,\n",
    "            then=Gala.objects.filter(\n",
    "                warehouse__uid=OuterRef(\"uid\"),is_allotted_to_farmer=True,is_allotted_to_rental=False).values(\n",
    "                \"warehouse__uid\"\n",
    "        ).annotate(\n",
    "            total_gala_count=Count(\"id\")).values(\n",
    "                \"total_gala_count\"\n",
    "        )),\n",
    "        When(\n",
    "            is_allotted_to_farmer = False,\n",
    "            then=Gala.objects.filter(\n",
    "                warehouse__uid=OuterRef(\"uid\"),is_allotted_to_rental=False).values(\n",
    "                \"warehouse__uid\"\n",
    "        ).annotate(\n",
    "            total_gala_count=Count(\"id\")).values(\n",
    "                \"total_gala_count\"\n",
    "        ))\n",
    "    ),\n",
    "\n",
    ")"
   ]
  },
  {
   "cell_type": "code",
   "execution_count": null,
   "id": "413eb74b",
   "metadata": {},
   "outputs": [],
   "source": []
  },
  {
   "cell_type": "code",
   "execution_count": null,
   "id": "066bb5b3",
   "metadata": {},
   "outputs": [],
   "source": [
    ".annotate(\n",
    "    total_gala_count=Gala.objects.filter(\n",
    "        warehouse__uid=OuterRef(\"uid\")).values(\n",
    "        \"warehouse__uid\"\n",
    ").annotate(\n",
    "    total_gala_count=Count(\"id\")).values(\n",
    "        \"total_gala_count\"\n",
    "),total_allotted_galas=Gala.objects.filter(\n",
    "        warehouse__uid=OuterRef(\"uid\"), is_allotted=True).values(\n",
    "        \"warehouse__uid\"\n",
    ").annotate(\n",
    "        total_allotted_galas=Count(\"id\")).values(\n",
    "        \"total_allotted_galas\"\n",
    "),total_remaining_galas=Gala.objects.filter(\n",
    "        warehouse__uid=OuterRef(\"uid\"),\n",
    "        is_allotted=False,is_allotted_to_rental=False,\n",
    "        is_allotted_to_farmer = False).values(\n",
    "        \"warehouse__uid\"\n",
    ").annotate(total_remaining_galas=Count(\"id\")).values(\n",
    "        \"total_remaining_galas\"\n",
    "    ))"
   ]
>>>>>>> 54cd8686f07b3fe8f763c0bee83fe06a899c8bfd
  }
 ],
 "metadata": {
  "kernelspec": {
   "display_name": "Python 3 (ipykernel)",
   "language": "python",
   "name": "python3"
  },
  "language_info": {
   "codemirror_mode": {
    "name": "ipython",
    "version": 3
   },
   "file_extension": ".py",
   "mimetype": "text/x-python",
   "name": "python",
   "nbconvert_exporter": "python",
   "pygments_lexer": "ipython3",
<<<<<<< HEAD
   "version": "3.10.8"
=======
   "version": "3.11.0rc1"
>>>>>>> 54cd8686f07b3fe8f763c0bee83fe06a899c8bfd
  }
 },
 "nbformat": 4,
 "nbformat_minor": 5
}
