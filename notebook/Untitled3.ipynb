{
 "cells": [
  {
   "cell_type": "code",
   "execution_count": 4,
   "id": "e6ada5c3",
   "metadata": {},
   "outputs": [],
   "source": [
    "import os\n",
    "import django\n",
    "os.environ.setdefault('DJANGO_SETTINGS_MODULE', 'omkar_proj.settings')\n",
    "os.environ[\"DJANGO_ALLOW_ASYNC_UNSAFE\"] = \"true\"\n",
    "django.setup()\n"
   ]
  },
  {
   "cell_type": "code",
   "execution_count": 66,
   "id": "7bf2bd2c",
   "metadata": {},
   "outputs": [],
   "source": [
    "from warehouse.models import (\n",
    "    Property,\n",
    "    Company,\n",
    "    Gala\n",
    ")\n",
    "from contract.models import (\n",
    "    Rental as ContractRental,\n",
    "    Investor as ContractInvestor,\n",
    "    Farmer as ContractFarmer\n",
    "    \n",
    ")\n",
    "from django.db.models import (\n",
    "    Value,\n",
    "    OuterRef,\n",
    "    Count,\n",
    "    F,\n",
    "    ExpressionWrapper,\n",
    "    IntegerField\n",
    "    \n",
    ")"
   ]
  },
  {
   "cell_type": "code",
   "execution_count": null,
   "id": "c352651a",
   "metadata": {},
   "outputs": [],
   "source": []
  },
  {
   "cell_type": "code",
   "execution_count": 67,
   "id": "55f17120",
   "metadata": {},
   "outputs": [],
   "source": [
    "get_farmer_warehouses = Company.objects.get(\n",
    "                name=\"Omkar\"\n",
    "            ).get_properties.filter(\n",
    "                farmer_warehouse_detail__user__groups__name=\"Farmer\"\n",
    "            ).values(\n",
    "                \"uid\", \"property_name\", \"property_type\", \"property_survey_number\", \"address\", \"city\", \"state\", \"country\"\n",
    "            ).annotate(\n",
    "                total_number_of_galas=Gala.objects.filter(\n",
    "                    warehouse__uid=OuterRef(\"uid\"), is_allotted_to_farmer=True, gala_rental_contract_detail__owner__groups__name=\"Farmer\"\n",
    "                ).values(\"warehouse__uid\").annotate(\n",
    "                    total_galas_allotted=Count(\"id\")).values(\"total_galas_allotted\"),\n",
    "                    total_number_of_rentals=ContractRental.objects.filter(\n",
    "                        gala__warehouse__uid=OuterRef(\"uid\"),\n",
    "                        owner__groups__name=\"Farmer\",\n",
    "                ).values(\"gala__warehouse__uid\").annotate(\n",
    "                    total_number_of_rentals=Count(\"id\")).values(\"total_number_of_rentals\"),\n",
    "                farmer_name=ContractFarmer.objects.filter(\n",
    "                    warehouse__uid=OuterRef(\"uid\")).values(\"user__username\"),\n",
    "                farmer_uid=ContractFarmer.objects.filter(\n",
    "                    warehouse__uid=OuterRef(\"uid\")).values(\"user__user_uid\")\n",
    "            )"
   ]
  },
  {
   "cell_type": "code",
   "execution_count": 68,
   "id": "524542ae",
   "metadata": {},
   "outputs": [
    {
     "data": {
      "text/plain": [
       "<QuerySet [{'uid': UUID('5f3fc662-8808-4bfb-bc9d-740702d0fb15'), 'property_name': 'Omkar Warehouse 1', 'property_type': 'COLD_STORAGE', 'property_survey_number': '7cb30eb7-fdc8-4baf-b064-8c61ff672a05', 'address': '...', 'city': '...', 'state': '..', 'country': '...', 'total_number_of_galas': None, 'total_number_of_rentals': None, 'farmer_name': 'snippy-aqua-ladybird', 'farmer_uid': UUID('0240e1b0-f28b-43ed-8fe5-069ed08d37d5')}]>"
      ]
     },
     "execution_count": 68,
     "metadata": {},
     "output_type": "execute_result"
    }
   ],
   "source": [
    "get_farmer_warehouses"
   ]
  },
  {
   "cell_type": "code",
   "execution_count": null,
   "id": "41d25939",
   "metadata": {},
   "outputs": [],
   "source": []
  },
  {
   "cell_type": "code",
   "execution_count": 83,
   "id": "d882fe28",
   "metadata": {},
   "outputs": [],
   "source": [
    "get_farmer_wh = Company.objects.get(name = \"Omkar\"\n",
    "                    ).get_properties.filter(farmer_warehouse_detail__user__groups__name=\"Farmer\"\n",
    "                        ).values(\"uid\",\"property_name\"\n",
    "        ).annotate(\n",
    "                total_gala_count = Gala.objects.filter(warehouse__uid=OuterRef(\"uid\"),is_allotted_to_farmer=True\n",
    "                        ).values(\"warehouse__uid\").annotate(total_gala_count =Count(\"id\")).values(\"total_gala_count\"),\n",
    "                total_number_of_rentals=ContractRental.objects.filter(\n",
    "                        gala__warehouse__uid=OuterRef(\"uid\"),\n",
    "                        owner__groups__name=\"Farmer\",\n",
    "                            ).values(\"gala__warehouse__uid\").annotate(\n",
    "                                    total_number_of_rentals= Count(\"id\")).values(\"total_number_of_rentals\"),\n",
    "                                    total_gala_allotted = Gala.objects.filter(warehouse__uid=OuterRef(\"uid\"),\n",
    "                                                            \n",
    "                                        is_allotted_to_farmer=True,gala_rental_contract_detail__owner__groups__name=\"Farmer\"\n",
    "                                                            \n",
    "                                                            \n",
    "                                            ).values(\"warehouse__uid\").annotate(total_gala_allotted=Count(\"id\")).values(\"total_gala_allotted\"),\n",
    "                                    farmer_name=ContractFarmer.objects.filter(\n",
    "                                                    warehouse__uid=OuterRef(\"uid\")).values(\"user__username\"),\n",
    "                                    farmer_uid=ContractFarmer.objects.filter(\n",
    "                                                    warehouse__uid=OuterRef(\"uid\")).values(\"user__user_uid\")\n",
    "                                                )\n",
    "                  \n",
    "\n",
    "\n",
    "\n",
    "\n",
    "\n",
    "\n",
    "\n",
    "\n",
    "\n",
    "\n",
    "\n",
    "\n"
   ]
  },
  {
   "cell_type": "code",
   "execution_count": 84,
   "id": "f3d894d0",
   "metadata": {},
   "outputs": [
    {
     "data": {
      "text/plain": [
       "<QuerySet [{'uid': UUID('5f3fc662-8808-4bfb-bc9d-740702d0fb15'), 'property_name': 'Omkar Warehouse 1', 'total_gala_count': 3, 'total_number_of_rentals': None, 'total_gala_allotted': None, 'farmer_name': 'snippy-aqua-ladybird', 'farmer_uid': UUID('0240e1b0-f28b-43ed-8fe5-069ed08d37d5')}]>"
      ]
     },
     "execution_count": 84,
     "metadata": {},
     "output_type": "execute_result"
    }
   ],
   "source": [
    "get_farmer_wh"
   ]
  },
  {
   "cell_type": "code",
   "execution_count": null,
   "id": "c99e37d5",
   "metadata": {},
   "outputs": [],
   "source": []
  },
  {
   "cell_type": "code",
   "execution_count": null,
   "id": "5c0e1338",
   "metadata": {},
   "outputs": [],
   "source": []
  },
  {
   "cell_type": "code",
   "execution_count": null,
   "id": "82093984",
   "metadata": {},
   "outputs": [],
   "source": []
  }
 ],
 "metadata": {
  "kernelspec": {
   "display_name": "Python 3 (ipykernel)",
   "language": "python",
   "name": "python3"
  },
  "language_info": {
   "codemirror_mode": {
    "name": "ipython",
    "version": 3
   },
   "file_extension": ".py",
   "mimetype": "text/x-python",
   "name": "python",
   "nbconvert_exporter": "python",
   "pygments_lexer": "ipython3",
   "version": "3.10.5"
  }
 },
 "nbformat": 4,
 "nbformat_minor": 5
}
