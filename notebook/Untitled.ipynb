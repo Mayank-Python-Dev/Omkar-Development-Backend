{
 "cells": [
  {
   "cell_type": "code",
   "execution_count": 1,
   "id": "4a48339a",
   "metadata": {},
   "outputs": [],
   "source": [
    "import os\n",
    "import django\n",
    "os.environ.setdefault('DJANGO_SETTINGS_MODULE', 'omkar_proj.settings')\n",
    "os.environ[\"DJANGO_ALLOW_ASYNC_UNSAFE\"] = \"true\"\n",
    "django.setup()"
   ]
  },
  {
   "cell_type": "code",
   "execution_count": null,
   "id": "8c99ed92",
   "metadata": {},
   "outputs": [],
   "source": []
  },
  {
   "cell_type": "code",
   "execution_count": 2,
   "id": "843e9d4e",
   "metadata": {},
   "outputs": [],
   "source": [
    "from account.models import (\n",
    "    User,\n",
    "    Farmer,\n",
    "    Rental,\n",
    "    Investor,\n",
    "    UserAndInvestor\n",
    ")\n",
    "from warehouse.models import (\n",
    "    Gala,\n",
    "    Property,\n",
    "    Company,\n",
    ")\n",
    "from django.db.models import (\n",
    "    Count,\n",
    "    F,\n",
    "    Sum,\n",
    "    OuterRef,\n",
    "    Prefetch,\n",
    "    \n",
    ")\n",
    "\n",
    "from contract.models import (\n",
    "    Contract,\n",
    "    Investor as ContractInvestor,\n",
    "    Rental as ContractRental,\n",
    "    Farmer as ContractFarmer\n",
    ")\n",
    "from account.models import User"
   ]
  },
  {
   "cell_type": "code",
   "execution_count": 41,
   "id": "6924ad91",
   "metadata": {},
   "outputs": [],
   "source": [
    "\n",
    "# # rf = Gala.objects.filter(is_allotted=True).values('uid','gala_number'\n",
    "# #                                                   ).annotate(\n",
    "# #     total_not_allotted_galas = Count('warehouse__uid'))\n",
    "# # rf\n",
    "# # rf = Property.objects.filter(company__name__exact='OMKAR').values('uid','property_name'\n",
    "# #                                     ).annotate(get_galas = Gala.objects.filter(is_allotted=False))\n",
    "\n",
    "# rf = Property.objects.filter(company__name__exact='OMKAR').values('uid','property_name'\n",
    "#                                                                  ).annotate(get_galas= Property.objects.prefetch_related('get_gala').filter(get_gala__is_allotted=False))\n",
    "\n"
   ]
  },
  {
   "cell_type": "code",
   "execution_count": 42,
   "id": "b49ec81e",
   "metadata": {},
   "outputs": [
    {
     "data": {
      "text/plain": [
       "<QuerySet [{'uid': UUID('5ec6fd54-9257-487c-8e01-8d171b3c74a5'), 'property_name': 'Omkar Warehouse 2', 'total_remaining_galas': 3}, {'uid': UUID('9bbc8a5f-e1a3-434f-b1a7-6e7b820492c2'), 'property_name': 'Omkar Warehouse 1', 'total_remaining_galas': 1}]>"
      ]
     },
     "execution_count": 42,
     "metadata": {},
     "output_type": "execute_result"
    }
   ],
   "source": [
    "rf = Company.objects.get(name='Omkar').get_properties.all().values('uid','property_name'\n",
    "            ).annotate(total_remaining_galas =Gala.objects.filter(warehouse__uid=OuterRef('uid'),is_allotted=False\n",
    "                                                                 ).values('warehouse__uid'\n",
    "                    ).annotate(total_remaining_galas=Count('id')).values('total_remaining_galas'))\n",
    "rf\n",
    "                               \n"
   ]
  },
  {
   "cell_type": "code",
   "execution_count": 43,
   "id": "0c62295e",
   "metadata": {},
   "outputs": [],
   "source": [
    "# user_type = \"Investor\"\n",
    "# if user_type == \"Investor\":\n",
    "get_investor_gala_contract_detail = Company.objects.get(name=\"Omkar\"\n",
    "\n",
    "                ).get_properties.get(uid=\"9bbc8a5f-e1a3-434f-b1a7-6e7b820492c2\").get_gala.filter(\n",
    "\n",
    "                        gala_investor_contract_detail__owner__is_superuser=True,\n",
    "\n",
    "                ).values(\"gala_investor_contract_detail__owner\",\"gala_investor_contract_detail__user\")\n",
    "\n",
    "get_rental_contract_detail_w_owner = Company.objects.get(name=\"Omkar\"\n",
    "                    ).get_properties.get(uid = \"9bbc8a5f-e1a3-434f-b1a7-6e7b820492c2\").get_gala.filter(\n",
    "\n",
    "                        gala_rental_contract_detail__owner__is_superuser = True,\n",
    "                        gala_rental_contract_detail__user__groups__name = \"Rental\"\n",
    "                        ).values(\"gala_rental_contract_detail__owner\",\"gala_rental_contract_detail__user\")\n",
    "    \n",
    "\n"
   ]
  },
  {
   "cell_type": "code",
   "execution_count": 44,
   "id": "5aca95a1",
   "metadata": {},
   "outputs": [],
   "source": [
    "df = read_frame(get_investor_gala_contract_detail)\n"
   ]
  },
  {
   "cell_type": "code",
   "execution_count": 45,
   "id": "aab705ca",
   "metadata": {},
   "outputs": [
    {
     "data": {
      "text/html": [
       "<div>\n",
       "<style scoped>\n",
       "    .dataframe tbody tr th:only-of-type {\n",
       "        vertical-align: middle;\n",
       "    }\n",
       "\n",
       "    .dataframe tbody tr th {\n",
       "        vertical-align: top;\n",
       "    }\n",
       "\n",
       "    .dataframe thead th {\n",
       "        text-align: right;\n",
       "    }\n",
       "</style>\n",
       "<table border=\"1\" class=\"dataframe\">\n",
       "  <thead>\n",
       "    <tr style=\"text-align: right;\">\n",
       "      <th></th>\n",
       "      <th>gala_investor_contract_detail__owner</th>\n",
       "      <th>gala_investor_contract_detail__user</th>\n",
       "    </tr>\n",
       "  </thead>\n",
       "  <tbody>\n",
       "    <tr>\n",
       "      <th>0</th>\n",
       "      <td>1</td>\n",
       "      <td>13</td>\n",
       "    </tr>\n",
       "    <tr>\n",
       "      <th>1</th>\n",
       "      <td>1</td>\n",
       "      <td>44</td>\n",
       "    </tr>\n",
       "  </tbody>\n",
       "</table>\n",
       "</div>"
      ],
      "text/plain": [
       "   gala_investor_contract_detail__owner  gala_investor_contract_detail__user\n",
       "0                                     1                                   13\n",
       "1                                     1                                   44"
      ]
     },
     "execution_count": 45,
     "metadata": {},
     "output_type": "execute_result"
    }
   ],
   "source": [
    "df\n"
   ]
  },
  {
   "cell_type": "code",
   "execution_count": 46,
   "id": "00a54626",
   "metadata": {},
   "outputs": [],
   "source": [
    "gf = read_frame(get_rental_contract_detail_w_owner)"
   ]
  },
  {
   "cell_type": "code",
   "execution_count": 47,
   "id": "044c47ff",
   "metadata": {},
   "outputs": [
    {
     "data": {
      "text/html": [
       "<div>\n",
       "<style scoped>\n",
       "    .dataframe tbody tr th:only-of-type {\n",
       "        vertical-align: middle;\n",
       "    }\n",
       "\n",
       "    .dataframe tbody tr th {\n",
       "        vertical-align: top;\n",
       "    }\n",
       "\n",
       "    .dataframe thead th {\n",
       "        text-align: right;\n",
       "    }\n",
       "</style>\n",
       "<table border=\"1\" class=\"dataframe\">\n",
       "  <thead>\n",
       "    <tr style=\"text-align: right;\">\n",
       "      <th></th>\n",
       "      <th>gala_rental_contract_detail__owner</th>\n",
       "      <th>gala_rental_contract_detail__user</th>\n",
       "    </tr>\n",
       "  </thead>\n",
       "  <tbody>\n",
       "    <tr>\n",
       "      <th>0</th>\n",
       "      <td>1</td>\n",
       "      <td>2</td>\n",
       "    </tr>\n",
       "    <tr>\n",
       "      <th>1</th>\n",
       "      <td>1</td>\n",
       "      <td>11</td>\n",
       "    </tr>\n",
       "  </tbody>\n",
       "</table>\n",
       "</div>"
      ],
      "text/plain": [
       "   gala_rental_contract_detail__owner  gala_rental_contract_detail__user\n",
       "0                                   1                                  2\n",
       "1                                   1                                 11"
      ]
     },
     "execution_count": 47,
     "metadata": {},
     "output_type": "execute_result"
    }
   ],
   "source": [
    "gf"
   ]
  },
  {
   "cell_type": "code",
   "execution_count": 48,
   "id": "a8d8d0d6",
   "metadata": {},
   "outputs": [],
   "source": [
    "get_company_name = Company.objects.get(name=\"Omkar\"\n",
    "                        ).get_properties.get(uid=\"9bbc8a5f-e1a3-434f-b1a7-6e7b820492c2\"\n",
    "                            ).get_gala.filter(is_allotted=False)#.select_related(\"warehouse\",\"uid\").values(\"warehouse__uid\")\n",
    "#     \"warehouse__property_name\",\"warehouse__property_survey_number\",\"gala_number\")\n",
    "\n",
    "tf = read_frame(get_company_name)\n"
   ]
  },
  {
   "cell_type": "code",
   "execution_count": 49,
   "id": "8058895b",
   "metadata": {},
   "outputs": [
    {
     "data": {
      "text/html": [
       "<div>\n",
       "<style scoped>\n",
       "    .dataframe tbody tr th:only-of-type {\n",
       "        vertical-align: middle;\n",
       "    }\n",
       "\n",
       "    .dataframe tbody tr th {\n",
       "        vertical-align: top;\n",
       "    }\n",
       "\n",
       "    .dataframe thead th {\n",
       "        text-align: right;\n",
       "    }\n",
       "</style>\n",
       "<table border=\"1\" class=\"dataframe\">\n",
       "  <thead>\n",
       "    <tr style=\"text-align: right;\">\n",
       "      <th></th>\n",
       "      <th>id</th>\n",
       "      <th>uid</th>\n",
       "      <th>created_at</th>\n",
       "      <th>updated_at</th>\n",
       "      <th>warehouse</th>\n",
       "      <th>gala_number</th>\n",
       "      <th>is_allotted</th>\n",
       "    </tr>\n",
       "  </thead>\n",
       "  <tbody>\n",
       "    <tr>\n",
       "      <th>0</th>\n",
       "      <td>6</td>\n",
       "      <td>a5c94524-be8a-46ba-a5ca-5613cf90eaba</td>\n",
       "      <td>2022-12-20 08:52:59.560840+00:00</td>\n",
       "      <td>2022-12-20 08:52:59.560922+00:00</td>\n",
       "      <td>Omkar Warehouse 1</td>\n",
       "      <td>dff7567c-bdee-4b21-9f55-59644fce0cbd</td>\n",
       "      <td>False</td>\n",
       "    </tr>\n",
       "  </tbody>\n",
       "</table>\n",
       "</div>"
      ],
      "text/plain": [
       "   id                                   uid                       created_at  \\\n",
       "0   6  a5c94524-be8a-46ba-a5ca-5613cf90eaba 2022-12-20 08:52:59.560840+00:00   \n",
       "\n",
       "                        updated_at          warehouse  \\\n",
       "0 2022-12-20 08:52:59.560922+00:00  Omkar Warehouse 1   \n",
       "\n",
       "                            gala_number  is_allotted  \n",
       "0  dff7567c-bdee-4b21-9f55-59644fce0cbd        False  "
      ]
     },
     "execution_count": 49,
     "metadata": {},
     "output_type": "execute_result"
    }
   ],
   "source": [
    "tf"
   ]
  },
  {
   "cell_type": "code",
   "execution_count": null,
   "id": "3ee5f248",
   "metadata": {},
   "outputs": [],
   "source": []
  },
  {
   "cell_type": "code",
   "execution_count": 50,
   "id": "a87b20bb",
   "metadata": {},
   "outputs": [
    {
     "data": {
      "text/plain": [
       "4"
      ]
     },
     "execution_count": 50,
     "metadata": {},
     "output_type": "execute_result"
    }
   ],
   "source": [
    "get_company_name = Company.objects.get(name=\"Omkar\").get_properties.filter(get_gala__is_allotted=False).count()\n",
    "\n",
    "\n",
    "get_company_name\n"
   ]
  },
  {
   "cell_type": "code",
   "execution_count": 51,
   "id": "c88a95b1",
   "metadata": {},
   "outputs": [],
   "source": [
    "# total_remaining_gala_count"
   ]
  },
  {
   "cell_type": "code",
   "execution_count": 52,
   "id": "812c18a3",
   "metadata": {},
   "outputs": [],
   "source": [
    "# data"
   ]
  },
  {
   "cell_type": "code",
   "execution_count": 3,
   "id": "e561fd24",
   "metadata": {},
   "outputs": [],
   "source": [
    "from account.models import (\n",
    "    User,\n",
    "    Farmer,\n",
    "    Rental,\n",
    "    Investor,\n",
    "    UserAndInvestor\n",
    ")\n",
    "from warehouse.models import (\n",
    "    Gala,\n",
    "    Property,\n",
    "    Company,\n",
    ")\n",
    "from django.db.models import (\n",
    "    Count,\n",
    "    F,\n",
    "    Sum,\n",
    "    OuterRef,\n",
    "    Prefetch,\n",
    "    \n",
    ")\n",
    "\n",
    "from contract.models import (\n",
    "    Contract,\n",
    "    Investor as ContractInvestor,\n",
    "    Rental as ContractRental,\n",
    "    \n",
    "    Farmer as ContractFarmer\n",
    ")\n",
    "from account.models import User"
   ]
  },
  {
   "cell_type": "code",
   "execution_count": 26,
   "id": "fa1d9a48",
   "metadata": {},
   "outputs": [
    {
     "data": {
      "text/plain": [
       "<QuerySet [{'id': 8, 'user_uid': UUID('0591cd66-fd57-4b10-b372-5c21735bdb90'), 'username': 'mayank', 'first_name': 'Mayank', 'last_name': 'Motiyani', 'address': 'Rajendra Nagar', 'phone': '8560025508', 'city': 'Indore', 'zip_code': '312001', 'birth_date': datetime.date(1995, 12, 14), 'total_galas': 2, 'total_rentals': 1}]>"
      ]
     },
     "execution_count": 26,
     "metadata": {},
     "output_type": "execute_result"
    }
   ],
   "source": [
    "Investor.objects.filter(belong_to__name = \"Omkar\").values(\n",
    "                \"id\",\"user_uid\",\"username\",\"first_name\",\"last_name\",\"address\",\"phone\",\"address\",\n",
    "                \"city\",\"zip_code\",\"birth_date\"\n",
    "                ).annotate(\n",
    "                    total_galas = ContractInvestor.objects.filter(\n",
    "                        user__user_uid = OuterRef(\"user_uid\")).values(\"user__user_uid\"\n",
    "                ).annotate(total_galas=Count(\"id\",distinct=True)).values(\"total_galas\"),\n",
    "                    total_rentals = ContractRental.objects.filter(\n",
    "                        owner__user_uid = OuterRef(\"user_uid\")).values(\"user__user_uid\"\n",
    "                ).annotate(total_galas=Count(\"id\",distinct=True)).values(\"total_galas\")\n",
    "            )"
   ]
  },
  {
   "cell_type": "code",
   "execution_count": 23,
   "id": "2931be0b",
   "metadata": {},
   "outputs": [
    {
     "data": {
      "text/plain": [
       "<PolymorphicQuerySet [{'id': 5}, {'id': 3}]>"
      ]
     },
     "execution_count": 23,
     "metadata": {},
     "output_type": "execute_result"
    }
   ],
   "source": [
    "ContractInvestor.objects.filter(user_id = 8).values(\"id\").annotate()"
   ]
  },
  {
   "cell_type": "code",
   "execution_count": 12,
   "id": "ceccaa42",
   "metadata": {},
   "outputs": [
    {
     "data": {
      "text/plain": [
       "<QuerySet [<Gala: ced84a5a-d56c-45b6-8787-d649a5c93252>, <Gala: 94c33451-5cae-45cb-8e26-ccdb63bca7da>, <Gala: ac9e4b8f-4a62-4e9a-900f-baf2035c0f6c>, <Gala: 10fbc2c7-8635-4631-9648-3b6a51dff889>, <Gala: 68d07089-5f17-4b35-b079-0f0830f2fca2>, <Gala: e9b90a6b-4ea9-4fca-95fd-22daae3fcadd>]>"
      ]
     },
     "execution_count": 12,
     "metadata": {},
     "output_type": "execute_result"
    }
   ],
   "source": [
    "Gala.objects.filter(warehouse__company__name=\"Omkar\").select_related(\"gala_investor_contract_detail\",\"gala_rental_contract_detail\")"
   ]
  },
  {
   "cell_type": "code",
   "execution_count": 15,
   "id": "8477910a",
   "metadata": {},
   "outputs": [
    {
     "data": {
      "text/plain": [
       "<QuerySet [<UserAndInvestor: admin>, <UserAndInvestor: snippy-aqua-ladybird>, <UserAndInvestor: shaggy-lemon-deer>, <UserAndInvestor: skinny-xanthic-tamarin>, <UserAndInvestor: stealthy-platinum-lion>, <UserAndInvestor: whiny-white-ostrich>, <UserAndInvestor: shaggy-maroon-audemer>, <UserAndInvestor: baggy-olive-dragonfly>, <UserAndInvestor: crabby-asparagus-tzu>, <UserAndInvestor: tacky-seashell-hummingbird>, <UserAndInvestor: gloppy-tomato-birman>, <UserAndInvestor: cranky-khaki-budgerigar>, <UserAndInvestor: snappy-burgundy-indri>, <UserAndInvestor: stuffy-cardinal-binturong>, <UserAndInvestor: foggy-purple-koala>, <UserAndInvestor: lanky-lavender-leopard>, <UserAndInvestor: fuzzy-chartreuse-boar>, <UserAndInvestor: silly-apricot-dingo>, <UserAndInvestor: snoopy-ivory-frigatebird>, <UserAndInvestor: woolly-peach-kangaroo>, '...(remaining elements truncated)...']>"
      ]
     },
     "execution_count": 15,
     "metadata": {},
     "output_type": "execute_result"
    }
   ],
   "source": [
    "UserAndInvestor.objects.filter()"
   ]
  },
  {
   "cell_type": "code",
   "execution_count": 19,
   "id": "dcde9a7a",
   "metadata": {},
   "outputs": [
    {
     "data": {
      "text/plain": [
       "<PolymorphicQuerySet [<Rental: Leave_and_License>, <Rental: Leave_and_License>, <Rental: Leave_and_License>]>"
      ]
     },
     "execution_count": 19,
     "metadata": {},
     "output_type": "execute_result"
    }
   ],
   "source": [
    "ContractRental.objects.all()"
   ]
  },
  {
   "cell_type": "code",
   "execution_count": 45,
   "id": "5264fdef",
   "metadata": {},
   "outputs": [
    {
     "data": {
      "text/plain": [
       "<QuerySet [{'gala_rental_contract_detail__owner__user_uid': UUID('12b0fa6f-3739-4489-b6e4-67ac12b677bf'), 'number_of_rentals': 1}, {'gala_rental_contract_detail__owner__user_uid': UUID('2d3a2eff-636c-4491-8908-1f424657c085'), 'number_of_rentals': 1}, {'gala_rental_contract_detail__owner__user_uid': UUID('f4056ac8-635c-4907-aa45-482fc51174c3'), 'number_of_rentals': 1}]>"
      ]
     },
     "execution_count": 45,
     "metadata": {},
     "output_type": "execute_result"
    }
   ],
   "source": [
    "Gala.objects.filter(\n",
    "    warehouse__company__name=\"Omkar\",\n",
    "    is_allotted_to_rental=True).values(\n",
    "    \"gala_rental_contract_detail__owner__user_uid\"\n",
    ").annotate(\n",
    "    number_of_rentals = ContractRental.objects.filter(owner__user_uid=OuterRef(\"gala_rental_contract_detail__owner__user_uid\")).values(\"owner\").annotate(number_of_rentals = Count(\"owner\")).values('number_of_rentals')\n",
    ")"
   ]
  },
  {
   "cell_type": "code",
   "execution_count": 36,
   "id": "6e2aa79f",
   "metadata": {},
   "outputs": [
    {
     "data": {
      "text/plain": [
       "<PolymorphicQuerySet [{'owner': 1}]>"
      ]
     },
     "execution_count": 36,
     "metadata": {},
     "output_type": "execute_result"
    }
   ],
   "source": [
    "ContractRental.objects.filter(owner_id=1).values(\"owner\")"
   ]
  },
  {
   "cell_type": "code",
   "execution_count": 58,
   "id": "c9345063",
   "metadata": {},
   "outputs": [
    {
     "data": {
      "text/plain": [
       "<QuerySet [{'gala_rental_contract_detail': 56, 'number_of_rentals': 1}, {'gala_rental_contract_detail': 57, 'number_of_rentals': 1}, {'gala_rental_contract_detail': 54, 'number_of_rentals': 1}]>"
      ]
     },
     "execution_count": 58,
     "metadata": {},
     "output_type": "execute_result"
    }
   ],
   "source": [
    "Gala.objects.filter(warehouse__company__name=\"Omkar\",is_allotted_to_rental=True).select_related(\"gala_rental_contract_detail__owner\",\"gala_rental.annotate(\n",
    "    number_of_rentals = ContractRental.objects.filter(owner__user_uid=OuterRef(\"gala_rental_contract_detail__owner__user_uid\")).values(\"owner\").annotate(number_of_rentals = Count(\"owner\")).values('number_of_rentals')\n",
    ")"
   ]
  },
  {
   "cell_type": "code",
   "execution_count": 51,
   "id": "1ad556a4",
   "metadata": {},
   "outputs": [
    {
     "data": {
      "text/plain": [
       "<QuerySet [{'gala_rental_contract_detail__owner__user_uid': UUID('12b0fa6f-3739-4489-b6e4-67ac12b677bf'), 'gala_rental_contract_detail__owner__username': 'skinny-xanthic-tamarin', 'number_of_rentals': 1}, {'gala_rental_contract_detail__owner__user_uid': UUID('2d3a2eff-636c-4491-8908-1f424657c085'), 'gala_rental_contract_detail__owner__username': 'admin', 'number_of_rentals': 1}, {'gala_rental_contract_detail__owner__user_uid': UUID('f4056ac8-635c-4907-aa45-482fc51174c3'), 'gala_rental_contract_detail__owner__username': 'shaggy-lemon-deer', 'number_of_rentals': 1}]>"
      ]
     },
     "execution_count": 51,
     "metadata": {},
     "output_type": "execute_result"
    }
   ],
   "source": [
    "Gala.objects.filter(\n",
    "    warehouse__company__name=\"Omkar\",\n",
    "    is_allotted_to_rental=True).values(\n",
    "    \"gala_rental_contract_detail__owner__user_uid\",\n",
    "    \"gala_rental_contract_detail__owner__username\",\n",
    ").annotate(\n",
    "    number_of_rentals = ContractRental.objects.filter(owner__user_uid=OuterRef(\"gala_rental_contract_detail__owner__user_uid\")).values(\"owner\").annotate(number_of_rentals = Count(\"owner\")).values('number_of_rentals')\n",
    ")"
   ]
  },
  {
   "cell_type": "code",
   "execution_count": 59,
   "id": "27e05052",
   "metadata": {},
   "outputs": [
    {
     "data": {
      "text/plain": [
       "<QuerySet [<Gala: ced84a5a-d56c-45b6-8787-d649a5c93252>, <Gala: ac9e4b8f-4a62-4e9a-900f-baf2035c0f6c>, <Gala: 10fbc2c7-8635-4631-9648-3b6a51dff889>]>"
      ]
     },
     "execution_count": 59,
     "metadata": {},
     "output_type": "execute_result"
    }
   ],
   "source": [
    "Gala.objects.filter(warehouse__company__name=\"Omkar\",is_allotted_to_rental=True).select_related(\"gala_rental_contract_detail\")"
   ]
  },
  {
   "cell_type": "code",
   "execution_count": 8,
   "id": "3333c8ca",
   "metadata": {},
   "outputs": [],
   "source": [
    "queryset = (\n",
    "        Gala.objects.filter(warehouse__company__name=\"Omkar\",is_allotted_to_rental=True)\n",
    "        .prefetch_related(\n",
    "            Prefetch(\n",
    "                'gala_rental_contract_detail', to_attr='number_of_rentals',\n",
    "                queryset=ContractRental.objects.all().annotate(\n",
    "                    number_of_rentals = Count('id', distinct=True),\n",
    "                )\n",
    "            ),\n",
    "            \n",
    "        )\n",
    "    )\n"
   ]
  },
  {
   "cell_type": "code",
   "execution_count": 9,
   "id": "de570104",
   "metadata": {},
   "outputs": [
    {
     "data": {
      "text/plain": [
       "<QuerySet [<Gala: ced84a5a-d56c-45b6-8787-d649a5c93252>, <Gala: ac9e4b8f-4a62-4e9a-900f-baf2035c0f6c>, <Gala: 10fbc2c7-8635-4631-9648-3b6a51dff889>]>"
      ]
     },
     "execution_count": 9,
     "metadata": {},
     "output_type": "execute_result"
    }
   ],
   "source": [
    "queryset"
   ]
  },
  {
   "cell_type": "code",
   "execution_count": 10,
   "id": "c0eaaf4e",
   "metadata": {},
   "outputs": [],
   "source": [
    "# Prefetch(\n",
    "#                 'followers', to_attr='prefetched_followers',\n",
    "#                 queryset=User.objects.all()\n",
    "#             ),"
   ]
  },
  {
   "cell_type": "code",
   "execution_count": 11,
   "id": "4b4e03db",
   "metadata": {},
   "outputs": [
    {
     "ename": "ModuleNotFoundError",
     "evalue": "No module named '_bz2'",
     "output_type": "error",
     "traceback": [
      "\u001b[0;31m---------------------------------------------------------------------------\u001b[0m",
      "\u001b[0;31mModuleNotFoundError\u001b[0m                       Traceback (most recent call last)",
      "Cell \u001b[0;32mIn[11], line 1\u001b[0m\n\u001b[0;32m----> 1\u001b[0m \u001b[38;5;28;01mfrom\u001b[39;00m \u001b[38;5;21;01mdjango_pandas\u001b[39;00m\u001b[38;5;21;01m.\u001b[39;00m\u001b[38;5;21;01mio\u001b[39;00m \u001b[38;5;28;01mimport\u001b[39;00m read_frame\n",
      "File \u001b[0;32m~/Desktop/Omkar-Development/venv/lib/python3.11/site-packages/django_pandas/io.py:1\u001b[0m\n\u001b[0;32m----> 1\u001b[0m \u001b[38;5;28;01mimport\u001b[39;00m \u001b[38;5;21;01mpandas\u001b[39;00m \u001b[38;5;28;01mas\u001b[39;00m \u001b[38;5;21;01mpd\u001b[39;00m\n\u001b[1;32m      2\u001b[0m \u001b[38;5;28;01mfrom\u001b[39;00m \u001b[38;5;21;01m.\u001b[39;00m\u001b[38;5;21;01mutils\u001b[39;00m \u001b[38;5;28;01mimport\u001b[39;00m update_with_verbose, get_related_model\n\u001b[1;32m      3\u001b[0m \u001b[38;5;28;01mimport\u001b[39;00m \u001b[38;5;21;01mdjango\u001b[39;00m\n",
      "File \u001b[0;32m~/Desktop/Omkar-Development/venv/lib/python3.11/site-packages/pandas/__init__.py:48\u001b[0m\n\u001b[1;32m     45\u001b[0m \u001b[38;5;66;03m# let init-time option registration happen\u001b[39;00m\n\u001b[1;32m     46\u001b[0m \u001b[38;5;28;01mimport\u001b[39;00m \u001b[38;5;21;01mpandas\u001b[39;00m\u001b[38;5;21;01m.\u001b[39;00m\u001b[38;5;21;01mcore\u001b[39;00m\u001b[38;5;21;01m.\u001b[39;00m\u001b[38;5;21;01mconfig_init\u001b[39;00m  \u001b[38;5;66;03m# pyright: ignore # noqa:F401\u001b[39;00m\n\u001b[0;32m---> 48\u001b[0m \u001b[38;5;28;01mfrom\u001b[39;00m \u001b[38;5;21;01mpandas\u001b[39;00m\u001b[38;5;21;01m.\u001b[39;00m\u001b[38;5;21;01mcore\u001b[39;00m\u001b[38;5;21;01m.\u001b[39;00m\u001b[38;5;21;01mapi\u001b[39;00m \u001b[38;5;28;01mimport\u001b[39;00m (\n\u001b[1;32m     49\u001b[0m     \u001b[38;5;66;03m# dtype\u001b[39;00m\n\u001b[1;32m     50\u001b[0m     ArrowDtype,\n\u001b[1;32m     51\u001b[0m     Int8Dtype,\n\u001b[1;32m     52\u001b[0m     Int16Dtype,\n\u001b[1;32m     53\u001b[0m     Int32Dtype,\n\u001b[1;32m     54\u001b[0m     Int64Dtype,\n\u001b[1;32m     55\u001b[0m     UInt8Dtype,\n\u001b[1;32m     56\u001b[0m     UInt16Dtype,\n\u001b[1;32m     57\u001b[0m     UInt32Dtype,\n\u001b[1;32m     58\u001b[0m     UInt64Dtype,\n\u001b[1;32m     59\u001b[0m     Float32Dtype,\n\u001b[1;32m     60\u001b[0m     Float64Dtype,\n\u001b[1;32m     61\u001b[0m     CategoricalDtype,\n\u001b[1;32m     62\u001b[0m     PeriodDtype,\n\u001b[1;32m     63\u001b[0m     IntervalDtype,\n\u001b[1;32m     64\u001b[0m     DatetimeTZDtype,\n\u001b[1;32m     65\u001b[0m     StringDtype,\n\u001b[1;32m     66\u001b[0m     BooleanDtype,\n\u001b[1;32m     67\u001b[0m     \u001b[38;5;66;03m# missing\u001b[39;00m\n\u001b[1;32m     68\u001b[0m     NA,\n\u001b[1;32m     69\u001b[0m     isna,\n\u001b[1;32m     70\u001b[0m     isnull,\n\u001b[1;32m     71\u001b[0m     notna,\n\u001b[1;32m     72\u001b[0m     notnull,\n\u001b[1;32m     73\u001b[0m     \u001b[38;5;66;03m# indexes\u001b[39;00m\n\u001b[1;32m     74\u001b[0m     Index,\n\u001b[1;32m     75\u001b[0m     CategoricalIndex,\n\u001b[1;32m     76\u001b[0m     RangeIndex,\n\u001b[1;32m     77\u001b[0m     MultiIndex,\n\u001b[1;32m     78\u001b[0m     IntervalIndex,\n\u001b[1;32m     79\u001b[0m     TimedeltaIndex,\n\u001b[1;32m     80\u001b[0m     DatetimeIndex,\n\u001b[1;32m     81\u001b[0m     PeriodIndex,\n\u001b[1;32m     82\u001b[0m     IndexSlice,\n\u001b[1;32m     83\u001b[0m     \u001b[38;5;66;03m# tseries\u001b[39;00m\n\u001b[1;32m     84\u001b[0m     NaT,\n\u001b[1;32m     85\u001b[0m     Period,\n\u001b[1;32m     86\u001b[0m     period_range,\n\u001b[1;32m     87\u001b[0m     Timedelta,\n\u001b[1;32m     88\u001b[0m     timedelta_range,\n\u001b[1;32m     89\u001b[0m     Timestamp,\n\u001b[1;32m     90\u001b[0m     date_range,\n\u001b[1;32m     91\u001b[0m     bdate_range,\n\u001b[1;32m     92\u001b[0m     Interval,\n\u001b[1;32m     93\u001b[0m     interval_range,\n\u001b[1;32m     94\u001b[0m     DateOffset,\n\u001b[1;32m     95\u001b[0m     \u001b[38;5;66;03m# conversion\u001b[39;00m\n\u001b[1;32m     96\u001b[0m     to_numeric,\n\u001b[1;32m     97\u001b[0m     to_datetime,\n\u001b[1;32m     98\u001b[0m     to_timedelta,\n\u001b[1;32m     99\u001b[0m     \u001b[38;5;66;03m# misc\u001b[39;00m\n\u001b[1;32m    100\u001b[0m     Flags,\n\u001b[1;32m    101\u001b[0m     Grouper,\n\u001b[1;32m    102\u001b[0m     factorize,\n\u001b[1;32m    103\u001b[0m     unique,\n\u001b[1;32m    104\u001b[0m     value_counts,\n\u001b[1;32m    105\u001b[0m     NamedAgg,\n\u001b[1;32m    106\u001b[0m     array,\n\u001b[1;32m    107\u001b[0m     Categorical,\n\u001b[1;32m    108\u001b[0m     set_eng_float_format,\n\u001b[1;32m    109\u001b[0m     Series,\n\u001b[1;32m    110\u001b[0m     DataFrame,\n\u001b[1;32m    111\u001b[0m )\n\u001b[1;32m    113\u001b[0m \u001b[38;5;28;01mfrom\u001b[39;00m \u001b[38;5;21;01mpandas\u001b[39;00m\u001b[38;5;21;01m.\u001b[39;00m\u001b[38;5;21;01mcore\u001b[39;00m\u001b[38;5;21;01m.\u001b[39;00m\u001b[38;5;21;01marrays\u001b[39;00m\u001b[38;5;21;01m.\u001b[39;00m\u001b[38;5;21;01msparse\u001b[39;00m \u001b[38;5;28;01mimport\u001b[39;00m SparseDtype\n\u001b[1;32m    115\u001b[0m \u001b[38;5;28;01mfrom\u001b[39;00m \u001b[38;5;21;01mpandas\u001b[39;00m\u001b[38;5;21;01m.\u001b[39;00m\u001b[38;5;21;01mtseries\u001b[39;00m\u001b[38;5;21;01m.\u001b[39;00m\u001b[38;5;21;01mapi\u001b[39;00m \u001b[38;5;28;01mimport\u001b[39;00m infer_freq\n",
      "File \u001b[0;32m~/Desktop/Omkar-Development/venv/lib/python3.11/site-packages/pandas/core/api.py:47\u001b[0m\n\u001b[1;32m     45\u001b[0m \u001b[38;5;28;01mfrom\u001b[39;00m \u001b[38;5;21;01mpandas\u001b[39;00m\u001b[38;5;21;01m.\u001b[39;00m\u001b[38;5;21;01mcore\u001b[39;00m\u001b[38;5;21;01m.\u001b[39;00m\u001b[38;5;21;01mconstruction\u001b[39;00m \u001b[38;5;28;01mimport\u001b[39;00m array\n\u001b[1;32m     46\u001b[0m \u001b[38;5;28;01mfrom\u001b[39;00m \u001b[38;5;21;01mpandas\u001b[39;00m\u001b[38;5;21;01m.\u001b[39;00m\u001b[38;5;21;01mcore\u001b[39;00m\u001b[38;5;21;01m.\u001b[39;00m\u001b[38;5;21;01mflags\u001b[39;00m \u001b[38;5;28;01mimport\u001b[39;00m Flags\n\u001b[0;32m---> 47\u001b[0m \u001b[38;5;28;01mfrom\u001b[39;00m \u001b[38;5;21;01mpandas\u001b[39;00m\u001b[38;5;21;01m.\u001b[39;00m\u001b[38;5;21;01mcore\u001b[39;00m\u001b[38;5;21;01m.\u001b[39;00m\u001b[38;5;21;01mgroupby\u001b[39;00m \u001b[38;5;28;01mimport\u001b[39;00m (\n\u001b[1;32m     48\u001b[0m     Grouper,\n\u001b[1;32m     49\u001b[0m     NamedAgg,\n\u001b[1;32m     50\u001b[0m )\n\u001b[1;32m     51\u001b[0m \u001b[38;5;28;01mfrom\u001b[39;00m \u001b[38;5;21;01mpandas\u001b[39;00m\u001b[38;5;21;01m.\u001b[39;00m\u001b[38;5;21;01mcore\u001b[39;00m\u001b[38;5;21;01m.\u001b[39;00m\u001b[38;5;21;01mindexes\u001b[39;00m\u001b[38;5;21;01m.\u001b[39;00m\u001b[38;5;21;01mapi\u001b[39;00m \u001b[38;5;28;01mimport\u001b[39;00m (\n\u001b[1;32m     52\u001b[0m     CategoricalIndex,\n\u001b[1;32m     53\u001b[0m     DatetimeIndex,\n\u001b[0;32m   (...)\u001b[0m\n\u001b[1;32m     63\u001b[0m     UInt64Index,\n\u001b[1;32m     64\u001b[0m )\n\u001b[1;32m     65\u001b[0m \u001b[38;5;28;01mfrom\u001b[39;00m \u001b[38;5;21;01mpandas\u001b[39;00m\u001b[38;5;21;01m.\u001b[39;00m\u001b[38;5;21;01mcore\u001b[39;00m\u001b[38;5;21;01m.\u001b[39;00m\u001b[38;5;21;01mindexes\u001b[39;00m\u001b[38;5;21;01m.\u001b[39;00m\u001b[38;5;21;01mdatetimes\u001b[39;00m \u001b[38;5;28;01mimport\u001b[39;00m (\n\u001b[1;32m     66\u001b[0m     bdate_range,\n\u001b[1;32m     67\u001b[0m     date_range,\n\u001b[1;32m     68\u001b[0m )\n",
      "File \u001b[0;32m~/Desktop/Omkar-Development/venv/lib/python3.11/site-packages/pandas/core/groupby/__init__.py:1\u001b[0m\n\u001b[0;32m----> 1\u001b[0m \u001b[38;5;28;01mfrom\u001b[39;00m \u001b[38;5;21;01mpandas\u001b[39;00m\u001b[38;5;21;01m.\u001b[39;00m\u001b[38;5;21;01mcore\u001b[39;00m\u001b[38;5;21;01m.\u001b[39;00m\u001b[38;5;21;01mgroupby\u001b[39;00m\u001b[38;5;21;01m.\u001b[39;00m\u001b[38;5;21;01mgeneric\u001b[39;00m \u001b[38;5;28;01mimport\u001b[39;00m (\n\u001b[1;32m      2\u001b[0m     DataFrameGroupBy,\n\u001b[1;32m      3\u001b[0m     NamedAgg,\n\u001b[1;32m      4\u001b[0m     SeriesGroupBy,\n\u001b[1;32m      5\u001b[0m )\n\u001b[1;32m      6\u001b[0m \u001b[38;5;28;01mfrom\u001b[39;00m \u001b[38;5;21;01mpandas\u001b[39;00m\u001b[38;5;21;01m.\u001b[39;00m\u001b[38;5;21;01mcore\u001b[39;00m\u001b[38;5;21;01m.\u001b[39;00m\u001b[38;5;21;01mgroupby\u001b[39;00m\u001b[38;5;21;01m.\u001b[39;00m\u001b[38;5;21;01mgroupby\u001b[39;00m \u001b[38;5;28;01mimport\u001b[39;00m GroupBy\n\u001b[1;32m      7\u001b[0m \u001b[38;5;28;01mfrom\u001b[39;00m \u001b[38;5;21;01mpandas\u001b[39;00m\u001b[38;5;21;01m.\u001b[39;00m\u001b[38;5;21;01mcore\u001b[39;00m\u001b[38;5;21;01m.\u001b[39;00m\u001b[38;5;21;01mgroupby\u001b[39;00m\u001b[38;5;21;01m.\u001b[39;00m\u001b[38;5;21;01mgrouper\u001b[39;00m \u001b[38;5;28;01mimport\u001b[39;00m Grouper\n",
      "File \u001b[0;32m~/Desktop/Omkar-Development/venv/lib/python3.11/site-packages/pandas/core/groupby/generic.py:76\u001b[0m\n\u001b[1;32m     74\u001b[0m \u001b[38;5;28;01mimport\u001b[39;00m \u001b[38;5;21;01mpandas\u001b[39;00m\u001b[38;5;21;01m.\u001b[39;00m\u001b[38;5;21;01mcore\u001b[39;00m\u001b[38;5;21;01m.\u001b[39;00m\u001b[38;5;21;01mcommon\u001b[39;00m \u001b[38;5;28;01mas\u001b[39;00m \u001b[38;5;21;01mcom\u001b[39;00m\n\u001b[1;32m     75\u001b[0m \u001b[38;5;28;01mfrom\u001b[39;00m \u001b[38;5;21;01mpandas\u001b[39;00m\u001b[38;5;21;01m.\u001b[39;00m\u001b[38;5;21;01mcore\u001b[39;00m\u001b[38;5;21;01m.\u001b[39;00m\u001b[38;5;21;01mconstruction\u001b[39;00m \u001b[38;5;28;01mimport\u001b[39;00m create_series_with_explicit_dtype\n\u001b[0;32m---> 76\u001b[0m \u001b[38;5;28;01mfrom\u001b[39;00m \u001b[38;5;21;01mpandas\u001b[39;00m\u001b[38;5;21;01m.\u001b[39;00m\u001b[38;5;21;01mcore\u001b[39;00m\u001b[38;5;21;01m.\u001b[39;00m\u001b[38;5;21;01mframe\u001b[39;00m \u001b[38;5;28;01mimport\u001b[39;00m DataFrame\n\u001b[1;32m     77\u001b[0m \u001b[38;5;28;01mfrom\u001b[39;00m \u001b[38;5;21;01mpandas\u001b[39;00m\u001b[38;5;21;01m.\u001b[39;00m\u001b[38;5;21;01mcore\u001b[39;00m\u001b[38;5;21;01m.\u001b[39;00m\u001b[38;5;21;01mgroupby\u001b[39;00m \u001b[38;5;28;01mimport\u001b[39;00m base\n\u001b[1;32m     78\u001b[0m \u001b[38;5;28;01mfrom\u001b[39;00m \u001b[38;5;21;01mpandas\u001b[39;00m\u001b[38;5;21;01m.\u001b[39;00m\u001b[38;5;21;01mcore\u001b[39;00m\u001b[38;5;21;01m.\u001b[39;00m\u001b[38;5;21;01mgroupby\u001b[39;00m\u001b[38;5;21;01m.\u001b[39;00m\u001b[38;5;21;01mgroupby\u001b[39;00m \u001b[38;5;28;01mimport\u001b[39;00m (\n\u001b[1;32m     79\u001b[0m     GroupBy,\n\u001b[1;32m     80\u001b[0m     _agg_template,\n\u001b[0;32m   (...)\u001b[0m\n\u001b[1;32m     83\u001b[0m     warn_dropping_nuisance_columns_deprecated,\n\u001b[1;32m     84\u001b[0m )\n",
      "File \u001b[0;32m~/Desktop/Omkar-Development/venv/lib/python3.11/site-packages/pandas/core/frame.py:171\u001b[0m\n\u001b[1;32m    165\u001b[0m \u001b[38;5;28;01mfrom\u001b[39;00m \u001b[38;5;21;01mpandas\u001b[39;00m\u001b[38;5;21;01m.\u001b[39;00m\u001b[38;5;21;01mcore\u001b[39;00m\u001b[38;5;21;01m.\u001b[39;00m\u001b[38;5;21;01marrays\u001b[39;00m\u001b[38;5;21;01m.\u001b[39;00m\u001b[38;5;21;01msparse\u001b[39;00m \u001b[38;5;28;01mimport\u001b[39;00m SparseFrameAccessor\n\u001b[1;32m    166\u001b[0m \u001b[38;5;28;01mfrom\u001b[39;00m \u001b[38;5;21;01mpandas\u001b[39;00m\u001b[38;5;21;01m.\u001b[39;00m\u001b[38;5;21;01mcore\u001b[39;00m\u001b[38;5;21;01m.\u001b[39;00m\u001b[38;5;21;01mconstruction\u001b[39;00m \u001b[38;5;28;01mimport\u001b[39;00m (\n\u001b[1;32m    167\u001b[0m     extract_array,\n\u001b[1;32m    168\u001b[0m     sanitize_array,\n\u001b[1;32m    169\u001b[0m     sanitize_masked_array,\n\u001b[1;32m    170\u001b[0m )\n\u001b[0;32m--> 171\u001b[0m \u001b[38;5;28;01mfrom\u001b[39;00m \u001b[38;5;21;01mpandas\u001b[39;00m\u001b[38;5;21;01m.\u001b[39;00m\u001b[38;5;21;01mcore\u001b[39;00m\u001b[38;5;21;01m.\u001b[39;00m\u001b[38;5;21;01mgeneric\u001b[39;00m \u001b[38;5;28;01mimport\u001b[39;00m NDFrame\n\u001b[1;32m    172\u001b[0m \u001b[38;5;28;01mfrom\u001b[39;00m \u001b[38;5;21;01mpandas\u001b[39;00m\u001b[38;5;21;01m.\u001b[39;00m\u001b[38;5;21;01mcore\u001b[39;00m\u001b[38;5;21;01m.\u001b[39;00m\u001b[38;5;21;01mindexers\u001b[39;00m \u001b[38;5;28;01mimport\u001b[39;00m check_key_length\n\u001b[1;32m    173\u001b[0m \u001b[38;5;28;01mfrom\u001b[39;00m \u001b[38;5;21;01mpandas\u001b[39;00m\u001b[38;5;21;01m.\u001b[39;00m\u001b[38;5;21;01mcore\u001b[39;00m\u001b[38;5;21;01m.\u001b[39;00m\u001b[38;5;21;01mindexes\u001b[39;00m\u001b[38;5;21;01m.\u001b[39;00m\u001b[38;5;21;01mapi\u001b[39;00m \u001b[38;5;28;01mimport\u001b[39;00m (\n\u001b[1;32m    174\u001b[0m     DatetimeIndex,\n\u001b[1;32m    175\u001b[0m     Index,\n\u001b[0;32m   (...)\u001b[0m\n\u001b[1;32m    179\u001b[0m     ensure_index_from_sequences,\n\u001b[1;32m    180\u001b[0m )\n",
      "File \u001b[0;32m~/Desktop/Omkar-Development/venv/lib/python3.11/site-packages/pandas/core/generic.py:147\u001b[0m\n\u001b[1;32m    142\u001b[0m \u001b[38;5;28;01mfrom\u001b[39;00m \u001b[38;5;21;01mpandas\u001b[39;00m\u001b[38;5;21;01m.\u001b[39;00m\u001b[38;5;21;01mcore\u001b[39;00m\u001b[38;5;21;01m.\u001b[39;00m\u001b[38;5;21;01mbase\u001b[39;00m \u001b[38;5;28;01mimport\u001b[39;00m PandasObject\n\u001b[1;32m    143\u001b[0m \u001b[38;5;28;01mfrom\u001b[39;00m \u001b[38;5;21;01mpandas\u001b[39;00m\u001b[38;5;21;01m.\u001b[39;00m\u001b[38;5;21;01mcore\u001b[39;00m\u001b[38;5;21;01m.\u001b[39;00m\u001b[38;5;21;01mconstruction\u001b[39;00m \u001b[38;5;28;01mimport\u001b[39;00m (\n\u001b[1;32m    144\u001b[0m     create_series_with_explicit_dtype,\n\u001b[1;32m    145\u001b[0m     extract_array,\n\u001b[1;32m    146\u001b[0m )\n\u001b[0;32m--> 147\u001b[0m \u001b[38;5;28;01mfrom\u001b[39;00m \u001b[38;5;21;01mpandas\u001b[39;00m\u001b[38;5;21;01m.\u001b[39;00m\u001b[38;5;21;01mcore\u001b[39;00m\u001b[38;5;21;01m.\u001b[39;00m\u001b[38;5;21;01mdescribe\u001b[39;00m \u001b[38;5;28;01mimport\u001b[39;00m describe_ndframe\n\u001b[1;32m    148\u001b[0m \u001b[38;5;28;01mfrom\u001b[39;00m \u001b[38;5;21;01mpandas\u001b[39;00m\u001b[38;5;21;01m.\u001b[39;00m\u001b[38;5;21;01mcore\u001b[39;00m\u001b[38;5;21;01m.\u001b[39;00m\u001b[38;5;21;01mflags\u001b[39;00m \u001b[38;5;28;01mimport\u001b[39;00m Flags\n\u001b[1;32m    149\u001b[0m \u001b[38;5;28;01mfrom\u001b[39;00m \u001b[38;5;21;01mpandas\u001b[39;00m\u001b[38;5;21;01m.\u001b[39;00m\u001b[38;5;21;01mcore\u001b[39;00m\u001b[38;5;21;01m.\u001b[39;00m\u001b[38;5;21;01mindexes\u001b[39;00m\u001b[38;5;21;01m.\u001b[39;00m\u001b[38;5;21;01mapi\u001b[39;00m \u001b[38;5;28;01mimport\u001b[39;00m (\n\u001b[1;32m    150\u001b[0m     DatetimeIndex,\n\u001b[1;32m    151\u001b[0m     Index,\n\u001b[0;32m   (...)\u001b[0m\n\u001b[1;32m    156\u001b[0m     ensure_index,\n\u001b[1;32m    157\u001b[0m )\n",
      "File \u001b[0;32m~/Desktop/Omkar-Development/venv/lib/python3.11/site-packages/pandas/core/describe.py:45\u001b[0m\n\u001b[1;32m     42\u001b[0m \u001b[38;5;28;01mimport\u001b[39;00m \u001b[38;5;21;01mpandas\u001b[39;00m \u001b[38;5;28;01mas\u001b[39;00m \u001b[38;5;21;01mpd\u001b[39;00m\n\u001b[1;32m     43\u001b[0m \u001b[38;5;28;01mfrom\u001b[39;00m \u001b[38;5;21;01mpandas\u001b[39;00m\u001b[38;5;21;01m.\u001b[39;00m\u001b[38;5;21;01mcore\u001b[39;00m\u001b[38;5;21;01m.\u001b[39;00m\u001b[38;5;21;01mreshape\u001b[39;00m\u001b[38;5;21;01m.\u001b[39;00m\u001b[38;5;21;01mconcat\u001b[39;00m \u001b[38;5;28;01mimport\u001b[39;00m concat\n\u001b[0;32m---> 45\u001b[0m \u001b[38;5;28;01mfrom\u001b[39;00m \u001b[38;5;21;01mpandas\u001b[39;00m\u001b[38;5;21;01m.\u001b[39;00m\u001b[38;5;21;01mio\u001b[39;00m\u001b[38;5;21;01m.\u001b[39;00m\u001b[38;5;21;01mformats\u001b[39;00m\u001b[38;5;21;01m.\u001b[39;00m\u001b[38;5;21;01mformat\u001b[39;00m \u001b[38;5;28;01mimport\u001b[39;00m format_percentiles\n\u001b[1;32m     47\u001b[0m \u001b[38;5;28;01mif\u001b[39;00m TYPE_CHECKING:\n\u001b[1;32m     48\u001b[0m     \u001b[38;5;28;01mfrom\u001b[39;00m \u001b[38;5;21;01mpandas\u001b[39;00m \u001b[38;5;28;01mimport\u001b[39;00m (\n\u001b[1;32m     49\u001b[0m         DataFrame,\n\u001b[1;32m     50\u001b[0m         Series,\n\u001b[1;32m     51\u001b[0m     )\n",
      "File \u001b[0;32m~/Desktop/Omkar-Development/venv/lib/python3.11/site-packages/pandas/io/formats/format.py:105\u001b[0m\n\u001b[1;32m    102\u001b[0m \u001b[38;5;28;01mfrom\u001b[39;00m \u001b[38;5;21;01mpandas\u001b[39;00m\u001b[38;5;21;01m.\u001b[39;00m\u001b[38;5;21;01mcore\u001b[39;00m\u001b[38;5;21;01m.\u001b[39;00m\u001b[38;5;21;01mindexes\u001b[39;00m\u001b[38;5;21;01m.\u001b[39;00m\u001b[38;5;21;01mtimedeltas\u001b[39;00m \u001b[38;5;28;01mimport\u001b[39;00m TimedeltaIndex\n\u001b[1;32m    103\u001b[0m \u001b[38;5;28;01mfrom\u001b[39;00m \u001b[38;5;21;01mpandas\u001b[39;00m\u001b[38;5;21;01m.\u001b[39;00m\u001b[38;5;21;01mcore\u001b[39;00m\u001b[38;5;21;01m.\u001b[39;00m\u001b[38;5;21;01mreshape\u001b[39;00m\u001b[38;5;21;01m.\u001b[39;00m\u001b[38;5;21;01mconcat\u001b[39;00m \u001b[38;5;28;01mimport\u001b[39;00m concat\n\u001b[0;32m--> 105\u001b[0m \u001b[38;5;28;01mfrom\u001b[39;00m \u001b[38;5;21;01mpandas\u001b[39;00m\u001b[38;5;21;01m.\u001b[39;00m\u001b[38;5;21;01mio\u001b[39;00m\u001b[38;5;21;01m.\u001b[39;00m\u001b[38;5;21;01mcommon\u001b[39;00m \u001b[38;5;28;01mimport\u001b[39;00m (\n\u001b[1;32m    106\u001b[0m     check_parent_directory,\n\u001b[1;32m    107\u001b[0m     stringify_path,\n\u001b[1;32m    108\u001b[0m )\n\u001b[1;32m    109\u001b[0m \u001b[38;5;28;01mfrom\u001b[39;00m \u001b[38;5;21;01mpandas\u001b[39;00m\u001b[38;5;21;01m.\u001b[39;00m\u001b[38;5;21;01mio\u001b[39;00m\u001b[38;5;21;01m.\u001b[39;00m\u001b[38;5;21;01mformats\u001b[39;00m\u001b[38;5;21;01m.\u001b[39;00m\u001b[38;5;21;01mprinting\u001b[39;00m \u001b[38;5;28;01mimport\u001b[39;00m (\n\u001b[1;32m    110\u001b[0m     adjoin,\n\u001b[1;32m    111\u001b[0m     justify,\n\u001b[1;32m    112\u001b[0m     pprint_thing,\n\u001b[1;32m    113\u001b[0m )\n\u001b[1;32m    115\u001b[0m \u001b[38;5;28;01mif\u001b[39;00m TYPE_CHECKING:\n",
      "File \u001b[0;32m~/Desktop/Omkar-Development/venv/lib/python3.11/site-packages/pandas/io/common.py:8\u001b[0m\n\u001b[1;32m      2\u001b[0m \u001b[38;5;28;01mfrom\u001b[39;00m \u001b[38;5;21;01m__future__\u001b[39;00m \u001b[38;5;28;01mimport\u001b[39;00m annotations\n\u001b[1;32m      4\u001b[0m \u001b[38;5;28;01mfrom\u001b[39;00m \u001b[38;5;21;01mabc\u001b[39;00m \u001b[38;5;28;01mimport\u001b[39;00m (\n\u001b[1;32m      5\u001b[0m     ABC,\n\u001b[1;32m      6\u001b[0m     abstractmethod,\n\u001b[1;32m      7\u001b[0m )\n\u001b[0;32m----> 8\u001b[0m \u001b[38;5;28;01mimport\u001b[39;00m \u001b[38;5;21;01mbz2\u001b[39;00m\n\u001b[1;32m      9\u001b[0m \u001b[38;5;28;01mimport\u001b[39;00m \u001b[38;5;21;01mcodecs\u001b[39;00m\n\u001b[1;32m     10\u001b[0m \u001b[38;5;28;01mimport\u001b[39;00m \u001b[38;5;21;01mdataclasses\u001b[39;00m\n",
      "File \u001b[0;32m/usr/local/lib/python3.11/bz2.py:17\u001b[0m\n\u001b[1;32m     14\u001b[0m \u001b[38;5;28;01mimport\u001b[39;00m \u001b[38;5;21;01mos\u001b[39;00m\n\u001b[1;32m     15\u001b[0m \u001b[38;5;28;01mimport\u001b[39;00m \u001b[38;5;21;01m_compression\u001b[39;00m\n\u001b[0;32m---> 17\u001b[0m \u001b[38;5;28;01mfrom\u001b[39;00m \u001b[38;5;21;01m_bz2\u001b[39;00m \u001b[38;5;28;01mimport\u001b[39;00m BZ2Compressor, BZ2Decompressor\n\u001b[1;32m     20\u001b[0m _MODE_CLOSED   \u001b[38;5;241m=\u001b[39m \u001b[38;5;241m0\u001b[39m\n\u001b[1;32m     21\u001b[0m _MODE_READ     \u001b[38;5;241m=\u001b[39m \u001b[38;5;241m1\u001b[39m\n",
      "\u001b[0;31mModuleNotFoundError\u001b[0m: No module named '_bz2'"
     ]
    }
   ],
   "source": [
    "from django_pandas.io import read_frame\n"
   ]
  },
  {
   "cell_type": "code",
   "execution_count": 13,
   "id": "724eb949",
   "metadata": {},
   "outputs": [
    {
     "name": "stdout",
     "output_type": "stream",
     "text": [
      "\u001b[31mERROR: Could not find a version that satisfies the requirement bz2 (from versions: none)\u001b[0m\u001b[31m\n",
      "\u001b[0m\u001b[31mERROR: No matching distribution found for bz2\u001b[0m\u001b[31m\n",
      "\u001b[0m\u001b[33mWARNING: You are using pip version 22.0.4; however, version 22.3.1 is available.\n",
      "You should consider upgrading via the '/home/python-25/Desktop/Omkar-Development/venv/bin/python3 -m pip install --upgrade pip' command.\u001b[0m\u001b[33m\n",
      "\u001b[0m"
     ]
    }
   ],
   "source": [
    "!pip install bz2"
   ]
  },
  {
   "cell_type": "code",
   "execution_count": null,
   "id": "66479b8a",
   "metadata": {},
   "outputs": [],
   "source": [
    "df = read_frame(queryset)"
   ]
  },
  {
   "cell_type": "code",
   "execution_count": null,
   "id": "bff3bcc5",
   "metadata": {},
   "outputs": [],
   "source": [
    "df"
   ]
  },
  {
   "cell_type": "code",
   "execution_count": 3,
   "id": "239bbadd",
   "metadata": {},
   "outputs": [],
   "source": [
    "from account.models import (\n",
    "    User,\n",
    "    Farmer,\n",
    "    Rental,\n",
    "    Investor,\n",
    "    UserAndInvestor\n",
    ")\n",
    "from warehouse.models import (\n",
    "    Gala,\n",
    "    Property,\n",
    "    Company,\n",
    ")\n",
    "from django.db.models import (\n",
    "    Count,\n",
    "    F,\n",
    "    Sum,\n",
    "    OuterRef,\n",
    "    Prefetch,\n",
    "    \n",
    ")\n",
    "\n",
    "from contract.models import (\n",
    "    Contract,\n",
    "    Investor as ContractInvestor,\n",
    "    Rental as ContractRental,\n",
    "    Farmer as ContractFarmer\n",
    ")\n",
    "from account.models import User"
   ]
  },
  {
   "cell_type": "code",
   "execution_count": 4,
   "id": "abff71ac",
   "metadata": {},
   "outputs": [],
   "source": [
    "get_rental = ContractRental.objects.filter(user_id=5).values(\"gala__warehouse__property_name\",\"gala__warehouse__company__name\",\"gala__gala_number\",\"user__username\",\"gala__warehouse__property_type\")"
   ]
  },
  {
   "cell_type": "code",
   "execution_count": 5,
   "id": "4a193cf0",
   "metadata": {},
   "outputs": [
    {
     "data": {
      "text/plain": [
       "<PolymorphicQuerySet [{'gala__warehouse__property_name': 'Omkar Warehouse 1', 'gala__warehouse__company__name': 'Omkar', 'gala__gala_number': 'e9b90a6b-4ea9-4fca-95fd-22daae3fcadd', 'user__username': 'snappy-cardinal-argentino', 'gala__warehouse__property_type': 'COLD STORAGE'}, {'gala__warehouse__property_name': 'Omkar Warehouse 2', 'gala__warehouse__company__name': 'Omkar', 'gala__gala_number': '94c33451-5cae-45cb-8e26-ccdb63bca7da', 'user__username': 'snappy-cardinal-argentino', 'gala__warehouse__property_type': 'RCC'}, {'gala__warehouse__property_name': 'Omkar Warehouse 2', 'gala__warehouse__company__name': 'Omkar', 'gala__gala_number': 'ac9e4b8f-4a62-4e9a-900f-baf2035c0f6c', 'user__username': 'snappy-cardinal-argentino', 'gala__warehouse__property_type': 'RCC'}]>"
      ]
     },
     "execution_count": 5,
     "metadata": {},
     "output_type": "execute_result"
    }
   ],
   "source": [
    "get_rental"
   ]
  },
  {
   "cell_type": "code",
   "execution_count": 6,
   "id": "e859ccbc",
   "metadata": {},
   "outputs": [],
   "source": [
    "get_rental_qs = Rental.objects.filter(belong_to__name=\"Omkar\").values(\n",
    "                \"id\",\"user_uid\",\"username\"\n",
    "            ).annotate(\n",
    "                total_number_of_galas = ContractRental.objects.filter(\n",
    "                    user__user_uid = OuterRef(\"user_uid\")\n",
    "                ).values(\"user__user_uid\").annotate(\n",
    "                    total_number_of_galas = Count(\"user__user_uid\")\n",
    "                ).values(\"total_number_of_galas\"),\n",
    "            )"
   ]
  },
  {
   "cell_type": "code",
   "execution_count": 7,
   "id": "79ac5d46",
   "metadata": {
    "scrolled": true
   },
   "outputs": [
    {
     "data": {
      "text/plain": [
       "<QuerySet [{'id': 2, 'user_uid': UUID('dfef7ec8-d0fe-4e9f-abb1-16187c184320'), 'username': 'Mayank', 'total_number_of_galas': 1}, {'id': 5, 'user_uid': UUID('51f9c7eb-8f1b-4fcc-9124-58831235d387'), 'username': 'snappy-cardinal-argentino', 'total_number_of_galas': 3}, {'id': 14, 'user_uid': UUID('1df8502b-66a6-4486-ae21-7e19c3e7bd0a'), 'username': 'randy-crimson-caracal', 'total_number_of_galas': 1}, {'id': 15, 'user_uid': UUID('4acd799f-7f94-42de-9b6d-1e80b5c5e6b3'), 'username': 'cloudy-champagne-zebu', 'total_number_of_galas': None}, {'id': 19, 'user_uid': UUID('21cc2354-694b-44fd-b9cb-659f1117ac55'), 'username': 'slimy-platinum-tapir', 'total_number_of_galas': None}, {'id': 21, 'user_uid': UUID('0fccdc06-c2e6-45b2-9b91-0100b976e6d3'), 'username': 'squirrely-razzmatazz-moose', 'total_number_of_galas': None}, {'id': 28, 'user_uid': UUID('e7b74f37-29df-4650-b622-7b56626bcdd8'), 'username': 'tasty-platinum-hyrax', 'total_number_of_galas': None}, {'id': 37, 'user_uid': UUID('4e16d99b-f073-471e-b51d-cadedf7a2456'), 'username': 'nerdy-crimson-frise', 'total_number_of_galas': None}, {'id': 50, 'user_uid': UUID('6c8ad82d-2efd-4340-8be4-1225a10aa1f0'), 'username': 'hasty-puce-oyster', 'total_number_of_galas': None}, {'id': 51, 'user_uid': UUID('b749ae76-f68d-4a05-97c5-efa48d6c3be4'), 'username': 'jumpy-maroon-mist', 'total_number_of_galas': None}, {'id': 54, 'user_uid': UUID('8fd78262-8698-4425-8c7f-bb177a4b74df'), 'username': 'freaky-crimson-dodo', 'total_number_of_galas': None}, {'id': 56, 'user_uid': UUID('86f5dfae-cd58-4a64-a1fe-9348d621dd6e'), 'username': 'chummy-magnolia-quoll', 'total_number_of_galas': None}, {'id': 59, 'user_uid': UUID('2d200190-5494-42a3-8c10-c1013079d8e5'), 'username': 'boozy-turquoise-antelope', 'total_number_of_galas': None}, {'id': 60, 'user_uid': UUID('fa3c91d6-ea46-483a-9daa-6dcb1d86a085'), 'username': 'snippy-cinnamon-cheetah', 'total_number_of_galas': None}, {'id': 62, 'user_uid': UUID('f55889f2-9759-496a-829a-5ae676cc67b0'), 'username': 'chewy-yellow-millipede', 'total_number_of_galas': None}, {'id': 66, 'user_uid': UUID('1f38c84f-21b2-4d52-967f-b42c1a1f1966'), 'username': 'wimpy-pear-badger', 'total_number_of_galas': None}, {'id': 67, 'user_uid': UUID('0898e1a1-96d6-4e93-be26-2eaf02177946'), 'username': 'nippy-flax-panda', 'total_number_of_galas': None}, {'id': 68, 'user_uid': UUID('8489a286-72ee-4bb9-b9a1-9795f570d471'), 'username': 'snoopy-corn-mandrill', 'total_number_of_galas': None}, {'id': 72, 'user_uid': UUID('76663926-eec2-496e-997a-fa056db8e69a'), 'username': 'skanky-rust-capuchin', 'total_number_of_galas': None}, {'id': 82, 'user_uid': UUID('89d5a564-fcbd-4107-b835-0516666ff2e0'), 'username': 'lovely-burgundy-shrimp', 'total_number_of_galas': None}, '...(remaining elements truncated)...']>"
      ]
     },
     "execution_count": 7,
     "metadata": {},
     "output_type": "execute_result"
    }
   ],
   "source": [
    "get_rental_qs"
   ]
  },
  {
   "cell_type": "code",
   "execution_count": null,
   "id": "b0caaace",
   "metadata": {},
   "outputs": [],
   "source": []
  },
  {
   "cell_type": "code",
   "execution_count": 26,
   "id": "373aa2f2",
   "metadata": {},
   "outputs": [],
   "source": [
    "from django.db.models import (\n",
    "    ExpressionWrapper,\n",
    "    IntegerField,\n",
    "    Window\n",
    ")"
   ]
  },
  {
   "cell_type": "code",
   "execution_count": 27,
   "id": "76e12d5c",
   "metadata": {},
   "outputs": [
    {
     "data": {
      "text/plain": [
       "<PolymorphicQuerySet [{'gala__warehouse': 8}, {'gala__warehouse': 9}, {'gala__warehouse': 9}]>"
      ]
     },
     "execution_count": 27,
     "metadata": {},
     "output_type": "execute_result"
    }
   ],
   "source": [
    "ContractRental.objects.filter(user__user_uid = '51f9c7eb-8f1b-4fcc-9124-58831235d387').values(\"gala__warehouse\")"
   ]
  },
  {
   "cell_type": "code",
   "execution_count": 36,
   "id": "ff376b31",
   "metadata": {
    "scrolled": true
   },
   "outputs": [
    {
     "data": {
      "text/plain": [
       "<PolymorphicQuerySet [{'gala__warehouse': 8, 'gala__warehouse__count': 1}, {'gala__warehouse': 9, 'gala__warehouse__count': 1}]>"
      ]
     },
     "execution_count": 36,
     "metadata": {},
     "output_type": "execute_result"
    }
   ],
   "source": [
    "ContractRental.objects.filter(\n",
    "    user__user_uid = '51f9c7eb-8f1b-4fcc-9124-58831235d387'\n",
    ").values(\n",
    "    \"gala__warehouse\"\n",
    ").annotate(Count(\"gala__warehouse\",distinct=True))"
   ]
  },
  {
   "cell_type": "code",
   "execution_count": 57,
   "id": "c7d0b103",
   "metadata": {},
   "outputs": [],
   "source": [
    "from django.db import models"
   ]
  },
  {
   "cell_type": "code",
   "execution_count": 58,
   "id": "07c4a70a",
   "metadata": {},
   "outputs": [
    {
     "ename": "FieldError",
     "evalue": "Cannot compute Sum('total_warehouse'): 'total_warehouse' is an aggregate",
     "output_type": "error",
     "traceback": [
      "\u001b[0;31m---------------------------------------------------------------------------\u001b[0m",
      "\u001b[0;31mFieldError\u001b[0m                                Traceback (most recent call last)",
      "Cell \u001b[0;32mIn[58], line 6\u001b[0m\n\u001b[1;32m      1\u001b[0m \u001b[43mContractRental\u001b[49m\u001b[38;5;241;43m.\u001b[39;49m\u001b[43mobjects\u001b[49m\u001b[38;5;241;43m.\u001b[39;49m\u001b[43mfilter\u001b[49m\u001b[43m(\u001b[49m\n\u001b[1;32m      2\u001b[0m \u001b[43m    \u001b[49m\u001b[43muser__user_uid\u001b[49m\u001b[43m \u001b[49m\u001b[38;5;241;43m=\u001b[39;49m\u001b[43m \u001b[49m\u001b[38;5;124;43m'\u001b[39;49m\u001b[38;5;124;43m51f9c7eb-8f1b-4fcc-9124-58831235d387\u001b[39;49m\u001b[38;5;124;43m'\u001b[39;49m\n\u001b[1;32m      3\u001b[0m \u001b[43m)\u001b[49m\u001b[38;5;241;43m.\u001b[39;49m\u001b[43mvalues\u001b[49m\u001b[43m(\u001b[49m\n\u001b[1;32m      4\u001b[0m \u001b[43m    \u001b[49m\u001b[38;5;124;43m\"\u001b[39;49m\u001b[38;5;124;43mgala__warehouse\u001b[39;49m\u001b[38;5;124;43m\"\u001b[39;49m\n\u001b[1;32m      5\u001b[0m \u001b[43m)\u001b[49m\u001b[38;5;241;43m.\u001b[39;49m\u001b[43mannotate\u001b[49m\u001b[43m(\u001b[49m\u001b[43mCount\u001b[49m\u001b[43m(\u001b[49m\u001b[38;5;124;43m\"\u001b[39;49m\u001b[38;5;124;43mgala__warehouse\u001b[39;49m\u001b[38;5;124;43m\"\u001b[39;49m\u001b[43m,\u001b[49m\u001b[43mdistinct\u001b[49m\u001b[38;5;241;43m=\u001b[39;49m\u001b[38;5;28;43;01mTrue\u001b[39;49;00m\u001b[43m)\u001b[49m\u001b[43m)\u001b[49m\u001b[38;5;241;43m.\u001b[39;49m\u001b[43mannotate\u001b[49m\u001b[43m(\u001b[49m\u001b[43mtotal_warehouse\u001b[49m\u001b[43m \u001b[49m\u001b[38;5;241;43m=\u001b[39;49m\u001b[43m \u001b[49m\u001b[43mExpressionWrapper\u001b[49m\u001b[43m(\u001b[49m\n\u001b[0;32m----> 6\u001b[0m \u001b[43m        \u001b[49m\u001b[43mCount\u001b[49m\u001b[43m(\u001b[49m\u001b[38;5;124;43m'\u001b[39;49m\u001b[38;5;124;43mgala__warehouse_id\u001b[39;49m\u001b[38;5;124;43m'\u001b[39;49m\u001b[43m,\u001b[49m\u001b[43mdistinct\u001b[49m\u001b[38;5;241;43m=\u001b[39;49m\u001b[38;5;28;43;01mTrue\u001b[39;49;00m\u001b[43m)\u001b[49m\u001b[43m,\u001b[49m\u001b[43m \u001b[49m\u001b[43moutput_field\u001b[49m\u001b[38;5;241;43m=\u001b[39;49m\u001b[43mIntegerField\u001b[49m\u001b[43m(\u001b[49m\u001b[43m)\u001b[49m\u001b[43m)\u001b[49m\u001b[43m)\u001b[49m\u001b[38;5;241;43m.\u001b[39;49m\u001b[43mvalues\u001b[49m\u001b[43m(\u001b[49m\u001b[38;5;124;43m\"\u001b[39;49m\u001b[38;5;124;43mtotal_warehouse\u001b[39;49m\u001b[38;5;124;43m\"\u001b[39;49m\u001b[43m)\u001b[49m\u001b[38;5;241;43m.\u001b[39;49m\u001b[43mannotate\u001b[49m\u001b[43m(\u001b[49m\u001b[43mpoints\u001b[49m\u001b[38;5;241;43m=\u001b[39;49m\u001b[43mmodels\u001b[49m\u001b[38;5;241;43m.\u001b[39;49m\u001b[43mSum\u001b[49m\u001b[43m(\u001b[49m\u001b[38;5;124;43m'\u001b[39;49m\u001b[38;5;124;43mtotal_warehouse\u001b[39;49m\u001b[38;5;124;43m'\u001b[39;49m\u001b[43m)\u001b[49m\u001b[43m)\u001b[49m\n",
      "File \u001b[0;32m~/Desktop/Omkar-Development/venv/lib/python3.11/site-packages/polymorphic/query.py:311\u001b[0m, in \u001b[0;36mPolymorphicQuerySet.annotate\u001b[0;34m(self, *args, **kwargs)\u001b[0m\n\u001b[1;32m    308\u001b[0m \u001b[38;5;124;03m\"\"\"translate the polymorphic field paths in the kwargs, then call vanilla annotate.\u001b[39;00m\n\u001b[1;32m    309\u001b[0m \u001b[38;5;124;03m_get_real_instances will do the rest of the job after executing the query.\"\"\"\u001b[39;00m\n\u001b[1;32m    310\u001b[0m \u001b[38;5;28mself\u001b[39m\u001b[38;5;241m.\u001b[39m_process_aggregate_args(args, kwargs)\n\u001b[0;32m--> 311\u001b[0m \u001b[38;5;28;01mreturn\u001b[39;00m \u001b[38;5;28;43msuper\u001b[39;49m\u001b[43m(\u001b[49m\u001b[43m)\u001b[49m\u001b[38;5;241;43m.\u001b[39;49m\u001b[43mannotate\u001b[49m\u001b[43m(\u001b[49m\u001b[38;5;241;43m*\u001b[39;49m\u001b[43margs\u001b[49m\u001b[43m,\u001b[49m\u001b[43m \u001b[49m\u001b[38;5;241;43m*\u001b[39;49m\u001b[38;5;241;43m*\u001b[39;49m\u001b[43mkwargs\u001b[49m\u001b[43m)\u001b[49m\n",
      "File \u001b[0;32m~/Desktop/Omkar-Development/venv/lib/python3.11/site-packages/django/db/models/query.py:1575\u001b[0m, in \u001b[0;36mQuerySet.annotate\u001b[0;34m(self, *args, **kwargs)\u001b[0m\n\u001b[1;32m   1570\u001b[0m \u001b[38;5;124;03m\"\"\"\u001b[39;00m\n\u001b[1;32m   1571\u001b[0m \u001b[38;5;124;03mReturn a query set in which the returned objects have been annotated\u001b[39;00m\n\u001b[1;32m   1572\u001b[0m \u001b[38;5;124;03mwith extra data or aggregations.\u001b[39;00m\n\u001b[1;32m   1573\u001b[0m \u001b[38;5;124;03m\"\"\"\u001b[39;00m\n\u001b[1;32m   1574\u001b[0m \u001b[38;5;28mself\u001b[39m\u001b[38;5;241m.\u001b[39m_not_support_combined_queries(\u001b[38;5;124m\"\u001b[39m\u001b[38;5;124mannotate\u001b[39m\u001b[38;5;124m\"\u001b[39m)\n\u001b[0;32m-> 1575\u001b[0m \u001b[38;5;28;01mreturn\u001b[39;00m \u001b[38;5;28;43mself\u001b[39;49m\u001b[38;5;241;43m.\u001b[39;49m\u001b[43m_annotate\u001b[49m\u001b[43m(\u001b[49m\u001b[43margs\u001b[49m\u001b[43m,\u001b[49m\u001b[43m \u001b[49m\u001b[43mkwargs\u001b[49m\u001b[43m,\u001b[49m\u001b[43m \u001b[49m\u001b[43mselect\u001b[49m\u001b[38;5;241;43m=\u001b[39;49m\u001b[38;5;28;43;01mTrue\u001b[39;49;00m\u001b[43m)\u001b[49m\n",
      "File \u001b[0;32m~/Desktop/Omkar-Development/venv/lib/python3.11/site-packages/django/db/models/query.py:1623\u001b[0m, in \u001b[0;36mQuerySet._annotate\u001b[0;34m(self, args, kwargs, select)\u001b[0m\n\u001b[1;32m   1621\u001b[0m         clone\u001b[38;5;241m.\u001b[39mquery\u001b[38;5;241m.\u001b[39madd_filtered_relation(annotation, alias)\n\u001b[1;32m   1622\u001b[0m     \u001b[38;5;28;01melse\u001b[39;00m:\n\u001b[0;32m-> 1623\u001b[0m         \u001b[43mclone\u001b[49m\u001b[38;5;241;43m.\u001b[39;49m\u001b[43mquery\u001b[49m\u001b[38;5;241;43m.\u001b[39;49m\u001b[43madd_annotation\u001b[49m\u001b[43m(\u001b[49m\n\u001b[1;32m   1624\u001b[0m \u001b[43m            \u001b[49m\u001b[43mannotation\u001b[49m\u001b[43m,\u001b[49m\n\u001b[1;32m   1625\u001b[0m \u001b[43m            \u001b[49m\u001b[43malias\u001b[49m\u001b[43m,\u001b[49m\n\u001b[1;32m   1626\u001b[0m \u001b[43m            \u001b[49m\u001b[43mis_summary\u001b[49m\u001b[38;5;241;43m=\u001b[39;49m\u001b[38;5;28;43;01mFalse\u001b[39;49;00m\u001b[43m,\u001b[49m\n\u001b[1;32m   1627\u001b[0m \u001b[43m            \u001b[49m\u001b[43mselect\u001b[49m\u001b[38;5;241;43m=\u001b[39;49m\u001b[43mselect\u001b[49m\u001b[43m,\u001b[49m\n\u001b[1;32m   1628\u001b[0m \u001b[43m        \u001b[49m\u001b[43m)\u001b[49m\n\u001b[1;32m   1629\u001b[0m \u001b[38;5;28;01mfor\u001b[39;00m alias, annotation \u001b[38;5;129;01min\u001b[39;00m clone\u001b[38;5;241m.\u001b[39mquery\u001b[38;5;241m.\u001b[39mannotations\u001b[38;5;241m.\u001b[39mitems():\n\u001b[1;32m   1630\u001b[0m     \u001b[38;5;28;01mif\u001b[39;00m alias \u001b[38;5;129;01min\u001b[39;00m annotations \u001b[38;5;129;01mand\u001b[39;00m annotation\u001b[38;5;241m.\u001b[39mcontains_aggregate:\n",
      "File \u001b[0;32m~/Desktop/Omkar-Development/venv/lib/python3.11/site-packages/django/db/models/sql/query.py:1119\u001b[0m, in \u001b[0;36mQuery.add_annotation\u001b[0;34m(self, annotation, alias, is_summary, select)\u001b[0m\n\u001b[1;32m   1117\u001b[0m \u001b[38;5;124;03m\"\"\"Add a single annotation expression to the Query.\"\"\"\u001b[39;00m\n\u001b[1;32m   1118\u001b[0m \u001b[38;5;28mself\u001b[39m\u001b[38;5;241m.\u001b[39mcheck_alias(alias)\n\u001b[0;32m-> 1119\u001b[0m annotation \u001b[38;5;241m=\u001b[39m \u001b[43mannotation\u001b[49m\u001b[38;5;241;43m.\u001b[39;49m\u001b[43mresolve_expression\u001b[49m\u001b[43m(\u001b[49m\n\u001b[1;32m   1120\u001b[0m \u001b[43m    \u001b[49m\u001b[38;5;28;43mself\u001b[39;49m\u001b[43m,\u001b[49m\u001b[43m \u001b[49m\u001b[43mallow_joins\u001b[49m\u001b[38;5;241;43m=\u001b[39;49m\u001b[38;5;28;43;01mTrue\u001b[39;49;00m\u001b[43m,\u001b[49m\u001b[43m \u001b[49m\u001b[43mreuse\u001b[49m\u001b[38;5;241;43m=\u001b[39;49m\u001b[38;5;28;43;01mNone\u001b[39;49;00m\u001b[43m,\u001b[49m\u001b[43m \u001b[49m\u001b[43msummarize\u001b[49m\u001b[38;5;241;43m=\u001b[39;49m\u001b[43mis_summary\u001b[49m\n\u001b[1;32m   1121\u001b[0m \u001b[43m\u001b[49m\u001b[43m)\u001b[49m\n\u001b[1;32m   1122\u001b[0m \u001b[38;5;28;01mif\u001b[39;00m select:\n\u001b[1;32m   1123\u001b[0m     \u001b[38;5;28mself\u001b[39m\u001b[38;5;241m.\u001b[39mappend_annotation_mask([alias])\n",
      "File \u001b[0;32m~/Desktop/Omkar-Development/venv/lib/python3.11/site-packages/django/db/models/aggregates.py:80\u001b[0m, in \u001b[0;36mAggregate.resolve_expression\u001b[0;34m(self, query, allow_joins, reuse, summarize, for_save)\u001b[0m\n\u001b[1;32m     74\u001b[0m             before_resolved \u001b[38;5;241m=\u001b[39m \u001b[38;5;28mself\u001b[39m\u001b[38;5;241m.\u001b[39mget_source_expressions()[index]\n\u001b[1;32m     75\u001b[0m             name \u001b[38;5;241m=\u001b[39m (\n\u001b[1;32m     76\u001b[0m                 before_resolved\u001b[38;5;241m.\u001b[39mname\n\u001b[1;32m     77\u001b[0m                 \u001b[38;5;28;01mif\u001b[39;00m \u001b[38;5;28mhasattr\u001b[39m(before_resolved, \u001b[38;5;124m\"\u001b[39m\u001b[38;5;124mname\u001b[39m\u001b[38;5;124m\"\u001b[39m)\n\u001b[1;32m     78\u001b[0m                 \u001b[38;5;28;01melse\u001b[39;00m \u001b[38;5;28mrepr\u001b[39m(before_resolved)\n\u001b[1;32m     79\u001b[0m             )\n\u001b[0;32m---> 80\u001b[0m             \u001b[38;5;28;01mraise\u001b[39;00m FieldError(\n\u001b[1;32m     81\u001b[0m                 \u001b[38;5;124m\"\u001b[39m\u001b[38;5;124mCannot compute \u001b[39m\u001b[38;5;132;01m%s\u001b[39;00m\u001b[38;5;124m(\u001b[39m\u001b[38;5;124m'\u001b[39m\u001b[38;5;132;01m%s\u001b[39;00m\u001b[38;5;124m'\u001b[39m\u001b[38;5;124m): \u001b[39m\u001b[38;5;124m'\u001b[39m\u001b[38;5;132;01m%s\u001b[39;00m\u001b[38;5;124m'\u001b[39m\u001b[38;5;124m is an aggregate\u001b[39m\u001b[38;5;124m\"\u001b[39m\n\u001b[1;32m     82\u001b[0m                 \u001b[38;5;241m%\u001b[39m (c\u001b[38;5;241m.\u001b[39mname, name, name)\n\u001b[1;32m     83\u001b[0m             )\n\u001b[1;32m     84\u001b[0m \u001b[38;5;28;01mif\u001b[39;00m (default \u001b[38;5;241m:=\u001b[39m c\u001b[38;5;241m.\u001b[39mdefault) \u001b[38;5;129;01mis\u001b[39;00m \u001b[38;5;28;01mNone\u001b[39;00m:\n\u001b[1;32m     85\u001b[0m     \u001b[38;5;28;01mreturn\u001b[39;00m c\n",
      "\u001b[0;31mFieldError\u001b[0m: Cannot compute Sum('total_warehouse'): 'total_warehouse' is an aggregate"
     ]
    }
   ],
   "source": [
    "ContractRental.objects.filter(\n",
    "    user__user_uid = '51f9c7eb-8f1b-4fcc-9124-58831235d387'\n",
    ").values(\n",
    "    \"gala__warehouse\"\n",
    ").annotate(Count(\"gala__warehouse\",distinct=True)).annotate(total_warehouse = ExpressionWrapper(\n",
    "        Count('gala__warehouse_id',distinct=True), output_field=IntegerField())).values(\"total_warehouse\").annotate(points=models.Sum('total_warehouse'))"
   ]
  },
  {
   "cell_type": "code",
   "execution_count": null,
   "id": "3627c36c",
   "metadata": {},
   "outputs": [],
   "source": [
    "# Window(expression=Sum(Count('comments__id')), partition_by=[F('group')])\n"
   ]
  },
  {
   "cell_type": "code",
   "execution_count": null,
   "id": "774c072a",
   "metadata": {},
   "outputs": [],
   "source": [
    "# Note:  CustomUser is what get_user_model() returns\n",
    "CustomUser.objects.annotate(post_count=Count('posts'), comment_count=Count('comment'),\n",
    "        total=Sum(F('post_count') * 10 + F('comment_count'))\n",
    "    ).order_by('-post_count', '-comment_count', 'username')"
   ]
  },
  {
   "cell_type": "code",
   "execution_count": null,
   "id": "fd5a9398",
   "metadata": {},
   "outputs": [],
   "source": [
    "CustomUser.objects.annotate(\n",
    "    post_count=Count('posts'), \n",
    "    comment_count=Count('comment'),\n",
    "    total=F('post_count') * 10 + F('comment_count')\n",
    ").order_by('-post_count', '-comment_count', 'username')"
   ]
  },
  {
   "cell_type": "code",
   "execution_count": 54,
   "id": "c698b14b",
   "metadata": {
    "scrolled": true
   },
   "outputs": [
    {
     "data": {
      "text/plain": [
       "<PolymorphicQuerySet [{'gala__warehouse': 8, 'gala__warehouse__count': 1}, {'gala__warehouse': 9, 'gala__warehouse__count': 1}]>"
      ]
     },
     "execution_count": 54,
     "metadata": {},
     "output_type": "execute_result"
    }
   ],
   "source": [
    "ContractRental.objects.filter(\n",
    "    user__user_uid = '51f9c7eb-8f1b-4fcc-9124-58831235d387'\n",
    ").values(\n",
    "    \"gala__warehouse\"\n",
    ").annotate(Count(\"gala__warehouse\",distinct=True))"
   ]
  },
  {
   "cell_type": "code",
   "execution_count": null,
   "id": "1dc43d54",
   "metadata": {},
   "outputs": [],
   "source": []
  },
  {
   "cell_type": "code",
   "execution_count": 133,
   "id": "351b5dd1",
   "metadata": {},
   "outputs": [],
   "source": [
    "get_rental_qs = Rental.objects.filter(belong_to__name=\"Omkar\").values(\n",
    "                \"id\",\"user_uid\",\"username\"\n",
    "            ).annotate(\n",
    "                total_number_of_galas = ContractRental.objects.filter(\n",
    "                    user__user_uid = OuterRef(\"user_uid\")\n",
    "                ).values('gala__warehouse_id').annotate(gala_warehouse = Count(\"gala__warehouse_id\",distinct=True)).values(\"gala_warehouse\").annotate(\n",
    "                    total_number_of_galas=ExpressionWrapper(\n",
    "                        Count(\"gala__warehouse_id\"),\n",
    "                        output_field=models.IntegerField()\n",
    "                    )\n",
    "                ).values('total_number_of_galas')).annotate(\n",
    "                total_number_of_warehouse = ContractRental.objects.filter(\n",
    "                    user__user_uid = OuterRef(\"user_uid\")\n",
    "                ).values('gala__warehouse_id').annotate(gala_warehouse = Count(\"gala__warehouse_id\",distinct=True)).values(\"gala_warehouse\").annotate(\n",
    "                    number_of_warehouse=ExpressionWrapper(\n",
    "                        Count(\"gala__warehouse_id\",distinct=True),\n",
    "                        output_field=models.IntegerField()\n",
    "                    )\n",
    "                ).values('number_of_warehouse') \n",
    "                                )\n",
    "                            "
   ]
  },
  {
   "cell_type": "code",
   "execution_count": 134,
   "id": "f9b7086b",
   "metadata": {},
   "outputs": [
    {
     "data": {
      "text/plain": [
       "<QuerySet [{'id': 2, 'user_uid': UUID('dfef7ec8-d0fe-4e9f-abb1-16187c184320'), 'username': 'Mayank', 'total_number_of_galas': 1, 'total_number_of_warehouse': 1}, {'id': 5, 'user_uid': UUID('51f9c7eb-8f1b-4fcc-9124-58831235d387'), 'username': 'snappy-cardinal-argentino', 'total_number_of_galas': 3, 'total_number_of_warehouse': 2}, {'id': 14, 'user_uid': UUID('1df8502b-66a6-4486-ae21-7e19c3e7bd0a'), 'username': 'randy-crimson-caracal', 'total_number_of_galas': 1, 'total_number_of_warehouse': 1}, {'id': 15, 'user_uid': UUID('4acd799f-7f94-42de-9b6d-1e80b5c5e6b3'), 'username': 'cloudy-champagne-zebu', 'total_number_of_galas': 0, 'total_number_of_warehouse': 0}, {'id': 19, 'user_uid': UUID('21cc2354-694b-44fd-b9cb-659f1117ac55'), 'username': 'slimy-platinum-tapir', 'total_number_of_galas': 0, 'total_number_of_warehouse': 0}, {'id': 21, 'user_uid': UUID('0fccdc06-c2e6-45b2-9b91-0100b976e6d3'), 'username': 'squirrely-razzmatazz-moose', 'total_number_of_galas': 0, 'total_number_of_warehouse': 0}, {'id': 28, 'user_uid': UUID('e7b74f37-29df-4650-b622-7b56626bcdd8'), 'username': 'tasty-platinum-hyrax', 'total_number_of_galas': 0, 'total_number_of_warehouse': 0}, {'id': 37, 'user_uid': UUID('4e16d99b-f073-471e-b51d-cadedf7a2456'), 'username': 'nerdy-crimson-frise', 'total_number_of_galas': 0, 'total_number_of_warehouse': 0}, {'id': 50, 'user_uid': UUID('6c8ad82d-2efd-4340-8be4-1225a10aa1f0'), 'username': 'hasty-puce-oyster', 'total_number_of_galas': 0, 'total_number_of_warehouse': 0}, {'id': 51, 'user_uid': UUID('b749ae76-f68d-4a05-97c5-efa48d6c3be4'), 'username': 'jumpy-maroon-mist', 'total_number_of_galas': 0, 'total_number_of_warehouse': 0}, {'id': 54, 'user_uid': UUID('8fd78262-8698-4425-8c7f-bb177a4b74df'), 'username': 'freaky-crimson-dodo', 'total_number_of_galas': 0, 'total_number_of_warehouse': 0}, {'id': 56, 'user_uid': UUID('86f5dfae-cd58-4a64-a1fe-9348d621dd6e'), 'username': 'chummy-magnolia-quoll', 'total_number_of_galas': 0, 'total_number_of_warehouse': 0}, {'id': 59, 'user_uid': UUID('2d200190-5494-42a3-8c10-c1013079d8e5'), 'username': 'boozy-turquoise-antelope', 'total_number_of_galas': 0, 'total_number_of_warehouse': 0}, {'id': 60, 'user_uid': UUID('fa3c91d6-ea46-483a-9daa-6dcb1d86a085'), 'username': 'snippy-cinnamon-cheetah', 'total_number_of_galas': 0, 'total_number_of_warehouse': 0}, {'id': 62, 'user_uid': UUID('f55889f2-9759-496a-829a-5ae676cc67b0'), 'username': 'chewy-yellow-millipede', 'total_number_of_galas': 0, 'total_number_of_warehouse': 0}, {'id': 66, 'user_uid': UUID('1f38c84f-21b2-4d52-967f-b42c1a1f1966'), 'username': 'wimpy-pear-badger', 'total_number_of_galas': 0, 'total_number_of_warehouse': 0}, {'id': 67, 'user_uid': UUID('0898e1a1-96d6-4e93-be26-2eaf02177946'), 'username': 'nippy-flax-panda', 'total_number_of_galas': 0, 'total_number_of_warehouse': 0}, {'id': 68, 'user_uid': UUID('8489a286-72ee-4bb9-b9a1-9795f570d471'), 'username': 'snoopy-corn-mandrill', 'total_number_of_galas': 0, 'total_number_of_warehouse': 0}, {'id': 72, 'user_uid': UUID('76663926-eec2-496e-997a-fa056db8e69a'), 'username': 'skanky-rust-capuchin', 'total_number_of_galas': 0, 'total_number_of_warehouse': 0}, {'id': 82, 'user_uid': UUID('89d5a564-fcbd-4107-b835-0516666ff2e0'), 'username': 'lovely-burgundy-shrimp', 'total_number_of_galas': 0, 'total_number_of_warehouse': 0}, '...(remaining elements truncated)...']>"
      ]
     },
     "execution_count": 134,
     "metadata": {},
     "output_type": "execute_result"
    }
   ],
   "source": [
    "get_rental_qs"
   ]
  },
  {
   "cell_type": "code",
   "execution_count": null,
   "id": "16e59271",
   "metadata": {},
   "outputs": [],
   "source": [
    ".annotate(total_number_of_warehouse = ContractRental.objects.filter(user__user_uid = OuterRef(\"user_uid\")).values(\n",
    "\"gala__warehouse_id\").annotate(total_number_of_warehouse = Count(F(\"gala__warehouse_id\"))).values(\"total_number_of_warehouse\"))"
   ]
  },
  {
   "cell_type": "code",
   "execution_count": null,
   "id": "a49650e8",
   "metadata": {},
   "outputs": [],
   "source": [
    "\"51f9c7eb-8f1b-4fcc-9124-58831235d387\""
   ]
  },
  {
   "cell_type": "code",
   "execution_count": 84,
   "id": "a867f19c",
   "metadata": {},
   "outputs": [
    {
     "data": {
      "text/plain": [
       "<PolymorphicQuerySet [{'total_number_of_warehouse': 1}, {'total_number_of_warehouse': 1}]>"
      ]
     },
     "execution_count": 84,
     "metadata": {},
     "output_type": "execute_result"
    }
   ],
   "source": [
    "ContractRental.objects.filter(user__user_uid = '51f9c7eb-8f1b-4fcc-9124-58831235d387').values(\n",
    "\"gala__warehouse_id\").annotate(total_number_of_warehouse = Count(F(\"gala__warehouse_id\"),distinct=True)).values(\"total_number_of_warehouse\")"
   ]
  },
  {
   "cell_type": "code",
   "execution_count": null,
   "id": "6851c07f",
   "metadata": {},
   "outputs": [],
   "source": [
    "responses = AnswerResponse.objects\n",
    "        .filter(survey__pk=models.OuterRef('pk'))\n",
    "        .annotate(\n",
    "            points=models.ExpressionWrapper(\n",
    "                models.F('realcoef') * models.F('answer__question__points'),\n",
    "                output_field=models.IntegerField()\n",
    "            )\n",
    "        )\n",
    "        .values('survey__pk') \n",
    "        .annotate(\n",
    "            total=models.Sum(models.F('points'))\n",
    "        )\n",
    "        .values('total')"
   ]
  },
  {
   "cell_type": "code",
   "execution_count": 97,
   "id": "18a8567a",
   "metadata": {},
   "outputs": [
    {
     "data": {
      "text/plain": [
       "<PolymorphicQuerySet [{'points': 2}]>"
      ]
     },
     "execution_count": 97,
     "metadata": {},
     "output_type": "execute_result"
    }
   ],
   "source": []
  },
  {
   "cell_type": "code",
   "execution_count": null,
   "id": "fb2cff82",
   "metadata": {},
   "outputs": [],
   "source": [
    ".annotate(\n",
    "    points=ExpressionWrapper(\n",
    "        Count(\"gala__warehouse_id\"),\n",
    "        output_field=models.IntegerField()\n",
    "    )\n",
    ").values('points') "
   ]
  },
  {
   "cell_type": "code",
   "execution_count": 129,
   "id": "4a8c1636",
   "metadata": {},
   "outputs": [
    {
     "data": {
      "text/plain": [
       "<PolymorphicQuerySet [{'total_number_of_galas': 0}]>"
      ]
     },
     "execution_count": 129,
     "metadata": {},
     "output_type": "execute_result"
    }
   ],
   "source": [
    "ContractRental.objects.filter(\n",
    "                    user__user_uid = \"51f9c7eb-8f1b-4fcc-9124-58831235d387\"\n",
    "                ).values('gala__warehouse_id').annotate(gala_warehouse = Count(\"gala__warehouse_id\",distinct=True)).values(\"gala_warehouse\").annotate(\n",
    "                    total_number_of_galas=ExpressionWrapper(\n",
    "                        Count(\"gala__warehouse_id\"),\n",
    "                        output_field=models.IntegerField()\n",
    "                    )\n",
    "                ).values('total_number_of_galas') "
   ]
  },
  {
   "cell_type": "code",
   "execution_count": null,
   "id": "ae76ebf2",
   "metadata": {},
   "outputs": [],
   "source": []
  }
 ],
 "metadata": {
  "kernelspec": {
   "display_name": "Python 3 (ipykernel)",
   "language": "python",
   "name": "python3"
  },
  "language_info": {
   "codemirror_mode": {
    "name": "ipython",
    "version": 3
   },
   "file_extension": ".py",
   "mimetype": "text/x-python",
   "name": "python",
   "nbconvert_exporter": "python",
   "pygments_lexer": "ipython3",
   "version": "3.11.0rc1"
  }
 },
 "nbformat": 4,
 "nbformat_minor": 5
}
