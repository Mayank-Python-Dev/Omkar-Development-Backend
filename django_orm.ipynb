{
 "cells": [
  {
   "cell_type": "code",
<<<<<<< HEAD
   "execution_count": 3,
=======
<<<<<<< HEAD
   "execution_count": 1,
=======
   "execution_count": 2,
>>>>>>> e0977ac5055edc056852a4e5349b1e90afcd0ca4
>>>>>>> 522501beb886bc86342fbd24d726c9ad33aac94d
   "id": "f293cd58",
   "metadata": {},
   "outputs": [],
   "source": [
    "import os\n",
    "import django\n",
    "os.environ.setdefault('DJANGO_SETTINGS_MODULE', 'omkar_proj.settings')\n",
    "os.environ[\"DJANGO_ALLOW_ASYNC_UNSAFE\"] = \"true\"\n",
    "django.setup()"
   ]
  },
  {
   "cell_type": "code",
<<<<<<< HEAD
   "execution_count": 4,
=======
<<<<<<< HEAD
   "execution_count": 2,
=======
   "execution_count": 183,
>>>>>>> e0977ac5055edc056852a4e5349b1e90afcd0ca4
>>>>>>> 522501beb886bc86342fbd24d726c9ad33aac94d
   "id": "be978624",
   "metadata": {},
   "outputs": [],
   "source": [
    "from warehouse.models import (\n",
    "    Company,\n",
    "    Property,\n",
    "    Gala\n",
    ")\n",
    "from django.db.models import (\n",
    "    OuterRef,\n",
    "    Count,\n",
    "    Prefetch,\n",
<<<<<<< HEAD
    "    Q\n",
    ")\n",
    "from contract.models import (\n",
    "    Contract,\n",
    "    Investor as ContractInvestor,\n",
    "    Rental as ContractRental,\n",
    "    Farmer as ContractFarmer\n",
    ")\n",
    "from account.models import (\n",
    "    Investor\n",
=======
    "    Value,\n",
    "    Q,\n",
    "    Case,\n",
    "    When\n",
    ")\n",
    "\n",
    "from account.models import (\n",
    "    Investor\n",
    ")\n",
    "from account.models import (\n",
    "    User\n",
>>>>>>> e0977ac5055edc056852a4e5349b1e90afcd0ca4
    ")"
   ]
  },
  {
   "cell_type": "code",
<<<<<<< HEAD
   "execution_count": 5,
=======
<<<<<<< HEAD
   "execution_count": 3,
=======
   "execution_count": 85,
>>>>>>> e0977ac5055edc056852a4e5349b1e90afcd0ca4
>>>>>>> 522501beb886bc86342fbd24d726c9ad33aac94d
   "id": "ec2cdb16",
   "metadata": {},
   "outputs": [
    {
     "data": {
      "text/plain": [
       "<QuerySet [<Investor: skinny-xanthic-tamarin>, <Investor: stealthy-platinum-lion>, <Investor: cranky-khaki-budgerigar>, <Investor: foggy-purple-koala>, <Investor: lanky-lavender-leopard>, <Investor: snoopy-ivory-frigatebird>, <Investor: woolly-peach-kangaroo>, <Investor: breezy-amethyst-harrier>, <Investor: snippy-apricot-bombay>, <Investor: surly-taupe-dingo>, <Investor: gamy-wisteria-eel>, <Investor: nippy-fuchsia-cockroach>, <Investor: dorky-pink-greyhound>, <Investor: trippy-khaki-guppy>, <Investor: cloudy-beige-hyrax>, <Investor: whiny-red-duck>, <Investor: gimpy-silver-dolphin>]>"
      ]
     },
<<<<<<< HEAD
     "execution_count": 5,
=======
<<<<<<< HEAD
     "execution_count": 3,
=======
     "execution_count": 85,
>>>>>>> e0977ac5055edc056852a4e5349b1e90afcd0ca4
>>>>>>> 522501beb886bc86342fbd24d726c9ad33aac94d
     "metadata": {},
     "output_type": "execute_result"
    }
   ],
   "source": [
    "Investor.objects.filter(belong_to__name = \"Omkar\")"
   ]
  },
  {
   "cell_type": "code",
<<<<<<< HEAD
   "execution_count": 6,
=======
<<<<<<< HEAD
   "execution_count": 4,
=======
   "execution_count": 86,
>>>>>>> e0977ac5055edc056852a4e5349b1e90afcd0ca4
>>>>>>> 522501beb886bc86342fbd24d726c9ad33aac94d
   "id": "e592d8b3",
   "metadata": {},
   "outputs": [
    {
<<<<<<< HEAD
     "ename": "NameError",
     "evalue": "name 'ContractInvestor' is not defined",
     "output_type": "error",
     "traceback": [
      "\u001b[0;31m---------------------------------------------------------------------------\u001b[0m",
      "\u001b[0;31mNameError\u001b[0m                                 Traceback (most recent call last)",
      "Cell \u001b[0;32mIn[6], line 1\u001b[0m\n\u001b[0;32m----> 1\u001b[0m \u001b[43mContractInvestor\u001b[49m\u001b[38;5;241m.\u001b[39mobjects\u001b[38;5;241m.\u001b[39mfilter(gala__warehouse__property_name \u001b[38;5;241m=\u001b[39m \u001b[38;5;124m\"\u001b[39m\u001b[38;5;124mOmkar Warehouse 1\u001b[39m\u001b[38;5;124m\"\u001b[39m,owner__is_superuser\u001b[38;5;241m=\u001b[39m\u001b[38;5;28;01mFalse\u001b[39;00m)\n",
      "\u001b[0;31mNameError\u001b[0m: name 'ContractInvestor' is not defined"
     ]
=======
     "data": {
      "text/plain": [
       "<PolymorphicQuerySet []>"
      ]
     },
<<<<<<< HEAD
     "execution_count": 4,
=======
     "execution_count": 86,
>>>>>>> e0977ac5055edc056852a4e5349b1e90afcd0ca4
     "metadata": {},
     "output_type": "execute_result"
>>>>>>> 522501beb886bc86342fbd24d726c9ad33aac94d
    }
   ],
   "source": [
    "ContractInvestor.objects.filter(gala__warehouse__property_name = \"Omkar Warehouse 1\",owner__is_superuser=False)"
   ]
  },
  {
   "cell_type": "code",
<<<<<<< HEAD
   "execution_count": 7,
=======
<<<<<<< HEAD
   "execution_count": 5,
=======
   "execution_count": 87,
>>>>>>> e0977ac5055edc056852a4e5349b1e90afcd0ca4
>>>>>>> 522501beb886bc86342fbd24d726c9ad33aac94d
   "id": "db8c73b3",
   "metadata": {},
   "outputs": [],
   "source": [
    "# get_gala_detail = Gala.objects.filter(is_allotted=True,get_gala_detail__owner__is_superuser=False)"
   ]
  },
  {
   "cell_type": "code",
<<<<<<< HEAD
   "execution_count": 8,
=======
<<<<<<< HEAD
   "execution_count": 6,
=======
   "execution_count": 88,
>>>>>>> e0977ac5055edc056852a4e5349b1e90afcd0ca4
>>>>>>> 522501beb886bc86342fbd24d726c9ad33aac94d
   "id": "d2767298",
   "metadata": {},
   "outputs": [],
   "source": [
    "# get_gala_detail"
   ]
  },
  {
   "cell_type": "code",
<<<<<<< HEAD
   "execution_count": 9,
=======
<<<<<<< HEAD
   "execution_count": 7,
=======
   "execution_count": 89,
>>>>>>> e0977ac5055edc056852a4e5349b1e90afcd0ca4
>>>>>>> 522501beb886bc86342fbd24d726c9ad33aac94d
   "id": "9b8cad81",
   "metadata": {},
   "outputs": [
    {
<<<<<<< HEAD
     "ename": "NameError",
     "evalue": "name 'ContractRental' is not defined",
     "output_type": "error",
     "traceback": [
      "\u001b[0;31m---------------------------------------------------------------------------\u001b[0m",
      "\u001b[0;31mNameError\u001b[0m                                 Traceback (most recent call last)",
      "Cell \u001b[0;32mIn[9], line 1\u001b[0m\n\u001b[0;32m----> 1\u001b[0m \u001b[43mContractRental\u001b[49m\u001b[38;5;241m.\u001b[39mobjects\u001b[38;5;241m.\u001b[39mall()\n",
      "\u001b[0;31mNameError\u001b[0m: name 'ContractRental' is not defined"
     ]
=======
     "data": {
      "text/plain": [
<<<<<<< HEAD
       "<PolymorphicQuerySet [<Rental: Leave_and_License>, <Rental: Leave_and_License>]>"
      ]
     },
     "execution_count": 7,
=======
       "<PolymorphicQuerySet [<Rental: Leave_and_License>, <Rental: Leave_and_License>, <Rental: Leave_and_License>]>"
      ]
     },
     "execution_count": 89,
>>>>>>> e0977ac5055edc056852a4e5349b1e90afcd0ca4
     "metadata": {},
     "output_type": "execute_result"
>>>>>>> 522501beb886bc86342fbd24d726c9ad33aac94d
    }
   ],
   "source": [
    "ContractRental.objects.all()"
   ]
  },
  {
   "cell_type": "code",
   "execution_count": null,
   "id": "9407e956",
   "metadata": {},
   "outputs": [],
   "source": []
  },
  {
   "cell_type": "code",
<<<<<<< HEAD
   "execution_count": 10,
=======
<<<<<<< HEAD
   "execution_count": 8,
=======
   "execution_count": 90,
>>>>>>> e0977ac5055edc056852a4e5349b1e90afcd0ca4
>>>>>>> 522501beb886bc86342fbd24d726c9ad33aac94d
   "id": "c47296ca",
   "metadata": {},
   "outputs": [],
   "source": [
    "# Company.objects.get(name=\"Omkar\").get_properties.get(id=1).get_gala.filter(gala_rental_detail__gala_id=4).select_related(\"gala_rental_detail\")"
   ]
  },
  {
   "cell_type": "code",
<<<<<<< HEAD
   "execution_count": 11,
=======
<<<<<<< HEAD
   "execution_count": 9,
=======
   "execution_count": 91,
>>>>>>> e0977ac5055edc056852a4e5349b1e90afcd0ca4
>>>>>>> 522501beb886bc86342fbd24d726c9ad33aac94d
   "id": "78cd9790",
   "metadata": {},
   "outputs": [],
   "source": [
    "# ContractRental.objects.filter(gala__warehouse__uid = \"9bbc8a5f-e1a3-434f-b1a7-6e7b820492c2\",gala__warehouse__company__name )"
   ]
  },
  {
   "cell_type": "code",
<<<<<<< HEAD
   "execution_count": 10,
=======
   "execution_count": 92,
>>>>>>> e0977ac5055edc056852a4e5349b1e90afcd0ca4
   "id": "ccebd24f",
   "metadata": {},
   "outputs": [],
   "source": [
    "# Company.objects.get(name=\"Omkar\").get_properties.get(id=1).get_gala.filter(gala_rental_detail__owner__is_superuser=False)"
   ]
  },
  {
   "cell_type": "code",
<<<<<<< HEAD
   "execution_count": 11,
=======
   "execution_count": 93,
>>>>>>> e0977ac5055edc056852a4e5349b1e90afcd0ca4
   "id": "57b85129",
   "metadata": {},
   "outputs": [],
   "source": [
    "get_warehouse_qs = Company.objects.get(\n",
    "                name=\"Omkar\"\n",
    "            ).get_properties.filter().values(\n",
    "                \"uid\",\"property_name\",\"property_type\",\"property_survey_number\",\"address\",\"city\",\"state\",\"country\"\n",
    "                ).annotate(\n",
    "                total_number_of_galas = Gala.objects.filter(warehouse__uid = OuterRef(\"uid\"),is_allotted=True).values(\"warehouse__uid\").annotate(total_galas_allotted = Count(\"id\")).values(\"total_galas_allotted\"),\n",
    "                total_number_of_farmers = ContractRental.objects.filter(gala__warehouse__uid = OuterRef(\"uid\")).values(\"gala__warehouse__uid\").annotate(total_number_of_farmers = Count(\"id\")).values(\"total_number_of_farmers\")\n",
    "            )"
   ]
  },
  {
   "cell_type": "code",
<<<<<<< HEAD
   "execution_count": 12,
=======
   "execution_count": 94,
>>>>>>> e0977ac5055edc056852a4e5349b1e90afcd0ca4
   "id": "97212c70",
   "metadata": {},
   "outputs": [
    {
     "data": {
      "text/plain": [
<<<<<<< HEAD
       "<QuerySet [{'uid': UUID('5ec6fd54-9257-487c-8e01-8d171b3c74a5'), 'property_name': 'Omkar Warehouse 2', 'property_type': 'OTHER', 'property_survey_number': '1891a3de-7256-4edf-9b0c-df1e063f824c', 'address': '...', 'city': 'Indore', 'state': 'Madha Pradesh', 'country': 'India', 'total_number_of_galas': None, 'total_number_of_farmers': None}, {'uid': UUID('9bbc8a5f-e1a3-434f-b1a7-6e7b820492c2'), 'property_name': 'Omkar Warehouse 1', 'property_type': 'PEB', 'property_survey_number': '8b8165c8-5004-40cb-82f3-f206364f6f5d', 'address': 'Atulya IT Park', 'city': 'Indore', 'state': 'Madha Pradesh', 'country': 'India', 'total_number_of_galas': 4, 'total_number_of_farmers': 2}]>"
      ]
     },
     "execution_count": 12,
=======
       "<QuerySet [{'uid': UUID('3b1a2ffd-8da6-49f6-8240-6805715e48e5'), 'property_name': 'Omkar Warehouse 3', 'property_type': 'COLD STORAGE', 'property_survey_number': '2f10dce4-e08e-4d61-ba4a-04e0f9104311', 'address': '...', 'city': 'Indore', 'state': 'Madha Pradesh', 'country': 'India', 'total_number_of_galas': None, 'total_number_of_farmers': None}, {'uid': UUID('5ec6fd54-9257-487c-8e01-8d171b3c74a5'), 'property_name': 'Omkar Warehouse 2', 'property_type': 'OTHER', 'property_survey_number': '1891a3de-7256-4edf-9b0c-df1e063f824c', 'address': '...', 'city': 'Indore', 'state': 'Madha Pradesh', 'country': 'India', 'total_number_of_galas': 1, 'total_number_of_farmers': 1}, {'uid': UUID('9bbc8a5f-e1a3-434f-b1a7-6e7b820492c2'), 'property_name': 'Omkar Warehouse 1', 'property_type': 'PEB', 'property_survey_number': '8b8165c8-5004-40cb-82f3-f206364f6f5d', 'address': 'Atulya IT Park', 'city': 'Indore', 'state': 'Madha Pradesh', 'country': 'India', 'total_number_of_galas': 4, 'total_number_of_farmers': 2}]>"
      ]
     },
     "execution_count": 94,
>>>>>>> e0977ac5055edc056852a4e5349b1e90afcd0ca4
     "metadata": {},
     "output_type": "execute_result"
    }
   ],
   "source": [
    "get_warehouse_qs"
   ]
  },
  {
   "cell_type": "code",
<<<<<<< HEAD
   "execution_count": 13,
=======
   "execution_count": 95,
>>>>>>> e0977ac5055edc056852a4e5349b1e90afcd0ca4
   "id": "ef2f19a4",
   "metadata": {},
   "outputs": [],
   "source": [
<<<<<<< HEAD
    "get_farmer_warehouses = Company.objects.get(name=\"Omkar\").get_properties.filter(farmer_warehouse_detail__user_id=3)"
=======
    "get_farmer_warehouses = Company.objects.get(\n",
    "    name=\"Omkar\"\n",
    ").get_properties.filter(\n",
    "    farmer_warehouse_detail__user__groups__name=\"Farmer\"\n",
    ").values(\n",
    "    \"uid\",\"property_name\",\"property_type\",\"property_survey_number\",\"address\",\"city\",\"state\",\"country\"\n",
    ").annotate(\n",
    "    total_number_of_galas = Gala.objects.filter(warehouse__uid = OuterRef(\"uid\"),is_allotted=True).values(\"warehouse__uid\").annotate(total_galas_allotted = Count(\"id\")).values(\"total_galas_allotted\"))"
>>>>>>> e0977ac5055edc056852a4e5349b1e90afcd0ca4
   ]
  },
  {
   "cell_type": "code",
<<<<<<< HEAD
   "execution_count": null,
   "id": "971fc9f6",
   "metadata": {},
   "outputs": [],
   "source": []
  },
  {
   "cell_type": "code",
   "execution_count": 14,
=======
   "execution_count": 96,
   "id": "971fc9f6",
   "metadata": {},
   "outputs": [
    {
     "data": {
      "text/plain": [
       "<PolymorphicQuerySet [{'total_counts': 1}, {'total_counts': 1}]>"
      ]
     },
     "execution_count": 96,
     "metadata": {},
     "output_type": "execute_result"
    }
   ],
   "source": [
    "ContractFarmer.objects.all().values(\"id\").annotate(total_counts = Count(\"id\")).values(\"total_counts\")"
   ]
  },
  {
   "cell_type": "code",
   "execution_count": 97,
>>>>>>> e0977ac5055edc056852a4e5349b1e90afcd0ca4
   "id": "98dcc3b9",
   "metadata": {},
   "outputs": [
    {
     "data": {
      "text/plain": [
<<<<<<< HEAD
       "<QuerySet [<Property: Omkar Warehouse 2>]>"
      ]
     },
     "execution_count": 14,
=======
       "<QuerySet [{'uid': UUID('3b1a2ffd-8da6-49f6-8240-6805715e48e5'), 'property_name': 'Omkar Warehouse 3', 'property_type': 'COLD STORAGE', 'property_survey_number': '2f10dce4-e08e-4d61-ba4a-04e0f9104311', 'address': '...', 'city': 'Indore', 'state': 'Madha Pradesh', 'country': 'India', 'total_number_of_galas': None}, {'uid': UUID('5ec6fd54-9257-487c-8e01-8d171b3c74a5'), 'property_name': 'Omkar Warehouse 2', 'property_type': 'OTHER', 'property_survey_number': '1891a3de-7256-4edf-9b0c-df1e063f824c', 'address': '...', 'city': 'Indore', 'state': 'Madha Pradesh', 'country': 'India', 'total_number_of_galas': 1}]>"
      ]
     },
     "execution_count": 97,
>>>>>>> e0977ac5055edc056852a4e5349b1e90afcd0ca4
     "metadata": {},
     "output_type": "execute_result"
    }
   ],
   "source": [
    "get_farmer_warehouses"
   ]
  },
  {
   "cell_type": "code",
<<<<<<< HEAD
   "execution_count": 15,
   "id": "c287f099",
   "metadata": {},
   "outputs": [
    {
     "data": {
      "text/plain": [
       "<QuerySet [{'uid': UUID('5ec6fd54-9257-487c-8e01-8d171b3c74a5'), 'property_name': 'Omkar Warehouse 2', 'property_type': 'OTHER', 'property_survey_number': '1891a3de-7256-4edf-9b0c-df1e063f824c', 'address': '...', 'city': 'Indore', 'state': 'Madha Pradesh', 'country': 'India', 'total_number_of_galas': None, 'total_number_of_investors': None}, {'uid': UUID('9bbc8a5f-e1a3-434f-b1a7-6e7b820492c2'), 'property_name': 'Omkar Warehouse 1', 'property_type': 'PEB', 'property_survey_number': '8b8165c8-5004-40cb-82f3-f206364f6f5d', 'address': 'Atulya IT Park', 'city': 'Indore', 'state': 'Madha Pradesh', 'country': 'India', 'total_number_of_galas': 4, 'total_number_of_investors': 2}]>"
      ]
     },
     "execution_count": 15,
     "metadata": {},
     "output_type": "execute_result"
    }
   ],
   "source": [
    "get_warehouse_qs = Company.objects.get(\n",
    "                name=\"Omkar\"\n",
    "            ).get_properties.all().values(\n",
    "                \"uid\",\"property_name\",\"property_type\",\"property_survey_number\",\"address\",\"city\",\"state\",\"country\"\n",
    "                ).annotate(\n",
    "                total_number_of_galas = Gala.objects.filter(warehouse__uid = OuterRef(\"uid\"),is_allotted=True).values(\"warehouse__uid\").annotate(total_galas_allotted = Count(\"id\")).values(\"total_galas_allotted\"),\n",
    "                total_number_of_investors = ContractInvestor.objects.filter(gala__warehouse__uid = OuterRef(\"uid\")).values(\"gala__warehouse__uid\").annotate(total_number_of_investors = Count(\"id\")).values(\"total_number_of_investors\")\n",
    "            )\n",
    "get_warehouse_qs\n"
=======
   "execution_count": 111,
   "id": "06fb4404",
   "metadata": {},
   "outputs": [],
   "source": [
    "get_farmer_warehouses = Company.objects.get(\n",
    "                name=\"Omkar\"\n",
    "            ).get_properties.filter(\n",
    "                farmer_warehouse_detail__user__groups__name=\"Farmer\"\n",
    "            ).values(\n",
    "                \"uid\",\"property_name\",\"property_type\",\"property_survey_number\",\"address\",\"city\",\"state\",\"country\"\n",
    "            ).annotate(\n",
    "                total_number_of_galas = Gala.objects.filter(\n",
    "                    warehouse__uid = OuterRef(\"uid\"),is_allotted=True,gala_rental_contract_detail__owner__groups__name=\"Farmer\"\n",
    "                    ).values(\"warehouse__uid\").annotate(\n",
    "                        total_galas_allotted = Count(\"id\")).values(\"total_galas_allotted\"),\n",
    "                        total_number_of_rentals = ContractRental.objects.filter(\n",
    "                            gala__warehouse__uid = OuterRef(\"uid\"),\n",
    "                            owner__groups__name = \"Farmer\",\n",
    "                            ).values(\"gala__warehouse__uid\").annotate(\n",
    "                                total_number_of_rentals = Count(\"id\")).values(\"total_number_of_rentals\"),\n",
    "                        farmer_name = ContractFarmer.objects.filter(warehouse__uid=OuterRef(\"uid\")).values(\"user__username\")\n",
    "                        )"
>>>>>>> e0977ac5055edc056852a4e5349b1e90afcd0ca4
   ]
  },
  {
   "cell_type": "code",
<<<<<<< HEAD
   "execution_count": null,
   "id": "2b456245",
   "metadata": {},
   "outputs": [],
   "source": []
  },
  {
   "cell_type": "code",
   "execution_count": 16,
   "id": "93f0a449",
=======
   "execution_count": 112,
   "id": "e7276820",
>>>>>>> e0977ac5055edc056852a4e5349b1e90afcd0ca4
   "metadata": {},
   "outputs": [
    {
     "data": {
      "text/plain": [
<<<<<<< HEAD
       "<QuerySet [<Property: Omkar Warehouse 2>, <Property: Omkar Warehouse 1>]>"
      ]
     },
     "execution_count": 16,
=======
       "<QuerySet [{'uid': UUID('3b1a2ffd-8da6-49f6-8240-6805715e48e5'), 'property_name': 'Omkar Warehouse 3', 'property_type': 'COLD STORAGE', 'property_survey_number': '2f10dce4-e08e-4d61-ba4a-04e0f9104311', 'address': '...', 'city': 'Indore', 'state': 'Madha Pradesh', 'country': 'India', 'total_number_of_galas': None, 'total_number_of_rentals': None, 'farmer_name': 'shaggy-lemon-deer'}, {'uid': UUID('5ec6fd54-9257-487c-8e01-8d171b3c74a5'), 'property_name': 'Omkar Warehouse 2', 'property_type': 'OTHER', 'property_survey_number': '1891a3de-7256-4edf-9b0c-df1e063f824c', 'address': '...', 'city': 'Indore', 'state': 'Madha Pradesh', 'country': 'India', 'total_number_of_galas': 1, 'total_number_of_rentals': 1, 'farmer_name': 'snippy-aqua-ladybird'}]>"
      ]
     },
     "execution_count": 112,
>>>>>>> e0977ac5055edc056852a4e5349b1e90afcd0ca4
     "metadata": {},
     "output_type": "execute_result"
    }
   ],
   "source": [
<<<<<<< HEAD
    "from account.models import User\n",
    "\n",
    "get_development_warehouses = Company.objects.get(name=\"Omkar\").get_properties.all().prefetch_related()\n",
    "get_development_warehouses"
=======
    "get_farmer_warehouses"
>>>>>>> e0977ac5055edc056852a4e5349b1e90afcd0ca4
   ]
  },
  {
   "cell_type": "code",
<<<<<<< HEAD
   "execution_count": 17,
   "id": "3ff25788",
=======
   "execution_count": 110,
   "id": "b8df4949",
>>>>>>> e0977ac5055edc056852a4e5349b1e90afcd0ca4
   "metadata": {},
   "outputs": [
    {
     "data": {
      "text/plain": [
<<<<<<< HEAD
       "<QuerySet [{'uid': UUID('9bbc8a5f-e1a3-434f-b1a7-6e7b820492c2'), 'property_name': 'Omkar Warehouse 1', 'property_type': 'PEB', 'property_survey_number': '8b8165c8-5004-40cb-82f3-f206364f6f5d', 'address': 'Atulya IT Park', 'city': 'Indore', 'state': 'Madha Pradesh', 'country': 'India', 'total_number_of_galas': 5, 'total_number_of_investors': 2, 'total_number_of_rentals': 1, 'total_number_of_remaining_galas': 1}]>"
      ]
     },
     "execution_count": 17,
=======
       "<PolymorphicQuerySet [{'user__username': 'shaggy-lemon-deer'}]>"
      ]
     },
     "execution_count": 110,
>>>>>>> e0977ac5055edc056852a4e5349b1e90afcd0ca4
     "metadata": {},
     "output_type": "execute_result"
    }
   ],
   "source": [
<<<<<<< HEAD
    " get_owner_warehouse_queryset = Company.objects.get(name=\"Omkar\").get_properties.filter(\n",
    "                    Q(get_gala__gala_investor_contract_detail__owner__is_superuser = True)|\n",
    "                    Q(get_gala__gala_rental_contract_detail__owner__is_superuser = True)\n",
    "                ).values(\"uid\",\"property_name\",\"property_type\",\"property_survey_number\",\n",
    "                        \"address\",\"city\",\"state\",\"country\").distinct().annotate(\n",
    "     \n",
    "                            total_number_of_galas = Gala.objects.filter(warehouse__uid=OuterRef(\"uid\")\n",
    "                                ).values('warehouse__uid'\n",
    "                                    ).annotate(total_number_of_galas = Count(\"id\")).values(\"total_number_of_galas\"),\n",
    "     \n",
    "                            total_number_of_investors = ContractInvestor.objects.filter(gala__warehouse__uid=OuterRef(\"uid\"),owner__is_superuser=True\n",
    "                                ).values(\"gala__warehouse__uid\"\n",
    "                                    ).annotate(total_number_of_investors = Count(\"id\")).values(\"total_number_of_investors\"),\n",
    "     \n",
    "                            total_number_of_rentals = ContractRental.objects.filter(gala__warehouse__uid = OuterRef(\"uid\"),owner__is_superuser=True\n",
    "                                ).values(\"gala__warehouse__uid\"\n",
    "                                    ).annotate(total_number_of_rentals = Count(\"id\")).values(\"total_number_of_rentals\"),\n",
    "     \n",
    "                            total_number_of_remaining_galas = Gala.objects.filter(warehouse__uid=OuterRef(\"uid\"),is_allotted=False\n",
    "                                ).values('warehouse__uid'\n",
    "                                    ).annotate(total_number_of_remaining_galas = Count(\"id\")).values(\"total_number_of_remaining_galas\"),\n",
    "\n",
    "                    )\n",
    "get_owner_warehouse_queryset"
=======
    "ContractFarmer.objects.filter(id=11).values(\"user__username\")"
>>>>>>> e0977ac5055edc056852a4e5349b1e90afcd0ca4
   ]
  },
  {
   "cell_type": "code",
<<<<<<< HEAD
   "execution_count": null,
   "id": "5cfdc208",
   "metadata": {},
   "outputs": [],
   "source": []
  },
  {
   "cell_type": "code",
   "execution_count": 39,
   "id": "830b8899",
   "metadata": {},
   "outputs": [],
   "source": [
    "get_gala_contract_detail = Company.objects.get(name=\"Omkar\").get_properties.filter(uid=\"9bbc8a5f-e1a3-434f-b1a7-6e7b820492c2\"\n",
    "                    ).values(\"uid\").prefetch_related(\n",
    "        Prefetch(\n",
    "            \"get_gala\",\n",
    "            queryset=Gala.objects.filter(warehouse__uid=OuterRef(\"uid\"),gala_investor_contract_detail__owner__is_superuser = True)\n",
    "        )\n",
    ")\n"
=======
   "execution_count": 115,
   "id": "7a813bb9",
   "metadata": {},
   "outputs": [],
   "source": [
    "get_farmer_contract_qs = Company.objects.get(\n",
    "                name=\"Omkar\").get_properties.get(\n",
    "                    uid=\"3b1a2ffd-8da6-49f6-8240-6805715e48e5\")"
>>>>>>> e0977ac5055edc056852a4e5349b1e90afcd0ca4
   ]
  },
  {
   "cell_type": "code",
<<<<<<< HEAD
   "execution_count": 40,
   "id": "bed8e9cc",
=======
   "execution_count": 117,
   "id": "4d7c0212",
>>>>>>> e0977ac5055edc056852a4e5349b1e90afcd0ca4
   "metadata": {},
   "outputs": [
    {
     "data": {
      "text/plain": [
<<<<<<< HEAD
       "<QuerySet [{'uid': UUID('9bbc8a5f-e1a3-434f-b1a7-6e7b820492c2')}]>"
      ]
     },
     "execution_count": 40,
=======
       "<QuerySet []>"
      ]
     },
     "execution_count": 117,
>>>>>>> e0977ac5055edc056852a4e5349b1e90afcd0ca4
     "metadata": {},
     "output_type": "execute_result"
    }
   ],
   "source": [
<<<<<<< HEAD
    "get_gala_contract_detail"
=======
    "get_farmer_contract_qs.get_gala.filter(gala_rental_contract_detail__owner__groups__name=\"Farmer\")"
   ]
  },
  {
   "cell_type": "code",
   "execution_count": 132,
   "id": "95895118",
   "metadata": {},
   "outputs": [
    {
     "data": {
      "text/plain": [
       "<PolymorphicQuerySet [<Rental: Leave_and_License>, <Investor: Saledeed>, <Rental: Leave_and_License>, <Rental: Leave_and_License>, <Investor: Saledeed>]>"
      ]
     },
     "execution_count": 132,
     "metadata": {},
     "output_type": "execute_result"
    }
   ],
   "source": [
    "Contract.objects.instance_of(ContractRental,ContractInvestor)"
   ]
  },
  {
   "cell_type": "code",
   "execution_count": 140,
   "id": "99d499e6",
   "metadata": {},
   "outputs": [
    {
     "data": {
      "text/plain": [
       "<PolymorphicQuerySet [<Investor: Saledeed>, <Investor: Saledeed>]>"
      ]
     },
     "execution_count": 140,
     "metadata": {},
     "output_type": "execute_result"
    }
   ],
   "source": [
    "User.objects.get(is_superuser=True).get_owner_contract.all()"
   ]
  },
  {
   "cell_type": "code",
   "execution_count": 142,
   "id": "f43f1a57",
   "metadata": {},
   "outputs": [
    {
     "data": {
      "text/plain": [
       "<QuerySet [<Property: Omkar Warehouse 3>, <Property: Omkar Warehouse 2>, <Property: Omkar Warehouse 1>]>"
      ]
     },
     "execution_count": 142,
     "metadata": {},
     "output_type": "execute_result"
    }
   ],
   "source": [
    "Company.objects.get(name=\"Omkar\").get_properties.all()"
   ]
  },
  {
   "cell_type": "code",
   "execution_count": 143,
   "id": "bf8a72fe",
   "metadata": {},
   "outputs": [],
   "source": [
    "#Developer"
   ]
  },
  {
   "cell_type": "code",
   "execution_count": 151,
   "id": "625d41be",
   "metadata": {},
   "outputs": [],
   "source": [
    "get_developer_warehouses = Company.objects.get(\n",
    "                name=\"Omkar\"\n",
    "            ).get_properties.all()"
   ]
  },
  {
   "cell_type": "code",
   "execution_count": 152,
   "id": "e9f8b8ba",
   "metadata": {},
   "outputs": [
    {
     "data": {
      "text/plain": [
       "<QuerySet [<Property: Omkar Warehouse 3>, <Property: Omkar Warehouse 2>, <Property: Omkar Warehouse 1>]>"
      ]
     },
     "execution_count": 152,
     "metadata": {},
     "output_type": "execute_result"
    }
   ],
   "source": [
    "get_developer_warehouses"
   ]
  },
  {
   "cell_type": "code",
   "execution_count": 204,
   "id": "37a859b2",
   "metadata": {},
   "outputs": [],
   "source": [
    "from contract.models import (\n",
    "    Contract,\n",
    "    Rental,\n",
    "    Investor\n",
    ")"
   ]
  },
  {
   "cell_type": "code",
   "execution_count": 205,
   "id": "66eceadf",
   "metadata": {},
   "outputs": [
    {
     "data": {
      "text/plain": [
       "<PolymorphicQuerySet [<Rental: Leave_and_License>, <Rental: Leave_and_License>, <Investor: Saledeed>, <Investor: Saledeed>]>"
      ]
     },
     "execution_count": 205,
     "metadata": {},
     "output_type": "execute_result"
    }
   ],
   "source": [
    "Contract.objects.filter(Q(Investor___owner__is_superuser=True) | Q(Rental___owner__is_superuser=True))"
   ]
  },
  {
   "cell_type": "code",
   "execution_count": 156,
   "id": "056d3f10",
   "metadata": {},
   "outputs": [
    {
     "ename": "NameError",
     "evalue": "name 'Project' is not defined",
     "output_type": "error",
     "traceback": [
      "\u001b[0;31m---------------------------------------------------------------------------\u001b[0m",
      "\u001b[0;31mNameError\u001b[0m                                 Traceback (most recent call last)",
      "Cell \u001b[0;32mIn[156], line 1\u001b[0m\n\u001b[0;32m----> 1\u001b[0m \u001b[43mProject\u001b[49m\u001b[38;5;241m.\u001b[39mobjects\u001b[38;5;241m.\u001b[39mfilter(Q(ArtProject___artist\u001b[38;5;241m=\u001b[39m\u001b[38;5;124m'\u001b[39m\u001b[38;5;124mT. Turner\u001b[39m\u001b[38;5;124m'\u001b[39m) \u001b[38;5;241m|\u001b[39m Q(ResearchProject___supervisor\u001b[38;5;241m=\u001b[39m\u001b[38;5;124m'\u001b[39m\u001b[38;5;124mT. Turner\u001b[39m\u001b[38;5;124m'\u001b[39m))\n",
      "\u001b[0;31mNameError\u001b[0m: name 'Project' is not defined"
     ]
    }
   ],
   "source": [
    "# Project.objects.filter(Q(ArtProject___artist='T. Turner') | Q(ResearchProject___supervisor='T. Turner'))"
   ]
  },
  {
   "cell_type": "code",
   "execution_count": 209,
   "id": "99e0d297",
   "metadata": {},
   "outputs": [
    {
     "data": {
      "text/plain": [
       "<QuerySet [{'uid': UUID('5ec6fd54-9257-487c-8e01-8d171b3c74a5'), 'property_name': 'Omkar Warehouse 2', 'property_type': 'OTHER', 'property_survey_number': '1891a3de-7256-4edf-9b0c-df1e063f824c', 'address': '...', 'city': 'Indore', 'state': 'Madha Pradesh', 'country': 'India', 'total_number_of_galas': 2, 'total_number_of_investors': None, 'total_number_of_rentals': 1}, {'uid': UUID('9bbc8a5f-e1a3-434f-b1a7-6e7b820492c2'), 'property_name': 'Omkar Warehouse 1', 'property_type': 'PEB', 'property_survey_number': '8b8165c8-5004-40cb-82f3-f206364f6f5d', 'address': 'Atulya IT Park', 'city': 'Indore', 'state': 'Madha Pradesh', 'country': 'India', 'total_number_of_galas': 6, 'total_number_of_investors': 2, 'total_number_of_rentals': 1}]>"
      ]
     },
     "execution_count": 209,
     "metadata": {},
     "output_type": "execute_result"
    }
   ],
   "source": [
    "Company.objects.get(name=\"Omkar\").get_properties.filter(\n",
    "    Q(get_gala__gala_investor_contract_detail__owner__is_superuser = True)|\n",
    "    Q(get_gala__gala_rental_contract_detail__owner__is_superuser = True)\n",
    ").values(\"uid\",\"property_name\",\"property_type\",\"property_survey_number\",\"address\",\"city\",\"state\",\"country\").distinct().annotate(\n",
    ").annotate(\n",
    "    total_number_of_galas = Gala.objects.filter(\n",
    "                    warehouse__uid = OuterRef(\"uid\"),is_allotted=True).values(\"warehouse__uid\").annotate(\n",
    "                        total_galas_allotted = Count(\"id\")).values(\"total_galas_allotted\"),\n",
    "    total_number_of_investors = Investor.objects.filter(\n",
    "                    gala__warehouse__uid = OuterRef(\"uid\"),owner__is_superuser = True).values(\"gala__warehouse__uid\").annotate(\n",
    "                        total_number_of_investors = Count(\"id\")).values(\"total_number_of_investors\"),\n",
    "    total_number_of_rentals = Rental.objects.filter(\n",
    "                    gala__warehouse__uid = OuterRef(\"uid\"),owner__is_superuser = True).values(\"gala__warehouse__uid\").annotate(\n",
    "                        total_number_of_rentals = Count(\"id\")).values(\"total_number_of_rentals\")\n",
    ")"
>>>>>>> e0977ac5055edc056852a4e5349b1e90afcd0ca4
   ]
  },
  {
   "cell_type": "code",
<<<<<<< HEAD
   "execution_count": 12,
=======
   "execution_count": null,
<<<<<<< HEAD
   "id": "277f26af",
=======
>>>>>>> 522501beb886bc86342fbd24d726c9ad33aac94d
   "id": "fa8e43ed",
>>>>>>> e0977ac5055edc056852a4e5349b1e90afcd0ca4
   "metadata": {},
   "outputs": [],
   "source": [
    "from contract.models import (\n",
    "    Investor\n",
    ")"
   ]
  },
  {
   "cell_type": "code",
   "execution_count": 15,
   "id": "ed7f05ce",
   "metadata": {},
   "outputs": [
    {
     "name": "stdout",
     "output_type": "stream",
     "text": [
      "fba97246-7646-4b26-b1c9-356c3952610b\n"
     ]
    }
   ],
   "source": [
    "Investor.objects.first().delete()"
   ]
  },
  {
   "cell_type": "code",
   "execution_count": null,
<<<<<<< HEAD
   "id": "0806d5a8",
=======
<<<<<<< HEAD
   "id": "16fcec13",
   "metadata": {},
   "outputs": [],
   "source": []
  },
  {
   "cell_type": "code",
   "execution_count": null,
   "id": "0dc7cceb",
   "metadata": {},
   "outputs": [],
   "source": []
  },
  {
   "cell_type": "code",
   "execution_count": null,
   "id": "3d29736c",
   "metadata": {},
   "outputs": [],
   "source": []
  },
  {
   "cell_type": "code",
   "execution_count": null,
   "id": "6a769be2",
   "metadata": {},
   "outputs": [],
   "source": []
  },
  {
   "cell_type": "code",
   "execution_count": null,
   "id": "e3208f0a",
   "metadata": {},
   "outputs": [],
   "source": []
  },
  {
   "cell_type": "code",
   "execution_count": null,
   "id": "3ead5a6c",
   "metadata": {},
   "outputs": [],
   "source": []
  },
  {
   "cell_type": "code",
   "execution_count": null,
   "id": "b1e3f46f",
   "metadata": {},
   "outputs": [],
   "source": []
  },
  {
   "cell_type": "code",
   "execution_count": null,
   "id": "604731ee",
   "metadata": {},
   "outputs": [],
   "source": []
  },
  {
   "cell_type": "code",
   "execution_count": null,
   "id": "c230edb6",
   "metadata": {},
   "outputs": [],
   "source": []
  },
  {
   "cell_type": "code",
   "execution_count": null,
   "id": "c08e34cf",
   "metadata": {},
   "outputs": [],
   "source": []
  },
  {
   "cell_type": "code",
   "execution_count": null,
   "id": "2e72ea1e",
   "metadata": {},
   "outputs": [],
   "source": []
  },
  {
   "cell_type": "code",
   "execution_count": null,
   "id": "4a4848a1",
   "metadata": {},
   "outputs": [],
   "source": []
  },
  {
   "cell_type": "code",
   "execution_count": null,
   "id": "1d419926",
   "metadata": {},
   "outputs": [],
   "source": []
  },
  {
   "cell_type": "code",
   "execution_count": null,
   "id": "8b3b85cb",
   "metadata": {},
   "outputs": [],
   "source": []
  },
  {
   "cell_type": "code",
   "execution_count": null,
   "id": "6410374e",
   "metadata": {},
   "outputs": [],
   "source": []
  },
  {
   "cell_type": "code",
   "execution_count": null,
   "id": "63409062",
   "metadata": {},
   "outputs": [],
   "source": []
  },
  {
   "cell_type": "code",
   "execution_count": null,
   "id": "9013dfa3",
   "metadata": {},
   "outputs": [],
   "source": []
  },
  {
   "cell_type": "code",
   "execution_count": null,
   "id": "62af368c",
=======
   "id": "ed7f05ce",
>>>>>>> e0977ac5055edc056852a4e5349b1e90afcd0ca4
>>>>>>> 522501beb886bc86342fbd24d726c9ad33aac94d
   "metadata": {},
   "outputs": [],
   "source": []
  }
 ],
 "metadata": {
  "kernelspec": {
<<<<<<< HEAD
   "display_name": "Python 3 (ipykernel)",
=======
<<<<<<< HEAD
   "display_name": "Python 3 (ipykernel)",
=======
   "display_name": "Python 3",
>>>>>>> e0977ac5055edc056852a4e5349b1e90afcd0ca4
>>>>>>> 522501beb886bc86342fbd24d726c9ad33aac94d
   "language": "python",
   "name": "python3"
  },
  "language_info": {
   "codemirror_mode": {
    "name": "ipython",
    "version": 3
   },
   "file_extension": ".py",
   "mimetype": "text/x-python",
   "name": "python",
   "nbconvert_exporter": "python",
   "pygments_lexer": "ipython3",
<<<<<<< HEAD
   "version": "3.11.0a7"
=======
<<<<<<< HEAD
   "version": "3.10.5"
=======
   "version": "3.11.0a7 (main, Dec 19 2022, 12:39:53) [GCC 11.3.0]"
>>>>>>> 522501beb886bc86342fbd24d726c9ad33aac94d
  },
  "vscode": {
   "interpreter": {
    "hash": "aee8b7b246df8f9039afb4144a1f6fd8d2ca17a180786b69acc140d282b71a49"
   }
>>>>>>> e0977ac5055edc056852a4e5349b1e90afcd0ca4
  }
 },
 "nbformat": 4,
 "nbformat_minor": 5
}
