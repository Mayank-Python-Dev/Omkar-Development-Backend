{
 "cells": [
  {
   "cell_type": "code",
   "execution_count": 3,
   "id": "d8f3678d",
   "metadata": {},
   "outputs": [],
   "source": [
    "import os\n",
    "import django\n",
    "os.environ.setdefault('DJANGO_SETTINGS_MODULE', 'omkar_proj.settings')\n",
    "os.environ[\"DJANGO_ALLOW_ASYNC_UNSAFE\"] = \"true\"\n",
    "django.setup()"
   ]
  },
  {
   "cell_type": "code",
<<<<<<< HEAD
   "execution_count": 4,
=======
   "execution_count": 2,
>>>>>>> c59c3c9ca1ee91f2ccbe13dfbebd23aeabd48fd2
   "id": "039e5d7d",
   "metadata": {},
   "outputs": [],
   "source": [
    "from contract.models import (\n",
    "    Rental as ContractRental\n",
    ")\n",
    "from account.models import (\n",
    "    Rental\n",
    ")\n",
    "from warehouse.models import (\n",
    "    Gala,\n",
    "    Property\n",
    ")\n",
    "# from django_pandas.io import read_frame"
   ]
  },
  {
   "cell_type": "code",
   "execution_count": null,
   "id": "e7a9ea5b",
   "metadata": {
    "scrolled": true
   },
   "outputs": [],
   "source": []
  },
  {
   "cell_type": "code",
   "execution_count": 3,
   "id": "0271ea65",
   "metadata": {},
   "outputs": [],
   "source": [
    "# Rental.objects.get(id=5).user"
   ]
  },
  {
   "cell_type": "code",
   "execution_count": 4,
   "id": "c5db0a8d",
   "metadata": {},
   "outputs": [],
   "source": [
    "from django.db.models import Count, OuterRef,Sum,Value,IntegerField"
   ]
  },
  {
   "cell_type": "code",
   "execution_count": null,
   "id": "d9928315",
   "metadata": {},
   "outputs": [],
   "source": []
  },
  {
   "cell_type": "code",
   "execution_count": 5,
   "id": "f6448b01",
   "metadata": {},
   "outputs": [],
   "source": [
    "# ContractRental.objects.filter(user_id=5).values(\"id\").annotate(number_of_gala = )"
   ]
  },
  {
   "cell_type": "code",
   "execution_count": 6,
   "id": "513aec0d",
   "metadata": {},
   "outputs": [],
   "source": [
    "# total_number_of_galas=Gala.objects.filter(\n",
    "#     warehouse__uid=OuterRef(\"uid\")\n",
    "# ).values('warehouse__uid').annotate(\n",
    "#     total_number_of_galas=Count(\"id\")\n",
    "# ).values(\"total_number_of_galas\")"
   ]
  },
  {
   "cell_type": "code",
   "execution_count": 7,
   "id": "453be961",
   "metadata": {},
   "outputs": [],
   "source": [
    "# ContractRental.objects.filter(user_id = 5).values(\"id\").annotate(number_of_galas)"
   ]
  },
  {
   "cell_type": "code",
   "execution_count": 8,
   "id": "adf7eada",
   "metadata": {},
   "outputs": [
    {
     "data": {
      "text/plain": [
       "<PolymorphicQuerySet [{'total_number_of_galas': 4}]>"
      ]
     },
     "execution_count": 8,
     "metadata": {},
     "output_type": "execute_result"
    }
   ],
   "source": [
    "ContractRental.objects.filter(user_id = 5).values(\"user__user_uid\").annotate(total_number_of_galas = Count(\"user__user_uid\")).values(\"total_number_of_galas\")"
   ]
  },
  {
   "cell_type": "code",
   "execution_count": 9,
   "id": "7ae529f0",
   "metadata": {},
   "outputs": [
    {
     "data": {
      "text/plain": [
       "<QuerySet [{'user_uid': UUID('dfef7ec8-d0fe-4e9f-abb1-16187c184320'), 'username': 'Mayank', 'total_number_of_galas': 1}, {'user_uid': UUID('51f9c7eb-8f1b-4fcc-9124-58831235d387'), 'username': 'snappy-cardinal-argentino', 'total_number_of_galas': 4}, {'user_uid': UUID('1df8502b-66a6-4486-ae21-7e19c3e7bd0a'), 'username': 'randy-crimson-caracal', 'total_number_of_galas': 1}, {'user_uid': UUID('4acd799f-7f94-42de-9b6d-1e80b5c5e6b3'), 'username': 'cloudy-champagne-zebu', 'total_number_of_galas': None}, {'user_uid': UUID('21cc2354-694b-44fd-b9cb-659f1117ac55'), 'username': 'slimy-platinum-tapir', 'total_number_of_galas': None}, {'user_uid': UUID('0fccdc06-c2e6-45b2-9b91-0100b976e6d3'), 'username': 'squirrely-razzmatazz-moose', 'total_number_of_galas': None}, {'user_uid': UUID('e7b74f37-29df-4650-b622-7b56626bcdd8'), 'username': 'tasty-platinum-hyrax', 'total_number_of_galas': None}, {'user_uid': UUID('4e16d99b-f073-471e-b51d-cadedf7a2456'), 'username': 'nerdy-crimson-frise', 'total_number_of_galas': None}, {'user_uid': UUID('6c8ad82d-2efd-4340-8be4-1225a10aa1f0'), 'username': 'hasty-puce-oyster', 'total_number_of_galas': None}, {'user_uid': UUID('b749ae76-f68d-4a05-97c5-efa48d6c3be4'), 'username': 'jumpy-maroon-mist', 'total_number_of_galas': None}, {'user_uid': UUID('8fd78262-8698-4425-8c7f-bb177a4b74df'), 'username': 'freaky-crimson-dodo', 'total_number_of_galas': None}, {'user_uid': UUID('86f5dfae-cd58-4a64-a1fe-9348d621dd6e'), 'username': 'chummy-magnolia-quoll', 'total_number_of_galas': None}, {'user_uid': UUID('2d200190-5494-42a3-8c10-c1013079d8e5'), 'username': 'boozy-turquoise-antelope', 'total_number_of_galas': None}, {'user_uid': UUID('fa3c91d6-ea46-483a-9daa-6dcb1d86a085'), 'username': 'snippy-cinnamon-cheetah', 'total_number_of_galas': None}, {'user_uid': UUID('f55889f2-9759-496a-829a-5ae676cc67b0'), 'username': 'chewy-yellow-millipede', 'total_number_of_galas': None}, {'user_uid': UUID('1f38c84f-21b2-4d52-967f-b42c1a1f1966'), 'username': 'wimpy-pear-badger', 'total_number_of_galas': None}, {'user_uid': UUID('0898e1a1-96d6-4e93-be26-2eaf02177946'), 'username': 'nippy-flax-panda', 'total_number_of_galas': None}, {'user_uid': UUID('8489a286-72ee-4bb9-b9a1-9795f570d471'), 'username': 'snoopy-corn-mandrill', 'total_number_of_galas': None}, {'user_uid': UUID('76663926-eec2-496e-997a-fa056db8e69a'), 'username': 'skanky-rust-capuchin', 'total_number_of_galas': None}, {'user_uid': UUID('89d5a564-fcbd-4107-b835-0516666ff2e0'), 'username': 'lovely-burgundy-shrimp', 'total_number_of_galas': None}, '...(remaining elements truncated)...']>"
      ]
     },
     "execution_count": 9,
     "metadata": {},
     "output_type": "execute_result"
    }
   ],
   "source": [
    "Rental.objects.filter(belong_to__name=\"Omkar\").values(\n",
    "    \"user_uid\",\"username\"\n",
    ").annotate(\n",
    "    total_number_of_galas = ContractRental.objects.filter(\n",
    "        user__user_uid = OuterRef(\"user_uid\")\n",
    "    ).values(\"user__user_uid\").annotate(\n",
    "        total_number_of_galas = Count(\"user__user_uid\")\n",
    "    ).values(\"total_number_of_galas\"),\n",
    ")"
   ]
  },
  {
   "cell_type": "code",
   "execution_count": 10,
   "id": "7b274b95",
   "metadata": {},
   "outputs": [],
   "source": [
    "# rental = Rental.objects.get(id=5)"
   ]
  },
  {
   "cell_type": "code",
   "execution_count": 11,
   "id": "cb497ffd",
   "metadata": {},
   "outputs": [],
   "source": [
    "# rental.belong_to.set([1])"
   ]
  },
  {
   "cell_type": "code",
   "execution_count": 12,
   "id": "b52ca7fd",
   "metadata": {},
   "outputs": [],
   "source": [
    "# rental.save()"
   ]
  },
  {
   "cell_type": "code",
   "execution_count": 13,
   "id": "73c3f504",
   "metadata": {},
   "outputs": [
    {
     "data": {
      "text/plain": [
       "<PolymorphicQuerySet [{'count': 1}, {'count': 1}]>"
      ]
     },
     "execution_count": 13,
     "metadata": {},
     "output_type": "execute_result"
    }
   ],
   "source": [
    "ContractRental.objects.filter(\n",
    "            user_id=5).values('gala__warehouse__uid').annotate(count=Count('gala__warehouse__uid', distinct=True)).values('count')"
   ]
  },
  {
   "cell_type": "code",
   "execution_count": 14,
   "id": "6729f1f4",
   "metadata": {},
   "outputs": [
    {
     "data": {
      "text/plain": [
       "2"
      ]
     },
     "execution_count": 14,
     "metadata": {},
     "output_type": "execute_result"
    }
   ],
   "source": [
    "ContractRental.objects.filter(\n",
    "        user_id = 5\n",
    "    ).values(\n",
    "    \"gala__warehouse__id\",\n",
    "    \"gala__warehouse__property_name\"\n",
    ").order_by(\n",
    "    \"gala__warehouse__id\"\n",
    ").distinct().count()"
   ]
  },
  {
   "cell_type": "code",
   "execution_count": 15,
   "id": "4ac05443",
   "metadata": {},
   "outputs": [
    {
     "data": {
      "text/plain": [
       "<QuerySet [{'user_uid': UUID('dfef7ec8-d0fe-4e9f-abb1-16187c184320'), 'username': 'Mayank', 'total_number_of_galas': 1}, {'user_uid': UUID('51f9c7eb-8f1b-4fcc-9124-58831235d387'), 'username': 'snappy-cardinal-argentino', 'total_number_of_galas': 4}, {'user_uid': UUID('1df8502b-66a6-4486-ae21-7e19c3e7bd0a'), 'username': 'randy-crimson-caracal', 'total_number_of_galas': 1}, {'user_uid': UUID('4acd799f-7f94-42de-9b6d-1e80b5c5e6b3'), 'username': 'cloudy-champagne-zebu', 'total_number_of_galas': None}, {'user_uid': UUID('21cc2354-694b-44fd-b9cb-659f1117ac55'), 'username': 'slimy-platinum-tapir', 'total_number_of_galas': None}, {'user_uid': UUID('0fccdc06-c2e6-45b2-9b91-0100b976e6d3'), 'username': 'squirrely-razzmatazz-moose', 'total_number_of_galas': None}, {'user_uid': UUID('e7b74f37-29df-4650-b622-7b56626bcdd8'), 'username': 'tasty-platinum-hyrax', 'total_number_of_galas': None}, {'user_uid': UUID('4e16d99b-f073-471e-b51d-cadedf7a2456'), 'username': 'nerdy-crimson-frise', 'total_number_of_galas': None}, {'user_uid': UUID('6c8ad82d-2efd-4340-8be4-1225a10aa1f0'), 'username': 'hasty-puce-oyster', 'total_number_of_galas': None}, {'user_uid': UUID('b749ae76-f68d-4a05-97c5-efa48d6c3be4'), 'username': 'jumpy-maroon-mist', 'total_number_of_galas': None}, {'user_uid': UUID('8fd78262-8698-4425-8c7f-bb177a4b74df'), 'username': 'freaky-crimson-dodo', 'total_number_of_galas': None}, {'user_uid': UUID('86f5dfae-cd58-4a64-a1fe-9348d621dd6e'), 'username': 'chummy-magnolia-quoll', 'total_number_of_galas': None}, {'user_uid': UUID('2d200190-5494-42a3-8c10-c1013079d8e5'), 'username': 'boozy-turquoise-antelope', 'total_number_of_galas': None}, {'user_uid': UUID('fa3c91d6-ea46-483a-9daa-6dcb1d86a085'), 'username': 'snippy-cinnamon-cheetah', 'total_number_of_galas': None}, {'user_uid': UUID('f55889f2-9759-496a-829a-5ae676cc67b0'), 'username': 'chewy-yellow-millipede', 'total_number_of_galas': None}, {'user_uid': UUID('1f38c84f-21b2-4d52-967f-b42c1a1f1966'), 'username': 'wimpy-pear-badger', 'total_number_of_galas': None}, {'user_uid': UUID('0898e1a1-96d6-4e93-be26-2eaf02177946'), 'username': 'nippy-flax-panda', 'total_number_of_galas': None}, {'user_uid': UUID('8489a286-72ee-4bb9-b9a1-9795f570d471'), 'username': 'snoopy-corn-mandrill', 'total_number_of_galas': None}, {'user_uid': UUID('76663926-eec2-496e-997a-fa056db8e69a'), 'username': 'skanky-rust-capuchin', 'total_number_of_galas': None}, {'user_uid': UUID('89d5a564-fcbd-4107-b835-0516666ff2e0'), 'username': 'lovely-burgundy-shrimp', 'total_number_of_galas': None}, '...(remaining elements truncated)...']>"
      ]
     },
     "execution_count": 15,
     "metadata": {},
     "output_type": "execute_result"
    }
   ],
   "source": [
    "Rental.objects.filter(belong_to__name=\"Omkar\").values(\"user_uid\",\"username\"\n",
    ").annotate(\n",
    "    total_number_of_galas = ContractRental.objects.filter(\n",
    "        user__user_uid = OuterRef(\"user_uid\")\n",
    "    ).values(\"user__user_uid\").annotate(\n",
    "        total_number_of_galas = Count(\"user__user_uid\")\n",
    "    ).values(\"total_number_of_galas\"),\n",
    "    \n",
    ")"
   ]
  },
  {
   "cell_type": "code",
   "execution_count": 16,
   "id": "b5a1e65c",
   "metadata": {},
   "outputs": [],
   "source": [
    "# get_rental_qs"
   ]
  },
  {
   "cell_type": "code",
   "execution_count": 17,
   "id": "676d8523",
   "metadata": {},
   "outputs": [],
   "source": [
    "# total_number_of_warehouse = "
   ]
  },
  {
   "cell_type": "code",
   "execution_count": 18,
   "id": "637904bd",
   "metadata": {},
   "outputs": [],
   "source": [
    "# total_number_of_warehouse"
   ]
  },
  {
   "cell_type": "code",
   "execution_count": 19,
   "id": "b7a1d8ad",
   "metadata": {},
   "outputs": [],
   "source": [
    "total_number_of_warehouse = ContractRental.objects.filter(\n",
    "                    user_id = 2\n",
    "                ).values(\n",
    "                \"gala__warehouse_id\"\n",
    "                ).order_by(\"gala__warehouse_id\").distinct().annotate(count=Count(\"gala__warehouse_id\"))"
   ]
  },
  {
   "cell_type": "code",
   "execution_count": 20,
   "id": "fd5c068c",
   "metadata": {},
   "outputs": [
    {
     "data": {
      "text/plain": [
       "<PolymorphicQuerySet [{'gala__warehouse_id': 9, 'count': 1}]>"
      ]
     },
     "execution_count": 20,
     "metadata": {},
     "output_type": "execute_result"
    }
   ],
   "source": [
    "total_number_of_warehouse"
   ]
  },
  {
   "cell_type": "code",
   "execution_count": 21,
   "id": "500b5b44",
   "metadata": {},
   "outputs": [],
   "source": [
    "# get_rental_qs = Rental.objects.filter(belong_to__name=\"Omkar\").values(\n",
    "#                 \"id\",\"user_uid\",\"username\"\n",
    "#             ).annotate(\n",
    "#                 total_number_of_galas = ContractRental.objects.filter(\n",
    "#                     user__user_uid = OuterRef(\"user_uid\")\n",
    "#                 ).values(\"user__user_uid\").annotate(\n",
    "#                     total_number_of_galas = Count(\"user__user_uid\")\n",
    "#                 ).values(\"total_number_of_galas\"),\n",
    "#                 total_number_of_warehouse = Value(Property.objects.filter(get_gala__gala_rental_contract_detail__user__user_uid=OuterRef(\"user_uid\")).values(\"property_name\").annotate(count=Count(\"property_name\")).annotate(number_of_warehouse = Case(\n",
    "#                 When(count__gte=1, then=1),\n",
    "#                     output_field=IntegerField(),default=0)).values(\"number_of_warehouse\").aggregate(total_number_of_warehouse = Sum(\"number_of_warehouse\"))['total_number_of_warehouse']\n",
    "#                         ))\n"
   ]
  },
  {
   "cell_type": "code",
   "execution_count": 22,
   "id": "91cbe52d",
   "metadata": {
    "scrolled": true
   },
   "outputs": [],
   "source": [
    "# get_rental_qs"
   ]
  },
  {
   "cell_type": "code",
   "execution_count": 23,
   "id": "53da8e6c",
   "metadata": {},
   "outputs": [],
   "source": [
    "from warehouse.models import (\n",
    "    Property,\n",
    "    Company\n",
    ")\n",
    "from django.db.models import (\n",
    "    Case,\n",
    "    When,\n",
    "    F,\n",
    "    Subquery,\n",
    "    \n",
    ")"
   ]
  },
  {
   "cell_type": "code",
   "execution_count": 24,
   "id": "ad70377d",
   "metadata": {},
   "outputs": [
    {
     "data": {
      "text/plain": [
       "<QuerySet [{'id': 9, 'company__name': 'Omkar', 'count': 2, 'number_of_warehouse': 1}, {'id': 8, 'company__name': 'Omkar', 'count': 2, 'number_of_warehouse': 1}]>"
      ]
     },
     "execution_count": 24,
     "metadata": {},
     "output_type": "execute_result"
    }
   ],
   "source": [
    "Property.objects.filter(get_gala__gala_rental_contract_detail__user_id=5).values(\"id\",\"company__name\").order_by(\"-id\").annotate(count=Count(\"property_name\")).annotate(number_of_warehouse = Case(\n",
    "    When(count__gte=1, then=1),\n",
    "        output_field=IntegerField(),default=0))"
   ]
  },
  {
   "cell_type": "code",
   "execution_count": 25,
   "id": "b3222804",
   "metadata": {},
   "outputs": [],
   "source": [
    "# Property.objects.filter(get_gala__gala_rental_contract_detail__user_id=5).values(\"id\",\"company__name\").distinct().annotate(Count(\"company__name\"))"
   ]
  },
  {
   "cell_type": "code",
   "execution_count": 26,
   "id": "3b7a7fc0",
   "metadata": {},
   "outputs": [],
   "source": [
    "dp = read_frame(ContractRental.objects.filter(user__id = 5).values(\"user__id\",\"user__username\",\"gala__warehouse_id\"))"
   ]
  },
  {
   "cell_type": "code",
   "execution_count": 27,
   "id": "50496fee",
   "metadata": {},
   "outputs": [
    {
     "data": {
      "text/html": [
       "<div>\n",
       "<style scoped>\n",
       "    .dataframe tbody tr th:only-of-type {\n",
       "        vertical-align: middle;\n",
       "    }\n",
       "\n",
       "    .dataframe tbody tr th {\n",
       "        vertical-align: top;\n",
       "    }\n",
       "\n",
       "    .dataframe thead th {\n",
       "        text-align: right;\n",
       "    }\n",
       "</style>\n",
       "<table border=\"1\" class=\"dataframe\">\n",
       "  <thead>\n",
       "    <tr style=\"text-align: right;\">\n",
       "      <th></th>\n",
       "      <th>user__id</th>\n",
       "      <th>user__username</th>\n",
       "      <th>gala__warehouse_id</th>\n",
       "    </tr>\n",
       "  </thead>\n",
       "  <tbody>\n",
       "    <tr>\n",
       "      <th>0</th>\n",
       "      <td>5</td>\n",
       "      <td>snappy-cardinal-argentino</td>\n",
       "      <td>8</td>\n",
       "    </tr>\n",
       "    <tr>\n",
       "      <th>1</th>\n",
       "      <td>5</td>\n",
       "      <td>snappy-cardinal-argentino</td>\n",
       "      <td>8</td>\n",
       "    </tr>\n",
       "    <tr>\n",
       "      <th>2</th>\n",
       "      <td>5</td>\n",
       "      <td>snappy-cardinal-argentino</td>\n",
       "      <td>9</td>\n",
       "    </tr>\n",
       "    <tr>\n",
       "      <th>3</th>\n",
       "      <td>5</td>\n",
       "      <td>snappy-cardinal-argentino</td>\n",
       "      <td>9</td>\n",
       "    </tr>\n",
       "  </tbody>\n",
       "</table>\n",
       "</div>"
      ],
      "text/plain": [
       "   user__id             user__username  gala__warehouse_id\n",
       "0         5  snappy-cardinal-argentino                   8\n",
       "1         5  snappy-cardinal-argentino                   8\n",
       "2         5  snappy-cardinal-argentino                   9\n",
       "3         5  snappy-cardinal-argentino                   9"
      ]
     },
     "execution_count": 27,
     "metadata": {},
     "output_type": "execute_result"
    }
   ],
   "source": [
    "dp"
   ]
  },
  {
   "cell_type": "code",
   "execution_count": 28,
   "id": "5a308bda",
   "metadata": {},
   "outputs": [],
   "source": [
    "pd = ContractRental.objects.filter(user_id = 5\n",
    ").values(\"gala__warehouse_id\").distinct().aggregate(Count(\"gala__warehouse_id\"))"
   ]
  },
  {
   "cell_type": "code",
   "execution_count": null,
   "id": "cf1e6b27",
   "metadata": {},
   "outputs": [],
   "source": []
  },
  {
   "cell_type": "code",
   "execution_count": null,
   "id": "c98464d3",
   "metadata": {},
   "outputs": [],
   "source": []
  },
  {
   "cell_type": "code",
   "execution_count": 29,
   "id": "237ae4fa",
   "metadata": {},
   "outputs": [],
   "source": [
    "# ad = Rental.objects.filter(belong_to__name = \"Omkar\").values(\n",
    "#     \"user_uid\",\"username\").annotate(\n",
    "#     total_number_of_warehouse = Value(ContractRental.objects.filter(user__user_uid = OuterRef(\"user_uid\")).values(\"user__user_uid\").count())\n",
    "#     )\n",
    "\n",
    "\n",
    "\n",
    "# get_ad = read_frame(ad)\n",
    "# get_ad"
   ]
  },
  {
   "cell_type": "code",
   "execution_count": null,
   "id": "23e995b3",
   "metadata": {},
   "outputs": [],
   "source": []
  },
  {
   "cell_type": "code",
   "execution_count": 30,
   "id": "c25208af",
   "metadata": {},
   "outputs": [],
   "source": [
    "# ContractRental.objects.filter(user__belong_to___name = \"Omkar\").values(\n",
    "#     \"user__user_uid\",\"gala__warehouse_id\")\n",
    "\n"
   ]
  },
  {
   "cell_type": "code",
   "execution_count": 31,
   "id": "b2349775",
   "metadata": {},
   "outputs": [
    {
     "data": {
      "text/plain": [
       "<PolymorphicQuerySet [{'user__user_uid': UUID('51f9c7eb-8f1b-4fcc-9124-58831235d387')}, {'user__user_uid': UUID('51f9c7eb-8f1b-4fcc-9124-58831235d387')}, {'user__user_uid': UUID('51f9c7eb-8f1b-4fcc-9124-58831235d387')}, {'user__user_uid': UUID('51f9c7eb-8f1b-4fcc-9124-58831235d387')}, {'user__user_uid': UUID('dfef7ec8-d0fe-4e9f-abb1-16187c184320')}, {'user__user_uid': UUID('1df8502b-66a6-4486-ae21-7e19c3e7bd0a')}]>"
      ]
     },
     "execution_count": 31,
     "metadata": {},
     "output_type": "execute_result"
    }
   ],
   "source": [
    "ContractRental.objects.filter(user__belong_to__name = \"Omkar\").values(\"user__user_uid\")"
   ]
  },
  {
   "cell_type": "code",
   "execution_count": null,
   "id": "9df6cc1c",
   "metadata": {},
   "outputs": [],
   "source": []
  },
  {
   "cell_type": "code",
   "execution_count": 32,
   "id": "bd54989b",
   "metadata": {},
   "outputs": [
    {
     "ename": "SyntaxError",
     "evalue": "invalid syntax (328454236.py, line 1)",
     "output_type": "error",
     "traceback": [
      "\u001b[1;36m  Cell \u001b[1;32mIn[32], line 1\u001b[1;36m\u001b[0m\n\u001b[1;33m    Rental.objects.annotate(total_warehouse_count=)\u001b[0m\n\u001b[1;37m                                                  ^\u001b[0m\n\u001b[1;31mSyntaxError\u001b[0m\u001b[1;31m:\u001b[0m invalid syntax\n"
     ]
    }
   ],
   "source": [
    "Rental.objects.annotate(total_warehouse_count=)"
   ]
  },
  {
   "cell_type": "code",
   "execution_count": null,
   "id": "dade698f",
   "metadata": {},
   "outputs": [],
   "source": [
    "Company.objects.get(name = \"Omkar\").user_set.filter(id=5).prefetch_related(\"rental_contract\").values(\n",
    "    \n",
    "    \"rental_contract__user__username\",\"user_uid\").distinct().annotate(\n",
    "    \n",
    "    total_number_of_warehouse = ContractRental.objects.filter(user__user_uid='51f9c7eb-8f1b-4fcc-9124-58831235d387').values(\"gala__warehouse_id\"\n",
    "                    ).annotate(total_number_of_warehouse = Count(\"gala__warehouse_id\")).values(\"total_number_of_warehouse\"))\n",
    "\n"
   ]
  },
  {
   "cell_type": "code",
   "execution_count": null,
   "id": "12169cca",
   "metadata": {},
   "outputs": [],
   "source": []
  },
  {
   "cell_type": "code",
   "execution_count": null,
   "id": "3bec457b",
   "metadata": {},
   "outputs": [],
   "source": [
    "# .rental_contract.all().values(\"user__username\").count()"
   ]
  },
  {
   "cell_type": "code",
   "execution_count": null,
   "id": "a3841fdc",
   "metadata": {},
   "outputs": [],
   "source": []
  },
  {
   "cell_type": "code",
   "execution_count": null,
   "id": "a5410dd2",
   "metadata": {
    "scrolled": true
   },
   "outputs": [],
   "source": [
    "rental_user = Rental.objects.filter(belong_to__name = \"Omkar\" ).order_by().values(\"user_uid\",\"username\")\n",
    "total_number_of_warehouse = rental_user.annotate(\n",
    "    total_number_of_warehouse = ContractRental.objects.filter(user__user_uid = OuterRef(\"user_uid\")).values(\n",
    "        \"gala__warehouse_id\").annotate(\n",
    "                    total_number_of_warehouse = Count(\"gala__warehouse_id\")).values(\"total_number_of_warehouse\"))\n",
    "total_number_of_warehouse "
   ]
  },
  {
   "cell_type": "code",
   "execution_count": null,
   "id": "1cb4a965",
   "metadata": {},
   "outputs": [],
   "source": [
    "from django.db.models import Value,Subquery"
   ]
  },
  {
   "cell_type": "code",
   "execution_count": null,
   "id": "4df21d4b",
   "metadata": {},
   "outputs": [],
   "source": [
    "get_rental_qs = Rental.objects.filter(belong_to__name=\"Omkar\").values(\n",
    "                \"id\",\"user_uid\",\"username\",\"rental_contract__gala__warehouse_id\"\n",
    "            ).annotate(\n",
    "                total_number_of_galas = ContractRental.objects.filter(\n",
    "                    user__user_uid = OuterRef(\"user_uid\")\n",
    "                ).values(\"user__user_uid\").annotate(\n",
    "                    total_number_of_galas = Count(\"user__user_uid\")\n",
    "                ).values(\"total_number_of_galas\"),\n",
    "            ).annotate(total_number_of_warehouse = ContractRental.objects.filter(user__user_uid = OuterRef(\"user_uid\")).values(\n",
    "                \"gala__warehouse_id\").annotate(total_number_of_warehouse = Count(\"gala__warehouse_id\")).values(\"total_number_of_warehouse\").distinct())"
   ]
  },
  {
   "cell_type": "code",
   "execution_count": 33,
   "id": "acb00865",
   "metadata": {},
   "outputs": [
    {
     "ename": "NameError",
     "evalue": "name 'get_rental_qs' is not defined",
     "output_type": "error",
     "traceback": [
      "\u001b[1;31m---------------------------------------------------------------------------\u001b[0m",
      "\u001b[1;31mNameError\u001b[0m                                 Traceback (most recent call last)",
      "Cell \u001b[1;32mIn[33], line 1\u001b[0m\n\u001b[1;32m----> 1\u001b[0m df \u001b[38;5;241m=\u001b[39m read_frame(\u001b[43mget_rental_qs\u001b[49m)\n",
      "\u001b[1;31mNameError\u001b[0m: name 'get_rental_qs' is not defined"
     ]
    }
   ],
   "source": [
    "df = read_frame(get_rental_qs)"
   ]
  },
  {
   "cell_type": "code",
   "execution_count": 34,
   "id": "bef5f988",
   "metadata": {},
   "outputs": [
    {
     "ename": "NameError",
     "evalue": "name 'df' is not defined",
     "output_type": "error",
     "traceback": [
      "\u001b[1;31m---------------------------------------------------------------------------\u001b[0m",
      "\u001b[1;31mNameError\u001b[0m                                 Traceback (most recent call last)",
      "Cell \u001b[1;32mIn[34], line 1\u001b[0m\n\u001b[1;32m----> 1\u001b[0m \u001b[43mdf\u001b[49m\n",
      "\u001b[1;31mNameError\u001b[0m: name 'df' is not defined"
     ]
    }
   ],
   "source": [
    "df"
   ]
  },
  {
   "cell_type": "code",
   "execution_count": 35,
   "id": "e92ed13c",
   "metadata": {},
   "outputs": [
    {
     "ename": "NameError",
     "evalue": "name 'df' is not defined",
     "output_type": "error",
     "traceback": [
      "\u001b[1;31m---------------------------------------------------------------------------\u001b[0m",
      "\u001b[1;31mNameError\u001b[0m                                 Traceback (most recent call last)",
      "Cell \u001b[1;32mIn[35], line 1\u001b[0m\n\u001b[1;32m----> 1\u001b[0m df \u001b[38;5;241m=\u001b[39m \u001b[43mdf\u001b[49m\u001b[38;5;241m.\u001b[39mdrop_duplicates(subset\u001b[38;5;241m=\u001b[39m[\u001b[38;5;124m'\u001b[39m\u001b[38;5;124musername\u001b[39m\u001b[38;5;124m'\u001b[39m,\u001b[38;5;124m'\u001b[39m\u001b[38;5;124mrental_contract__gala__warehouse_id\u001b[39m\u001b[38;5;124m'\u001b[39m])\n",
      "\u001b[1;31mNameError\u001b[0m: name 'df' is not defined"
     ]
    }
   ],
   "source": [
    "df = df.drop_duplicates(subset=['username','rental_contract__gala__warehouse_id'])"
   ]
  },
  {
   "cell_type": "code",
   "execution_count": 36,
   "id": "8603f89a",
   "metadata": {},
   "outputs": [
    {
     "ename": "NameError",
     "evalue": "name 'df' is not defined",
     "output_type": "error",
     "traceback": [
      "\u001b[1;31m---------------------------------------------------------------------------\u001b[0m",
      "\u001b[1;31mNameError\u001b[0m                                 Traceback (most recent call last)",
      "Cell \u001b[1;32mIn[36], line 1\u001b[0m\n\u001b[1;32m----> 1\u001b[0m df \u001b[38;5;241m=\u001b[39m \u001b[43mdf\u001b[49m\u001b[38;5;241m.\u001b[39miloc[:\u001b[38;5;241m21\u001b[39m,:]\n",
      "\u001b[1;31mNameError\u001b[0m: name 'df' is not defined"
     ]
    }
   ],
   "source": [
    "df = df.iloc[:21,:]"
   ]
  },
  {
   "cell_type": "code",
   "execution_count": 37,
   "id": "90c1ac43",
   "metadata": {
    "scrolled": true
   },
   "outputs": [],
   "source": [
    "# df.dropna(inplace=True)"
   ]
  },
  {
   "cell_type": "code",
   "execution_count": 38,
   "id": "df8f02b6",
   "metadata": {
    "scrolled": false
   },
   "outputs": [
    {
     "ename": "NameError",
     "evalue": "name 'df' is not defined",
     "output_type": "error",
     "traceback": [
      "\u001b[1;31m---------------------------------------------------------------------------\u001b[0m",
      "\u001b[1;31mNameError\u001b[0m                                 Traceback (most recent call last)",
      "Cell \u001b[1;32mIn[38], line 1\u001b[0m\n\u001b[1;32m----> 1\u001b[0m df[\u001b[38;5;124m'\u001b[39m\u001b[38;5;124mwarehouse\u001b[39m\u001b[38;5;124m'\u001b[39m] \u001b[38;5;241m=\u001b[39m \u001b[43mdf\u001b[49m[\u001b[38;5;124m'\u001b[39m\u001b[38;5;124musername\u001b[39m\u001b[38;5;124m'\u001b[39m]\u001b[38;5;241m.\u001b[39mapply(\u001b[38;5;28;01mlambda\u001b[39;00m x: df[(df[\u001b[38;5;124m'\u001b[39m\u001b[38;5;124musername\u001b[39m\u001b[38;5;124m'\u001b[39m] \u001b[38;5;241m==\u001b[39m x)]\u001b[38;5;241m.\u001b[39mcount()[\u001b[38;5;124m'\u001b[39m\u001b[38;5;124mrental_contract__gala__warehouse_id\u001b[39m\u001b[38;5;124m'\u001b[39m])\n",
      "\u001b[1;31mNameError\u001b[0m: name 'df' is not defined"
     ]
    }
   ],
   "source": [
    "df['warehouse'] = df['username'].apply(lambda x: df[(df['username'] == x)].count()['rental_contract__gala__warehouse_id'])"
   ]
  },
  {
   "cell_type": "code",
   "execution_count": 39,
   "id": "62379d30",
   "metadata": {},
   "outputs": [
    {
     "ename": "NameError",
     "evalue": "name 'df' is not defined",
     "output_type": "error",
     "traceback": [
      "\u001b[1;31m---------------------------------------------------------------------------\u001b[0m",
      "\u001b[1;31mNameError\u001b[0m                                 Traceback (most recent call last)",
      "Cell \u001b[1;32mIn[39], line 1\u001b[0m\n\u001b[1;32m----> 1\u001b[0m \u001b[43mdf\u001b[49m\u001b[38;5;241m.\u001b[39mdrop_duplicates(subset\u001b[38;5;241m=\u001b[39m[\u001b[38;5;124m'\u001b[39m\u001b[38;5;124mwarehouse\u001b[39m\u001b[38;5;124m'\u001b[39m])\n",
      "\u001b[1;31mNameError\u001b[0m: name 'df' is not defined"
     ]
    }
   ],
   "source": [
    "df.drop_duplicates(subset=['warehouse'])"
   ]
  },
  {
   "cell_type": "code",
   "execution_count": 40,
   "id": "18037043",
   "metadata": {},
   "outputs": [
    {
     "ename": "NameError",
     "evalue": "name 'df' is not defined",
     "output_type": "error",
     "traceback": [
      "\u001b[1;31m---------------------------------------------------------------------------\u001b[0m",
      "\u001b[1;31mNameError\u001b[0m                                 Traceback (most recent call last)",
      "Cell \u001b[1;32mIn[40], line 1\u001b[0m\n\u001b[1;32m----> 1\u001b[0m \u001b[43mdf\u001b[49m\u001b[38;5;241m.\u001b[39mfillna(\u001b[38;5;241m0\u001b[39m,inplace\u001b[38;5;241m=\u001b[39m\u001b[38;5;28;01mTrue\u001b[39;00m)\n",
      "\u001b[1;31mNameError\u001b[0m: name 'df' is not defined"
     ]
    }
   ],
   "source": [
    "df.fillna(0,inplace=True)"
   ]
  },
  {
   "cell_type": "code",
   "execution_count": 41,
   "id": "45d68331",
   "metadata": {},
   "outputs": [
    {
     "ename": "NameError",
     "evalue": "name 'df' is not defined",
     "output_type": "error",
     "traceback": [
      "\u001b[1;31m---------------------------------------------------------------------------\u001b[0m",
      "\u001b[1;31mNameError\u001b[0m                                 Traceback (most recent call last)",
      "Cell \u001b[1;32mIn[41], line 1\u001b[0m\n\u001b[1;32m----> 1\u001b[0m \u001b[43mdf\u001b[49m\u001b[38;5;241m.\u001b[39mto_dict(\u001b[38;5;124m'\u001b[39m\u001b[38;5;124mindex\u001b[39m\u001b[38;5;124m'\u001b[39m)\u001b[38;5;241m.\u001b[39mvalues()\n",
      "\u001b[1;31mNameError\u001b[0m: name 'df' is not defined"
     ]
    }
   ],
   "source": [
    "df.to_dict('index').values()"
   ]
  },
  {
   "cell_type": "code",
   "execution_count": 42,
   "id": "c2e34b59",
   "metadata": {},
   "outputs": [
    {
     "data": {
      "text/plain": [
       "'51f9c7eb-8f1b-4fcc-9124-58831235d387'"
      ]
     },
     "execution_count": 42,
     "metadata": {},
     "output_type": "execute_result"
    }
   ],
   "source": [
    "'51f9c7eb-8f1b-4fcc-9124-58831235d387'"
   ]
  },
  {
   "cell_type": "code",
   "execution_count": 43,
   "id": "523834ea",
   "metadata": {},
   "outputs": [
    {
     "data": {
      "text/plain": [
       "Value(1)"
      ]
     },
     "execution_count": 43,
     "metadata": {},
     "output_type": "execute_result"
    }
   ],
   "source": [
    "Value(ContractRental.objects.filter(user__user_uid = '51f9c7eb-8f1b-4fcc-9124-58831235d387').values(\"gala__warehouse_id\").distinct().order_by(\"gala__warehouse_id\").annotate(total_number_of_warehouse = Count(\"gala__warehouse_id\")).values(\"total_number_of_warehouse\").count())"
   ]
  },
  {
   "cell_type": "code",
   "execution_count": null,
   "id": "58a6eb3c",
   "metadata": {},
   "outputs": [],
   "source": []
  },
  {
   "cell_type": "code",
   "execution_count": 44,
   "id": "642c1803",
   "metadata": {},
   "outputs": [],
   "source": [
    "get_rental_qs = Rental.objects.filter(belong_to__name=\"Omkar\").values(\n",
    "                \"id\",\"user_uid\",\"username\",\"rental_contract__gala__warehouse_id\"\n",
    "            ).distinct().annotate(\n",
    "                total_number_of_galas = ContractRental.objects.filter(\n",
    "                    user__user_uid = OuterRef(\"user_uid\")\n",
    "                ).values(\"user__user_uid\").annotate(\n",
    "                    total_number_of_galas = Count(\"user__user_uid\")\n",
    "                ).values(\"total_number_of_galas\"),\n",
    "            ).annotate(total_number_of_warehouse = ContractRental.objects.filter(user__user_uid = OuterRef(\"user_uid\")).values(\n",
    "                \"gala__warehouse_id\").annotate(total_number_of_warehouse = Count(\"gala__warehouse_id\")).values(\"total_number_of_warehouse\"))"
   ]
  },
  {
   "cell_type": "code",
   "execution_count": 45,
   "id": "7dd4ee9c",
   "metadata": {},
   "outputs": [],
   "source": [
    "# read_frame(get_rental_qs)"
   ]
  },
  {
   "cell_type": "code",
   "execution_count": 20,
   "id": "6d0afa3f",
   "metadata": {},
   "outputs": [],
   "source": [
    "from django.db.models import F,CharField,Value\n",
    "from django.db.models.functions import Concat"
   ]
  },
  {
   "cell_type": "code",
<<<<<<< HEAD
   "execution_count": 33,
=======
   "execution_count": 96,
>>>>>>> c59c3c9ca1ee91f2ccbe13dfbebd23aeabd48fd2
   "id": "16fa67b9",
   "metadata": {},
   "outputs": [
    {
     "data": {
      "text/plain": [
       "<QuerySet [{'uid': UUID('15441325-c876-4901-9fe9-ae563116400c'), 'property_name': 'Omkar Warehouse 3'}, {'uid': UUID('745d5452-6e7a-4d73-99cf-731fe92aaeef'), 'property_name': 'Omkar Warehouse 2'}]>"
      ]
     },
     "execution_count": 96,
     "metadata": {},
     "output_type": "execute_result"
    }
   ],
   "source": [
    "Property.objects.filter(company__name = \"Omkar\",is_allotted_to_farmer = False\n",
    "                       ).values(\"uid\",\"property_name\")"
   ]
  },
  {
   "cell_type": "code",
   "execution_count": 72,
   "id": "f081a41d",
   "metadata": {},
   "outputs": [
    {
     "data": {
      "text/plain": [
       "'15441325-c876-4901-9fe9-ae563116400c'"
      ]
     },
     "execution_count": 72,
     "metadata": {},
     "output_type": "execute_result"
    }
   ],
   "source": [
    "'15441325-c876-4901-9fe9-ae563116400c'"
   ]
  },
  {
   "cell_type": "code",
   "execution_count": 83,
   "id": "8457122e",
   "metadata": {},
   "outputs": [
    {
     "data": {
      "text/plain": [
       "<QuerySet [<Property: Omkar Warehouse 3>]>"
      ]
     },
     "execution_count": 83,
     "metadata": {},
     "output_type": "execute_result"
    }
   ],
   "source": [
    "Property.objects.filter(company__name = \"Omkar\",uid = '15441325-c876-4901-9fe9-ae563116400c',is_allotted_to_farmer = False\n",
    "        ).prefetch_related(\"get_gala\")\n",
    "\n",
    "\n",
    "\n",
    "\n"
   ]
  },
  {
   "cell_type": "code",
   "execution_count": null,
   "id": "8b89167e",
   "metadata": {},
   "outputs": [],
   "source": [
    "queryset = Gala.objects.filter(warehouse_id__in = [17]).values(\"uid\",\"warehouse__property_name\").annotate(\n",
    "    gala__uid=Concat(F('uid'), Value(f' -- '), F('warehouse__property_name'), output_field=CharField())\n",
    ").values(\"uid\",\"gala__uid\")"
   ]
  },
  {
   "cell_type": "code",
   "execution_count": 34,
   "id": "f081a41d",
   "metadata": {},
   "outputs": [
    {
     "data": {
      "text/plain": [
       "<QuerySet [{'uid': UUID('57b04eda-7c76-4b82-9427-96a91b6e0189'), 'gala__uid': '57b04eda7c764b82942796a91b6e0189 -- Omkar Warehouse 3'}, {'uid': UUID('16d55efd-8de0-455b-ab65-46633ef40cfe'), 'gala__uid': '16d55efd8de0455bab6546633ef40cfe -- Omkar Warehouse 3'}, {'uid': UUID('f4f4da6b-5a5d-4c5e-ad56-f36a7a8f8b12'), 'gala__uid': 'f4f4da6b5a5d4c5ead56f36a7a8f8b12 -- Omkar Warehouse 3'}, {'uid': UUID('d0889541-8946-412c-a8c6-88b5298fba6e'), 'gala__uid': 'd08895418946412ca8c688b5298fba6e -- Omkar Warehouse 3'}, {'uid': UUID('569ec804-ade7-4047-98a0-6ee06a78fdab'), 'gala__uid': '569ec804ade7404798a06ee06a78fdab -- Omkar Warehouse 3'}, {'uid': UUID('766035a9-7f0b-46d4-8381-4b02196f2c46'), 'gala__uid': '766035a97f0b46d483814b02196f2c46 -- Omkar Warehouse 3'}, {'uid': UUID('fe484d5b-b075-4d25-94e3-8655e589019e'), 'gala__uid': 'fe484d5bb0754d2594e38655e589019e -- Omkar Warehouse 3'}, {'uid': UUID('0c0a0e33-88e9-43b8-9f27-4d1cb27244e1'), 'gala__uid': '0c0a0e3388e943b89f274d1cb27244e1 -- Omkar Warehouse 3'}, {'uid': UUID('3c3ceb21-0351-4e9d-b4de-5bdc274b2a3f'), 'gala__uid': '3c3ceb2103514e9db4de5bdc274b2a3f -- Omkar Warehouse 3'}, {'uid': UUID('1075efc1-69ec-40d0-ac14-ef9631a26340'), 'gala__uid': '1075efc169ec40d0ac14ef9631a26340 -- Omkar Warehouse 3'}, {'uid': UUID('05d5e54c-3afe-411c-b9fb-91a4bfce2d8f'), 'gala__uid': '05d5e54c3afe411cb9fb91a4bfce2d8f -- Omkar Warehouse 3'}, {'uid': UUID('2358fef4-900a-4379-819c-e68ff9178f8e'), 'gala__uid': '2358fef4900a4379819ce68ff9178f8e -- Omkar Warehouse 3'}, {'uid': UUID('90035859-bf19-4aec-b09a-aa5b0d1bd70d'), 'gala__uid': '90035859bf194aecb09aaa5b0d1bd70d -- Omkar Warehouse 3'}]>"
      ]
     },
     "execution_count": 34,
     "metadata": {},
     "output_type": "execute_result"
    }
   ],
   "source": [
    "queryset"
   ]
  },
  {
   "cell_type": "code",
   "execution_count": null,
<<<<<<< HEAD
   "id": "f562e1bf",
=======
   "id": "3876ecb7",
   "metadata": {},
   "outputs": [],
   "source": [
    "warehouse__uid=OuterRef(\"uid\"),\n",
    "                                                   is_allotted = False,\n",
    "                                                   is_allotted_to_rental = False,\n",
    "                                                   is_allotted_to_farmer = False\n",
    "                                                          ).values(\"gala_number\")"
   ]
  },
  {
   "cell_type": "code",
   "execution_count": 95,
   "id": "014fd956",
   "metadata": {},
   "outputs": [
    {
     "data": {
      "text/plain": [
       "<QuerySet [<Gala: 82a74cb7-b459-4906-9cef-b4b3c552600c>, <Gala: 0a92e81f-03a8-4977-8de4-3b01b8bb908c>, <Gala: da530027-a33a-41bf-9af7-949b2e454b37>]>"
      ]
     },
     "execution_count": 95,
     "metadata": {},
     "output_type": "execute_result"
    }
   ],
   "source": [
    "Company.objects.get(name ='Omkar').get_properties.get(uid='15441325-c876-4901-9fe9-ae563116400c').get_gala.filter(is_allotted=False,\n",
    "                                                   is_allotted_to_rental= False,\n",
    "                                                   is_allotted_to_farmer=False)"
   ]
  },
  {
   "cell_type": "code",
   "execution_count": null,
   "id": "228aed31",
   "metadata": {},
   "outputs": [],
   "source": []
  },
  {
   "cell_type": "code",
   "execution_count": null,
   "id": "033ba08d",
   "metadata": {},
   "outputs": [],
   "source": []
  },
  {
   "cell_type": "code",
   "execution_count": null,
   "id": "0ec56e03",
>>>>>>> c59c3c9ca1ee91f2ccbe13dfbebd23aeabd48fd2
   "metadata": {},
   "outputs": [],
   "source": [
    "AnyModel.objects.filter(**kwargs).annotate(full_name=Concat(F('model__user_first_name'), Value(' '), F('model__user_last_name'), output_field=CharField()))"
   ]
  }
 ],
 "metadata": {
  "kernelspec": {
   "display_name": "Python 3 (ipykernel)",
   "language": "python",
   "name": "python3"
  },
  "language_info": {
   "codemirror_mode": {
    "name": "ipython",
    "version": 3
   },
   "file_extension": ".py",
   "mimetype": "text/x-python",
   "name": "python",
   "nbconvert_exporter": "python",
   "pygments_lexer": "ipython3",
   "version": "3.11.0rc1"
  }
 },
 "nbformat": 4,
 "nbformat_minor": 5
}
